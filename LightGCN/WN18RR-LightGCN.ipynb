{
 "cells": [
  {
   "cell_type": "markdown",
   "id": "9f9dd09d",
   "metadata": {},
   "source": [
    "# Import Libraries"
   ]
  },
  {
   "cell_type": "code",
   "execution_count": null,
   "id": "7eaca170",
   "metadata": {},
   "outputs": [],
   "source": [
    "import random\n",
    "import copy\n",
    "from pathlib import Path\n",
    "from typing import List, Tuple, Dict\n",
    "from collections import defaultdict\n",
    "from datetime import datetime\n",
    "\n",
    "import numpy as np\n",
    "import matplotlib.pyplot as plt\n",
    "from tqdm import tqdm\n",
    "from sklearn.metrics import roc_auc_score, average_precision_score, recall_score\n",
    "\n",
    "import torch\n",
    "import torch.nn as nn\n",
    "import torch.nn.functional as F\n",
    "from torch_geometric.utils import degree, add_self_loops\n",
    "from torch_geometric.nn import MessagePassing"
   ]
  },
  {
   "cell_type": "markdown",
   "id": "1229a7677039018",
   "metadata": {},
   "source": [
    "# Dataset Loading\n"
   ]
  },
  {
   "cell_type": "code",
   "execution_count": 103,
   "id": "a9927759",
   "metadata": {},
   "outputs": [
    {
     "name": "stdout",
     "output_type": "stream",
     "text": [
      "Validation file: ..\\WN18RR\\valid.txt\n",
      "..\\WN18RR\\train.txt\n",
      "..\\WN18RR\\test.txt\n",
      "..\\WN18RR\\valid.txt\n"
     ]
    }
   ],
   "source": [
    "# Dataset configuration to switch between datasets easily\n",
    "class DatasetConfig:\n",
    "    def __init__(self, name, base_path, has_validation=True):\n",
    "        self.name = name\n",
    "        self.base_path = Path(base_path)\n",
    "        self.has_validation = has_validation\n",
    "        \n",
    "        self.train_path = self.base_path / \"train.txt\"\n",
    "        self.test_path = self.base_path / \"test.txt\" \n",
    "        self.valid_path = self.base_path / \"valid.txt\" if has_validation else None\n",
    "    \n",
    "    def __str__(self):\n",
    "        return f\"Dataset: {self.name} | Path: {self.base_path}\"\n",
    "\n",
    "# Available dataset configurations\n",
    "DATASETS = {\n",
    "    'WN18RR': DatasetConfig('WN18RR', '../WN18RR', has_validation=True),\n",
    "    # Add more datasets here as needed\n",
    "}\n",
    "\n",
    "# Select dataset to use\n",
    "CURRENT_DATASET = 'WN18RR'\n",
    "config = DATASETS[CURRENT_DATASET]\n",
    "\n",
    "if config.valid_path:\n",
    "    print(f\"Validation file: {config.valid_path}\")\n",
    "\n",
    "# Check if files exist\n",
    "for path in [config.train_path, config.test_path, config.valid_path]:\n",
    "    if path and path.exists():\n",
    "        print(f\"{path}\")\n",
    "    elif path:\n",
    "        print(f\"{path} - File not found!\")"
   ]
  },
  {
   "cell_type": "code",
   "execution_count": 104,
   "id": "initial_id",
   "metadata": {
    "ExecuteTime": {
     "end_time": "2025-09-22T10:16:03.385441Z",
     "start_time": "2025-09-22T10:16:03.377007Z"
    },
    "collapsed": true
   },
   "outputs": [
    {
     "name": "stdout",
     "output_type": "stream",
     "text": [
      "Using device: cpu\n",
      "Loaded 86835 triples from ..\\WN18RR\\train.txt\n",
      "Loaded 3134 triples from ..\\WN18RR\\test.txt\n",
      "Loaded 3034 triples from ..\\WN18RR\\valid.txt\n",
      "\n",
      "Dataset Statistics for WN18RR:\n",
      "Training triples: 86,835\n",
      "Test triples: 3,134\n",
      "Validation triples: 3,034\n",
      "\n",
      "Vocabulary Statistics:\n",
      "Entities: 40,943\n",
      "Relations: 11\n",
      "\n",
      "Tensor shapes:\n",
      "Train: torch.Size([86835, 3])\n",
      "Test: torch.Size([3134, 3])\n",
      "Valid: torch.Size([3034, 3])\n",
      "\n",
      "Building graph structure...\n",
      "Graph edges (with self-loops): 214,613\n",
      "Graph edge_index shape: (2, 214613)\n"
     ]
    }
   ],
   "source": [
    "SEED = 42\n",
    "random.seed(SEED); np.random.seed(SEED); torch.manual_seed(SEED)\n",
    "\n",
    "device = torch.device(\"cuda\" if torch.cuda.is_available() else \"cpu\")\n",
    "print(f\"Using device: {device}\")\n",
    "\n",
    "def load_dataset(path: Path) -> List[Tuple[str, str, str]]:\n",
    "    \"\"\"Load dataset from tab-separated file\"\"\"\n",
    "    data = []\n",
    "    if not path.exists():\n",
    "        raise FileNotFoundError(f\"Dataset file not found: {path}\")\n",
    "    \n",
    "    with open(path, \"r\") as f:\n",
    "        for line_num, line in enumerate(f, 1):\n",
    "            try:\n",
    "                parts = line.strip().split(\"\\t\")\n",
    "                if len(parts) != 3:\n",
    "                    print(f\"Warning: Line {line_num} has {len(parts)} parts, expected 3\")\n",
    "                    continue\n",
    "                h, r, t = parts\n",
    "                data.append((h, r, t))\n",
    "            except Exception as e:\n",
    "                print(f\"Error parsing line {line_num}: {e}\")\n",
    "                continue\n",
    "    \n",
    "    print(f\"Loaded {len(data)} triples from {path}\")\n",
    "    return data\n",
    "\n",
    "# Load datasets using the configuration\n",
    "train_dataset = load_dataset(config.train_path)\n",
    "test_dataset = load_dataset(config.test_path)\n",
    "valid_dataset = load_dataset(config.valid_path) if config.valid_path else []\n",
    "\n",
    "print(f\"\\nDataset Statistics for {config.name}:\")\n",
    "print(f\"Training triples: {len(train_dataset):,}\")\n",
    "print(f\"Test triples: {len(test_dataset):,}\")\n",
    "print(f\"Validation triples: {len(valid_dataset):,}\")\n",
    "\n",
    "# Build ID maps\n",
    "entities: set[str] = set()\n",
    "relations: set[str] = set()\n",
    "all_data = train_dataset + test_dataset + valid_dataset\n",
    "\n",
    "for h, r, t in all_data:\n",
    "    entities.add(h); entities.add(t); relations.add(r)\n",
    "\n",
    "ent2id: Dict[str, int] = {e: i for i, e in enumerate(sorted(entities))}\n",
    "rel2id: Dict[str, int] = {r: i for i, r in enumerate(sorted(relations))}\n",
    "id2ent = {v: k for k, v in ent2id.items()}\n",
    "id2rel = {v: k for k, v in rel2id.items()}\n",
    "\n",
    "num_entities = len(ent2id)\n",
    "num_relations = len(rel2id)\n",
    "print(f\"\\nVocabulary Statistics:\")\n",
    "print(f\"Entities: {num_entities:,}\")\n",
    "print(f\"Relations: {num_relations:,}\")\n",
    "\n",
    "def triples_to_tensor(triples: List[Tuple[str, str, str]]) -> torch.LongTensor:\n",
    "    \"\"\"Convert string triples to tensor of IDs\"\"\"\n",
    "    if not triples:\n",
    "        return torch.empty((0, 3), dtype=torch.long)\n",
    "    arr = np.array([(ent2id[h], rel2id[r], ent2id[t]) for h, r, t in triples], dtype=np.int64)\n",
    "    return torch.from_numpy(arr)\n",
    "\n",
    "# Convert to tensors and move to device\n",
    "train_triples = triples_to_tensor(train_dataset).to(device)\n",
    "test_triples = triples_to_tensor(test_dataset).to(device)\n",
    "valid_triples = triples_to_tensor(valid_dataset).to(device)\n",
    "\n",
    "print(f\"\\nTensor shapes:\")\n",
    "print(f\"Train: {train_triples.shape}\")\n",
    "print(f\"Test: {test_triples.shape}\")\n",
    "print(f\"Valid: {valid_triples.shape}\")\n",
    "\n",
    "# Build collapsed undirected graph for LightGCN encoder\n",
    "print(\"\\nBuilding graph structure...\")\n",
    "edges = []\n",
    "for h, r, t in train_triples.tolist():\n",
    "    edges.append((h, t))\n",
    "    edges.append((t, h))  # Add reverse edges for undirected graph\n",
    "\n",
    "edge_index = torch.tensor(edges, dtype=torch.long, device=device).t().contiguous()\n",
    "edge_index, _ = add_self_loops(edge_index, num_nodes=num_entities)\n",
    "\n",
    "print(f\"Graph edges (with self-loops): {edge_index.shape[1]:,}\")\n",
    "print(f\"Graph edge_index shape: {tuple(edge_index.shape)}\")"
   ]
  },
  {
   "cell_type": "markdown",
   "id": "0beecc39",
   "metadata": {},
   "source": [
    "# Helper Functions"
   ]
  },
  {
   "cell_type": "markdown",
   "id": "6756d873",
   "metadata": {},
   "source": [
    "### Evaluation Metrics\n",
    "- **AUC**: Area Under the ROC Curve - measures the model's ability to distinguish between positive and negative examples (0.5 = random, 1.0 = perfect)\n",
    "- **AP**: Average Precision - summarizes precision-recall curve as weighted mean of precisions at each threshold, emphasizing high-precision retrievals\n",
    "- **Recall**: True positive rate - fraction of actual positive examples that were correctly identified\n",
    "- **Hits@K**: Percentage of correct entities in top-K predictions (e.g., Hits@10 = % of times correct entity appears in top 10 ranked predictions)\n",
    "- **MR**: Mean Rank of correct entities - average position of correct entities in ranked lists (lower is better)\n",
    "- **MRR**: Mean Reciprocal Rank of correct entities - average of 1/rank for correct entities, emphasizes getting correct answers at top positions (higher is better)"
   ]
  },
  {
   "cell_type": "code",
   "execution_count": 105,
   "id": "2f364de3",
   "metadata": {},
   "outputs": [],
   "source": [
    "@torch.no_grad()\n",
    "def batch_scores(z: torch.Tensor, pairs: torch.LongTensor, batch_size: int = 4096) -> torch.Tensor:\n",
    "    \"\"\"Calculate scores for pairs in batches to avoid memory issues\"\"\"\n",
    "    scores = []\n",
    "    for i in range(0, pairs.size(1), batch_size):\n",
    "        batch = pairs[:, i:i+batch_size]\n",
    "        s = (z[batch[0]] * z[batch[1]]).sum(dim=1)\n",
    "        scores.append(s)\n",
    "    return torch.cat(scores, dim=0)"
   ]
  },
  {
   "cell_type": "code",
   "execution_count": 106,
   "id": "947045e7",
   "metadata": {},
   "outputs": [],
   "source": [
    "@torch.no_grad()\n",
    "def evaluate_ranking_metrics(model, edge_index, test_triples, num_entities, \n",
    "                            k_values=[1, 3, 5, 10], batch_size=64, \n",
    "                            rel_edge_index=None, edge_type=None):\n",
    "\n",
    "    model.eval()\n",
    "    \n",
    "    # Get entity embeddings\n",
    "    if rel_edge_index is not None and edge_type is not None:\n",
    "        # R-LightGCN case\n",
    "        z = model.encode(rel_edge_index, edge_type)\n",
    "        use_relations = hasattr(model, 'rel_emb')  # Check if model has relation embeddings\n",
    "    else:\n",
    "        # LightGCN case\n",
    "        z = model.encode(edge_index)\n",
    "        use_relations = False\n",
    "    \n",
    "    all_metrics = {\n",
    "        'head': {'auc': [], 'ap': [], 'recall': [], 'mr': [], 'mrr': [], **{f'hits@{k}': [] for k in k_values}},\n",
    "        'tail': {'auc': [], 'ap': [], 'recall': [], 'mr': [], 'mrr': [], **{f'hits@{k}': [] for k in k_values}}\n",
    "    }\n",
    "    \n",
    "    # Process in batches to avoid memory issues\n",
    "    num_batches = (len(test_triples) + batch_size - 1) // batch_size\n",
    "    \n",
    "    for mode in ['head', 'tail']:\n",
    "        print(f\"Evaluating {mode} corruption...\")\n",
    "        \n",
    "        for batch_idx in range(num_batches):\n",
    "            start_idx = batch_idx * batch_size\n",
    "            end_idx = min((batch_idx + 1) * batch_size, len(test_triples))\n",
    "            batch_triples = test_triples[start_idx:end_idx]\n",
    "            \n",
    "            if len(batch_triples) == 0:\n",
    "                continue\n",
    "                \n",
    "            # For each triple in batch, rank against all entities\n",
    "            for triple in batch_triples:\n",
    "                h, r, t = triple.cpu().tolist()\n",
    "                \n",
    "                if mode == 'head':\n",
    "                    target_entity = h\n",
    "                    if use_relations:\n",
    "                        # R-LightGCN: Use relation-aware scoring\n",
    "                        all_heads = torch.arange(num_entities, device=device)\n",
    "                        all_pairs = torch.stack([all_heads, torch.full_like(all_heads, t)], dim=0)\n",
    "                        rel_types = torch.full((num_entities,), r, device=device)\n",
    "                        scores = model.decode(z, all_pairs, rel_types)\n",
    "                    else:\n",
    "                        # LightGCN: Simple dot product\n",
    "                        scores = (z * z[t]).sum(dim=1)\n",
    "                else:\n",
    "                    target_entity = t\n",
    "                    if use_relations:\n",
    "                        # R-LightGCN: Use relation-aware scoring\n",
    "                        all_tails = torch.arange(num_entities, device=device)\n",
    "                        all_pairs = torch.stack([torch.full_like(all_tails, h), all_tails], dim=0)\n",
    "                        rel_types = torch.full((num_entities,), r, device=device)\n",
    "                        scores = model.decode(z, all_pairs, rel_types)\n",
    "                    else:\n",
    "                        # LightGCN: Simple dot product\n",
    "                        scores = (z[h] * z).sum(dim=1)\n",
    "                \n",
    "                # Get rankings (higher scores = better ranks)\n",
    "                _, sorted_indices = torch.sort(scores, descending=True)\n",
    "                rank = (sorted_indices == target_entity).nonzero(as_tuple=True)[0].item() + 1\n",
    "                \n",
    "                # Create binary labels for AUC/AP\n",
    "                y_true = torch.zeros(num_entities, device=device)\n",
    "                y_true[target_entity] = 1\n",
    "                y_score = scores\n",
    "                \n",
    "                # Convert to CPU for sklearn\n",
    "                y_true_cpu = y_true.cpu().numpy()\n",
    "                y_score_cpu = y_score.cpu().numpy()\n",
    "                \n",
    "                # Calculate metrics\n",
    "                try:\n",
    "                    auc = roc_auc_score(y_true_cpu, y_score_cpu)\n",
    "                    ap = average_precision_score(y_true_cpu, y_score_cpu)\n",
    "                except:\n",
    "                    auc = 0.5  # Random performance\n",
    "                    ap = 1.0 / num_entities\n",
    "                \n",
    "                # Calculate recall\n",
    "                y_pred_cpu = (y_score_cpu > np.median(y_score_cpu)).astype(int)\n",
    "                recall = recall_score(y_true_cpu, y_pred_cpu)       \n",
    "\n",
    "                mr = rank\n",
    "                mrr = 1.0 / rank\n",
    "                \n",
    "                # Hits@K\n",
    "                hits_at_k = {}\n",
    "                for k in k_values:\n",
    "                    hits_at_k[f'hits@{k}'] = 1.0 if rank <= k else 0.0\n",
    "                \n",
    "                # Store metrics\n",
    "                all_metrics[mode]['auc'].append(auc)\n",
    "                all_metrics[mode]['ap'].append(ap)\n",
    "                all_metrics[mode]['recall'].append(recall)\n",
    "                all_metrics[mode]['mr'].append(mr)\n",
    "                all_metrics[mode]['mrr'].append(mrr)\n",
    "                for k in k_values:\n",
    "                    all_metrics[mode][f'hits@{k}'].append(hits_at_k[f'hits@{k}'])\n",
    "    \n",
    "    # Average all metrics\n",
    "    final_metrics = {}\n",
    "    for mode in ['head', 'tail']:\n",
    "        final_metrics[mode] = {}\n",
    "        for metric_name, values in all_metrics[mode].items():\n",
    "            if values:  # Check if list is not empty\n",
    "                final_metrics[mode][metric_name] = np.mean(values)\n",
    "            else:\n",
    "                final_metrics[mode][metric_name] = 0.0\n",
    "    \n",
    "    return final_metrics"
   ]
  },
  {
   "cell_type": "code",
   "execution_count": 107,
   "id": "6449f619",
   "metadata": {},
   "outputs": [],
   "source": [
    "def log_and_track_metrics(epoch, avg_loss, val_ranking_metrics, metrics_tracker, model_name=\"Model\"):\n",
    "    \"\"\"\n",
    "    Utility function to track and log training metrics\n",
    "    \n",
    "    Args:\n",
    "        epoch: Current training epoch\n",
    "        avg_loss: Average loss for the epoch\n",
    "        val_ranking_metrics: Dictionary containing head/tail metrics from evaluate_ranking_metrics\n",
    "        metrics_tracker: MetricsTracker instance to store metrics\n",
    "        model_name: Name of the model for logging (e.g., \"LightGCN\", \"R-LightGCN\")\n",
    "    \"\"\"\n",
    "    # Track ALL metrics\n",
    "    metrics_dict = {\n",
    "        'epoch': epoch,\n",
    "        'loss': avg_loss,\n",
    "        'val_auc_head': val_ranking_metrics['head']['auc'],\n",
    "        'val_auc_tail': val_ranking_metrics['tail']['auc'],\n",
    "        'val_ap_head': val_ranking_metrics['head']['ap'],\n",
    "        'val_ap_tail': val_ranking_metrics['tail']['ap'],\n",
    "        'val_mrr_head': val_ranking_metrics['head']['mrr'],\n",
    "        'val_mrr_tail': val_ranking_metrics['tail']['mrr'],\n",
    "        'val_mr_head': val_ranking_metrics['head']['mr'],\n",
    "        'val_mr_tail': val_ranking_metrics['tail']['mr'],\n",
    "        'val_hits@1_head': val_ranking_metrics['head']['hits@1'],\n",
    "        'val_hits@1_tail': val_ranking_metrics['tail']['hits@1'],\n",
    "        'val_hits@10_head': val_ranking_metrics['head']['hits@10'], \n",
    "        'val_hits@10_tail': val_ranking_metrics['tail']['hits@10'],\n",
    "    }\n",
    "    \n",
    "    metrics_tracker.add(**metrics_dict)\n",
    "    \n",
    "    # Print formatted metrics\n",
    "    print(f\"[{model_name}-COMP] Epoch {epoch:03d} | Loss {avg_loss:.4f}\")\n",
    "    print(f\"  AUC (H/T): {val_ranking_metrics['head']['auc']:.4f}/{val_ranking_metrics['tail']['auc']:.4f}\")\n",
    "    print(f\"  AP (H/T): {val_ranking_metrics['head']['ap']:.4f}/{val_ranking_metrics['tail']['ap']:.4f}\")\n",
    "    print(f\"  MRR (H/T): {val_ranking_metrics['head']['mrr']:.4f}/{val_ranking_metrics['tail']['mrr']:.4f}\")\n",
    "    print(f\"  Hits@1 (H/T): {val_ranking_metrics['head']['hits@1']:.4f}/{val_ranking_metrics['tail']['hits@1']:.4f}\")\n",
    "    print(f\"  Hits@10 (H/T): {val_ranking_metrics['head']['hits@10']:.4f}/{val_ranking_metrics['tail']['hits@10']:.4f}\")\n",
    "    print(f\"  MR (H/T): {val_ranking_metrics['head']['mr']:.4f}/{val_ranking_metrics['tail']['mr']:.4f}\")"
   ]
  },
  {
   "cell_type": "code",
   "execution_count": 108,
   "id": "315071c9",
   "metadata": {},
   "outputs": [],
   "source": [
    "class MetricsTracker:\n",
    "    def __init__(self):\n",
    "        self.metrics = defaultdict(list)\n",
    "    \n",
    "    def add(self, epoch, **kwargs):\n",
    "        self.metrics['epoch'].append(epoch)\n",
    "        for key, value in kwargs.items():\n",
    "            self.metrics[key].append(value)\n",
    "    \n",
    "    def plot(self, title=\"Training Metrics\"):\n",
    "        fig, axes = plt.subplots(3, 3, figsize=(15, 12))\n",
    "        fig.suptitle(title)\n",
    "        \n",
    "        # Loss\n",
    "        axes[0,0].plot(self.metrics['epoch'], self.metrics['loss'])\n",
    "        axes[0,0].set_title('Training Loss')\n",
    "        axes[0,0].set_xlabel('Epoch')\n",
    "        axes[0,0].set_ylabel('Loss')\n",
    "        \n",
    "        # AUC\n",
    "        if 'val_auc_head' in self.metrics:\n",
    "            axes[0,1].plot(self.metrics['epoch'], self.metrics['val_auc_head'], label='Head')\n",
    "            axes[0,1].plot(self.metrics['epoch'], self.metrics['val_auc_tail'], label='Tail')\n",
    "            axes[0,1].set_title('Validation AUC')\n",
    "            axes[0,1].set_xlabel('Epoch')\n",
    "            axes[0,1].set_ylabel('AUC')\n",
    "            axes[0,1].legend()\n",
    "        \n",
    "        # AP\n",
    "        if 'val_ap_head' in self.metrics:\n",
    "            axes[0,2].plot(self.metrics['epoch'], self.metrics['val_ap_head'], label='Head')\n",
    "            axes[0,2].plot(self.metrics['epoch'], self.metrics['val_ap_tail'], label='Tail')\n",
    "            axes[0,2].set_title('Validation AP')\n",
    "            axes[0,2].set_xlabel('Epoch')\n",
    "            axes[0,2].set_ylabel('AP')\n",
    "            axes[0,2].legend()\n",
    "        \n",
    "        # MRR\n",
    "        if 'val_mrr_head' in self.metrics:\n",
    "            axes[1,0].plot(self.metrics['epoch'], self.metrics['val_mrr_head'], label='Head')\n",
    "            axes[1,0].plot(self.metrics['epoch'], self.metrics['val_mrr_tail'], label='Tail')\n",
    "            axes[1,0].set_title('Validation MRR')\n",
    "            axes[1,0].set_xlabel('Epoch')\n",
    "            axes[1,0].set_ylabel('MRR')\n",
    "            axes[1,0].legend()\n",
    "        \n",
    "        # MR (lower is better)\n",
    "        if 'val_mr_head' in self.metrics:\n",
    "            axes[2,0].plot(self.metrics['epoch'], self.metrics['val_mr_head'], label='Head')\n",
    "            axes[2,0].plot(self.metrics['epoch'], self.metrics['val_mr_tail'], label='Tail')\n",
    "            axes[2,0].set_title('Validation MR (lower=better)')\n",
    "            axes[2,0].set_xlabel('Epoch')\n",
    "            axes[2,0].set_ylabel('MR')\n",
    "            axes[2,0].legend()\n",
    "\n",
    "        # Hits@1\n",
    "        if 'val_hits@1_head' in self.metrics:\n",
    "            axes[1,1].plot(self.metrics['epoch'], self.metrics['val_hits@1_head'], label='Head')\n",
    "            axes[1,1].plot(self.metrics['epoch'], self.metrics['val_hits@1_tail'], label='Tail')\n",
    "            axes[1,1].set_title('Validation Hits@1')\n",
    "            axes[1,1].set_xlabel('Epoch')\n",
    "            axes[1,1].set_ylabel('Hits@1')\n",
    "            axes[1,1].legend()\n",
    "        \n",
    "        # Hits@10\n",
    "        if 'val_hits@10_head' in self.metrics:\n",
    "            axes[1,2].plot(self.metrics['epoch'], self.metrics['val_hits@10_head'], label='Head')\n",
    "            axes[1,2].plot(self.metrics['epoch'], self.metrics['val_hits@10_tail'], label='Tail')\n",
    "            axes[1,2].set_title('Validation Hits@10')\n",
    "            axes[1,2].set_xlabel('Epoch')\n",
    "            axes[1,2].set_ylabel('Hits@10')\n",
    "            axes[1,2].legend()\n",
    "        \n",
    "        # Remove unused subplots\n",
    "        axes[2,1].remove()\n",
    "        axes[2,2].remove()\n",
    "        \n",
    "        plt.tight_layout()\n",
    "        plt.show()"
   ]
  },
  {
   "cell_type": "markdown",
   "id": "8399de0a",
   "metadata": {},
   "source": [
    "### Negative Sampling\n",
    "- A training technique used in knowledge graph link prediction to create \"negative examples\", triples that are likely to be false. \n",
    "- Since knowledge graphs only contain positive facts (true triples), we need to artificially create negative examples for the model to learn what relationships are incorrect.\n",
    "- Both head and tail corruptions are used to train the model to understand connections flowing in both directions. Model learns \"What subjects fit this relation-object\" and \"What object fits this subject-relation\"."
   ]
  },
  {
   "cell_type": "code",
   "execution_count": 110,
   "id": "ef898ab7",
   "metadata": {},
   "outputs": [],
   "source": [
    "@torch.no_grad()\n",
    "def pairs_from_triples(triples: torch.LongTensor) -> torch.LongTensor:\n",
    "    \"\"\"\n",
    "    Convert (h, r, t) -> pairs [2, N] = (h, t) for decoding on collapsed graph.\n",
    "    \"\"\"\n",
    "    return triples[:, [0, 2]].t().contiguous()  # [2, N]\n",
    "\n",
    "@torch.no_grad()\n",
    "def negative_sample_heads(triples: torch.LongTensor, num_nodes: int) -> torch.LongTensor:\n",
    "    \"\"\"\n",
    "    Corrupt heads: (h, r, t) -> (h', t)\n",
    "    Returns pairs [2, N].\n",
    "    \"\"\"\n",
    "    N = triples.size(0)\n",
    "    neg_h = torch.randint(0, num_nodes, (N,), device=triples.device)\n",
    "    t = triples[:, 2]\n",
    "    return torch.stack([neg_h, t], dim=0)\n",
    "\n",
    "@torch.no_grad()\n",
    "def negative_sample_tails(triples: torch.LongTensor, num_nodes: int) -> torch.LongTensor:\n",
    "    \"\"\"\n",
    "    Corrupt tails: (h, r, t) -> (h, t')\n",
    "    Returns pairs [2, N].\n",
    "    \"\"\"\n",
    "    N = triples.size(0)\n",
    "    h = triples[:, 0]\n",
    "    neg_t = torch.randint(0, num_nodes, (N,), device=triples.device)\n",
    "    return torch.stack([h, neg_t], dim=0)\n"
   ]
  },
  {
   "cell_type": "markdown",
   "id": "82c6e75c",
   "metadata": {},
   "source": [
    "### Early Stopping"
   ]
  },
  {
   "cell_type": "code",
   "execution_count": 113,
   "id": "75e79c1e",
   "metadata": {},
   "outputs": [],
   "source": [
    "class EarlyStopping:\n",
    "    def __init__(self, patience=10, min_delta=0.001, restore_best_weights=True, metric='avg_auc'):\n",
    "        self.patience = patience\n",
    "        self.min_delta = min_delta\n",
    "        self.restore_best_weights = restore_best_weights\n",
    "        self.metric = metric\n",
    "        self.best_score = None\n",
    "        self.counter = 0\n",
    "        self.best_weights = None\n",
    "        \n",
    "    def __call__(self, current_metrics, model):\n",
    "        # Calculate score based on chosen metric\n",
    "        if self.metric == 'avg_auc':\n",
    "            score = (current_metrics['head']['auc'] + current_metrics['tail']['auc']) / 2\n",
    "        elif self.metric == 'avg_mrr':\n",
    "            score = (current_metrics['head']['mrr'] + current_metrics['tail']['mrr']) / 2\n",
    "        elif self.metric == 'avg_hits@1':\n",
    "            score = (current_metrics['head']['hits@1'] + current_metrics['tail']['hits@1']) / 2\n",
    "        else:\n",
    "            score = (current_metrics['head']['auc'] + current_metrics['tail']['auc']) / 2\n",
    "            \n",
    "        if self.best_score is None:\n",
    "            self.best_score = score\n",
    "            self.save_checkpoint(model)\n",
    "        elif score < self.best_score + self.min_delta:\n",
    "            self.counter += 1\n",
    "            if self.counter >= self.patience:\n",
    "                if self.restore_best_weights:\n",
    "                    model.load_state_dict(self.best_weights)\n",
    "                return True\n",
    "        else:\n",
    "            self.best_score = score\n",
    "            self.counter = 0\n",
    "            self.save_checkpoint(model)\n",
    "        return False\n",
    "    \n",
    "    def save_checkpoint(self, model):\n",
    "        self.best_weights = copy.deepcopy(model.state_dict())"
   ]
  },
  {
   "cell_type": "markdown",
   "id": "ff4c4130",
   "metadata": {},
   "source": [
    "# Model 1 LightGCN\n",
    "- We also add new inverse type of relation on top of the 11 that already exists.\n",
    "- This allows for information to be passed around which originally did not.\n",
    "- A -> B is one way, and there should be an inverse relationship (or some information) which is missed out."
   ]
  },
  {
   "cell_type": "code",
   "execution_count": null,
   "id": "8f5105ec",
   "metadata": {},
   "outputs": [],
   "source": [
    "# -------- LightGCN layer --------\n",
    "class LightGCNConv(MessagePassing):\n",
    "    def __init__(self):\n",
    "        super().__init__(aggr='add')\n",
    "\n",
    "    # Compute symmetric normalization term D^-0.5*A*D^-0.5 to propagate messages through normalized adjacency\n",
    "    def forward(self, x: torch.Tensor, edge_index: torch.Tensor) -> torch.Tensor:\n",
    "        row, col = edge_index\n",
    "        deg = degree(col, x.size(0), dtype=x.dtype)\n",
    "        deg_inv_sqrt = deg.clamp(min=1).pow(-0.5)\n",
    "        norm = deg_inv_sqrt[row] * deg_inv_sqrt[col]\n",
    "        return self.propagate(edge_index, x=x, norm=norm)\n",
    "\n",
    "    # Scales the neighbor embeddings\n",
    "    def message(self, x_j: torch.Tensor, norm: torch.Tensor) -> torch.Tensor:\n",
    "        return norm.view(-1, 1) * x_j\n",
    "\n",
    "# -------- LightGCN encoder + dot-product decoder --------\n",
    "class LightGCN(nn.Module):\n",
    "    # Initialize trainable node embeddings\n",
    "    def __init__(self, num_nodes: int, emb_dim: int = 64, num_layers: int = 3):\n",
    "        super().__init__()\n",
    "        self.embedding = nn.Embedding(num_nodes, emb_dim)\n",
    "        nn.init.xavier_uniform_(self.embedding.weight)\n",
    "        self.convs = nn.ModuleList([LightGCNConv() for _ in range(num_layers)])\n",
    "        self.num_layers = num_layers\n",
    "\n",
    "    def encode(self, edge_index: torch.Tensor) -> torch.Tensor:\n",
    "        x0 = self.embedding.weight\n",
    "        out = x0\n",
    "        x = x0\n",
    "        # Each layer's output is accumulated and averaged\n",
    "        for conv in self.convs:\n",
    "            x = conv(x, edge_index)\n",
    "            out = out + x\n",
    "        return out / (self.num_layers + 1)\n",
    "\n",
    "    # Compute dot product between node embeddings for each edge (positive or negative pair)\n",
    "    @staticmethod\n",
    "    def decode(z: torch.Tensor, pairs: torch.LongTensor) -> torch.Tensor:\n",
    "        # pairs: [2, B] with [src; dst]\n",
    "        return (z[pairs[0]] * z[pairs[1]]).sum(dim=1)"
   ]
  },
  {
   "cell_type": "code",
   "execution_count": 111,
   "id": "a04dae23",
   "metadata": {},
   "outputs": [],
   "source": [
    "def train_one_epoch_lightgcn(model, triples, optimizer, edge_index, \n",
    "                            num_entities, batch_size, shuffle=True):\n",
    "    \"\"\"\n",
    "    Train LightGCN with batching\n",
    "    \"\"\"\n",
    "    model.train()\n",
    "    \n",
    "    total_loss = 0.0\n",
    "    num_batches = 0\n",
    "    \n",
    "    # Create batches from training triples\n",
    "    N = triples.size(0)\n",
    "    if shuffle:\n",
    "        indices = torch.randperm(N, device=triples.device)\n",
    "    else:\n",
    "        indices = torch.arange(N, device=triples.device)\n",
    "\n",
    "    for i in range(0, N, batch_size):\n",
    "        batch_indices = indices[i:i+batch_size]\n",
    "        batch_triples = triples[batch_indices]\n",
    "        \n",
    "        z = model.encode(edge_index)\n",
    "        \n",
    "        # Generate positive and negative pairs for this batch\n",
    "        pos_pairs = pairs_from_triples(batch_triples)\n",
    "        neg_pairs = negative_sample_heads(batch_triples, num_entities)\n",
    "        \n",
    "        # Simple dot-product decoding (no relation types)\n",
    "        pos_scores = model.decode(z, pos_pairs)\n",
    "        neg_scores = model.decode(z, neg_pairs)\n",
    "        \n",
    "        # Compute loss for this batch\n",
    "        batch_scores = torch.cat([pos_scores, neg_scores])\n",
    "        batch_labels = torch.cat([\n",
    "            torch.ones_like(pos_scores),\n",
    "            torch.zeros_like(neg_scores)\n",
    "        ])\n",
    "        \n",
    "        loss = F.binary_cross_entropy_with_logits(batch_scores, batch_labels)\n",
    "        \n",
    "        # Backward pass\n",
    "        optimizer.zero_grad()\n",
    "        loss.backward()\n",
    "        optimizer.step()\n",
    "        \n",
    "        total_loss += loss.item()\n",
    "        num_batches += 1\n",
    "    \n",
    "    return total_loss / num_batches"
   ]
  },
  {
   "cell_type": "code",
   "execution_count": 115,
   "id": "6f417e69",
   "metadata": {},
   "outputs": [
    {
     "name": "stdout",
     "output_type": "stream",
     "text": [
      "Starting LightGCN training ...\n",
      "Max epochs: 100, Early stopping patience: 10\n"
     ]
    },
    {
     "name": "stderr",
     "output_type": "stream",
     "text": [
      "  0%|          | 0/100 [00:00<?, ?it/s]"
     ]
    },
    {
     "name": "stdout",
     "output_type": "stream",
     "text": [
      "Evaluating head corruption...\n",
      "Evaluating tail corruption...\n"
     ]
    },
    {
     "name": "stderr",
     "output_type": "stream",
     "text": [
      "  1%|          | 1/100 [00:07<12:04,  7.32s/it]"
     ]
    },
    {
     "name": "stdout",
     "output_type": "stream",
     "text": [
      "[LightGCN-COMP] Epoch 001 | Loss 0.6914\n",
      "  AUC (H/T): 0.9202/0.9271\n",
      "  AP (H/T): 0.0480/0.0475\n",
      "  MRR (H/T): 0.0480/0.0475\n",
      "  Hits@1 (H/T): 0.0000/0.0200\n",
      "  Hits@10 (H/T): 0.1200/0.0800\n",
      "  MR (H/T): 3269.8400/2985.5200\n"
     ]
    },
    {
     "name": "stderr",
     "output_type": "stream",
     "text": [
      "  4%|▍         | 4/100 [00:30<12:55,  8.08s/it]"
     ]
    },
    {
     "name": "stdout",
     "output_type": "stream",
     "text": [
      "Evaluating head corruption...\n",
      "Evaluating tail corruption...\n"
     ]
    },
    {
     "name": "stderr",
     "output_type": "stream",
     "text": [
      "  5%|▌         | 5/100 [00:44<16:17, 10.29s/it]"
     ]
    },
    {
     "name": "stdout",
     "output_type": "stream",
     "text": [
      "[LightGCN-COMP] Epoch 005 | Loss 0.5775\n",
      "  AUC (H/T): 0.9250/0.9387\n",
      "  AP (H/T): 0.0510/0.0545\n",
      "  MRR (H/T): 0.0510/0.0545\n",
      "  Hits@1 (H/T): 0.0000/0.0200\n",
      "  Hits@10 (H/T): 0.1800/0.1200\n",
      "  MR (H/T): 3073.0800/2509.1400\n"
     ]
    },
    {
     "name": "stderr",
     "output_type": "stream",
     "text": [
      "  9%|▉         | 9/100 [01:07<09:34,  6.31s/it]"
     ]
    },
    {
     "name": "stdout",
     "output_type": "stream",
     "text": [
      "Evaluating head corruption...\n",
      "Evaluating tail corruption...\n"
     ]
    },
    {
     "name": "stderr",
     "output_type": "stream",
     "text": [
      " 10%|█         | 10/100 [01:14<09:53,  6.59s/it]"
     ]
    },
    {
     "name": "stdout",
     "output_type": "stream",
     "text": [
      "[LightGCN-COMP] Epoch 010 | Loss 0.4721\n",
      "  AUC (H/T): 0.9276/0.9446\n",
      "  AP (H/T): 0.0595/0.0668\n",
      "  MRR (H/T): 0.0595/0.0668\n",
      "  Hits@1 (H/T): 0.0000/0.0200\n",
      "  Hits@10 (H/T): 0.1800/0.1600\n",
      "  MR (H/T): 2963.8600/2268.6000\n"
     ]
    },
    {
     "name": "stderr",
     "output_type": "stream",
     "text": [
      " 14%|█▍        | 14/100 [01:33<07:21,  5.13s/it]"
     ]
    },
    {
     "name": "stdout",
     "output_type": "stream",
     "text": [
      "Evaluating head corruption...\n",
      "Evaluating tail corruption...\n"
     ]
    },
    {
     "name": "stderr",
     "output_type": "stream",
     "text": [
      " 15%|█▌        | 15/100 [01:40<08:06,  5.72s/it]"
     ]
    },
    {
     "name": "stdout",
     "output_type": "stream",
     "text": [
      "[LightGCN-COMP] Epoch 015 | Loss 0.4326\n",
      "  AUC (H/T): 0.9293/0.9425\n",
      "  AP (H/T): 0.0724/0.0743\n",
      "  MRR (H/T): 0.0724/0.0743\n",
      "  Hits@1 (H/T): 0.0000/0.0200\n",
      "  Hits@10 (H/T): 0.2200/0.2400\n",
      "  MR (H/T): 2896.8200/2355.4200\n"
     ]
    },
    {
     "name": "stderr",
     "output_type": "stream",
     "text": [
      " 19%|█▉        | 19/100 [01:59<06:41,  4.96s/it]"
     ]
    },
    {
     "name": "stdout",
     "output_type": "stream",
     "text": [
      "Evaluating head corruption...\n",
      "Evaluating tail corruption...\n"
     ]
    },
    {
     "name": "stderr",
     "output_type": "stream",
     "text": [
      " 20%|██        | 20/100 [02:05<07:13,  5.42s/it]"
     ]
    },
    {
     "name": "stdout",
     "output_type": "stream",
     "text": [
      "[LightGCN-COMP] Epoch 020 | Loss 0.4137\n",
      "  AUC (H/T): 0.9289/0.9372\n",
      "  AP (H/T): 0.0753/0.0809\n",
      "  MRR (H/T): 0.0753/0.0809\n",
      "  Hits@1 (H/T): 0.0000/0.0200\n",
      "  Hits@10 (H/T): 0.2400/0.3000\n",
      "  MR (H/T): 2913.0400/2573.0000\n"
     ]
    },
    {
     "name": "stderr",
     "output_type": "stream",
     "text": [
      " 24%|██▍       | 24/100 [02:25<06:22,  5.03s/it]"
     ]
    },
    {
     "name": "stdout",
     "output_type": "stream",
     "text": [
      "Evaluating head corruption...\n",
      "Evaluating tail corruption...\n"
     ]
    },
    {
     "name": "stderr",
     "output_type": "stream",
     "text": [
      " 25%|██▌       | 25/100 [02:32<07:04,  5.66s/it]"
     ]
    },
    {
     "name": "stdout",
     "output_type": "stream",
     "text": [
      "[LightGCN-COMP] Epoch 025 | Loss 0.4045\n",
      "  AUC (H/T): 0.9306/0.9357\n",
      "  AP (H/T): 0.0749/0.0815\n",
      "  MRR (H/T): 0.0749/0.0815\n",
      "  Hits@1 (H/T): 0.0000/0.0200\n",
      "  Hits@10 (H/T): 0.2400/0.2800\n",
      "  MR (H/T): 2843.6800/2635.4600\n"
     ]
    },
    {
     "name": "stderr",
     "output_type": "stream",
     "text": [
      " 29%|██▉       | 29/100 [02:51<05:48,  4.90s/it]"
     ]
    },
    {
     "name": "stdout",
     "output_type": "stream",
     "text": [
      "Evaluating head corruption...\n",
      "Evaluating tail corruption...\n"
     ]
    },
    {
     "name": "stderr",
     "output_type": "stream",
     "text": [
      " 30%|███       | 30/100 [02:58<06:25,  5.51s/it]"
     ]
    },
    {
     "name": "stdout",
     "output_type": "stream",
     "text": [
      "[LightGCN-COMP] Epoch 030 | Loss 0.3990\n",
      "  AUC (H/T): 0.9272/0.9373\n",
      "  AP (H/T): 0.0795/0.0854\n",
      "  MRR (H/T): 0.0795/0.0854\n",
      "  Hits@1 (H/T): 0.0000/0.0200\n",
      "  Hits@10 (H/T): 0.2400/0.3000\n",
      "  MR (H/T): 2980.0800/2568.8200\n"
     ]
    },
    {
     "name": "stderr",
     "output_type": "stream",
     "text": [
      " 34%|███▍      | 34/100 [03:17<05:23,  4.90s/it]"
     ]
    },
    {
     "name": "stdout",
     "output_type": "stream",
     "text": [
      "Evaluating head corruption...\n",
      "Evaluating tail corruption...\n"
     ]
    },
    {
     "name": "stderr",
     "output_type": "stream",
     "text": [
      " 35%|███▌      | 35/100 [03:24<05:57,  5.51s/it]"
     ]
    },
    {
     "name": "stdout",
     "output_type": "stream",
     "text": [
      "[LightGCN-COMP] Epoch 035 | Loss 0.3955\n",
      "  AUC (H/T): 0.9273/0.9356\n",
      "  AP (H/T): 0.0826/0.0884\n",
      "  MRR (H/T): 0.0826/0.0884\n",
      "  Hits@1 (H/T): 0.0000/0.0200\n",
      "  Hits@10 (H/T): 0.2400/0.3200\n",
      "  MR (H/T): 2977.0800/2638.8800\n"
     ]
    },
    {
     "name": "stderr",
     "output_type": "stream",
     "text": [
      " 39%|███▉      | 39/100 [03:43<04:56,  4.86s/it]"
     ]
    },
    {
     "name": "stdout",
     "output_type": "stream",
     "text": [
      "Evaluating head corruption...\n",
      "Evaluating tail corruption...\n"
     ]
    },
    {
     "name": "stderr",
     "output_type": "stream",
     "text": [
      " 40%|████      | 40/100 [03:50<05:26,  5.45s/it]"
     ]
    },
    {
     "name": "stdout",
     "output_type": "stream",
     "text": [
      "[LightGCN-COMP] Epoch 040 | Loss 0.3937\n",
      "  AUC (H/T): 0.9259/0.9336\n",
      "  AP (H/T): 0.0837/0.0896\n",
      "  MRR (H/T): 0.0837/0.0896\n",
      "  Hits@1 (H/T): 0.0000/0.0200\n",
      "  Hits@10 (H/T): 0.2400/0.3000\n",
      "  MR (H/T): 3033.6800/2719.6200\n"
     ]
    },
    {
     "name": "stderr",
     "output_type": "stream",
     "text": [
      " 44%|████▍     | 44/100 [04:09<04:35,  4.92s/it]"
     ]
    },
    {
     "name": "stdout",
     "output_type": "stream",
     "text": [
      "Evaluating head corruption...\n",
      "Evaluating tail corruption...\n"
     ]
    },
    {
     "name": "stderr",
     "output_type": "stream",
     "text": [
      " 45%|████▌     | 45/100 [04:16<05:01,  5.48s/it]"
     ]
    },
    {
     "name": "stdout",
     "output_type": "stream",
     "text": [
      "[LightGCN-COMP] Epoch 045 | Loss 0.3917\n",
      "  AUC (H/T): 0.9260/0.9330\n",
      "  AP (H/T): 0.0931/0.0932\n",
      "  MRR (H/T): 0.0931/0.0932\n",
      "  Hits@1 (H/T): 0.0200/0.0200\n",
      "  Hits@10 (H/T): 0.2400/0.3200\n",
      "  MR (H/T): 3030.6800/2743.4200\n"
     ]
    },
    {
     "name": "stderr",
     "output_type": "stream",
     "text": [
      " 49%|████▉     | 49/100 [04:34<04:02,  4.75s/it]"
     ]
    },
    {
     "name": "stdout",
     "output_type": "stream",
     "text": [
      "Evaluating head corruption...\n",
      "Evaluating tail corruption...\n"
     ]
    },
    {
     "name": "stderr",
     "output_type": "stream",
     "text": [
      " 50%|█████     | 50/100 [04:41<04:31,  5.43s/it]"
     ]
    },
    {
     "name": "stdout",
     "output_type": "stream",
     "text": [
      "[LightGCN-COMP] Epoch 050 | Loss 0.3902\n",
      "  AUC (H/T): 0.9248/0.9316\n",
      "  AP (H/T): 0.1042/0.0959\n",
      "  MRR (H/T): 0.1042/0.0959\n",
      "  Hits@1 (H/T): 0.0400/0.0200\n",
      "  Hits@10 (H/T): 0.2600/0.3200\n",
      "  MR (H/T): 3080.1200/2801.5000\n"
     ]
    },
    {
     "name": "stderr",
     "output_type": "stream",
     "text": [
      " 54%|█████▍    | 54/100 [05:01<03:49,  4.99s/it]"
     ]
    },
    {
     "name": "stdout",
     "output_type": "stream",
     "text": [
      "Evaluating head corruption...\n",
      "Evaluating tail corruption...\n"
     ]
    },
    {
     "name": "stderr",
     "output_type": "stream",
     "text": [
      " 55%|█████▌    | 55/100 [05:08<04:13,  5.63s/it]"
     ]
    },
    {
     "name": "stdout",
     "output_type": "stream",
     "text": [
      "[LightGCN-COMP] Epoch 055 | Loss 0.3891\n",
      "  AUC (H/T): 0.9243/0.9312\n",
      "  AP (H/T): 0.0969/0.0999\n",
      "  MRR (H/T): 0.0969/0.0999\n",
      "  Hits@1 (H/T): 0.0200/0.0200\n",
      "  Hits@10 (H/T): 0.2600/0.3200\n",
      "  MR (H/T): 3101.8000/2819.1800\n"
     ]
    },
    {
     "name": "stderr",
     "output_type": "stream",
     "text": [
      " 59%|█████▉    | 59/100 [05:26<03:16,  4.80s/it]"
     ]
    },
    {
     "name": "stdout",
     "output_type": "stream",
     "text": [
      "Evaluating head corruption...\n",
      "Evaluating tail corruption...\n"
     ]
    },
    {
     "name": "stderr",
     "output_type": "stream",
     "text": [
      " 59%|█████▉    | 59/100 [05:33<03:52,  5.66s/it]"
     ]
    },
    {
     "name": "stdout",
     "output_type": "stream",
     "text": [
      "[LightGCN-COMP] Epoch 060 | Loss 0.3862\n",
      "  AUC (H/T): 0.9249/0.9332\n",
      "  AP (H/T): 0.0948/0.1038\n",
      "  MRR (H/T): 0.0948/0.1038\n",
      "  Hits@1 (H/T): 0.0200/0.0200\n",
      "  Hits@10 (H/T): 0.2600/0.3200\n",
      "  MR (H/T): 3077.0400/2735.7800\n",
      "Early stopping triggered at epoch 60\n",
      "Best AUC: 0.9361\n",
      "\n",
      "LightGCN training completed!\n"
     ]
    },
    {
     "name": "stderr",
     "output_type": "stream",
     "text": [
      "\n"
     ]
    },
    {
     "data": {
      "image/png": "[encoded data removed]",
      "text/plain": [
       "<Figure size 1500x1200 with 7 Axes>"
      ]
     },
     "metadata": {},
     "output_type": "display_data"
    },
    {
     "name": "stdout",
     "output_type": "stream",
     "text": [
      "Evaluating head corruption...\n",
      "Evaluating tail corruption...\n",
      "\n",
      "[LightGCN with Shuffled Triples][TEST RESULTS]\n",
      "AUC (H/T): 0.9099/0.9164\n",
      "MRR (H/T): 0.0563/0.0980\n",
      "Hits@1 (H/T): 0.0300/0.0300\n",
      "Hits@10 (H/T): 0.1000/0.2200\n",
      "MR (H/T): 3691.5/3422.7\n"
     ]
    }
   ],
   "source": [
    "lr = 1e-3\n",
    "epochs = 100\n",
    "emb_dim = 64\n",
    "num_layers = 3\n",
    "eval_every = 5\n",
    "batch_size = 2048\n",
    "patience = 10\n",
    "\n",
    "# Initialize tracking with comprehensive metrics\n",
    "lightgcn_metrics_tracker = MetricsTracker()\n",
    "lightgcn_early_stopping = EarlyStopping(patience=patience, min_delta=0.001, metric='avg_auc')\n",
    "\n",
    "# Create new model for comprehensive training\n",
    "lightgcn_3 = LightGCN(num_nodes=num_entities, emb_dim=emb_dim, num_layers=num_layers).to(device)\n",
    "opt_comprehensive = torch.optim.Adam(lightgcn_3.parameters(), lr=lr)\n",
    "\n",
    "print(\"Starting LightGCN training ...\")\n",
    "print(f\"Max epochs: {epochs}, Early stopping patience: {patience}\")\n",
    "\n",
    "for epoch in tqdm(range(1, epochs + 1)):\n",
    "    avg_loss = train_one_epoch_lightgcn(\n",
    "        lightgcn_3, train_triples, opt_comprehensive, \n",
    "        edge_index, num_entities, \n",
    "        batch_size, True\n",
    "    )\n",
    "\n",
    "    # Comprehensive evaluation every epoch (using small subset for speed)\n",
    "    if epoch % eval_every == 0 or epoch == 1:\n",
    "        lightgcn_3.eval()\n",
    "        \n",
    "        # Use small subset for comprehensive metrics to avoid long computation\n",
    "        val_subset = valid_triples[:50] if len(valid_triples) > 50 else valid_triples\n",
    "        \n",
    "        # Get comprehensive ranking metrics\n",
    "        lightgcn_ranking_metrics = evaluate_ranking_metrics(\n",
    "            lightgcn_3, edge_index, val_subset, num_entities, \n",
    "            k_values=[1, 3, 5, 10], batch_size=10\n",
    "        )\n",
    "        \n",
    "        log_and_track_metrics(\n",
    "            epoch=epoch,\n",
    "            avg_loss=avg_loss,\n",
    "            val_ranking_metrics=lightgcn_ranking_metrics,\n",
    "            metrics_tracker=lightgcn_metrics_tracker,\n",
    "            model_name=\"LightGCN\"\n",
    "        )\n",
    "\n",
    "        if lightgcn_early_stopping(lightgcn_ranking_metrics, lightgcn_3):\n",
    "            print(f\"Early stopping triggered at epoch {epoch}\")\n",
    "            print(f\"Best AUC: {lightgcn_early_stopping.best_score:.4f}\")\n",
    "            break\n",
    "\n",
    "print(\"\\nLightGCN training completed!\")\n",
    "\n",
    "# Plot all metrics\n",
    "lightgcn_metrics_tracker.plot(\"LightGCN Training\")\n",
    "\n",
    "# Final comprehensive test evaluation\n",
    "lightgcn_3.eval()\n",
    "test_subset = test_triples[:100]\n",
    "lightgcn_final_test_metrics = evaluate_ranking_metrics(\n",
    "    lightgcn_3, edge_index, test_subset, num_entities, \n",
    "    k_values=[1, 3, 5, 10], batch_size=20\n",
    ")\n",
    "\n",
    "print(f\"\\n[LightGCN with Shuffled Triples][TEST RESULTS]\")\n",
    "print(f\"AUC (H/T): {lightgcn_final_test_metrics['head']['auc']:.4f}/{lightgcn_final_test_metrics['tail']['auc']:.4f}\")\n",
    "print(f\"MRR (H/T): {lightgcn_final_test_metrics['head']['mrr']:.4f}/{lightgcn_final_test_metrics['tail']['mrr']:.4f}\")\n",
    "print(f\"Hits@1 (H/T): {lightgcn_final_test_metrics['head']['hits@1']:.4f}/{lightgcn_final_test_metrics['tail']['hits@1']:.4f}\")\n",
    "print(f\"Hits@10 (H/T): {lightgcn_final_test_metrics['head']['hits@10']:.4f}/{lightgcn_final_test_metrics['tail']['hits@10']:.4f}\")\n",
    "print(f\"MR (H/T): {lightgcn_final_test_metrics['head']['mr']:.1f}/{lightgcn_final_test_metrics['tail']['mr']:.1f}\")"
   ]
  },
  {
   "cell_type": "markdown",
   "id": "94b7e052",
   "metadata": {},
   "source": [
    "# Model 2 R-LightGCN"
   ]
  },
  {
   "cell_type": "markdown",
   "id": "bd5b34dd",
   "metadata": {},
   "source": [
    "## Old code"
   ]
  },
  {
   "cell_type": "code",
   "execution_count": 116,
   "id": "92cfec52",
   "metadata": {},
   "outputs": [],
   "source": [
    "# -------- R-LightGCN --------\n",
    "class RLightGCNConv(MessagePassing):\n",
    "    def __init__(self, num_relations: int):\n",
    "        super().__init__(aggr='add')\n",
    "        # Each relation has its own learnable scalar weight (starts at 1)\n",
    "        self.alpha = nn.Parameter(torch.ones(num_relations))\n",
    "\n",
    "    # Degree normalization\n",
    "    def forward(self, x: torch.Tensor, edge_index: torch.Tensor, edge_type: torch.LongTensor) -> torch.Tensor:\n",
    "        row, col = edge_index\n",
    "        deg = degree(col, x.size(0), dtype=x.dtype)\n",
    "        deg_inv_sqrt = deg.clamp(min=1).pow(-0.5)\n",
    "        norm = deg_inv_sqrt[row] * deg_inv_sqrt[col]\n",
    "        return self.propagate(edge_index, x=x, edge_type=edge_type, norm=norm)\n",
    "\n",
    "    def message(self, x_j: torch.Tensor, edge_type: torch.LongTensor, norm: torch.Tensor) -> torch.Tensor:\n",
    "        w = self.alpha[edge_type].view(-1, 1)    # weight message by relation type\n",
    "        return w * norm.view(-1, 1) * x_j\n",
    "\n",
    "class RLightGCN(nn.Module):\n",
    "    def __init__(self, num_nodes: int, num_relations: int, emb_dim: int = 64, num_layers: int = 3):\n",
    "        super().__init__()\n",
    "        self.embedding = nn.Embedding(num_nodes, emb_dim)\n",
    "        nn.init.xavier_uniform_(self.embedding.weight)\n",
    "        self.convs = nn.ModuleList([RLightGCNConv(num_relations) for _ in range(num_layers)])\n",
    "        self.num_layers = num_layers\n",
    "\n",
    "    def encode(self, edge_index: torch.Tensor, edge_type: torch.LongTensor) -> torch.Tensor:\n",
    "        x0 = self.embedding.weight\n",
    "        out = x0\n",
    "        x = x0\n",
    "        for conv in self.convs:\n",
    "            x = conv(x, edge_index, edge_type)\n",
    "            out = out + x\n",
    "        return out / (self.num_layers + 1)\n",
    "\n",
    "    @staticmethod\n",
    "    def decode(z: torch.Tensor, pairs: torch.LongTensor) -> torch.Tensor:\n",
    "        return (z[pairs[0]] * z[pairs[1]]).sum(dim=1)"
   ]
  },
  {
   "cell_type": "markdown",
   "id": "5ca4c1d0",
   "metadata": {},
   "source": [
    "## New code"
   ]
  },
  {
   "cell_type": "code",
   "execution_count": 117,
   "id": "707b00d0",
   "metadata": {},
   "outputs": [],
   "source": [
    "# -------- R-LightGCN Layer --------\n",
    "class RLightGCNConv(MessagePassing):\n",
    "    def __init__(self, num_relations: int, emb_dim: int, rel_emb: nn.Embedding):\n",
    "        super().__init__(aggr='add')\n",
    "        self.rel_emb = rel_emb   # share the same relation embedding from the main model\n",
    "        self.emb_dim = emb_dim\n",
    "\n",
    "    def forward(self, x: torch.Tensor, edge_index: torch.Tensor, edge_type: torch.LongTensor) -> torch.Tensor:\n",
    "        row, col = edge_index\n",
    "        deg = degree(col, x.size(0), dtype=x.dtype)\n",
    "        deg_inv_sqrt = deg.clamp(min=1).pow(-0.5)\n",
    "        norm = deg_inv_sqrt[row] * deg_inv_sqrt[col]\n",
    "        return self.propagate(edge_index, x=x, edge_type=edge_type, norm=norm)\n",
    "\n",
    "    def message(self, x_j: torch.Tensor, edge_type: torch.LongTensor, norm: torch.Tensor) -> torch.Tensor:\n",
    "        # Each relation type has its own embedding vector\n",
    "        rel_vec = self.rel_emb(edge_type)           # [num_edges, emb_dim]\n",
    "        return norm.view(-1, 1) * (x_j * rel_vec)   # elementwise scaling by relation embedding\n",
    "\n",
    "\n",
    "# -------- R-LightGCN Model --------\n",
    "class RLightGCN(nn.Module):\n",
    "    def __init__(self, num_nodes: int, num_relations: int, emb_dim: int = 64, num_layers: int = 3):\n",
    "        super().__init__()\n",
    "\n",
    "        # Node embeddings\n",
    "        self.embedding = nn.Embedding(num_nodes, emb_dim)\n",
    "        nn.init.xavier_uniform_(self.embedding.weight)\n",
    "        \n",
    "        # Relation embeddings (shared across layers)\n",
    "        self.rel_emb = nn.Embedding(num_relations, emb_dim)\n",
    "        nn.init.xavier_uniform_(self.rel_emb.weight)\n",
    "\n",
    "        # Pass relation embedding into each conv layer\n",
    "        self.convs = nn.ModuleList([\n",
    "            RLightGCNConv(num_relations, emb_dim, self.rel_emb)\n",
    "            for _ in range(num_layers)\n",
    "        ])\n",
    "        self.num_layers = num_layers\n",
    "\n",
    "    def encode(self, edge_index: torch.Tensor, edge_type: torch.LongTensor) -> torch.Tensor:\n",
    "        x0 = self.embedding.weight\n",
    "        out = x0\n",
    "        x = x0\n",
    "        for conv in self.convs:\n",
    "            x = conv(x, edge_index, edge_type)\n",
    "            out = out + x\n",
    "        return out / (self.num_layers + 1)\n",
    "\n",
    "    def decode(self, z: torch.Tensor, pairs: torch.LongTensor, rel_type: torch.LongTensor) -> torch.Tensor:\n",
    "        head, tail = pairs\n",
    "        r_emb = self.rel_emb(rel_type)\n",
    "        return (z[head] * r_emb * z[tail]).sum(dim=1)\n",
    "\n",
    "    def forward(self, edge_index, edge_type, pairs, rel_type):\n",
    "        z = self.encode(edge_index, edge_type)\n",
    "        return self.decode(z, pairs, rel_type)\n"
   ]
  },
  {
   "cell_type": "code",
   "execution_count": 118,
   "id": "5f9ccdea",
   "metadata": {},
   "outputs": [],
   "source": [
    "def train_one_epoch_r_lightgcn(model, triples, optimizer, rel_edge_index, edge_type, \n",
    "                               num_entities, batch_size=2048, shuffle=True):\n",
    "    \"\"\"\n",
    "    Train R-LightGCN with batching\n",
    "    \"\"\"\n",
    "    model.train()\n",
    "    \n",
    "    total_loss = 0.0\n",
    "    num_batches = 0\n",
    "    \n",
    "    # Create batches from shuffled triples\n",
    "    N = triples.size(0)\n",
    "\n",
    "    if shuffle:\n",
    "        indices = torch.randperm(N, device=triples.device)\n",
    "    else:\n",
    "        indices = torch.arange(N, device=triples.device)\n",
    "    \n",
    "    for i in range(0, N, batch_size):\n",
    "        batch_indices = indices[i:i+batch_size]\n",
    "        batch_triples = triples[batch_indices]\n",
    "        \n",
    "        z = model.encode(rel_edge_index, edge_type)\n",
    "\n",
    "        # Generate positive and negative pairs for this batch\n",
    "        pos_pairs = pairs_from_triples(batch_triples)\n",
    "        neg_pairs = negative_sample_heads(batch_triples, num_entities)\n",
    "        \n",
    "        # Get relation types for positive and negative pairs\n",
    "        pos_rel_type = batch_triples[:, 1]\n",
    "        neg_rel_type = pos_rel_type.clone()  # Same relations for negatives\n",
    "        \n",
    "        # Decode scores\n",
    "        pos_scores = model.decode(z, pos_pairs, pos_rel_type)\n",
    "        neg_scores = model.decode(z, neg_pairs, neg_rel_type)\n",
    "        \n",
    "        # Compute loss for this batch\n",
    "        batch_scores = torch.cat([pos_scores, neg_scores])\n",
    "        batch_labels = torch.cat([\n",
    "            torch.ones_like(pos_scores),\n",
    "            torch.zeros_like(neg_scores)\n",
    "        ])\n",
    "        \n",
    "        loss = F.binary_cross_entropy_with_logits(batch_scores, batch_labels)\n",
    "        \n",
    "        # Backward pass\n",
    "        optimizer.zero_grad()\n",
    "        loss.backward()\n",
    "        optimizer.step()\n",
    "        \n",
    "        total_loss += loss.item()\n",
    "        num_batches += 1\n",
    "    \n",
    "    return total_loss / num_batches"
   ]
  },
  {
   "cell_type": "code",
   "execution_count": 121,
   "id": "63be87f0",
   "metadata": {},
   "outputs": [
    {
     "name": "stdout",
     "output_type": "stream",
     "text": [
      "Starting R-LightGCN training with enhanced features...\n",
      "Max epochs: 100, Early stopping patience: 10\n"
     ]
    },
    {
     "name": "stderr",
     "output_type": "stream",
     "text": [
      "  0%|          | 0/100 [00:00<?, ?it/s]"
     ]
    },
    {
     "name": "stdout",
     "output_type": "stream",
     "text": [
      "Evaluating head corruption...\n",
      "Evaluating tail corruption...\n"
     ]
    },
    {
     "name": "stderr",
     "output_type": "stream",
     "text": [
      "  1%|          | 1/100 [00:12<19:53, 12.06s/it]"
     ]
    },
    {
     "name": "stdout",
     "output_type": "stream",
     "text": [
      "[R-LightGCN-COMP] Epoch 001 | Loss 0.6931\n",
      "  AUC (H/T): 0.6202/0.6231\n",
      "  AP (H/T): 0.0028/0.0129\n",
      "  MRR (H/T): 0.0028/0.0129\n",
      "  Hits@1 (H/T): 0.0000/0.0000\n",
      "  Hits@10 (H/T): 0.0000/0.0400\n",
      "  MR (H/T): 15549.3800/15433.0800\n"
     ]
    },
    {
     "name": "stderr",
     "output_type": "stream",
     "text": [
      "  4%|▍         | 4/100 [00:39<15:07,  9.45s/it]"
     ]
    },
    {
     "name": "stdout",
     "output_type": "stream",
     "text": [
      "Evaluating head corruption...\n",
      "Evaluating tail corruption...\n"
     ]
    },
    {
     "name": "stderr",
     "output_type": "stream",
     "text": [
      "  5%|▌         | 5/100 [00:50<16:04, 10.15s/it]"
     ]
    },
    {
     "name": "stdout",
     "output_type": "stream",
     "text": [
      "[R-LightGCN-COMP] Epoch 005 | Loss 0.6909\n",
      "  AUC (H/T): 0.8289/0.8426\n",
      "  AP (H/T): 0.0736/0.0777\n",
      "  MRR (H/T): 0.0736/0.0777\n",
      "  Hits@1 (H/T): 0.0400/0.0400\n",
      "  Hits@10 (H/T): 0.1400/0.1200\n",
      "  MR (H/T): 7007.6200/6443.4400\n"
     ]
    },
    {
     "name": "stderr",
     "output_type": "stream",
     "text": [
      "  9%|▉         | 9/100 [01:26<14:06,  9.31s/it]"
     ]
    },
    {
     "name": "stdout",
     "output_type": "stream",
     "text": [
      "Evaluating head corruption...\n",
      "Evaluating tail corruption...\n"
     ]
    },
    {
     "name": "stderr",
     "output_type": "stream",
     "text": [
      " 10%|█         | 10/100 [01:38<15:05, 10.06s/it]"
     ]
    },
    {
     "name": "stdout",
     "output_type": "stream",
     "text": [
      "[R-LightGCN-COMP] Epoch 010 | Loss 0.4849\n",
      "  AUC (H/T): 0.8531/0.8519\n",
      "  AP (H/T): 0.1088/0.1069\n",
      "  MRR (H/T): 0.1088/0.1069\n",
      "  Hits@1 (H/T): 0.0400/0.0600\n",
      "  Hits@10 (H/T): 0.2400/0.2000\n",
      "  MR (H/T): 6015.1800/6066.2600\n"
     ]
    },
    {
     "name": "stderr",
     "output_type": "stream",
     "text": [
      " 14%|█▍        | 14/100 [02:14<13:10,  9.19s/it]"
     ]
    },
    {
     "name": "stdout",
     "output_type": "stream",
     "text": [
      "Evaluating head corruption...\n",
      "Evaluating tail corruption...\n"
     ]
    },
    {
     "name": "stderr",
     "output_type": "stream",
     "text": [
      " 15%|█▌        | 15/100 [02:26<14:11, 10.02s/it]"
     ]
    },
    {
     "name": "stdout",
     "output_type": "stream",
     "text": [
      "[R-LightGCN-COMP] Epoch 015 | Loss 0.4035\n",
      "  AUC (H/T): 0.8441/0.8480\n",
      "  AP (H/T): 0.1467/0.1454\n",
      "  MRR (H/T): 0.1467/0.1454\n",
      "  Hits@1 (H/T): 0.0600/0.0800\n",
      "  Hits@10 (H/T): 0.2800/0.2600\n",
      "  MR (H/T): 6384.1200/6225.5600\n"
     ]
    },
    {
     "name": "stderr",
     "output_type": "stream",
     "text": [
      " 19%|█▉        | 19/100 [03:02<12:31,  9.28s/it]"
     ]
    },
    {
     "name": "stdout",
     "output_type": "stream",
     "text": [
      "Evaluating head corruption...\n",
      "Evaluating tail corruption...\n"
     ]
    },
    {
     "name": "stderr",
     "output_type": "stream",
     "text": [
      " 20%|██        | 20/100 [03:14<13:21, 10.02s/it]"
     ]
    },
    {
     "name": "stdout",
     "output_type": "stream",
     "text": [
      "[R-LightGCN-COMP] Epoch 020 | Loss 0.3952\n",
      "  AUC (H/T): 0.8342/0.8298\n",
      "  AP (H/T): 0.1696/0.1561\n",
      "  MRR (H/T): 0.1696/0.1561\n",
      "  Hits@1 (H/T): 0.0800/0.0800\n",
      "  Hits@10 (H/T): 0.3000/0.2800\n",
      "  MR (H/T): 6791.0400/6969.7200\n"
     ]
    },
    {
     "name": "stderr",
     "output_type": "stream",
     "text": [
      " 24%|██▍       | 24/100 [03:49<11:33,  9.12s/it]"
     ]
    },
    {
     "name": "stdout",
     "output_type": "stream",
     "text": [
      "Evaluating head corruption...\n",
      "Evaluating tail corruption...\n"
     ]
    },
    {
     "name": "stderr",
     "output_type": "stream",
     "text": [
      " 25%|██▌       | 25/100 [04:01<12:28,  9.99s/it]"
     ]
    },
    {
     "name": "stdout",
     "output_type": "stream",
     "text": [
      "[R-LightGCN-COMP] Epoch 025 | Loss 0.3910\n",
      "  AUC (H/T): 0.8254/0.8183\n",
      "  AP (H/T): 0.1589/0.1590\n",
      "  MRR (H/T): 0.1589/0.1590\n",
      "  Hits@1 (H/T): 0.0600/0.0800\n",
      "  Hits@10 (H/T): 0.3200/0.3400\n",
      "  MR (H/T): 7148.8800/7440.3000\n"
     ]
    },
    {
     "name": "stderr",
     "output_type": "stream",
     "text": [
      " 29%|██▉       | 29/100 [04:36<10:44,  9.08s/it]"
     ]
    },
    {
     "name": "stdout",
     "output_type": "stream",
     "text": [
      "Evaluating head corruption...\n",
      "Evaluating tail corruption...\n"
     ]
    },
    {
     "name": "stderr",
     "output_type": "stream",
     "text": [
      " 30%|███       | 30/100 [04:48<11:35,  9.94s/it]"
     ]
    },
    {
     "name": "stdout",
     "output_type": "stream",
     "text": [
      "[R-LightGCN-COMP] Epoch 030 | Loss 0.3875\n",
      "  AUC (H/T): 0.8230/0.8156\n",
      "  AP (H/T): 0.1520/0.1666\n",
      "  MRR (H/T): 0.1520/0.1666\n",
      "  Hits@1 (H/T): 0.0400/0.0800\n",
      "  Hits@10 (H/T): 0.3800/0.3400\n",
      "  MR (H/T): 7249.2200/7549.5400\n"
     ]
    },
    {
     "name": "stderr",
     "output_type": "stream",
     "text": [
      " 34%|███▍      | 34/100 [05:24<10:02,  9.12s/it]"
     ]
    },
    {
     "name": "stdout",
     "output_type": "stream",
     "text": [
      "Evaluating head corruption...\n",
      "Evaluating tail corruption...\n"
     ]
    },
    {
     "name": "stderr",
     "output_type": "stream",
     "text": [
      " 35%|███▌      | 35/100 [05:35<10:44,  9.92s/it]"
     ]
    },
    {
     "name": "stdout",
     "output_type": "stream",
     "text": [
      "[R-LightGCN-COMP] Epoch 035 | Loss 0.3857\n",
      "  AUC (H/T): 0.8230/0.8153\n",
      "  AP (H/T): 0.1647/0.1670\n",
      "  MRR (H/T): 0.1647/0.1670\n",
      "  Hits@1 (H/T): 0.0600/0.0800\n",
      "  Hits@10 (H/T): 0.3800/0.3800\n",
      "  MR (H/T): 7249.4800/7564.0600\n"
     ]
    },
    {
     "name": "stderr",
     "output_type": "stream",
     "text": [
      " 39%|███▉      | 39/100 [06:11<09:18,  9.16s/it]"
     ]
    },
    {
     "name": "stdout",
     "output_type": "stream",
     "text": [
      "Evaluating head corruption...\n",
      "Evaluating tail corruption...\n"
     ]
    },
    {
     "name": "stderr",
     "output_type": "stream",
     "text": [
      " 40%|████      | 40/100 [06:23<09:56,  9.94s/it]"
     ]
    },
    {
     "name": "stdout",
     "output_type": "stream",
     "text": [
      "[R-LightGCN-COMP] Epoch 040 | Loss 0.3853\n",
      "  AUC (H/T): 0.8207/0.8133\n",
      "  AP (H/T): 0.1773/0.1830\n",
      "  MRR (H/T): 0.1773/0.1830\n",
      "  Hits@1 (H/T): 0.0600/0.0800\n",
      "  Hits@10 (H/T): 0.3800/0.3800\n",
      "  MR (H/T): 7342.2000/7643.1000\n"
     ]
    },
    {
     "name": "stderr",
     "output_type": "stream",
     "text": [
      " 44%|████▍     | 44/100 [06:58<08:29,  9.09s/it]"
     ]
    },
    {
     "name": "stdout",
     "output_type": "stream",
     "text": [
      "Evaluating head corruption...\n",
      "Evaluating tail corruption...\n"
     ]
    },
    {
     "name": "stderr",
     "output_type": "stream",
     "text": [
      " 45%|████▌     | 45/100 [07:10<09:02,  9.86s/it]"
     ]
    },
    {
     "name": "stdout",
     "output_type": "stream",
     "text": [
      "[R-LightGCN-COMP] Epoch 045 | Loss 0.3848\n",
      "  AUC (H/T): 0.8207/0.8144\n",
      "  AP (H/T): 0.1933/0.1755\n",
      "  MRR (H/T): 0.1933/0.1755\n",
      "  Hits@1 (H/T): 0.0800/0.0600\n",
      "  Hits@10 (H/T): 0.4200/0.4000\n",
      "  MR (H/T): 7341.0400/7599.9800\n"
     ]
    },
    {
     "name": "stderr",
     "output_type": "stream",
     "text": [
      " 49%|████▉     | 49/100 [07:46<07:53,  9.28s/it]"
     ]
    },
    {
     "name": "stdout",
     "output_type": "stream",
     "text": [
      "Evaluating head corruption...\n",
      "Evaluating tail corruption...\n"
     ]
    },
    {
     "name": "stderr",
     "output_type": "stream",
     "text": [
      " 50%|█████     | 50/100 [07:58<08:18,  9.98s/it]"
     ]
    },
    {
     "name": "stdout",
     "output_type": "stream",
     "text": [
      "[R-LightGCN-COMP] Epoch 050 | Loss 0.3818\n",
      "  AUC (H/T): 0.8231/0.8171\n",
      "  AP (H/T): 0.1974/0.1918\n",
      "  MRR (H/T): 0.1974/0.1918\n",
      "  Hits@1 (H/T): 0.0800/0.1000\n",
      "  Hits@10 (H/T): 0.4200/0.4000\n",
      "  MR (H/T): 7244.8400/7488.4400\n"
     ]
    },
    {
     "name": "stderr",
     "output_type": "stream",
     "text": [
      " 54%|█████▍    | 54/100 [08:33<06:58,  9.10s/it]"
     ]
    },
    {
     "name": "stdout",
     "output_type": "stream",
     "text": [
      "Evaluating head corruption...\n",
      "Evaluating tail corruption...\n"
     ]
    },
    {
     "name": "stderr",
     "output_type": "stream",
     "text": [
      " 55%|█████▌    | 55/100 [08:45<07:28,  9.97s/it]"
     ]
    },
    {
     "name": "stdout",
     "output_type": "stream",
     "text": [
      "[R-LightGCN-COMP] Epoch 055 | Loss 0.3832\n",
      "  AUC (H/T): 0.8239/0.8192\n",
      "  AP (H/T): 0.1848/0.2010\n",
      "  MRR (H/T): 0.1848/0.2010\n",
      "  Hits@1 (H/T): 0.0600/0.1000\n",
      "  Hits@10 (H/T): 0.4200/0.4000\n",
      "  MR (H/T): 7212.2600/7404.8800\n"
     ]
    },
    {
     "name": "stderr",
     "output_type": "stream",
     "text": [
      " 59%|█████▉    | 59/100 [09:21<06:13,  9.12s/it]"
     ]
    },
    {
     "name": "stdout",
     "output_type": "stream",
     "text": [
      "Evaluating head corruption...\n",
      "Evaluating tail corruption...\n"
     ]
    },
    {
     "name": "stderr",
     "output_type": "stream",
     "text": [
      " 59%|█████▉    | 59/100 [09:33<06:38,  9.72s/it]"
     ]
    },
    {
     "name": "stdout",
     "output_type": "stream",
     "text": [
      "[R-LightGCN-COMP] Epoch 060 | Loss 0.3827\n",
      "  AUC (H/T): 0.8241/0.8200\n",
      "  AP (H/T): 0.1819/0.2023\n",
      "  MRR (H/T): 0.1819/0.2023\n",
      "  Hits@1 (H/T): 0.0600/0.1000\n",
      "  Hits@10 (H/T): 0.4200/0.4000\n",
      "  MR (H/T): 7204.2800/7370.4200\n",
      "Early stopping triggered at epoch 60\n",
      "Best AUC: 0.8525\n",
      "R-LightGCN training completed!\n"
     ]
    },
    {
     "name": "stderr",
     "output_type": "stream",
     "text": [
      "\n"
     ]
    },
    {
     "data": {
      "image/png": "[encoded data removed]",
      "text/plain": [
       "<Figure size 1500x1200 with 7 Axes>"
      ]
     },
     "metadata": {},
     "output_type": "display_data"
    },
    {
     "name": "stdout",
     "output_type": "stream",
     "text": [
      "Evaluating head corruption...\n",
      "Evaluating tail corruption...\n",
      "\n",
      "[R-LightGCN with Shuffled Triples][TEST RESULTS]\n",
      "AUC (H/T): 0.8045/0.8096\n",
      "MRR (H/T): 0.0616/0.0957\n",
      "Hits@1 (H/T): 0.0100/0.0400\n",
      "Hits@10 (H/T): 0.1800/0.2200\n",
      "MR (H/T): 8005.3/7797.5\n"
     ]
    }
   ],
   "source": [
    "# Build relation-aware edge_index and edge_type (with reverse edges)\n",
    "rel_edges = []\n",
    "rel_types = []\n",
    "\n",
    "for h, r, t in train_triples.tolist():\n",
    "    rel_edges.append((h, t)); rel_types.append(r)\n",
    "    rel_edges.append((t, h)); rel_types.append(r)  # add reverse edge with same relation\n",
    "\n",
    "rel_edge_index = torch.tensor(rel_edges, dtype=torch.long, device=device).t().contiguous()\n",
    "edge_type = torch.tensor(rel_types, dtype=torch.long, device=device)\n",
    "\n",
    "# Add self-loops with a new relation id\n",
    "self_loop_edges = torch.arange(num_entities, device=device)\n",
    "self_loop_edges = torch.stack([self_loop_edges, self_loop_edges], dim=0)  # [2, N]\n",
    "rel_edge_index = torch.cat([rel_edge_index, self_loop_edges], dim=1)\n",
    "\n",
    "self_loop_types = torch.full((num_entities,), num_relations, dtype=torch.long, device=device)\n",
    "edge_type = torch.cat([edge_type, self_loop_types], dim=0)\n",
    "\n",
    "# update relation count\n",
    "num_relations_with_loops = num_relations + 1\n",
    "\n",
    "# Training parameters\n",
    "lr = 1e-3\n",
    "epochs = 100\n",
    "emb_dim = 64\n",
    "num_layers = 3\n",
    "eval_every = 5\n",
    "patience = 10\n",
    "batch_size = 2048\n",
    "\n",
    "# Initialize tracking for R-LightGCN\n",
    "r_metrics_tracker = MetricsTracker()\n",
    "r_early_stopping = EarlyStopping(patience=patience, min_delta=0.001, metric='avg_auc')\n",
    "\n",
    "r_lightgcn_3 = RLightGCN(\n",
    "    num_nodes=num_entities,\n",
    "    num_relations=num_relations_with_loops,\n",
    "    emb_dim=emb_dim,\n",
    "    num_layers=num_layers\n",
    ").to(device)\n",
    "\n",
    "ropt = torch.optim.Adam(r_lightgcn_3.parameters(), lr=lr)\n",
    "\n",
    "print(\"Starting R-LightGCN training with enhanced features...\")\n",
    "print(f\"Max epochs: {epochs}, Early stopping patience: {patience}\")\n",
    "\n",
    "for epoch in tqdm(range(1, epochs + 1)):    \n",
    "    # Train with batching\n",
    "    avg_loss = train_one_epoch_r_lightgcn(\n",
    "        r_lightgcn_3, train_triples, ropt, \n",
    "        rel_edge_index, edge_type, num_entities, \n",
    "        batch_size, True\n",
    "    )\n",
    "\n",
    "    # Evaluation and metrics tracking\n",
    "    if epoch % eval_every == 0 or epoch == 1:\n",
    "        r_lightgcn_3.eval()\n",
    "\n",
    "            # Use small subset for comprehensive metrics to avoid long computation\n",
    "        val_subset = valid_triples[:50] if len(valid_triples) > 50 else valid_triples\n",
    "        \n",
    "        # Get comprehensive ranking metrics\n",
    "        r_ranking_metrics = evaluate_ranking_metrics(\n",
    "            r_lightgcn_3, None, val_subset, num_entities, \n",
    "            k_values=[1, 3, 5, 10], batch_size=10,\n",
    "            rel_edge_index=rel_edge_index, edge_type=edge_type\n",
    "        )\n",
    "\n",
    "        log_and_track_metrics(\n",
    "            epoch=epoch,\n",
    "            avg_loss=avg_loss,\n",
    "            val_ranking_metrics=r_ranking_metrics,\n",
    "            metrics_tracker=r_metrics_tracker,\n",
    "            model_name=\"R-LightGCN\"\n",
    "        )\n",
    "\n",
    "        if r_early_stopping(r_ranking_metrics, r_lightgcn_3):\n",
    "            print(f\"Early stopping triggered at epoch {epoch}\")\n",
    "            print(f\"Best AUC: {r_early_stopping.best_score:.4f}\")\n",
    "            break\n",
    "\n",
    "print(\"R-LightGCN training completed!\")\n",
    "\n",
    "# Plot training metrics\n",
    "r_metrics_tracker.plot(\"R-LightGCN Training Metrics\")\n",
    "\n",
    "# Final comprehensive test evaluation\n",
    "r_lightgcn_3.eval()\n",
    "test_subset = test_triples[:100]\n",
    "r_final_test_metrics = evaluate_ranking_metrics(\n",
    "    r_lightgcn_3, None, test_subset, num_entities, \n",
    "    k_values=[1, 3, 5, 10], batch_size=20,\n",
    "    rel_edge_index=rel_edge_index, edge_type=edge_type\n",
    ")\n",
    "\n",
    "print(f\"\\n[R-LightGCN with Shuffled Triples][TEST RESULTS]\")\n",
    "print(f\"AUC (H/T): {r_final_test_metrics['head']['auc']:.4f}/{r_final_test_metrics['tail']['auc']:.4f}\")\n",
    "print(f\"MRR (H/T): {r_final_test_metrics['head']['mrr']:.4f}/{r_final_test_metrics['tail']['mrr']:.4f}\")\n",
    "print(f\"Hits@1 (H/T): {r_final_test_metrics['head']['hits@1']:.4f}/{r_final_test_metrics['tail']['hits@1']:.4f}\")\n",
    "print(f\"Hits@10 (H/T): {r_final_test_metrics['head']['hits@10']:.4f}/{r_final_test_metrics['tail']['hits@10']:.4f}\")\n",
    "print(f\"MR (H/T): {r_final_test_metrics['head']['mr']:.1f}/{r_final_test_metrics['tail']['mr']:.1f}\")"
   ]
  },
  {
   "cell_type": "markdown",
   "id": "4367063d",
   "metadata": {},
   "source": [
    "# Save Model"
   ]
  },
  {
   "cell_type": "code",
   "execution_count": 122,
   "id": "b75f6fdf",
   "metadata": {},
   "outputs": [],
   "source": [
    "def print_training_history(metrics_tracker, model_name, early_stopping=None):\n",
    "    \"\"\"\n",
    "    Print a formatted training history summary similar to GAT output\n",
    "    \n",
    "    Args:\n",
    "        metrics_tracker: MetricsTracker instance with training history\n",
    "        model_name: Name of the model (e.g., \"LightGCN\", \"R-LightGCN\")\n",
    "        early_stopping: EarlyStopping instance (optional)\n",
    "    \"\"\"\n",
    "    output_lines = []\n",
    "    \n",
    "    output_lines.append(f\"\\n{model_name} Training History\")\n",
    "    output_lines.append(\"=\" * 60)\n",
    "    output_lines.append(\"\")\n",
    "    \n",
    "    # Get best validation AUC and corresponding epoch\n",
    "    epochs = metrics_tracker.metrics['epoch']\n",
    "    auc_head = metrics_tracker.metrics['val_auc_head']\n",
    "    auc_tail = metrics_tracker.metrics['val_auc_tail']\n",
    "    avg_auc = [(h + t) / 2 for h, t in zip(auc_head, auc_tail)]\n",
    "    \n",
    "    best_auc = max(avg_auc)\n",
    "    best_epoch = epochs[avg_auc.index(best_auc)]\n",
    "    total_epochs = len(epochs)\n",
    "    \n",
    "    output_lines.append(f\"Best Validation AUC: {best_auc:.4f}\")\n",
    "    output_lines.append(f\"Total Epochs Trained: {total_epochs}\")\n",
    "    if early_stopping and hasattr(early_stopping, 'best_score'):\n",
    "        output_lines.append(f\"Early Stopping Best Score: {early_stopping.best_score:.4f}\")\n",
    "    output_lines.append(\"\")\n",
    "    \n",
    "    # Print table header\n",
    "    output_lines.append(\"-\" * 60)\n",
    "    output_lines.append(f\"{'Epoch':<8} {'Train Loss':<15} {'Val AUC':<15} {'Val Hits@10':<15}\")\n",
    "    output_lines.append(\"-\" * 60)\n",
    "    \n",
    "    # Print each epoch's metrics\n",
    "    for i, epoch in enumerate(epochs):\n",
    "        train_loss = metrics_tracker.metrics['loss'][i]\n",
    "        val_auc = avg_auc[i]\n",
    "        val_hits10 = (metrics_tracker.metrics['val_hits@10_head'][i] + \n",
    "                      metrics_tracker.metrics['val_hits@10_tail'][i]) / 2\n",
    "        \n",
    "        output_lines.append(f\"{epoch:<8} {train_loss:<15.4f} {val_auc:<15.4f} {val_hits10:<15.4f}\")\n",
    "    \n",
    "    output_lines.append(\"\")\n",
    "    \n",
    "    # Print to console\n",
    "    for line in output_lines:\n",
    "        print(line)\n",
    "    \n",
    "    # Return lines for saving to file\n",
    "    return output_lines\n"
   ]
  },
  {
   "cell_type": "code",
   "execution_count": null,
   "id": "cd130960",
   "metadata": {},
   "outputs": [
    {
     "name": "stdout",
     "output_type": "stream",
     "text": [
      "\n",
      "LightGCN Training History\n",
      "============================================================\n",
      "\n",
      "Best Validation AUC: 0.9361\n",
      "Total Epochs Trained: 13\n",
      "Early Stopping Best Score: 0.9361\n",
      "\n",
      "------------------------------------------------------------\n",
      "Epoch    Train Loss      Val AUC         Val Hits@10    \n",
      "------------------------------------------------------------\n",
      "1        0.6914          0.9236          0.1000         \n",
      "5        0.5775          0.9319          0.1500         \n",
      "10       0.4721          0.9361          0.1700         \n",
      "15       0.4326          0.9359          0.2300         \n",
      "20       0.4137          0.9330          0.2700         \n",
      "25       0.4045          0.9331          0.2600         \n",
      "30       0.3990          0.9323          0.2700         \n",
      "35       0.3955          0.9314          0.2800         \n",
      "40       0.3937          0.9298          0.2700         \n",
      "45       0.3917          0.9295          0.2800         \n",
      "50       0.3902          0.9282          0.2900         \n",
      "55       0.3891          0.9277          0.2900         \n",
      "60       0.3862          0.9290          0.2900         \n",
      "\n",
      "\n",
      "R-LightGCN Training History\n",
      "============================================================\n",
      "\n",
      "Best Validation AUC: 0.8525\n",
      "Total Epochs Trained: 13\n",
      "Early Stopping Best Score: 0.8525\n",
      "\n",
      "------------------------------------------------------------\n",
      "Epoch    Train Loss      Val AUC         Val Hits@10    \n",
      "------------------------------------------------------------\n",
      "1        0.6931          0.6217          0.0200         \n",
      "5        0.6909          0.8358          0.1300         \n",
      "10       0.4849          0.8525          0.2200         \n",
      "15       0.4035          0.8460          0.2700         \n",
      "20       0.3952          0.8320          0.2900         \n",
      "25       0.3910          0.8219          0.3300         \n",
      "30       0.3875          0.8193          0.3600         \n",
      "35       0.3857          0.8191          0.3800         \n",
      "40       0.3853          0.8170          0.3800         \n",
      "45       0.3848          0.8176          0.4100         \n",
      "50       0.3818          0.8201          0.4100         \n",
      "55       0.3832          0.8215          0.4100         \n",
      "60       0.3827          0.8220          0.4100         \n",
      "\n",
      "Evaluating head corruption...\n",
      "Evaluating tail corruption...\n",
      "Both models saved with full training history and metadata!\n",
      "Files saved:\n",
      "- lightgcn_wn18rr_enhanced.pt\n",
      "- rlightgcn_wn18rr_enhanced.pt\n",
      "\n",
      "[SAVE SUMMARY]\n",
      "LightGCN - Final AUC (H/T): 0.9099/0.9164\n",
      "R-LightGCN - Final AUC (H/T): 0.8045/0.8096\n",
      "\n",
      "📄 Training results saved to: training_results_20251007_224203.txt\n",
      "💾 Model files saved:\n",
      "   - lightgcn_wn18rr_enhanced.pt\n",
      "   - rlightgcn_wn18rr_enhanced.pt\n"
     ]
    }
   ],
   "source": [
    "# Create metadata\n",
    "metadata = {\n",
    "    \"timestamp\": datetime.now().isoformat(),\n",
    "    \"dataset\": \"WN18RR\",\n",
    "    \"num_entities\": num_entities,\n",
    "    \"num_relations\": num_relations,\n",
    "    \"emb_dim\": emb_dim,\n",
    "    \"num_layers\": num_layers,\n",
    "    \"training_epochs\": epochs,\n",
    "    \"early_stopping_patience\": patience,\n",
    "    \"lr\": lr\n",
    "}\n",
    "\n",
    "# Collect all output for text file\n",
    "all_output_lines = []\n",
    "all_output_lines.append(f\"Model Training Results - {datetime.now().strftime('%Y-%m-%d %H:%M:%S')}\")\n",
    "all_output_lines.append(\"=\" * 80)\n",
    "all_output_lines.append(\"\")\n",
    "\n",
    "# Print and collect LightGCN training history\n",
    "lightgcn_history = print_training_history(lightgcn_metrics_tracker, \"LightGCN\", lightgcn_early_stopping)\n",
    "all_output_lines.extend(lightgcn_history)\n",
    "\n",
    "# Save LightGCN\n",
    "lightgcn_save_dict = {\n",
    "    \"model_state_dict\": lightgcn_3.state_dict(),\n",
    "    \"optimizer_state_dict\": opt_comprehensive.state_dict(),\n",
    "    \"metadata\": metadata,\n",
    "    \"training_metrics\": dict(lightgcn_metrics_tracker.metrics),\n",
    "    \"final_test_results\": {\n",
    "        \"head_auc\": lightgcn_final_test_metrics['head']['auc'],\n",
    "        \"tail_auc\": lightgcn_final_test_metrics['tail']['auc'],\n",
    "        \"head_ap\": lightgcn_final_test_metrics['head']['ap'],\n",
    "        \"tail_ap\": lightgcn_final_test_metrics['tail']['ap'],\n",
    "        \"head_mrr\": lightgcn_final_test_metrics['head']['mrr'],\n",
    "        \"tail_mrr\": lightgcn_final_test_metrics['tail']['mrr'],\n",
    "        \"head_hits@1\": lightgcn_final_test_metrics['head']['hits@1'],\n",
    "        \"tail_hits@1\": lightgcn_final_test_metrics['tail']['hits@1'],\n",
    "        \"head_hits@10\": lightgcn_final_test_metrics['head']['hits@10'],\n",
    "        \"tail_hits@10\": lightgcn_final_test_metrics['tail']['hits@10'],\n",
    "        \"head_mr\": lightgcn_final_test_metrics['head']['mr'],\n",
    "        \"tail_mr\": lightgcn_final_test_metrics['tail']['mr']\n",
    "    }\n",
    "}\n",
    "torch.save(lightgcn_save_dict, \"lightgcn_wn18rr.pt\")\n",
    "\n",
    "# Check for R-LightGCN and save if it exists\n",
    "if 'r_lightgcn_3' in locals() and 'ropt' in locals() and 'r_metrics_tracker' in locals():\n",
    "    # Print and collect R-LightGCN training history\n",
    "    r_lightgcn_history = print_training_history(r_metrics_tracker, \"R-LightGCN\", r_early_stopping)\n",
    "    all_output_lines.extend(r_lightgcn_history)\n",
    "    \n",
    "    # Get final test results for R-LightGCN using r_lightgcn_3 (the current model)\n",
    "    r_lightgcn_3.eval()\n",
    "    test_subset = test_triples[:100]\n",
    "    r_final_test_metrics = evaluate_ranking_metrics(\n",
    "        r_lightgcn_3, None, test_subset, num_entities, \n",
    "        k_values=[1, 3, 5, 10], batch_size=20,\n",
    "        rel_edge_index=rel_edge_index, edge_type=edge_type\n",
    "    )\n",
    "    \n",
    "    rlightgcn_metadata = metadata.copy()\n",
    "    rlightgcn_metadata[\"num_relations_with_loops\"] = num_relations_with_loops\n",
    "\n",
    "    rlightgcn_save_dict = {\n",
    "        \"model_state_dict\": r_lightgcn_3.state_dict(),\n",
    "        \"optimizer_state_dict\": ropt.state_dict(),\n",
    "        \"metadata\": rlightgcn_metadata,\n",
    "        \"training_metrics\": dict(r_metrics_tracker.metrics),\n",
    "        \"final_test_results\": {\n",
    "            \"head_auc\": r_final_test_metrics['head']['auc'],\n",
    "            \"tail_auc\": r_final_test_metrics['tail']['auc'],\n",
    "            \"head_ap\": r_final_test_metrics['head']['ap'],\n",
    "            \"tail_ap\": r_final_test_metrics['tail']['ap'],\n",
    "            \"head_mrr\": r_final_test_metrics['head']['mrr'],\n",
    "            \"tail_mrr\": r_final_test_metrics['tail']['mrr'],\n",
    "            \"head_hits@1\": r_final_test_metrics['head']['hits@1'],\n",
    "            \"tail_hits@1\": r_final_test_metrics['tail']['hits@1'],\n",
    "            \"head_hits@10\": r_final_test_metrics['head']['hits@10'],\n",
    "            \"tail_hits@10\": r_final_test_metrics['tail']['hits@10'],\n",
    "            \"head_mr\": r_final_test_metrics['head']['mr'],\n",
    "            \"tail_mr\": r_final_test_metrics['tail']['mr']\n",
    "        }\n",
    "    }\n",
    "    torch.save(rlightgcn_save_dict, \"rlightgcn_wn18rr.pt\")\n",
    "    \n",
    "    # Add final test results to output\n",
    "    all_output_lines.append(\"\\nFINAL TEST RESULTS\")\n",
    "    all_output_lines.append(\"=\" * 40)\n",
    "    all_output_lines.append(\"\")\n",
    "    all_output_lines.append(\"[LightGCN with Shuffled Triples]\")\n",
    "    all_output_lines.append(f\"AUC (H/T): {lightgcn_final_test_metrics['head']['auc']:.4f}/{lightgcn_final_test_metrics['tail']['auc']:.4f}\")\n",
    "    all_output_lines.append(f\"MRR (H/T): {lightgcn_final_test_metrics['head']['mrr']:.4f}/{lightgcn_final_test_metrics['tail']['mrr']:.4f}\")\n",
    "    all_output_lines.append(f\"Hits@1 (H/T): {lightgcn_final_test_metrics['head']['hits@1']:.4f}/{lightgcn_final_test_metrics['tail']['hits@1']:.4f}\")\n",
    "    all_output_lines.append(f\"Hits@10 (H/T): {lightgcn_final_test_metrics['head']['hits@10']:.4f}/{lightgcn_final_test_metrics['tail']['hits@10']:.4f}\")\n",
    "    all_output_lines.append(f\"MR (H/T): {lightgcn_final_test_metrics['head']['mr']:.1f}/{lightgcn_final_test_metrics['tail']['mr']:.1f}\")\n",
    "    all_output_lines.append(\"\")\n",
    "    all_output_lines.append(\"[R-LightGCN with Shuffled Triples]\")\n",
    "    all_output_lines.append(f\"AUC (H/T): {r_final_test_metrics['head']['auc']:.4f}/{r_final_test_metrics['tail']['auc']:.4f}\")\n",
    "    all_output_lines.append(f\"MRR (H/T): {r_final_test_metrics['head']['mrr']:.4f}/{r_final_test_metrics['tail']['mrr']:.4f}\")\n",
    "    all_output_lines.append(f\"Hits@1 (H/T): {r_final_test_metrics['head']['hits@1']:.4f}/{r_final_test_metrics['tail']['hits@1']:.4f}\")\n",
    "    all_output_lines.append(f\"Hits@10 (H/T): {r_final_test_metrics['head']['hits@10']:.4f}/{r_final_test_metrics['tail']['hits@10']:.4f}\")\n",
    "    all_output_lines.append(f\"MR (H/T): {r_final_test_metrics['head']['mr']:.1f}/{r_final_test_metrics['tail']['mr']:.1f}\")\n",
    "    \n",
    "    print(\"Both models saved with full training history and metadata!\")\n",
    "    print(\"Files saved:\")\n",
    "    print(\"- lightgcn_wn18rr.pt\")\n",
    "    print(\"- rlightgcn_wn18rr.pt\")\n",
    "    \n",
    "    # Print summary\n",
    "    print(f\"\\n[SAVE SUMMARY]\")\n",
    "    print(f\"LightGCN - Final AUC (H/T): {lightgcn_final_test_metrics['head']['auc']:.4f}/{lightgcn_final_test_metrics['tail']['auc']:.4f}\")\n",
    "    print(f\"R-LightGCN - Final AUC (H/T): {r_final_test_metrics['head']['auc']:.4f}/{r_final_test_metrics['tail']['auc']:.4f}\")\n",
    "    \n",
    "else:\n",
    "    # Add final test results for LightGCN only\n",
    "    all_output_lines.append(\"\\nFINAL TEST RESULTS\")\n",
    "    all_output_lines.append(\"=\" * 40)\n",
    "    all_output_lines.append(\"\")\n",
    "    all_output_lines.append(\"[LightGCN with Shuffled Triples]\")\n",
    "    all_output_lines.append(f\"AUC (H/T): {lightgcn_final_test_metrics['head']['auc']:.4f}/{lightgcn_final_test_metrics['tail']['auc']:.4f}\")\n",
    "    all_output_lines.append(f\"MRR (H/T): {lightgcn_final_test_metrics['head']['mrr']:.4f}/{lightgcn_final_test_metrics['tail']['mrr']:.4f}\")\n",
    "    all_output_lines.append(f\"Hits@1 (H/T): {lightgcn_final_test_metrics['head']['hits@1']:.4f}/{lightgcn_final_test_metrics['tail']['hits@1']:.4f}\")\n",
    "    all_output_lines.append(f\"Hits@10 (H/T): {lightgcn_final_test_metrics['head']['hits@10']:.4f}/{lightgcn_final_test_metrics['tail']['hits@10']:.4f}\")\n",
    "    all_output_lines.append(f\"MR (H/T): {lightgcn_final_test_metrics['head']['mr']:.1f}/{lightgcn_final_test_metrics['tail']['mr']:.1f}\")\n",
    "    \n",
    "    print(\"LightGCN model saved with full training history and metadata!\")\n",
    "    print(\"Files saved:\")\n",
    "    print(\"- lightgcn_wn18rr.pt\")\n",
    "    print(\"Note: R-LightGCN not found or not trained yet.\")\n",
    "\n",
    "# Save all output to text file\n",
    "output_filename = f\"training_results_{datetime.now().strftime('%Y%m%d_%H%M%S')}.txt\"\n",
    "with open(output_filename, 'w', encoding='utf-8') as f:\n",
    "    for line in all_output_lines:\n",
    "        f.write(line + '\\n')\n",
    "\n",
    "print(f\"\\nTraining results saved to: {output_filename}\")\n",
    "print(f\"Model files saved:\")\n",
    "print(f\"   - lightgcn_wn18rr.pt\")\n",
    "if 'r_lightgcn_3' in locals():\n",
    "    print(f\"   - rlightgcn_wn18rr.pt\")"
   ]
  }
 ],
 "metadata": {
  "kernelspec": {
   "display_name": "Python 3",
   "language": "python",
   "name": "python3"
  },
  "language_info": {
   "codemirror_mode": {
    "name": "ipython",
    "version": 3
   },
   "file_extension": ".py",
   "mimetype": "text/x-python",
   "name": "python",
   "nbconvert_exporter": "python",
   "pygments_lexer": "ipython3",
   "version": "3.12.5"
  }
 },
 "nbformat": 4,
 "nbformat_minor": 5
}
