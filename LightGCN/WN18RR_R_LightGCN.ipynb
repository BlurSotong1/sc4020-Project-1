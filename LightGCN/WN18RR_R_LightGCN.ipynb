{
  "cells": [
    {
      "cell_type": "code",
      "execution_count": 1,
      "id": "9fbce62e",
      "metadata": {
        "colab": {
          "base_uri": "https://localhost:8080/"
        },
        "id": "9fbce62e",
        "outputId": "a8e9e453-0e8b-4a71-b749-404cda5a5890"
      },
      "outputs": [
        {
          "name": "stdout",
          "output_type": "stream",
          "text": [
            "Found existing installation: torch 2.2.0+cu118\n",
            "Uninstalling torch-2.2.0+cu118:\n",
            "  Successfully uninstalled torch-2.2.0+cu118\n",
            "Found existing installation: torchvision 0.17.0+cu118\n",
            "Uninstalling torchvision-0.17.0+cu118:\n",
            "  Successfully uninstalled torchvision-0.17.0+cu118\n",
            "Found existing installation: torchaudio 2.2.0+cu118\n",
            "Uninstalling torchaudio-2.2.0+cu118:\n",
            "  Successfully uninstalled torchaudio-2.2.0+cu118\n",
            "Looking in indexes: https://download.pytorch.org/whl/cu118\n",
            "Collecting torch==2.2.0\n",
            "  Using cached https://download.pytorch.org/whl/cu118/torch-2.2.0%2Bcu118-cp312-cp312-linux_x86_64.whl (811.6 MB)\n",
            "Collecting torchvision==0.17.0\n",
            "  Using cached https://download.pytorch.org/whl/cu118/torchvision-0.17.0%2Bcu118-cp312-cp312-linux_x86_64.whl (6.2 MB)\n",
            "Collecting torchaudio==2.2.0\n",
            "  Using cached https://download.pytorch.org/whl/cu118/torchaudio-2.2.0%2Bcu118-cp312-cp312-linux_x86_64.whl (3.3 MB)\n",
            "Requirement already satisfied: filelock in /usr/local/lib/python3.12/dist-packages (from torch==2.2.0) (3.20.0)\n",
            "Requirement already satisfied: typing-extensions>=4.8.0 in /usr/local/lib/python3.12/dist-packages (from torch==2.2.0) (4.15.0)\n",
            "Requirement already satisfied: sympy in /usr/local/lib/python3.12/dist-packages (from torch==2.2.0) (1.13.3)\n",
            "Requirement already satisfied: networkx in /usr/local/lib/python3.12/dist-packages (from torch==2.2.0) (3.5)\n",
            "Requirement already satisfied: jinja2 in /usr/local/lib/python3.12/dist-packages (from torch==2.2.0) (3.1.6)\n",
            "Requirement already satisfied: fsspec in /usr/local/lib/python3.12/dist-packages (from torch==2.2.0) (2025.3.0)\n",
            "Requirement already satisfied: nvidia-cuda-nvrtc-cu11==11.8.89 in /usr/local/lib/python3.12/dist-packages (from torch==2.2.0) (11.8.89)\n",
            "Requirement already satisfied: nvidia-cuda-runtime-cu11==11.8.89 in /usr/local/lib/python3.12/dist-packages (from torch==2.2.0) (11.8.89)\n",
            "Requirement already satisfied: nvidia-cuda-cupti-cu11==11.8.87 in /usr/local/lib/python3.12/dist-packages (from torch==2.2.0) (11.8.87)\n",
            "Requirement already satisfied: nvidia-cudnn-cu11==8.7.0.84 in /usr/local/lib/python3.12/dist-packages (from torch==2.2.0) (8.7.0.84)\n",
            "Requirement already satisfied: nvidia-cublas-cu11==11.11.3.6 in /usr/local/lib/python3.12/dist-packages (from torch==2.2.0) (11.11.3.6)\n",
            "Requirement already satisfied: nvidia-cufft-cu11==10.9.0.58 in /usr/local/lib/python3.12/dist-packages (from torch==2.2.0) (10.9.0.58)\n",
            "Requirement already satisfied: nvidia-curand-cu11==10.3.0.86 in /usr/local/lib/python3.12/dist-packages (from torch==2.2.0) (10.3.0.86)\n",
            "Requirement already satisfied: nvidia-cusolver-cu11==11.4.1.48 in /usr/local/lib/python3.12/dist-packages (from torch==2.2.0) (11.4.1.48)\n",
            "Requirement already satisfied: nvidia-cusparse-cu11==11.7.5.86 in /usr/local/lib/python3.12/dist-packages (from torch==2.2.0) (11.7.5.86)\n",
            "Requirement already satisfied: nvidia-nccl-cu11==2.19.3 in /usr/local/lib/python3.12/dist-packages (from torch==2.2.0) (2.19.3)\n",
            "Requirement already satisfied: nvidia-nvtx-cu11==11.8.86 in /usr/local/lib/python3.12/dist-packages (from torch==2.2.0) (11.8.86)\n",
            "Requirement already satisfied: numpy in /usr/local/lib/python3.12/dist-packages (from torchvision==0.17.0) (2.3.4)\n",
            "Requirement already satisfied: requests in /usr/local/lib/python3.12/dist-packages (from torchvision==0.17.0) (2.32.4)\n",
            "Requirement already satisfied: pillow!=8.3.*,>=5.3.0 in /usr/local/lib/python3.12/dist-packages (from torchvision==0.17.0) (11.3.0)\n",
            "Requirement already satisfied: MarkupSafe>=2.0 in /usr/local/lib/python3.12/dist-packages (from jinja2->torch==2.2.0) (3.0.3)\n",
            "Requirement already satisfied: charset_normalizer<4,>=2 in /usr/local/lib/python3.12/dist-packages (from requests->torchvision==0.17.0) (3.4.3)\n",
            "Requirement already satisfied: idna<4,>=2.5 in /usr/local/lib/python3.12/dist-packages (from requests->torchvision==0.17.0) (3.10)\n",
            "Requirement already satisfied: urllib3<3,>=1.21.1 in /usr/local/lib/python3.12/dist-packages (from requests->torchvision==0.17.0) (2.5.0)\n",
            "Requirement already satisfied: certifi>=2017.4.17 in /usr/local/lib/python3.12/dist-packages (from requests->torchvision==0.17.0) (2025.10.5)\n",
            "Requirement already satisfied: mpmath<1.4,>=1.1.0 in /usr/local/lib/python3.12/dist-packages (from sympy->torch==2.2.0) (1.3.0)\n",
            "Installing collected packages: torch, torchvision, torchaudio\n",
            "Successfully installed torch-2.2.0+cu118 torchaudio-2.2.0+cu118 torchvision-0.17.0+cu118\n",
            "Looking in links: https://pytorch-geometric.com/whl/torch-2.2.0+cu118.html\n",
            "Requirement already satisfied: torch-scatter in /usr/local/lib/python3.12/dist-packages (2.1.2+pt22cu118)\n",
            "Requirement already satisfied: torch_geometric in /usr/local/lib/python3.12/dist-packages (2.7.0)\n",
            "Requirement already satisfied: torchmetrics in /usr/local/lib/python3.12/dist-packages (1.8.2)\n",
            "Requirement already satisfied: aiohttp in /usr/local/lib/python3.12/dist-packages (from torch_geometric) (3.13.0)\n",
            "Requirement already satisfied: fsspec in /usr/local/lib/python3.12/dist-packages (from torch_geometric) (2025.3.0)\n",
            "Requirement already satisfied: jinja2 in /usr/local/lib/python3.12/dist-packages (from torch_geometric) (3.1.6)\n",
            "Requirement already satisfied: numpy in /usr/local/lib/python3.12/dist-packages (from torch_geometric) (2.3.4)\n",
            "Requirement already satisfied: psutil>=5.8.0 in /usr/local/lib/python3.12/dist-packages (from torch_geometric) (5.9.5)\n",
            "Requirement already satisfied: pyparsing in /usr/local/lib/python3.12/dist-packages (from torch_geometric) (3.2.5)\n",
            "Requirement already satisfied: requests in /usr/local/lib/python3.12/dist-packages (from torch_geometric) (2.32.4)\n",
            "Requirement already satisfied: tqdm in /usr/local/lib/python3.12/dist-packages (from torch_geometric) (4.67.1)\n",
            "Requirement already satisfied: xxhash in /usr/local/lib/python3.12/dist-packages (from torch_geometric) (3.6.0)\n",
            "Requirement already satisfied: packaging>17.1 in /usr/local/lib/python3.12/dist-packages (from torchmetrics) (25.0)\n",
            "Requirement already satisfied: torch>=2.0.0 in /usr/local/lib/python3.12/dist-packages (from torchmetrics) (2.2.0+cu118)\n",
            "Requirement already satisfied: lightning-utilities>=0.8.0 in /usr/local/lib/python3.12/dist-packages (from torchmetrics) (0.15.2)\n",
            "Requirement already satisfied: setuptools in /usr/local/lib/python3.12/dist-packages (from lightning-utilities>=0.8.0->torchmetrics) (75.2.0)\n",
            "Requirement already satisfied: typing_extensions in /usr/local/lib/python3.12/dist-packages (from lightning-utilities>=0.8.0->torchmetrics) (4.15.0)\n",
            "Requirement already satisfied: filelock in /usr/local/lib/python3.12/dist-packages (from torch>=2.0.0->torchmetrics) (3.20.0)\n",
            "Requirement already satisfied: sympy in /usr/local/lib/python3.12/dist-packages (from torch>=2.0.0->torchmetrics) (1.13.3)\n",
            "Requirement already satisfied: networkx in /usr/local/lib/python3.12/dist-packages (from torch>=2.0.0->torchmetrics) (3.5)\n",
            "Requirement already satisfied: nvidia-cuda-nvrtc-cu11==11.8.89 in /usr/local/lib/python3.12/dist-packages (from torch>=2.0.0->torchmetrics) (11.8.89)\n",
            "Requirement already satisfied: nvidia-cuda-runtime-cu11==11.8.89 in /usr/local/lib/python3.12/dist-packages (from torch>=2.0.0->torchmetrics) (11.8.89)\n",
            "Requirement already satisfied: nvidia-cuda-cupti-cu11==11.8.87 in /usr/local/lib/python3.12/dist-packages (from torch>=2.0.0->torchmetrics) (11.8.87)\n",
            "Requirement already satisfied: nvidia-cudnn-cu11==8.7.0.84 in /usr/local/lib/python3.12/dist-packages (from torch>=2.0.0->torchmetrics) (8.7.0.84)\n",
            "Requirement already satisfied: nvidia-cublas-cu11==11.11.3.6 in /usr/local/lib/python3.12/dist-packages (from torch>=2.0.0->torchmetrics) (11.11.3.6)\n",
            "Requirement already satisfied: nvidia-cufft-cu11==10.9.0.58 in /usr/local/lib/python3.12/dist-packages (from torch>=2.0.0->torchmetrics) (10.9.0.58)\n",
            "Requirement already satisfied: nvidia-curand-cu11==10.3.0.86 in /usr/local/lib/python3.12/dist-packages (from torch>=2.0.0->torchmetrics) (10.3.0.86)\n",
            "Requirement already satisfied: nvidia-cusolver-cu11==11.4.1.48 in /usr/local/lib/python3.12/dist-packages (from torch>=2.0.0->torchmetrics) (11.4.1.48)\n",
            "Requirement already satisfied: nvidia-cusparse-cu11==11.7.5.86 in /usr/local/lib/python3.12/dist-packages (from torch>=2.0.0->torchmetrics) (11.7.5.86)\n",
            "Requirement already satisfied: nvidia-nccl-cu11==2.19.3 in /usr/local/lib/python3.12/dist-packages (from torch>=2.0.0->torchmetrics) (2.19.3)\n",
            "Requirement already satisfied: nvidia-nvtx-cu11==11.8.86 in /usr/local/lib/python3.12/dist-packages (from torch>=2.0.0->torchmetrics) (11.8.86)\n",
            "Requirement already satisfied: aiohappyeyeballs>=2.5.0 in /usr/local/lib/python3.12/dist-packages (from aiohttp->torch_geometric) (2.6.1)\n",
            "Requirement already satisfied: aiosignal>=1.4.0 in /usr/local/lib/python3.12/dist-packages (from aiohttp->torch_geometric) (1.4.0)\n",
            "Requirement already satisfied: attrs>=17.3.0 in /usr/local/lib/python3.12/dist-packages (from aiohttp->torch_geometric) (25.4.0)\n",
            "Requirement already satisfied: frozenlist>=1.1.1 in /usr/local/lib/python3.12/dist-packages (from aiohttp->torch_geometric) (1.8.0)\n",
            "Requirement already satisfied: multidict<7.0,>=4.5 in /usr/local/lib/python3.12/dist-packages (from aiohttp->torch_geometric) (6.7.0)\n",
            "Requirement already satisfied: propcache>=0.2.0 in /usr/local/lib/python3.12/dist-packages (from aiohttp->torch_geometric) (0.3.2)\n",
            "Requirement already satisfied: yarl<2.0,>=1.17.0 in /usr/local/lib/python3.12/dist-packages (from aiohttp->torch_geometric) (1.22.0)\n",
            "Requirement already satisfied: MarkupSafe>=2.0 in /usr/local/lib/python3.12/dist-packages (from jinja2->torch_geometric) (3.0.3)\n",
            "Requirement already satisfied: charset_normalizer<4,>=2 in /usr/local/lib/python3.12/dist-packages (from requests->torch_geometric) (3.4.3)\n",
            "Requirement already satisfied: idna<4,>=2.5 in /usr/local/lib/python3.12/dist-packages (from requests->torch_geometric) (3.10)\n",
            "Requirement already satisfied: urllib3<3,>=1.21.1 in /usr/local/lib/python3.12/dist-packages (from requests->torch_geometric) (2.5.0)\n",
            "Requirement already satisfied: certifi>=2017.4.17 in /usr/local/lib/python3.12/dist-packages (from requests->torch_geometric) (2025.10.5)\n",
            "Requirement already satisfied: mpmath<1.4,>=1.1.0 in /usr/local/lib/python3.12/dist-packages (from sympy->torch>=2.0.0->torchmetrics) (1.3.0)\n"
          ]
        }
      ],
      "source": [
        "!pip uninstall -y torch torchvision torchaudio\n",
        "\n",
        "# Install PyTorch 2.2.0 with CUDA 11.8\n",
        "!pip install torch==2.2.0 torchvision==0.17.0 torchaudio==2.2.0 --index-url https://download.pytorch.org/whl/cu118\n",
        "\n",
        "# Install torch-scatter for PyTorch 2.2.0 + CUDA 11.8\n",
        "!pip install torch-scatter -f https://pytorch-geometric.com/whl/torch-2.2.0+cu118.html\n",
        "\n",
        "!pip install torch_geometric torchmetrics"
      ]
    },
    {
      "cell_type": "code",
      "execution_count": null,
      "id": "f6010c34",
      "metadata": {
        "id": "f6010c34"
      },
      "outputs": [],
      "source": [
        "# -----------------------------\n",
        "# Standard library\n",
        "# -----------------------------\n",
        "import os\n",
        "import csv\n",
        "import random\n",
        "from pathlib import Path\n",
        "from collections import defaultdict\n",
        "from typing import List, Tuple, Dict, Optional\n",
        "\n",
        "# -----------------------------\n",
        "# Third-party libraries\n",
        "# -----------------------------\n",
        "import numpy as np\n",
        "from tqdm import tqdm\n",
        "from sklearn.metrics import roc_auc_score\n",
        "from google.colab import drive\n",
        "\n",
        "# -----------------------------\n",
        "# PyTorch and PyG libraries\n",
        "# -----------------------------\n",
        "import torch\n",
        "import torch.nn as nn\n",
        "import torch.nn.functional as F\n",
        "import torch.optim as optim\n",
        "from torch.utils.data import Dataset, DataLoader, TensorDataset\n",
        "from torch_geometric.utils import degree, add_self_loops\n",
        "from torch_geometric.nn import MessagePassing\n",
        "from torch_scatter import scatter\n",
        "from torchmetrics.classification import BinaryAUROC\n",
        "\n",
        "# import sys\n",
        "# current_dir = Path(__file__).parent if '__file__' in globals() else Path.cwd()\n",
        "# parent_dir = current_dir.parent\n",
        "# sys.path.append(str(parent_dir))\n",
        "# from utility.dataset_loader import KGDataModuleCollapsed, KGDataModuleTyped"
      ]
    },
    {
      "cell_type": "code",
      "execution_count": 17,
      "id": "LrHH5gxS2OL1",
      "metadata": {
        "id": "LrHH5gxS2OL1"
      },
      "outputs": [],
      "source": [
        "# -----------------------\n",
        "# Helpers\n",
        "# -----------------------\n",
        "def _read_triples(path: Path) -> List[Tuple[str, str, str]]:\n",
        "    triples = []\n",
        "    with open(path, \"r\", newline=\"\") as f:\n",
        "        reader = csv.reader(f, delimiter=\"\\t\")\n",
        "        for row in reader:\n",
        "            if not row:\n",
        "                continue\n",
        "            h, r, t = row\n",
        "            triples.append((h, r, t))\n",
        "    return triples\n",
        "\n",
        "\n",
        "def _build_id_maps(\n",
        "        train_p: Path,\n",
        "        valid_p: Optional[Path] = None,\n",
        "        test_p: Optional[Path] = None,\n",
        ") -> Tuple[Dict[str, int], Dict[str, int]]:\n",
        "    \"\"\"Build ent2id and rel2id from all splits available.\"\"\"\n",
        "    ents, rels = set(), set()\n",
        "    for p in [train_p, valid_p, test_p]:\n",
        "        if p is None:\n",
        "            continue\n",
        "        for h, r, t in _read_triples(p):\n",
        "            ents.add(h); ents.add(t); rels.add(r)\n",
        "    ent2id = {e: i for i, e in enumerate(sorted(ents))}\n",
        "    rel2id = {r: i for i, r in enumerate(sorted(rels))}\n",
        "    return ent2id, rel2id\n",
        "\n",
        "\n",
        "# -----------------------\n",
        "# Datasets\n",
        "# -----------------------\n",
        "class _PairsDataset(Dataset):\n",
        "    \"\"\"Untyped pairs (h, t), label=1 for each positive edge.\"\"\"\n",
        "    def __init__(self, pairs: torch.LongTensor):\n",
        "        # pairs: [N,2]\n",
        "        self.pairs = pairs\n",
        "        self.labels = torch.ones(pairs.size(0), dtype=torch.float32)\n",
        "\n",
        "    def __len__(self):\n",
        "        return self.pairs.size(0)\n",
        "\n",
        "    def __getitem__(self, idx):\n",
        "        return self.pairs[idx], self.labels[idx]\n",
        "\n",
        "\n",
        "class _TriplesDataset(Dataset):\n",
        "    \"\"\"Typed triples (h, r, t), label=1 for each positive triple.\"\"\"\n",
        "    def __init__(self, triples: torch.LongTensor):\n",
        "        # triples: [N,3]\n",
        "        self.triples = triples\n",
        "        self.labels = torch.ones(triples.size(0), dtype=torch.float32)\n",
        "\n",
        "    def __len__(self):\n",
        "        return self.triples.size(0)\n",
        "\n",
        "    def __getitem__(self, idx):\n",
        "        return self.triples[idx], self.labels[idx]\n",
        "\n",
        "\n",
        "# ============================================================\n",
        "# Collapsed edge types (untyped) datamodule\n",
        "# ============================================================\n",
        "class KGDataModuleCollapsed:\n",
        "    \"\"\"\n",
        "    Produces untyped (h, t) pairs from KG triples.\n",
        "\n",
        "    Public methods:\n",
        "      - train_loader()\n",
        "      - val_loader()\n",
        "      - test_loader()\n",
        "\n",
        "    Args:\n",
        "        train_path, valid_path, test_path: Path to split files (WN18RR format).\n",
        "        batch_size: int\n",
        "        shuffle: bool (applied to train loader only)\n",
        "        num_workers: int (DataLoader)\n",
        "        add_reverse: if True, also add (t, h) for every (h, t)\n",
        "    \"\"\"\n",
        "    def __init__(\n",
        "            self,\n",
        "            train_path: Path,\n",
        "            valid_path: Optional[Path] = None,\n",
        "            test_path: Optional[Path] = None,\n",
        "            batch_size: int = 2048,\n",
        "            shuffle: bool = True,\n",
        "            num_workers: int = 0,\n",
        "            add_reverse: bool = True,\n",
        "    ):\n",
        "        self.train_path = Path(train_path)\n",
        "        self.valid_path = Path(valid_path) if valid_path else None\n",
        "        self.test_path  = Path(test_path)  if test_path  else None\n",
        "\n",
        "        self.batch_size = batch_size\n",
        "        self.shuffle = shuffle\n",
        "        self.num_workers = num_workers\n",
        "        self.add_reverse = add_reverse\n",
        "\n",
        "        # Build ids\n",
        "        self.ent2id, self.rel2id = _build_id_maps(self.train_path, self.valid_path, self.test_path)\n",
        "\n",
        "        # Build tensors per split\n",
        "        self._train_pairs = self._make_pairs(self.train_path)\n",
        "        self._valid_pairs = self._make_pairs(self.valid_path) if self.valid_path else None\n",
        "        self._test_pairs  = self._make_pairs(self.test_path)  if self.test_path  else None\n",
        "\n",
        "        # Datasets\n",
        "        self._train_ds = _PairsDataset(self._train_pairs)\n",
        "        self._valid_ds = _PairsDataset(self._valid_pairs) if self._valid_pairs is not None else None\n",
        "        self._test_ds  = _PairsDataset(self._test_pairs)  if self._test_pairs  is not None else None\n",
        "\n",
        "    def _make_pairs(self, path: Path) -> torch.LongTensor:\n",
        "        pairs = []\n",
        "        for h, _, t in _read_triples(path):\n",
        "            h_id, t_id = self.ent2id[h], self.ent2id[t]\n",
        "            pairs.append((h_id, t_id))\n",
        "            if self.add_reverse:\n",
        "                pairs.append((t_id, h_id))\n",
        "        if not pairs:\n",
        "            return torch.empty(0, 2, dtype=torch.long)\n",
        "        return torch.tensor(pairs, dtype=torch.long)\n",
        "\n",
        "    # -------- public loaders --------\n",
        "    def train_loader(self) -> DataLoader:\n",
        "        return DataLoader(\n",
        "            self._train_ds, batch_size=self.batch_size, shuffle=self.shuffle,\n",
        "            num_workers=self.num_workers, pin_memory=False\n",
        "        )\n",
        "\n",
        "    def val_loader(self) -> Optional[DataLoader]:\n",
        "        if self._valid_ds is None:\n",
        "            return None\n",
        "        return DataLoader(\n",
        "            self._valid_ds, batch_size=self.batch_size, shuffle=False,\n",
        "            num_workers=self.num_workers, pin_memory=False\n",
        "        )\n",
        "\n",
        "    def test_loader(self) -> Optional[DataLoader]:\n",
        "        if self._test_ds is None:\n",
        "            return None\n",
        "        return DataLoader(\n",
        "            self._test_ds, batch_size=self.batch_size, shuffle=False,\n",
        "            num_workers=self.num_workers, pin_memory=False\n",
        "        )\n",
        "\n",
        "\n",
        "# ============================================================\n",
        "# Typed (with edge types) datamodule\n",
        "# ============================================================\n",
        "class KGDataModuleTyped:\n",
        "    \"\"\"\n",
        "    Produces typed (h, r, t) triples from KG files.\n",
        "\n",
        "    Public methods:\n",
        "      - train_loader()\n",
        "      - val_loader()\n",
        "      - test_loader()\n",
        "\n",
        "    Args:\n",
        "        train_path, valid_path, test_path: Path to split files.\n",
        "        batch_size, shuffle, num_workers: DataLoader args.\n",
        "        add_reverse: If True, add reverse links.\n",
        "        reverse_relation_strategy:\n",
        "            'duplicate_rel' -> create an inverse relation id per r (e.g., r#inv)\n",
        "            'same_rel'      -> reuse the same r id for reverse triple\n",
        "    \"\"\"\n",
        "    def __init__(\n",
        "            self,\n",
        "            train_path: Path,\n",
        "            valid_path: Optional[Path] = None,\n",
        "            test_path: Optional[Path] = None,\n",
        "            batch_size: int = 2048,\n",
        "            shuffle: bool = True,\n",
        "            num_workers: int = 0,\n",
        "            add_reverse: bool = True,\n",
        "            reverse_relation_strategy: str = \"duplicate_rel\",\n",
        "    ):\n",
        "        assert reverse_relation_strategy in (\"duplicate_rel\", \"same_rel\")\n",
        "        self.train_path = Path(train_path)\n",
        "        self.valid_path = Path(valid_path) if valid_path else None\n",
        "        self.test_path  = Path(test_path)  if test_path  else None\n",
        "\n",
        "        self.batch_size = batch_size\n",
        "        self.shuffle = shuffle\n",
        "        self.num_workers = num_workers\n",
        "        self.add_reverse = add_reverse\n",
        "        self.reverse_relation_strategy = reverse_relation_strategy\n",
        "\n",
        "        # Base id maps from original relations\n",
        "        self.ent2id, base_rel2id = _build_id_maps(self.train_path, self.valid_path, self.test_path)\n",
        "\n",
        "        # Possibly extend rel2id with inverse relations\n",
        "        if add_reverse and reverse_relation_strategy == \"duplicate_rel\":\n",
        "            # Make space for inverse ids\n",
        "            self.rel2id = dict(base_rel2id)\n",
        "            self.inv_of = {}  # map original rel -> inverse rel id\n",
        "            next_id = max(self.rel2id.values(), default=-1) + 1\n",
        "            # Ensure deterministic order\n",
        "            for r in sorted(base_rel2id.keys()):\n",
        "                inv_name = r + \"_rev\"\n",
        "                if inv_name not in self.rel2id:\n",
        "                    self.rel2id[inv_name] = next_id\n",
        "                    self.inv_of[r] = next_id\n",
        "                    next_id += 1\n",
        "        else:\n",
        "            self.rel2id = base_rel2id\n",
        "            self.inv_of = None  # not used\n",
        "\n",
        "        # Build tensors per split\n",
        "        self._train_triples = self._make_triples(self.train_path)\n",
        "        self._valid_triples = self._make_triples(self.valid_path) if self.valid_path else None\n",
        "        self._test_triples  = self._make_triples(self.test_path)  if self.test_path  else None\n",
        "\n",
        "        # Datasets\n",
        "        self._train_ds = _TriplesDataset(self._train_triples)\n",
        "        self._valid_ds = _TriplesDataset(self._valid_triples) if self._valid_triples is not None else None\n",
        "        self._test_ds  = _TriplesDataset(self._test_triples)  if self._test_triples  is not None else None\n",
        "\n",
        "    def _make_triples(self, path: Path) -> torch.LongTensor:\n",
        "        if path is None:\n",
        "            return torch.empty(0, 3, dtype=torch.long)\n",
        "\n",
        "        rows = []\n",
        "        for h, r, t in _read_triples(path):\n",
        "            h_id, t_id = self.ent2id[h], self.ent2id[t]\n",
        "            r_id = self.rel2id[r]  # original direction\n",
        "            rows.append((h_id, r_id, t_id))\n",
        "\n",
        "            if self.add_reverse:\n",
        "                if self.reverse_relation_strategy == \"duplicate_rel\":\n",
        "                    r_inv_id = self.inv_of[r]  # created in __init__\n",
        "                    rows.append((t_id, r_inv_id, h_id))\n",
        "                else:  # same_rel\n",
        "                    rows.append((t_id, r_id, h_id))\n",
        "\n",
        "        if not rows:\n",
        "            return torch.empty(0, 3, dtype=torch.long)\n",
        "        return torch.tensor(rows, dtype=torch.long)\n",
        "\n",
        "    # -------- public loaders --------\n",
        "    def train_loader(self) -> DataLoader:\n",
        "        return DataLoader(\n",
        "            self._train_ds, batch_size=self.batch_size, shuffle=self.shuffle,\n",
        "            num_workers=self.num_workers, pin_memory=False\n",
        "        )\n",
        "\n",
        "    def val_loader(self) -> Optional[DataLoader]:\n",
        "        if self._valid_ds is None:\n",
        "            return None\n",
        "        return DataLoader(\n",
        "            self._valid_ds, batch_size=self.batch_size, shuffle=False,\n",
        "            num_workers=self.num_workers, pin_memory=False\n",
        "        )\n",
        "\n",
        "    def test_loader(self) -> Optional[DataLoader]:\n",
        "        if self._test_ds is None:\n",
        "            return None\n",
        "        return DataLoader(\n",
        "            self._test_ds, batch_size=self.batch_size, shuffle=False,\n",
        "            num_workers=self.num_workers, pin_memory=False\n",
        "        )"
      ]
    },
    {
      "cell_type": "code",
      "execution_count": 4,
      "id": "8dbc9974",
      "metadata": {
        "colab": {
          "base_uri": "https://localhost:8080/"
        },
        "id": "8dbc9974",
        "outputId": "a3833846-5a29-4115-afd9-b74f625a5107"
      },
      "outputs": [
        {
          "name": "stdout",
          "output_type": "stream",
          "text": [
            "Using device: cuda\n",
            "Drive already mounted at /content/drive; to attempt to forcibly remount, call drive.mount(\"/content/drive\", force_remount=True).\n",
            "Dataset: WN18RR\n",
            "Entities: 40,943\n",
            "Original Relations: 11\n",
            "Relations (with inverse): 22\n",
            "Training pairs: 173,670\n",
            "Training triples (typed): 173,670\n",
            "Graph edges (with self-loops): 214,613\n",
            "Graph edge_index shape: (2, 214613)\n",
            "Data loaders created:\n",
            "Train batches (collapsed): 43\n",
            "Val batches (collapsed): 2\n",
            "Test batches (collapsed): 2\n"
          ]
        }
      ],
      "source": [
        "# Dataset loading using dataset_loader.py\n",
        "SEED = 42\n",
        "random.seed(SEED); np.random.seed(SEED); torch.manual_seed(SEED)\n",
        "\n",
        "device = torch.device(\"cuda\" if torch.cuda.is_available() else \"cpu\")\n",
        "print(f\"Using device: {device}\")\n",
        "\n",
        "# Mount Google Drive\n",
        "drive.mount('/content/drive')\n",
        "\n",
        "# Define the path to your dataset\n",
        "base_path = Path(\"/content/drive/My Drive/NTU/Y3S1/SC4020 Data Analytics and Mining/WN18RR\")\n",
        "\n",
        "# Dataset paths\n",
        "train_path = base_path / \"train.txt\"\n",
        "valid_path = base_path / \"valid.txt\"\n",
        "test_path = base_path / \"test.txt\"\n",
        "\n",
        "# Initialize data modules\n",
        "# Collapsed mode for LightGCN (untyped pairs)\n",
        "dm_collapsed = KGDataModuleCollapsed(\n",
        "    train_path=train_path,\n",
        "    valid_path=valid_path,\n",
        "    test_path=test_path,\n",
        "    batch_size=4096,\n",
        "    shuffle=True,\n",
        "    add_reverse=True\n",
        ")\n",
        "\n",
        "# Typed mode for R-LightGCN (typed triples)\n",
        "dm_typed = KGDataModuleTyped(\n",
        "    train_path=train_path,\n",
        "    valid_path=valid_path,\n",
        "    test_path=test_path,\n",
        "    batch_size=4096,\n",
        "    shuffle=True,\n",
        "    add_reverse=True,\n",
        "    reverse_relation_strategy=\"duplicate_rel\"\n",
        ")\n",
        "\n",
        "num_entities = len(dm_collapsed.ent2id)\n",
        "num_relations = len(dm_collapsed.rel2id)  # Original relations\n",
        "num_relations_with_inv = len(dm_typed.rel2id)  # With inverse relations\n",
        "\n",
        "print(f\"Dataset: WN18RR\")\n",
        "print(f\"Entities: {num_entities:,}\")\n",
        "print(f\"Original Relations: {num_relations:,}\")\n",
        "print(f\"Relations (with inverse): {num_relations_with_inv:,}\")\n",
        "print(f\"Training pairs: {len(dm_collapsed._train_pairs):,}\")\n",
        "print(f\"Training triples (typed): {len(dm_typed._train_triples):,}\")\n",
        "\n",
        "# Build edge_index for LightGCN (collapsed pairs)\n",
        "edge_index = dm_collapsed._train_pairs.t().contiguous().to(device)\n",
        "edge_index, _ = add_self_loops(edge_index, num_nodes=num_entities)\n",
        "\n",
        "print(f\"Graph edges (with self-loops): {edge_index.shape[1]:,}\")\n",
        "print(f\"Graph edge_index shape: {tuple(edge_index.shape)}\")\n",
        "\n",
        "train_loader_collapsed = dm_collapsed.train_loader()\n",
        "val_loader_collapsed = dm_collapsed.val_loader()\n",
        "test_loader_collapsed = dm_collapsed.test_loader()\n",
        "\n",
        "train_loader_typed = dm_typed.train_loader()\n",
        "val_loader_typed = dm_typed.val_loader()\n",
        "test_loader_typed = dm_typed.test_loader()\n",
        "\n",
        "print(f\"Data loaders created:\")\n",
        "print(f\"Train batches (collapsed): {len(train_loader_collapsed)}\")\n",
        "print(f\"Val batches (collapsed): {len(val_loader_collapsed) if val_loader_collapsed else 0}\")\n",
        "print(f\"Test batches (collapsed): {len(test_loader_collapsed) if test_loader_collapsed else 0}\")"
      ]
    },
    {
      "cell_type": "code",
      "execution_count": 19,
      "id": "3b71c39b",
      "metadata": {
        "id": "3b71c39b"
      },
      "outputs": [],
      "source": [
        "# Model Saving Utility Functions\n",
        "def save_model_checkpoint(model, optimizer, hyperparameters, final_test_metrics,\n",
        "                         training_history, model_name, filename):\n",
        "    \"\"\"\n",
        "    Save model checkpoint with comprehensive information.\n",
        "\n",
        "    Args:\n",
        "        model: The trained model\n",
        "        optimizer: The optimizer used\n",
        "        hyperparameters: Dict with training hyperparameters\n",
        "        final_test_metrics: Final test evaluation results\n",
        "        training_history: Training metrics history\n",
        "        model_name: Name of the model for display\n",
        "        filename: Output filename for the checkpoint\n",
        "    \"\"\"\n",
        "    checkpoint = {\n",
        "        'model_state_dict': model.state_dict(),\n",
        "        'optimizer_state_dict': optimizer.state_dict(),\n",
        "        'hyperparameters': hyperparameters,\n",
        "        'final_test_metrics': final_test_metrics,\n",
        "        'training_history': training_history,\n",
        "        'model_name': model_name\n",
        "    }\n",
        "\n",
        "    torch.save(checkpoint, filename)\n",
        "    print(f\"{model_name} model checkpoint saved to {filename}\")\n",
        "\n",
        "def load_model_checkpoint(filename, model_class, device, **model_kwargs):\n",
        "    \"\"\"\n",
        "    Load model checkpoint and restore model state.\n",
        "\n",
        "    Args:\n",
        "        filename: Path to checkpoint file\n",
        "        model_class: Model class to instantiate\n",
        "        device: Device to load model on\n",
        "        **model_kwargs: Arguments for model instantiation\n",
        "\n",
        "    Returns:\n",
        "        model: Loaded model\n",
        "        checkpoint: Full checkpoint data\n",
        "    \"\"\"\n",
        "    checkpoint = torch.load(filename, map_location=device)\n",
        "\n",
        "    # Create model instance\n",
        "    model = model_class(**model_kwargs).to(device)\n",
        "    model.load_state_dict(checkpoint['model_state_dict'])\n",
        "\n",
        "    print(f\"Model loaded from {filename}\")\n",
        "    print(f\"Model: {checkpoint.get('model_name', 'Unknown')}\")\n",
        "    print(f\"Hyperparameters: {checkpoint.get('hyperparameters', {})}\")\n",
        "\n",
        "    if 'final_test_metrics' in checkpoint:\n",
        "        metrics = checkpoint['final_test_metrics']\n",
        "        if 'head' in metrics and 'tail' in metrics:\n",
        "            auc_avg = (metrics['head']['auc'] + metrics['tail']['auc']) / 2\n",
        "            hits10_avg = (metrics['head']['hits@10'] + metrics['tail']['hits@10']) / 2\n",
        "            print(f\"Test AUC (avg): {auc_avg:.4f}\")\n",
        "            print(f\"Test Hits@10 (avg): {hits10_avg:.4f}\")\n",
        "\n",
        "    return model, checkpoint"
      ]
    },
    {
      "cell_type": "code",
      "execution_count": null,
      "id": "ecde7083",
      "metadata": {
        "id": "ecde7083"
      },
      "outputs": [],
      "source": [
        "class EarlyStopping:\n",
        "    \"\"\"\n",
        "    Stop training if validation metric does not improve for 'patience' epochs.\n",
        "    \"\"\"\n",
        "    def __init__(self, patience=5, mode='max', min_delta=1e-4):\n",
        "        self.patience = patience\n",
        "        self.mode = mode\n",
        "        self.min_delta = min_delta\n",
        "        self.best_score = None\n",
        "        self.counter = 0\n",
        "        self.early_stop = False\n",
        "\n",
        "    def __call__(self, current_score):\n",
        "        if self.best_score is None:\n",
        "            self.best_score = current_score\n",
        "            return False\n",
        "\n",
        "        if self.mode == 'max':\n",
        "            improvement = current_score - self.best_score\n",
        "        else:\n",
        "            improvement = self.best_score - current_score\n",
        "\n",
        "        if improvement > self.min_delta:\n",
        "            self.best_score = current_score\n",
        "            self.counter = 0\n",
        "        else:\n",
        "            self.counter += 1\n",
        "\n",
        "        if self.counter >= self.patience:\n",
        "            self.early_stop = True\n",
        "\n",
        "        return self.early_stop\n",
        "\n",
        "class MetricsTracker:\n",
        "    \"\"\"Simplified metrics tracker for training metrics without head/tail split\"\"\"\n",
        "    def __init__(self):\n",
        "        self.metrics = defaultdict(list)\n",
        "\n",
        "    def add(self, epoch, **kwargs):\n",
        "        \"\"\"Add metrics for a given epoch\"\"\"\n",
        "        self.metrics['epoch'].append(epoch)\n",
        "        for key, value in kwargs.items():\n",
        "            self.metrics[key].append(value)\n",
        "\n",
        "    def get_best_epoch(self, metric='val_auc'):\n",
        "        \"\"\"Return the epoch with the best value for the given metric (higher is better)\"\"\"\n",
        "        if metric not in self.metrics or not self.metrics[metric]:\n",
        "            return 0\n",
        "        best_idx = np.argmax(self.metrics[metric])\n",
        "        return self.metrics['epoch'][best_idx]\n",
        "\n",
        "    def save_to_file(self, filepath):\n",
        "        \"\"\"Save metrics to a text file in tabular format\"\"\"\n",
        "        with open(filepath, 'w') as f:\n",
        "            f.write(\"Epoch\\tLoss\\tVal_AUC\\tHits@1\\tHits@5\\tHits@10\\n\")\n",
        "            for i in range(len(self.metrics['epoch'])):\n",
        "                epoch = self.metrics['epoch'][i]\n",
        "                loss = self.metrics['loss'][i]\n",
        "                val_auc = self.metrics['val_auc'][i]\n",
        "                hits1 = self.metrics['hits1'][i]\n",
        "                hits5 = self.metrics['hits5'][i]\n",
        "                hits10 = self.metrics['hits10'][i]\n",
        "                f.write(f\"{epoch}\\t{loss:.6f}\\t{val_auc:.6f}\\t{hits1:.6f}\\t{hits5:.6f}\\t{hits10:.6f}\\n\")\n"
      ]
    },
    {
      "cell_type": "code",
      "execution_count": null,
      "id": "bbf04eb1",
      "metadata": {
        "id": "bbf04eb1"
      },
      "outputs": [],
      "source": [
        "# -----------------------------\n",
        "# Decoders\n",
        "# -----------------------------\n",
        "class DotProductDecoder(nn.Module):\n",
        "    def forward(self, z: torch.Tensor, pairs: torch.LongTensor) -> torch.Tensor:\n",
        "        return (z[pairs[:, 0]] * z[pairs[:, 1]]).sum(dim=1)\n",
        "\n",
        "class DistMultDecoder(nn.Module):\n",
        "    def __init__(self, num_relations: int, emb_dim: int):\n",
        "        super().__init__()\n",
        "        self.rel_emb = nn.Embedding(num_relations, emb_dim)\n",
        "        nn.init.xavier_uniform_(self.rel_emb.weight)\n",
        "\n",
        "    def forward(self, z: torch.Tensor, triples: torch.LongTensor) -> torch.Tensor:\n",
        "        h, r, t = triples[:, 0], triples[:, 1], triples[:, 2]\n",
        "        r_vec = self.rel_emb(r)\n",
        "        return (z[h] * r_vec * z[t]).sum(dim=1)\n",
        "\n",
        "    @torch.no_grad()\n",
        "    def score_heads(self, z: torch.Tensor, r: int, t: int, entity_indices: torch.Tensor) -> torch.Tensor:\n",
        "        r_vec = self.rel_emb.weight[r]\n",
        "        chunk = z[entity_indices]\n",
        "        return (chunk * r_vec * z[t]).sum(dim=1)\n",
        "\n",
        "    @torch.no_grad()\n",
        "    def score_tails(self, z: torch.Tensor, h: int, r: int, entity_indices: torch.Tensor) -> torch.Tensor:\n",
        "        r_vec = self.rel_emb.weight[r]\n",
        "        chunk = z[entity_indices]\n",
        "        return (z[h] * r_vec * chunk).sum(dim=1)\n",
        "\n",
        "# -----------------------------\n",
        "# R-LightGCNConv with variants\n",
        "# -----------------------------\n",
        "class RLightGCNConvVar(MessagePassing):\n",
        "    def __init__(self, num_relations: int, emb_dim: int, rel_emb: nn.Embedding,\n",
        "                 relation_transform: str = 'scalar', norm_type: str = 'global'):\n",
        "        super().__init__(aggr='add')\n",
        "        assert relation_transform in {'scalar','diagonal'}\n",
        "        assert norm_type in {'global','per_relation'}\n",
        "        self.rel_emb = rel_emb\n",
        "        self.emb_dim = emb_dim\n",
        "        self.relation_transform = relation_transform\n",
        "        self.norm_type = norm_type\n",
        "\n",
        "        if relation_transform == 'scalar':\n",
        "            self.rel_scale = nn.Embedding(num_relations, 1)\n",
        "            nn.init.ones_(self.rel_scale.weight)\n",
        "        else:\n",
        "            self.rel_scale = nn.Embedding(num_relations, emb_dim)\n",
        "            nn.init.ones_(self.rel_scale.weight)\n",
        "\n",
        "    def forward(self, x: torch.Tensor, edge_index: torch.Tensor, edge_type: torch.LongTensor) -> torch.Tensor:\n",
        "        row, col = edge_index\n",
        "        if self.norm_type == 'global':\n",
        "            deg = torch.bincount(col, minlength=x.size(0)).float()\n",
        "            deg_inv_sqrt = deg.clamp(min=1).pow(-0.5)\n",
        "            norm = deg_inv_sqrt[row] * deg_inv_sqrt[col]\n",
        "        else:  # per_relation\n",
        "            num_nodes = x.size(0)\n",
        "            num_rel = self.rel_emb.num_embeddings\n",
        "            keys_col = edge_type.long() * num_nodes + col.long()\n",
        "            keys_row = edge_type.long() * num_nodes + row.long()\n",
        "            ones = torch.ones_like(col, dtype=x.dtype)\n",
        "            dim_size = int(num_rel * num_nodes)\n",
        "            deg_col_per_key = scatter(ones, keys_col, dim=0, dim_size=dim_size)\n",
        "            deg_row_per_key = scatter(ones, keys_row, dim=0, dim_size=dim_size)\n",
        "            deg_col = deg_col_per_key[keys_col]\n",
        "            deg_row = deg_row_per_key[keys_row]\n",
        "            norm = deg_row.clamp(min=1).pow(-0.5) * deg_col.clamp(min=1).pow(-0.5)\n",
        "        return self.propagate(edge_index, x=x, edge_type=edge_type, norm=norm)\n",
        "\n",
        "    def message(self, x_j: torch.Tensor, edge_type: torch.LongTensor, norm: torch.Tensor) -> torch.Tensor:\n",
        "        if self.relation_transform == 'scalar':\n",
        "            out = x_j * self.rel_scale(edge_type)\n",
        "        else:\n",
        "            out = x_j * self.rel_scale(edge_type)\n",
        "        return norm.view(-1, 1) * out\n",
        "\n",
        "# -----------------------------\n",
        "# R-LightGCNVar model\n",
        "# -----------------------------\n",
        "class RLightGCNVar(nn.Module):\n",
        "    def __init__(self, num_nodes: int, num_relations: int, emb_dim: int = 64, num_layers: int = 3,\n",
        "                 relation_transform: str = 'scalar', norm_type: str = 'global', decoder: str = 'distmult'):\n",
        "        super().__init__()\n",
        "        self.embedding = nn.Embedding(num_nodes, emb_dim)\n",
        "        nn.init.xavier_uniform_(self.embedding.weight)\n",
        "        self.rel_emb = nn.Embedding(num_relations, emb_dim)\n",
        "        nn.init.xavier_uniform_(self.rel_emb.weight)\n",
        "        self.convs = nn.ModuleList([\n",
        "            RLightGCNConvVar(num_relations, emb_dim, self.rel_emb, relation_transform, norm_type)\n",
        "            for _ in range(num_layers)\n",
        "        ])\n",
        "        self.num_layers = num_layers\n",
        "        self.decoder_type = decoder.lower()\n",
        "        if self.decoder_type == 'distmult':\n",
        "            self.decoder = DistMultDecoder(num_relations, emb_dim)\n",
        "        elif self.decoder_type == 'dot':\n",
        "            self.decoder = DotProductDecoder()\n",
        "        else:\n",
        "            raise ValueError(\"decoder must be 'dot' or 'distmult'\")\n",
        "\n",
        "    def encode(self, edge_index: torch.Tensor, edge_type: torch.LongTensor = None) -> torch.Tensor:\n",
        "        x = self.embedding.weight\n",
        "        out = x\n",
        "        for conv in self.convs:\n",
        "            x = conv(x, edge_index, edge_type)\n",
        "            out = out + x\n",
        "        return out / (self.num_layers + 1)\n",
        "\n",
        "    def score_triples(self, z: torch.Tensor, triples: torch.LongTensor) -> torch.Tensor:\n",
        "        if self.decoder_type == 'dot':\n",
        "            pairs = triples[:, [0, 2]]\n",
        "            return self.decoder(z, pairs)\n",
        "        else:\n",
        "            return self.decoder(z, triples)\n",
        "\n",
        "# -----------------------------\n",
        "# Training function\n",
        "# -----------------------------\n",
        "def train_one_epoch_r_lightgcn_var(model, data_loader, optimizer, rel_edge_index, edge_type, device,\n",
        "                                   num_entities, max_grad_norm=5.0):\n",
        "    model.train()\n",
        "    total_loss = 0.0\n",
        "    steps = 0\n",
        "    for batch in data_loader:\n",
        "        optimizer.zero_grad()\n",
        "        triples = batch[0] if isinstance(batch, (list, tuple)) else batch\n",
        "        triples = triples.to(device)\n",
        "        if triples.dim() == 1: triples = triples.unsqueeze(0)\n",
        "\n",
        "        z = model.encode(rel_edge_index, edge_type)\n",
        "        z = z / (z.norm(dim=1, keepdim=True) + 1e-9)\n",
        "\n",
        "        pos_scores = model.score_triples(z, triples)\n",
        "\n",
        "        B = triples.size(0)\n",
        "        neg_heads = torch.randint(0, num_entities, (B,), device=device)\n",
        "        neg_tails = torch.randint(0, num_entities, (B,), device=device)\n",
        "        neg_h_triples = triples.clone(); neg_h_triples[:, 0] = neg_heads\n",
        "        neg_t_triples = triples.clone(); neg_t_triples[:, 2] = neg_tails\n",
        "        neg_scores_h = model.score_triples(z, neg_h_triples)\n",
        "        neg_scores_t = model.score_triples(z, neg_t_triples)\n",
        "\n",
        "        loss = F.softplus(-(pos_scores - neg_scores_h)).mean() + \\\n",
        "               F.softplus(-(pos_scores - neg_scores_t)).mean()\n",
        "        if not torch.isfinite(loss): continue\n",
        "        loss.backward()\n",
        "        if max_grad_norm is not None:\n",
        "            torch.nn.utils.clip_grad_norm_(model.parameters(), max_grad_norm)\n",
        "        optimizer.step()\n",
        "        total_loss += loss.item()\n",
        "        steps += 1\n",
        "    return total_loss / max(1, steps)\n",
        "\n",
        "# -----------------------------\n",
        "# Evaluation\n",
        "# -----------------------------\n",
        "def evaluate_auc_hits(model, triples, num_entities, edge_index=None, edge_type=None,\n",
        "                      batch_size=4096, device=None):\n",
        "    \"\"\"\n",
        "    AUC + Hits@K evaluation (averaged, tail-corruption)\n",
        "    Works for dot or distmult decoders\n",
        "    \"\"\"\n",
        "    model.eval()\n",
        "    if device is None:\n",
        "        device = next(model.parameters()).device\n",
        "\n",
        "    if triples.numel() == 0:\n",
        "        # Handle empty validation set\n",
        "        return {\"auc\": 0.5, \"hits@1\": 0.0, \"hits@5\": 0.0, \"hits@10\": 0.0}\n",
        "\n",
        "    def batch_iter(tensor, size):\n",
        "        for i in range(0, len(tensor), size):\n",
        "            yield tensor[i:i+size]\n",
        "\n",
        "    def sample_negatives(pos_batch):\n",
        "        neg_batch = pos_batch.clone()\n",
        "        neg_batch[:, -1] = torch.randint(0, num_entities, (pos_batch.size(0),), device=pos_batch.device)\n",
        "        return neg_batch\n",
        "\n",
        "    scores_all, labels_all = [], []\n",
        "\n",
        "    with torch.no_grad():\n",
        "        emb = model.encode(edge_index, edge_type)\n",
        "        emb = emb / (emb.norm(dim=1, keepdim=True) + 1e-9)\n",
        "\n",
        "        for pos in batch_iter(triples, batch_size):\n",
        "            if pos.size(0) == 0:\n",
        "                continue\n",
        "\n",
        "            pos = pos.to(device)\n",
        "            neg = sample_negatives(pos)\n",
        "\n",
        "            if isinstance(model.decoder, DistMultDecoder):\n",
        "                s_pos = model.decoder(emb, pos)\n",
        "                s_neg = model.decoder(emb, neg)\n",
        "            else:\n",
        "                s_pos = (emb[pos[:,0]] * emb[pos[:,-1]]).sum(dim=1)\n",
        "                s_neg = (emb[neg[:,0]] * emb[neg[:,-1]]).sum(dim=1)\n",
        "\n",
        "            scores_all.append(torch.cat([s_pos, s_neg], dim=0))\n",
        "            labels_all.append(torch.cat([torch.ones_like(s_pos), torch.zeros_like(s_neg)], dim=0))\n",
        "\n",
        "    # If no scores were collected, return defaults\n",
        "    if len(scores_all) == 0:\n",
        "        return {\"auc\": 0.5, \"hits@1\": 0.0, \"hits@5\": 0.0, \"hits@10\": 0.0}\n",
        "\n",
        "    scores_all = torch.cat(scores_all, dim=0)\n",
        "    labels_all = torch.cat(labels_all, dim=0)\n",
        "\n",
        "    # Compute ROC-AUC using torchmetrics (pure torch, avoids numpy)\n",
        "    try:\n",
        "        auroc_metric = BinaryAUROC().to(scores_all.device)\n",
        "        auc = auroc_metric(scores_all, labels_all.int()).item()\n",
        "    except Exception:\n",
        "        auc = 0.5\n",
        "\n",
        "    # Hits@K evaluation\n",
        "    hits_at = {1:0, 5:0, 10:0}\n",
        "    n_trials = 0\n",
        "\n",
        "    with torch.no_grad():\n",
        "        for pos in batch_iter(triples, batch_size):\n",
        "            if pos.size(0) == 0:\n",
        "                continue\n",
        "\n",
        "            pos = pos.to(device)\n",
        "            B = pos.size(0)\n",
        "            true_t = pos[:, -1]\n",
        "            rand_t = torch.randint(0, num_entities, (B, 99), device=device)\n",
        "            tails = torch.cat([true_t.unsqueeze(1), rand_t], dim=1)\n",
        "\n",
        "            e_h = emb[pos[:,0]]\n",
        "            e_candidates = emb[tails]\n",
        "            s = (e_h.unsqueeze(1) * e_candidates).sum(dim=2)\n",
        "            ranks = (s.argsort(dim=1, descending=True) == 0).nonzero()[:,1] + 1\n",
        "\n",
        "            for k in hits_at.keys():\n",
        "                hits_at[k] += (ranks <= k).sum().item()\n",
        "            n_trials += B\n",
        "\n",
        "    hits_at = {f\"hits@{k}\": v / n_trials for k, v in hits_at.items()}\n",
        "    return {\"auc\": float(auc), **hits_at}\n",
        "\n"
      ]
    },
    {
      "cell_type": "code",
      "execution_count": null,
      "id": "e2db1138",
      "metadata": {
        "id": "e2db1138"
      },
      "outputs": [],
      "source": [
        "def run_r_lightgcn_ablation(\n",
        "    num_nodes, num_relations, train_loader, val_triples,\n",
        "    edge_index, edge_type, emb_dim=64, num_layers=3,\n",
        "    lr=0.001, epochs=100, batch_size=2048, patience=10,\n",
        "    save_dir=\"/content/drive/My Drive/NTU/Y3S1/SC4020 Data Analytics and Mining/checkpoints/WN18RR\",\n",
        "    ABLATION_CONFIGS=None, device=None\n",
        "):\n",
        "    device = device or torch.device(\"cuda\" if torch.cuda.is_available() else \"cpu\")\n",
        "    os.makedirs(save_dir, exist_ok=True)\n",
        "    all_metrics = {}\n",
        "\n",
        "    # --- Sanity checks ---\n",
        "    assert val_triples.max() < num_nodes, f\"Validation node index {val_triples.max()} >= num_nodes {num_nodes}\"\n",
        "    assert edge_index.max() < num_nodes, f\"Edge index max {edge_index.max()} >= num_nodes {num_nodes}\"\n",
        "    assert edge_type.max() < num_relations, f\"Relation index max {edge_type.max()} >= num_relations {num_relations}\"\n",
        "\n",
        "    # --- Combined tracker for all models ---\n",
        "    combined_tracker = MetricsTracker()\n",
        "\n",
        "    for cfg in ABLATION_CONFIGS:\n",
        "        print(f\"\\n=== Training {cfg['name']} ===\")\n",
        "        model = RLightGCNVar(\n",
        "            num_nodes=num_nodes,\n",
        "            num_relations=num_relations,\n",
        "            emb_dim=emb_dim,\n",
        "            num_layers=num_layers,\n",
        "            relation_transform=cfg['relation_transform'],\n",
        "            norm_type=cfg['norm_type'],\n",
        "            decoder=cfg['decoder']\n",
        "        ).to(device)\n",
        "        optimizer = optim.Adam(model.parameters(), lr=lr)\n",
        "\n",
        "        best_val_auc = 0.0\n",
        "        epochs_no_improve = 0\n",
        "\n",
        "        # --- Initialize per-model tracker ---\n",
        "        tracker = MetricsTracker()\n",
        "\n",
        "        for epoch in tqdm(range(1, epochs+1), desc=f\"Training {cfg['name']}\"):\n",
        "            loss = train_one_epoch_r_lightgcn_var(\n",
        "                model, train_loader, optimizer,\n",
        "                edge_index, edge_type,\n",
        "                device, num_nodes\n",
        "            )\n",
        "\n",
        "            if epoch <= 3 or epoch % 5 == 0:\n",
        "                print(f\"Epoch {epoch:3d} | Loss: {loss:.4f}\")\n",
        "\n",
        "            # --- Evaluate ---\n",
        "            val_metrics = evaluate_auc_hits(\n",
        "                model, val_triples, num_nodes,\n",
        "                edge_index=edge_index, edge_type=edge_type,\n",
        "                batch_size=batch_size, device=device\n",
        "            )\n",
        "            val_auc = val_metrics[\"auc\"]\n",
        "            if val_auc > best_val_auc:\n",
        "                best_val_auc = val_auc\n",
        "                epochs_no_improve = 0\n",
        "            else:\n",
        "                epochs_no_improve += 1\n",
        "\n",
        "            # --- Track metrics (no head/tail split) ---\n",
        "            tracker.add(\n",
        "                epoch,\n",
        "                loss=loss,\n",
        "                val_auc=val_metrics.get('auc', 0.0),\n",
        "                hits1=val_metrics.get('hits@1', 0.0),\n",
        "                hits5=val_metrics.get('hits@5', 0.0),\n",
        "                hits10=val_metrics.get('hits@10', 0.0)\n",
        "            )\n",
        "\n",
        "            # --- Add to combined tracker ---\n",
        "            combined_tracker.add(\n",
        "                epoch,\n",
        "                model_name=cfg['name'],\n",
        "                loss=loss,\n",
        "                val_auc=val_metrics.get('auc', 0.0),\n",
        "                hits1=val_metrics.get('hits@1', 0.0),\n",
        "                hits5=val_metrics.get('hits@5', 0.0),\n",
        "                hits10=val_metrics.get('hits@10', 0.0)\n",
        "            )\n",
        "\n",
        "            if epochs_no_improve >= patience:\n",
        "                print(f\"Early stopping triggered at epoch {epoch}\")\n",
        "                break\n",
        "\n",
        "        print(f\"Validation metrics for {cfg['name']}: {val_metrics}\")\n",
        "\n",
        "        # --- Save final model to drive ---\n",
        "        model_file = os.path.join(save_dir, f\"{cfg['name']}.pt\")\n",
        "        torch.save(model.state_dict(), model_file)\n",
        "        print(f\"Final model saved: {model_file}\")\n",
        "\n",
        "        # --- Save per-model metrics table ---\n",
        "        metrics_file = os.path.join(save_dir, f\"{cfg['name']}_metrics.txt\")\n",
        "        with open(metrics_file, \"w\") as f:\n",
        "            f.write(\"Epoch\\tLoss\\tVal_AUC\\tHits@1\\tHits@5\\tHits@10\\n\")\n",
        "            for i in range(len(tracker.metrics['epoch'])):\n",
        "                f.write(f\"{tracker.metrics['epoch'][i]}\\t{tracker.metrics['loss'][i]:.6f}\\t\"\n",
        "                        f\"{tracker.metrics['val_auc'][i]:.6f}\\t{tracker.metrics['hits1'][i]:.6f}\\t\"\n",
        "                        f\"{tracker.metrics['hits5'][i]:.6f}\\t{tracker.metrics['hits10'][i]:.6f}\\n\")\n",
        "        print(f\"Per-model metrics saved to {metrics_file}\")\n",
        "\n",
        "        all_metrics[cfg['name']] = val_metrics\n",
        "\n",
        "    # --- Save combined table for all models ---\n",
        "    combined_file = os.path.join(save_dir, \"all_models_metrics.txt\")\n",
        "    with open(combined_file, \"w\") as f:\n",
        "        f.write(\"Model\\tEpoch\\tLoss\\tVal_AUC\\tHits@1\\tHits@5\\tHits@10\\n\")\n",
        "        for i in range(len(combined_tracker.metrics['epoch'])):\n",
        "            f.write(f\"{combined_tracker.metrics.get('model_name', [''])[i]}\\t\"\n",
        "                    f\"{combined_tracker.metrics['epoch'][i]}\\t\"\n",
        "                    f\"{combined_tracker.metrics['loss'][i]:.6f}\\t\"\n",
        "                    f\"{combined_tracker.metrics['val_auc'][i]:.6f}\\t\"\n",
        "                    f\"{combined_tracker.metrics['hits1'][i]:.6f}\\t\"\n",
        "                    f\"{combined_tracker.metrics['hits5'][i]:.6f}\\t\"\n",
        "                    f\"{combined_tracker.metrics['hits10'][i]:.6f}\\n\")\n",
        "    print(f\"Combined metrics table saved to {combined_file}\")\n",
        "\n",
        "    print(f\"\\nAll ablation experiments completed. Metrics saved in {save_dir}\")\n",
        "    return all_metrics\n"
      ]
    },
    {
      "cell_type": "code",
      "execution_count": null,
      "id": "b-YZKmLrLFcK",
      "metadata": {
        "colab": {
          "base_uri": "https://localhost:8080/"
        },
        "id": "b-YZKmLrLFcK",
        "outputId": "fcba2a7d-129f-467f-d6ec-9953e0d64096"
      },
      "outputs": [
        {
          "name": "stdout",
          "output_type": "stream",
          "text": [
            "\n",
            "=== Training R-LightGCN-Basic-Global-Dot ===\n"
          ]
        },
        {
          "name": "stderr",
          "output_type": "stream",
          "text": [
            "Training R-LightGCN-Basic-Global-Dot:   1%|          | 1/100 [00:03<04:57,  3.00s/it]"
          ]
        },
        {
          "name": "stdout",
          "output_type": "stream",
          "text": [
            "Epoch   1 | Loss: 0.7934\n"
          ]
        },
        {
          "name": "stderr",
          "output_type": "stream",
          "text": [
            "\rTraining R-LightGCN-Basic-Global-Dot:   2%|▏         | 2/100 [00:05<04:50,  2.97s/it]"
          ]
        },
        {
          "name": "stdout",
          "output_type": "stream",
          "text": [
            "Epoch   2 | Loss: 0.7083\n"
          ]
        },
        {
          "name": "stderr",
          "output_type": "stream",
          "text": [
            "\rTraining R-LightGCN-Basic-Global-Dot:   3%|▎         | 3/100 [00:09<05:01,  3.11s/it]"
          ]
        },
        {
          "name": "stdout",
          "output_type": "stream",
          "text": [
            "Epoch   3 | Loss: 0.6929\n"
          ]
        },
        {
          "name": "stderr",
          "output_type": "stream",
          "text": [
            "Training R-LightGCN-Basic-Global-Dot:   5%|▌         | 5/100 [00:15<04:47,  3.03s/it]"
          ]
        },
        {
          "name": "stdout",
          "output_type": "stream",
          "text": [
            "Epoch   5 | Loss: 0.6811\n"
          ]
        },
        {
          "name": "stderr",
          "output_type": "stream",
          "text": [
            "Training R-LightGCN-Basic-Global-Dot:  10%|█         | 10/100 [00:30<04:30,  3.01s/it]"
          ]
        },
        {
          "name": "stdout",
          "output_type": "stream",
          "text": [
            "Epoch  10 | Loss: 0.6722\n"
          ]
        },
        {
          "name": "stderr",
          "output_type": "stream",
          "text": [
            "Training R-LightGCN-Basic-Global-Dot:  15%|█▌        | 15/100 [00:45<04:21,  3.08s/it]"
          ]
        },
        {
          "name": "stdout",
          "output_type": "stream",
          "text": [
            "Epoch  15 | Loss: 0.6693\n"
          ]
        },
        {
          "name": "stderr",
          "output_type": "stream",
          "text": [
            "Training R-LightGCN-Basic-Global-Dot:  20%|██        | 20/100 [01:01<03:59,  2.99s/it]"
          ]
        },
        {
          "name": "stdout",
          "output_type": "stream",
          "text": [
            "Epoch  20 | Loss: 0.6675\n"
          ]
        },
        {
          "name": "stderr",
          "output_type": "stream",
          "text": [
            "Training R-LightGCN-Basic-Global-Dot:  25%|██▌       | 25/100 [01:16<03:49,  3.06s/it]"
          ]
        },
        {
          "name": "stdout",
          "output_type": "stream",
          "text": [
            "Epoch  25 | Loss: 0.6662\n"
          ]
        },
        {
          "name": "stderr",
          "output_type": "stream",
          "text": [
            "Training R-LightGCN-Basic-Global-Dot:  30%|███       | 30/100 [01:32<03:43,  3.19s/it]"
          ]
        },
        {
          "name": "stdout",
          "output_type": "stream",
          "text": [
            "Epoch  30 | Loss: 0.6653\n"
          ]
        },
        {
          "name": "stderr",
          "output_type": "stream",
          "text": [
            "\rTraining R-LightGCN-Basic-Global-Dot:  30%|███       | 30/100 [01:35<03:41,  3.17s/it]\n"
          ]
        },
        {
          "name": "stdout",
          "output_type": "stream",
          "text": [
            "Early stopping triggered at epoch 31\n",
            "Validation metrics for R-LightGCN-Basic-Global-Dot: {'auc': 0.9374099969863892, 'hits@1': 0.6366183256427159, 'hits@5': 0.8190507580751483, 'hits@10': 0.8618984838497034}\n",
            "Final model saved: /content/drive/My Drive/NTU/Y3S1/SC4020 Data Analytics and Mining/checkpoints/R-LightGCN-Basic-Global-Dot.pt\n",
            "Per-model metrics saved to /content/drive/My Drive/NTU/Y3S1/SC4020 Data Analytics and Mining/checkpoints/R-LightGCN-Basic-Global-Dot_metrics.txt\n",
            "\n",
            "=== Training R-LightGCN-Diagonal-Global-Dot ===\n"
          ]
        },
        {
          "name": "stderr",
          "output_type": "stream",
          "text": [
            "Training R-LightGCN-Diagonal-Global-Dot:   1%|          | 1/100 [00:03<05:14,  3.18s/it]"
          ]
        },
        {
          "name": "stdout",
          "output_type": "stream",
          "text": [
            "Epoch   1 | Loss: 0.7937\n"
          ]
        },
        {
          "name": "stderr",
          "output_type": "stream",
          "text": [
            "\rTraining R-LightGCN-Diagonal-Global-Dot:   2%|▏         | 2/100 [00:06<05:14,  3.21s/it]"
          ]
        },
        {
          "name": "stdout",
          "output_type": "stream",
          "text": [
            "Epoch   2 | Loss: 0.7082\n"
          ]
        },
        {
          "name": "stderr",
          "output_type": "stream",
          "text": [
            "\rTraining R-LightGCN-Diagonal-Global-Dot:   3%|▎         | 3/100 [00:10<05:34,  3.45s/it]"
          ]
        },
        {
          "name": "stdout",
          "output_type": "stream",
          "text": [
            "Epoch   3 | Loss: 0.6927\n"
          ]
        },
        {
          "name": "stderr",
          "output_type": "stream",
          "text": [
            "Training R-LightGCN-Diagonal-Global-Dot:   5%|▌         | 5/100 [00:16<05:07,  3.23s/it]"
          ]
        },
        {
          "name": "stdout",
          "output_type": "stream",
          "text": [
            "Epoch   5 | Loss: 0.6809\n"
          ]
        },
        {
          "name": "stderr",
          "output_type": "stream",
          "text": [
            "Training R-LightGCN-Diagonal-Global-Dot:  10%|█         | 10/100 [00:32<04:51,  3.23s/it]"
          ]
        },
        {
          "name": "stdout",
          "output_type": "stream",
          "text": [
            "Epoch  10 | Loss: 0.6724\n"
          ]
        },
        {
          "name": "stderr",
          "output_type": "stream",
          "text": [
            "Training R-LightGCN-Diagonal-Global-Dot:  15%|█▌        | 15/100 [00:49<04:50,  3.41s/it]"
          ]
        },
        {
          "name": "stdout",
          "output_type": "stream",
          "text": [
            "Epoch  15 | Loss: 0.6695\n"
          ]
        },
        {
          "name": "stderr",
          "output_type": "stream",
          "text": [
            "Training R-LightGCN-Diagonal-Global-Dot:  20%|██        | 20/100 [01:06<04:26,  3.33s/it]"
          ]
        },
        {
          "name": "stdout",
          "output_type": "stream",
          "text": [
            "Epoch  20 | Loss: 0.6681\n"
          ]
        },
        {
          "name": "stderr",
          "output_type": "stream",
          "text": [
            "Training R-LightGCN-Diagonal-Global-Dot:  25%|██▌       | 25/100 [01:22<04:05,  3.28s/it]"
          ]
        },
        {
          "name": "stdout",
          "output_type": "stream",
          "text": [
            "Epoch  25 | Loss: 0.6666\n"
          ]
        },
        {
          "name": "stderr",
          "output_type": "stream",
          "text": [
            "Training R-LightGCN-Diagonal-Global-Dot:  30%|███       | 30/100 [01:39<03:52,  3.32s/it]"
          ]
        },
        {
          "name": "stdout",
          "output_type": "stream",
          "text": [
            "Epoch  30 | Loss: 0.6665\n"
          ]
        },
        {
          "name": "stderr",
          "output_type": "stream",
          "text": [
            "Training R-LightGCN-Diagonal-Global-Dot:  35%|███▌      | 35/100 [01:55<03:32,  3.27s/it]"
          ]
        },
        {
          "name": "stdout",
          "output_type": "stream",
          "text": [
            "Epoch  35 | Loss: 0.6656\n"
          ]
        },
        {
          "name": "stderr",
          "output_type": "stream",
          "text": [
            "Training R-LightGCN-Diagonal-Global-Dot:  40%|████      | 40/100 [02:12<03:22,  3.37s/it]"
          ]
        },
        {
          "name": "stdout",
          "output_type": "stream",
          "text": [
            "Epoch  40 | Loss: 0.6654\n"
          ]
        },
        {
          "name": "stderr",
          "output_type": "stream",
          "text": [
            "Training R-LightGCN-Diagonal-Global-Dot:  41%|████      | 41/100 [02:19<03:20,  3.40s/it]\n"
          ]
        },
        {
          "name": "stdout",
          "output_type": "stream",
          "text": [
            "Early stopping triggered at epoch 42\n",
            "Validation metrics for R-LightGCN-Diagonal-Global-Dot: {'auc': 0.9365990161895752, 'hits@1': 0.6331575477916941, 'hits@5': 0.8185563612392881, 'hits@10': 0.8630520764667106}\n",
            "Final model saved: /content/drive/My Drive/NTU/Y3S1/SC4020 Data Analytics and Mining/checkpoints/R-LightGCN-Diagonal-Global-Dot.pt\n",
            "Per-model metrics saved to /content/drive/My Drive/NTU/Y3S1/SC4020 Data Analytics and Mining/checkpoints/R-LightGCN-Diagonal-Global-Dot_metrics.txt\n",
            "\n",
            "=== Training R-LightGCN-Scalar-Global-DistMult ===\n"
          ]
        },
        {
          "name": "stderr",
          "output_type": "stream",
          "text": [
            "Training R-LightGCN-Scalar-Global-DistMult:   1%|          | 1/100 [00:02<04:34,  2.78s/it]"
          ]
        },
        {
          "name": "stdout",
          "output_type": "stream",
          "text": [
            "Epoch   1 | Loss: 1.3084\n"
          ]
        },
        {
          "name": "stderr",
          "output_type": "stream",
          "text": [
            "\rTraining R-LightGCN-Scalar-Global-DistMult:   2%|▏         | 2/100 [00:06<04:59,  3.06s/it]"
          ]
        },
        {
          "name": "stdout",
          "output_type": "stream",
          "text": [
            "Epoch   2 | Loss: 1.1803\n"
          ]
        },
        {
          "name": "stderr",
          "output_type": "stream",
          "text": [
            "\rTraining R-LightGCN-Scalar-Global-DistMult:   3%|▎         | 3/100 [00:08<04:52,  3.02s/it]"
          ]
        },
        {
          "name": "stdout",
          "output_type": "stream",
          "text": [
            "Epoch   3 | Loss: 1.0829\n"
          ]
        },
        {
          "name": "stderr",
          "output_type": "stream",
          "text": [
            "Training R-LightGCN-Scalar-Global-DistMult:   5%|▌         | 5/100 [00:14<04:40,  2.95s/it]"
          ]
        },
        {
          "name": "stdout",
          "output_type": "stream",
          "text": [
            "Epoch   5 | Loss: 0.9256\n"
          ]
        },
        {
          "name": "stderr",
          "output_type": "stream",
          "text": [
            "Training R-LightGCN-Scalar-Global-DistMult:  10%|█         | 10/100 [00:30<04:39,  3.11s/it]"
          ]
        },
        {
          "name": "stdout",
          "output_type": "stream",
          "text": [
            "Epoch  10 | Loss: 0.6794\n"
          ]
        },
        {
          "name": "stderr",
          "output_type": "stream",
          "text": [
            "Training R-LightGCN-Scalar-Global-DistMult:  15%|█▌        | 15/100 [00:46<04:24,  3.11s/it]"
          ]
        },
        {
          "name": "stdout",
          "output_type": "stream",
          "text": [
            "Epoch  15 | Loss: 0.5384\n"
          ]
        },
        {
          "name": "stderr",
          "output_type": "stream",
          "text": [
            "Training R-LightGCN-Scalar-Global-DistMult:  20%|██        | 20/100 [01:01<04:09,  3.12s/it]"
          ]
        },
        {
          "name": "stdout",
          "output_type": "stream",
          "text": [
            "Epoch  20 | Loss: 0.4380\n"
          ]
        },
        {
          "name": "stderr",
          "output_type": "stream",
          "text": [
            "Training R-LightGCN-Scalar-Global-DistMult:  25%|██▌       | 25/100 [01:17<03:56,  3.16s/it]"
          ]
        },
        {
          "name": "stdout",
          "output_type": "stream",
          "text": [
            "Epoch  25 | Loss: 0.3647\n"
          ]
        },
        {
          "name": "stderr",
          "output_type": "stream",
          "text": [
            "Training R-LightGCN-Scalar-Global-DistMult:  30%|███       | 30/100 [01:32<03:38,  3.12s/it]"
          ]
        },
        {
          "name": "stdout",
          "output_type": "stream",
          "text": [
            "Epoch  30 | Loss: 0.3095\n"
          ]
        },
        {
          "name": "stderr",
          "output_type": "stream",
          "text": [
            "Training R-LightGCN-Scalar-Global-DistMult:  35%|███▌      | 35/100 [01:48<03:20,  3.09s/it]"
          ]
        },
        {
          "name": "stdout",
          "output_type": "stream",
          "text": [
            "Epoch  35 | Loss: 0.2601\n"
          ]
        },
        {
          "name": "stderr",
          "output_type": "stream",
          "text": [
            "Training R-LightGCN-Scalar-Global-DistMult:  40%|████      | 40/100 [02:04<03:07,  3.13s/it]"
          ]
        },
        {
          "name": "stdout",
          "output_type": "stream",
          "text": [
            "Epoch  40 | Loss: 0.2166\n"
          ]
        },
        {
          "name": "stderr",
          "output_type": "stream",
          "text": [
            "Training R-LightGCN-Scalar-Global-DistMult:  45%|████▌     | 45/100 [02:19<02:46,  3.02s/it]"
          ]
        },
        {
          "name": "stdout",
          "output_type": "stream",
          "text": [
            "Epoch  45 | Loss: 0.1804\n"
          ]
        },
        {
          "name": "stderr",
          "output_type": "stream",
          "text": [
            "Training R-LightGCN-Scalar-Global-DistMult:  50%|█████     | 50/100 [02:34<02:33,  3.07s/it]"
          ]
        },
        {
          "name": "stdout",
          "output_type": "stream",
          "text": [
            "Epoch  50 | Loss: 0.1522\n"
          ]
        },
        {
          "name": "stderr",
          "output_type": "stream",
          "text": [
            "Training R-LightGCN-Scalar-Global-DistMult:  55%|█████▌    | 55/100 [02:50<02:22,  3.18s/it]"
          ]
        },
        {
          "name": "stdout",
          "output_type": "stream",
          "text": [
            "Epoch  55 | Loss: 0.1311\n"
          ]
        },
        {
          "name": "stderr",
          "output_type": "stream",
          "text": [
            "Training R-LightGCN-Scalar-Global-DistMult:  60%|██████    | 60/100 [03:05<02:02,  3.06s/it]"
          ]
        },
        {
          "name": "stdout",
          "output_type": "stream",
          "text": [
            "Epoch  60 | Loss: 0.1156\n"
          ]
        },
        {
          "name": "stderr",
          "output_type": "stream",
          "text": [
            "Training R-LightGCN-Scalar-Global-DistMult:  65%|██████▌   | 65/100 [03:20<01:46,  3.03s/it]"
          ]
        },
        {
          "name": "stdout",
          "output_type": "stream",
          "text": [
            "Epoch  65 | Loss: 0.1032\n"
          ]
        },
        {
          "name": "stderr",
          "output_type": "stream",
          "text": [
            "Training R-LightGCN-Scalar-Global-DistMult:  70%|███████   | 70/100 [03:35<01:32,  3.07s/it]"
          ]
        },
        {
          "name": "stdout",
          "output_type": "stream",
          "text": [
            "Epoch  70 | Loss: 0.0920\n"
          ]
        },
        {
          "name": "stderr",
          "output_type": "stream",
          "text": [
            "Training R-LightGCN-Scalar-Global-DistMult:  75%|███████▌  | 75/100 [03:50<01:15,  3.00s/it]"
          ]
        },
        {
          "name": "stdout",
          "output_type": "stream",
          "text": [
            "Epoch  75 | Loss: 0.0830\n"
          ]
        },
        {
          "name": "stderr",
          "output_type": "stream",
          "text": [
            "Training R-LightGCN-Scalar-Global-DistMult:  80%|████████  | 80/100 [04:06<00:59,  2.96s/it]"
          ]
        },
        {
          "name": "stdout",
          "output_type": "stream",
          "text": [
            "Epoch  80 | Loss: 0.0727\n"
          ]
        },
        {
          "name": "stderr",
          "output_type": "stream",
          "text": [
            "Training R-LightGCN-Scalar-Global-DistMult:  85%|████████▌ | 85/100 [04:21<00:45,  3.07s/it]"
          ]
        },
        {
          "name": "stdout",
          "output_type": "stream",
          "text": [
            "Epoch  85 | Loss: 0.0657\n"
          ]
        },
        {
          "name": "stderr",
          "output_type": "stream",
          "text": [
            "Training R-LightGCN-Scalar-Global-DistMult:  90%|█████████ | 90/100 [04:36<00:30,  3.07s/it]"
          ]
        },
        {
          "name": "stdout",
          "output_type": "stream",
          "text": [
            "Epoch  90 | Loss: 0.0586\n"
          ]
        },
        {
          "name": "stderr",
          "output_type": "stream",
          "text": [
            "Training R-LightGCN-Scalar-Global-DistMult:  95%|█████████▌| 95/100 [04:52<00:15,  3.09s/it]"
          ]
        },
        {
          "name": "stdout",
          "output_type": "stream",
          "text": [
            "Epoch  95 | Loss: 0.0536\n"
          ]
        },
        {
          "name": "stderr",
          "output_type": "stream",
          "text": [
            "Training R-LightGCN-Scalar-Global-DistMult: 100%|██████████| 100/100 [05:07<00:00,  3.07s/it]\n"
          ]
        },
        {
          "name": "stdout",
          "output_type": "stream",
          "text": [
            "Epoch 100 | Loss: 0.0486\n",
            "Validation metrics for R-LightGCN-Scalar-Global-DistMult: {'auc': 0.91287761926651, 'hits@1': 0.5545484508899143, 'hits@5': 0.7615359261700725, 'hits@10': 0.8111404087013843}\n",
            "Final model saved: /content/drive/My Drive/NTU/Y3S1/SC4020 Data Analytics and Mining/checkpoints/R-LightGCN-Scalar-Global-DistMult.pt\n",
            "Per-model metrics saved to /content/drive/My Drive/NTU/Y3S1/SC4020 Data Analytics and Mining/checkpoints/R-LightGCN-Scalar-Global-DistMult_metrics.txt\n",
            "\n",
            "=== Training R-LightGCN-Diagonal-Global-DistMult ===\n"
          ]
        },
        {
          "name": "stderr",
          "output_type": "stream",
          "text": [
            "Training R-LightGCN-Diagonal-Global-DistMult:   1%|          | 1/100 [00:02<04:51,  2.95s/it]"
          ]
        },
        {
          "name": "stdout",
          "output_type": "stream",
          "text": [
            "Epoch   1 | Loss: 1.3071\n"
          ]
        },
        {
          "name": "stderr",
          "output_type": "stream",
          "text": [
            "\rTraining R-LightGCN-Diagonal-Global-DistMult:   2%|▏         | 2/100 [00:05<04:50,  2.96s/it]"
          ]
        },
        {
          "name": "stdout",
          "output_type": "stream",
          "text": [
            "Epoch   2 | Loss: 1.1636\n"
          ]
        },
        {
          "name": "stderr",
          "output_type": "stream",
          "text": [
            "\rTraining R-LightGCN-Diagonal-Global-DistMult:   3%|▎         | 3/100 [00:09<05:12,  3.22s/it]"
          ]
        },
        {
          "name": "stdout",
          "output_type": "stream",
          "text": [
            "Epoch   3 | Loss: 1.0663\n"
          ]
        },
        {
          "name": "stderr",
          "output_type": "stream",
          "text": [
            "Training R-LightGCN-Diagonal-Global-DistMult:   5%|▌         | 5/100 [00:16<05:06,  3.23s/it]"
          ]
        },
        {
          "name": "stdout",
          "output_type": "stream",
          "text": [
            "Epoch   5 | Loss: 0.9288\n"
          ]
        },
        {
          "name": "stderr",
          "output_type": "stream",
          "text": [
            "Training R-LightGCN-Diagonal-Global-DistMult:  10%|█         | 10/100 [00:32<04:56,  3.30s/it]"
          ]
        },
        {
          "name": "stdout",
          "output_type": "stream",
          "text": [
            "Epoch  10 | Loss: 0.6972\n"
          ]
        },
        {
          "name": "stderr",
          "output_type": "stream",
          "text": [
            "Training R-LightGCN-Diagonal-Global-DistMult:  15%|█▌        | 15/100 [00:48<04:37,  3.27s/it]"
          ]
        },
        {
          "name": "stdout",
          "output_type": "stream",
          "text": [
            "Epoch  15 | Loss: 0.5260\n"
          ]
        },
        {
          "name": "stderr",
          "output_type": "stream",
          "text": [
            "Training R-LightGCN-Diagonal-Global-DistMult:  20%|██        | 20/100 [01:05<04:25,  3.32s/it]"
          ]
        },
        {
          "name": "stdout",
          "output_type": "stream",
          "text": [
            "Epoch  20 | Loss: 0.4078\n"
          ]
        },
        {
          "name": "stderr",
          "output_type": "stream",
          "text": [
            "Training R-LightGCN-Diagonal-Global-DistMult:  25%|██▌       | 25/100 [01:22<04:10,  3.34s/it]"
          ]
        },
        {
          "name": "stdout",
          "output_type": "stream",
          "text": [
            "Epoch  25 | Loss: 0.3330\n"
          ]
        },
        {
          "name": "stderr",
          "output_type": "stream",
          "text": [
            "Training R-LightGCN-Diagonal-Global-DistMult:  30%|███       | 30/100 [01:38<03:47,  3.25s/it]"
          ]
        },
        {
          "name": "stdout",
          "output_type": "stream",
          "text": [
            "Epoch  30 | Loss: 0.2808\n"
          ]
        },
        {
          "name": "stderr",
          "output_type": "stream",
          "text": [
            "Training R-LightGCN-Diagonal-Global-DistMult:  35%|███▌      | 35/100 [01:54<03:28,  3.21s/it]"
          ]
        },
        {
          "name": "stdout",
          "output_type": "stream",
          "text": [
            "Epoch  35 | Loss: 0.2424\n"
          ]
        },
        {
          "name": "stderr",
          "output_type": "stream",
          "text": [
            "Training R-LightGCN-Diagonal-Global-DistMult:  40%|████      | 40/100 [02:11<03:23,  3.39s/it]"
          ]
        },
        {
          "name": "stdout",
          "output_type": "stream",
          "text": [
            "Epoch  40 | Loss: 0.2114\n"
          ]
        },
        {
          "name": "stderr",
          "output_type": "stream",
          "text": [
            "Training R-LightGCN-Diagonal-Global-DistMult:  45%|████▌     | 45/100 [02:27<03:02,  3.32s/it]"
          ]
        },
        {
          "name": "stdout",
          "output_type": "stream",
          "text": [
            "Epoch  45 | Loss: 0.1837\n"
          ]
        },
        {
          "name": "stderr",
          "output_type": "stream",
          "text": [
            "Training R-LightGCN-Diagonal-Global-DistMult:  50%|█████     | 50/100 [02:44<02:43,  3.28s/it]"
          ]
        },
        {
          "name": "stdout",
          "output_type": "stream",
          "text": [
            "Epoch  50 | Loss: 0.1595\n"
          ]
        },
        {
          "name": "stderr",
          "output_type": "stream",
          "text": [
            "Training R-LightGCN-Diagonal-Global-DistMult:  55%|█████▌    | 55/100 [03:00<02:29,  3.31s/it]"
          ]
        },
        {
          "name": "stdout",
          "output_type": "stream",
          "text": [
            "Epoch  55 | Loss: 0.1404\n"
          ]
        },
        {
          "name": "stderr",
          "output_type": "stream",
          "text": [
            "Training R-LightGCN-Diagonal-Global-DistMult:  57%|█████▋    | 57/100 [03:10<02:24,  3.35s/it]\n"
          ]
        },
        {
          "name": "stdout",
          "output_type": "stream",
          "text": [
            "Early stopping triggered at epoch 58\n",
            "Validation metrics for R-LightGCN-Diagonal-Global-DistMult: {'auc': 0.9047621488571167, 'hits@1': 0.45187870797626895, 'hits@5': 0.7254449571522742, 'hits@10': 0.8050428477257745}\n",
            "Final model saved: /content/drive/My Drive/NTU/Y3S1/SC4020 Data Analytics and Mining/checkpoints/R-LightGCN-Diagonal-Global-DistMult.pt\n",
            "Per-model metrics saved to /content/drive/My Drive/NTU/Y3S1/SC4020 Data Analytics and Mining/checkpoints/R-LightGCN-Diagonal-Global-DistMult_metrics.txt\n",
            "\n",
            "=== Training R-LightGCN-Scalar-PerRel-Dot ===\n"
          ]
        },
        {
          "name": "stderr",
          "output_type": "stream",
          "text": [
            "Training R-LightGCN-Scalar-PerRel-Dot:   1%|          | 1/100 [00:02<04:33,  2.77s/it]"
          ]
        },
        {
          "name": "stdout",
          "output_type": "stream",
          "text": [
            "Epoch   1 | Loss: 0.7271\n"
          ]
        },
        {
          "name": "stderr",
          "output_type": "stream",
          "text": [
            "\rTraining R-LightGCN-Scalar-PerRel-Dot:   2%|▏         | 2/100 [00:05<04:29,  2.75s/it]"
          ]
        },
        {
          "name": "stdout",
          "output_type": "stream",
          "text": [
            "Epoch   2 | Loss: 0.6865\n"
          ]
        },
        {
          "name": "stderr",
          "output_type": "stream",
          "text": [
            "\rTraining R-LightGCN-Scalar-PerRel-Dot:   3%|▎         | 3/100 [00:08<04:54,  3.04s/it]"
          ]
        },
        {
          "name": "stdout",
          "output_type": "stream",
          "text": [
            "Epoch   3 | Loss: 0.6791\n"
          ]
        },
        {
          "name": "stderr",
          "output_type": "stream",
          "text": [
            "Training R-LightGCN-Scalar-PerRel-Dot:   5%|▌         | 5/100 [00:14<04:45,  3.01s/it]"
          ]
        },
        {
          "name": "stdout",
          "output_type": "stream",
          "text": [
            "Epoch   5 | Loss: 0.6738\n"
          ]
        },
        {
          "name": "stderr",
          "output_type": "stream",
          "text": [
            "Training R-LightGCN-Scalar-PerRel-Dot:  10%|█         | 10/100 [00:30<04:37,  3.09s/it]"
          ]
        },
        {
          "name": "stdout",
          "output_type": "stream",
          "text": [
            "Epoch  10 | Loss: 0.6695\n"
          ]
        },
        {
          "name": "stderr",
          "output_type": "stream",
          "text": [
            "Training R-LightGCN-Scalar-PerRel-Dot:  15%|█▌        | 15/100 [00:45<04:15,  3.00s/it]"
          ]
        },
        {
          "name": "stdout",
          "output_type": "stream",
          "text": [
            "Epoch  15 | Loss: 0.6677\n"
          ]
        },
        {
          "name": "stderr",
          "output_type": "stream",
          "text": [
            "Training R-LightGCN-Scalar-PerRel-Dot:  18%|█▊        | 18/100 [00:58<04:24,  3.23s/it]\n"
          ]
        },
        {
          "name": "stdout",
          "output_type": "stream",
          "text": [
            "Early stopping triggered at epoch 19\n",
            "Validation metrics for R-LightGCN-Scalar-PerRel-Dot: {'auc': 0.9362051486968994, 'hits@1': 0.6287079762689519, 'hits@5': 0.8127883981542519, 'hits@10': 0.8605800922874094}\n",
            "Final model saved: /content/drive/My Drive/NTU/Y3S1/SC4020 Data Analytics and Mining/checkpoints/R-LightGCN-Scalar-PerRel-Dot.pt\n",
            "Per-model metrics saved to /content/drive/My Drive/NTU/Y3S1/SC4020 Data Analytics and Mining/checkpoints/R-LightGCN-Scalar-PerRel-Dot_metrics.txt\n",
            "\n",
            "=== Training R-LightGCN-Diagonal-PerRel-Dot ===\n"
          ]
        },
        {
          "name": "stderr",
          "output_type": "stream",
          "text": [
            "Training R-LightGCN-Diagonal-PerRel-Dot:   1%|          | 1/100 [00:03<05:12,  3.16s/it]"
          ]
        },
        {
          "name": "stdout",
          "output_type": "stream",
          "text": [
            "Epoch   1 | Loss: 0.7265\n"
          ]
        },
        {
          "name": "stderr",
          "output_type": "stream",
          "text": [
            "\rTraining R-LightGCN-Diagonal-PerRel-Dot:   2%|▏         | 2/100 [00:06<05:21,  3.28s/it]"
          ]
        },
        {
          "name": "stdout",
          "output_type": "stream",
          "text": [
            "Epoch   2 | Loss: 0.6862\n"
          ]
        },
        {
          "name": "stderr",
          "output_type": "stream",
          "text": [
            "\rTraining R-LightGCN-Diagonal-PerRel-Dot:   3%|▎         | 3/100 [00:09<05:13,  3.24s/it]"
          ]
        },
        {
          "name": "stdout",
          "output_type": "stream",
          "text": [
            "Epoch   3 | Loss: 0.6792\n"
          ]
        },
        {
          "name": "stderr",
          "output_type": "stream",
          "text": [
            "Training R-LightGCN-Diagonal-PerRel-Dot:   5%|▌         | 5/100 [00:16<05:05,  3.22s/it]"
          ]
        },
        {
          "name": "stdout",
          "output_type": "stream",
          "text": [
            "Epoch   5 | Loss: 0.6743\n"
          ]
        },
        {
          "name": "stderr",
          "output_type": "stream",
          "text": [
            "Training R-LightGCN-Diagonal-PerRel-Dot:  10%|█         | 10/100 [00:33<05:10,  3.45s/it]"
          ]
        },
        {
          "name": "stdout",
          "output_type": "stream",
          "text": [
            "Epoch  10 | Loss: 0.6699\n"
          ]
        },
        {
          "name": "stderr",
          "output_type": "stream",
          "text": [
            "Training R-LightGCN-Diagonal-PerRel-Dot:  15%|█▌        | 15/100 [00:49<04:41,  3.31s/it]"
          ]
        },
        {
          "name": "stdout",
          "output_type": "stream",
          "text": [
            "Epoch  15 | Loss: 0.6680\n"
          ]
        },
        {
          "name": "stderr",
          "output_type": "stream",
          "text": [
            "Training R-LightGCN-Diagonal-PerRel-Dot:  20%|██        | 20/100 [01:06<04:21,  3.27s/it]"
          ]
        },
        {
          "name": "stdout",
          "output_type": "stream",
          "text": [
            "Epoch  20 | Loss: 0.6672\n"
          ]
        },
        {
          "name": "stderr",
          "output_type": "stream",
          "text": [
            "Training R-LightGCN-Diagonal-PerRel-Dot:  25%|██▌       | 25/100 [01:22<04:08,  3.31s/it]"
          ]
        },
        {
          "name": "stdout",
          "output_type": "stream",
          "text": [
            "Epoch  25 | Loss: 0.6668\n"
          ]
        },
        {
          "name": "stderr",
          "output_type": "stream",
          "text": [
            "Training R-LightGCN-Diagonal-PerRel-Dot:  30%|███       | 30/100 [01:39<03:53,  3.34s/it]"
          ]
        },
        {
          "name": "stdout",
          "output_type": "stream",
          "text": [
            "Epoch  30 | Loss: 0.6660\n"
          ]
        },
        {
          "name": "stderr",
          "output_type": "stream",
          "text": [
            "Training R-LightGCN-Diagonal-PerRel-Dot:  34%|███▍      | 34/100 [01:56<03:45,  3.42s/it]\n"
          ]
        },
        {
          "name": "stdout",
          "output_type": "stream",
          "text": [
            "Epoch  35 | Loss: 0.6658\n",
            "Early stopping triggered at epoch 35\n",
            "Validation metrics for R-LightGCN-Diagonal-PerRel-Dot: {'auc': 0.9396750926971436, 'hits@1': 0.6290375741595253, 'hits@5': 0.8164139749505603, 'hits@10': 0.8628872775214239}\n",
            "Final model saved: /content/drive/My Drive/NTU/Y3S1/SC4020 Data Analytics and Mining/checkpoints/R-LightGCN-Diagonal-PerRel-Dot.pt\n",
            "Per-model metrics saved to /content/drive/My Drive/NTU/Y3S1/SC4020 Data Analytics and Mining/checkpoints/R-LightGCN-Diagonal-PerRel-Dot_metrics.txt\n",
            "\n",
            "=== Training R-LightGCN-Scalar-PerRel-DistMult ===\n"
          ]
        },
        {
          "name": "stderr",
          "output_type": "stream",
          "text": [
            "Training R-LightGCN-Scalar-PerRel-DistMult:   1%|          | 1/100 [00:02<04:48,  2.91s/it]"
          ]
        },
        {
          "name": "stdout",
          "output_type": "stream",
          "text": [
            "Epoch   1 | Loss: 1.2738\n"
          ]
        },
        {
          "name": "stderr",
          "output_type": "stream",
          "text": [
            "\rTraining R-LightGCN-Scalar-PerRel-DistMult:   2%|▏         | 2/100 [00:05<04:45,  2.91s/it]"
          ]
        },
        {
          "name": "stdout",
          "output_type": "stream",
          "text": [
            "Epoch   2 | Loss: 1.1435\n"
          ]
        },
        {
          "name": "stderr",
          "output_type": "stream",
          "text": [
            "\rTraining R-LightGCN-Scalar-PerRel-DistMult:   3%|▎         | 3/100 [00:08<04:49,  2.99s/it]"
          ]
        },
        {
          "name": "stdout",
          "output_type": "stream",
          "text": [
            "Epoch   3 | Loss: 1.0574\n"
          ]
        },
        {
          "name": "stderr",
          "output_type": "stream",
          "text": [
            "Training R-LightGCN-Scalar-PerRel-DistMult:   5%|▌         | 5/100 [00:14<04:44,  3.00s/it]"
          ]
        },
        {
          "name": "stdout",
          "output_type": "stream",
          "text": [
            "Epoch   5 | Loss: 0.9243\n"
          ]
        },
        {
          "name": "stderr",
          "output_type": "stream",
          "text": [
            "Training R-LightGCN-Scalar-PerRel-DistMult:  10%|█         | 10/100 [00:30<04:29,  2.99s/it]"
          ]
        },
        {
          "name": "stdout",
          "output_type": "stream",
          "text": [
            "Epoch  10 | Loss: 0.6954\n"
          ]
        },
        {
          "name": "stderr",
          "output_type": "stream",
          "text": [
            "Training R-LightGCN-Scalar-PerRel-DistMult:  15%|█▌        | 15/100 [00:45<04:19,  3.05s/it]"
          ]
        },
        {
          "name": "stdout",
          "output_type": "stream",
          "text": [
            "Epoch  15 | Loss: 0.5361\n"
          ]
        },
        {
          "name": "stderr",
          "output_type": "stream",
          "text": [
            "Training R-LightGCN-Scalar-PerRel-DistMult:  20%|██        | 20/100 [01:00<03:58,  2.98s/it]"
          ]
        },
        {
          "name": "stdout",
          "output_type": "stream",
          "text": [
            "Epoch  20 | Loss: 0.4243\n"
          ]
        },
        {
          "name": "stderr",
          "output_type": "stream",
          "text": [
            "Training R-LightGCN-Scalar-PerRel-DistMult:  25%|██▌       | 25/100 [01:15<03:41,  2.95s/it]"
          ]
        },
        {
          "name": "stdout",
          "output_type": "stream",
          "text": [
            "Epoch  25 | Loss: 0.3581\n"
          ]
        },
        {
          "name": "stderr",
          "output_type": "stream",
          "text": [
            "Training R-LightGCN-Scalar-PerRel-DistMult:  30%|███       | 30/100 [01:31<03:36,  3.10s/it]"
          ]
        },
        {
          "name": "stdout",
          "output_type": "stream",
          "text": [
            "Epoch  30 | Loss: 0.3115\n"
          ]
        },
        {
          "name": "stderr",
          "output_type": "stream",
          "text": [
            "Training R-LightGCN-Scalar-PerRel-DistMult:  35%|███▌      | 35/100 [01:46<03:20,  3.09s/it]"
          ]
        },
        {
          "name": "stdout",
          "output_type": "stream",
          "text": [
            "Epoch  35 | Loss: 0.2730\n"
          ]
        },
        {
          "name": "stderr",
          "output_type": "stream",
          "text": [
            "Training R-LightGCN-Scalar-PerRel-DistMult:  40%|████      | 40/100 [02:01<03:03,  3.06s/it]"
          ]
        },
        {
          "name": "stdout",
          "output_type": "stream",
          "text": [
            "Epoch  40 | Loss: 0.2412\n"
          ]
        },
        {
          "name": "stderr",
          "output_type": "stream",
          "text": [
            "Training R-LightGCN-Scalar-PerRel-DistMult:  45%|████▌     | 45/100 [02:16<02:50,  3.10s/it]"
          ]
        },
        {
          "name": "stdout",
          "output_type": "stream",
          "text": [
            "Epoch  45 | Loss: 0.2129\n"
          ]
        },
        {
          "name": "stderr",
          "output_type": "stream",
          "text": [
            "Training R-LightGCN-Scalar-PerRel-DistMult:  50%|█████     | 50/100 [02:31<02:30,  3.02s/it]"
          ]
        },
        {
          "name": "stdout",
          "output_type": "stream",
          "text": [
            "Epoch  50 | Loss: 0.1886\n"
          ]
        },
        {
          "name": "stderr",
          "output_type": "stream",
          "text": [
            "Training R-LightGCN-Scalar-PerRel-DistMult:  55%|█████▌    | 55/100 [02:46<02:14,  2.99s/it]"
          ]
        },
        {
          "name": "stdout",
          "output_type": "stream",
          "text": [
            "Epoch  55 | Loss: 0.1672\n"
          ]
        },
        {
          "name": "stderr",
          "output_type": "stream",
          "text": [
            "Training R-LightGCN-Scalar-PerRel-DistMult:  58%|█████▊    | 58/100 [02:59<02:09,  3.09s/it]\n"
          ]
        },
        {
          "name": "stdout",
          "output_type": "stream",
          "text": [
            "Early stopping triggered at epoch 59\n",
            "Validation metrics for R-LightGCN-Scalar-PerRel-DistMult: {'auc': 0.9100422263145447, 'hits@1': 0.4602834541858932, 'hits@5': 0.7318721160184575, 'hits@10': 0.8029004614370469}\n",
            "Final model saved: /content/drive/My Drive/NTU/Y3S1/SC4020 Data Analytics and Mining/checkpoints/R-LightGCN-Scalar-PerRel-DistMult.pt\n",
            "Per-model metrics saved to /content/drive/My Drive/NTU/Y3S1/SC4020 Data Analytics and Mining/checkpoints/R-LightGCN-Scalar-PerRel-DistMult_metrics.txt\n",
            "\n",
            "=== Training R-LightGCN-Diagonal-PerRel-DistMult ===\n"
          ]
        },
        {
          "name": "stderr",
          "output_type": "stream",
          "text": [
            "Training R-LightGCN-Diagonal-PerRel-DistMult:   1%|          | 1/100 [00:03<05:13,  3.17s/it]"
          ]
        },
        {
          "name": "stdout",
          "output_type": "stream",
          "text": [
            "Epoch   1 | Loss: 1.2807\n"
          ]
        },
        {
          "name": "stderr",
          "output_type": "stream",
          "text": [
            "\rTraining R-LightGCN-Diagonal-PerRel-DistMult:   2%|▏         | 2/100 [00:06<05:20,  3.27s/it]"
          ]
        },
        {
          "name": "stdout",
          "output_type": "stream",
          "text": [
            "Epoch   2 | Loss: 1.1546\n"
          ]
        },
        {
          "name": "stderr",
          "output_type": "stream",
          "text": [
            "\rTraining R-LightGCN-Diagonal-PerRel-DistMult:   3%|▎         | 3/100 [00:09<05:16,  3.26s/it]"
          ]
        },
        {
          "name": "stdout",
          "output_type": "stream",
          "text": [
            "Epoch   3 | Loss: 1.0630\n"
          ]
        },
        {
          "name": "stderr",
          "output_type": "stream",
          "text": [
            "Training R-LightGCN-Diagonal-PerRel-DistMult:   5%|▌         | 5/100 [00:16<05:11,  3.28s/it]"
          ]
        },
        {
          "name": "stdout",
          "output_type": "stream",
          "text": [
            "Epoch   5 | Loss: 0.9233\n"
          ]
        },
        {
          "name": "stderr",
          "output_type": "stream",
          "text": [
            "Training R-LightGCN-Diagonal-PerRel-DistMult:  10%|█         | 10/100 [00:32<04:49,  3.22s/it]"
          ]
        },
        {
          "name": "stdout",
          "output_type": "stream",
          "text": [
            "Epoch  10 | Loss: 0.6973\n"
          ]
        },
        {
          "name": "stderr",
          "output_type": "stream",
          "text": [
            "Training R-LightGCN-Diagonal-PerRel-DistMult:  15%|█▌        | 15/100 [00:49<04:41,  3.32s/it]"
          ]
        },
        {
          "name": "stdout",
          "output_type": "stream",
          "text": [
            "Epoch  15 | Loss: 0.5520\n"
          ]
        },
        {
          "name": "stderr",
          "output_type": "stream",
          "text": [
            "Training R-LightGCN-Diagonal-PerRel-DistMult:  20%|██        | 20/100 [01:05<04:28,  3.36s/it]"
          ]
        },
        {
          "name": "stdout",
          "output_type": "stream",
          "text": [
            "Epoch  20 | Loss: 0.4557\n"
          ]
        },
        {
          "name": "stderr",
          "output_type": "stream",
          "text": [
            "Training R-LightGCN-Diagonal-PerRel-DistMult:  25%|██▌       | 25/100 [01:21<04:03,  3.24s/it]"
          ]
        },
        {
          "name": "stdout",
          "output_type": "stream",
          "text": [
            "Epoch  25 | Loss: 0.3858\n"
          ]
        },
        {
          "name": "stderr",
          "output_type": "stream",
          "text": [
            "Training R-LightGCN-Diagonal-PerRel-DistMult:  30%|███       | 30/100 [01:38<03:44,  3.21s/it]"
          ]
        },
        {
          "name": "stdout",
          "output_type": "stream",
          "text": [
            "Epoch  30 | Loss: 0.3337\n"
          ]
        },
        {
          "name": "stderr",
          "output_type": "stream",
          "text": [
            "Training R-LightGCN-Diagonal-PerRel-DistMult:  35%|███▌      | 35/100 [01:54<03:36,  3.33s/it]"
          ]
        },
        {
          "name": "stdout",
          "output_type": "stream",
          "text": [
            "Epoch  35 | Loss: 0.2945\n"
          ]
        },
        {
          "name": "stderr",
          "output_type": "stream",
          "text": [
            "Training R-LightGCN-Diagonal-PerRel-DistMult:  40%|████      | 40/100 [02:11<03:20,  3.33s/it]"
          ]
        },
        {
          "name": "stdout",
          "output_type": "stream",
          "text": [
            "Epoch  40 | Loss: 0.2610\n"
          ]
        },
        {
          "name": "stderr",
          "output_type": "stream",
          "text": [
            "Training R-LightGCN-Diagonal-PerRel-DistMult:  45%|████▌     | 45/100 [02:27<02:59,  3.27s/it]"
          ]
        },
        {
          "name": "stdout",
          "output_type": "stream",
          "text": [
            "Epoch  45 | Loss: 0.2337\n"
          ]
        },
        {
          "name": "stderr",
          "output_type": "stream",
          "text": [
            "Training R-LightGCN-Diagonal-PerRel-DistMult:  50%|█████     | 50/100 [02:44<02:45,  3.31s/it]"
          ]
        },
        {
          "name": "stdout",
          "output_type": "stream",
          "text": [
            "Epoch  50 | Loss: 0.2087\n"
          ]
        },
        {
          "name": "stderr",
          "output_type": "stream",
          "text": [
            "Training R-LightGCN-Diagonal-PerRel-DistMult:  53%|█████▎    | 53/100 [02:57<02:37,  3.34s/it]"
          ]
        },
        {
          "name": "stdout",
          "output_type": "stream",
          "text": [
            "Early stopping triggered at epoch 54\n",
            "Validation metrics for R-LightGCN-Diagonal-PerRel-DistMult: {'auc': 0.9007736444473267, 'hits@1': 0.3917270929466051, 'hits@5': 0.700560316413975, 'hits@10': 0.7930125247198417}\n",
            "Final model saved: /content/drive/My Drive/NTU/Y3S1/SC4020 Data Analytics and Mining/checkpoints/R-LightGCN-Diagonal-PerRel-DistMult.pt\n",
            "Per-model metrics saved to /content/drive/My Drive/NTU/Y3S1/SC4020 Data Analytics and Mining/checkpoints/R-LightGCN-Diagonal-PerRel-DistMult_metrics.txt\n",
            "Combined metrics table saved to /content/drive/My Drive/NTU/Y3S1/SC4020 Data Analytics and Mining/checkpoints/all_models_metrics.txt\n",
            "\n",
            "All ablation experiments completed. Metrics saved in /content/drive/My Drive/NTU/Y3S1/SC4020 Data Analytics and Mining/checkpoints\n"
          ]
        },
        {
          "name": "stderr",
          "output_type": "stream",
          "text": [
            "\n"
          ]
        }
      ],
      "source": [
        "# -----------------------------\n",
        "# Device\n",
        "# -----------------------------\n",
        "device = torch.device(\"cuda\" if torch.cuda.is_available() else \"cpu\")\n",
        "\n",
        "# -----------------------------\n",
        "# Define number of nodes and relations\n",
        "# -----------------------------\n",
        "num_nodes = num_entities        # e.g., 40943 for WN18RR\n",
        "# num_relations = num_relations   # original number of relations, e.g., 11\n",
        "# Use the number of relations including inverses from dm_typed for consistency\n",
        "num_relations_typed = num_relations_with_inv # e.g., 22 for WN18RR with inverses\n",
        "\n",
        "# -----------------------------\n",
        "# Self-loops\n",
        "# -----------------------------\n",
        "# Create self-loop edges\n",
        "self_loop_edges = torch.arange(num_nodes, device=device)\n",
        "self_loop_edges = torch.stack([self_loop_edges, self_loop_edges], dim=0)  # [2, num_nodes]\n",
        "\n",
        "# Assign a new relation ID for self-loops, outside the range of existing typed relations\n",
        "self_loop_rel_id = num_relations_typed  # the next available relation id\n",
        "self_loop_types = torch.full((num_nodes,), self_loop_rel_id, dtype=torch.long, device=device)\n",
        "\n",
        "# -----------------------------\n",
        "# Combine with training edges\n",
        "# -----------------------------\n",
        "# Use triples from dm_typed which already have relation IDs from 0 to num_relations_typed - 1\n",
        "rel_edge_index = dm_typed._train_triples[:, [0, 2]].t().contiguous().to(device)  # [2, N]\n",
        "edge_type = dm_typed._train_triples[:, 1].to(device)  # [N]\n",
        "\n",
        "rel_edge_index = torch.cat([rel_edge_index, self_loop_edges], dim=1)\n",
        "edge_type = torch.cat([edge_type, self_loop_types], dim=0)\n",
        "\n",
        "num_relations_final = num_relations_typed + 1  # include original, inverse, and self-loop relation\n",
        "\n",
        "# -----------------------------\n",
        "# Validation triples\n",
        "# -----------------------------\n",
        "val_triples = torch.as_tensor(dm_typed._valid_triples, device=device)\n",
        "\n",
        "# -----------------------------\n",
        "# DataLoader for training triples\n",
        "# -----------------------------\n",
        "# Wrap training triples in a TensorDataset and DataLoader\n",
        "train_triples_tensor = torch.as_tensor(dm_typed._train_triples, device=device)\n",
        "train_dataset = TensorDataset(train_triples_tensor)\n",
        "train_loader = DataLoader(train_dataset, batch_size=2048, shuffle=True)\n",
        "\n",
        "# -----------------------------\n",
        "# Ablation configs\n",
        "# -----------------------------\n",
        "ABLATION_CONFIGS = [\n",
        "    {'name':'R-LightGCN-Basic-Global-Dot','relation_transform':'scalar','norm_type':'global','decoder':'dot'},\n",
        "    {'name':'R-LightGCN-Diagonal-Global-Dot','relation_transform':'diagonal','norm_type':'global','decoder':'dot'},\n",
        "    {'name':'R-LightGCN-Scalar-Global-DistMult','relation_transform':'scalar','norm_type':'global','decoder':'distmult'},\n",
        "    {'name':'R-LightGCN-Diagonal-Global-DistMult','relation_transform':'diagonal','norm_type':'global','decoder':'distmult'},\n",
        "    {'name':'R-LightGCN-Scalar-PerRel-Dot','relation_transform':'scalar','norm_type':'per_relation','decoder':'dot'},\n",
        "    {'name':'R-LightGCN-Diagonal-PerRel-Dot','relation_transform':'diagonal','norm_type':'per_relation','decoder':'dot'},\n",
        "    {'name':'R-LightGCN-Scalar-PerRel-DistMult','relation_transform':'scalar','norm_type':'per_relation','decoder':'distmult'},\n",
        "    {'name':'R-LightGCN-Diagonal-PerRel-DistMult','relation_transform':'diagonal','norm_type':'per_relation','decoder':'distmult'}\n",
        "]\n",
        "\n",
        "# -----------------------------\n",
        "# Run ablation\n",
        "# -----------------------------\n",
        "all_metrics = run_r_lightgcn_ablation(\n",
        "    num_nodes=num_nodes,\n",
        "    num_relations=num_relations_final, # Pass the final number of relations including self-loops\n",
        "    train_loader=train_loader,\n",
        "    val_triples=val_triples,\n",
        "    edge_index=rel_edge_index,\n",
        "    edge_type=edge_type,\n",
        "    emb_dim=64,\n",
        "    num_layers=3,\n",
        "    lr=0.001,\n",
        "    epochs=100,\n",
        "    batch_size=2048,\n",
        "    patience=10,\n",
        "    save_dir=\"/content/drive/My Drive/NTU/Y3S1/SC4020 Data Analytics and Mining/checkpoints/WN18RR\",\n",
        "    ABLATION_CONFIGS=ABLATION_CONFIGS,\n",
        "    device=device\n",
        ")"
      ]
    },
    {
      "cell_type": "code",
      "execution_count": null,
      "id": "7v3j2IrS27rN",
      "metadata": {
        "colab": {
          "base_uri": "https://localhost:8080/"
        },
        "id": "7v3j2IrS27rN",
        "outputId": "bee20726-bf87-4479-cdb0-362fa62b5614"
      },
      "outputs": [
        {
          "name": "stdout",
          "output_type": "stream",
          "text": [
            "\n",
            "=== Training R-LightGCN-Basic-Global-Dot ===\n"
          ]
        },
        {
          "name": "stderr",
          "output_type": "stream",
          "text": [
            "Training R-LightGCN-Basic-Global-Dot:   1%|          | 1/100 [00:03<05:19,  3.23s/it]"
          ]
        },
        {
          "name": "stdout",
          "output_type": "stream",
          "text": [
            "Epoch   1 | Loss: 0.7935\n"
          ]
        },
        {
          "name": "stderr",
          "output_type": "stream",
          "text": [
            "\rTraining R-LightGCN-Basic-Global-Dot:   2%|▏         | 2/100 [00:06<05:06,  3.12s/it]"
          ]
        },
        {
          "name": "stdout",
          "output_type": "stream",
          "text": [
            "Epoch   2 | Loss: 0.7081\n"
          ]
        },
        {
          "name": "stderr",
          "output_type": "stream",
          "text": [
            "\rTraining R-LightGCN-Basic-Global-Dot:   3%|▎         | 3/100 [00:09<05:06,  3.16s/it]"
          ]
        },
        {
          "name": "stdout",
          "output_type": "stream",
          "text": [
            "Epoch   3 | Loss: 0.6930\n"
          ]
        },
        {
          "name": "stderr",
          "output_type": "stream",
          "text": [
            "Training R-LightGCN-Basic-Global-Dot:   5%|▌         | 5/100 [00:15<04:56,  3.12s/it]"
          ]
        },
        {
          "name": "stdout",
          "output_type": "stream",
          "text": [
            "Epoch   5 | Loss: 0.6812\n"
          ]
        },
        {
          "name": "stderr",
          "output_type": "stream",
          "text": [
            "Training R-LightGCN-Basic-Global-Dot:  10%|█         | 10/100 [00:31<04:43,  3.15s/it]"
          ]
        },
        {
          "name": "stdout",
          "output_type": "stream",
          "text": [
            "Epoch  10 | Loss: 0.6721\n"
          ]
        },
        {
          "name": "stderr",
          "output_type": "stream",
          "text": [
            "Training R-LightGCN-Basic-Global-Dot:  15%|█▌        | 15/100 [00:46<04:28,  3.16s/it]"
          ]
        },
        {
          "name": "stdout",
          "output_type": "stream",
          "text": [
            "Epoch  15 | Loss: 0.6697\n"
          ]
        },
        {
          "name": "stderr",
          "output_type": "stream",
          "text": [
            "Training R-LightGCN-Basic-Global-Dot:  20%|██        | 20/100 [01:01<04:03,  3.05s/it]"
          ]
        },
        {
          "name": "stdout",
          "output_type": "stream",
          "text": [
            "Epoch  20 | Loss: 0.6673\n"
          ]
        },
        {
          "name": "stderr",
          "output_type": "stream",
          "text": [
            "Training R-LightGCN-Basic-Global-Dot:  25%|██▌       | 25/100 [01:16<03:45,  3.01s/it]"
          ]
        },
        {
          "name": "stdout",
          "output_type": "stream",
          "text": [
            "Epoch  25 | Loss: 0.6662\n"
          ]
        },
        {
          "name": "stderr",
          "output_type": "stream",
          "text": [
            "Training R-LightGCN-Basic-Global-Dot:  30%|███       | 30/100 [01:32<03:34,  3.07s/it]"
          ]
        },
        {
          "name": "stdout",
          "output_type": "stream",
          "text": [
            "Epoch  30 | Loss: 0.6656\n"
          ]
        },
        {
          "name": "stderr",
          "output_type": "stream",
          "text": [
            "Training R-LightGCN-Basic-Global-Dot:  35%|███▌      | 35/100 [01:47<03:13,  2.98s/it]"
          ]
        },
        {
          "name": "stdout",
          "output_type": "stream",
          "text": [
            "Epoch  35 | Loss: 0.6653\n"
          ]
        },
        {
          "name": "stderr",
          "output_type": "stream",
          "text": [
            "Training R-LightGCN-Basic-Global-Dot:  40%|████      | 40/100 [02:02<03:00,  3.02s/it]"
          ]
        },
        {
          "name": "stdout",
          "output_type": "stream",
          "text": [
            "Epoch  40 | Loss: 0.6647\n"
          ]
        },
        {
          "name": "stderr",
          "output_type": "stream",
          "text": [
            "Training R-LightGCN-Basic-Global-Dot:  42%|████▏     | 42/100 [02:11<03:02,  3.14s/it]\n"
          ]
        },
        {
          "name": "stdout",
          "output_type": "stream",
          "text": [
            "Early stopping triggered at epoch 43\n",
            "Validation metrics for R-LightGCN-Basic-Global-Dot: {'auc': 0.9386716485023499, 'hits@1': 0.6293671720500988, 'hits@5': 0.8182267633487146, 'hits@10': 0.8637112722478576}\n",
            "\n",
            "=== Training R-LightGCN-Diagonal-Global-Dot ===\n"
          ]
        },
        {
          "name": "stderr",
          "output_type": "stream",
          "text": [
            "Training R-LightGCN-Diagonal-Global-Dot:   1%|          | 1/100 [00:03<05:17,  3.20s/it]"
          ]
        },
        {
          "name": "stdout",
          "output_type": "stream",
          "text": [
            "Epoch   1 | Loss: 0.7944\n"
          ]
        },
        {
          "name": "stderr",
          "output_type": "stream",
          "text": [
            "\rTraining R-LightGCN-Diagonal-Global-Dot:   2%|▏         | 2/100 [00:06<05:41,  3.49s/it]"
          ]
        },
        {
          "name": "stdout",
          "output_type": "stream",
          "text": [
            "Epoch   2 | Loss: 0.7084\n"
          ]
        },
        {
          "name": "stderr",
          "output_type": "stream",
          "text": [
            "\rTraining R-LightGCN-Diagonal-Global-Dot:   3%|▎         | 3/100 [00:10<05:24,  3.34s/it]"
          ]
        },
        {
          "name": "stdout",
          "output_type": "stream",
          "text": [
            "Epoch   3 | Loss: 0.6931\n"
          ]
        },
        {
          "name": "stderr",
          "output_type": "stream",
          "text": [
            "Training R-LightGCN-Diagonal-Global-Dot:   5%|▌         | 5/100 [00:16<05:02,  3.19s/it]"
          ]
        },
        {
          "name": "stdout",
          "output_type": "stream",
          "text": [
            "Epoch   5 | Loss: 0.6809\n"
          ]
        },
        {
          "name": "stderr",
          "output_type": "stream",
          "text": [
            "Training R-LightGCN-Diagonal-Global-Dot:  10%|█         | 10/100 [00:33<04:59,  3.33s/it]"
          ]
        },
        {
          "name": "stdout",
          "output_type": "stream",
          "text": [
            "Epoch  10 | Loss: 0.6725\n"
          ]
        },
        {
          "name": "stderr",
          "output_type": "stream",
          "text": [
            "Training R-LightGCN-Diagonal-Global-Dot:  15%|█▌        | 15/100 [00:49<04:48,  3.39s/it]"
          ]
        },
        {
          "name": "stdout",
          "output_type": "stream",
          "text": [
            "Epoch  15 | Loss: 0.6698\n"
          ]
        },
        {
          "name": "stderr",
          "output_type": "stream",
          "text": [
            "Training R-LightGCN-Diagonal-Global-Dot:  20%|██        | 20/100 [01:06<04:21,  3.27s/it]"
          ]
        },
        {
          "name": "stdout",
          "output_type": "stream",
          "text": [
            "Epoch  20 | Loss: 0.6680\n"
          ]
        },
        {
          "name": "stderr",
          "output_type": "stream",
          "text": [
            "Training R-LightGCN-Diagonal-Global-Dot:  25%|██▌       | 25/100 [01:22<04:02,  3.24s/it]"
          ]
        },
        {
          "name": "stdout",
          "output_type": "stream",
          "text": [
            "Epoch  25 | Loss: 0.6674\n"
          ]
        },
        {
          "name": "stderr",
          "output_type": "stream",
          "text": [
            "Training R-LightGCN-Diagonal-Global-Dot:  29%|██▉       | 29/100 [01:39<04:03,  3.43s/it]\n"
          ]
        },
        {
          "name": "stdout",
          "output_type": "stream",
          "text": [
            "Epoch  30 | Loss: 0.6664\n",
            "Early stopping triggered at epoch 30\n",
            "Validation metrics for R-LightGCN-Diagonal-Global-Dot: {'auc': 0.9391459226608276, 'hits@1': 0.6359591298615689, 'hits@5': 0.8182267633487146, 'hits@10': 0.8620632827949901}\n",
            "\n",
            "=== Training R-LightGCN-Scalar-Global-DistMult ===\n"
          ]
        },
        {
          "name": "stderr",
          "output_type": "stream",
          "text": [
            "Training R-LightGCN-Scalar-Global-DistMult:   1%|          | 1/100 [00:02<04:49,  2.93s/it]"
          ]
        },
        {
          "name": "stdout",
          "output_type": "stream",
          "text": [
            "Epoch   1 | Loss: 1.3142\n"
          ]
        },
        {
          "name": "stderr",
          "output_type": "stream",
          "text": [
            "\rTraining R-LightGCN-Scalar-Global-DistMult:   2%|▏         | 2/100 [00:05<04:33,  2.79s/it]"
          ]
        },
        {
          "name": "stdout",
          "output_type": "stream",
          "text": [
            "Epoch   2 | Loss: 1.1777\n"
          ]
        },
        {
          "name": "stderr",
          "output_type": "stream",
          "text": [
            "\rTraining R-LightGCN-Scalar-Global-DistMult:   3%|▎         | 3/100 [00:08<04:36,  2.85s/it]"
          ]
        },
        {
          "name": "stdout",
          "output_type": "stream",
          "text": [
            "Epoch   3 | Loss: 1.0781\n"
          ]
        },
        {
          "name": "stderr",
          "output_type": "stream",
          "text": [
            "Training R-LightGCN-Scalar-Global-DistMult:   5%|▌         | 5/100 [00:14<04:49,  3.04s/it]"
          ]
        },
        {
          "name": "stdout",
          "output_type": "stream",
          "text": [
            "Epoch   5 | Loss: 0.9285\n"
          ]
        },
        {
          "name": "stderr",
          "output_type": "stream",
          "text": [
            "Training R-LightGCN-Scalar-Global-DistMult:  10%|█         | 10/100 [00:30<04:40,  3.11s/it]"
          ]
        },
        {
          "name": "stdout",
          "output_type": "stream",
          "text": [
            "Epoch  10 | Loss: 0.6747\n"
          ]
        },
        {
          "name": "stderr",
          "output_type": "stream",
          "text": [
            "Training R-LightGCN-Scalar-Global-DistMult:  15%|█▌        | 15/100 [00:45<04:16,  3.02s/it]"
          ]
        },
        {
          "name": "stdout",
          "output_type": "stream",
          "text": [
            "Epoch  15 | Loss: 0.5147\n"
          ]
        },
        {
          "name": "stderr",
          "output_type": "stream",
          "text": [
            "Training R-LightGCN-Scalar-Global-DistMult:  20%|██        | 20/100 [01:00<03:59,  2.99s/it]"
          ]
        },
        {
          "name": "stdout",
          "output_type": "stream",
          "text": [
            "Epoch  20 | Loss: 0.4057\n"
          ]
        },
        {
          "name": "stderr",
          "output_type": "stream",
          "text": [
            "Training R-LightGCN-Scalar-Global-DistMult:  25%|██▌       | 25/100 [01:15<03:48,  3.04s/it]"
          ]
        },
        {
          "name": "stdout",
          "output_type": "stream",
          "text": [
            "Epoch  25 | Loss: 0.3331\n"
          ]
        },
        {
          "name": "stderr",
          "output_type": "stream",
          "text": [
            "Training R-LightGCN-Scalar-Global-DistMult:  30%|███       | 30/100 [01:30<03:26,  2.95s/it]"
          ]
        },
        {
          "name": "stdout",
          "output_type": "stream",
          "text": [
            "Epoch  30 | Loss: 0.2793\n"
          ]
        },
        {
          "name": "stderr",
          "output_type": "stream",
          "text": [
            "Training R-LightGCN-Scalar-Global-DistMult:  35%|███▌      | 35/100 [01:45<03:11,  2.94s/it]"
          ]
        },
        {
          "name": "stdout",
          "output_type": "stream",
          "text": [
            "Epoch  35 | Loss: 0.2381\n"
          ]
        },
        {
          "name": "stderr",
          "output_type": "stream",
          "text": [
            "Training R-LightGCN-Scalar-Global-DistMult:  40%|████      | 40/100 [02:00<03:04,  3.07s/it]"
          ]
        },
        {
          "name": "stdout",
          "output_type": "stream",
          "text": [
            "Epoch  40 | Loss: 0.2045\n"
          ]
        },
        {
          "name": "stderr",
          "output_type": "stream",
          "text": [
            "Training R-LightGCN-Scalar-Global-DistMult:  45%|████▌     | 45/100 [02:15<02:49,  3.07s/it]"
          ]
        },
        {
          "name": "stdout",
          "output_type": "stream",
          "text": [
            "Epoch  45 | Loss: 0.1766\n"
          ]
        },
        {
          "name": "stderr",
          "output_type": "stream",
          "text": [
            "Training R-LightGCN-Scalar-Global-DistMult:  50%|█████     | 50/100 [02:30<02:32,  3.05s/it]"
          ]
        },
        {
          "name": "stdout",
          "output_type": "stream",
          "text": [
            "Epoch  50 | Loss: 0.1544\n"
          ]
        },
        {
          "name": "stderr",
          "output_type": "stream",
          "text": [
            "Training R-LightGCN-Scalar-Global-DistMult:  55%|█████▌    | 55/100 [02:46<02:19,  3.10s/it]"
          ]
        },
        {
          "name": "stdout",
          "output_type": "stream",
          "text": [
            "Epoch  55 | Loss: 0.1361\n"
          ]
        },
        {
          "name": "stderr",
          "output_type": "stream",
          "text": [
            "Training R-LightGCN-Scalar-Global-DistMult:  60%|██████    | 60/100 [03:01<02:00,  3.00s/it]"
          ]
        },
        {
          "name": "stdout",
          "output_type": "stream",
          "text": [
            "Epoch  60 | Loss: 0.1195\n"
          ]
        },
        {
          "name": "stderr",
          "output_type": "stream",
          "text": [
            "Training R-LightGCN-Scalar-Global-DistMult:  65%|██████▌   | 65/100 [03:16<01:44,  2.97s/it]"
          ]
        },
        {
          "name": "stdout",
          "output_type": "stream",
          "text": [
            "Epoch  65 | Loss: 0.1064\n"
          ]
        },
        {
          "name": "stderr",
          "output_type": "stream",
          "text": [
            "Training R-LightGCN-Scalar-Global-DistMult:  67%|██████▋   | 67/100 [03:25<01:41,  3.06s/it]\n"
          ]
        },
        {
          "name": "stdout",
          "output_type": "stream",
          "text": [
            "Early stopping triggered at epoch 68\n",
            "Validation metrics for R-LightGCN-Scalar-Global-DistMult: {'auc': 0.9130885601043701, 'hits@1': 0.5416941331575478, 'hits@5': 0.7656558998022412, 'hits@10': 0.819215557020435}\n",
            "\n",
            "=== Training R-LightGCN-Diagonal-Global-DistMult ===\n"
          ]
        },
        {
          "name": "stderr",
          "output_type": "stream",
          "text": [
            "Training R-LightGCN-Diagonal-Global-DistMult:   1%|          | 1/100 [00:03<05:11,  3.14s/it]"
          ]
        },
        {
          "name": "stdout",
          "output_type": "stream",
          "text": [
            "Epoch   1 | Loss: 1.2911\n"
          ]
        },
        {
          "name": "stderr",
          "output_type": "stream",
          "text": [
            "\rTraining R-LightGCN-Diagonal-Global-DistMult:   2%|▏         | 2/100 [00:06<05:07,  3.14s/it]"
          ]
        },
        {
          "name": "stdout",
          "output_type": "stream",
          "text": [
            "Epoch   2 | Loss: 1.1501\n"
          ]
        },
        {
          "name": "stderr",
          "output_type": "stream",
          "text": [
            "\rTraining R-LightGCN-Diagonal-Global-DistMult:   3%|▎         | 3/100 [00:09<05:12,  3.22s/it]"
          ]
        },
        {
          "name": "stdout",
          "output_type": "stream",
          "text": [
            "Epoch   3 | Loss: 1.0530\n"
          ]
        },
        {
          "name": "stderr",
          "output_type": "stream",
          "text": [
            "Training R-LightGCN-Diagonal-Global-DistMult:   5%|▌         | 5/100 [00:15<05:04,  3.20s/it]"
          ]
        },
        {
          "name": "stdout",
          "output_type": "stream",
          "text": [
            "Epoch   5 | Loss: 0.9083\n"
          ]
        },
        {
          "name": "stderr",
          "output_type": "stream",
          "text": [
            "Training R-LightGCN-Diagonal-Global-DistMult:  10%|█         | 10/100 [00:32<04:47,  3.20s/it]"
          ]
        },
        {
          "name": "stdout",
          "output_type": "stream",
          "text": [
            "Epoch  10 | Loss: 0.6795\n"
          ]
        },
        {
          "name": "stderr",
          "output_type": "stream",
          "text": [
            "Training R-LightGCN-Diagonal-Global-DistMult:  15%|█▌        | 15/100 [00:48<04:36,  3.26s/it]"
          ]
        },
        {
          "name": "stdout",
          "output_type": "stream",
          "text": [
            "Epoch  15 | Loss: 0.5341\n"
          ]
        },
        {
          "name": "stderr",
          "output_type": "stream",
          "text": [
            "Training R-LightGCN-Diagonal-Global-DistMult:  20%|██        | 20/100 [01:05<04:23,  3.30s/it]"
          ]
        },
        {
          "name": "stdout",
          "output_type": "stream",
          "text": [
            "Epoch  20 | Loss: 0.4364\n"
          ]
        },
        {
          "name": "stderr",
          "output_type": "stream",
          "text": [
            "Training R-LightGCN-Diagonal-Global-DistMult:  25%|██▌       | 25/100 [01:21<04:05,  3.27s/it]"
          ]
        },
        {
          "name": "stdout",
          "output_type": "stream",
          "text": [
            "Epoch  25 | Loss: 0.3643\n"
          ]
        },
        {
          "name": "stderr",
          "output_type": "stream",
          "text": [
            "Training R-LightGCN-Diagonal-Global-DistMult:  30%|███       | 30/100 [01:37<03:51,  3.30s/it]"
          ]
        },
        {
          "name": "stdout",
          "output_type": "stream",
          "text": [
            "Epoch  30 | Loss: 0.3107\n"
          ]
        },
        {
          "name": "stderr",
          "output_type": "stream",
          "text": [
            "Training R-LightGCN-Diagonal-Global-DistMult:  35%|███▌      | 35/100 [01:53<03:28,  3.21s/it]"
          ]
        },
        {
          "name": "stdout",
          "output_type": "stream",
          "text": [
            "Epoch  35 | Loss: 0.2681\n"
          ]
        },
        {
          "name": "stderr",
          "output_type": "stream",
          "text": [
            "Training R-LightGCN-Diagonal-Global-DistMult:  40%|████      | 40/100 [02:10<03:11,  3.19s/it]"
          ]
        },
        {
          "name": "stdout",
          "output_type": "stream",
          "text": [
            "Epoch  40 | Loss: 0.2326\n"
          ]
        },
        {
          "name": "stderr",
          "output_type": "stream",
          "text": [
            "Training R-LightGCN-Diagonal-Global-DistMult:  45%|████▌     | 45/100 [02:26<03:06,  3.38s/it]"
          ]
        },
        {
          "name": "stdout",
          "output_type": "stream",
          "text": [
            "Epoch  45 | Loss: 0.2023\n"
          ]
        },
        {
          "name": "stderr",
          "output_type": "stream",
          "text": [
            "\rTraining R-LightGCN-Diagonal-Global-DistMult:  45%|████▌     | 45/100 [02:29<03:03,  3.33s/it]\n"
          ]
        },
        {
          "name": "stdout",
          "output_type": "stream",
          "text": [
            "Early stopping triggered at epoch 46\n",
            "Validation metrics for R-LightGCN-Diagonal-Global-DistMult: {'auc': 0.9006655216217041, 'hits@1': 0.4382003955174687, 'hits@5': 0.716381015161503, 'hits@10': 0.7928477257745551}\n",
            "\n",
            "=== Training R-LightGCN-Scalar-PerRel-Dot ===\n"
          ]
        },
        {
          "name": "stderr",
          "output_type": "stream",
          "text": [
            "Training R-LightGCN-Scalar-PerRel-Dot:   1%|          | 1/100 [00:02<04:49,  2.92s/it]"
          ]
        },
        {
          "name": "stdout",
          "output_type": "stream",
          "text": [
            "Epoch   1 | Loss: 0.7258\n"
          ]
        },
        {
          "name": "stderr",
          "output_type": "stream",
          "text": [
            "\rTraining R-LightGCN-Scalar-PerRel-Dot:   2%|▏         | 2/100 [00:05<04:46,  2.92s/it]"
          ]
        },
        {
          "name": "stdout",
          "output_type": "stream",
          "text": [
            "Epoch   2 | Loss: 0.6856\n"
          ]
        },
        {
          "name": "stderr",
          "output_type": "stream",
          "text": [
            "\rTraining R-LightGCN-Scalar-PerRel-Dot:   3%|▎         | 3/100 [00:09<05:00,  3.09s/it]"
          ]
        },
        {
          "name": "stdout",
          "output_type": "stream",
          "text": [
            "Epoch   3 | Loss: 0.6788\n"
          ]
        },
        {
          "name": "stderr",
          "output_type": "stream",
          "text": [
            "Training R-LightGCN-Scalar-PerRel-Dot:   5%|▌         | 5/100 [00:14<04:43,  2.99s/it]"
          ]
        },
        {
          "name": "stdout",
          "output_type": "stream",
          "text": [
            "Epoch   5 | Loss: 0.6736\n"
          ]
        },
        {
          "name": "stderr",
          "output_type": "stream",
          "text": [
            "Training R-LightGCN-Scalar-PerRel-Dot:  10%|█         | 10/100 [00:30<04:28,  2.99s/it]"
          ]
        },
        {
          "name": "stdout",
          "output_type": "stream",
          "text": [
            "Epoch  10 | Loss: 0.6694\n"
          ]
        },
        {
          "name": "stderr",
          "output_type": "stream",
          "text": [
            "Training R-LightGCN-Scalar-PerRel-Dot:  15%|█▌        | 15/100 [00:45<04:19,  3.05s/it]"
          ]
        },
        {
          "name": "stdout",
          "output_type": "stream",
          "text": [
            "Epoch  15 | Loss: 0.6680\n"
          ]
        },
        {
          "name": "stderr",
          "output_type": "stream",
          "text": [
            "Training R-LightGCN-Scalar-PerRel-Dot:  20%|██        | 20/100 [01:00<03:58,  2.98s/it]"
          ]
        },
        {
          "name": "stdout",
          "output_type": "stream",
          "text": [
            "Epoch  20 | Loss: 0.6668\n"
          ]
        },
        {
          "name": "stderr",
          "output_type": "stream",
          "text": [
            "Training R-LightGCN-Scalar-PerRel-Dot:  25%|██▌       | 25/100 [01:16<03:47,  3.04s/it]"
          ]
        },
        {
          "name": "stdout",
          "output_type": "stream",
          "text": [
            "Epoch  25 | Loss: 0.6659\n"
          ]
        },
        {
          "name": "stderr",
          "output_type": "stream",
          "text": [
            "Training R-LightGCN-Scalar-PerRel-Dot:  26%|██▌       | 26/100 [01:22<03:54,  3.17s/it]\n"
          ]
        },
        {
          "name": "stdout",
          "output_type": "stream",
          "text": [
            "Early stopping triggered at epoch 27\n",
            "Validation metrics for R-LightGCN-Scalar-PerRel-Dot: {'auc': 0.9368771910667419, 'hits@1': 0.6272247857613711, 'hits@5': 0.8195451549110085, 'hits@10': 0.8627224785761372}\n",
            "\n",
            "=== Training R-LightGCN-Diagonal-PerRel-Dot ===\n"
          ]
        },
        {
          "name": "stderr",
          "output_type": "stream",
          "text": [
            "Training R-LightGCN-Diagonal-PerRel-Dot:   1%|          | 1/100 [00:02<04:54,  2.97s/it]"
          ]
        },
        {
          "name": "stdout",
          "output_type": "stream",
          "text": [
            "Epoch   1 | Loss: 0.7264\n"
          ]
        },
        {
          "name": "stderr",
          "output_type": "stream",
          "text": [
            "\rTraining R-LightGCN-Diagonal-PerRel-Dot:   2%|▏         | 2/100 [00:06<05:02,  3.08s/it]"
          ]
        },
        {
          "name": "stdout",
          "output_type": "stream",
          "text": [
            "Epoch   2 | Loss: 0.6857\n"
          ]
        },
        {
          "name": "stderr",
          "output_type": "stream",
          "text": [
            "\rTraining R-LightGCN-Diagonal-PerRel-Dot:   3%|▎         | 3/100 [00:09<05:20,  3.30s/it]"
          ]
        },
        {
          "name": "stdout",
          "output_type": "stream",
          "text": [
            "Epoch   3 | Loss: 0.6795\n"
          ]
        },
        {
          "name": "stderr",
          "output_type": "stream",
          "text": [
            "Training R-LightGCN-Diagonal-PerRel-Dot:   5%|▌         | 5/100 [00:16<05:04,  3.20s/it]"
          ]
        },
        {
          "name": "stdout",
          "output_type": "stream",
          "text": [
            "Epoch   5 | Loss: 0.6740\n"
          ]
        },
        {
          "name": "stderr",
          "output_type": "stream",
          "text": [
            "Training R-LightGCN-Diagonal-PerRel-Dot:  10%|█         | 10/100 [00:32<04:58,  3.31s/it]"
          ]
        },
        {
          "name": "stdout",
          "output_type": "stream",
          "text": [
            "Epoch  10 | Loss: 0.6697\n"
          ]
        },
        {
          "name": "stderr",
          "output_type": "stream",
          "text": [
            "Training R-LightGCN-Diagonal-PerRel-Dot:  15%|█▌        | 15/100 [00:49<04:44,  3.34s/it]"
          ]
        },
        {
          "name": "stdout",
          "output_type": "stream",
          "text": [
            "Epoch  15 | Loss: 0.6683\n"
          ]
        },
        {
          "name": "stderr",
          "output_type": "stream",
          "text": [
            "Training R-LightGCN-Diagonal-PerRel-Dot:  20%|██        | 20/100 [01:05<04:22,  3.28s/it]"
          ]
        },
        {
          "name": "stdout",
          "output_type": "stream",
          "text": [
            "Epoch  20 | Loss: 0.6671\n"
          ]
        },
        {
          "name": "stderr",
          "output_type": "stream",
          "text": [
            "Training R-LightGCN-Diagonal-PerRel-Dot:  25%|██▌       | 25/100 [01:22<04:08,  3.32s/it]"
          ]
        },
        {
          "name": "stdout",
          "output_type": "stream",
          "text": [
            "Epoch  25 | Loss: 0.6666\n"
          ]
        },
        {
          "name": "stderr",
          "output_type": "stream",
          "text": [
            "Training R-LightGCN-Diagonal-PerRel-Dot:  30%|███       | 30/100 [01:38<03:45,  3.22s/it]"
          ]
        },
        {
          "name": "stdout",
          "output_type": "stream",
          "text": [
            "Epoch  30 | Loss: 0.6662\n"
          ]
        },
        {
          "name": "stderr",
          "output_type": "stream",
          "text": [
            "Training R-LightGCN-Diagonal-PerRel-Dot:  35%|███▌      | 35/100 [01:55<03:33,  3.28s/it]"
          ]
        },
        {
          "name": "stdout",
          "output_type": "stream",
          "text": [
            "Epoch  35 | Loss: 0.6658\n"
          ]
        },
        {
          "name": "stderr",
          "output_type": "stream",
          "text": [
            "Training R-LightGCN-Diagonal-PerRel-Dot:  40%|████      | 40/100 [02:11<03:24,  3.40s/it]"
          ]
        },
        {
          "name": "stdout",
          "output_type": "stream",
          "text": [
            "Epoch  40 | Loss: 0.6655\n"
          ]
        },
        {
          "name": "stderr",
          "output_type": "stream",
          "text": [
            "Training R-LightGCN-Diagonal-PerRel-Dot:  43%|████▎     | 43/100 [02:24<03:12,  3.37s/it]\n"
          ]
        },
        {
          "name": "stdout",
          "output_type": "stream",
          "text": [
            "Early stopping triggered at epoch 44\n",
            "Validation metrics for R-LightGCN-Diagonal-PerRel-Dot: {'auc': 0.9380567073822021, 'hits@1': 0.6371127224785761, 'hits@5': 0.8149307844429796, 'hits@10': 0.8647000659195782}\n",
            "\n",
            "=== Training R-LightGCN-Scalar-PerRel-DistMult ===\n"
          ]
        },
        {
          "name": "stderr",
          "output_type": "stream",
          "text": [
            "Training R-LightGCN-Scalar-PerRel-DistMult:   1%|          | 1/100 [00:02<04:46,  2.89s/it]"
          ]
        },
        {
          "name": "stdout",
          "output_type": "stream",
          "text": [
            "Epoch   1 | Loss: 1.2792\n"
          ]
        },
        {
          "name": "stderr",
          "output_type": "stream",
          "text": [
            "\rTraining R-LightGCN-Scalar-PerRel-DistMult:   2%|▏         | 2/100 [00:05<04:43,  2.89s/it]"
          ]
        },
        {
          "name": "stdout",
          "output_type": "stream",
          "text": [
            "Epoch   2 | Loss: 1.1477\n"
          ]
        },
        {
          "name": "stderr",
          "output_type": "stream",
          "text": [
            "\rTraining R-LightGCN-Scalar-PerRel-DistMult:   3%|▎         | 3/100 [00:08<04:41,  2.90s/it]"
          ]
        },
        {
          "name": "stdout",
          "output_type": "stream",
          "text": [
            "Epoch   3 | Loss: 1.0602\n"
          ]
        },
        {
          "name": "stderr",
          "output_type": "stream",
          "text": [
            "Training R-LightGCN-Scalar-PerRel-DistMult:   5%|▌         | 5/100 [00:14<04:43,  2.98s/it]"
          ]
        },
        {
          "name": "stdout",
          "output_type": "stream",
          "text": [
            "Epoch   5 | Loss: 0.9222\n"
          ]
        },
        {
          "name": "stderr",
          "output_type": "stream",
          "text": [
            "Training R-LightGCN-Scalar-PerRel-DistMult:  10%|█         | 10/100 [00:29<04:28,  2.99s/it]"
          ]
        },
        {
          "name": "stdout",
          "output_type": "stream",
          "text": [
            "Epoch  10 | Loss: 0.6918\n"
          ]
        },
        {
          "name": "stderr",
          "output_type": "stream",
          "text": [
            "Training R-LightGCN-Scalar-PerRel-DistMult:  15%|█▌        | 15/100 [00:44<04:17,  3.03s/it]"
          ]
        },
        {
          "name": "stdout",
          "output_type": "stream",
          "text": [
            "Epoch  15 | Loss: 0.5246\n"
          ]
        },
        {
          "name": "stderr",
          "output_type": "stream",
          "text": [
            "Training R-LightGCN-Scalar-PerRel-DistMult:  20%|██        | 20/100 [00:59<03:57,  2.97s/it]"
          ]
        },
        {
          "name": "stdout",
          "output_type": "stream",
          "text": [
            "Epoch  20 | Loss: 0.4301\n"
          ]
        },
        {
          "name": "stderr",
          "output_type": "stream",
          "text": [
            "Training R-LightGCN-Scalar-PerRel-DistMult:  25%|██▌       | 25/100 [01:14<03:40,  2.94s/it]"
          ]
        },
        {
          "name": "stdout",
          "output_type": "stream",
          "text": [
            "Epoch  25 | Loss: 0.3666\n"
          ]
        },
        {
          "name": "stderr",
          "output_type": "stream",
          "text": [
            "Training R-LightGCN-Scalar-PerRel-DistMult:  30%|███       | 30/100 [01:30<03:33,  3.04s/it]"
          ]
        },
        {
          "name": "stdout",
          "output_type": "stream",
          "text": [
            "Epoch  30 | Loss: 0.3157\n"
          ]
        },
        {
          "name": "stderr",
          "output_type": "stream",
          "text": [
            "Training R-LightGCN-Scalar-PerRel-DistMult:  35%|███▌      | 35/100 [01:45<03:16,  3.03s/it]"
          ]
        },
        {
          "name": "stdout",
          "output_type": "stream",
          "text": [
            "Epoch  35 | Loss: 0.2703\n"
          ]
        },
        {
          "name": "stderr",
          "output_type": "stream",
          "text": [
            "Training R-LightGCN-Scalar-PerRel-DistMult:  40%|████      | 40/100 [02:00<03:03,  3.06s/it]"
          ]
        },
        {
          "name": "stdout",
          "output_type": "stream",
          "text": [
            "Epoch  40 | Loss: 0.2373\n"
          ]
        },
        {
          "name": "stderr",
          "output_type": "stream",
          "text": [
            "Training R-LightGCN-Scalar-PerRel-DistMult:  45%|████▌     | 45/100 [02:15<02:51,  3.11s/it]"
          ]
        },
        {
          "name": "stdout",
          "output_type": "stream",
          "text": [
            "Epoch  45 | Loss: 0.2131\n"
          ]
        },
        {
          "name": "stderr",
          "output_type": "stream",
          "text": [
            "Training R-LightGCN-Scalar-PerRel-DistMult:  50%|█████     | 50/100 [02:30<02:30,  3.01s/it]"
          ]
        },
        {
          "name": "stdout",
          "output_type": "stream",
          "text": [
            "Epoch  50 | Loss: 0.1913\n"
          ]
        },
        {
          "name": "stderr",
          "output_type": "stream",
          "text": [
            "Training R-LightGCN-Scalar-PerRel-DistMult:  53%|█████▎    | 53/100 [02:42<02:24,  3.07s/it]\n"
          ]
        },
        {
          "name": "stdout",
          "output_type": "stream",
          "text": [
            "Early stopping triggered at epoch 54\n",
            "Validation metrics for R-LightGCN-Scalar-PerRel-DistMult: {'auc': 0.9073912501335144, 'hits@1': 0.4159525379037574, 'hits@5': 0.7127554383651945, 'hits@10': 0.8066908371786421}\n",
            "\n",
            "=== Training R-LightGCN-Diagonal-PerRel-DistMult ===\n"
          ]
        },
        {
          "name": "stderr",
          "output_type": "stream",
          "text": [
            "Training R-LightGCN-Diagonal-PerRel-DistMult:   1%|          | 1/100 [00:02<04:51,  2.94s/it]"
          ]
        },
        {
          "name": "stdout",
          "output_type": "stream",
          "text": [
            "Epoch   1 | Loss: 1.2508\n"
          ]
        },
        {
          "name": "stderr",
          "output_type": "stream",
          "text": [
            "\rTraining R-LightGCN-Diagonal-PerRel-DistMult:   2%|▏         | 2/100 [00:05<04:47,  2.94s/it]"
          ]
        },
        {
          "name": "stdout",
          "output_type": "stream",
          "text": [
            "Epoch   2 | Loss: 1.1156\n"
          ]
        },
        {
          "name": "stderr",
          "output_type": "stream",
          "text": [
            "\rTraining R-LightGCN-Diagonal-PerRel-DistMult:   3%|▎         | 3/100 [00:09<05:06,  3.16s/it]"
          ]
        },
        {
          "name": "stdout",
          "output_type": "stream",
          "text": [
            "Epoch   3 | Loss: 1.0359\n"
          ]
        },
        {
          "name": "stderr",
          "output_type": "stream",
          "text": [
            "Training R-LightGCN-Diagonal-PerRel-DistMult:   5%|▌         | 5/100 [00:15<05:04,  3.21s/it]"
          ]
        },
        {
          "name": "stdout",
          "output_type": "stream",
          "text": [
            "Epoch   5 | Loss: 0.9130\n"
          ]
        },
        {
          "name": "stderr",
          "output_type": "stream",
          "text": [
            "Training R-LightGCN-Diagonal-PerRel-DistMult:  10%|█         | 10/100 [00:32<04:53,  3.26s/it]"
          ]
        },
        {
          "name": "stdout",
          "output_type": "stream",
          "text": [
            "Epoch  10 | Loss: 0.6913\n"
          ]
        },
        {
          "name": "stderr",
          "output_type": "stream",
          "text": [
            "Training R-LightGCN-Diagonal-PerRel-DistMult:  15%|█▌        | 15/100 [00:48<04:32,  3.21s/it]"
          ]
        },
        {
          "name": "stdout",
          "output_type": "stream",
          "text": [
            "Epoch  15 | Loss: 0.5462\n"
          ]
        },
        {
          "name": "stderr",
          "output_type": "stream",
          "text": [
            "Training R-LightGCN-Diagonal-PerRel-DistMult:  20%|██        | 20/100 [01:04<04:24,  3.30s/it]"
          ]
        },
        {
          "name": "stdout",
          "output_type": "stream",
          "text": [
            "Epoch  20 | Loss: 0.4524\n"
          ]
        },
        {
          "name": "stderr",
          "output_type": "stream",
          "text": [
            "Training R-LightGCN-Diagonal-PerRel-DistMult:  25%|██▌       | 25/100 [01:21<04:09,  3.33s/it]"
          ]
        },
        {
          "name": "stdout",
          "output_type": "stream",
          "text": [
            "Epoch  25 | Loss: 0.3691\n"
          ]
        },
        {
          "name": "stderr",
          "output_type": "stream",
          "text": [
            "Training R-LightGCN-Diagonal-PerRel-DistMult:  30%|███       | 30/100 [01:37<03:45,  3.23s/it]"
          ]
        },
        {
          "name": "stdout",
          "output_type": "stream",
          "text": [
            "Epoch  30 | Loss: 0.2954\n"
          ]
        },
        {
          "name": "stderr",
          "output_type": "stream",
          "text": [
            "Training R-LightGCN-Diagonal-PerRel-DistMult:  35%|███▌      | 35/100 [01:53<03:27,  3.19s/it]"
          ]
        },
        {
          "name": "stdout",
          "output_type": "stream",
          "text": [
            "Epoch  35 | Loss: 0.2478\n"
          ]
        },
        {
          "name": "stderr",
          "output_type": "stream",
          "text": [
            "Training R-LightGCN-Diagonal-PerRel-DistMult:  40%|████      | 40/100 [02:10<03:18,  3.30s/it]"
          ]
        },
        {
          "name": "stdout",
          "output_type": "stream",
          "text": [
            "Epoch  40 | Loss: 0.2109\n"
          ]
        },
        {
          "name": "stderr",
          "output_type": "stream",
          "text": [
            "Training R-LightGCN-Diagonal-PerRel-DistMult:  45%|████▌     | 45/100 [02:26<03:01,  3.31s/it]"
          ]
        },
        {
          "name": "stdout",
          "output_type": "stream",
          "text": [
            "Epoch  45 | Loss: 0.1797\n"
          ]
        },
        {
          "name": "stderr",
          "output_type": "stream",
          "text": [
            "Training R-LightGCN-Diagonal-PerRel-DistMult:  50%|█████     | 50/100 [02:42<02:42,  3.24s/it]"
          ]
        },
        {
          "name": "stdout",
          "output_type": "stream",
          "text": [
            "Epoch  50 | Loss: 0.1573\n"
          ]
        },
        {
          "name": "stderr",
          "output_type": "stream",
          "text": [
            "Training R-LightGCN-Diagonal-PerRel-DistMult:  55%|█████▌    | 55/100 [02:59<02:27,  3.28s/it]"
          ]
        },
        {
          "name": "stdout",
          "output_type": "stream",
          "text": [
            "Epoch  55 | Loss: 0.1394\n"
          ]
        },
        {
          "name": "stderr",
          "output_type": "stream",
          "text": [
            "Training R-LightGCN-Diagonal-PerRel-DistMult:  60%|██████    | 60/100 [03:15<02:07,  3.19s/it]"
          ]
        },
        {
          "name": "stdout",
          "output_type": "stream",
          "text": [
            "Epoch  60 | Loss: 0.1247\n"
          ]
        },
        {
          "name": "stderr",
          "output_type": "stream",
          "text": [
            "Training R-LightGCN-Diagonal-PerRel-DistMult:  61%|██████    | 61/100 [03:21<02:09,  3.31s/it]"
          ]
        },
        {
          "name": "stdout",
          "output_type": "stream",
          "text": [
            "Early stopping triggered at epoch 62\n",
            "Validation metrics for R-LightGCN-Diagonal-PerRel-DistMult: {'auc': 0.9018722772598267, 'hits@1': 0.46209624258404747, 'hits@5': 0.728246539222149, 'hits@10': 0.7999340804218853}\n",
            "\n",
            "All ablation experiments completed. Metrics saved in /content/drive/My Drive/NTU/Y3S1/SC4020 Data Analytics and Mining/checkpoints\n"
          ]
        },
        {
          "name": "stderr",
          "output_type": "stream",
          "text": [
            "\n"
          ]
        }
      ],
      "source": [
        "# -----------------------------\n",
        "# 1️⃣ Device\n",
        "# -----------------------------\n",
        "device = torch.device(\"cuda\" if torch.cuda.is_available() else \"cpu\")\n",
        "\n",
        "# -----------------------------\n",
        "# 2️⃣ Define number of nodes and relations\n",
        "# -----------------------------\n",
        "num_nodes = num_entities        # e.g., 40943 for WN18RR\n",
        "# num_relations = num_relations   # original number of relations, e.g., 11\n",
        "# Use the number of relations including inverses from dm_typed for consistency\n",
        "num_relations_typed = num_relations_with_inv # e.g., 22 for WN18RR with inverses\n",
        "\n",
        "# -----------------------------\n",
        "# Self-loops\n",
        "# -----------------------------\n",
        "# Create self-loop edges\n",
        "self_loop_edges = torch.arange(num_nodes, device=device)\n",
        "self_loop_edges = torch.stack([self_loop_edges, self_loop_edges], dim=0)  # [2, num_nodes]\n",
        "\n",
        "# Assign a new relation ID for self-loops, outside the range of existing typed relations\n",
        "self_loop_rel_id = num_relations_typed  # the next available relation id\n",
        "self_loop_types = torch.full((num_nodes,), self_loop_rel_id, dtype=torch.long, device=device)\n",
        "\n",
        "# -----------------------------\n",
        "# Combine with training edges\n",
        "# -----------------------------\n",
        "# Use triples from dm_typed which already have relation IDs from 0 to num_relations_typed - 1\n",
        "rel_edge_index = dm_typed._train_triples[:, [0, 2]].t().contiguous().to(device)  # [2, N]\n",
        "edge_type = dm_typed._train_triples[:, 1].to(device)  # [N]\n",
        "\n",
        "rel_edge_index = torch.cat([rel_edge_index, self_loop_edges], dim=1)\n",
        "edge_type = torch.cat([edge_type, self_loop_types], dim=0)\n",
        "\n",
        "num_relations_final = num_relations_typed + 1  # include original, inverse, and self-loop relation\n",
        "\n",
        "# -----------------------------\n",
        "# Validation triples\n",
        "# -----------------------------\n",
        "val_triples = torch.as_tensor(dm_typed._valid_triples, device=device)\n",
        "\n",
        "# -----------------------------\n",
        "# DataLoader for training triples\n",
        "# -----------------------------\n",
        "# Wrap training triples in a TensorDataset and DataLoader\n",
        "train_triples_tensor = torch.as_tensor(dm_typed._train_triples, device=device)\n",
        "train_dataset = TensorDataset(train_triples_tensor)\n",
        "train_loader = DataLoader(train_dataset, batch_size=2048, shuffle=True)\n",
        "\n",
        "# -----------------------------\n",
        "# Ablation configs\n",
        "# -----------------------------\n",
        "ABLATION_CONFIGS = [\n",
        "    {'name':'R-LightGCN-Basic-Global-Dot','relation_transform':'scalar','norm_type':'global','decoder':'dot'},\n",
        "    {'name':'R-LightGCN-Diagonal-Global-Dot','relation_transform':'diagonal','norm_type':'global','decoder':'dot'},\n",
        "    {'name':'R-LightGCN-Scalar-Global-DistMult','relation_transform':'scalar','norm_type':'global','decoder':'distmult'},\n",
        "    {'name':'R-LightGCN-Diagonal-Global-DistMult','relation_transform':'diagonal','norm_type':'global','decoder':'distmult'},\n",
        "    {'name':'R-LightGCN-Scalar-PerRel-Dot','relation_transform':'scalar','norm_type':'per_relation','decoder':'dot'},\n",
        "    {'name':'R-LightGCN-Diagonal-PerRel-Dot','relation_transform':'diagonal','norm_type':'per_relation','decoder':'dot'},\n",
        "    {'name':'R-LightGCN-Scalar-PerRel-DistMult','relation_transform':'scalar','norm_type':'per_relation','decoder':'distmult'},\n",
        "    {'name':'R-LightGCN-Diagonal-PerRel-DistMult','relation_transform':'diagonal','norm_type':'per_relation','decoder':'distmult'}\n",
        "]\n",
        "\n",
        "# -----------------------------\n",
        "# Run ablation\n",
        "# -----------------------------\n",
        "all_metrics = run_r_lightgcn_ablation(\n",
        "    num_nodes=num_nodes,\n",
        "    num_relations=num_relations_final, # Pass the final number of relations including self-loops\n",
        "    train_loader=train_loader,\n",
        "    val_triples=val_triples,\n",
        "    edge_index=rel_edge_index,\n",
        "    edge_type=edge_type,\n",
        "    emb_dim=64,\n",
        "    num_layers=3,\n",
        "    lr=0.001,\n",
        "    epochs=100,\n",
        "    batch_size=2048,\n",
        "    patience=10,\n",
        "    save_dir=\"/content/drive/My Drive/NTU/Y3S1/SC4020 Data Analytics and Mining/checkpoints/WN18RR\",\n",
        "    ABLATION_CONFIGS=ABLATION_CONFIGS,\n",
        "    device=device\n",
        ")"
      ]
    }
  ],
  "metadata": {
    "colab": {
      "provenance": []
    },
    "kernelspec": {
      "display_name": "Python 3",
      "name": "python3"
    },
    "language_info": {
      "name": "python"
    }
  },
  "nbformat": 4,
  "nbformat_minor": 5
}
