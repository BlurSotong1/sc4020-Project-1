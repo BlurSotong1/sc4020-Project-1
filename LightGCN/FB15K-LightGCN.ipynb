{
 "cells": [
  {
   "cell_type": "code",
   "execution_count": null,
   "id": "f10095e3",
   "metadata": {},
   "outputs": [],
   "source": [
    "import random\n",
    "import copy\n",
    "from pathlib import Path\n",
    "from typing import List, Tuple, Dict\n",
    "from collections import defaultdict\n",
    "from datetime import datetime\n",
    "\n",
    "import numpy as np\n",
    "import matplotlib.pyplot as plt\n",
    "from tqdm import tqdm\n",
    "from sklearn.metrics import roc_auc_score, average_precision_score, recall_score\n",
    "\n",
    "import torch\n",
    "import torch.nn as nn\n",
    "import torch.nn.functional as F\n",
    "from torch_geometric.utils import degree, add_self_loops\n",
    "from torch_geometric.nn import MessagePassing"
   ]
  },
  {
   "cell_type": "code",
   "execution_count": 2,
   "id": "f358538a",
   "metadata": {},
   "outputs": [
    {
     "name": "stdout",
     "output_type": "stream",
     "text": [
      "Validation file: ..\\FB15K-237.2\\valid.txt\n",
      "..\\FB15K-237.2\\train.txt\n",
      "..\\FB15K-237.2\\test.txt\n",
      "..\\FB15K-237.2\\valid.txt\n"
     ]
    }
   ],
   "source": [
    "# Dataset configuration to switch between datasets easily\n",
    "class DatasetConfig:\n",
    "    def __init__(self, name, base_path, has_validation=True):\n",
    "        self.name = name\n",
    "        self.base_path = Path(base_path)\n",
    "        self.has_validation = has_validation\n",
    "        \n",
    "        self.train_path = self.base_path / \"train.txt\"\n",
    "        self.test_path = self.base_path / \"test.txt\" \n",
    "        self.valid_path = self.base_path / \"valid.txt\" if has_validation else None\n",
    "    \n",
    "    def __str__(self):\n",
    "        return f\"Dataset: {self.name} | Path: {self.base_path}\"\n",
    "\n",
    "# Available dataset configurations\n",
    "DATASETS = {\n",
    "    'FB15K': DatasetConfig('FB15K', '../FB15K-237.2', has_validation=True),\n",
    "    # Add more datasets here as needed\n",
    "}\n",
    "\n",
    "# Select dataset to use\n",
    "CURRENT_DATASET = 'FB15K'\n",
    "config = DATASETS[CURRENT_DATASET]\n",
    "\n",
    "if config.valid_path:\n",
    "    print(f\"Validation file: {config.valid_path}\")\n",
    "\n",
    "# Check if files exist\n",
    "for path in [config.train_path, config.test_path, config.valid_path]:\n",
    "    if path and path.exists():\n",
    "        print(f\"{path}\")\n",
    "    elif path:\n",
    "        print(f\"{path} - File not found!\")"
   ]
  },
  {
   "cell_type": "code",
   "execution_count": 3,
   "id": "9349e5d2",
   "metadata": {},
   "outputs": [
    {
     "name": "stdout",
     "output_type": "stream",
     "text": [
      "Using device: cpu\n",
      "Loaded 272115 triples from ..\\FB15K-237.2\\train.txt\n",
      "Loaded 20466 triples from ..\\FB15K-237.2\\test.txt\n",
      "Loaded 17535 triples from ..\\FB15K-237.2\\valid.txt\n",
      "\n",
      "Dataset Statistics for FB15K:\n",
      "Training triples: 272,115\n",
      "Test triples: 20,466\n",
      "Validation triples: 17,535\n",
      "\n",
      "Vocabulary Statistics:\n",
      "Entities: 14,541\n",
      "Relations: 237\n",
      "\n",
      "Tensor shapes:\n",
      "Train: torch.Size([272115, 3])\n",
      "Test: torch.Size([20466, 3])\n",
      "Valid: torch.Size([17535, 3])\n",
      "\n",
      "Building graph structure...\n",
      "Graph edges (with self-loops): 558,771\n",
      "Graph edge_index shape: (2, 558771)\n"
     ]
    }
   ],
   "source": [
    "SEED = 42\n",
    "random.seed(SEED); np.random.seed(SEED); torch.manual_seed(SEED)\n",
    "\n",
    "device = torch.device(\"cuda\" if torch.cuda.is_available() else \"cpu\")\n",
    "print(f\"Using device: {device}\")\n",
    "\n",
    "def load_dataset(path: Path) -> List[Tuple[str, str, str]]:\n",
    "    \"\"\"Load dataset from tab-separated file\"\"\"\n",
    "    data = []\n",
    "    if not path.exists():\n",
    "        raise FileNotFoundError(f\"Dataset file not found: {path}\")\n",
    "    \n",
    "    with open(path, \"r\") as f:\n",
    "        for line_num, line in enumerate(f, 1):\n",
    "            try:\n",
    "                parts = line.strip().split(\"\\t\")\n",
    "                if len(parts) != 3:\n",
    "                    print(f\"Warning: Line {line_num} has {len(parts)} parts, expected 3\")\n",
    "                    continue\n",
    "                h, r, t = parts\n",
    "                data.append((h, r, t))\n",
    "            except Exception as e:\n",
    "                print(f\"Error parsing line {line_num}: {e}\")\n",
    "                continue\n",
    "    \n",
    "    print(f\"Loaded {len(data)} triples from {path}\")\n",
    "    return data\n",
    "\n",
    "# Load datasets using the configuration\n",
    "train_dataset = load_dataset(config.train_path)\n",
    "test_dataset = load_dataset(config.test_path)\n",
    "valid_dataset = load_dataset(config.valid_path) if config.valid_path else []\n",
    "\n",
    "print(f\"\\nDataset Statistics for {config.name}:\")\n",
    "print(f\"Training triples: {len(train_dataset):,}\")\n",
    "print(f\"Test triples: {len(test_dataset):,}\")\n",
    "print(f\"Validation triples: {len(valid_dataset):,}\")\n",
    "\n",
    "# Build ID maps\n",
    "entities: set[str] = set()\n",
    "relations: set[str] = set()\n",
    "all_data = train_dataset + test_dataset + valid_dataset\n",
    "\n",
    "for h, r, t in all_data:\n",
    "    entities.add(h); entities.add(t); relations.add(r)\n",
    "\n",
    "ent2id: Dict[str, int] = {e: i for i, e in enumerate(sorted(entities))}\n",
    "rel2id: Dict[str, int] = {r: i for i, r in enumerate(sorted(relations))}\n",
    "id2ent = {v: k for k, v in ent2id.items()}\n",
    "id2rel = {v: k for k, v in rel2id.items()}\n",
    "\n",
    "num_entities = len(ent2id)\n",
    "num_relations = len(rel2id)\n",
    "print(f\"\\nVocabulary Statistics:\")\n",
    "print(f\"Entities: {num_entities:,}\")\n",
    "print(f\"Relations: {num_relations:,}\")\n",
    "\n",
    "def triples_to_tensor(triples: List[Tuple[str, str, str]]) -> torch.LongTensor:\n",
    "    \"\"\"Convert string triples to tensor of IDs\"\"\"\n",
    "    if not triples:\n",
    "        return torch.empty((0, 3), dtype=torch.long)\n",
    "    arr = np.array([(ent2id[h], rel2id[r], ent2id[t]) for h, r, t in triples], dtype=np.int64)\n",
    "    return torch.from_numpy(arr)\n",
    "\n",
    "# Convert to tensors and move to device\n",
    "train_triples = triples_to_tensor(train_dataset).to(device)\n",
    "test_triples = triples_to_tensor(test_dataset).to(device)\n",
    "valid_triples = triples_to_tensor(valid_dataset).to(device)\n",
    "\n",
    "print(f\"\\nTensor shapes:\")\n",
    "print(f\"Train: {train_triples.shape}\")\n",
    "print(f\"Test: {test_triples.shape}\")\n",
    "print(f\"Valid: {valid_triples.shape}\")\n",
    "\n",
    "# Build collapsed undirected graph for LightGCN encoder\n",
    "print(\"\\nBuilding graph structure...\")\n",
    "edges = []\n",
    "for h, r, t in train_triples.tolist():\n",
    "    edges.append((h, t))\n",
    "    edges.append((t, h))  # Add reverse edges for undirected graph\n",
    "\n",
    "edge_index = torch.tensor(edges, dtype=torch.long, device=device).t().contiguous()\n",
    "edge_index, _ = add_self_loops(edge_index, num_nodes=num_entities)\n",
    "\n",
    "print(f\"Graph edges (with self-loops): {edge_index.shape[1]:,}\")\n",
    "print(f\"Graph edge_index shape: {tuple(edge_index.shape)}\")"
   ]
  },
  {
   "cell_type": "code",
   "execution_count": 4,
   "id": "2df6ef8e",
   "metadata": {},
   "outputs": [],
   "source": [
    "@torch.no_grad()\n",
    "def batch_scores(z: torch.Tensor, pairs: torch.LongTensor, batch_size: int = 4096) -> torch.Tensor:\n",
    "    \"\"\"Calculate scores for pairs in batches to avoid memory issues\"\"\"\n",
    "    scores = []\n",
    "    for i in range(0, pairs.size(1), batch_size):\n",
    "        batch = pairs[:, i:i+batch_size]\n",
    "        s = (z[batch[0]] * z[batch[1]]).sum(dim=1)\n",
    "        scores.append(s)\n",
    "    return torch.cat(scores, dim=0)"
   ]
  },
  {
   "cell_type": "code",
   "execution_count": 5,
   "id": "049fa9b8",
   "metadata": {},
   "outputs": [],
   "source": [
    "@torch.no_grad()\n",
    "def evaluate_ranking_metrics(model, edge_index, test_triples, num_entities, \n",
    "                            k_values=[1, 3, 5, 10], batch_size=64, \n",
    "                            rel_edge_index=None, edge_type=None):\n",
    "\n",
    "    model.eval()\n",
    "    \n",
    "    # Get entity embeddings\n",
    "    if rel_edge_index is not None and edge_type is not None:\n",
    "        # R-LightGCN case\n",
    "        z = model.encode(rel_edge_index, edge_type)\n",
    "        use_relations = hasattr(model, 'rel_emb')  # Check if model has relation embeddings\n",
    "    else:\n",
    "        # LightGCN case\n",
    "        z = model.encode(edge_index)\n",
    "        use_relations = False\n",
    "    \n",
    "    all_metrics = {\n",
    "        'head': {'auc': [], 'ap': [], 'recall': [], 'mr': [], 'mrr': [], **{f'hits@{k}': [] for k in k_values}},\n",
    "        'tail': {'auc': [], 'ap': [], 'recall': [], 'mr': [], 'mrr': [], **{f'hits@{k}': [] for k in k_values}}\n",
    "    }\n",
    "    \n",
    "    # Process in batches to avoid memory issues\n",
    "    num_batches = (len(test_triples) + batch_size - 1) // batch_size\n",
    "    \n",
    "    for mode in ['head', 'tail']:\n",
    "        print(f\"Evaluating {mode} corruption...\")\n",
    "        \n",
    "        for batch_idx in range(num_batches):\n",
    "            start_idx = batch_idx * batch_size\n",
    "            end_idx = min((batch_idx + 1) * batch_size, len(test_triples))\n",
    "            batch_triples = test_triples[start_idx:end_idx]\n",
    "            \n",
    "            if len(batch_triples) == 0:\n",
    "                continue\n",
    "                \n",
    "            # For each triple in batch, rank against all entities\n",
    "            for triple in batch_triples:\n",
    "                h, r, t = triple.cpu().tolist()\n",
    "                \n",
    "                if mode == 'head':\n",
    "                    target_entity = h\n",
    "                    if use_relations:\n",
    "                        # R-LightGCN: Use relation-aware scoring\n",
    "                        all_heads = torch.arange(num_entities, device=device)\n",
    "                        all_pairs = torch.stack([all_heads, torch.full_like(all_heads, t)], dim=0)\n",
    "                        rel_types = torch.full((num_entities,), r, device=device)\n",
    "                        scores = model.decode(z, all_pairs, rel_types)\n",
    "                    else:\n",
    "                        # LightGCN: Simple dot product\n",
    "                        scores = (z * z[t]).sum(dim=1)\n",
    "                else:\n",
    "                    target_entity = t\n",
    "                    if use_relations:\n",
    "                        # R-LightGCN: Use relation-aware scoring\n",
    "                        all_tails = torch.arange(num_entities, device=device)\n",
    "                        all_pairs = torch.stack([torch.full_like(all_tails, h), all_tails], dim=0)\n",
    "                        rel_types = torch.full((num_entities,), r, device=device)\n",
    "                        scores = model.decode(z, all_pairs, rel_types)\n",
    "                    else:\n",
    "                        # LightGCN: Simple dot product\n",
    "                        scores = (z[h] * z).sum(dim=1)\n",
    "                \n",
    "                # Get rankings (higher scores = better ranks)\n",
    "                _, sorted_indices = torch.sort(scores, descending=True)\n",
    "                rank = (sorted_indices == target_entity).nonzero(as_tuple=True)[0].item() + 1\n",
    "                \n",
    "                # Create binary labels for AUC/AP\n",
    "                y_true = torch.zeros(num_entities, device=device)\n",
    "                y_true[target_entity] = 1\n",
    "                y_score = scores\n",
    "                \n",
    "                # Convert to CPU for sklearn\n",
    "                y_true_cpu = y_true.cpu().numpy()\n",
    "                y_score_cpu = y_score.cpu().numpy()\n",
    "                \n",
    "                # Calculate metrics\n",
    "                try:\n",
    "                    auc = roc_auc_score(y_true_cpu, y_score_cpu)\n",
    "                    ap = average_precision_score(y_true_cpu, y_score_cpu)\n",
    "                except:\n",
    "                    auc = 0.5  # Random performance\n",
    "                    ap = 1.0 / num_entities\n",
    "                \n",
    "                # Calculate recall\n",
    "                y_pred_cpu = (y_score_cpu > np.median(y_score_cpu)).astype(int)\n",
    "                recall = recall_score(y_true_cpu, y_pred_cpu)       \n",
    "\n",
    "                mr = rank\n",
    "                mrr = 1.0 / rank\n",
    "                \n",
    "                # Hits@K\n",
    "                hits_at_k = {}\n",
    "                for k in k_values:\n",
    "                    hits_at_k[f'hits@{k}'] = 1.0 if rank <= k else 0.0\n",
    "                \n",
    "                # Store metrics\n",
    "                all_metrics[mode]['auc'].append(auc)\n",
    "                all_metrics[mode]['ap'].append(ap)\n",
    "                all_metrics[mode]['recall'].append(recall)\n",
    "                all_metrics[mode]['mr'].append(mr)\n",
    "                all_metrics[mode]['mrr'].append(mrr)\n",
    "                for k in k_values:\n",
    "                    all_metrics[mode][f'hits@{k}'].append(hits_at_k[f'hits@{k}'])\n",
    "    \n",
    "    # Average all metrics\n",
    "    final_metrics = {}\n",
    "    for mode in ['head', 'tail']:\n",
    "        final_metrics[mode] = {}\n",
    "        for metric_name, values in all_metrics[mode].items():\n",
    "            if values:  # Check if list is not empty\n",
    "                final_metrics[mode][metric_name] = np.mean(values)\n",
    "            else:\n",
    "                final_metrics[mode][metric_name] = 0.0\n",
    "    \n",
    "    return final_metrics"
   ]
  },
  {
   "cell_type": "code",
   "execution_count": 6,
   "id": "6926c416",
   "metadata": {},
   "outputs": [],
   "source": [
    "def log_and_track_metrics(epoch, avg_loss, val_ranking_metrics, metrics_tracker, model_name=\"Model\"):\n",
    "    \"\"\"\n",
    "    Utility function to track and log training metrics\n",
    "    \n",
    "    Args:\n",
    "        epoch: Current training epoch\n",
    "        avg_loss: Average loss for the epoch\n",
    "        val_ranking_metrics: Dictionary containing head/tail metrics from evaluate_ranking_metrics\n",
    "        metrics_tracker: MetricsTracker instance to store metrics\n",
    "        model_name: Name of the model for logging (e.g., \"LightGCN\", \"R-LightGCN\")\n",
    "    \"\"\"\n",
    "    # Track ALL metrics\n",
    "    metrics_dict = {\n",
    "        'epoch': epoch,\n",
    "        'loss': avg_loss,\n",
    "        'val_auc_head': val_ranking_metrics['head']['auc'],\n",
    "        'val_auc_tail': val_ranking_metrics['tail']['auc'],\n",
    "        'val_ap_head': val_ranking_metrics['head']['ap'],\n",
    "        'val_ap_tail': val_ranking_metrics['tail']['ap'],\n",
    "        'val_mrr_head': val_ranking_metrics['head']['mrr'],\n",
    "        'val_mrr_tail': val_ranking_metrics['tail']['mrr'],\n",
    "        'val_mr_head': val_ranking_metrics['head']['mr'],\n",
    "        'val_mr_tail': val_ranking_metrics['tail']['mr'],\n",
    "        'val_hits@1_head': val_ranking_metrics['head']['hits@1'],\n",
    "        'val_hits@1_tail': val_ranking_metrics['tail']['hits@1'],\n",
    "        'val_hits@10_head': val_ranking_metrics['head']['hits@10'], \n",
    "        'val_hits@10_tail': val_ranking_metrics['tail']['hits@10'],\n",
    "    }\n",
    "    \n",
    "    metrics_tracker.add(**metrics_dict)\n",
    "    \n",
    "    # Print formatted metrics\n",
    "    print(f\"[{model_name}-COMP] Epoch {epoch:03d} | Loss {avg_loss:.4f}\")\n",
    "    print(f\"  AUC (H/T): {val_ranking_metrics['head']['auc']:.4f}/{val_ranking_metrics['tail']['auc']:.4f}\")\n",
    "    print(f\"  AP (H/T): {val_ranking_metrics['head']['ap']:.4f}/{val_ranking_metrics['tail']['ap']:.4f}\")\n",
    "    print(f\"  MRR (H/T): {val_ranking_metrics['head']['mrr']:.4f}/{val_ranking_metrics['tail']['mrr']:.4f}\")\n",
    "    print(f\"  Hits@1 (H/T): {val_ranking_metrics['head']['hits@1']:.4f}/{val_ranking_metrics['tail']['hits@1']:.4f}\")\n",
    "    print(f\"  Hits@10 (H/T): {val_ranking_metrics['head']['hits@10']:.4f}/{val_ranking_metrics['tail']['hits@10']:.4f}\")\n",
    "    print(f\"  MR (H/T): {val_ranking_metrics['head']['mr']:.4f}/{val_ranking_metrics['tail']['mr']:.4f}\")"
   ]
  },
  {
   "cell_type": "code",
   "execution_count": 7,
   "id": "d2016e41",
   "metadata": {},
   "outputs": [],
   "source": [
    "class MetricsTracker:\n",
    "    def __init__(self):\n",
    "        self.metrics = defaultdict(list)\n",
    "    \n",
    "    def add(self, epoch, **kwargs):\n",
    "        self.metrics['epoch'].append(epoch)\n",
    "        for key, value in kwargs.items():\n",
    "            self.metrics[key].append(value)\n",
    "    \n",
    "    def plot(self, title=\"Training Metrics\"):\n",
    "        fig, axes = plt.subplots(3, 3, figsize=(15, 12))\n",
    "        fig.suptitle(title)\n",
    "        \n",
    "        # Loss\n",
    "        axes[0,0].plot(self.metrics['epoch'], self.metrics['loss'])\n",
    "        axes[0,0].set_title('Training Loss')\n",
    "        axes[0,0].set_xlabel('Epoch')\n",
    "        axes[0,0].set_ylabel('Loss')\n",
    "        \n",
    "        # AUC\n",
    "        if 'val_auc_head' in self.metrics:\n",
    "            axes[0,1].plot(self.metrics['epoch'], self.metrics['val_auc_head'], label='Head')\n",
    "            axes[0,1].plot(self.metrics['epoch'], self.metrics['val_auc_tail'], label='Tail')\n",
    "            axes[0,1].set_title('Validation AUC')\n",
    "            axes[0,1].set_xlabel('Epoch')\n",
    "            axes[0,1].set_ylabel('AUC')\n",
    "            axes[0,1].legend()\n",
    "        \n",
    "        # AP\n",
    "        if 'val_ap_head' in self.metrics:\n",
    "            axes[0,2].plot(self.metrics['epoch'], self.metrics['val_ap_head'], label='Head')\n",
    "            axes[0,2].plot(self.metrics['epoch'], self.metrics['val_ap_tail'], label='Tail')\n",
    "            axes[0,2].set_title('Validation AP')\n",
    "            axes[0,2].set_xlabel('Epoch')\n",
    "            axes[0,2].set_ylabel('AP')\n",
    "            axes[0,2].legend()\n",
    "        \n",
    "        # MRR\n",
    "        if 'val_mrr_head' in self.metrics:\n",
    "            axes[1,0].plot(self.metrics['epoch'], self.metrics['val_mrr_head'], label='Head')\n",
    "            axes[1,0].plot(self.metrics['epoch'], self.metrics['val_mrr_tail'], label='Tail')\n",
    "            axes[1,0].set_title('Validation MRR')\n",
    "            axes[1,0].set_xlabel('Epoch')\n",
    "            axes[1,0].set_ylabel('MRR')\n",
    "            axes[1,0].legend()\n",
    "        \n",
    "        # MR (lower is better)\n",
    "        if 'val_mr_head' in self.metrics:\n",
    "            axes[2,0].plot(self.metrics['epoch'], self.metrics['val_mr_head'], label='Head')\n",
    "            axes[2,0].plot(self.metrics['epoch'], self.metrics['val_mr_tail'], label='Tail')\n",
    "            axes[2,0].set_title('Validation MR (lower=better)')\n",
    "            axes[2,0].set_xlabel('Epoch')\n",
    "            axes[2,0].set_ylabel('MR')\n",
    "            axes[2,0].legend()\n",
    "\n",
    "        # Hits@1\n",
    "        if 'val_hits@1_head' in self.metrics:\n",
    "            axes[1,1].plot(self.metrics['epoch'], self.metrics['val_hits@1_head'], label='Head')\n",
    "            axes[1,1].plot(self.metrics['epoch'], self.metrics['val_hits@1_tail'], label='Tail')\n",
    "            axes[1,1].set_title('Validation Hits@1')\n",
    "            axes[1,1].set_xlabel('Epoch')\n",
    "            axes[1,1].set_ylabel('Hits@1')\n",
    "            axes[1,1].legend()\n",
    "        \n",
    "        # Hits@10\n",
    "        if 'val_hits@10_head' in self.metrics:\n",
    "            axes[1,2].plot(self.metrics['epoch'], self.metrics['val_hits@10_head'], label='Head')\n",
    "            axes[1,2].plot(self.metrics['epoch'], self.metrics['val_hits@10_tail'], label='Tail')\n",
    "            axes[1,2].set_title('Validation Hits@10')\n",
    "            axes[1,2].set_xlabel('Epoch')\n",
    "            axes[1,2].set_ylabel('Hits@10')\n",
    "            axes[1,2].legend()\n",
    "        \n",
    "        # Remove unused subplots\n",
    "        axes[2,1].remove()\n",
    "        axes[2,2].remove()\n",
    "        \n",
    "        plt.tight_layout()\n",
    "        plt.show()"
   ]
  },
  {
   "cell_type": "markdown",
   "id": "13b17f36",
   "metadata": {},
   "source": [
    "# Model 1 LightGCN"
   ]
  },
  {
   "cell_type": "code",
   "execution_count": 8,
   "id": "7c09fb86",
   "metadata": {},
   "outputs": [],
   "source": [
    "# -------- LightGCN layer --------\n",
    "class LightGCNConv(MessagePassing):\n",
    "    def __init__(self):\n",
    "        super().__init__(aggr='add')\n",
    "\n",
    "    # Compute symmetric normalization term D^-0.5*A*D^-0.5 to propagate messages through normalized adjacency\n",
    "    def forward(self, x: torch.Tensor, edge_index: torch.Tensor) -> torch.Tensor:\n",
    "        row, col = edge_index\n",
    "        deg = degree(col, x.size(0), dtype=x.dtype)\n",
    "        deg_inv_sqrt = deg.clamp(min=1).pow(-0.5)\n",
    "        norm = deg_inv_sqrt[row] * deg_inv_sqrt[col]\n",
    "        return self.propagate(edge_index, x=x, norm=norm)\n",
    "\n",
    "    # Scales the neighbor embeddings\n",
    "    def message(self, x_j: torch.Tensor, norm: torch.Tensor) -> torch.Tensor:\n",
    "        return norm.view(-1, 1) * x_j\n",
    "\n",
    "# -------- LightGCN encoder + dot-product decoder --------\n",
    "class LightGCN(nn.Module):\n",
    "    # Initialize trainable node embeddings\n",
    "    def __init__(self, num_nodes: int, emb_dim: int = 64, num_layers: int = 3):\n",
    "        super().__init__()\n",
    "        self.embedding = nn.Embedding(num_nodes, emb_dim)\n",
    "        nn.init.xavier_uniform_(self.embedding.weight)\n",
    "        self.convs = nn.ModuleList([LightGCNConv() for _ in range(num_layers)])\n",
    "        self.num_layers = num_layers\n",
    "\n",
    "    def encode(self, edge_index: torch.Tensor) -> torch.Tensor:\n",
    "        x0 = self.embedding.weight\n",
    "        out = x0\n",
    "        x = x0\n",
    "        # Each layer's output is accumulated and averaged\n",
    "        for conv in self.convs:\n",
    "            x = conv(x, edge_index)\n",
    "            out = out + x\n",
    "        return out / (self.num_layers + 1)\n",
    "\n",
    "    # Compute dot product between node embeddings for each edge (positive or negative pair)\n",
    "    @staticmethod\n",
    "    def decode(z: torch.Tensor, pairs: torch.LongTensor) -> torch.Tensor:\n",
    "        # pairs: [2, B] with [src; dst]\n",
    "        return (z[pairs[0]] * z[pairs[1]]).sum(dim=1)"
   ]
  },
  {
   "cell_type": "code",
   "execution_count": 9,
   "id": "40968439",
   "metadata": {},
   "outputs": [],
   "source": [
    "@torch.no_grad()\n",
    "def pairs_from_triples(triples: torch.LongTensor) -> torch.LongTensor:\n",
    "    \"\"\"\n",
    "    Convert (h, r, t) -> pairs [2, N] = (h, t) for decoding on collapsed graph.\n",
    "    \"\"\"\n",
    "    return triples[:, [0, 2]].t().contiguous()  # [2, N]\n",
    "\n",
    "@torch.no_grad()\n",
    "def negative_sample_heads(triples: torch.LongTensor, num_nodes: int) -> torch.LongTensor:\n",
    "    \"\"\"\n",
    "    Corrupt heads: (h, r, t) -> (h', t)\n",
    "    Returns pairs [2, N].\n",
    "    \"\"\"\n",
    "    N = triples.size(0)\n",
    "    neg_h = torch.randint(0, num_nodes, (N,), device=triples.device)\n",
    "    t = triples[:, 2]\n",
    "    return torch.stack([neg_h, t], dim=0)\n",
    "\n",
    "@torch.no_grad()\n",
    "def negative_sample_tails(triples: torch.LongTensor, num_nodes: int) -> torch.LongTensor:\n",
    "    \"\"\"\n",
    "    Corrupt tails: (h, r, t) -> (h, t')\n",
    "    Returns pairs [2, N].\n",
    "    \"\"\"\n",
    "    N = triples.size(0)\n",
    "    h = triples[:, 0]\n",
    "    neg_t = torch.randint(0, num_nodes, (N,), device=triples.device)\n",
    "    return torch.stack([h, neg_t], dim=0)\n"
   ]
  },
  {
   "cell_type": "code",
   "execution_count": 10,
   "id": "6895643d",
   "metadata": {},
   "outputs": [],
   "source": [
    "def train_one_epoch_lightgcn(model, triples, optimizer, edge_index, \n",
    "                            num_entities, batch_size, shuffle=True):\n",
    "    \"\"\"\n",
    "    Train LightGCN with batching\n",
    "    \"\"\"\n",
    "    model.train()\n",
    "    \n",
    "    total_loss = 0.0\n",
    "    num_batches = 0\n",
    "    \n",
    "    # Create batches from training triples\n",
    "    N = triples.size(0)\n",
    "    if shuffle:\n",
    "        indices = torch.randperm(N, device=triples.device)\n",
    "    else:\n",
    "        indices = torch.arange(N, device=triples.device)\n",
    "\n",
    "    for i in range(0, N, batch_size):\n",
    "        batch_indices = indices[i:i+batch_size]\n",
    "        batch_triples = triples[batch_indices]\n",
    "        \n",
    "        z = model.encode(edge_index)\n",
    "        \n",
    "        # Generate positive and negative pairs for this batch\n",
    "        pos_pairs = pairs_from_triples(batch_triples)\n",
    "        neg_pairs = negative_sample_heads(batch_triples, num_entities)\n",
    "        \n",
    "        # Simple dot-product decoding (no relation types)\n",
    "        pos_scores = model.decode(z, pos_pairs)\n",
    "        neg_scores = model.decode(z, neg_pairs)\n",
    "        \n",
    "        # Compute loss for this batch\n",
    "        batch_scores = torch.cat([pos_scores, neg_scores])\n",
    "        batch_labels = torch.cat([\n",
    "            torch.ones_like(pos_scores),\n",
    "            torch.zeros_like(neg_scores)\n",
    "        ])\n",
    "        \n",
    "        loss = F.binary_cross_entropy_with_logits(batch_scores, batch_labels)\n",
    "        \n",
    "        # Backward pass\n",
    "        optimizer.zero_grad()\n",
    "        loss.backward()\n",
    "        optimizer.step()\n",
    "        \n",
    "        total_loss += loss.item()\n",
    "        num_batches += 1\n",
    "    \n",
    "    return total_loss / num_batches"
   ]
  },
  {
   "cell_type": "code",
   "execution_count": 11,
   "id": "37471872",
   "metadata": {},
   "outputs": [],
   "source": [
    "class EarlyStopping:\n",
    "    def __init__(self, patience=10, min_delta=0.001, restore_best_weights=True, metric='avg_auc'):\n",
    "        self.patience = patience\n",
    "        self.min_delta = min_delta\n",
    "        self.restore_best_weights = restore_best_weights\n",
    "        self.metric = metric\n",
    "        self.best_score = None\n",
    "        self.counter = 0\n",
    "        self.best_weights = None\n",
    "        \n",
    "    def __call__(self, current_metrics, model):\n",
    "        # Calculate score based on chosen metric\n",
    "        if self.metric == 'avg_auc':\n",
    "            score = (current_metrics['head']['auc'] + current_metrics['tail']['auc']) / 2\n",
    "        elif self.metric == 'avg_mrr':\n",
    "            score = (current_metrics['head']['mrr'] + current_metrics['tail']['mrr']) / 2\n",
    "        elif self.metric == 'avg_hits@1':\n",
    "            score = (current_metrics['head']['hits@1'] + current_metrics['tail']['hits@1']) / 2\n",
    "        else:\n",
    "            score = (current_metrics['head']['auc'] + current_metrics['tail']['auc']) / 2\n",
    "            \n",
    "        if self.best_score is None:\n",
    "            self.best_score = score\n",
    "            self.save_checkpoint(model)\n",
    "        elif score < self.best_score + self.min_delta:\n",
    "            self.counter += 1\n",
    "            if self.counter >= self.patience:\n",
    "                if self.restore_best_weights:\n",
    "                    model.load_state_dict(self.best_weights)\n",
    "                return True\n",
    "        else:\n",
    "            self.best_score = score\n",
    "            self.counter = 0\n",
    "            self.save_checkpoint(model)\n",
    "        return False\n",
    "    \n",
    "    def save_checkpoint(self, model):\n",
    "        self.best_weights = copy.deepcopy(model.state_dict())"
   ]
  },
  {
   "cell_type": "code",
   "execution_count": 12,
   "id": "b355921b",
   "metadata": {},
   "outputs": [
    {
     "name": "stdout",
     "output_type": "stream",
     "text": [
      "Starting LightGCN training ...\n",
      "Max epochs: 100, Early stopping patience: 10\n"
     ]
    },
    {
     "name": "stderr",
     "output_type": "stream",
     "text": [
      "  0%|          | 0/100 [00:00<?, ?it/s]"
     ]
    },
    {
     "name": "stdout",
     "output_type": "stream",
     "text": [
      "Evaluating head corruption...\n",
      "Evaluating tail corruption...\n"
     ]
    },
    {
     "name": "stderr",
     "output_type": "stream",
     "text": [
      "  1%|          | 1/100 [00:31<52:29, 31.82s/it]"
     ]
    },
    {
     "name": "stdout",
     "output_type": "stream",
     "text": [
      "[LightGCN-COMP] Epoch 001 | Loss 0.6577\n",
      "  AUC (H/T): 0.8264/0.8876\n",
      "  AP (H/T): 0.0067/0.0570\n",
      "  MRR (H/T): 0.0067/0.0570\n",
      "  Hits@1 (H/T): 0.0000/0.0200\n",
      "  Hits@10 (H/T): 0.0200/0.1400\n",
      "  MR (H/T): 2525.2600/1635.8400\n"
     ]
    },
    {
     "name": "stderr",
     "output_type": "stream",
     "text": [
      "  4%|▍         | 4/100 [02:01<48:15, 30.17s/it]"
     ]
    },
    {
     "name": "stdout",
     "output_type": "stream",
     "text": [
      "Evaluating head corruption...\n",
      "Evaluating tail corruption...\n"
     ]
    },
    {
     "name": "stderr",
     "output_type": "stream",
     "text": [
      "  5%|▌         | 5/100 [02:32<48:00, 30.32s/it]"
     ]
    },
    {
     "name": "stdout",
     "output_type": "stream",
     "text": [
      "[LightGCN-COMP] Epoch 005 | Loss 0.5261\n",
      "  AUC (H/T): 0.8657/0.9156\n",
      "  AP (H/T): 0.0241/0.0354\n",
      "  MRR (H/T): 0.0241/0.0354\n",
      "  Hits@1 (H/T): 0.0200/0.0000\n",
      "  Hits@10 (H/T): 0.0200/0.1200\n",
      "  MR (H/T): 1953.5000/1228.7600\n"
     ]
    },
    {
     "name": "stderr",
     "output_type": "stream",
     "text": [
      "  9%|▉         | 9/100 [04:30<45:00, 29.68s/it]"
     ]
    },
    {
     "name": "stdout",
     "output_type": "stream",
     "text": [
      "Evaluating head corruption...\n",
      "Evaluating tail corruption...\n"
     ]
    },
    {
     "name": "stderr",
     "output_type": "stream",
     "text": [
      " 10%|█         | 10/100 [05:00<44:38, 29.76s/it]"
     ]
    },
    {
     "name": "stdout",
     "output_type": "stream",
     "text": [
      "[LightGCN-COMP] Epoch 010 | Loss 0.5024\n",
      "  AUC (H/T): 0.8713/0.9102\n",
      "  AP (H/T): 0.0281/0.0214\n",
      "  MRR (H/T): 0.0281/0.0214\n",
      "  Hits@1 (H/T): 0.0200/0.0000\n",
      "  Hits@10 (H/T): 0.0400/0.0600\n",
      "  MR (H/T): 1871.8200/1307.1400\n"
     ]
    },
    {
     "name": "stderr",
     "output_type": "stream",
     "text": [
      " 14%|█▍        | 14/100 [06:52<40:54, 28.54s/it]"
     ]
    },
    {
     "name": "stdout",
     "output_type": "stream",
     "text": [
      "Evaluating head corruption...\n",
      "Evaluating tail corruption...\n"
     ]
    },
    {
     "name": "stderr",
     "output_type": "stream",
     "text": [
      " 15%|█▌        | 15/100 [07:22<40:52, 28.85s/it]"
     ]
    },
    {
     "name": "stdout",
     "output_type": "stream",
     "text": [
      "[LightGCN-COMP] Epoch 015 | Loss 0.4883\n",
      "  AUC (H/T): 0.8831/0.9170\n",
      "  AP (H/T): 0.0304/0.0210\n",
      "  MRR (H/T): 0.0304/0.0210\n",
      "  Hits@1 (H/T): 0.0200/0.0000\n",
      "  Hits@10 (H/T): 0.0400/0.0400\n",
      "  MR (H/T): 1700.6600/1207.2800\n"
     ]
    },
    {
     "name": "stderr",
     "output_type": "stream",
     "text": [
      " 19%|█▉        | 19/100 [09:18<39:13, 29.05s/it]"
     ]
    },
    {
     "name": "stdout",
     "output_type": "stream",
     "text": [
      "Evaluating head corruption...\n",
      "Evaluating tail corruption...\n"
     ]
    },
    {
     "name": "stderr",
     "output_type": "stream",
     "text": [
      " 20%|██        | 20/100 [09:48<38:59, 29.25s/it]"
     ]
    },
    {
     "name": "stdout",
     "output_type": "stream",
     "text": [
      "[LightGCN-COMP] Epoch 020 | Loss 0.4777\n",
      "  AUC (H/T): 0.8897/0.9192\n",
      "  AP (H/T): 0.0312/0.0227\n",
      "  MRR (H/T): 0.0312/0.0227\n",
      "  Hits@1 (H/T): 0.0200/0.0000\n",
      "  Hits@10 (H/T): 0.0400/0.0400\n",
      "  MR (H/T): 1605.0000/1176.3400\n"
     ]
    },
    {
     "name": "stderr",
     "output_type": "stream",
     "text": [
      " 24%|██▍       | 24/100 [11:39<35:39, 28.15s/it]"
     ]
    },
    {
     "name": "stdout",
     "output_type": "stream",
     "text": [
      "Evaluating head corruption...\n",
      "Evaluating tail corruption...\n"
     ]
    },
    {
     "name": "stderr",
     "output_type": "stream",
     "text": [
      " 25%|██▌       | 25/100 [12:08<35:37, 28.50s/it]"
     ]
    },
    {
     "name": "stdout",
     "output_type": "stream",
     "text": [
      "[LightGCN-COMP] Epoch 025 | Loss 0.4690\n",
      "  AUC (H/T): 0.8926/0.9186\n",
      "  AP (H/T): 0.0338/0.0236\n",
      "  MRR (H/T): 0.0338/0.0236\n",
      "  Hits@1 (H/T): 0.0200/0.0000\n",
      "  Hits@10 (H/T): 0.0400/0.1000\n",
      "  MR (H/T): 1562.1600/1185.1400\n"
     ]
    },
    {
     "name": "stderr",
     "output_type": "stream",
     "text": [
      " 29%|██▉       | 29/100 [14:00<33:15, 28.10s/it]"
     ]
    },
    {
     "name": "stdout",
     "output_type": "stream",
     "text": [
      "Evaluating head corruption...\n",
      "Evaluating tail corruption...\n"
     ]
    },
    {
     "name": "stderr",
     "output_type": "stream",
     "text": [
      " 30%|███       | 30/100 [14:30<33:16, 28.51s/it]"
     ]
    },
    {
     "name": "stdout",
     "output_type": "stream",
     "text": [
      "[LightGCN-COMP] Epoch 030 | Loss 0.4626\n",
      "  AUC (H/T): 0.8963/0.9224\n",
      "  AP (H/T): 0.0366/0.0235\n",
      "  MRR (H/T): 0.0366/0.0235\n",
      "  Hits@1 (H/T): 0.0200/0.0000\n",
      "  Hits@10 (H/T): 0.0600/0.0600\n",
      "  MR (H/T): 1508.6000/1129.0400\n"
     ]
    },
    {
     "name": "stderr",
     "output_type": "stream",
     "text": [
      " 34%|███▍      | 34/100 [16:22<30:53, 28.08s/it]"
     ]
    },
    {
     "name": "stdout",
     "output_type": "stream",
     "text": [
      "Evaluating head corruption...\n",
      "Evaluating tail corruption...\n"
     ]
    },
    {
     "name": "stderr",
     "output_type": "stream",
     "text": [
      " 35%|███▌      | 35/100 [16:51<30:56, 28.56s/it]"
     ]
    },
    {
     "name": "stdout",
     "output_type": "stream",
     "text": [
      "[LightGCN-COMP] Epoch 035 | Loss 0.4573\n",
      "  AUC (H/T): 0.8980/0.9238\n",
      "  AP (H/T): 0.0379/0.0292\n",
      "  MRR (H/T): 0.0379/0.0292\n",
      "  Hits@1 (H/T): 0.0200/0.0000\n",
      "  Hits@10 (H/T): 0.0600/0.0800\n",
      "  MR (H/T): 1483.6000/1109.1000\n"
     ]
    },
    {
     "name": "stderr",
     "output_type": "stream",
     "text": [
      " 39%|███▉      | 39/100 [19:14<35:36, 35.02s/it]"
     ]
    },
    {
     "name": "stdout",
     "output_type": "stream",
     "text": [
      "Evaluating head corruption...\n",
      "Evaluating tail corruption...\n"
     ]
    },
    {
     "name": "stderr",
     "output_type": "stream",
     "text": [
      " 40%|████      | 40/100 [19:55<36:42, 36.71s/it]"
     ]
    },
    {
     "name": "stdout",
     "output_type": "stream",
     "text": [
      "[LightGCN-COMP] Epoch 040 | Loss 0.4515\n",
      "  AUC (H/T): 0.9008/0.9252\n",
      "  AP (H/T): 0.0386/0.0384\n",
      "  MRR (H/T): 0.0386/0.0384\n",
      "  Hits@1 (H/T): 0.0200/0.0200\n",
      "  Hits@10 (H/T): 0.1000/0.0800\n",
      "  MR (H/T): 1442.8200/1088.4600\n"
     ]
    },
    {
     "name": "stderr",
     "output_type": "stream",
     "text": [
      " 44%|████▍     | 44/100 [22:29<35:13, 37.74s/it]"
     ]
    },
    {
     "name": "stdout",
     "output_type": "stream",
     "text": [
      "Evaluating head corruption...\n",
      "Evaluating tail corruption...\n"
     ]
    },
    {
     "name": "stderr",
     "output_type": "stream",
     "text": [
      " 45%|████▌     | 45/100 [23:09<35:11, 38.40s/it]"
     ]
    },
    {
     "name": "stdout",
     "output_type": "stream",
     "text": [
      "[LightGCN-COMP] Epoch 045 | Loss 0.4476\n",
      "  AUC (H/T): 0.9011/0.9254\n",
      "  AP (H/T): 0.0377/0.0391\n",
      "  MRR (H/T): 0.0377/0.0391\n",
      "  Hits@1 (H/T): 0.0200/0.0200\n",
      "  Hits@10 (H/T): 0.0800/0.0600\n",
      "  MR (H/T): 1439.5200/1085.9800\n"
     ]
    },
    {
     "name": "stderr",
     "output_type": "stream",
     "text": [
      " 49%|████▉     | 49/100 [25:40<32:12, 37.89s/it]"
     ]
    },
    {
     "name": "stdout",
     "output_type": "stream",
     "text": [
      "Evaluating head corruption...\n",
      "Evaluating tail corruption...\n"
     ]
    },
    {
     "name": "stderr",
     "output_type": "stream",
     "text": [
      " 50%|█████     | 50/100 [26:19<32:02, 38.46s/it]"
     ]
    },
    {
     "name": "stdout",
     "output_type": "stream",
     "text": [
      "[LightGCN-COMP] Epoch 050 | Loss 0.4429\n",
      "  AUC (H/T): 0.8976/0.9148\n",
      "  AP (H/T): 0.0348/0.0385\n",
      "  MRR (H/T): 0.0348/0.0385\n",
      "  Hits@1 (H/T): 0.0200/0.0200\n",
      "  Hits@10 (H/T): 0.0800/0.0600\n",
      "  MR (H/T): 1490.5000/1239.1600\n"
     ]
    },
    {
     "name": "stderr",
     "output_type": "stream",
     "text": [
      " 54%|█████▍    | 54/100 [28:50<28:59, 37.82s/it]"
     ]
    },
    {
     "name": "stdout",
     "output_type": "stream",
     "text": [
      "Evaluating head corruption...\n",
      "Evaluating tail corruption...\n"
     ]
    },
    {
     "name": "stderr",
     "output_type": "stream",
     "text": [
      " 55%|█████▌    | 55/100 [29:30<28:52, 38.50s/it]"
     ]
    },
    {
     "name": "stdout",
     "output_type": "stream",
     "text": [
      "[LightGCN-COMP] Epoch 055 | Loss 0.4401\n",
      "  AUC (H/T): 0.8969/0.9139\n",
      "  AP (H/T): 0.0257/0.0388\n",
      "  MRR (H/T): 0.0257/0.0388\n",
      "  Hits@1 (H/T): 0.0000/0.0200\n",
      "  Hits@10 (H/T): 0.0600/0.0600\n",
      "  MR (H/T): 1500.4000/1252.7800\n"
     ]
    },
    {
     "name": "stderr",
     "output_type": "stream",
     "text": [
      " 59%|█████▉    | 59/100 [32:00<25:46, 37.72s/it]"
     ]
    },
    {
     "name": "stdout",
     "output_type": "stream",
     "text": [
      "Evaluating head corruption...\n",
      "Evaluating tail corruption...\n"
     ]
    },
    {
     "name": "stderr",
     "output_type": "stream",
     "text": [
      " 60%|██████    | 60/100 [32:40<25:36, 38.42s/it]"
     ]
    },
    {
     "name": "stdout",
     "output_type": "stream",
     "text": [
      "[LightGCN-COMP] Epoch 060 | Loss 0.4366\n",
      "  AUC (H/T): 0.8968/0.9114\n",
      "  AP (H/T): 0.0257/0.0389\n",
      "  MRR (H/T): 0.0257/0.0389\n",
      "  Hits@1 (H/T): 0.0000/0.0200\n",
      "  Hits@10 (H/T): 0.0600/0.0600\n",
      "  MR (H/T): 1502.2200/1289.4800\n"
     ]
    },
    {
     "name": "stderr",
     "output_type": "stream",
     "text": [
      " 64%|██████▍   | 64/100 [35:12<22:48, 38.03s/it]"
     ]
    },
    {
     "name": "stdout",
     "output_type": "stream",
     "text": [
      "Evaluating head corruption...\n",
      "Evaluating tail corruption...\n"
     ]
    },
    {
     "name": "stderr",
     "output_type": "stream",
     "text": [
      " 65%|██████▌   | 65/100 [35:53<22:41, 38.91s/it]"
     ]
    },
    {
     "name": "stdout",
     "output_type": "stream",
     "text": [
      "[LightGCN-COMP] Epoch 065 | Loss 0.4338\n",
      "  AUC (H/T): 0.8932/0.9067\n",
      "  AP (H/T): 0.0312/0.0412\n",
      "  MRR (H/T): 0.0312/0.0412\n",
      "  Hits@1 (H/T): 0.0000/0.0200\n",
      "  Hits@10 (H/T): 0.0600/0.0400\n",
      "  MR (H/T): 1553.1800/1357.2400\n"
     ]
    },
    {
     "name": "stderr",
     "output_type": "stream",
     "text": [
      " 69%|██████▉   | 69/100 [38:25<19:47, 38.32s/it]"
     ]
    },
    {
     "name": "stdout",
     "output_type": "stream",
     "text": [
      "Evaluating head corruption...\n",
      "Evaluating tail corruption...\n"
     ]
    },
    {
     "name": "stderr",
     "output_type": "stream",
     "text": [
      " 70%|███████   | 70/100 [39:05<19:24, 38.81s/it]"
     ]
    },
    {
     "name": "stdout",
     "output_type": "stream",
     "text": [
      "[LightGCN-COMP] Epoch 070 | Loss 0.4306\n",
      "  AUC (H/T): 0.8948/0.9047\n",
      "  AP (H/T): 0.0412/0.0415\n",
      "  MRR (H/T): 0.0412/0.0415\n",
      "  Hits@1 (H/T): 0.0200/0.0200\n",
      "  Hits@10 (H/T): 0.0600/0.0600\n",
      "  MR (H/T): 1531.0400/1386.9200\n"
     ]
    },
    {
     "name": "stderr",
     "output_type": "stream",
     "text": [
      " 74%|███████▍  | 74/100 [41:38<16:38, 38.41s/it]"
     ]
    },
    {
     "name": "stdout",
     "output_type": "stream",
     "text": [
      "Evaluating head corruption...\n",
      "Evaluating tail corruption...\n"
     ]
    },
    {
     "name": "stderr",
     "output_type": "stream",
     "text": [
      " 75%|███████▌  | 75/100 [42:18<16:10, 38.80s/it]"
     ]
    },
    {
     "name": "stdout",
     "output_type": "stream",
     "text": [
      "[LightGCN-COMP] Epoch 075 | Loss 0.4272\n",
      "  AUC (H/T): 0.8949/0.9008\n",
      "  AP (H/T): 0.0418/0.0431\n",
      "  MRR (H/T): 0.0418/0.0431\n",
      "  Hits@1 (H/T): 0.0200/0.0200\n",
      "  Hits@10 (H/T): 0.0600/0.0600\n",
      "  MR (H/T): 1528.8600/1443.4000\n"
     ]
    },
    {
     "name": "stderr",
     "output_type": "stream",
     "text": [
      " 79%|███████▉  | 79/100 [44:48<13:15, 37.87s/it]"
     ]
    },
    {
     "name": "stdout",
     "output_type": "stream",
     "text": [
      "Evaluating head corruption...\n",
      "Evaluating tail corruption...\n"
     ]
    },
    {
     "name": "stderr",
     "output_type": "stream",
     "text": [
      " 80%|████████  | 80/100 [45:28<12:47, 38.39s/it]"
     ]
    },
    {
     "name": "stdout",
     "output_type": "stream",
     "text": [
      "[LightGCN-COMP] Epoch 080 | Loss 0.4265\n",
      "  AUC (H/T): 0.8963/0.9010\n",
      "  AP (H/T): 0.0288/0.0439\n",
      "  MRR (H/T): 0.0288/0.0439\n",
      "  Hits@1 (H/T): 0.0000/0.0200\n",
      "  Hits@10 (H/T): 0.0600/0.0600\n",
      "  MR (H/T): 1509.4200/1440.7400\n"
     ]
    },
    {
     "name": "stderr",
     "output_type": "stream",
     "text": [
      " 84%|████████▍ | 84/100 [48:00<10:10, 38.16s/it]"
     ]
    },
    {
     "name": "stdout",
     "output_type": "stream",
     "text": [
      "Evaluating head corruption...\n",
      "Evaluating tail corruption...\n"
     ]
    },
    {
     "name": "stderr",
     "output_type": "stream",
     "text": [
      " 85%|████████▌ | 85/100 [48:40<09:39, 38.65s/it]"
     ]
    },
    {
     "name": "stdout",
     "output_type": "stream",
     "text": [
      "[LightGCN-COMP] Epoch 085 | Loss 0.4241\n",
      "  AUC (H/T): 0.8985/0.9040\n",
      "  AP (H/T): 0.0290/0.0427\n",
      "  MRR (H/T): 0.0290/0.0427\n",
      "  Hits@1 (H/T): 0.0000/0.0200\n",
      "  Hits@10 (H/T): 0.0600/0.0600\n",
      "  MR (H/T): 1476.3600/1397.1600\n"
     ]
    },
    {
     "name": "stderr",
     "output_type": "stream",
     "text": [
      " 89%|████████▉ | 89/100 [51:10<06:54, 37.72s/it]"
     ]
    },
    {
     "name": "stdout",
     "output_type": "stream",
     "text": [
      "Evaluating head corruption...\n",
      "Evaluating tail corruption...\n"
     ]
    },
    {
     "name": "stderr",
     "output_type": "stream",
     "text": [
      " 89%|████████▉ | 89/100 [51:50<06:24, 34.95s/it]"
     ]
    },
    {
     "name": "stdout",
     "output_type": "stream",
     "text": [
      "[LightGCN-COMP] Epoch 090 | Loss 0.4220\n",
      "  AUC (H/T): 0.8964/0.8944\n",
      "  AP (H/T): 0.0373/0.0436\n",
      "  MRR (H/T): 0.0373/0.0436\n",
      "  Hits@1 (H/T): 0.0200/0.0200\n",
      "  Hits@10 (H/T): 0.0600/0.0600\n",
      "  MR (H/T): 1506.6400/1536.0800\n",
      "Early stopping triggered at epoch 90\n",
      "Best AUC: 0.9130\n",
      "\n",
      "LightGCN training completed!\n"
     ]
    },
    {
     "name": "stderr",
     "output_type": "stream",
     "text": [
      "\n"
     ]
    },
    {
     "data": {
      "image/png": "[encoded data removed]",
      "text/plain": [
       "<Figure size 1500x1200 with 7 Axes>"
      ]
     },
     "metadata": {},
     "output_type": "display_data"
    },
    {
     "name": "stdout",
     "output_type": "stream",
     "text": [
      "Evaluating head corruption...\n",
      "Evaluating tail corruption...\n",
      "\n",
      "[LightGCN with Shuffled Triples][TEST RESULTS]\n",
      "AUC (H/T): 0.9196/0.9063\n",
      "MRR (H/T): 0.0547/0.0244\n",
      "Hits@1 (H/T): 0.0200/0.0000\n",
      "Hits@10 (H/T): 0.1400/0.0500\n",
      "MR (H/T): 1170.7/1363.8\n"
     ]
    }
   ],
   "source": [
    "lr = 1e-3\n",
    "epochs = 100\n",
    "emb_dim = 64\n",
    "num_layers = 3\n",
    "eval_every = 5\n",
    "batch_size = 2048\n",
    "patience = 10\n",
    "\n",
    "# Initialize tracking with comprehensive metrics\n",
    "lightgcn_metrics_tracker = MetricsTracker()\n",
    "lightgcn_early_stopping = EarlyStopping(patience=patience, min_delta=0.001, metric='avg_auc')\n",
    "\n",
    "# Create new model for comprehensive training\n",
    "lightgcn_3 = LightGCN(num_nodes=num_entities, emb_dim=emb_dim, num_layers=num_layers).to(device)\n",
    "opt_comprehensive = torch.optim.Adam(lightgcn_3.parameters(), lr=lr)\n",
    "\n",
    "print(\"Starting LightGCN training ...\")\n",
    "print(f\"Max epochs: {epochs}, Early stopping patience: {patience}\")\n",
    "\n",
    "for epoch in tqdm(range(1, epochs + 1)):\n",
    "    avg_loss = train_one_epoch_lightgcn(\n",
    "        lightgcn_3, train_triples, opt_comprehensive, \n",
    "        edge_index, num_entities, \n",
    "        batch_size, True\n",
    "    )\n",
    "\n",
    "    # Comprehensive evaluation every epoch (using small subset for speed)\n",
    "    if epoch % eval_every == 0 or epoch == 1:\n",
    "        lightgcn_3.eval()\n",
    "        \n",
    "        # Use small subset for comprehensive metrics to avoid long computation\n",
    "        val_subset = valid_triples[:50] if len(valid_triples) > 50 else valid_triples\n",
    "        \n",
    "        # Get comprehensive ranking metrics\n",
    "        lightgcn_ranking_metrics = evaluate_ranking_metrics(\n",
    "            lightgcn_3, edge_index, val_subset, num_entities, \n",
    "            k_values=[1, 3, 5, 10], batch_size=10\n",
    "        )\n",
    "        \n",
    "        log_and_track_metrics(\n",
    "            epoch=epoch,\n",
    "            avg_loss=avg_loss,\n",
    "            val_ranking_metrics=lightgcn_ranking_metrics,\n",
    "            metrics_tracker=lightgcn_metrics_tracker,\n",
    "            model_name=\"LightGCN\"\n",
    "        )\n",
    "\n",
    "        if lightgcn_early_stopping(lightgcn_ranking_metrics, lightgcn_3):\n",
    "            print(f\"Early stopping triggered at epoch {epoch}\")\n",
    "            print(f\"Best AUC: {lightgcn_early_stopping.best_score:.4f}\")\n",
    "            break\n",
    "\n",
    "print(\"\\nLightGCN training completed!\")\n",
    "\n",
    "# Plot all metrics\n",
    "lightgcn_metrics_tracker.plot(\"LightGCN Training\")\n",
    "\n",
    "# Final comprehensive test evaluation\n",
    "lightgcn_3.eval()\n",
    "test_subset = test_triples[:100]\n",
    "lightgcn_final_test_metrics = evaluate_ranking_metrics(\n",
    "    lightgcn_3, edge_index, test_subset, num_entities, \n",
    "    k_values=[1, 3, 5, 10], batch_size=20\n",
    ")\n",
    "\n",
    "print(f\"\\n[LightGCN with Shuffled Triples][TEST RESULTS]\")\n",
    "print(f\"AUC (H/T): {lightgcn_final_test_metrics['head']['auc']:.4f}/{lightgcn_final_test_metrics['tail']['auc']:.4f}\")\n",
    "print(f\"MRR (H/T): {lightgcn_final_test_metrics['head']['mrr']:.4f}/{lightgcn_final_test_metrics['tail']['mrr']:.4f}\")\n",
    "print(f\"Hits@1 (H/T): {lightgcn_final_test_metrics['head']['hits@1']:.4f}/{lightgcn_final_test_metrics['tail']['hits@1']:.4f}\")\n",
    "print(f\"Hits@10 (H/T): {lightgcn_final_test_metrics['head']['hits@10']:.4f}/{lightgcn_final_test_metrics['tail']['hits@10']:.4f}\")\n",
    "print(f\"MR (H/T): {lightgcn_final_test_metrics['head']['mr']:.1f}/{lightgcn_final_test_metrics['tail']['mr']:.1f}\")"
   ]
  },
  {
   "cell_type": "markdown",
   "id": "3c6e2901",
   "metadata": {},
   "source": [
    "# Model 2 R-LightGCN"
   ]
  },
  {
   "cell_type": "code",
   "execution_count": 13,
   "id": "d7b78690",
   "metadata": {},
   "outputs": [],
   "source": [
    "# -------- R-LightGCN Layer --------\n",
    "class RLightGCNConv(MessagePassing):\n",
    "    def __init__(self, num_relations: int, emb_dim: int, rel_emb: nn.Embedding):\n",
    "        super().__init__(aggr='add')\n",
    "        self.rel_emb = rel_emb   # share the same relation embedding from the main model\n",
    "        self.emb_dim = emb_dim\n",
    "\n",
    "    def forward(self, x: torch.Tensor, edge_index: torch.Tensor, edge_type: torch.LongTensor) -> torch.Tensor:\n",
    "        row, col = edge_index\n",
    "        deg = degree(col, x.size(0), dtype=x.dtype)\n",
    "        deg_inv_sqrt = deg.clamp(min=1).pow(-0.5)\n",
    "        norm = deg_inv_sqrt[row] * deg_inv_sqrt[col]\n",
    "        return self.propagate(edge_index, x=x, edge_type=edge_type, norm=norm)\n",
    "\n",
    "    def message(self, x_j: torch.Tensor, edge_type: torch.LongTensor, norm: torch.Tensor) -> torch.Tensor:\n",
    "        # Each relation type has its own embedding vector\n",
    "        rel_vec = self.rel_emb(edge_type)           # [num_edges, emb_dim]\n",
    "        return norm.view(-1, 1) * (x_j * rel_vec)   # elementwise scaling by relation embedding\n",
    "\n",
    "\n",
    "# -------- R-LightGCN Model --------\n",
    "class RLightGCN(nn.Module):\n",
    "    def __init__(self, num_nodes: int, num_relations: int, emb_dim: int = 64, num_layers: int = 3):\n",
    "        super().__init__()\n",
    "\n",
    "        # Node embeddings\n",
    "        self.embedding = nn.Embedding(num_nodes, emb_dim)\n",
    "        nn.init.xavier_uniform_(self.embedding.weight)\n",
    "        \n",
    "        # Relation embeddings (shared across layers)\n",
    "        self.rel_emb = nn.Embedding(num_relations, emb_dim)\n",
    "        nn.init.xavier_uniform_(self.rel_emb.weight)\n",
    "\n",
    "        # Pass relation embedding into each conv layer\n",
    "        self.convs = nn.ModuleList([\n",
    "            RLightGCNConv(num_relations, emb_dim, self.rel_emb)\n",
    "            for _ in range(num_layers)\n",
    "        ])\n",
    "        self.num_layers = num_layers\n",
    "\n",
    "    def encode(self, edge_index: torch.Tensor, edge_type: torch.LongTensor) -> torch.Tensor:\n",
    "        x0 = self.embedding.weight\n",
    "        out = x0\n",
    "        x = x0\n",
    "        for conv in self.convs:\n",
    "            x = conv(x, edge_index, edge_type)\n",
    "            out = out + x\n",
    "        return out / (self.num_layers + 1)\n",
    "\n",
    "    def decode(self, z: torch.Tensor, pairs: torch.LongTensor, rel_type: torch.LongTensor) -> torch.Tensor:\n",
    "        head, tail = pairs\n",
    "        r_emb = self.rel_emb(rel_type)\n",
    "        return (z[head] * r_emb * z[tail]).sum(dim=1)\n",
    "\n",
    "    def forward(self, edge_index, edge_type, pairs, rel_type):\n",
    "        z = self.encode(edge_index, edge_type)\n",
    "        return self.decode(z, pairs, rel_type)\n"
   ]
  },
  {
   "cell_type": "code",
   "execution_count": 14,
   "id": "870437b6",
   "metadata": {},
   "outputs": [],
   "source": [
    "def train_one_epoch_r_lightgcn(model, triples, optimizer, rel_edge_index, edge_type, \n",
    "                               num_entities, batch_size=2048, shuffle=True):\n",
    "    \"\"\"\n",
    "    Train R-LightGCN with batching\n",
    "    \"\"\"\n",
    "    model.train()\n",
    "    \n",
    "    total_loss = 0.0\n",
    "    num_batches = 0\n",
    "    \n",
    "    # Create batches from shuffled triples\n",
    "    N = triples.size(0)\n",
    "\n",
    "    if shuffle:\n",
    "        indices = torch.randperm(N, device=triples.device)\n",
    "    else:\n",
    "        indices = torch.arange(N, device=triples.device)\n",
    "    \n",
    "    for i in range(0, N, batch_size):\n",
    "        batch_indices = indices[i:i+batch_size]\n",
    "        batch_triples = triples[batch_indices]\n",
    "        \n",
    "        z = model.encode(rel_edge_index, edge_type)\n",
    "\n",
    "        # Generate positive and negative pairs for this batch\n",
    "        pos_pairs = pairs_from_triples(batch_triples)\n",
    "        neg_pairs = negative_sample_heads(batch_triples, num_entities)\n",
    "        \n",
    "        # Get relation types for positive and negative pairs\n",
    "        pos_rel_type = batch_triples[:, 1]\n",
    "        neg_rel_type = pos_rel_type.clone()  # Same relations for negatives\n",
    "        \n",
    "        # Decode scores\n",
    "        pos_scores = model.decode(z, pos_pairs, pos_rel_type)\n",
    "        neg_scores = model.decode(z, neg_pairs, neg_rel_type)\n",
    "        \n",
    "        # Compute loss for this batch\n",
    "        batch_scores = torch.cat([pos_scores, neg_scores])\n",
    "        batch_labels = torch.cat([\n",
    "            torch.ones_like(pos_scores),\n",
    "            torch.zeros_like(neg_scores)\n",
    "        ])\n",
    "        \n",
    "        loss = F.binary_cross_entropy_with_logits(batch_scores, batch_labels)\n",
    "        \n",
    "        # Backward pass\n",
    "        optimizer.zero_grad()\n",
    "        loss.backward()\n",
    "        optimizer.step()\n",
    "        \n",
    "        total_loss += loss.item()\n",
    "        num_batches += 1\n",
    "    \n",
    "    return total_loss / num_batches"
   ]
  },
  {
   "cell_type": "code",
   "execution_count": 15,
   "id": "7715c67a",
   "metadata": {},
   "outputs": [
    {
     "name": "stdout",
     "output_type": "stream",
     "text": [
      "Starting R-LightGCN training with enhanced features...\n",
      "Max epochs: 100, Early stopping patience: 10\n"
     ]
    },
    {
     "name": "stderr",
     "output_type": "stream",
     "text": [
      "  0%|          | 0/100 [00:00<?, ?it/s]"
     ]
    },
    {
     "name": "stdout",
     "output_type": "stream",
     "text": [
      "Evaluating head corruption...\n",
      "Evaluating tail corruption...\n"
     ]
    },
    {
     "name": "stderr",
     "output_type": "stream",
     "text": [
      "  1%|          | 1/100 [01:40<2:45:48, 100.49s/it]"
     ]
    },
    {
     "name": "stdout",
     "output_type": "stream",
     "text": [
      "[R-LightGCN-COMP] Epoch 001 | Loss 0.6931\n",
      "  AUC (H/T): 0.6061/0.6023\n",
      "  AP (H/T): 0.0014/0.0049\n",
      "  MRR (H/T): 0.0014/0.0049\n",
      "  Hits@1 (H/T): 0.0000/0.0000\n",
      "  Hits@10 (H/T): 0.0000/0.0200\n",
      "  MR (H/T): 5727.7200/5783.7200\n"
     ]
    },
    {
     "name": "stderr",
     "output_type": "stream",
     "text": [
      "  4%|▍         | 4/100 [06:29<2:34:59, 96.87s/it] "
     ]
    },
    {
     "name": "stdout",
     "output_type": "stream",
     "text": [
      "Evaluating head corruption...\n",
      "Evaluating tail corruption...\n"
     ]
    },
    {
     "name": "stderr",
     "output_type": "stream",
     "text": [
      "  5%|▌         | 5/100 [08:09<2:34:57, 97.87s/it]"
     ]
    },
    {
     "name": "stdout",
     "output_type": "stream",
     "text": [
      "[R-LightGCN-COMP] Epoch 005 | Loss 0.4719\n",
      "  AUC (H/T): 0.9357/0.9562\n",
      "  AP (H/T): 0.0528/0.2938\n",
      "  MRR (H/T): 0.0528/0.2938\n",
      "  Hits@1 (H/T): 0.0200/0.2200\n",
      "  Hits@10 (H/T): 0.1000/0.4200\n",
      "  MR (H/T): 936.6400/638.0800\n"
     ]
    },
    {
     "name": "stderr",
     "output_type": "stream",
     "text": [
      "  9%|▉         | 9/100 [14:32<2:25:59, 96.25s/it]"
     ]
    },
    {
     "name": "stdout",
     "output_type": "stream",
     "text": [
      "Evaluating head corruption...\n",
      "Evaluating tail corruption...\n"
     ]
    },
    {
     "name": "stderr",
     "output_type": "stream",
     "text": [
      " 10%|█         | 10/100 [16:11<2:25:47, 97.19s/it]"
     ]
    },
    {
     "name": "stdout",
     "output_type": "stream",
     "text": [
      "[R-LightGCN-COMP] Epoch 010 | Loss 0.4149\n",
      "  AUC (H/T): 0.9569/0.9811\n",
      "  AP (H/T): 0.0670/0.2965\n",
      "  MRR (H/T): 0.0670/0.2965\n",
      "  Hits@1 (H/T): 0.0200/0.2200\n",
      "  Hits@10 (H/T): 0.1400/0.4000\n",
      "  MR (H/T): 627.4000/275.3000\n"
     ]
    },
    {
     "name": "stderr",
     "output_type": "stream",
     "text": [
      " 14%|█▍        | 14/100 [22:35<2:18:09, 96.39s/it]"
     ]
    },
    {
     "name": "stdout",
     "output_type": "stream",
     "text": [
      "Evaluating head corruption...\n",
      "Evaluating tail corruption...\n"
     ]
    },
    {
     "name": "stderr",
     "output_type": "stream",
     "text": [
      " 15%|█▌        | 15/100 [24:14<2:17:39, 97.18s/it]"
     ]
    },
    {
     "name": "stdout",
     "output_type": "stream",
     "text": [
      "[R-LightGCN-COMP] Epoch 015 | Loss 0.3820\n",
      "  AUC (H/T): 0.9560/0.9843\n",
      "  AP (H/T): 0.0799/0.2509\n",
      "  MRR (H/T): 0.0799/0.2509\n",
      "  Hits@1 (H/T): 0.0400/0.1600\n",
      "  Hits@10 (H/T): 0.1600/0.4200\n",
      "  MR (H/T): 640.6200/228.7800\n"
     ]
    },
    {
     "name": "stderr",
     "output_type": "stream",
     "text": [
      " 19%|█▉        | 19/100 [30:39<2:10:09, 96.41s/it]"
     ]
    },
    {
     "name": "stdout",
     "output_type": "stream",
     "text": [
      "Evaluating head corruption...\n",
      "Evaluating tail corruption...\n"
     ]
    },
    {
     "name": "stderr",
     "output_type": "stream",
     "text": [
      " 20%|██        | 20/100 [32:18<2:09:33, 97.17s/it]"
     ]
    },
    {
     "name": "stdout",
     "output_type": "stream",
     "text": [
      "[R-LightGCN-COMP] Epoch 020 | Loss 0.3508\n",
      "  AUC (H/T): 0.9473/0.9619\n",
      "  AP (H/T): 0.0730/0.2122\n",
      "  MRR (H/T): 0.0730/0.2122\n",
      "  Hits@1 (H/T): 0.0400/0.1600\n",
      "  Hits@10 (H/T): 0.1600/0.3600\n",
      "  MR (H/T): 766.8200/554.3200\n"
     ]
    },
    {
     "name": "stderr",
     "output_type": "stream",
     "text": [
      " 24%|██▍       | 24/100 [38:42<2:02:13, 96.49s/it]"
     ]
    },
    {
     "name": "stdout",
     "output_type": "stream",
     "text": [
      "Evaluating head corruption...\n",
      "Evaluating tail corruption...\n"
     ]
    },
    {
     "name": "stderr",
     "output_type": "stream",
     "text": [
      " 25%|██▌       | 25/100 [40:21<2:01:31, 97.22s/it]"
     ]
    },
    {
     "name": "stdout",
     "output_type": "stream",
     "text": [
      "[R-LightGCN-COMP] Epoch 025 | Loss 0.3206\n",
      "  AUC (H/T): 0.9384/0.9305\n",
      "  AP (H/T): 0.0669/0.1535\n",
      "  MRR (H/T): 0.0669/0.1535\n",
      "  Hits@1 (H/T): 0.0400/0.1200\n",
      "  Hits@10 (H/T): 0.1400/0.2400\n",
      "  MR (H/T): 896.0600/1011.6400\n"
     ]
    },
    {
     "name": "stderr",
     "output_type": "stream",
     "text": [
      " 29%|██▉       | 29/100 [46:46<1:54:09, 96.48s/it]"
     ]
    },
    {
     "name": "stdout",
     "output_type": "stream",
     "text": [
      "Evaluating head corruption...\n",
      "Evaluating tail corruption...\n"
     ]
    },
    {
     "name": "stderr",
     "output_type": "stream",
     "text": [
      " 30%|███       | 30/100 [48:25<1:53:28, 97.26s/it]"
     ]
    },
    {
     "name": "stdout",
     "output_type": "stream",
     "text": [
      "[R-LightGCN-COMP] Epoch 030 | Loss 0.2971\n",
      "  AUC (H/T): 0.9334/0.9011\n",
      "  AP (H/T): 0.0655/0.0858\n",
      "  MRR (H/T): 0.0655/0.0858\n",
      "  Hits@1 (H/T): 0.0400/0.0400\n",
      "  Hits@10 (H/T): 0.1400/0.1600\n",
      "  MR (H/T): 969.9200/1439.4000\n"
     ]
    },
    {
     "name": "stderr",
     "output_type": "stream",
     "text": [
      " 34%|███▍      | 34/100 [54:49<1:45:44, 96.14s/it]"
     ]
    },
    {
     "name": "stdout",
     "output_type": "stream",
     "text": [
      "Evaluating head corruption...\n",
      "Evaluating tail corruption...\n"
     ]
    },
    {
     "name": "stderr",
     "output_type": "stream",
     "text": [
      " 35%|███▌      | 35/100 [56:28<1:45:09, 97.07s/it]"
     ]
    },
    {
     "name": "stdout",
     "output_type": "stream",
     "text": [
      "[R-LightGCN-COMP] Epoch 035 | Loss 0.2765\n",
      "  AUC (H/T): 0.9252/0.8689\n",
      "  AP (H/T): 0.0645/0.0525\n",
      "  MRR (H/T): 0.0645/0.0525\n",
      "  Hits@1 (H/T): 0.0400/0.0200\n",
      "  Hits@10 (H/T): 0.1200/0.0800\n",
      "  MR (H/T): 1088.7200/1907.3800\n"
     ]
    },
    {
     "name": "stderr",
     "output_type": "stream",
     "text": [
      " 39%|███▉      | 39/100 [1:02:56<1:38:47, 97.18s/it]"
     ]
    },
    {
     "name": "stdout",
     "output_type": "stream",
     "text": [
      "Evaluating head corruption...\n",
      "Evaluating tail corruption...\n"
     ]
    },
    {
     "name": "stderr",
     "output_type": "stream",
     "text": [
      " 40%|████      | 40/100 [1:04:34<1:37:33, 97.56s/it]"
     ]
    },
    {
     "name": "stdout",
     "output_type": "stream",
     "text": [
      "[R-LightGCN-COMP] Epoch 040 | Loss 0.2564\n",
      "  AUC (H/T): 0.9247/0.8579\n",
      "  AP (H/T): 0.0632/0.0341\n",
      "  MRR (H/T): 0.0632/0.0341\n",
      "  Hits@1 (H/T): 0.0400/0.0000\n",
      "  Hits@10 (H/T): 0.1000/0.0600\n",
      "  MR (H/T): 1095.9200/2067.1600\n"
     ]
    },
    {
     "name": "stderr",
     "output_type": "stream",
     "text": [
      " 44%|████▍     | 44/100 [1:11:00<1:30:09, 96.59s/it]"
     ]
    },
    {
     "name": "stdout",
     "output_type": "stream",
     "text": [
      "Evaluating head corruption...\n",
      "Evaluating tail corruption...\n"
     ]
    },
    {
     "name": "stderr",
     "output_type": "stream",
     "text": [
      " 45%|████▌     | 45/100 [1:12:38<1:29:06, 97.21s/it]"
     ]
    },
    {
     "name": "stdout",
     "output_type": "stream",
     "text": [
      "[R-LightGCN-COMP] Epoch 045 | Loss 0.2404\n",
      "  AUC (H/T): 0.9215/0.8440\n",
      "  AP (H/T): 0.0621/0.0197\n",
      "  MRR (H/T): 0.0621/0.0197\n",
      "  Hits@1 (H/T): 0.0400/0.0000\n",
      "  Hits@10 (H/T): 0.1000/0.0600\n",
      "  MR (H/T): 1142.3800/2268.7400\n"
     ]
    },
    {
     "name": "stderr",
     "output_type": "stream",
     "text": [
      " 49%|████▉     | 49/100 [1:19:02<1:21:43, 96.14s/it]"
     ]
    },
    {
     "name": "stdout",
     "output_type": "stream",
     "text": [
      "Evaluating head corruption...\n",
      "Evaluating tail corruption...\n"
     ]
    },
    {
     "name": "stderr",
     "output_type": "stream",
     "text": [
      " 50%|█████     | 50/100 [1:20:40<1:20:41, 96.83s/it]"
     ]
    },
    {
     "name": "stdout",
     "output_type": "stream",
     "text": [
      "[R-LightGCN-COMP] Epoch 050 | Loss 0.2272\n",
      "  AUC (H/T): 0.9197/0.8232\n",
      "  AP (H/T): 0.0618/0.0141\n",
      "  MRR (H/T): 0.0618/0.0141\n",
      "  Hits@1 (H/T): 0.0400/0.0000\n",
      "  Hits@10 (H/T): 0.1200/0.0800\n",
      "  MR (H/T): 1168.1000/2571.9800\n"
     ]
    },
    {
     "name": "stderr",
     "output_type": "stream",
     "text": [
      " 54%|█████▍    | 54/100 [1:27:04<1:13:37, 96.04s/it]"
     ]
    },
    {
     "name": "stdout",
     "output_type": "stream",
     "text": [
      "Evaluating head corruption...\n",
      "Evaluating tail corruption...\n"
     ]
    },
    {
     "name": "stderr",
     "output_type": "stream",
     "text": [
      " 55%|█████▌    | 55/100 [1:28:43<1:12:48, 97.09s/it]"
     ]
    },
    {
     "name": "stdout",
     "output_type": "stream",
     "text": [
      "[R-LightGCN-COMP] Epoch 055 | Loss 0.2121\n",
      "  AUC (H/T): 0.9190/0.8037\n",
      "  AP (H/T): 0.0617/0.0091\n",
      "  MRR (H/T): 0.0617/0.0091\n",
      "  Hits@1 (H/T): 0.0400/0.0000\n",
      "  Hits@10 (H/T): 0.1200/0.0200\n",
      "  MR (H/T): 1178.9200/2855.7400\n"
     ]
    },
    {
     "name": "stderr",
     "output_type": "stream",
     "text": [
      " 59%|█████▉    | 59/100 [1:35:07<1:05:50, 96.36s/it]"
     ]
    },
    {
     "name": "stdout",
     "output_type": "stream",
     "text": [
      "Evaluating head corruption...\n",
      "Evaluating tail corruption...\n"
     ]
    },
    {
     "name": "stderr",
     "output_type": "stream",
     "text": [
      " 60%|██████    | 60/100 [1:36:46<1:04:51, 97.29s/it]"
     ]
    },
    {
     "name": "stdout",
     "output_type": "stream",
     "text": [
      "[R-LightGCN-COMP] Epoch 060 | Loss 0.2028\n",
      "  AUC (H/T): 0.9202/0.7926\n",
      "  AP (H/T): 0.0619/0.0078\n",
      "  MRR (H/T): 0.0619/0.0078\n",
      "  Hits@1 (H/T): 0.0400/0.0000\n",
      "  Hits@10 (H/T): 0.1200/0.0200\n",
      "  MR (H/T): 1160.9400/3016.4800\n"
     ]
    },
    {
     "name": "stderr",
     "output_type": "stream",
     "text": [
      " 64%|██████▍   | 64/100 [1:43:11<57:47, 96.33s/it]  "
     ]
    },
    {
     "name": "stdout",
     "output_type": "stream",
     "text": [
      "Evaluating head corruption...\n",
      "Evaluating tail corruption...\n"
     ]
    },
    {
     "name": "stderr",
     "output_type": "stream",
     "text": [
      " 64%|██████▍   | 64/100 [1:44:50<58:58, 98.30s/it]"
     ]
    },
    {
     "name": "stdout",
     "output_type": "stream",
     "text": [
      "[R-LightGCN-COMP] Epoch 065 | Loss 0.1913\n",
      "  AUC (H/T): 0.9204/0.7790\n",
      "  AP (H/T): 0.0626/0.0059\n",
      "  MRR (H/T): 0.0626/0.0059\n",
      "  Hits@1 (H/T): 0.0400/0.0000\n",
      "  Hits@10 (H/T): 0.1200/0.0000\n",
      "  MR (H/T): 1157.8200/3213.7800\n",
      "Early stopping triggered at epoch 65\n",
      "Best AUC: 0.9702\n",
      "R-LightGCN training completed!\n"
     ]
    },
    {
     "name": "stderr",
     "output_type": "stream",
     "text": [
      "\n"
     ]
    },
    {
     "data": {
      "image/png": "[encoded data removed]",
      "text/plain": [
       "<Figure size 1500x1200 with 7 Axes>"
      ]
     },
     "metadata": {},
     "output_type": "display_data"
    },
    {
     "name": "stdout",
     "output_type": "stream",
     "text": [
      "Evaluating head corruption...\n",
      "Evaluating tail corruption...\n",
      "\n",
      "[R-LightGCN with Shuffled Triples][TEST RESULTS]\n",
      "AUC (H/T): 0.9734/0.9714\n",
      "MRR (H/T): 0.1139/0.1758\n",
      "Hits@1 (H/T): 0.0700/0.1100\n",
      "Hits@10 (H/T): 0.1900/0.3000\n",
      "MR (H/T): 388.3/416.3\n"
     ]
    }
   ],
   "source": [
    "# Build relation-aware edge_index and edge_type (with reverse edges)\n",
    "rel_edges = []\n",
    "rel_types = []\n",
    "\n",
    "for h, r, t in train_triples.tolist():\n",
    "    rel_edges.append((h, t)); rel_types.append(r)\n",
    "    rel_edges.append((t, h)); rel_types.append(r)  # add reverse edge with same relation\n",
    "\n",
    "rel_edge_index = torch.tensor(rel_edges, dtype=torch.long, device=device).t().contiguous()\n",
    "edge_type = torch.tensor(rel_types, dtype=torch.long, device=device)\n",
    "\n",
    "# Add self-loops with a new relation id\n",
    "self_loop_edges = torch.arange(num_entities, device=device)\n",
    "self_loop_edges = torch.stack([self_loop_edges, self_loop_edges], dim=0)  # [2, N]\n",
    "rel_edge_index = torch.cat([rel_edge_index, self_loop_edges], dim=1)\n",
    "\n",
    "self_loop_types = torch.full((num_entities,), num_relations, dtype=torch.long, device=device)\n",
    "edge_type = torch.cat([edge_type, self_loop_types], dim=0)\n",
    "\n",
    "# update relation count\n",
    "num_relations_with_loops = num_relations + 1\n",
    "\n",
    "# Training parameters\n",
    "lr = 1e-3\n",
    "epochs = 100\n",
    "emb_dim = 64\n",
    "num_layers = 3\n",
    "eval_every = 5\n",
    "patience = 10\n",
    "batch_size = 2048\n",
    "\n",
    "# Initialize tracking for R-LightGCN\n",
    "r_metrics_tracker = MetricsTracker()\n",
    "r_early_stopping = EarlyStopping(patience=patience, min_delta=0.001, metric='avg_auc')\n",
    "\n",
    "r_lightgcn_3 = RLightGCN(\n",
    "    num_nodes=num_entities,\n",
    "    num_relations=num_relations_with_loops,\n",
    "    emb_dim=emb_dim,\n",
    "    num_layers=num_layers\n",
    ").to(device)\n",
    "\n",
    "ropt = torch.optim.Adam(r_lightgcn_3.parameters(), lr=lr)\n",
    "\n",
    "print(\"Starting R-LightGCN training with enhanced features...\")\n",
    "print(f\"Max epochs: {epochs}, Early stopping patience: {patience}\")\n",
    "\n",
    "for epoch in tqdm(range(1, epochs + 1)):    \n",
    "    # Train with batching\n",
    "    avg_loss = train_one_epoch_r_lightgcn(\n",
    "        r_lightgcn_3, train_triples, ropt, \n",
    "        rel_edge_index, edge_type, num_entities, \n",
    "        batch_size, True\n",
    "    )\n",
    "\n",
    "    # Evaluation and metrics tracking\n",
    "    if epoch % eval_every == 0 or epoch == 1:\n",
    "        r_lightgcn_3.eval()\n",
    "\n",
    "            # Use small subset for comprehensive metrics to avoid long computation\n",
    "        val_subset = valid_triples[:50] if len(valid_triples) > 50 else valid_triples\n",
    "        \n",
    "        # Get comprehensive ranking metrics\n",
    "        r_ranking_metrics = evaluate_ranking_metrics(\n",
    "            r_lightgcn_3, None, val_subset, num_entities, \n",
    "            k_values=[1, 3, 5, 10], batch_size=10,\n",
    "            rel_edge_index=rel_edge_index, edge_type=edge_type\n",
    "        )\n",
    "\n",
    "        log_and_track_metrics(\n",
    "            epoch=epoch,\n",
    "            avg_loss=avg_loss,\n",
    "            val_ranking_metrics=r_ranking_metrics,\n",
    "            metrics_tracker=r_metrics_tracker,\n",
    "            model_name=\"R-LightGCN\"\n",
    "        )\n",
    "\n",
    "        if r_early_stopping(r_ranking_metrics, r_lightgcn_3):\n",
    "            print(f\"Early stopping triggered at epoch {epoch}\")\n",
    "            print(f\"Best AUC: {r_early_stopping.best_score:.4f}\")\n",
    "            break\n",
    "\n",
    "print(\"R-LightGCN training completed!\")\n",
    "\n",
    "# Plot training metrics\n",
    "r_metrics_tracker.plot(\"R-LightGCN Training Metrics\")\n",
    "\n",
    "# Final comprehensive test evaluation\n",
    "r_lightgcn_3.eval()\n",
    "test_subset = test_triples[:100]\n",
    "r_final_test_metrics = evaluate_ranking_metrics(\n",
    "    r_lightgcn_3, None, test_subset, num_entities, \n",
    "    k_values=[1, 3, 5, 10], batch_size=20,\n",
    "    rel_edge_index=rel_edge_index, edge_type=edge_type\n",
    ")\n",
    "\n",
    "print(f\"\\n[R-LightGCN with Shuffled Triples][TEST RESULTS]\")\n",
    "print(f\"AUC (H/T): {r_final_test_metrics['head']['auc']:.4f}/{r_final_test_metrics['tail']['auc']:.4f}\")\n",
    "print(f\"MRR (H/T): {r_final_test_metrics['head']['mrr']:.4f}/{r_final_test_metrics['tail']['mrr']:.4f}\")\n",
    "print(f\"Hits@1 (H/T): {r_final_test_metrics['head']['hits@1']:.4f}/{r_final_test_metrics['tail']['hits@1']:.4f}\")\n",
    "print(f\"Hits@10 (H/T): {r_final_test_metrics['head']['hits@10']:.4f}/{r_final_test_metrics['tail']['hits@10']:.4f}\")\n",
    "print(f\"MR (H/T): {r_final_test_metrics['head']['mr']:.1f}/{r_final_test_metrics['tail']['mr']:.1f}\")"
   ]
  },
  {
   "cell_type": "markdown",
   "id": "cbe7eeec",
   "metadata": {},
   "source": [
    "# Save Model"
   ]
  },
  {
   "cell_type": "code",
   "execution_count": 16,
   "id": "48221253",
   "metadata": {},
   "outputs": [],
   "source": [
    "def print_training_history(metrics_tracker, model_name, early_stopping=None):\n",
    "    \"\"\"\n",
    "    Print a formatted training history summary similar to GAT output\n",
    "    \n",
    "    Args:\n",
    "        metrics_tracker: MetricsTracker instance with training history\n",
    "        model_name: Name of the model (e.g., \"LightGCN\", \"R-LightGCN\")\n",
    "        early_stopping: EarlyStopping instance (optional)\n",
    "    \"\"\"\n",
    "    output_lines = []\n",
    "    \n",
    "    output_lines.append(f\"\\n{model_name} Training History\")\n",
    "    output_lines.append(\"=\" * 60)\n",
    "    output_lines.append(\"\")\n",
    "    \n",
    "    # Get best validation AUC and corresponding epoch\n",
    "    epochs = metrics_tracker.metrics['epoch']\n",
    "    auc_head = metrics_tracker.metrics['val_auc_head']\n",
    "    auc_tail = metrics_tracker.metrics['val_auc_tail']\n",
    "    avg_auc = [(h + t) / 2 for h, t in zip(auc_head, auc_tail)]\n",
    "    \n",
    "    best_auc = max(avg_auc)\n",
    "    best_epoch = epochs[avg_auc.index(best_auc)]\n",
    "    total_epochs = len(epochs)\n",
    "    \n",
    "    output_lines.append(f\"Best Validation AUC: {best_auc:.4f}\")\n",
    "    output_lines.append(f\"Total Epochs Trained: {total_epochs}\")\n",
    "    if early_stopping and hasattr(early_stopping, 'best_score'):\n",
    "        output_lines.append(f\"Early Stopping Best Score: {early_stopping.best_score:.4f}\")\n",
    "    output_lines.append(\"\")\n",
    "    \n",
    "    # Print table header\n",
    "    output_lines.append(\"-\" * 60)\n",
    "    output_lines.append(f\"{'Epoch':<8} {'Train Loss':<15} {'Val AUC':<15} {'Val Hits@10':<15}\")\n",
    "    output_lines.append(\"-\" * 60)\n",
    "    \n",
    "    # Print each epoch's metrics\n",
    "    for i, epoch in enumerate(epochs):\n",
    "        train_loss = metrics_tracker.metrics['loss'][i]\n",
    "        val_auc = avg_auc[i]\n",
    "        val_hits10 = (metrics_tracker.metrics['val_hits@10_head'][i] + \n",
    "                      metrics_tracker.metrics['val_hits@10_tail'][i]) / 2\n",
    "        \n",
    "        output_lines.append(f\"{epoch:<8} {train_loss:<15.4f} {val_auc:<15.4f} {val_hits10:<15.4f}\")\n",
    "    \n",
    "    output_lines.append(\"\")\n",
    "    \n",
    "    # Print to console\n",
    "    for line in output_lines:\n",
    "        print(line)\n",
    "    \n",
    "    # Return lines for saving to file\n",
    "    return output_lines\n"
   ]
  },
  {
   "cell_type": "code",
   "execution_count": null,
   "id": "ec3ebef2",
   "metadata": {},
   "outputs": [
    {
     "name": "stdout",
     "output_type": "stream",
     "text": [
      "\n",
      "LightGCN Training History\n",
      "============================================================\n",
      "\n",
      "Best Validation AUC: 0.9132\n",
      "Total Epochs Trained: 19\n",
      "Early Stopping Best Score: 0.9130\n",
      "\n",
      "------------------------------------------------------------\n",
      "Epoch    Train Loss      Val AUC         Val Hits@10    \n",
      "------------------------------------------------------------\n",
      "1        0.6577          0.8570          0.0800         \n",
      "5        0.5261          0.8906          0.0700         \n",
      "10       0.5024          0.8908          0.0500         \n",
      "15       0.4883          0.9001          0.0400         \n",
      "20       0.4777          0.9044          0.0400         \n",
      "25       0.4690          0.9056          0.0700         \n",
      "30       0.4626          0.9094          0.0600         \n",
      "35       0.4573          0.9109          0.0700         \n",
      "40       0.4515          0.9130          0.0900         \n",
      "45       0.4476          0.9132          0.0700         \n",
      "50       0.4429          0.9062          0.0700         \n",
      "55       0.4401          0.9054          0.0600         \n",
      "60       0.4366          0.9041          0.0600         \n",
      "65       0.4338          0.9000          0.0500         \n",
      "70       0.4306          0.8997          0.0600         \n",
      "75       0.4272          0.8979          0.0600         \n",
      "80       0.4265          0.8986          0.0600         \n",
      "85       0.4241          0.9013          0.0600         \n",
      "90       0.4220          0.8954          0.0600         \n",
      "\n",
      "\n",
      "R-LightGCN Training History\n",
      "============================================================\n",
      "\n",
      "Best Validation AUC: 0.9702\n",
      "Total Epochs Trained: 14\n",
      "Early Stopping Best Score: 0.9702\n",
      "\n",
      "------------------------------------------------------------\n",
      "Epoch    Train Loss      Val AUC         Val Hits@10    \n",
      "------------------------------------------------------------\n",
      "1        0.6931          0.6042          0.0100         \n",
      "5        0.4719          0.9459          0.2600         \n",
      "10       0.4149          0.9690          0.2700         \n",
      "15       0.3820          0.9702          0.2900         \n",
      "20       0.3508          0.9546          0.2600         \n",
      "25       0.3206          0.9345          0.1900         \n",
      "30       0.2971          0.9172          0.1500         \n",
      "35       0.2765          0.8970          0.1000         \n",
      "40       0.2564          0.8913          0.0800         \n",
      "45       0.2404          0.8828          0.0800         \n",
      "50       0.2272          0.8715          0.1000         \n",
      "55       0.2121          0.8613          0.0700         \n",
      "60       0.2028          0.8564          0.0700         \n",
      "65       0.1913          0.8497          0.0600         \n",
      "\n",
      "Evaluating head corruption...\n",
      "Evaluating tail corruption...\n",
      "Both models saved with full training history and metadata!\n",
      "Files saved:\n",
      "- lightgcn_fb15k.pt\n",
      "- rlightgcn_fb15k.pt\n",
      "\n",
      "[SAVE SUMMARY]\n",
      "LightGCN - Final AUC (H/T): 0.9196/0.9063\n",
      "R-LightGCN - Final AUC (H/T): 0.9734/0.9714\n",
      "\n",
      "📄 Training results saved to: training_results_20251008_040921.txt\n",
      "💾 Model files saved:\n",
      "   - lightgcn_fb15k.pt\n",
      "   - rlightgcn_fb15k.pt\n"
     ]
    }
   ],
   "source": [
    "# Create metadata\n",
    "metadata = {\n",
    "    \"timestamp\": datetime.now().isoformat(),\n",
    "    \"dataset\": \"FB15K\",\n",
    "    \"num_entities\": num_entities,\n",
    "    \"num_relations\": num_relations,\n",
    "    \"emb_dim\": emb_dim,\n",
    "    \"num_layers\": num_layers,\n",
    "    \"training_epochs\": epochs,\n",
    "    \"early_stopping_patience\": patience,\n",
    "    \"lr\": lr\n",
    "}\n",
    "\n",
    "# Collect all output for text file\n",
    "all_output_lines = []\n",
    "all_output_lines.append(f\"Model Training Results - {datetime.now().strftime('%Y-%m-%d %H:%M:%S')}\")\n",
    "all_output_lines.append(\"=\" * 80)\n",
    "all_output_lines.append(\"\")\n",
    "\n",
    "# Print and collect LightGCN training history\n",
    "lightgcn_history = print_training_history(lightgcn_metrics_tracker, \"LightGCN\", lightgcn_early_stopping)\n",
    "all_output_lines.extend(lightgcn_history)\n",
    "\n",
    "# Save LightGCN\n",
    "lightgcn_save_dict = {\n",
    "    \"model_state_dict\": lightgcn_3.state_dict(),\n",
    "    \"optimizer_state_dict\": opt_comprehensive.state_dict(),\n",
    "    \"metadata\": metadata,\n",
    "    \"training_metrics\": dict(lightgcn_metrics_tracker.metrics),\n",
    "    \"final_test_results\": {\n",
    "        \"head_auc\": lightgcn_final_test_metrics['head']['auc'],\n",
    "        \"tail_auc\": lightgcn_final_test_metrics['tail']['auc'],\n",
    "        \"head_ap\": lightgcn_final_test_metrics['head']['ap'],\n",
    "        \"tail_ap\": lightgcn_final_test_metrics['tail']['ap'],\n",
    "        \"head_mrr\": lightgcn_final_test_metrics['head']['mrr'],\n",
    "        \"tail_mrr\": lightgcn_final_test_metrics['tail']['mrr'],\n",
    "        \"head_hits@1\": lightgcn_final_test_metrics['head']['hits@1'],\n",
    "        \"tail_hits@1\": lightgcn_final_test_metrics['tail']['hits@1'],\n",
    "        \"head_hits@10\": lightgcn_final_test_metrics['head']['hits@10'],\n",
    "        \"tail_hits@10\": lightgcn_final_test_metrics['tail']['hits@10'],\n",
    "        \"head_mr\": lightgcn_final_test_metrics['head']['mr'],\n",
    "        \"tail_mr\": lightgcn_final_test_metrics['tail']['mr']\n",
    "    }\n",
    "}\n",
    "torch.save(lightgcn_save_dict, \"lightgcn_fb15k.pt\")\n",
    "\n",
    "# Check for R-LightGCN and save if it exists\n",
    "if 'r_lightgcn_3' in locals() and 'ropt' in locals() and 'r_metrics_tracker' in locals():\n",
    "    # Print and collect R-LightGCN training history\n",
    "    r_lightgcn_history = print_training_history(r_metrics_tracker, \"R-LightGCN\", r_early_stopping)\n",
    "    all_output_lines.extend(r_lightgcn_history)\n",
    "    \n",
    "    # Get final test results for R-LightGCN using r_lightgcn_3 (the current model)\n",
    "    r_lightgcn_3.eval()\n",
    "    test_subset = test_triples[:100]\n",
    "    r_final_test_metrics = evaluate_ranking_metrics(\n",
    "        r_lightgcn_3, None, test_subset, num_entities, \n",
    "        k_values=[1, 3, 5, 10], batch_size=20,\n",
    "        rel_edge_index=rel_edge_index, edge_type=edge_type\n",
    "    )\n",
    "    \n",
    "    rlightgcn_metadata = metadata.copy()\n",
    "    rlightgcn_metadata[\"num_relations_with_loops\"] = num_relations_with_loops\n",
    "\n",
    "    rlightgcn_save_dict = {\n",
    "        \"model_state_dict\": r_lightgcn_3.state_dict(),\n",
    "        \"optimizer_state_dict\": ropt.state_dict(),\n",
    "        \"metadata\": rlightgcn_metadata,\n",
    "        \"training_metrics\": dict(r_metrics_tracker.metrics),\n",
    "        \"final_test_results\": {\n",
    "            \"head_auc\": r_final_test_metrics['head']['auc'],\n",
    "            \"tail_auc\": r_final_test_metrics['tail']['auc'],\n",
    "            \"head_ap\": r_final_test_metrics['head']['ap'],\n",
    "            \"tail_ap\": r_final_test_metrics['tail']['ap'],\n",
    "            \"head_mrr\": r_final_test_metrics['head']['mrr'],\n",
    "            \"tail_mrr\": r_final_test_metrics['tail']['mrr'],\n",
    "            \"head_hits@1\": r_final_test_metrics['head']['hits@1'],\n",
    "            \"tail_hits@1\": r_final_test_metrics['tail']['hits@1'],\n",
    "            \"head_hits@10\": r_final_test_metrics['head']['hits@10'],\n",
    "            \"tail_hits@10\": r_final_test_metrics['tail']['hits@10'],\n",
    "            \"head_mr\": r_final_test_metrics['head']['mr'],\n",
    "            \"tail_mr\": r_final_test_metrics['tail']['mr']\n",
    "        }\n",
    "    }\n",
    "    torch.save(rlightgcn_save_dict, \"rlightgcn_fb15k.pt\")\n",
    "    \n",
    "    # Add final test results to output\n",
    "    all_output_lines.append(\"\\nFINAL TEST RESULTS\")\n",
    "    all_output_lines.append(\"=\" * 40)\n",
    "    all_output_lines.append(\"\")\n",
    "    all_output_lines.append(\"[LightGCN with Shuffled Triples]\")\n",
    "    all_output_lines.append(f\"AUC (H/T): {lightgcn_final_test_metrics['head']['auc']:.4f}/{lightgcn_final_test_metrics['tail']['auc']:.4f}\")\n",
    "    all_output_lines.append(f\"MRR (H/T): {lightgcn_final_test_metrics['head']['mrr']:.4f}/{lightgcn_final_test_metrics['tail']['mrr']:.4f}\")\n",
    "    all_output_lines.append(f\"Hits@1 (H/T): {lightgcn_final_test_metrics['head']['hits@1']:.4f}/{lightgcn_final_test_metrics['tail']['hits@1']:.4f}\")\n",
    "    all_output_lines.append(f\"Hits@10 (H/T): {lightgcn_final_test_metrics['head']['hits@10']:.4f}/{lightgcn_final_test_metrics['tail']['hits@10']:.4f}\")\n",
    "    all_output_lines.append(f\"MR (H/T): {lightgcn_final_test_metrics['head']['mr']:.1f}/{lightgcn_final_test_metrics['tail']['mr']:.1f}\")\n",
    "    all_output_lines.append(\"\")\n",
    "    all_output_lines.append(\"[R-LightGCN with Shuffled Triples]\")\n",
    "    all_output_lines.append(f\"AUC (H/T): {r_final_test_metrics['head']['auc']:.4f}/{r_final_test_metrics['tail']['auc']:.4f}\")\n",
    "    all_output_lines.append(f\"MRR (H/T): {r_final_test_metrics['head']['mrr']:.4f}/{r_final_test_metrics['tail']['mrr']:.4f}\")\n",
    "    all_output_lines.append(f\"Hits@1 (H/T): {r_final_test_metrics['head']['hits@1']:.4f}/{r_final_test_metrics['tail']['hits@1']:.4f}\")\n",
    "    all_output_lines.append(f\"Hits@10 (H/T): {r_final_test_metrics['head']['hits@10']:.4f}/{r_final_test_metrics['tail']['hits@10']:.4f}\")\n",
    "    all_output_lines.append(f\"MR (H/T): {r_final_test_metrics['head']['mr']:.1f}/{r_final_test_metrics['tail']['mr']:.1f}\")\n",
    "    \n",
    "    print(\"Both models saved with full training history and metadata!\")\n",
    "    print(\"Files saved:\")\n",
    "    print(\"- lightgcn_fb15k.pt\")\n",
    "    print(\"- rlightgcn_fb15k.pt\")\n",
    "    \n",
    "    # Print summary\n",
    "    print(f\"\\n[SAVE SUMMARY]\")\n",
    "    print(f\"LightGCN - Final AUC (H/T): {lightgcn_final_test_metrics['head']['auc']:.4f}/{lightgcn_final_test_metrics['tail']['auc']:.4f}\")\n",
    "    print(f\"R-LightGCN - Final AUC (H/T): {r_final_test_metrics['head']['auc']:.4f}/{r_final_test_metrics['tail']['auc']:.4f}\")\n",
    "    \n",
    "else:\n",
    "    # Add final test results for LightGCN only\n",
    "    all_output_lines.append(\"\\nFINAL TEST RESULTS\")\n",
    "    all_output_lines.append(\"=\" * 40)\n",
    "    all_output_lines.append(\"\")\n",
    "    all_output_lines.append(\"[LightGCN with Shuffled Triples]\")\n",
    "    all_output_lines.append(f\"AUC (H/T): {lightgcn_final_test_metrics['head']['auc']:.4f}/{lightgcn_final_test_metrics['tail']['auc']:.4f}\")\n",
    "    all_output_lines.append(f\"MRR (H/T): {lightgcn_final_test_metrics['head']['mrr']:.4f}/{lightgcn_final_test_metrics['tail']['mrr']:.4f}\")\n",
    "    all_output_lines.append(f\"Hits@1 (H/T): {lightgcn_final_test_metrics['head']['hits@1']:.4f}/{lightgcn_final_test_metrics['tail']['hits@1']:.4f}\")\n",
    "    all_output_lines.append(f\"Hits@10 (H/T): {lightgcn_final_test_metrics['head']['hits@10']:.4f}/{lightgcn_final_test_metrics['tail']['hits@10']:.4f}\")\n",
    "    all_output_lines.append(f\"MR (H/T): {lightgcn_final_test_metrics['head']['mr']:.1f}/{lightgcn_final_test_metrics['tail']['mr']:.1f}\")\n",
    "    \n",
    "    print(\"LightGCN model saved with full training history and metadata!\")\n",
    "    print(\"Files saved:\")\n",
    "    print(\"- lightgcn_fb15k.pt\")\n",
    "    print(\"Note: R-LightGCN not found or not trained yet.\")\n",
    "\n",
    "# Save all output to text file\n",
    "output_filename = f\"training_results_{datetime.now().strftime('%Y%m%d_%H%M%S')}.txt\"\n",
    "with open(output_filename, 'w', encoding='utf-8') as f:\n",
    "    for line in all_output_lines:\n",
    "        f.write(line + '\\n')\n",
    "\n",
    "print(f\"\\nTraining results saved to: {output_filename}\")\n",
    "print(f\"Model files saved:\")\n",
    "print(f\"   - lightgcn_fb15k.pt\")\n",
    "if 'r_lightgcn_3' in locals():\n",
    "    print(f\"   - rlightgcn_fb15k.pt\")"
   ]
  }
 ],
 "metadata": {
  "kernelspec": {
   "display_name": "Python 3",
   "language": "python",
   "name": "python3"
  },
  "language_info": {
   "codemirror_mode": {
    "name": "ipython",
    "version": 3
   },
   "file_extension": ".py",
   "mimetype": "text/x-python",
   "name": "python",
   "nbconvert_exporter": "python",
   "pygments_lexer": "ipython3",
   "version": "3.12.5"
  }
 },
 "nbformat": 4,
 "nbformat_minor": 5
}
