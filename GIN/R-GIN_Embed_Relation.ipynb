{
 "cells": [
  {
   "cell_type": "code",
   "id": "initial_id",
   "metadata": {
    "ExecuteTime": {
     "end_time": "2025-10-15T09:21:26.850531Z",
     "start_time": "2025-10-15T09:21:26.841290Z"
    }
   },
   "source": [
    "import torch\n",
    "import torch.nn as nn\n",
    "from torch_geometric.nn import MessagePassing\n",
    "import torch.nn.functional as F\n",
    "from torch.utils.data import DataLoader\n",
    "from typing import Optional, Dict, Any\n",
    "import numpy as np\n",
    "from pathlib import Path\n",
    "from tqdm.notebook import tqdm\n",
    "from datetime import datetime\n",
    "\n",
    "try:\n",
    "    from sklearn.metrics import roc_auc_score\n",
    "    _HAS_SK = True\n",
    "except Exception:\n",
    "    _HAS_SK = False\n",
    "\n",
    "\n",
    "class RelationalGINConv(MessagePassing):\n",
    "    \"\"\"\n",
    "    Relation-aware GIN:\n",
    "      m_{j→i} = (x_j ⊙ r_{e_{ij}})\n",
    "      x_i'    = MLP( (1+eps) * x_i + Σ_j m_{j→i} )\n",
    "    \"\"\"\n",
    "    def __init__(self, emb_dim: int, num_relations: int, hidden_layers: int = 2, train_eps: bool = True):\n",
    "        super().__init__(aggr=\"add\")  # GIN uses sum\n",
    "        self.eps = nn.Parameter(torch.zeros(1)) if train_eps else nn.Parameter(torch.tensor(0.0), requires_grad=False)\n",
    "\n",
    "        # relation embeddings (one vector per relation id)\n",
    "        self.rel_emb = nn.Embedding(num_relations, emb_dim)\n",
    "        nn.init.xavier_uniform_(self.rel_emb.weight)\n",
    "\n",
    "        # GIN MLP\n",
    "        layers = [nn.Linear(emb_dim, emb_dim * 2), nn.ReLU()]\n",
    "        for _ in range(hidden_layers - 1):\n",
    "            layers += [nn.Linear(emb_dim * 2, emb_dim * 2), nn.ReLU()]\n",
    "        layers += [nn.Linear(emb_dim * 2, emb_dim)]\n",
    "        self.mlp = nn.Sequential(*layers)\n",
    "\n",
    "    def forward(self, x: torch.Tensor, edge_index: torch.Tensor, edge_type: torch.Tensor) -> torch.Tensor:\n",
    "        \"\"\"\n",
    "        x: [N, d]\n",
    "        edge_index: [2, E]\n",
    "        edge_type: [E]  (relation id per edge)\n",
    "        \"\"\"\n",
    "        # Pass x through propagate so update(...) can receive it\n",
    "        return self.propagate(edge_index, x=x, edge_type=edge_type)\n",
    "\n",
    "    def message(self, x_j: torch.Tensor, edge_type: torch.Tensor, **kwargs) -> torch.Tensor:\n",
    "        \"\"\"\n",
    "        x_j: [E, d] features of neighbors\n",
    "        edge_type: [E] relation ids aligned with edges\n",
    "        \"\"\"\n",
    "        r = self.rel_emb(edge_type)        # [E, d]\n",
    "        return x_j * r                     # elementwise modulation by relation\n",
    "\n",
    "    def update(self, aggr_out: torch.Tensor, x: torch.Tensor = None, **kwargs) -> torch.Tensor:\n",
    "        \"\"\"\n",
    "        aggr_out: [N, d] summed messages\n",
    "        x: original node features [N, d] (passed via propagate kwargs)\n",
    "        \"\"\"\n",
    "        out = (1.0 + self.eps) * x + aggr_out\n",
    "        return self.mlp(out)\n",
    "\n",
    "\n",
    "class RelationalGINEncoder(nn.Module):\n",
    "    def __init__(self, num_nodes: int, num_relations: int,\n",
    "                 emb_dim: int = 128, num_layers: int = 3,\n",
    "                 hidden_layers: int = 2, dropout: float = 0.1, train_eps: bool = True):\n",
    "        super().__init__()\n",
    "        self.embed = nn.Embedding(num_nodes, emb_dim)\n",
    "        nn.init.xavier_uniform_(self.embed.weight)\n",
    "\n",
    "        self.convs = nn.ModuleList([\n",
    "            RelationalGINConv(emb_dim, num_relations, hidden_layers=hidden_layers, train_eps=train_eps)\n",
    "            for _ in range(num_layers)\n",
    "        ])\n",
    "        self.dropout = nn.Dropout(dropout)\n",
    "\n",
    "    def forward(self, edge_index: torch.Tensor, edge_type: torch.Tensor) -> torch.Tensor:\n",
    "        x = self.embed.weight\n",
    "        for conv in self.convs:\n",
    "            x = conv(x, edge_index, edge_type)\n",
    "            x = self.dropout(x)\n",
    "        return x"
   ],
   "outputs": [],
   "execution_count": 25
  },
  {
   "cell_type": "code",
   "id": "d629dc198a6c4f07",
   "metadata": {
    "ExecuteTime": {
     "end_time": "2025-10-15T09:21:26.889876Z",
     "start_time": "2025-10-15T09:21:26.855100Z"
    }
   },
   "source": [
    "def _fmt_ts(dt: datetime) -> str:\n",
    "    return dt.strftime(\"%Y-%m-%d %H:%M:%S\")\n",
    "\n",
    "def _fmt(x):\n",
    "    try:\n",
    "        return f\"{float(x):.4f}\"\n",
    "    except Exception:\n",
    "        return \"nan\"\n",
    "\n",
    "def print_comparison_report(\n",
    "        title: str,\n",
    "        left_name: str, left_result: Dict[str, Any],\n",
    "        right_name: str, right_result: Dict[str, Any],\n",
    "        save_path: Optional[str | Path] = None,\n",
    "):\n",
    "    ts = _fmt_ts(datetime.now())\n",
    "\n",
    "    def block(name, res):\n",
    "        best = res[\"best\"]; hist = res[\"history\"]\n",
    "        best_auc = max((h.get(\"val_auc\", float(\"nan\")) for h in hist), default=float(\"nan\"))\n",
    "        total_epochs = res.get(\"epochs_trained\", len(hist))\n",
    "\n",
    "        lines = []\n",
    "        lines.append(f\"{name} Training History\")\n",
    "        lines.append(\"=\" * 60)\n",
    "        lines.append(\"\")\n",
    "        lines.append(f\"Best Validation AUC: {_fmt(best_auc)}\")\n",
    "        lines.append(f\"Total Epochs Trained: {total_epochs}\")\n",
    "        lines.append(f\"Early Stopping Best Score: {_fmt(best.get('Hits@10'))} (Hits@10 at epoch {best.get('epoch')})\")\n",
    "        lines.append(\"\")\n",
    "        lines.append(\"-\" * 90)\n",
    "        lines.append(f\"{'Epoch':<8} {'Train Loss':<14} {'Val AUC':<12} {'Val H@1':<12} {'Val H@5':<12} {'Val H@10':<12}\")\n",
    "        lines.append(\"-\" * 90)\n",
    "        for rec in hist:\n",
    "            e = rec.get(\"epoch\")\n",
    "            lines.append(\n",
    "                f\"{e:<8} \"\n",
    "                f\"{_fmt(rec.get('train_loss')):<14} \"\n",
    "                f\"{_fmt(rec.get('val_auc')):<12} \"\n",
    "                f\"{_fmt(rec.get('val_hits1')):<12} \"\n",
    "                f\"{_fmt(rec.get('val_hits5')):<12} \"\n",
    "                f\"{_fmt(rec.get('val_hits10')):<12}\"\n",
    "            )\n",
    "        lines.append(\"\")\n",
    "        return \"\\n\".join(lines)\n",
    "\n",
    "    out = []\n",
    "    out.append(f\"{title} - {ts}\")\n",
    "    out.append(\"=\" * 80)\n",
    "    out.append(\"\")\n",
    "    out.append(block(left_name, left_result))\n",
    "    out.append(block(right_name, right_result))\n",
    "\n",
    "    # Best-at-a-glance\n",
    "    out.append(\"Best Validation Metrics Summary\")\n",
    "    out.append(\"=\" * 60)\n",
    "    for name, res in [(left_name, left_result), (right_name, right_result)]:\n",
    "        b = res[\"best\"]\n",
    "        out.append(\n",
    "            f\"{name}: \"\n",
    "            f\"AUC={_fmt(b.get('AUC'))} | \"\n",
    "            f\"H@1={_fmt(b.get('Hits@1'))} | \"\n",
    "            f\"H@5={_fmt(b.get('Hits@5'))} | \"\n",
    "            f\"H@10={_fmt(b.get('Hits@10'))} \"\n",
    "            f\"(epoch {b.get('epoch')})\"\n",
    "        )\n",
    "    out.append(\"\")\n",
    "\n",
    "    report = \"\\n\".join(out)\n",
    "    print(report)\n",
    "\n",
    "    if save_path:\n",
    "        save_path = Path(save_path)\n",
    "        save_path.parent.mkdir(parents=True, exist_ok=True)\n",
    "        with open(save_path, \"w\", encoding=\"utf-8\") as f:\n",
    "            f.write(report)\n",
    "        print(f\"\\n✅ Comparison report saved to: {save_path.resolve()}\")\n",
    "\n",
    "\n",
    "def print_training_report(\n",
    "        model_name: str,\n",
    "        result: Dict[str, Any],\n",
    "        header_title: str = \"Model Training Results\",\n",
    "        save_path: Optional[str | Path] = None,\n",
    "):\n",
    "    ts = _fmt_ts(result.get(\"end_time\", datetime.now()))\n",
    "    best = result[\"best\"]\n",
    "    history = result[\"history\"]\n",
    "    total_epochs = result.get(\"epochs_trained\", len(history))\n",
    "    best_auc = max((h.get(\"val_auc\", float(\"nan\")) for h in history), default=float(\"nan\"))\n",
    "\n",
    "    lines = []\n",
    "    lines.append(f\"{header_title} - {ts}\")\n",
    "    lines.append(\"=\" * 80)\n",
    "    lines.append(\"\")\n",
    "    lines.append(\"\")\n",
    "    lines.append(f\"{model_name} Training History\")\n",
    "    lines.append(\"=\" * 60)\n",
    "    lines.append(\"\")\n",
    "    lines.append(f\"Best Validation AUC: {_fmt(best_auc)}\")\n",
    "    lines.append(f\"Total Epochs Trained: {total_epochs}\")\n",
    "    lines.append(f\"Early Stopping Best Score: {_fmt(best.get('Hits@10'))} (Hits@10 at epoch {best.get('epoch')})\")\n",
    "    lines.append(\"\")\n",
    "    lines.append(\"-\" * 90)\n",
    "    lines.append(f\"{'Epoch':<8} {'Train Loss':<14} {'Val AUC':<12} {'Val H@1':<12} {'Val H@5':<12} {'Val H@10':<12}\")\n",
    "    lines.append(\"-\" * 90)\n",
    "\n",
    "    for rec in history:\n",
    "        e = rec.get(\"epoch\")\n",
    "        lines.append(\n",
    "            f\"{e:<8} \"\n",
    "            f\"{_fmt(rec.get('train_loss')):<14} \"\n",
    "            f\"{_fmt(rec.get('val_auc')):<12} \"\n",
    "            f\"{_fmt(rec.get('val_hits1')):<12} \"\n",
    "            f\"{_fmt(rec.get('val_hits5')):<12} \"\n",
    "            f\"{_fmt(rec.get('val_hits10')):<12}\"\n",
    "        )\n",
    "\n",
    "    lines.append(\"\")\n",
    "    report_text = \"\\n\".join(lines)\n",
    "\n",
    "    print(report_text)\n",
    "\n",
    "    if save_path:\n",
    "        save_path = Path(save_path)\n",
    "        save_path.parent.mkdir(parents=True, exist_ok=True)\n",
    "        with open(save_path, \"w\", encoding=\"utf-8\") as f:\n",
    "            f.write(report_text)\n",
    "        print(f\"\\n✅ Report saved to: {save_path.resolve()}\")\n",
    "\n",
    "\n",
    "# ---------- Build edge_index and edge_type from the *train* split ----------\n",
    "def build_edge_index_and_type_from_typed_dm(dm) -> tuple[torch.LongTensor, torch.LongTensor]:\n",
    "    \"\"\"\n",
    "    Returns:\n",
    "        edge_index: [2, E] directed edges\n",
    "        edge_type:  [E]    relation id per edge (aligned with edge_index columns)\n",
    "    Uses dm._train_triples directly (already contains reverse triples if add_reverse=True).\n",
    "    \"\"\"\n",
    "    assert hasattr(dm, \"_train_triples\"), \"KGDataModuleTyped expected.\"\n",
    "    triples = dm._train_triples  # [N, 3] (h, r, t), torch.long\n",
    "    if triples.numel() == 0:\n",
    "        return torch.empty(2, 0, dtype=torch.long), torch.empty(0, dtype=torch.long)\n",
    "\n",
    "    h = triples[:, 0]\n",
    "    r = triples[:, 1]\n",
    "    t = triples[:, 2]\n",
    "\n",
    "    edge_index = torch.stack([h, t], dim=0).contiguous()  # directed edges h->t\n",
    "    edge_type = r.contiguous()                             # relation per edge\n",
    "    return edge_index, edge_type\n",
    "\n",
    "\n",
    "# ---------- Typed negative sampling (corrupt head/tail, keep relation) ----------\n",
    "@torch.no_grad()\n",
    "def sample_negatives_typed(triples: torch.Tensor, num_entities: int) -> torch.Tensor:\n",
    "    \"\"\"\n",
    "    1:1 negatives per positive (half head-corrupt, half tail-corrupt).\n",
    "    Input triples: [B,3] (h, r, t)\n",
    "    Output triples: [B,3] negatives (h', r, t) or (h, r, t')\n",
    "    \"\"\"\n",
    "    B = triples.size(0)\n",
    "    device = triples.device\n",
    "    neg = triples.clone()\n",
    "    flip = torch.rand(B, device=device) < 0.5\n",
    "    rand_ents = torch.randint(0, num_entities, (B,), device=device)\n",
    "\n",
    "    # corrupt head\n",
    "    neg[flip, 0] = rand_ents[flip]\n",
    "    # corrupt tail\n",
    "    neg[~flip, 2] = rand_ents[~flip]\n",
    "    return neg\n",
    "\n",
    "\n",
    "# ---------- DistMult decoder for typed link prediction ----------\n",
    "class DistMultDecoder(torch.nn.Module):\n",
    "    \"\"\"\n",
    "    score(h, r, t) = <e_h, w_r, e_t> = sum_d e_h[d] * w_r[d] * e_t[d]\n",
    "    \"\"\"\n",
    "    def __init__(self, num_relations: int, dim: int):\n",
    "        super().__init__()\n",
    "        self.rel = torch.nn.Embedding(num_relations, dim)\n",
    "        torch.nn.init.xavier_uniform_(self.rel.weight)\n",
    "\n",
    "    def forward(self, z: torch.Tensor, triples: torch.LongTensor) -> torch.Tensor:\n",
    "        # triples: [B,3] (h, r, t)\n",
    "        h, r, t = triples[:, 0], triples[:, 1], triples[:, 2]\n",
    "        e_h, e_t, w_r = z[h], z[t], self.rel(r)\n",
    "        return (e_h * w_r * e_t).sum(dim=1)  # [B]\n",
    "\n",
    "class DotProductDecoder(torch.nn.Module):\n",
    "    \"\"\"\n",
    "    score(h, r, t) = <e_h, e_t> (relation is ignored)\n",
    "    \"\"\"\n",
    "    def __init__(self):\n",
    "        super().__init__()\n",
    "\n",
    "    def forward(self, z: torch.Tensor, triples: torch.LongTensor) -> torch.Tensor:\n",
    "        h, t = triples[:, 0], triples[:, 2]\n",
    "        return (z[h] * z[t]).sum(dim=1)  # [B]\n",
    "\n",
    "def scores_for_candidates(\n",
    "        decoder: torch.nn.Module,\n",
    "        z: torch.Tensor,\n",
    "        h: torch.Tensor,                # [B]\n",
    "        r: torch.Tensor,                # [B]\n",
    "        cand_t: torch.Tensor,           # [B, K]\n",
    ") -> torch.Tensor:\n",
    "    \"\"\"\n",
    "    Returns [B, K] scores for candidates.\n",
    "    Fast path for DistMult; generic path for DotProduct.\n",
    "    \"\"\"\n",
    "    if isinstance(decoder, DistMultDecoder):\n",
    "        e_h = z[h]                       # [B, d]\n",
    "        w_r = decoder.rel(r)            # [B, d]\n",
    "        e_c = z[cand_t]                 # [B, K, d]\n",
    "        s = ((e_h * w_r).unsqueeze(1) * e_c).sum(dim=2)  # [B, K]\n",
    "        return s\n",
    "    else:\n",
    "        # generic: build triples and call decoder\n",
    "        B, K = cand_t.shape\n",
    "        h_rep = h.view(B, 1).expand(B, K)\n",
    "        r_rep = r.view(B, 1).expand(B, K)  # unused by dot, but fine for API\n",
    "        triples = torch.stack([h_rep, r_rep, cand_t], dim=2).reshape(-1, 3)  # [B*K,3]\n",
    "        s = decoder(z, triples).view(B, K)\n",
    "        return s"
   ],
   "outputs": [],
   "execution_count": 26
  },
  {
   "cell_type": "code",
   "id": "69cbef8c22eec1b1",
   "metadata": {
    "ExecuteTime": {
     "end_time": "2025-10-15T09:21:26.933057Z",
     "start_time": "2025-10-15T09:21:26.899713Z"
    }
   },
   "source": [
    "@torch.no_grad()\n",
    "def evaluate_metrics_typed(\n",
    "        encoder: torch.nn.Module,\n",
    "        decoder: torch.nn.Module,\n",
    "        edge_index: torch.Tensor,\n",
    "        edge_type: torch.Tensor,\n",
    "        loader: Optional[DataLoader],\n",
    "        num_entities: int,\n",
    "        device: torch.device,\n",
    "        show_tqdm: bool = False,\n",
    ") -> Dict[str, float]:\n",
    "    if loader is None:\n",
    "        return {\"AUC\": float(\"nan\"), \"Hits@1\": float(\"nan\"), \"Hits@5\": float(\"nan\"), \"Hits@10\": float(\"nan\")}\n",
    "\n",
    "    encoder.eval(); decoder.eval()\n",
    "    z = encoder(edge_index.to(device), edge_type.to(device))  # [N, d]\n",
    "\n",
    "    # --- AUC ---\n",
    "    all_scores, all_labels = [], []\n",
    "    it_auc = loader if not show_tqdm else tqdm(loader, leave=False, desc=\"Eval AUC (typed)\")\n",
    "    for pos, _ in it_auc:\n",
    "        pos = pos.to(device)\n",
    "        neg = sample_negatives_typed(pos, num_entities)\n",
    "\n",
    "        s_pos = decoder(z, pos)\n",
    "        s_neg = decoder(z, neg)\n",
    "\n",
    "        all_scores.append(torch.cat([s_pos, s_neg]).detach().cpu().numpy())\n",
    "        all_labels.append(np.concatenate([np.ones(len(s_pos)), np.zeros(len(s_neg))]))\n",
    "\n",
    "    scores = np.concatenate(all_scores) if len(all_scores) > 0 else np.array([])\n",
    "    labels = np.concatenate(all_labels) if len(all_labels) > 0 else np.array([])\n",
    "    if _HAS_SK and len(scores) > 0:\n",
    "        auc = float(roc_auc_score(labels, scores))\n",
    "    else:\n",
    "        auc = float(\"nan\") if len(scores) == 0 else float((scores[labels == 1].mean() > scores[labels == 0].mean()))\n",
    "\n",
    "    # --- Hits@K (tail ranking) ---\n",
    "    hits1 = hits5 = hits10 = 0\n",
    "    trials = 0\n",
    "    it_hits = loader if not show_tqdm else tqdm(loader, leave=False, desc=\"Eval Hits (tail)\")\n",
    "    for pos, _ in it_hits:\n",
    "        pos = pos.to(device)\n",
    "        B = pos.size(0)\n",
    "        h, r, t_true = pos[:, 0], pos[:, 1], pos[:, 2]\n",
    "\n",
    "        rand_t = torch.randint(0, num_entities, (B, 99), device=device)\n",
    "        cand_t = torch.cat([t_true.view(-1, 1), rand_t], dim=1)  # [B,100]\n",
    "\n",
    "        s = scores_for_candidates(decoder, z, h, r, cand_t)  # [B,100]\n",
    "        ranks = s.argsort(dim=1, descending=True)\n",
    "        true_positions = torch.nonzero(ranks == 0, as_tuple=False)[:, 1] + 1  # 1-based\n",
    "        hits1  += (true_positions <= 1).sum().item()\n",
    "        hits5  += (true_positions <= 5).sum().item()\n",
    "        hits10 += (true_positions <= 10).sum().item()\n",
    "        trials += B\n",
    "\n",
    "    return {\n",
    "        \"AUC\": auc,\n",
    "        \"Hits@1\": hits1 / max(trials, 1),\n",
    "        \"Hits@5\": hits5 / max(trials, 1),\n",
    "        \"Hits@10\": hits10 / max(trials, 1),\n",
    "    }"
   ],
   "outputs": [],
   "execution_count": 27
  },
  {
   "cell_type": "code",
   "id": "41621913c69ec50e",
   "metadata": {
    "ExecuteTime": {
     "end_time": "2025-10-15T09:21:26.966204Z",
     "start_time": "2025-10-15T09:21:26.949968Z"
    }
   },
   "source": [
    "import re\n",
    "\n",
    "def _safe_filename(s: str) -> str:\n",
    "    # replace characters that can be annoying in shells/IDEs\n",
    "    return re.sub(r'[^A-Za-z0-9._\\-=/]', '_', s)\n",
    "\n",
    "def train_linkpred_typed(\n",
    "        encoder: torch.nn.Module,\n",
    "        decoder: torch.nn.Module,                 # DistMultDecoder (or another typed decoder)\n",
    "        dm,                                       # KGDataModuleTyped\n",
    "        epochs: int = 100,\n",
    "        lr: float = 1e-3,\n",
    "        weight_decay: float = 1e-4,\n",
    "        patience: int = 10,\n",
    "        device: Optional[torch.device] = None,\n",
    "        show_tqdm: bool = True,\n",
    "        save_best_path: Optional[str | Path] = None,\n",
    "        save_on_improve: bool = True,\n",
    "        hparams: Optional[Dict[str, Any]] = None,\n",
    ") -> Dict[str, Any]:\n",
    "    device = device or torch.device(\"cuda\" if torch.cuda.is_available() else \"cpu\")\n",
    "    encoder = encoder.to(device)\n",
    "    decoder = decoder.to(device)\n",
    "\n",
    "    # Optimizer only over encoder + decoder\n",
    "    opt = torch.optim.Adam(list(encoder.parameters()) + list(decoder.parameters()),\n",
    "                           lr=lr, weight_decay=weight_decay)\n",
    "\n",
    "    # Build typed graph from *train* split\n",
    "    edge_index, edge_type = build_edge_index_and_type_from_typed_dm(dm)\n",
    "    edge_index = edge_index.to(device)\n",
    "    edge_type  = edge_type.to(device)\n",
    "\n",
    "    train_loader = dm.train_loader()\n",
    "    val_loader   = dm.val_loader()\n",
    "    num_entities = len(dm.ent2id)\n",
    "    num_relations = len(dm.rel2id)\n",
    "\n",
    "    # hparams\n",
    "    auto_hparams: Dict[str, Any] = {\n",
    "        \"model_name\": f\"{encoder.__class__.__name__}+{decoder.__class__.__name__}\",\n",
    "        \"optimizer\": \"Adam\",\n",
    "        \"lr\": lr,\n",
    "        \"weight_decay\": weight_decay,\n",
    "        \"epochs\": epochs,\n",
    "        \"patience\": patience,\n",
    "        \"typed_graph\": True,\n",
    "        \"batch_size\": getattr(dm, \"batch_size\", None),\n",
    "        \"add_reverse\": getattr(dm, \"add_reverse\", None),\n",
    "        \"reverse_relation_strategy\": getattr(dm, \"reverse_relation_strategy\", None),\n",
    "        \"num_nodes\": len(dm.ent2id),\n",
    "        \"num_relations\": num_relations,\n",
    "        \"enc_emb_dim\": getattr(getattr(encoder, \"embed\", None), \"embedding_dim\", None),\n",
    "        \"enc_num_layers\": len(getattr(encoder, \"convs\", [])),\n",
    "        \"decoder\": decoder.__class__.__name__,\n",
    "    }\n",
    "    run_hparams = {**auto_hparams, **(hparams or {})}\n",
    "\n",
    "    history = []\n",
    "    best = {\"epoch\": 0, \"AUC\": -1.0, \"Hits@1\": 0.0, \"Hits@5\": 0.0, \"Hits@10\": 0.0}\n",
    "    patience_ctr = 0\n",
    "    best_state = None\n",
    "\n",
    "    save_best_path = Path(save_best_path) if save_best_path else None\n",
    "    if save_best_path:\n",
    "        save_best_path.parent.mkdir(parents=True, exist_ok=True)\n",
    "\n",
    "    epoch_iter = range(1, epochs + 1)\n",
    "    if show_tqdm:\n",
    "        epoch_iter = tqdm(epoch_iter, desc=\"Epochs (typed)\")\n",
    "\n",
    "    start_time = datetime.now()\n",
    "\n",
    "    for epoch in epoch_iter:\n",
    "        encoder.train(); decoder.train()\n",
    "        running_loss = 0.0\n",
    "        running_n = 0\n",
    "\n",
    "        batch_iter = train_loader\n",
    "        if show_tqdm:\n",
    "            batch_iter = tqdm(train_loader, leave=False, desc=f\"Train {epoch}\")\n",
    "\n",
    "        # Precompute node embeddings once per epoch for efficiency\n",
    "        z = encoder(edge_index, edge_type)  # [N, d]\n",
    "\n",
    "        for pos, _ in batch_iter:\n",
    "            pos = pos.to(device)\n",
    "            neg = sample_negatives_typed(pos, num_entities).to(device)\n",
    "        \n",
    "            opt.zero_grad()\n",
    "        \n",
    "            # recompute embeddings for THIS batch so we have a fresh graph\n",
    "            z = encoder(edge_index, edge_type)              # <— moved inside\n",
    "        \n",
    "            s_pos = decoder(z, pos)\n",
    "            s_neg = decoder(z, neg)\n",
    "        \n",
    "            scores = torch.cat([s_pos, s_neg], dim=0)\n",
    "            labels = torch.cat([torch.ones_like(s_pos), torch.zeros_like(s_neg)], dim=0)\n",
    "            loss = F.binary_cross_entropy_with_logits(scores, labels)\n",
    "\n",
    "            running_loss += loss.item()\n",
    "            running_n += 1\n",
    "        \n",
    "            loss.backward()\n",
    "            torch.nn.utils.clip_grad_norm_(\n",
    "                list(encoder.parameters()) + list(decoder.parameters()), max_norm=1.0\n",
    "            )\n",
    "            opt.step()\n",
    "        \n",
    "            if show_tqdm:\n",
    "                batch_iter.set_postfix(loss=f\"{loss.item():.4f}\")\n",
    "\n",
    "        train_loss = running_loss / max(running_n, 1)\n",
    "\n",
    "        # Validation (fresh z to reflect updated encoder)\n",
    "        val_metrics = evaluate_metrics_typed(\n",
    "            encoder, decoder, edge_index, edge_type, val_loader, num_entities, device, show_tqdm=show_tqdm\n",
    "        )\n",
    "        if show_tqdm:\n",
    "            tqdm.write(f\"Epoch {epoch:03d} | loss={train_loss:.4f} | \"\n",
    "                       f\"AUC={val_metrics['AUC']:.4f} | \"\n",
    "                       f\"H@1={val_metrics['Hits@1']:.4f} | \"\n",
    "                       f\"H@5={val_metrics['Hits@5']:.4f} | \"\n",
    "                       f\"H@10={val_metrics['Hits@10']:.4f}\")\n",
    "\n",
    "        history.append({\n",
    "            \"epoch\": epoch,\n",
    "            \"train_loss\": float(train_loss),\n",
    "            \"val_auc\": float(val_metrics[\"AUC\"]),\n",
    "            \"val_hits1\": float(val_metrics[\"Hits@1\"]),\n",
    "            \"val_hits5\": float(val_metrics[\"Hits@5\"]),\n",
    "            \"val_hits10\": float(val_metrics[\"Hits@10\"]),\n",
    "        })\n",
    "        # Early stopping on Hits@10\n",
    "        if val_metrics[\"Hits@10\"] > best[\"Hits@10\"]:\n",
    "            best.update({\"epoch\": epoch, **val_metrics})\n",
    "            best_state = {\n",
    "                \"encoder\": {k: v.detach().cpu() for k, v in encoder.state_dict().items()},\n",
    "                \"decoder\": {k: v.detach().cpu() for k, v in decoder.state_dict().items()},\n",
    "            }\n",
    "            patience_ctr = 0\n",
    "\n",
    "            if save_best_path and save_on_improve:\n",
    "\n",
    "                if save_best_path:\n",
    "                    save_best_path = Path(_safe_filename(str(save_best_path)))\n",
    "                    save_best_path.parent.mkdir(parents=True, exist_ok=True)\n",
    "                torch.save(\n",
    "                    {\n",
    "                        \"encoder_state_dict\": best_state[\"encoder\"],\n",
    "                        \"decoder_state_dict\": best_state[\"decoder\"],\n",
    "                        \"epoch\": epoch,\n",
    "                        \"best_metrics\": best,\n",
    "                        \"history\": history,\n",
    "                        \"hparams\": run_hparams,\n",
    "                        \"timestamp\": datetime.now().isoformat(),\n",
    "                    },\n",
    "                    save_best_path,\n",
    "                )\n",
    "        else:\n",
    "            patience_ctr += 1\n",
    "            if patience_ctr >= patience:\n",
    "                if show_tqdm:\n",
    "                    tqdm.write(f\"Early stopping at epoch {epoch} (patience={patience}).\")\n",
    "                break\n",
    "\n",
    "    # Restore best\n",
    "    end_time = datetime.now()\n",
    "    if best_state is not None:\n",
    "        encoder.load_state_dict(best_state[\"encoder\"])\n",
    "        decoder.load_state_dict(best_state[\"decoder\"])\n",
    "        if show_tqdm:\n",
    "            tqdm.write(f\"Restored best model from epoch {best['epoch']} | \"\n",
    "                       f\"AUC={best['AUC']:.4f} | Hits@10={best['Hits@10']:.4f}\")\n",
    "\n",
    "        # If you prefer single save at end:\n",
    "        if save_best_path and not save_on_improve:\n",
    "            torch.save(\n",
    "                {\n",
    "                    \"encoder_state_dict\": best_state[\"encoder\"],\n",
    "                    \"decoder_state_dict\": best_state[\"decoder\"],\n",
    "                    \"epoch\": best[\"epoch\"],\n",
    "                    \"best_metrics\": best,\n",
    "                    \"history\": history,\n",
    "                    \"hparams\": run_hparams,\n",
    "                    \"timestamp\": datetime.now().isoformat(),\n",
    "                },\n",
    "                save_best_path,\n",
    "            )\n",
    "            if show_tqdm:\n",
    "                tqdm.write(f\"Saved final best checkpoint to {save_best_path}\")\n",
    "\n",
    "    return {\n",
    "        \"best\": best,\n",
    "        \"history\": history,\n",
    "        \"epochs_trained\": history[-1][\"epoch\"] if history else 0,\n",
    "        \"start_time\": start_time,\n",
    "        \"end_time\": end_time,\n",
    "        \"checkpoint_path\": str(save_best_path) if save_best_path else None,\n",
    "        \"hparams\": run_hparams,\n",
    "    }"
   ],
   "outputs": [],
   "execution_count": 28
  },
  {
   "cell_type": "code",
   "id": "d93c079a56a0fbf8",
   "metadata": {
    "ExecuteTime": {
     "end_time": "2025-10-15T09:23:03.028427Z",
     "start_time": "2025-10-15T09:21:27.005694Z"
    }
   },
   "source": [
    "from dataset_loader import KGDataModuleTyped\n",
    "\n",
    "dataset = \"WN18RR\"\n",
    "\n",
    "\n",
    "\n",
    "train_p = Path(\"../WN18RR/train.txt\")\n",
    "valid_p = Path(\"../WN18RR/valid.txt\")\n",
    "test_p  = Path(\"../WN18RR/test.txt\")\n",
    "\n",
    "dm_typed = KGDataModuleTyped(\n",
    "    train_p, valid_p, test_p,\n",
    "    add_reverse=True,\n",
    "    reverse_relation_strategy=\"duplicate_rel\",\n",
    ")\n",
    "\n",
    "num_nodes = len(dm_typed.ent2id)\n",
    "num_relations = len(dm_typed.rel2id)\n",
    "emb_dim = 128\n",
    "num_layers = 3\n",
    "hidden_layers = 3\n",
    "\n",
    "# --- 1) R-GIN + DistMult ---\n",
    "enc_dm = RelationalGINEncoder(num_nodes=num_nodes, num_relations=num_relations, emb_dim=emb_dim, num_layers=num_layers, hidden_layers=hidden_layers, dropout=0.1, train_eps=True\n",
    "                               )\n",
    "dec_dm = DistMultDecoder(num_relations=num_relations, dim=emb_dim)\n",
    "\n",
    "res_distmult = train_linkpred_typed(\n",
    "    enc_dm, dec_dm, dm_typed,\n",
    "    epochs=100, lr=1e-3, weight_decay=1e-4, patience=10,\n",
    "    show_tqdm=True,\n",
    "    save_best_path=f\"checkpoints/embed_rel/{dataset}/best_rgin_distmult_embed_dim={emb_dim}_mlp_depth={hidden_layers}|aggre={num_layers}_dataset={dataset}.pt\",\n",
    "    save_on_improve=True,\n",
    "    hparams={\"dataset\": dataset, \"decoder\": \"DistMult\", \"emb_dim\": emb_dim, \"num_layers\": num_layers, \"hidden_layers\": hidden_layers}\n",
    ")\n",
    "\n",
    "# --- 2) R-GIN + DotProduct ---\n",
    "enc_dot = RelationalGINEncoder(\n",
    "    num_nodes=num_nodes,\n",
    "    num_relations=num_relations,\n",
    "    emb_dim=emb_dim,\n",
    "    num_layers=num_layers,\n",
    "    hidden_layers=hidden_layers,\n",
    "    dropout=0.1,\n",
    "    train_eps=True,\n",
    ")\n",
    "dec_dot = DotProductDecoder()\n",
    "\n",
    "res_dot = train_linkpred_typed(\n",
    "    enc_dot, dec_dot, dm_typed,\n",
    "    epochs=100, lr=1e-3, weight_decay=1e-4, patience=10,\n",
    "    show_tqdm=True,\n",
    "    save_best_path=f\"checkpoints/embed_rel/{dataset}/best_rgin_dot|embed_dim={emb_dim}_mlp_depth={hidden_layers}_aggre={num_layers}_dataset={dataset}.pt\",\n",
    "    save_on_improve=True,\n",
    "    hparams={\"dataset\": dataset, \"decoder\": \"DotProduct\", \"emb_dim\": emb_dim, \"num_layers\": num_layers, \"hidden_layers\": hidden_layers}\n",
    ")\n",
    "\n",
    "# --- 3) Single combined report ---\n",
    "print_comparison_report(\n",
    "    title=\"Typed Link Prediction: Decoder Comparison\",\n",
    "    left_name=\"R-GIN + DistMult\",\n",
    "    left_result=res_distmult,\n",
    "    right_name=\"R-GIN + DotProduct\",\n",
    "    right_result=res_dot,\n",
    "    save_path=f\"results/embed_rel/{dataset}/dist_vs_dot_e={emb_dim}_m={hidden_layers}_aggre={num_layers}_d={dataset}.txt\"\n",
    ")"
   ],
   "outputs": [
    {
     "data": {
      "text/plain": [
       "Epochs (typed):   0%|          | 0/1 [00:00<?, ?it/s]"
      ],
      "application/vnd.jupyter.widget-view+json": {
       "version_major": 2,
       "version_minor": 0,
       "model_id": "251b2a1954b141018a870011c22912ba"
      }
     },
     "metadata": {},
     "output_type": "display_data",
     "jetTransient": {
      "display_id": null
     }
    },
    {
     "data": {
      "text/plain": [
       "Train 1:   0%|          | 0/85 [00:00<?, ?it/s]"
      ],
      "application/vnd.jupyter.widget-view+json": {
       "version_major": 2,
       "version_minor": 0,
       "model_id": "1e7e667e97d54b4f8ed81b8473f8a344"
      }
     },
     "metadata": {},
     "output_type": "display_data",
     "jetTransient": {
      "display_id": null
     }
    },
    {
     "data": {
      "text/plain": [
       "Eval AUC (typed):   0%|          | 0/3 [00:00<?, ?it/s]"
      ],
      "application/vnd.jupyter.widget-view+json": {
       "version_major": 2,
       "version_minor": 0,
       "model_id": "a521af171cae4c90b032a3d88b226360"
      }
     },
     "metadata": {},
     "output_type": "display_data",
     "jetTransient": {
      "display_id": null
     }
    },
    {
     "data": {
      "text/plain": [
       "Eval Hits (tail):   0%|          | 0/3 [00:00<?, ?it/s]"
      ],
      "application/vnd.jupyter.widget-view+json": {
       "version_major": 2,
       "version_minor": 0,
       "model_id": "88913b17fb884707a470e14db1319362"
      }
     },
     "metadata": {},
     "output_type": "display_data",
     "jetTransient": {
      "display_id": null
     }
    },
    {
     "name": "stdout",
     "output_type": "stream",
     "text": [
      "Epoch 001 | loss=0.6355 | AUC=0.7353 | H@1=0.0953 | H@5=0.2386 | H@10=0.3418\n",
      "Restored best model from epoch 1 | AUC=0.7353 | Hits@10=0.3418\n"
     ]
    },
    {
     "data": {
      "text/plain": [
       "Epochs (typed):   0%|          | 0/1 [00:00<?, ?it/s]"
      ],
      "application/vnd.jupyter.widget-view+json": {
       "version_major": 2,
       "version_minor": 0,
       "model_id": "00ce7e19794c4799b7bde4f8f16a2b16"
      }
     },
     "metadata": {},
     "output_type": "display_data",
     "jetTransient": {
      "display_id": null
     }
    },
    {
     "data": {
      "text/plain": [
       "Train 1:   0%|          | 0/85 [00:00<?, ?it/s]"
      ],
      "application/vnd.jupyter.widget-view+json": {
       "version_major": 2,
       "version_minor": 0,
       "model_id": "dd88363115084cdab8c6d6f312785562"
      }
     },
     "metadata": {},
     "output_type": "display_data",
     "jetTransient": {
      "display_id": null
     }
    },
    {
     "data": {
      "text/plain": [
       "Eval AUC (typed):   0%|          | 0/3 [00:00<?, ?it/s]"
      ],
      "application/vnd.jupyter.widget-view+json": {
       "version_major": 2,
       "version_minor": 0,
       "model_id": "9b96c9ceba4544eeb584d1cb9cdaa769"
      }
     },
     "metadata": {},
     "output_type": "display_data",
     "jetTransient": {
      "display_id": null
     }
    },
    {
     "data": {
      "text/plain": [
       "Eval Hits (tail):   0%|          | 0/3 [00:00<?, ?it/s]"
      ],
      "application/vnd.jupyter.widget-view+json": {
       "version_major": 2,
       "version_minor": 0,
       "model_id": "9da46ef4741f4427b7ac9ae72524ce78"
      }
     },
     "metadata": {},
     "output_type": "display_data",
     "jetTransient": {
      "display_id": null
     }
    },
    {
     "name": "stdout",
     "output_type": "stream",
     "text": [
      "Epoch 001 | loss=0.6324 | AUC=0.7204 | H@1=0.0616 | H@5=0.1750 | H@10=0.2708\n",
      "Restored best model from epoch 1 | AUC=0.7204 | Hits@10=0.2708\n",
      "Typed Link Prediction: Decoder Comparison - 2025-10-15 17:23:03\n",
      "================================================================================\n",
      "\n",
      "R-GIN + DistMult Training History\n",
      "============================================================\n",
      "\n",
      "Best Validation AUC: 0.7353\n",
      "Total Epochs Trained: 1\n",
      "Early Stopping Best Score: 0.3418 (Hits@10 at epoch 1)\n",
      "\n",
      "------------------------------------------------------------------------------------------\n",
      "Epoch    Train Loss     Val AUC      Val H@1      Val H@5      Val H@10    \n",
      "------------------------------------------------------------------------------------------\n",
      "1        0.6355         0.7353       0.0953       0.2386       0.3418      \n",
      "\n",
      "R-GIN + DotProduct Training History\n",
      "============================================================\n",
      "\n",
      "Best Validation AUC: 0.7204\n",
      "Total Epochs Trained: 1\n",
      "Early Stopping Best Score: 0.2708 (Hits@10 at epoch 1)\n",
      "\n",
      "------------------------------------------------------------------------------------------\n",
      "Epoch    Train Loss     Val AUC      Val H@1      Val H@5      Val H@10    \n",
      "------------------------------------------------------------------------------------------\n",
      "1        0.6324         0.7204       0.0616       0.1750       0.2708      \n",
      "\n",
      "Best Validation Metrics Summary\n",
      "============================================================\n",
      "R-GIN + DistMult: AUC=0.7353 | H@1=0.0953 | H@5=0.2386 | H@10=0.3418 (epoch 1)\n",
      "R-GIN + DotProduct: AUC=0.7204 | H@1=0.0616 | H@5=0.1750 | H@10=0.2708 (epoch 1)\n",
      "\n",
      "\n",
      "✅ Comparison report saved to: /home/UG/choonggi001/sc4020/GIN/results/embed_rel/WN18RR/dist_vs_dot_e=128_m=3_aggre=3_d=WN18RR.txt\n"
     ]
    }
   ],
   "execution_count": 29
  },
  {
   "cell_type": "code",
   "id": "11d01bec-80a0-4236-839a-a0c27a17634c",
   "metadata": {
    "ExecuteTime": {
     "end_time": "2025-10-15T09:23:35.121197Z",
     "start_time": "2025-10-15T09:23:03.078647Z"
    }
   },
   "source": [
    "dataset = \"WN18RR\"\n",
    "train_p = Path(\"../WN18RR/train.txt\")\n",
    "valid_p = Path(\"../WN18RR/valid.txt\")\n",
    "test_p  = Path(\"../WN18RR/test.txt\")\n",
    "\n",
    "dm_typed = KGDataModuleTyped(\n",
    "    train_p, valid_p, test_p,\n",
    "    add_reverse=True,\n",
    "    reverse_relation_strategy=\"duplicate_rel\",\n",
    ")\n",
    "\n",
    "num_nodes = len(dm_typed.ent2id)\n",
    "num_relations = len(dm_typed.rel2id)\n",
    "emb_dim = 128\n",
    "num_layers = 2\n",
    "hidden_layers = 3\n",
    "\n",
    "# --- 1) R-GIN + DistMult ---\n",
    "enc_dm = RelationalGINEncoder( num_nodes=num_nodes, num_relations=num_relations, emb_dim=emb_dim, num_layers=num_layers, hidden_layers=hidden_layers, dropout=0.1, train_eps=True\n",
    "                               )\n",
    "dec_dm = DistMultDecoder(num_relations=num_relations, dim=emb_dim)\n",
    "\n",
    "res_distmult = train_linkpred_typed(\n",
    "    enc_dm, dec_dm, dm_typed,\n",
    "    epochs=1, lr=1e-3, weight_decay=1e-4, patience=10,\n",
    "    show_tqdm=True,\n",
    "    save_best_path=f\"checkpoints/embed_rel/{dataset}/best_rgin_distmult_embed_dim={emb_dim}_mlp_depth={hidden_layers}_aggre={num_layers}_dataset={dataset}.pt\",\n",
    "    save_on_improve=True,\n",
    "    hparams={\"dataset\": dataset, \"decoder\": \"DistMult\", \"emb_dim\": emb_dim, \"num_layers\": num_layers, \"hidden_layers\": hidden_layers}\n",
    ")\n",
    "\n",
    "\n",
    "print_training_report(\n",
    "        model_name = \"R-GIN_embed_rel + Distmult\",\n",
    "        result = res_distmult,\n",
    "        header_title = \"Model Training Results\",\n",
    "        save_path=f\"results/embed_rel/{dataset}/embed_rel_gin_report_embed_dim={emb_dim}_mlp_depth={hidden_layers}_aggre={num_layers}_dataset={dataset}.txt\"\n",
    ")"
   ],
   "outputs": [
    {
     "data": {
      "text/plain": [
       "Epochs (typed):   0%|          | 0/1 [00:00<?, ?it/s]"
      ],
      "application/vnd.jupyter.widget-view+json": {
       "version_major": 2,
       "version_minor": 0,
       "model_id": "70957766a9644a6c98db23784eb3768b"
      }
     },
     "metadata": {},
     "output_type": "display_data",
     "jetTransient": {
      "display_id": null
     }
    },
    {
     "data": {
      "text/plain": [
       "Train 1:   0%|          | 0/85 [00:00<?, ?it/s]"
      ],
      "application/vnd.jupyter.widget-view+json": {
       "version_major": 2,
       "version_minor": 0,
       "model_id": "b9817fb770c8465ca17e778e17b46ae4"
      }
     },
     "metadata": {},
     "output_type": "display_data",
     "jetTransient": {
      "display_id": null
     }
    },
    {
     "data": {
      "text/plain": [
       "Eval AUC (typed):   0%|          | 0/3 [00:00<?, ?it/s]"
      ],
      "application/vnd.jupyter.widget-view+json": {
       "version_major": 2,
       "version_minor": 0,
       "model_id": "410b173bc0f64ba187e038cb82db4d6a"
      }
     },
     "metadata": {},
     "output_type": "display_data",
     "jetTransient": {
      "display_id": null
     }
    },
    {
     "data": {
      "text/plain": [
       "Eval Hits (tail):   0%|          | 0/3 [00:00<?, ?it/s]"
      ],
      "application/vnd.jupyter.widget-view+json": {
       "version_major": 2,
       "version_minor": 0,
       "model_id": "960432ac01f3447bb9744dbef3773a13"
      }
     },
     "metadata": {},
     "output_type": "display_data",
     "jetTransient": {
      "display_id": null
     }
    },
    {
     "name": "stdout",
     "output_type": "stream",
     "text": [
      "Epoch 001 | loss=0.6468 | AUC=0.7119 | H@1=0.0921 | H@5=0.2338 | H@10=0.3359\n",
      "Restored best model from epoch 1 | AUC=0.7119 | Hits@10=0.3359\n",
      "Model Training Results - 2025-10-15 17:23:35\n",
      "================================================================================\n",
      "\n",
      "\n",
      "R-GIN_embed_rel + Distmult Training History\n",
      "============================================================\n",
      "\n",
      "Best Validation AUC: 0.7119\n",
      "Total Epochs Trained: 1\n",
      "Early Stopping Best Score: 0.3359 (Hits@10 at epoch 1)\n",
      "\n",
      "------------------------------------------------------------------------------------------\n",
      "Epoch    Train Loss     Val AUC      Val H@1      Val H@5      Val H@10    \n",
      "------------------------------------------------------------------------------------------\n",
      "1        0.6468         0.7119       0.0921       0.2338       0.3359      \n",
      "\n",
      "\n",
      "✅ Report saved to: /home/UG/choonggi001/sc4020/GIN/results/embed_rel/WN18RR/embed_rel_gin_report_embed_dim=128_mlp_depth=3_aggre=2_dataset=WN18RR.txt\n"
     ]
    }
   ],
   "execution_count": 30
  },
  {
   "metadata": {
    "ExecuteTime": {
     "end_time": "2025-10-15T09:23:39.425776Z",
     "start_time": "2025-10-15T09:23:35.170827Z"
    }
   },
   "cell_type": "code",
   "source": [
    "dataset = \"WN18RR\"\n",
    "train_p = Path(\"../WN18RR/train.txt\")\n",
    "valid_p = Path(\"../WN18RR/valid.txt\")\n",
    "test_p  = Path(\"../WN18RR/test.txt\")\n",
    "\n",
    "dm_typed = KGDataModuleTyped(\n",
    "    train_p, valid_p, test_p,\n",
    "    add_reverse=True,\n",
    "    reverse_relation_strategy=\"duplicate_rel\",\n",
    ")\n",
    "\n",
    "num_nodes = len(dm_typed.ent2id)\n",
    "num_relations = len(dm_typed.rel2id)\n",
    "emb_dim = 128\n",
    "num_layers = 4\n",
    "hidden_layers = 3\n",
    "\n",
    "# --- 1) R-GIN + DistMult ---\n",
    "enc_dm = RelationalGINEncoder( num_nodes=num_nodes, num_relations=num_relations, emb_dim=emb_dim, num_layers=num_layers, hidden_layers=hidden_layers, dropout=0.1, train_eps=True\n",
    "                               )\n",
    "dec_dm = DistMultDecoder(num_relations=num_relations, dim=emb_dim)\n",
    "\n",
    "res_distmult = train_linkpred_typed(\n",
    "    enc_dm, dec_dm, dm_typed,\n",
    "    epochs=100, lr=1e-3, weight_decay=1e-4, patience=10,\n",
    "    show_tqdm=True,\n",
    "    save_best_path=f\"checkpoints/embed_rel/{dataset}/best_rgin_distmult_embed_dim={emb_dim}_mlp_depth={hidden_layers}_aggre={num_layers}_dataset={dataset}.pt\",\n",
    "    save_on_improve=True,\n",
    "    hparams={\"dataset\": dataset, \"decoder\": \"DistMult\", \"emb_dim\": emb_dim, \"num_layers\": num_layers, \"hidden_layers\": hidden_layers}\n",
    ")\n",
    "\n",
    "\n",
    "print_training_report(\n",
    "    model_name = \"R-GIN_embed_rel + Distmult\",\n",
    "    result = res_distmult,\n",
    "    header_title = \"Model Training Results\",\n",
    "    save_path=f\"results/embed_rel/{dataset}/embed_rel_gin_report_embed_dim={emb_dim}_mlp_depth={hidden_layers}_aggre={num_layers}_dataset={dataset}.txt\"\n",
    ")"
   ],
   "id": "2b5ab0372f7aa7aa",
   "outputs": [
    {
     "data": {
      "text/plain": [
       "Epochs (typed):   0%|          | 0/100 [00:00<?, ?it/s]"
      ],
      "application/vnd.jupyter.widget-view+json": {
       "version_major": 2,
       "version_minor": 0,
       "model_id": "b498f57721c2483bbbec6a4268eda624"
      }
     },
     "metadata": {},
     "output_type": "display_data",
     "jetTransient": {
      "display_id": null
     }
    },
    {
     "data": {
      "text/plain": [
       "Train 1:   0%|          | 0/85 [00:00<?, ?it/s]"
      ],
      "application/vnd.jupyter.widget-view+json": {
       "version_major": 2,
       "version_minor": 0,
       "model_id": "249723404d184baa88de6b3bb445813a"
      }
     },
     "metadata": {},
     "output_type": "display_data",
     "jetTransient": {
      "display_id": null
     }
    },
    {
     "ename": "KeyboardInterrupt",
     "evalue": "",
     "output_type": "error",
     "traceback": [
      "\u001B[31m---------------------------------------------------------------------------\u001B[39m",
      "\u001B[31mKeyboardInterrupt\u001B[39m                         Traceback (most recent call last)",
      "\u001B[36mCell\u001B[39m\u001B[36m \u001B[39m\u001B[32mIn[31]\u001B[39m\u001B[32m, line 23\u001B[39m\n\u001B[32m     19\u001B[39m enc_dm = RelationalGINEncoder( num_nodes=num_nodes, num_relations=num_relations, emb_dim=emb_dim, num_layers=num_layers, hidden_layers=hidden_layers, dropout=\u001B[32m0.1\u001B[39m, train_eps=\u001B[38;5;28;01mTrue\u001B[39;00m\n\u001B[32m     20\u001B[39m                                )\n\u001B[32m     21\u001B[39m dec_dm = DistMultDecoder(num_relations=num_relations, dim=emb_dim)\n\u001B[32m---> \u001B[39m\u001B[32m23\u001B[39m res_distmult = \u001B[43mtrain_linkpred_typed\u001B[49m\u001B[43m(\u001B[49m\n\u001B[32m     24\u001B[39m \u001B[43m    \u001B[49m\u001B[43menc_dm\u001B[49m\u001B[43m,\u001B[49m\u001B[43m \u001B[49m\u001B[43mdec_dm\u001B[49m\u001B[43m,\u001B[49m\u001B[43m \u001B[49m\u001B[43mdm_typed\u001B[49m\u001B[43m,\u001B[49m\n\u001B[32m     25\u001B[39m \u001B[43m    \u001B[49m\u001B[43mepochs\u001B[49m\u001B[43m=\u001B[49m\u001B[32;43m100\u001B[39;49m\u001B[43m,\u001B[49m\u001B[43m \u001B[49m\u001B[43mlr\u001B[49m\u001B[43m=\u001B[49m\u001B[32;43m1e-3\u001B[39;49m\u001B[43m,\u001B[49m\u001B[43m \u001B[49m\u001B[43mweight_decay\u001B[49m\u001B[43m=\u001B[49m\u001B[32;43m1e-4\u001B[39;49m\u001B[43m,\u001B[49m\u001B[43m \u001B[49m\u001B[43mpatience\u001B[49m\u001B[43m=\u001B[49m\u001B[32;43m10\u001B[39;49m\u001B[43m,\u001B[49m\n\u001B[32m     26\u001B[39m \u001B[43m    \u001B[49m\u001B[43mshow_tqdm\u001B[49m\u001B[43m=\u001B[49m\u001B[38;5;28;43;01mTrue\u001B[39;49;00m\u001B[43m,\u001B[49m\n\u001B[32m     27\u001B[39m \u001B[43m    \u001B[49m\u001B[43msave_best_path\u001B[49m\u001B[43m=\u001B[49m\u001B[33;43mf\u001B[39;49m\u001B[33;43m\"\u001B[39;49m\u001B[33;43mcheckpoints/embed_rel/\u001B[39;49m\u001B[38;5;132;43;01m{\u001B[39;49;00m\u001B[43mdataset\u001B[49m\u001B[38;5;132;43;01m}\u001B[39;49;00m\u001B[33;43m/best_rgin_distmult_embed_dim=\u001B[39;49m\u001B[38;5;132;43;01m{\u001B[39;49;00m\u001B[43memb_dim\u001B[49m\u001B[38;5;132;43;01m}\u001B[39;49;00m\u001B[33;43m_mlp_depth=\u001B[39;49m\u001B[38;5;132;43;01m{\u001B[39;49;00m\u001B[43mhidden_layers\u001B[49m\u001B[38;5;132;43;01m}\u001B[39;49;00m\u001B[33;43m_aggre=\u001B[39;49m\u001B[38;5;132;43;01m{\u001B[39;49;00m\u001B[43mnum_layers\u001B[49m\u001B[38;5;132;43;01m}\u001B[39;49;00m\u001B[33;43m_dataset=\u001B[39;49m\u001B[38;5;132;43;01m{\u001B[39;49;00m\u001B[43mdataset\u001B[49m\u001B[38;5;132;43;01m}\u001B[39;49;00m\u001B[33;43m.pt\u001B[39;49m\u001B[33;43m\"\u001B[39;49m\u001B[43m,\u001B[49m\n\u001B[32m     28\u001B[39m \u001B[43m    \u001B[49m\u001B[43msave_on_improve\u001B[49m\u001B[43m=\u001B[49m\u001B[38;5;28;43;01mTrue\u001B[39;49;00m\u001B[43m,\u001B[49m\n\u001B[32m     29\u001B[39m \u001B[43m    \u001B[49m\u001B[43mhparams\u001B[49m\u001B[43m=\u001B[49m\u001B[43m{\u001B[49m\u001B[33;43m\"\u001B[39;49m\u001B[33;43mdataset\u001B[39;49m\u001B[33;43m\"\u001B[39;49m\u001B[43m:\u001B[49m\u001B[43m \u001B[49m\u001B[43mdataset\u001B[49m\u001B[43m,\u001B[49m\u001B[43m \u001B[49m\u001B[33;43m\"\u001B[39;49m\u001B[33;43mdecoder\u001B[39;49m\u001B[33;43m\"\u001B[39;49m\u001B[43m:\u001B[49m\u001B[43m \u001B[49m\u001B[33;43m\"\u001B[39;49m\u001B[33;43mDistMult\u001B[39;49m\u001B[33;43m\"\u001B[39;49m\u001B[43m,\u001B[49m\u001B[43m \u001B[49m\u001B[33;43m\"\u001B[39;49m\u001B[33;43memb_dim\u001B[39;49m\u001B[33;43m\"\u001B[39;49m\u001B[43m:\u001B[49m\u001B[43m \u001B[49m\u001B[43memb_dim\u001B[49m\u001B[43m,\u001B[49m\u001B[43m \u001B[49m\u001B[33;43m\"\u001B[39;49m\u001B[33;43mnum_layers\u001B[39;49m\u001B[33;43m\"\u001B[39;49m\u001B[43m:\u001B[49m\u001B[43m \u001B[49m\u001B[43mnum_layers\u001B[49m\u001B[43m,\u001B[49m\u001B[43m \u001B[49m\u001B[33;43m\"\u001B[39;49m\u001B[33;43mhidden_layers\u001B[39;49m\u001B[33;43m\"\u001B[39;49m\u001B[43m:\u001B[49m\u001B[43m \u001B[49m\u001B[43mhidden_layers\u001B[49m\u001B[43m}\u001B[49m\n\u001B[32m     30\u001B[39m \u001B[43m)\u001B[49m\n\u001B[32m     33\u001B[39m print_training_report(\n\u001B[32m     34\u001B[39m     model_name = \u001B[33m\"\u001B[39m\u001B[33mR-GIN_embed_rel + Distmult\u001B[39m\u001B[33m\"\u001B[39m,\n\u001B[32m     35\u001B[39m     result = res_distmult,\n\u001B[32m     36\u001B[39m     header_title = \u001B[33m\"\u001B[39m\u001B[33mModel Training Results\u001B[39m\u001B[33m\"\u001B[39m,\n\u001B[32m     37\u001B[39m     save_path=\u001B[33mf\u001B[39m\u001B[33m\"\u001B[39m\u001B[33mresults/embed_rel/\u001B[39m\u001B[38;5;132;01m{\u001B[39;00mdataset\u001B[38;5;132;01m}\u001B[39;00m\u001B[33m/embed_rel_gin_report_embed_dim=\u001B[39m\u001B[38;5;132;01m{\u001B[39;00memb_dim\u001B[38;5;132;01m}\u001B[39;00m\u001B[33m_mlp_depth=\u001B[39m\u001B[38;5;132;01m{\u001B[39;00mhidden_layers\u001B[38;5;132;01m}\u001B[39;00m\u001B[33m_aggre=\u001B[39m\u001B[38;5;132;01m{\u001B[39;00mnum_layers\u001B[38;5;132;01m}\u001B[39;00m\u001B[33m_dataset=\u001B[39m\u001B[38;5;132;01m{\u001B[39;00mdataset\u001B[38;5;132;01m}\u001B[39;00m\u001B[33m.txt\u001B[39m\u001B[33m\"\u001B[39m\n\u001B[32m     38\u001B[39m )\n",
      "\u001B[36mCell\u001B[39m\u001B[36m \u001B[39m\u001B[32mIn[28]\u001B[39m\u001B[32m, line 93\u001B[39m, in \u001B[36mtrain_linkpred_typed\u001B[39m\u001B[34m(encoder, decoder, dm, epochs, lr, weight_decay, patience, device, show_tqdm, save_best_path, save_on_improve, hparams)\u001B[39m\n\u001B[32m     90\u001B[39m opt.zero_grad()\n\u001B[32m     92\u001B[39m \u001B[38;5;66;03m# recompute embeddings for THIS batch so we have a fresh graph\u001B[39;00m\n\u001B[32m---> \u001B[39m\u001B[32m93\u001B[39m z = \u001B[43mencoder\u001B[49m\u001B[43m(\u001B[49m\u001B[43medge_index\u001B[49m\u001B[43m,\u001B[49m\u001B[43m \u001B[49m\u001B[43medge_type\u001B[49m\u001B[43m)\u001B[49m              \u001B[38;5;66;03m# <— moved inside\u001B[39;00m\n\u001B[32m     95\u001B[39m s_pos = decoder(z, pos)\n\u001B[32m     96\u001B[39m s_neg = decoder(z, neg)\n",
      "\u001B[36mFile \u001B[39m\u001B[32m~/.conda/envs/myenv/lib/python3.11/site-packages/torch/nn/modules/module.py:1773\u001B[39m, in \u001B[36mModule._wrapped_call_impl\u001B[39m\u001B[34m(self, *args, **kwargs)\u001B[39m\n\u001B[32m   1771\u001B[39m     \u001B[38;5;28;01mreturn\u001B[39;00m \u001B[38;5;28mself\u001B[39m._compiled_call_impl(*args, **kwargs)  \u001B[38;5;66;03m# type: ignore[misc]\u001B[39;00m\n\u001B[32m   1772\u001B[39m \u001B[38;5;28;01melse\u001B[39;00m:\n\u001B[32m-> \u001B[39m\u001B[32m1773\u001B[39m     \u001B[38;5;28;01mreturn\u001B[39;00m \u001B[38;5;28;43mself\u001B[39;49m\u001B[43m.\u001B[49m\u001B[43m_call_impl\u001B[49m\u001B[43m(\u001B[49m\u001B[43m*\u001B[49m\u001B[43margs\u001B[49m\u001B[43m,\u001B[49m\u001B[43m \u001B[49m\u001B[43m*\u001B[49m\u001B[43m*\u001B[49m\u001B[43mkwargs\u001B[49m\u001B[43m)\u001B[49m\n",
      "\u001B[36mFile \u001B[39m\u001B[32m~/.conda/envs/myenv/lib/python3.11/site-packages/torch/nn/modules/module.py:1784\u001B[39m, in \u001B[36mModule._call_impl\u001B[39m\u001B[34m(self, *args, **kwargs)\u001B[39m\n\u001B[32m   1779\u001B[39m \u001B[38;5;66;03m# If we don't have any hooks, we want to skip the rest of the logic in\u001B[39;00m\n\u001B[32m   1780\u001B[39m \u001B[38;5;66;03m# this function, and just call forward.\u001B[39;00m\n\u001B[32m   1781\u001B[39m \u001B[38;5;28;01mif\u001B[39;00m \u001B[38;5;129;01mnot\u001B[39;00m (\u001B[38;5;28mself\u001B[39m._backward_hooks \u001B[38;5;129;01mor\u001B[39;00m \u001B[38;5;28mself\u001B[39m._backward_pre_hooks \u001B[38;5;129;01mor\u001B[39;00m \u001B[38;5;28mself\u001B[39m._forward_hooks \u001B[38;5;129;01mor\u001B[39;00m \u001B[38;5;28mself\u001B[39m._forward_pre_hooks\n\u001B[32m   1782\u001B[39m         \u001B[38;5;129;01mor\u001B[39;00m _global_backward_pre_hooks \u001B[38;5;129;01mor\u001B[39;00m _global_backward_hooks\n\u001B[32m   1783\u001B[39m         \u001B[38;5;129;01mor\u001B[39;00m _global_forward_hooks \u001B[38;5;129;01mor\u001B[39;00m _global_forward_pre_hooks):\n\u001B[32m-> \u001B[39m\u001B[32m1784\u001B[39m     \u001B[38;5;28;01mreturn\u001B[39;00m \u001B[43mforward_call\u001B[49m\u001B[43m(\u001B[49m\u001B[43m*\u001B[49m\u001B[43margs\u001B[49m\u001B[43m,\u001B[49m\u001B[43m \u001B[49m\u001B[43m*\u001B[49m\u001B[43m*\u001B[49m\u001B[43mkwargs\u001B[49m\u001B[43m)\u001B[49m\n\u001B[32m   1786\u001B[39m result = \u001B[38;5;28;01mNone\u001B[39;00m\n\u001B[32m   1787\u001B[39m called_always_called_hooks = \u001B[38;5;28mset\u001B[39m()\n",
      "\u001B[36mCell\u001B[39m\u001B[36m \u001B[39m\u001B[32mIn[25]\u001B[39m\u001B[32m, line 83\u001B[39m, in \u001B[36mRelationalGINEncoder.forward\u001B[39m\u001B[34m(self, edge_index, edge_type)\u001B[39m\n\u001B[32m     81\u001B[39m x = \u001B[38;5;28mself\u001B[39m.embed.weight\n\u001B[32m     82\u001B[39m \u001B[38;5;28;01mfor\u001B[39;00m conv \u001B[38;5;129;01min\u001B[39;00m \u001B[38;5;28mself\u001B[39m.convs:\n\u001B[32m---> \u001B[39m\u001B[32m83\u001B[39m     x = \u001B[43mconv\u001B[49m\u001B[43m(\u001B[49m\u001B[43mx\u001B[49m\u001B[43m,\u001B[49m\u001B[43m \u001B[49m\u001B[43medge_index\u001B[49m\u001B[43m,\u001B[49m\u001B[43m \u001B[49m\u001B[43medge_type\u001B[49m\u001B[43m)\u001B[49m\n\u001B[32m     84\u001B[39m     x = \u001B[38;5;28mself\u001B[39m.dropout(x)\n\u001B[32m     85\u001B[39m \u001B[38;5;28;01mreturn\u001B[39;00m x\n",
      "\u001B[36mFile \u001B[39m\u001B[32m~/.conda/envs/myenv/lib/python3.11/site-packages/torch/nn/modules/module.py:1773\u001B[39m, in \u001B[36mModule._wrapped_call_impl\u001B[39m\u001B[34m(self, *args, **kwargs)\u001B[39m\n\u001B[32m   1771\u001B[39m     \u001B[38;5;28;01mreturn\u001B[39;00m \u001B[38;5;28mself\u001B[39m._compiled_call_impl(*args, **kwargs)  \u001B[38;5;66;03m# type: ignore[misc]\u001B[39;00m\n\u001B[32m   1772\u001B[39m \u001B[38;5;28;01melse\u001B[39;00m:\n\u001B[32m-> \u001B[39m\u001B[32m1773\u001B[39m     \u001B[38;5;28;01mreturn\u001B[39;00m \u001B[38;5;28;43mself\u001B[39;49m\u001B[43m.\u001B[49m\u001B[43m_call_impl\u001B[49m\u001B[43m(\u001B[49m\u001B[43m*\u001B[49m\u001B[43margs\u001B[49m\u001B[43m,\u001B[49m\u001B[43m \u001B[49m\u001B[43m*\u001B[49m\u001B[43m*\u001B[49m\u001B[43mkwargs\u001B[49m\u001B[43m)\u001B[49m\n",
      "\u001B[36mFile \u001B[39m\u001B[32m~/.conda/envs/myenv/lib/python3.11/site-packages/torch/nn/modules/module.py:1784\u001B[39m, in \u001B[36mModule._call_impl\u001B[39m\u001B[34m(self, *args, **kwargs)\u001B[39m\n\u001B[32m   1779\u001B[39m \u001B[38;5;66;03m# If we don't have any hooks, we want to skip the rest of the logic in\u001B[39;00m\n\u001B[32m   1780\u001B[39m \u001B[38;5;66;03m# this function, and just call forward.\u001B[39;00m\n\u001B[32m   1781\u001B[39m \u001B[38;5;28;01mif\u001B[39;00m \u001B[38;5;129;01mnot\u001B[39;00m (\u001B[38;5;28mself\u001B[39m._backward_hooks \u001B[38;5;129;01mor\u001B[39;00m \u001B[38;5;28mself\u001B[39m._backward_pre_hooks \u001B[38;5;129;01mor\u001B[39;00m \u001B[38;5;28mself\u001B[39m._forward_hooks \u001B[38;5;129;01mor\u001B[39;00m \u001B[38;5;28mself\u001B[39m._forward_pre_hooks\n\u001B[32m   1782\u001B[39m         \u001B[38;5;129;01mor\u001B[39;00m _global_backward_pre_hooks \u001B[38;5;129;01mor\u001B[39;00m _global_backward_hooks\n\u001B[32m   1783\u001B[39m         \u001B[38;5;129;01mor\u001B[39;00m _global_forward_hooks \u001B[38;5;129;01mor\u001B[39;00m _global_forward_pre_hooks):\n\u001B[32m-> \u001B[39m\u001B[32m1784\u001B[39m     \u001B[38;5;28;01mreturn\u001B[39;00m \u001B[43mforward_call\u001B[49m\u001B[43m(\u001B[49m\u001B[43m*\u001B[49m\u001B[43margs\u001B[49m\u001B[43m,\u001B[49m\u001B[43m \u001B[49m\u001B[43m*\u001B[49m\u001B[43m*\u001B[49m\u001B[43mkwargs\u001B[49m\u001B[43m)\u001B[49m\n\u001B[32m   1786\u001B[39m result = \u001B[38;5;28;01mNone\u001B[39;00m\n\u001B[32m   1787\u001B[39m called_always_called_hooks = \u001B[38;5;28mset\u001B[39m()\n",
      "\u001B[36mCell\u001B[39m\u001B[36m \u001B[39m\u001B[32mIn[25]\u001B[39m\u001B[32m, line 47\u001B[39m, in \u001B[36mRelationalGINConv.forward\u001B[39m\u001B[34m(self, x, edge_index, edge_type)\u001B[39m\n\u001B[32m     41\u001B[39m \u001B[38;5;250m\u001B[39m\u001B[33;03m\"\"\"\u001B[39;00m\n\u001B[32m     42\u001B[39m \u001B[33;03mx: [N, d]\u001B[39;00m\n\u001B[32m     43\u001B[39m \u001B[33;03medge_index: [2, E]\u001B[39;00m\n\u001B[32m     44\u001B[39m \u001B[33;03medge_type: [E]  (relation id per edge)\u001B[39;00m\n\u001B[32m     45\u001B[39m \u001B[33;03m\"\"\"\u001B[39;00m\n\u001B[32m     46\u001B[39m \u001B[38;5;66;03m# Pass x through propagate so update(...) can receive it\u001B[39;00m\n\u001B[32m---> \u001B[39m\u001B[32m47\u001B[39m \u001B[38;5;28;01mreturn\u001B[39;00m \u001B[38;5;28;43mself\u001B[39;49m\u001B[43m.\u001B[49m\u001B[43mpropagate\u001B[49m\u001B[43m(\u001B[49m\u001B[43medge_index\u001B[49m\u001B[43m,\u001B[49m\u001B[43m \u001B[49m\u001B[43mx\u001B[49m\u001B[43m=\u001B[49m\u001B[43mx\u001B[49m\u001B[43m,\u001B[49m\u001B[43m \u001B[49m\u001B[43medge_type\u001B[49m\u001B[43m=\u001B[49m\u001B[43medge_type\u001B[49m\u001B[43m)\u001B[49m\n",
      "\u001B[36mFile \u001B[39m\u001B[32m~/.conda/envs/myenv/lib/python3.11/site-packages/torch_geometric/nn/conv/message_passing.py:550\u001B[39m, in \u001B[36mMessagePassing.propagate\u001B[39m\u001B[34m(self, edge_index, size, **kwargs)\u001B[39m\n\u001B[32m    546\u001B[39m         out = res\n\u001B[32m    548\u001B[39m update_kwargs = \u001B[38;5;28mself\u001B[39m.inspector.collect_param_data(\n\u001B[32m    549\u001B[39m     \u001B[33m'\u001B[39m\u001B[33mupdate\u001B[39m\u001B[33m'\u001B[39m, coll_dict)\n\u001B[32m--> \u001B[39m\u001B[32m550\u001B[39m out = \u001B[38;5;28;43mself\u001B[39;49m\u001B[43m.\u001B[49m\u001B[43mupdate\u001B[49m\u001B[43m(\u001B[49m\u001B[43mout\u001B[49m\u001B[43m,\u001B[49m\u001B[43m \u001B[49m\u001B[43m*\u001B[49m\u001B[43m*\u001B[49m\u001B[43mupdate_kwargs\u001B[49m\u001B[43m)\u001B[49m\n\u001B[32m    552\u001B[39m \u001B[38;5;28;01mif\u001B[39;00m decomposed_layers > \u001B[32m1\u001B[39m:\n\u001B[32m    553\u001B[39m     decomp_out.append(out)\n",
      "\u001B[36mCell\u001B[39m\u001B[36m \u001B[39m\u001B[32mIn[25]\u001B[39m\u001B[32m, line 63\u001B[39m, in \u001B[36mRelationalGINConv.update\u001B[39m\u001B[34m(self, aggr_out, x, **kwargs)\u001B[39m\n\u001B[32m     58\u001B[39m \u001B[38;5;250m\u001B[39m\u001B[33;03m\"\"\"\u001B[39;00m\n\u001B[32m     59\u001B[39m \u001B[33;03maggr_out: [N, d] summed messages\u001B[39;00m\n\u001B[32m     60\u001B[39m \u001B[33;03mx: original node features [N, d] (passed via propagate kwargs)\u001B[39;00m\n\u001B[32m     61\u001B[39m \u001B[33;03m\"\"\"\u001B[39;00m\n\u001B[32m     62\u001B[39m out = (\u001B[32m1.0\u001B[39m + \u001B[38;5;28mself\u001B[39m.eps) * x + aggr_out\n\u001B[32m---> \u001B[39m\u001B[32m63\u001B[39m \u001B[38;5;28;01mreturn\u001B[39;00m \u001B[38;5;28;43mself\u001B[39;49m\u001B[43m.\u001B[49m\u001B[43mmlp\u001B[49m\u001B[43m(\u001B[49m\u001B[43mout\u001B[49m\u001B[43m)\u001B[49m\n",
      "\u001B[36mFile \u001B[39m\u001B[32m~/.conda/envs/myenv/lib/python3.11/site-packages/torch/nn/modules/module.py:1773\u001B[39m, in \u001B[36mModule._wrapped_call_impl\u001B[39m\u001B[34m(self, *args, **kwargs)\u001B[39m\n\u001B[32m   1771\u001B[39m     \u001B[38;5;28;01mreturn\u001B[39;00m \u001B[38;5;28mself\u001B[39m._compiled_call_impl(*args, **kwargs)  \u001B[38;5;66;03m# type: ignore[misc]\u001B[39;00m\n\u001B[32m   1772\u001B[39m \u001B[38;5;28;01melse\u001B[39;00m:\n\u001B[32m-> \u001B[39m\u001B[32m1773\u001B[39m     \u001B[38;5;28;01mreturn\u001B[39;00m \u001B[38;5;28;43mself\u001B[39;49m\u001B[43m.\u001B[49m\u001B[43m_call_impl\u001B[49m\u001B[43m(\u001B[49m\u001B[43m*\u001B[49m\u001B[43margs\u001B[49m\u001B[43m,\u001B[49m\u001B[43m \u001B[49m\u001B[43m*\u001B[49m\u001B[43m*\u001B[49m\u001B[43mkwargs\u001B[49m\u001B[43m)\u001B[49m\n",
      "\u001B[36mFile \u001B[39m\u001B[32m~/.conda/envs/myenv/lib/python3.11/site-packages/torch/nn/modules/module.py:1784\u001B[39m, in \u001B[36mModule._call_impl\u001B[39m\u001B[34m(self, *args, **kwargs)\u001B[39m\n\u001B[32m   1779\u001B[39m \u001B[38;5;66;03m# If we don't have any hooks, we want to skip the rest of the logic in\u001B[39;00m\n\u001B[32m   1780\u001B[39m \u001B[38;5;66;03m# this function, and just call forward.\u001B[39;00m\n\u001B[32m   1781\u001B[39m \u001B[38;5;28;01mif\u001B[39;00m \u001B[38;5;129;01mnot\u001B[39;00m (\u001B[38;5;28mself\u001B[39m._backward_hooks \u001B[38;5;129;01mor\u001B[39;00m \u001B[38;5;28mself\u001B[39m._backward_pre_hooks \u001B[38;5;129;01mor\u001B[39;00m \u001B[38;5;28mself\u001B[39m._forward_hooks \u001B[38;5;129;01mor\u001B[39;00m \u001B[38;5;28mself\u001B[39m._forward_pre_hooks\n\u001B[32m   1782\u001B[39m         \u001B[38;5;129;01mor\u001B[39;00m _global_backward_pre_hooks \u001B[38;5;129;01mor\u001B[39;00m _global_backward_hooks\n\u001B[32m   1783\u001B[39m         \u001B[38;5;129;01mor\u001B[39;00m _global_forward_hooks \u001B[38;5;129;01mor\u001B[39;00m _global_forward_pre_hooks):\n\u001B[32m-> \u001B[39m\u001B[32m1784\u001B[39m     \u001B[38;5;28;01mreturn\u001B[39;00m \u001B[43mforward_call\u001B[49m\u001B[43m(\u001B[49m\u001B[43m*\u001B[49m\u001B[43margs\u001B[49m\u001B[43m,\u001B[49m\u001B[43m \u001B[49m\u001B[43m*\u001B[49m\u001B[43m*\u001B[49m\u001B[43mkwargs\u001B[49m\u001B[43m)\u001B[49m\n\u001B[32m   1786\u001B[39m result = \u001B[38;5;28;01mNone\u001B[39;00m\n\u001B[32m   1787\u001B[39m called_always_called_hooks = \u001B[38;5;28mset\u001B[39m()\n",
      "\u001B[36mFile \u001B[39m\u001B[32m~/.conda/envs/myenv/lib/python3.11/site-packages/torch/nn/modules/container.py:244\u001B[39m, in \u001B[36mSequential.forward\u001B[39m\u001B[34m(self, input)\u001B[39m\n\u001B[32m    242\u001B[39m \u001B[38;5;28;01mdef\u001B[39;00m\u001B[38;5;250m \u001B[39m\u001B[34mforward\u001B[39m(\u001B[38;5;28mself\u001B[39m, \u001B[38;5;28minput\u001B[39m):\n\u001B[32m    243\u001B[39m     \u001B[38;5;28;01mfor\u001B[39;00m module \u001B[38;5;129;01min\u001B[39;00m \u001B[38;5;28mself\u001B[39m:\n\u001B[32m--> \u001B[39m\u001B[32m244\u001B[39m         \u001B[38;5;28minput\u001B[39m = \u001B[43mmodule\u001B[49m\u001B[43m(\u001B[49m\u001B[38;5;28;43minput\u001B[39;49m\u001B[43m)\u001B[49m\n\u001B[32m    245\u001B[39m     \u001B[38;5;28;01mreturn\u001B[39;00m \u001B[38;5;28minput\u001B[39m\n",
      "\u001B[36mFile \u001B[39m\u001B[32m~/.conda/envs/myenv/lib/python3.11/site-packages/torch/nn/modules/module.py:1773\u001B[39m, in \u001B[36mModule._wrapped_call_impl\u001B[39m\u001B[34m(self, *args, **kwargs)\u001B[39m\n\u001B[32m   1771\u001B[39m     \u001B[38;5;28;01mreturn\u001B[39;00m \u001B[38;5;28mself\u001B[39m._compiled_call_impl(*args, **kwargs)  \u001B[38;5;66;03m# type: ignore[misc]\u001B[39;00m\n\u001B[32m   1772\u001B[39m \u001B[38;5;28;01melse\u001B[39;00m:\n\u001B[32m-> \u001B[39m\u001B[32m1773\u001B[39m     \u001B[38;5;28;01mreturn\u001B[39;00m \u001B[38;5;28;43mself\u001B[39;49m\u001B[43m.\u001B[49m\u001B[43m_call_impl\u001B[49m\u001B[43m(\u001B[49m\u001B[43m*\u001B[49m\u001B[43margs\u001B[49m\u001B[43m,\u001B[49m\u001B[43m \u001B[49m\u001B[43m*\u001B[49m\u001B[43m*\u001B[49m\u001B[43mkwargs\u001B[49m\u001B[43m)\u001B[49m\n",
      "\u001B[36mFile \u001B[39m\u001B[32m~/.conda/envs/myenv/lib/python3.11/site-packages/torch/nn/modules/module.py:1784\u001B[39m, in \u001B[36mModule._call_impl\u001B[39m\u001B[34m(self, *args, **kwargs)\u001B[39m\n\u001B[32m   1779\u001B[39m \u001B[38;5;66;03m# If we don't have any hooks, we want to skip the rest of the logic in\u001B[39;00m\n\u001B[32m   1780\u001B[39m \u001B[38;5;66;03m# this function, and just call forward.\u001B[39;00m\n\u001B[32m   1781\u001B[39m \u001B[38;5;28;01mif\u001B[39;00m \u001B[38;5;129;01mnot\u001B[39;00m (\u001B[38;5;28mself\u001B[39m._backward_hooks \u001B[38;5;129;01mor\u001B[39;00m \u001B[38;5;28mself\u001B[39m._backward_pre_hooks \u001B[38;5;129;01mor\u001B[39;00m \u001B[38;5;28mself\u001B[39m._forward_hooks \u001B[38;5;129;01mor\u001B[39;00m \u001B[38;5;28mself\u001B[39m._forward_pre_hooks\n\u001B[32m   1782\u001B[39m         \u001B[38;5;129;01mor\u001B[39;00m _global_backward_pre_hooks \u001B[38;5;129;01mor\u001B[39;00m _global_backward_hooks\n\u001B[32m   1783\u001B[39m         \u001B[38;5;129;01mor\u001B[39;00m _global_forward_hooks \u001B[38;5;129;01mor\u001B[39;00m _global_forward_pre_hooks):\n\u001B[32m-> \u001B[39m\u001B[32m1784\u001B[39m     \u001B[38;5;28;01mreturn\u001B[39;00m \u001B[43mforward_call\u001B[49m\u001B[43m(\u001B[49m\u001B[43m*\u001B[49m\u001B[43margs\u001B[49m\u001B[43m,\u001B[49m\u001B[43m \u001B[49m\u001B[43m*\u001B[49m\u001B[43m*\u001B[49m\u001B[43mkwargs\u001B[49m\u001B[43m)\u001B[49m\n\u001B[32m   1786\u001B[39m result = \u001B[38;5;28;01mNone\u001B[39;00m\n\u001B[32m   1787\u001B[39m called_always_called_hooks = \u001B[38;5;28mset\u001B[39m()\n",
      "\u001B[36mFile \u001B[39m\u001B[32m~/.conda/envs/myenv/lib/python3.11/site-packages/torch/nn/modules/linear.py:125\u001B[39m, in \u001B[36mLinear.forward\u001B[39m\u001B[34m(self, input)\u001B[39m\n\u001B[32m    124\u001B[39m \u001B[38;5;28;01mdef\u001B[39;00m\u001B[38;5;250m \u001B[39m\u001B[34mforward\u001B[39m(\u001B[38;5;28mself\u001B[39m, \u001B[38;5;28minput\u001B[39m: Tensor) -> Tensor:\n\u001B[32m--> \u001B[39m\u001B[32m125\u001B[39m     \u001B[38;5;28;01mreturn\u001B[39;00m \u001B[43mF\u001B[49m\u001B[43m.\u001B[49m\u001B[43mlinear\u001B[49m\u001B[43m(\u001B[49m\u001B[38;5;28;43minput\u001B[39;49m\u001B[43m,\u001B[49m\u001B[43m \u001B[49m\u001B[38;5;28;43mself\u001B[39;49m\u001B[43m.\u001B[49m\u001B[43mweight\u001B[49m\u001B[43m,\u001B[49m\u001B[43m \u001B[49m\u001B[38;5;28;43mself\u001B[39;49m\u001B[43m.\u001B[49m\u001B[43mbias\u001B[49m\u001B[43m)\u001B[49m\n",
      "\u001B[31mKeyboardInterrupt\u001B[39m: "
     ]
    }
   ],
   "execution_count": 31
  },
  {
   "metadata": {
    "ExecuteTime": {
     "end_time": "2025-10-15T09:23:39.429237716Z",
     "start_time": "2025-10-14T19:10:05.574888Z"
    }
   },
   "cell_type": "code",
   "source": [
    "dataset = \"WN18RR\"\n",
    "train_p = Path(\"../WN18RR/train.txt\")\n",
    "valid_p = Path(\"../WN18RR/valid.txt\")\n",
    "test_p  = Path(\"../WN18RR/test.txt\")\n",
    "\n",
    "dm_typed = KGDataModuleTyped(\n",
    "    train_p, valid_p, test_p,\n",
    "    add_reverse=True,\n",
    "    reverse_relation_strategy=\"duplicate_rel\",\n",
    ")\n",
    "\n",
    "num_nodes = len(dm_typed.ent2id)\n",
    "num_relations = len(dm_typed.rel2id)\n",
    "emb_dim = 128\n",
    "num_layers = 4\n",
    "hidden_layers = 4\n",
    "\n",
    "# --- 1) R-GIN + DistMult ---\n",
    "enc_dm = RelationalGINEncoder( num_nodes=num_nodes, num_relations=num_relations, emb_dim=emb_dim, num_layers=num_layers, hidden_layers=hidden_layers, dropout=0.1, train_eps=True\n",
    "                               )\n",
    "dec_dm = DistMultDecoder(num_relations=num_relations, dim=emb_dim)\n",
    "\n",
    "res_distmult = train_linkpred_typed(\n",
    "    enc_dm, dec_dm, dm_typed,\n",
    "    epochs=100, lr=1e-3, weight_decay=1e-4, patience=10,\n",
    "    show_tqdm=True,\n",
    "    save_best_path=f\"checkpoints/embed_rel/{dataset}/best_rgin_distmult_embed_dim={emb_dim}_mlp_depth={hidden_layers}_aggre={num_layers}_dataset={dataset}.pt\",\n",
    "    save_on_improve=True,\n",
    "    hparams={\"dataset\": dataset, \"decoder\": \"DistMult\", \"emb_dim\": emb_dim, \"num_layers\": num_layers, \"hidden_layers\": hidden_layers}\n",
    ")\n",
    "\n",
    "\n",
    "print_training_report(\n",
    "    model_name = \"R-GIN_embed_rel + Distmult\",\n",
    "    result = res_distmult,\n",
    "    header_title = \"Model Training Results\",\n",
    "    save_path=f\"results/embed_rel/{dataset}/embed_rel_gin_report_embed_dim={emb_dim}_mlp_depth={hidden_layers}_aggre={num_layers}_dataset={dataset}.txt\"\n",
    ")"
   ],
   "id": "e4efdec5649d3ce3",
   "outputs": [
    {
     "data": {
      "text/plain": [
       "Epochs (typed):   0%|          | 0/100 [00:00<?, ?it/s]"
      ],
      "application/vnd.jupyter.widget-view+json": {
       "version_major": 2,
       "version_minor": 0,
       "model_id": "005b3767dd0443d3b952b839b9c28ae3"
      }
     },
     "metadata": {},
     "output_type": "display_data",
     "jetTransient": {
      "display_id": null
     }
    },
    {
     "data": {
      "text/plain": [
       "Train 1:   0%|          | 0/85 [00:00<?, ?it/s]"
      ],
      "application/vnd.jupyter.widget-view+json": {
       "version_major": 2,
       "version_minor": 0,
       "model_id": "fde7c38cca00418cad3698a1aa88a5f2"
      }
     },
     "metadata": {},
     "output_type": "display_data",
     "jetTransient": {
      "display_id": null
     }
    },
    {
     "ename": "KeyboardInterrupt",
     "evalue": "",
     "output_type": "error",
     "traceback": [
      "\u001B[31m---------------------------------------------------------------------------\u001B[39m",
      "\u001B[31mKeyboardInterrupt\u001B[39m                         Traceback (most recent call last)",
      "\u001B[36mCell\u001B[39m\u001B[36m \u001B[39m\u001B[32mIn[8]\u001B[39m\u001B[32m, line 23\u001B[39m\n\u001B[32m     19\u001B[39m enc_dm = RelationalGINEncoder( num_nodes=num_nodes, num_relations=num_relations, emb_dim=emb_dim, num_layers=num_layers, hidden_layers=hidden_layers, dropout=\u001B[32m0.1\u001B[39m, train_eps=\u001B[38;5;28;01mTrue\u001B[39;00m\n\u001B[32m     20\u001B[39m                                )\n\u001B[32m     21\u001B[39m dec_dm = DistMultDecoder(num_relations=num_relations, dim=emb_dim)\n\u001B[32m---> \u001B[39m\u001B[32m23\u001B[39m res_distmult = \u001B[43mtrain_linkpred_typed\u001B[49m\u001B[43m(\u001B[49m\n\u001B[32m     24\u001B[39m \u001B[43m    \u001B[49m\u001B[43menc_dm\u001B[49m\u001B[43m,\u001B[49m\u001B[43m \u001B[49m\u001B[43mdec_dm\u001B[49m\u001B[43m,\u001B[49m\u001B[43m \u001B[49m\u001B[43mdm_typed\u001B[49m\u001B[43m,\u001B[49m\n\u001B[32m     25\u001B[39m \u001B[43m    \u001B[49m\u001B[43mepochs\u001B[49m\u001B[43m=\u001B[49m\u001B[32;43m100\u001B[39;49m\u001B[43m,\u001B[49m\u001B[43m \u001B[49m\u001B[43mlr\u001B[49m\u001B[43m=\u001B[49m\u001B[32;43m1e-3\u001B[39;49m\u001B[43m,\u001B[49m\u001B[43m \u001B[49m\u001B[43mweight_decay\u001B[49m\u001B[43m=\u001B[49m\u001B[32;43m1e-4\u001B[39;49m\u001B[43m,\u001B[49m\u001B[43m \u001B[49m\u001B[43mpatience\u001B[49m\u001B[43m=\u001B[49m\u001B[32;43m10\u001B[39;49m\u001B[43m,\u001B[49m\n\u001B[32m     26\u001B[39m \u001B[43m    \u001B[49m\u001B[43mshow_tqdm\u001B[49m\u001B[43m=\u001B[49m\u001B[38;5;28;43;01mTrue\u001B[39;49;00m\u001B[43m,\u001B[49m\n\u001B[32m     27\u001B[39m \u001B[43m    \u001B[49m\u001B[43msave_best_path\u001B[49m\u001B[43m=\u001B[49m\u001B[33;43mf\u001B[39;49m\u001B[33;43m\"\u001B[39;49m\u001B[33;43mcheckpoints/embed_rel/\u001B[39;49m\u001B[38;5;132;43;01m{\u001B[39;49;00m\u001B[43mdataset\u001B[49m\u001B[38;5;132;43;01m}\u001B[39;49;00m\u001B[33;43m/best_rgin_distmult|embed_dim=\u001B[39;49m\u001B[38;5;132;43;01m{\u001B[39;49;00m\u001B[43memb_dim\u001B[49m\u001B[38;5;132;43;01m}\u001B[39;49;00m\u001B[33;43m|mlp_depth=\u001B[39;49m\u001B[38;5;132;43;01m{\u001B[39;49;00m\u001B[43mhidden_layers\u001B[49m\u001B[38;5;132;43;01m}\u001B[39;49;00m\u001B[33;43m|aggre=\u001B[39;49m\u001B[38;5;132;43;01m{\u001B[39;49;00m\u001B[43mnum_layers\u001B[49m\u001B[38;5;132;43;01m}\u001B[39;49;00m\u001B[33;43m|dataset=\u001B[39;49m\u001B[38;5;132;43;01m{\u001B[39;49;00m\u001B[43mdataset\u001B[49m\u001B[38;5;132;43;01m}\u001B[39;49;00m\u001B[33;43m.pt\u001B[39;49m\u001B[33;43m\"\u001B[39;49m\u001B[43m,\u001B[49m\n\u001B[32m     28\u001B[39m \u001B[43m    \u001B[49m\u001B[43msave_on_improve\u001B[49m\u001B[43m=\u001B[49m\u001B[38;5;28;43;01mTrue\u001B[39;49;00m\u001B[43m,\u001B[49m\n\u001B[32m     29\u001B[39m \u001B[43m    \u001B[49m\u001B[43mhparams\u001B[49m\u001B[43m=\u001B[49m\u001B[43m{\u001B[49m\u001B[33;43m\"\u001B[39;49m\u001B[33;43mdataset\u001B[39;49m\u001B[33;43m\"\u001B[39;49m\u001B[43m:\u001B[49m\u001B[43m \u001B[49m\u001B[43mdataset\u001B[49m\u001B[43m,\u001B[49m\u001B[43m \u001B[49m\u001B[33;43m\"\u001B[39;49m\u001B[33;43mdecoder\u001B[39;49m\u001B[33;43m\"\u001B[39;49m\u001B[43m:\u001B[49m\u001B[43m \u001B[49m\u001B[33;43m\"\u001B[39;49m\u001B[33;43mDistMult\u001B[39;49m\u001B[33;43m\"\u001B[39;49m\u001B[43m,\u001B[49m\u001B[43m \u001B[49m\u001B[33;43m\"\u001B[39;49m\u001B[33;43memb_dim\u001B[39;49m\u001B[33;43m\"\u001B[39;49m\u001B[43m:\u001B[49m\u001B[43m \u001B[49m\u001B[43memb_dim\u001B[49m\u001B[43m,\u001B[49m\u001B[43m \u001B[49m\u001B[33;43m\"\u001B[39;49m\u001B[33;43mnum_layers\u001B[39;49m\u001B[33;43m\"\u001B[39;49m\u001B[43m:\u001B[49m\u001B[43m \u001B[49m\u001B[43mnum_layers\u001B[49m\u001B[43m,\u001B[49m\u001B[43m \u001B[49m\u001B[33;43m\"\u001B[39;49m\u001B[33;43mhidden_layers\u001B[39;49m\u001B[33;43m\"\u001B[39;49m\u001B[43m:\u001B[49m\u001B[43m \u001B[49m\u001B[43mhidden_layers\u001B[49m\u001B[43m}\u001B[49m\n\u001B[32m     30\u001B[39m \u001B[43m)\u001B[49m\n\u001B[32m     33\u001B[39m print_training_report(\n\u001B[32m     34\u001B[39m     model_name = \u001B[33m\"\u001B[39m\u001B[33mR-GIN_embed_rel + Distmult\u001B[39m\u001B[33m\"\u001B[39m,\n\u001B[32m     35\u001B[39m     result = res_distmult,\n\u001B[32m     36\u001B[39m     header_title = \u001B[33m\"\u001B[39m\u001B[33mModel Training Results\u001B[39m\u001B[33m\"\u001B[39m,\n\u001B[32m     37\u001B[39m     save_path=\u001B[33mf\u001B[39m\u001B[33m\"\u001B[39m\u001B[33mresults/embed_rel/\u001B[39m\u001B[38;5;132;01m{\u001B[39;00mdataset\u001B[38;5;132;01m}\u001B[39;00m\u001B[33m/embed_rel_gin_report|embed_dim=\u001B[39m\u001B[38;5;132;01m{\u001B[39;00memb_dim\u001B[38;5;132;01m}\u001B[39;00m\u001B[33m|mlp_depth=\u001B[39m\u001B[38;5;132;01m{\u001B[39;00mhidden_layers\u001B[38;5;132;01m}\u001B[39;00m\u001B[33m|aggre=\u001B[39m\u001B[38;5;132;01m{\u001B[39;00mnum_layers\u001B[38;5;132;01m}\u001B[39;00m\u001B[33m|dataset=\u001B[39m\u001B[38;5;132;01m{\u001B[39;00mdataset\u001B[38;5;132;01m}\u001B[39;00m\u001B[33m.txt\u001B[39m\u001B[33m\"\u001B[39m\n\u001B[32m     38\u001B[39m )\n",
      "\u001B[36mCell\u001B[39m\u001B[36m \u001B[39m\u001B[32mIn[4]\u001B[39m\u001B[32m, line 87\u001B[39m, in \u001B[36mtrain_linkpred_typed\u001B[39m\u001B[34m(encoder, decoder, dm, epochs, lr, weight_decay, patience, device, show_tqdm, save_best_path, save_on_improve, hparams)\u001B[39m\n\u001B[32m     84\u001B[39m opt.zero_grad()\n\u001B[32m     86\u001B[39m \u001B[38;5;66;03m# recompute embeddings for THIS batch so we have a fresh graph\u001B[39;00m\n\u001B[32m---> \u001B[39m\u001B[32m87\u001B[39m z = \u001B[43mencoder\u001B[49m\u001B[43m(\u001B[49m\u001B[43medge_index\u001B[49m\u001B[43m,\u001B[49m\u001B[43m \u001B[49m\u001B[43medge_type\u001B[49m\u001B[43m)\u001B[49m              \u001B[38;5;66;03m# <— moved inside\u001B[39;00m\n\u001B[32m     89\u001B[39m s_pos = decoder(z, pos)\n\u001B[32m     90\u001B[39m s_neg = decoder(z, neg)\n",
      "\u001B[36mFile \u001B[39m\u001B[32m/opt/anaconda3/envs/py311/lib/python3.11/site-packages/torch/nn/modules/module.py:1773\u001B[39m, in \u001B[36mModule._wrapped_call_impl\u001B[39m\u001B[34m(self, *args, **kwargs)\u001B[39m\n\u001B[32m   1771\u001B[39m     \u001B[38;5;28;01mreturn\u001B[39;00m \u001B[38;5;28mself\u001B[39m._compiled_call_impl(*args, **kwargs)  \u001B[38;5;66;03m# type: ignore[misc]\u001B[39;00m\n\u001B[32m   1772\u001B[39m \u001B[38;5;28;01melse\u001B[39;00m:\n\u001B[32m-> \u001B[39m\u001B[32m1773\u001B[39m     \u001B[38;5;28;01mreturn\u001B[39;00m \u001B[38;5;28;43mself\u001B[39;49m\u001B[43m.\u001B[49m\u001B[43m_call_impl\u001B[49m\u001B[43m(\u001B[49m\u001B[43m*\u001B[49m\u001B[43margs\u001B[49m\u001B[43m,\u001B[49m\u001B[43m \u001B[49m\u001B[43m*\u001B[49m\u001B[43m*\u001B[49m\u001B[43mkwargs\u001B[49m\u001B[43m)\u001B[49m\n",
      "\u001B[36mFile \u001B[39m\u001B[32m/opt/anaconda3/envs/py311/lib/python3.11/site-packages/torch/nn/modules/module.py:1784\u001B[39m, in \u001B[36mModule._call_impl\u001B[39m\u001B[34m(self, *args, **kwargs)\u001B[39m\n\u001B[32m   1779\u001B[39m \u001B[38;5;66;03m# If we don't have any hooks, we want to skip the rest of the logic in\u001B[39;00m\n\u001B[32m   1780\u001B[39m \u001B[38;5;66;03m# this function, and just call forward.\u001B[39;00m\n\u001B[32m   1781\u001B[39m \u001B[38;5;28;01mif\u001B[39;00m \u001B[38;5;129;01mnot\u001B[39;00m (\u001B[38;5;28mself\u001B[39m._backward_hooks \u001B[38;5;129;01mor\u001B[39;00m \u001B[38;5;28mself\u001B[39m._backward_pre_hooks \u001B[38;5;129;01mor\u001B[39;00m \u001B[38;5;28mself\u001B[39m._forward_hooks \u001B[38;5;129;01mor\u001B[39;00m \u001B[38;5;28mself\u001B[39m._forward_pre_hooks\n\u001B[32m   1782\u001B[39m         \u001B[38;5;129;01mor\u001B[39;00m _global_backward_pre_hooks \u001B[38;5;129;01mor\u001B[39;00m _global_backward_hooks\n\u001B[32m   1783\u001B[39m         \u001B[38;5;129;01mor\u001B[39;00m _global_forward_hooks \u001B[38;5;129;01mor\u001B[39;00m _global_forward_pre_hooks):\n\u001B[32m-> \u001B[39m\u001B[32m1784\u001B[39m     \u001B[38;5;28;01mreturn\u001B[39;00m \u001B[43mforward_call\u001B[49m\u001B[43m(\u001B[49m\u001B[43m*\u001B[49m\u001B[43margs\u001B[49m\u001B[43m,\u001B[49m\u001B[43m \u001B[49m\u001B[43m*\u001B[49m\u001B[43m*\u001B[49m\u001B[43mkwargs\u001B[49m\u001B[43m)\u001B[49m\n\u001B[32m   1786\u001B[39m result = \u001B[38;5;28;01mNone\u001B[39;00m\n\u001B[32m   1787\u001B[39m called_always_called_hooks = \u001B[38;5;28mset\u001B[39m()\n",
      "\u001B[36mCell\u001B[39m\u001B[36m \u001B[39m\u001B[32mIn[1]\u001B[39m\u001B[32m, line 83\u001B[39m, in \u001B[36mRelationalGINEncoder.forward\u001B[39m\u001B[34m(self, edge_index, edge_type)\u001B[39m\n\u001B[32m     81\u001B[39m x = \u001B[38;5;28mself\u001B[39m.embed.weight\n\u001B[32m     82\u001B[39m \u001B[38;5;28;01mfor\u001B[39;00m conv \u001B[38;5;129;01min\u001B[39;00m \u001B[38;5;28mself\u001B[39m.convs:\n\u001B[32m---> \u001B[39m\u001B[32m83\u001B[39m     x = \u001B[43mconv\u001B[49m\u001B[43m(\u001B[49m\u001B[43mx\u001B[49m\u001B[43m,\u001B[49m\u001B[43m \u001B[49m\u001B[43medge_index\u001B[49m\u001B[43m,\u001B[49m\u001B[43m \u001B[49m\u001B[43medge_type\u001B[49m\u001B[43m)\u001B[49m\n\u001B[32m     84\u001B[39m     x = \u001B[38;5;28mself\u001B[39m.dropout(x)\n\u001B[32m     85\u001B[39m \u001B[38;5;28;01mreturn\u001B[39;00m x\n",
      "\u001B[36mFile \u001B[39m\u001B[32m/opt/anaconda3/envs/py311/lib/python3.11/site-packages/torch/nn/modules/module.py:1773\u001B[39m, in \u001B[36mModule._wrapped_call_impl\u001B[39m\u001B[34m(self, *args, **kwargs)\u001B[39m\n\u001B[32m   1771\u001B[39m     \u001B[38;5;28;01mreturn\u001B[39;00m \u001B[38;5;28mself\u001B[39m._compiled_call_impl(*args, **kwargs)  \u001B[38;5;66;03m# type: ignore[misc]\u001B[39;00m\n\u001B[32m   1772\u001B[39m \u001B[38;5;28;01melse\u001B[39;00m:\n\u001B[32m-> \u001B[39m\u001B[32m1773\u001B[39m     \u001B[38;5;28;01mreturn\u001B[39;00m \u001B[38;5;28;43mself\u001B[39;49m\u001B[43m.\u001B[49m\u001B[43m_call_impl\u001B[49m\u001B[43m(\u001B[49m\u001B[43m*\u001B[49m\u001B[43margs\u001B[49m\u001B[43m,\u001B[49m\u001B[43m \u001B[49m\u001B[43m*\u001B[49m\u001B[43m*\u001B[49m\u001B[43mkwargs\u001B[49m\u001B[43m)\u001B[49m\n",
      "\u001B[36mFile \u001B[39m\u001B[32m/opt/anaconda3/envs/py311/lib/python3.11/site-packages/torch/nn/modules/module.py:1784\u001B[39m, in \u001B[36mModule._call_impl\u001B[39m\u001B[34m(self, *args, **kwargs)\u001B[39m\n\u001B[32m   1779\u001B[39m \u001B[38;5;66;03m# If we don't have any hooks, we want to skip the rest of the logic in\u001B[39;00m\n\u001B[32m   1780\u001B[39m \u001B[38;5;66;03m# this function, and just call forward.\u001B[39;00m\n\u001B[32m   1781\u001B[39m \u001B[38;5;28;01mif\u001B[39;00m \u001B[38;5;129;01mnot\u001B[39;00m (\u001B[38;5;28mself\u001B[39m._backward_hooks \u001B[38;5;129;01mor\u001B[39;00m \u001B[38;5;28mself\u001B[39m._backward_pre_hooks \u001B[38;5;129;01mor\u001B[39;00m \u001B[38;5;28mself\u001B[39m._forward_hooks \u001B[38;5;129;01mor\u001B[39;00m \u001B[38;5;28mself\u001B[39m._forward_pre_hooks\n\u001B[32m   1782\u001B[39m         \u001B[38;5;129;01mor\u001B[39;00m _global_backward_pre_hooks \u001B[38;5;129;01mor\u001B[39;00m _global_backward_hooks\n\u001B[32m   1783\u001B[39m         \u001B[38;5;129;01mor\u001B[39;00m _global_forward_hooks \u001B[38;5;129;01mor\u001B[39;00m _global_forward_pre_hooks):\n\u001B[32m-> \u001B[39m\u001B[32m1784\u001B[39m     \u001B[38;5;28;01mreturn\u001B[39;00m \u001B[43mforward_call\u001B[49m\u001B[43m(\u001B[49m\u001B[43m*\u001B[49m\u001B[43margs\u001B[49m\u001B[43m,\u001B[49m\u001B[43m \u001B[49m\u001B[43m*\u001B[49m\u001B[43m*\u001B[49m\u001B[43mkwargs\u001B[49m\u001B[43m)\u001B[49m\n\u001B[32m   1786\u001B[39m result = \u001B[38;5;28;01mNone\u001B[39;00m\n\u001B[32m   1787\u001B[39m called_always_called_hooks = \u001B[38;5;28mset\u001B[39m()\n",
      "\u001B[36mCell\u001B[39m\u001B[36m \u001B[39m\u001B[32mIn[1]\u001B[39m\u001B[32m, line 47\u001B[39m, in \u001B[36mRelationalGINConv.forward\u001B[39m\u001B[34m(self, x, edge_index, edge_type)\u001B[39m\n\u001B[32m     41\u001B[39m \u001B[38;5;250m\u001B[39m\u001B[33;03m\"\"\"\u001B[39;00m\n\u001B[32m     42\u001B[39m \u001B[33;03mx: [N, d]\u001B[39;00m\n\u001B[32m     43\u001B[39m \u001B[33;03medge_index: [2, E]\u001B[39;00m\n\u001B[32m     44\u001B[39m \u001B[33;03medge_type: [E]  (relation id per edge)\u001B[39;00m\n\u001B[32m     45\u001B[39m \u001B[33;03m\"\"\"\u001B[39;00m\n\u001B[32m     46\u001B[39m \u001B[38;5;66;03m# Pass x through propagate so update(...) can receive it\u001B[39;00m\n\u001B[32m---> \u001B[39m\u001B[32m47\u001B[39m \u001B[38;5;28;01mreturn\u001B[39;00m \u001B[38;5;28;43mself\u001B[39;49m\u001B[43m.\u001B[49m\u001B[43mpropagate\u001B[49m\u001B[43m(\u001B[49m\u001B[43medge_index\u001B[49m\u001B[43m,\u001B[49m\u001B[43m \u001B[49m\u001B[43mx\u001B[49m\u001B[43m=\u001B[49m\u001B[43mx\u001B[49m\u001B[43m,\u001B[49m\u001B[43m \u001B[49m\u001B[43medge_type\u001B[49m\u001B[43m=\u001B[49m\u001B[43medge_type\u001B[49m\u001B[43m)\u001B[49m\n",
      "\u001B[36mFile \u001B[39m\u001B[32m/opt/anaconda3/envs/py311/lib/python3.11/site-packages/torch_geometric/nn/conv/message_passing.py:541\u001B[39m, in \u001B[36mMessagePassing.propagate\u001B[39m\u001B[34m(self, edge_index, size, **kwargs)\u001B[39m\n\u001B[32m    538\u001B[39m     \u001B[38;5;28;01mif\u001B[39;00m res \u001B[38;5;129;01mis\u001B[39;00m \u001B[38;5;129;01mnot\u001B[39;00m \u001B[38;5;28;01mNone\u001B[39;00m:\n\u001B[32m    539\u001B[39m         aggr_kwargs = res[\u001B[32m0\u001B[39m] \u001B[38;5;28;01mif\u001B[39;00m \u001B[38;5;28misinstance\u001B[39m(res, \u001B[38;5;28mtuple\u001B[39m) \u001B[38;5;28;01melse\u001B[39;00m res\n\u001B[32m--> \u001B[39m\u001B[32m541\u001B[39m out = \u001B[38;5;28;43mself\u001B[39;49m\u001B[43m.\u001B[49m\u001B[43maggregate\u001B[49m\u001B[43m(\u001B[49m\u001B[43mout\u001B[49m\u001B[43m,\u001B[49m\u001B[43m \u001B[49m\u001B[43m*\u001B[49m\u001B[43m*\u001B[49m\u001B[43maggr_kwargs\u001B[49m\u001B[43m)\u001B[49m\n\u001B[32m    543\u001B[39m \u001B[38;5;28;01mfor\u001B[39;00m hook \u001B[38;5;129;01min\u001B[39;00m \u001B[38;5;28mself\u001B[39m._aggregate_forward_hooks.values():\n\u001B[32m    544\u001B[39m     res = hook(\u001B[38;5;28mself\u001B[39m, (aggr_kwargs, ), out)\n",
      "\u001B[36mFile \u001B[39m\u001B[32m/opt/anaconda3/envs/py311/lib/python3.11/site-packages/torch_geometric/nn/conv/message_passing.py:594\u001B[39m, in \u001B[36mMessagePassing.aggregate\u001B[39m\u001B[34m(self, inputs, index, ptr, dim_size)\u001B[39m\n\u001B[32m    577\u001B[39m \u001B[38;5;28;01mdef\u001B[39;00m\u001B[38;5;250m \u001B[39m\u001B[34maggregate\u001B[39m(\n\u001B[32m    578\u001B[39m     \u001B[38;5;28mself\u001B[39m,\n\u001B[32m    579\u001B[39m     inputs: Tensor,\n\u001B[32m   (...)\u001B[39m\u001B[32m    582\u001B[39m     dim_size: Optional[\u001B[38;5;28mint\u001B[39m] = \u001B[38;5;28;01mNone\u001B[39;00m,\n\u001B[32m    583\u001B[39m ) -> Tensor:\n\u001B[32m    584\u001B[39m \u001B[38;5;250m    \u001B[39m\u001B[33mr\u001B[39m\u001B[33;03m\"\"\"Aggregates messages from neighbors as\u001B[39;00m\n\u001B[32m    585\u001B[39m \u001B[33;03m    :math:`\\bigoplus_{j \\in \\mathcal{N}(i)}`.\u001B[39;00m\n\u001B[32m    586\u001B[39m \n\u001B[32m   (...)\u001B[39m\u001B[32m    592\u001B[39m \u001B[33;03m    as specified in :meth:`__init__` by the :obj:`aggr` argument.\u001B[39;00m\n\u001B[32m    593\u001B[39m \u001B[33;03m    \"\"\"\u001B[39;00m\n\u001B[32m--> \u001B[39m\u001B[32m594\u001B[39m     \u001B[38;5;28;01mreturn\u001B[39;00m \u001B[38;5;28;43mself\u001B[39;49m\u001B[43m.\u001B[49m\u001B[43maggr_module\u001B[49m\u001B[43m(\u001B[49m\u001B[43minputs\u001B[49m\u001B[43m,\u001B[49m\u001B[43m \u001B[49m\u001B[43mindex\u001B[49m\u001B[43m,\u001B[49m\u001B[43m \u001B[49m\u001B[43mptr\u001B[49m\u001B[43m=\u001B[49m\u001B[43mptr\u001B[49m\u001B[43m,\u001B[49m\u001B[43m \u001B[49m\u001B[43mdim_size\u001B[49m\u001B[43m=\u001B[49m\u001B[43mdim_size\u001B[49m\u001B[43m,\u001B[49m\n\u001B[32m    595\u001B[39m \u001B[43m                            \u001B[49m\u001B[43mdim\u001B[49m\u001B[43m=\u001B[49m\u001B[38;5;28;43mself\u001B[39;49m\u001B[43m.\u001B[49m\u001B[43mnode_dim\u001B[49m\u001B[43m)\u001B[49m\n",
      "\u001B[36mFile \u001B[39m\u001B[32m/opt/anaconda3/envs/py311/lib/python3.11/site-packages/torch_geometric/experimental.py:117\u001B[39m, in \u001B[36mdisable_dynamic_shapes.<locals>.decorator.<locals>.wrapper\u001B[39m\u001B[34m(*args, **kwargs)\u001B[39m\n\u001B[32m    114\u001B[39m \u001B[38;5;129m@functools\u001B[39m.wraps(func)\n\u001B[32m    115\u001B[39m \u001B[38;5;28;01mdef\u001B[39;00m\u001B[38;5;250m \u001B[39m\u001B[34mwrapper\u001B[39m(*args: Any, **kwargs: Any) -> Any:\n\u001B[32m    116\u001B[39m     \u001B[38;5;28;01mif\u001B[39;00m \u001B[38;5;129;01mnot\u001B[39;00m is_experimental_mode_enabled(\u001B[33m'\u001B[39m\u001B[33mdisable_dynamic_shapes\u001B[39m\u001B[33m'\u001B[39m):\n\u001B[32m--> \u001B[39m\u001B[32m117\u001B[39m         \u001B[38;5;28;01mreturn\u001B[39;00m \u001B[43mfunc\u001B[49m\u001B[43m(\u001B[49m\u001B[43m*\u001B[49m\u001B[43margs\u001B[49m\u001B[43m,\u001B[49m\u001B[43m \u001B[49m\u001B[43m*\u001B[49m\u001B[43m*\u001B[49m\u001B[43mkwargs\u001B[49m\u001B[43m)\u001B[49m\n\u001B[32m    119\u001B[39m     \u001B[38;5;28;01mfor\u001B[39;00m required_arg \u001B[38;5;129;01min\u001B[39;00m required_args:\n\u001B[32m    120\u001B[39m         index = required_args_pos[required_arg]\n",
      "\u001B[36mFile \u001B[39m\u001B[32m/opt/anaconda3/envs/py311/lib/python3.11/site-packages/torch_geometric/nn/aggr/base.py:131\u001B[39m, in \u001B[36mAggregation.__call__\u001B[39m\u001B[34m(self, x, index, ptr, dim_size, dim, **kwargs)\u001B[39m\n\u001B[32m    128\u001B[39m     dim_size = \u001B[38;5;28mint\u001B[39m(index.max()) + \u001B[32m1\u001B[39m \u001B[38;5;28;01mif\u001B[39;00m index.numel() > \u001B[32m0\u001B[39m \u001B[38;5;28;01melse\u001B[39;00m \u001B[32m0\u001B[39m\n\u001B[32m    130\u001B[39m \u001B[38;5;28;01mtry\u001B[39;00m:\n\u001B[32m--> \u001B[39m\u001B[32m131\u001B[39m     \u001B[38;5;28;01mreturn\u001B[39;00m \u001B[38;5;28;43msuper\u001B[39;49m\u001B[43m(\u001B[49m\u001B[43m)\u001B[49m\u001B[43m.\u001B[49m\u001B[34;43m__call__\u001B[39;49m\u001B[43m(\u001B[49m\u001B[43mx\u001B[49m\u001B[43m,\u001B[49m\u001B[43m \u001B[49m\u001B[43mindex\u001B[49m\u001B[43m=\u001B[49m\u001B[43mindex\u001B[49m\u001B[43m,\u001B[49m\u001B[43m \u001B[49m\u001B[43mptr\u001B[49m\u001B[43m=\u001B[49m\u001B[43mptr\u001B[49m\u001B[43m,\u001B[49m\u001B[43m \u001B[49m\u001B[43mdim_size\u001B[49m\u001B[43m=\u001B[49m\u001B[43mdim_size\u001B[49m\u001B[43m,\u001B[49m\n\u001B[32m    132\u001B[39m \u001B[43m                            \u001B[49m\u001B[43mdim\u001B[49m\u001B[43m=\u001B[49m\u001B[43mdim\u001B[49m\u001B[43m,\u001B[49m\u001B[43m \u001B[49m\u001B[43m*\u001B[49m\u001B[43m*\u001B[49m\u001B[43mkwargs\u001B[49m\u001B[43m)\u001B[49m\n\u001B[32m    133\u001B[39m \u001B[38;5;28;01mexcept\u001B[39;00m (\u001B[38;5;167;01mIndexError\u001B[39;00m, \u001B[38;5;167;01mRuntimeError\u001B[39;00m) \u001B[38;5;28;01mas\u001B[39;00m e:\n\u001B[32m    134\u001B[39m     \u001B[38;5;28;01mif\u001B[39;00m index \u001B[38;5;129;01mis\u001B[39;00m \u001B[38;5;129;01mnot\u001B[39;00m \u001B[38;5;28;01mNone\u001B[39;00m:\n",
      "\u001B[36mFile \u001B[39m\u001B[32m/opt/anaconda3/envs/py311/lib/python3.11/site-packages/torch/nn/modules/module.py:1773\u001B[39m, in \u001B[36mModule._wrapped_call_impl\u001B[39m\u001B[34m(self, *args, **kwargs)\u001B[39m\n\u001B[32m   1771\u001B[39m     \u001B[38;5;28;01mreturn\u001B[39;00m \u001B[38;5;28mself\u001B[39m._compiled_call_impl(*args, **kwargs)  \u001B[38;5;66;03m# type: ignore[misc]\u001B[39;00m\n\u001B[32m   1772\u001B[39m \u001B[38;5;28;01melse\u001B[39;00m:\n\u001B[32m-> \u001B[39m\u001B[32m1773\u001B[39m     \u001B[38;5;28;01mreturn\u001B[39;00m \u001B[38;5;28;43mself\u001B[39;49m\u001B[43m.\u001B[49m\u001B[43m_call_impl\u001B[49m\u001B[43m(\u001B[49m\u001B[43m*\u001B[49m\u001B[43margs\u001B[49m\u001B[43m,\u001B[49m\u001B[43m \u001B[49m\u001B[43m*\u001B[49m\u001B[43m*\u001B[49m\u001B[43mkwargs\u001B[49m\u001B[43m)\u001B[49m\n",
      "\u001B[36mFile \u001B[39m\u001B[32m/opt/anaconda3/envs/py311/lib/python3.11/site-packages/torch/nn/modules/module.py:1784\u001B[39m, in \u001B[36mModule._call_impl\u001B[39m\u001B[34m(self, *args, **kwargs)\u001B[39m\n\u001B[32m   1779\u001B[39m \u001B[38;5;66;03m# If we don't have any hooks, we want to skip the rest of the logic in\u001B[39;00m\n\u001B[32m   1780\u001B[39m \u001B[38;5;66;03m# this function, and just call forward.\u001B[39;00m\n\u001B[32m   1781\u001B[39m \u001B[38;5;28;01mif\u001B[39;00m \u001B[38;5;129;01mnot\u001B[39;00m (\u001B[38;5;28mself\u001B[39m._backward_hooks \u001B[38;5;129;01mor\u001B[39;00m \u001B[38;5;28mself\u001B[39m._backward_pre_hooks \u001B[38;5;129;01mor\u001B[39;00m \u001B[38;5;28mself\u001B[39m._forward_hooks \u001B[38;5;129;01mor\u001B[39;00m \u001B[38;5;28mself\u001B[39m._forward_pre_hooks\n\u001B[32m   1782\u001B[39m         \u001B[38;5;129;01mor\u001B[39;00m _global_backward_pre_hooks \u001B[38;5;129;01mor\u001B[39;00m _global_backward_hooks\n\u001B[32m   1783\u001B[39m         \u001B[38;5;129;01mor\u001B[39;00m _global_forward_hooks \u001B[38;5;129;01mor\u001B[39;00m _global_forward_pre_hooks):\n\u001B[32m-> \u001B[39m\u001B[32m1784\u001B[39m     \u001B[38;5;28;01mreturn\u001B[39;00m \u001B[43mforward_call\u001B[49m\u001B[43m(\u001B[49m\u001B[43m*\u001B[49m\u001B[43margs\u001B[49m\u001B[43m,\u001B[49m\u001B[43m \u001B[49m\u001B[43m*\u001B[49m\u001B[43m*\u001B[49m\u001B[43mkwargs\u001B[49m\u001B[43m)\u001B[49m\n\u001B[32m   1786\u001B[39m result = \u001B[38;5;28;01mNone\u001B[39;00m\n\u001B[32m   1787\u001B[39m called_always_called_hooks = \u001B[38;5;28mset\u001B[39m()\n",
      "\u001B[36mFile \u001B[39m\u001B[32m/opt/anaconda3/envs/py311/lib/python3.11/site-packages/torch_geometric/nn/aggr/basic.py:22\u001B[39m, in \u001B[36mSumAggregation.forward\u001B[39m\u001B[34m(self, x, index, ptr, dim_size, dim)\u001B[39m\n\u001B[32m     19\u001B[39m \u001B[38;5;28;01mdef\u001B[39;00m\u001B[38;5;250m \u001B[39m\u001B[34mforward\u001B[39m(\u001B[38;5;28mself\u001B[39m, x: Tensor, index: Optional[Tensor] = \u001B[38;5;28;01mNone\u001B[39;00m,\n\u001B[32m     20\u001B[39m             ptr: Optional[Tensor] = \u001B[38;5;28;01mNone\u001B[39;00m, dim_size: Optional[\u001B[38;5;28mint\u001B[39m] = \u001B[38;5;28;01mNone\u001B[39;00m,\n\u001B[32m     21\u001B[39m             dim: \u001B[38;5;28mint\u001B[39m = -\u001B[32m2\u001B[39m) -> Tensor:\n\u001B[32m---> \u001B[39m\u001B[32m22\u001B[39m     \u001B[38;5;28;01mreturn\u001B[39;00m \u001B[38;5;28;43mself\u001B[39;49m\u001B[43m.\u001B[49m\u001B[43mreduce\u001B[49m\u001B[43m(\u001B[49m\u001B[43mx\u001B[49m\u001B[43m,\u001B[49m\u001B[43m \u001B[49m\u001B[43mindex\u001B[49m\u001B[43m,\u001B[49m\u001B[43m \u001B[49m\u001B[43mptr\u001B[49m\u001B[43m,\u001B[49m\u001B[43m \u001B[49m\u001B[43mdim_size\u001B[49m\u001B[43m,\u001B[49m\u001B[43m \u001B[49m\u001B[43mdim\u001B[49m\u001B[43m,\u001B[49m\u001B[43m \u001B[49m\u001B[43mreduce\u001B[49m\u001B[43m=\u001B[49m\u001B[33;43m'\u001B[39;49m\u001B[33;43msum\u001B[39;49m\u001B[33;43m'\u001B[39;49m\u001B[43m)\u001B[49m\n",
      "\u001B[36mFile \u001B[39m\u001B[32m/opt/anaconda3/envs/py311/lib/python3.11/site-packages/torch_geometric/nn/aggr/base.py:185\u001B[39m, in \u001B[36mAggregation.reduce\u001B[39m\u001B[34m(self, x, index, ptr, dim_size, dim, reduce)\u001B[39m\n\u001B[32m    182\u001B[39m \u001B[38;5;28;01mif\u001B[39;00m index \u001B[38;5;129;01mis\u001B[39;00m \u001B[38;5;28;01mNone\u001B[39;00m:\n\u001B[32m    183\u001B[39m     \u001B[38;5;28;01mraise\u001B[39;00m \u001B[38;5;167;01mRuntimeError\u001B[39;00m(\u001B[33m\"\u001B[39m\u001B[33mAggregation requires \u001B[39m\u001B[33m'\u001B[39m\u001B[33mindex\u001B[39m\u001B[33m'\u001B[39m\u001B[33m to be specified\u001B[39m\u001B[33m\"\u001B[39m)\n\u001B[32m--> \u001B[39m\u001B[32m185\u001B[39m \u001B[38;5;28;01mreturn\u001B[39;00m \u001B[43mscatter\u001B[49m\u001B[43m(\u001B[49m\u001B[43mx\u001B[49m\u001B[43m,\u001B[49m\u001B[43m \u001B[49m\u001B[43mindex\u001B[49m\u001B[43m,\u001B[49m\u001B[43m \u001B[49m\u001B[43mdim\u001B[49m\u001B[43m,\u001B[49m\u001B[43m \u001B[49m\u001B[43mdim_size\u001B[49m\u001B[43m,\u001B[49m\u001B[43m \u001B[49m\u001B[43mreduce\u001B[49m\u001B[43m)\u001B[49m\n",
      "\u001B[36mFile \u001B[39m\u001B[32m/opt/anaconda3/envs/py311/lib/python3.11/site-packages/torch_geometric/utils/_scatter.py:75\u001B[39m, in \u001B[36mscatter\u001B[39m\u001B[34m(src, index, dim, dim_size, reduce)\u001B[39m\n\u001B[32m     73\u001B[39m \u001B[38;5;28;01mif\u001B[39;00m reduce == \u001B[33m'\u001B[39m\u001B[33msum\u001B[39m\u001B[33m'\u001B[39m \u001B[38;5;129;01mor\u001B[39;00m reduce == \u001B[33m'\u001B[39m\u001B[33madd\u001B[39m\u001B[33m'\u001B[39m:\n\u001B[32m     74\u001B[39m     index = broadcast(index, src, dim)\n\u001B[32m---> \u001B[39m\u001B[32m75\u001B[39m     \u001B[38;5;28;01mreturn\u001B[39;00m \u001B[43msrc\u001B[49m\u001B[43m.\u001B[49m\u001B[43mnew_zeros\u001B[49m\u001B[43m(\u001B[49m\u001B[43msize\u001B[49m\u001B[43m)\u001B[49m\u001B[43m.\u001B[49m\u001B[43mscatter_add_\u001B[49m\u001B[43m(\u001B[49m\u001B[43mdim\u001B[49m\u001B[43m,\u001B[49m\u001B[43m \u001B[49m\u001B[43mindex\u001B[49m\u001B[43m,\u001B[49m\u001B[43m \u001B[49m\u001B[43msrc\u001B[49m\u001B[43m)\u001B[49m\n\u001B[32m     77\u001B[39m \u001B[38;5;28;01mif\u001B[39;00m reduce == \u001B[33m'\u001B[39m\u001B[33mmean\u001B[39m\u001B[33m'\u001B[39m:\n\u001B[32m     78\u001B[39m     count = src.new_zeros(dim_size)\n",
      "\u001B[31mKeyboardInterrupt\u001B[39m: "
     ]
    }
   ],
   "execution_count": 8
  },
  {
   "metadata": {},
   "cell_type": "code",
   "source": [
    "dataset = \"WN18RR\"\n",
    "train_p = Path(\"../WN18RR/train.txt\")\n",
    "valid_p = Path(\"../WN18RR/valid.txt\")\n",
    "test_p  = Path(\"../WN18RR/test.txt\")\n",
    "\n",
    "dm_typed = KGDataModuleTyped(\n",
    "    train_p, valid_p, test_p,\n",
    "    add_reverse=True,\n",
    "    reverse_relation_strategy=\"duplicate_rel\",\n",
    ")\n",
    "\n",
    "num_nodes = len(dm_typed.ent2id)\n",
    "num_relations = len(dm_typed.rel2id)\n",
    "emb_dim = 128\n",
    "num_layers = 4\n",
    "hidden_layers = 2\n",
    "\n",
    "# --- 1) R-GIN + DistMult ---\n",
    "enc_dm = RelationalGINEncoder( num_nodes=num_nodes, num_relations=num_relations, emb_dim=emb_dim, num_layers=num_layers, hidden_layers=hidden_layers, dropout=0.1, train_eps=True\n",
    "                               )\n",
    "dec_dm = DistMultDecoder(num_relations=num_relations, dim=emb_dim)\n",
    "\n",
    "res_distmult = train_linkpred_typed(\n",
    "    enc_dm, dec_dm, dm_typed,\n",
    "    epochs=100, lr=1e-3, weight_decay=1e-4, patience=10,\n",
    "    show_tqdm=True,\n",
    "    save_best_path=f\"checkpoints/embed_rel/{dataset}/best_rgin_distmult_embed_dim={emb_dim}_mlp_depth={hidden_layers}_aggre={num_layers}_dataset={dataset}.pt\",\n",
    "    save_on_improve=True,\n",
    "    hparams={\"dataset\": dataset, \"decoder\": \"DistMult\", \"emb_dim\": emb_dim, \"num_layers\": num_layers, \"hidden_layers\": hidden_layers}\n",
    ")\n",
    "\n",
    "\n",
    "print_training_report(\n",
    "    model_name = \"R-GIN_embed_rel + Distmult\",\n",
    "    result = res_distmult,\n",
    "    header_title = \"Model Training Results\",\n",
    "    save_path=f\"results/embed_rel/{dataset}/embed_rel_gin_report_embed_dim={emb_dim}_mlp_depth={hidden_layers}_aggre={num_layers}_dataset={dataset}.txt\"\n",
    ")"
   ],
   "id": "9ca44ac52bb4ebe9",
   "outputs": [],
   "execution_count": null
  },
  {
   "metadata": {},
   "cell_type": "code",
   "outputs": [],
   "execution_count": null,
   "source": "",
   "id": "d912b339cb439010"
  },
  {
   "metadata": {},
   "cell_type": "markdown",
   "source": "# FB15k-237 training",
   "id": "846dbb3fd1c8539d"
  },
  {
   "metadata": {
    "ExecuteTime": {
     "end_time": "2025-10-15T09:23:39.430746344Z",
     "start_time": "2025-10-14T19:10:15.214325Z"
    }
   },
   "cell_type": "code",
   "source": [
    "from dataset_loader import KGDataModuleTyped\n",
    "\n",
    "dataset = \"FB15K-237\"\n",
    "train_p = Path(\"../FB15K-237/train.txt\")\n",
    "valid_p = Path(\"../FB15K-237/valid.txt\")\n",
    "test_p  = Path(\"../FB15K-237/test.txt\")\n",
    "\n",
    "dm_typed = KGDataModuleTyped(\n",
    "    train_p, valid_p, test_p,\n",
    "    add_reverse=True,\n",
    "    reverse_relation_strategy=\"duplicate_rel\",\n",
    ")\n",
    "\n",
    "num_nodes = len(dm_typed.ent2id)\n",
    "num_relations = len(dm_typed.rel2id)\n",
    "emb_dim = 128\n",
    "num_layers = 3\n",
    "hidden_layers = 3\n",
    "\n",
    "# --- 1) R-GIN + DistMult ---\n",
    "enc_dm = RelationalGINEncoder( num_nodes=num_nodes, num_relations=num_relations, emb_dim=emb_dim, num_layers=num_layers, hidden_layers=hidden_layers, dropout=0.1, train_eps=True\n",
    "                               )\n",
    "dec_dm = DistMultDecoder(num_relations=num_relations, dim=emb_dim)\n",
    "\n",
    "res_distmult = train_linkpred_typed(\n",
    "    enc_dm, dec_dm, dm_typed,\n",
    "    epochs=100, lr=1e-3, weight_decay=1e-4, patience=10,\n",
    "    show_tqdm=True,\n",
    "    save_best_path=f\"checkpoints/embed_rel/{dataset}/best_rgin_distmult_embed_dim={emb_dim}_mlp_depth={hidden_layers}_aggre={num_layers}_dataset={dataset}.pt\",\n",
    "    save_on_improve=True,\n",
    "    hparams={\"dataset\": dataset, \"decoder\": \"DistMult\", \"emb_dim\": emb_dim, \"num_layers\": num_layers, \"hidden_layers\": hidden_layers}\n",
    ")\n",
    "\n",
    "# --- 2) R-GIN + DotProduct ---\n",
    "enc_dot = RelationalGINEncoder(\n",
    "    num_nodes=num_nodes,\n",
    "    num_relations=num_relations,\n",
    "    emb_dim=emb_dim,\n",
    "    num_layers=num_layers,\n",
    "    hidden_layers=hidden_layers,\n",
    "    dropout=0.1,\n",
    "    train_eps=True,\n",
    ")\n",
    "dec_dot = DotProductDecoder()\n",
    "\n",
    "res_dot = train_linkpred_typed(\n",
    "    enc_dot, dec_dot, dm_typed,\n",
    "    epochs=100, lr=1e-3, weight_decay=1e-4, patience=10,\n",
    "    show_tqdm=True,\n",
    "    save_best_path=f\"checkpoints/embed_rel/{dataset}/best_rgin_dot_embed_dim={emb_dim}_mlp_depth={hidden_layers}_aggre={num_layers}_dataset={dataset}.pt\",\n",
    "    save_on_improve=True,\n",
    "    hparams={\"dataset\": dataset, \"decoder\": \"DotProduct\", \"emb_dim\": emb_dim, \"num_layers\": num_layers, \"hidden_layers\": hidden_layers}\n",
    ")\n",
    "\n",
    "# --- 3) Single combined report ---\n",
    "print_comparison_report(\n",
    "    title=\"Typed Link Prediction: Decoder Comparison\",\n",
    "    left_name=\"R-GIN + DistMult\",\n",
    "    left_result=res_distmult,\n",
    "    right_name=\"R-GIN + DotProduct\",\n",
    "    right_result=res_dot,\n",
    "    save_path=f\"results/embed_rel/{dataset}/comparison_rgin_distmult_vs_dot_embed_dim={emb_dim}_mlp_depth={hidden_layers}_aggre={num_layers}_dataset={dataset}.txt\"\n",
    ")\n",
    "\n",
    "\n",
    "dm_typed = KGDataModuleTyped(\n",
    "    train_p, valid_p, test_p,\n",
    "    add_reverse=True,\n",
    "    reverse_relation_strategy=\"duplicate_rel\",\n",
    ")\n",
    "\n",
    "num_nodes = len(dm_typed.ent2id)\n",
    "num_relations = len(dm_typed.rel2id)\n",
    "emb_dim = 128\n",
    "num_layers = 2\n",
    "hidden_layers = 3\n",
    "\n",
    "# --- 1) R-GIN + DistMult ---\n",
    "enc_dm = RelationalGINEncoder( num_nodes=num_nodes, num_relations=num_relations, emb_dim=emb_dim, num_layers=num_layers, hidden_layers=hidden_layers, dropout=0.1, train_eps=True\n",
    "                               )\n",
    "dec_dm = DistMultDecoder(num_relations=num_relations, dim=emb_dim)\n",
    "\n",
    "res_distmult = train_linkpred_typed(\n",
    "    enc_dm, dec_dm, dm_typed,\n",
    "    epochs=100, lr=1e-3, weight_decay=1e-4, patience=10,\n",
    "    show_tqdm=True,\n",
    "    save_best_path=f\"checkpoints/embed_rel/{dataset}/best_rgin_distmult_embed_dim={emb_dim}_mlp_depth={hidden_layers}_aggre={num_layers}_dataset={dataset}.pt\",\n",
    "    save_on_improve=True,\n",
    "    hparams={\"dataset\": dataset, \"decoder\": \"DistMult\", \"emb_dim\": emb_dim, \"num_layers\": num_layers, \"hidden_layers\": hidden_layers}\n",
    ")\n",
    "\n",
    "print_training_report(\n",
    "    model_name = \"R-GIN_embed_rel + Distmult\",\n",
    "    result = res_distmult,\n",
    "    header_title = \"Model Training Results\",\n",
    "    save_path=f\"results/embed_rel/{dataset}/embed_rel_gin_report_embed_dim={emb_dim}_mlp_depth={hidden_layers}_aggre={num_layers}_dataset={dataset}.txt\"\n",
    ")\n",
    "\n",
    "\n",
    "\n",
    "dm_typed = KGDataModuleTyped(\n",
    "    train_p, valid_p, test_p,\n",
    "    add_reverse=True,\n",
    "    reverse_relation_strategy=\"duplicate_rel\",\n",
    ")\n",
    "\n",
    "num_nodes = len(dm_typed.ent2id)\n",
    "num_relations = len(dm_typed.rel2id)\n",
    "emb_dim = 128\n",
    "num_layers = 4\n",
    "hidden_layers = 3\n",
    "\n",
    "# --- 1) R-GIN + DistMult ---\n",
    "enc_dm = RelationalGINEncoder( num_nodes=num_nodes, num_relations=num_relations, emb_dim=emb_dim, num_layers=num_layers, hidden_layers=hidden_layers, dropout=0.1, train_eps=True\n",
    "                               )\n",
    "dec_dm = DistMultDecoder(num_relations=num_relations, dim=emb_dim)\n",
    "\n",
    "res_distmult = train_linkpred_typed(\n",
    "    enc_dm, dec_dm, dm_typed,\n",
    "    epochs=100, lr=1e-3, weight_decay=1e-4, patience=10,\n",
    "    show_tqdm=True,\n",
    "    save_best_path=f\"checkpoints/embed_rel/{dataset}/best_rgin_distmult_embed_dim={emb_dim}_mlp_depth={hidden_layers}_aggre={num_layers}_dataset={dataset}.pt\",\n",
    "    save_on_improve=True,\n",
    "    hparams={\"dataset\": dataset, \"decoder\": \"DistMult\", \"emb_dim\": emb_dim, \"num_layers\": num_layers, \"hidden_layers\": hidden_layers}\n",
    ")\n",
    "\n",
    "print_training_report(\n",
    "    model_name = \"R-GIN_embed_rel + Distmult\",\n",
    "    result = res_distmult,\n",
    "    header_title = \"Model Training Results\",\n",
    "    save_path=f\"results/embed_rel/{dataset}/embed_rel_gin_report_embed_dim={emb_dim}_mlp_depth={hidden_layers}_aggre={num_layers}_dataset={dataset}.txt\"\n",
    ")\n",
    "\n",
    "\n",
    "dm_typed = KGDataModuleTyped(\n",
    "    train_p, valid_p, test_p,\n",
    "    add_reverse=True,\n",
    "    reverse_relation_strategy=\"duplicate_rel\",\n",
    ")\n",
    "\n",
    "num_nodes = len(dm_typed.ent2id)\n",
    "num_relations = len(dm_typed.rel2id)\n",
    "emb_dim = 128\n",
    "num_layers = 4\n",
    "hidden_layers = 4\n",
    "\n",
    "# --- 1) R-GIN + DistMult ---\n",
    "enc_dm = RelationalGINEncoder( num_nodes=num_nodes, num_relations=num_relations, emb_dim=emb_dim, num_layers=num_layers, hidden_layers=hidden_layers, dropout=0.1, train_eps=True\n",
    "                               )\n",
    "dec_dm = DistMultDecoder(num_relations=num_relations, dim=emb_dim)\n",
    "\n",
    "res_distmult = train_linkpred_typed(\n",
    "    enc_dm, dec_dm, dm_typed,\n",
    "    epochs=100, lr=1e-3, weight_decay=1e-4, patience=10,\n",
    "    show_tqdm=True,\n",
    "    save_best_path=f\"checkpoints/embed_rel/{dataset}/best_rgin_distmult_embed_dim={emb_dim}_mlp_depth={hidden_layers}_aggre={num_layers}_dataset={dataset}.pt\",\n",
    "    save_on_improve=True,\n",
    "    hparams={\"dataset\": dataset, \"decoder\": \"DistMult\", \"emb_dim\": emb_dim, \"num_layers\": num_layers, \"hidden_layers\": hidden_layers}\n",
    ")\n",
    "\n",
    "\n",
    "print_training_report(\n",
    "    model_name = \"R-GIN_embed_rel + Distmult\",\n",
    "    result = res_distmult,\n",
    "    header_title = \"Model Training Results\",\n",
    "    save_path=f\"results/embed_rel/{dataset}/embed_rel_gin_report_embed_dim={emb_dim}_mlp_depth={hidden_layers}_aggre={num_layers}_dataset={dataset}.txt\"\n",
    ")"
   ],
   "id": "4011077d5d5c8e89",
   "outputs": [
    {
     "data": {
      "text/plain": [
       "Epochs (typed):   0%|          | 0/100 [00:00<?, ?it/s]"
      ],
      "application/vnd.jupyter.widget-view+json": {
       "version_major": 2,
       "version_minor": 0,
       "model_id": "49cfffeaddbc4653a895aa5951247a61"
      }
     },
     "metadata": {},
     "output_type": "display_data",
     "jetTransient": {
      "display_id": null
     }
    },
    {
     "data": {
      "text/plain": [
       "Train 1:   0%|          | 0/266 [00:00<?, ?it/s]"
      ],
      "application/vnd.jupyter.widget-view+json": {
       "version_major": 2,
       "version_minor": 0,
       "model_id": "ca12b22bff7a4d8ba1e9ffd0d2f6890b"
      }
     },
     "metadata": {},
     "output_type": "display_data",
     "jetTransient": {
      "display_id": null
     }
    },
    {
     "data": {
      "text/plain": [
       "Eval AUC (typed):   0%|          | 0/18 [00:00<?, ?it/s]"
      ],
      "application/vnd.jupyter.widget-view+json": {
       "version_major": 2,
       "version_minor": 0,
       "model_id": "14c248bcaf4e420bb59b7542090dff8a"
      }
     },
     "metadata": {},
     "output_type": "display_data",
     "jetTransient": {
      "display_id": null
     }
    },
    {
     "data": {
      "text/plain": [
       "Eval Hits (tail):   0%|          | 0/18 [00:00<?, ?it/s]"
      ],
      "application/vnd.jupyter.widget-view+json": {
       "version_major": 2,
       "version_minor": 0,
       "model_id": "e723fbde123a49549f4e97f4a0f89a30"
      }
     },
     "metadata": {},
     "output_type": "display_data",
     "jetTransient": {
      "display_id": null
     }
    },
    {
     "name": "stdout",
     "output_type": "stream",
     "text": [
      "Epoch 001 | loss=0.3959 | AUC=0.9575 | H@1=0.3923 | H@5=0.7017 | H@10=0.8318\n"
     ]
    },
    {
     "data": {
      "text/plain": [
       "Train 2:   0%|          | 0/266 [00:00<?, ?it/s]"
      ],
      "application/vnd.jupyter.widget-view+json": {
       "version_major": 2,
       "version_minor": 0,
       "model_id": "81f43ea24a4041ceb25cd42a60f7c9fc"
      }
     },
     "metadata": {},
     "output_type": "display_data",
     "jetTransient": {
      "display_id": null
     }
    },
    {
     "data": {
      "text/plain": [
       "Eval AUC (typed):   0%|          | 0/18 [00:00<?, ?it/s]"
      ],
      "application/vnd.jupyter.widget-view+json": {
       "version_major": 2,
       "version_minor": 0,
       "model_id": "6247091b237b4b32894de716c359ef41"
      }
     },
     "metadata": {},
     "output_type": "display_data",
     "jetTransient": {
      "display_id": null
     }
    },
    {
     "data": {
      "text/plain": [
       "Eval Hits (tail):   0%|          | 0/18 [00:00<?, ?it/s]"
      ],
      "application/vnd.jupyter.widget-view+json": {
       "version_major": 2,
       "version_minor": 0,
       "model_id": "d94508840a3d43faac6fbfbcd4b531f6"
      }
     },
     "metadata": {},
     "output_type": "display_data",
     "jetTransient": {
      "display_id": null
     }
    },
    {
     "name": "stdout",
     "output_type": "stream",
     "text": [
      "Epoch 002 | loss=0.2093 | AUC=0.9676 | H@1=0.4467 | H@5=0.7541 | H@10=0.8670\n"
     ]
    },
    {
     "data": {
      "text/plain": [
       "Train 3:   0%|          | 0/266 [00:00<?, ?it/s]"
      ],
      "application/vnd.jupyter.widget-view+json": {
       "version_major": 2,
       "version_minor": 0,
       "model_id": "08e75d601b2a4d1db59713e1366f7b29"
      }
     },
     "metadata": {},
     "output_type": "display_data",
     "jetTransient": {
      "display_id": null
     }
    },
    {
     "data": {
      "text/plain": [
       "Eval AUC (typed):   0%|          | 0/18 [00:00<?, ?it/s]"
      ],
      "application/vnd.jupyter.widget-view+json": {
       "version_major": 2,
       "version_minor": 0,
       "model_id": "bf28addb36224676bb6b8fb006a3df40"
      }
     },
     "metadata": {},
     "output_type": "display_data",
     "jetTransient": {
      "display_id": null
     }
    },
    {
     "data": {
      "text/plain": [
       "Eval Hits (tail):   0%|          | 0/18 [00:00<?, ?it/s]"
      ],
      "application/vnd.jupyter.widget-view+json": {
       "version_major": 2,
       "version_minor": 0,
       "model_id": "4652de9786b1410ba901d0c8e32607d2"
      }
     },
     "metadata": {},
     "output_type": "display_data",
     "jetTransient": {
      "display_id": null
     }
    },
    {
     "name": "stdout",
     "output_type": "stream",
     "text": [
      "Epoch 003 | loss=0.1854 | AUC=0.9701 | H@1=0.4669 | H@5=0.7735 | H@10=0.8838\n"
     ]
    },
    {
     "data": {
      "text/plain": [
       "Train 4:   0%|          | 0/266 [00:00<?, ?it/s]"
      ],
      "application/vnd.jupyter.widget-view+json": {
       "version_major": 2,
       "version_minor": 0,
       "model_id": "d3da99827e8c4e0f9d9dfc84e423f7df"
      }
     },
     "metadata": {},
     "output_type": "display_data",
     "jetTransient": {
      "display_id": null
     }
    },
    {
     "data": {
      "text/plain": [
       "Eval AUC (typed):   0%|          | 0/18 [00:00<?, ?it/s]"
      ],
      "application/vnd.jupyter.widget-view+json": {
       "version_major": 2,
       "version_minor": 0,
       "model_id": "531647d05aa5436ea4fa9085e5e319d9"
      }
     },
     "metadata": {},
     "output_type": "display_data",
     "jetTransient": {
      "display_id": null
     }
    },
    {
     "data": {
      "text/plain": [
       "Eval Hits (tail):   0%|          | 0/18 [00:00<?, ?it/s]"
      ],
      "application/vnd.jupyter.widget-view+json": {
       "version_major": 2,
       "version_minor": 0,
       "model_id": "6cb0350048944deab2a37ca8373ac6c7"
      }
     },
     "metadata": {},
     "output_type": "display_data",
     "jetTransient": {
      "display_id": null
     }
    },
    {
     "name": "stdout",
     "output_type": "stream",
     "text": [
      "Epoch 004 | loss=0.1734 | AUC=0.9717 | H@1=0.4762 | H@5=0.7799 | H@10=0.8877\n"
     ]
    },
    {
     "data": {
      "text/plain": [
       "Train 5:   0%|          | 0/266 [00:00<?, ?it/s]"
      ],
      "application/vnd.jupyter.widget-view+json": {
       "version_major": 2,
       "version_minor": 0,
       "model_id": "5181e46d21c249239e51d1dbc6790059"
      }
     },
     "metadata": {},
     "output_type": "display_data",
     "jetTransient": {
      "display_id": null
     }
    },
    {
     "data": {
      "text/plain": [
       "Eval AUC (typed):   0%|          | 0/18 [00:00<?, ?it/s]"
      ],
      "application/vnd.jupyter.widget-view+json": {
       "version_major": 2,
       "version_minor": 0,
       "model_id": "90d4bee6aa6b436380dc9f7d0204cc99"
      }
     },
     "metadata": {},
     "output_type": "display_data",
     "jetTransient": {
      "display_id": null
     }
    },
    {
     "data": {
      "text/plain": [
       "Eval Hits (tail):   0%|          | 0/18 [00:00<?, ?it/s]"
      ],
      "application/vnd.jupyter.widget-view+json": {
       "version_major": 2,
       "version_minor": 0,
       "model_id": "7b3cafac7b294a97afe96d02cdbbb312"
      }
     },
     "metadata": {},
     "output_type": "display_data",
     "jetTransient": {
      "display_id": null
     }
    },
    {
     "name": "stdout",
     "output_type": "stream",
     "text": [
      "Epoch 005 | loss=0.1650 | AUC=0.9741 | H@1=0.4892 | H@5=0.7867 | H@10=0.8918\n"
     ]
    },
    {
     "data": {
      "text/plain": [
       "Train 6:   0%|          | 0/266 [00:00<?, ?it/s]"
      ],
      "application/vnd.jupyter.widget-view+json": {
       "version_major": 2,
       "version_minor": 0,
       "model_id": "08e5f8d3517f4ad38537e9f2f594c43c"
      }
     },
     "metadata": {},
     "output_type": "display_data",
     "jetTransient": {
      "display_id": null
     }
    },
    {
     "data": {
      "text/plain": [
       "Eval AUC (typed):   0%|          | 0/18 [00:00<?, ?it/s]"
      ],
      "application/vnd.jupyter.widget-view+json": {
       "version_major": 2,
       "version_minor": 0,
       "model_id": "589e0b82cdde4676b5c4442028102a46"
      }
     },
     "metadata": {},
     "output_type": "display_data",
     "jetTransient": {
      "display_id": null
     }
    },
    {
     "data": {
      "text/plain": [
       "Eval Hits (tail):   0%|          | 0/18 [00:00<?, ?it/s]"
      ],
      "application/vnd.jupyter.widget-view+json": {
       "version_major": 2,
       "version_minor": 0,
       "model_id": "812213c1dc8b4c97ab97c49033af36be"
      }
     },
     "metadata": {},
     "output_type": "display_data",
     "jetTransient": {
      "display_id": null
     }
    },
    {
     "name": "stdout",
     "output_type": "stream",
     "text": [
      "Epoch 006 | loss=0.1595 | AUC=0.9752 | H@1=0.4915 | H@5=0.7908 | H@10=0.8957\n"
     ]
    },
    {
     "data": {
      "text/plain": [
       "Train 7:   0%|          | 0/266 [00:00<?, ?it/s]"
      ],
      "application/vnd.jupyter.widget-view+json": {
       "version_major": 2,
       "version_minor": 0,
       "model_id": "ff8f00fa5e3f4abfa465793593fb4d4d"
      }
     },
     "metadata": {},
     "output_type": "display_data",
     "jetTransient": {
      "display_id": null
     }
    },
    {
     "data": {
      "text/plain": [
       "Eval AUC (typed):   0%|          | 0/18 [00:00<?, ?it/s]"
      ],
      "application/vnd.jupyter.widget-view+json": {
       "version_major": 2,
       "version_minor": 0,
       "model_id": "b486f2e1539f41e083c6cf4fab74e52e"
      }
     },
     "metadata": {},
     "output_type": "display_data",
     "jetTransient": {
      "display_id": null
     }
    },
    {
     "data": {
      "text/plain": [
       "Eval Hits (tail):   0%|          | 0/18 [00:00<?, ?it/s]"
      ],
      "application/vnd.jupyter.widget-view+json": {
       "version_major": 2,
       "version_minor": 0,
       "model_id": "1e10a28456124fd4aed0577428d1b079"
      }
     },
     "metadata": {},
     "output_type": "display_data",
     "jetTransient": {
      "display_id": null
     }
    },
    {
     "name": "stdout",
     "output_type": "stream",
     "text": [
      "Epoch 007 | loss=0.1552 | AUC=0.9766 | H@1=0.4840 | H@5=0.7905 | H@10=0.8982\n"
     ]
    },
    {
     "data": {
      "text/plain": [
       "Train 8:   0%|          | 0/266 [00:00<?, ?it/s]"
      ],
      "application/vnd.jupyter.widget-view+json": {
       "version_major": 2,
       "version_minor": 0,
       "model_id": "7928e2165b8245c196f0a411c5cca1b8"
      }
     },
     "metadata": {},
     "output_type": "display_data",
     "jetTransient": {
      "display_id": null
     }
    },
    {
     "data": {
      "text/plain": [
       "Eval AUC (typed):   0%|          | 0/18 [00:00<?, ?it/s]"
      ],
      "application/vnd.jupyter.widget-view+json": {
       "version_major": 2,
       "version_minor": 0,
       "model_id": "f4bf8e1b5dce44ccb4e70ff64d1458c4"
      }
     },
     "metadata": {},
     "output_type": "display_data",
     "jetTransient": {
      "display_id": null
     }
    },
    {
     "data": {
      "text/plain": [
       "Eval Hits (tail):   0%|          | 0/18 [00:00<?, ?it/s]"
      ],
      "application/vnd.jupyter.widget-view+json": {
       "version_major": 2,
       "version_minor": 0,
       "model_id": "210de5958e334dd9be0834eb9208a709"
      }
     },
     "metadata": {},
     "output_type": "display_data",
     "jetTransient": {
      "display_id": null
     }
    },
    {
     "name": "stdout",
     "output_type": "stream",
     "text": [
      "Epoch 008 | loss=0.1515 | AUC=0.9761 | H@1=0.4961 | H@5=0.7950 | H@10=0.9001\n"
     ]
    },
    {
     "data": {
      "text/plain": [
       "Train 9:   0%|          | 0/266 [00:00<?, ?it/s]"
      ],
      "application/vnd.jupyter.widget-view+json": {
       "version_major": 2,
       "version_minor": 0,
       "model_id": "a52ed928632e4a008255e77624118514"
      }
     },
     "metadata": {},
     "output_type": "display_data",
     "jetTransient": {
      "display_id": null
     }
    },
    {
     "data": {
      "text/plain": [
       "Eval AUC (typed):   0%|          | 0/18 [00:00<?, ?it/s]"
      ],
      "application/vnd.jupyter.widget-view+json": {
       "version_major": 2,
       "version_minor": 0,
       "model_id": "d900aa09ca8b43dfb14b5e0e1eb3a02a"
      }
     },
     "metadata": {},
     "output_type": "display_data",
     "jetTransient": {
      "display_id": null
     }
    },
    {
     "data": {
      "text/plain": [
       "Eval Hits (tail):   0%|          | 0/18 [00:00<?, ?it/s]"
      ],
      "application/vnd.jupyter.widget-view+json": {
       "version_major": 2,
       "version_minor": 0,
       "model_id": "eab7d5a6238a4a4abaec68817a66bfad"
      }
     },
     "metadata": {},
     "output_type": "display_data",
     "jetTransient": {
      "display_id": null
     }
    },
    {
     "name": "stdout",
     "output_type": "stream",
     "text": [
      "Epoch 009 | loss=0.1491 | AUC=0.9755 | H@1=0.4926 | H@5=0.7996 | H@10=0.9023\n"
     ]
    },
    {
     "data": {
      "text/plain": [
       "Train 10:   0%|          | 0/266 [00:00<?, ?it/s]"
      ],
      "application/vnd.jupyter.widget-view+json": {
       "version_major": 2,
       "version_minor": 0,
       "model_id": "71511d8c9b6e46629030bd622d2b7b61"
      }
     },
     "metadata": {},
     "output_type": "display_data",
     "jetTransient": {
      "display_id": null
     }
    },
    {
     "data": {
      "text/plain": [
       "Eval AUC (typed):   0%|          | 0/18 [00:00<?, ?it/s]"
      ],
      "application/vnd.jupyter.widget-view+json": {
       "version_major": 2,
       "version_minor": 0,
       "model_id": "05924b8d79034eafaeff893d89a779f7"
      }
     },
     "metadata": {},
     "output_type": "display_data",
     "jetTransient": {
      "display_id": null
     }
    },
    {
     "data": {
      "text/plain": [
       "Eval Hits (tail):   0%|          | 0/18 [00:00<?, ?it/s]"
      ],
      "application/vnd.jupyter.widget-view+json": {
       "version_major": 2,
       "version_minor": 0,
       "model_id": "d71ad2bca467467bbee7c0ada35183ac"
      }
     },
     "metadata": {},
     "output_type": "display_data",
     "jetTransient": {
      "display_id": null
     }
    },
    {
     "name": "stdout",
     "output_type": "stream",
     "text": [
      "Epoch 010 | loss=0.1463 | AUC=0.9764 | H@1=0.4991 | H@5=0.8013 | H@10=0.9026\n"
     ]
    },
    {
     "data": {
      "text/plain": [
       "Train 11:   0%|          | 0/266 [00:00<?, ?it/s]"
      ],
      "application/vnd.jupyter.widget-view+json": {
       "version_major": 2,
       "version_minor": 0,
       "model_id": "c90c93154ed84493b95591941c8a59b7"
      }
     },
     "metadata": {},
     "output_type": "display_data",
     "jetTransient": {
      "display_id": null
     }
    },
    {
     "data": {
      "text/plain": [
       "Eval AUC (typed):   0%|          | 0/18 [00:00<?, ?it/s]"
      ],
      "application/vnd.jupyter.widget-view+json": {
       "version_major": 2,
       "version_minor": 0,
       "model_id": "f5655b5d85e04e71a7b0a1b68f80d118"
      }
     },
     "metadata": {},
     "output_type": "display_data",
     "jetTransient": {
      "display_id": null
     }
    },
    {
     "data": {
      "text/plain": [
       "Eval Hits (tail):   0%|          | 0/18 [00:00<?, ?it/s]"
      ],
      "application/vnd.jupyter.widget-view+json": {
       "version_major": 2,
       "version_minor": 0,
       "model_id": "2f3e33d8e18547349cad097d11b93b1d"
      }
     },
     "metadata": {},
     "output_type": "display_data",
     "jetTransient": {
      "display_id": null
     }
    },
    {
     "name": "stdout",
     "output_type": "stream",
     "text": [
      "Epoch 011 | loss=0.1435 | AUC=0.9767 | H@1=0.5121 | H@5=0.8026 | H@10=0.9035\n"
     ]
    },
    {
     "data": {
      "text/plain": [
       "Train 12:   0%|          | 0/266 [00:00<?, ?it/s]"
      ],
      "application/vnd.jupyter.widget-view+json": {
       "version_major": 2,
       "version_minor": 0,
       "model_id": "0a7dd9babda34518b993a884b85ba92c"
      }
     },
     "metadata": {},
     "output_type": "display_data",
     "jetTransient": {
      "display_id": null
     }
    },
    {
     "data": {
      "text/plain": [
       "Eval AUC (typed):   0%|          | 0/18 [00:00<?, ?it/s]"
      ],
      "application/vnd.jupyter.widget-view+json": {
       "version_major": 2,
       "version_minor": 0,
       "model_id": "b443e3c2b7d84476b1491bef4791ff00"
      }
     },
     "metadata": {},
     "output_type": "display_data",
     "jetTransient": {
      "display_id": null
     }
    },
    {
     "data": {
      "text/plain": [
       "Eval Hits (tail):   0%|          | 0/18 [00:00<?, ?it/s]"
      ],
      "application/vnd.jupyter.widget-view+json": {
       "version_major": 2,
       "version_minor": 0,
       "model_id": "5f93b618dc104826b1731d6d0c3b3878"
      }
     },
     "metadata": {},
     "output_type": "display_data",
     "jetTransient": {
      "display_id": null
     }
    },
    {
     "name": "stdout",
     "output_type": "stream",
     "text": [
      "Epoch 012 | loss=0.1425 | AUC=0.9773 | H@1=0.5127 | H@5=0.8087 | H@10=0.9063\n"
     ]
    },
    {
     "data": {
      "text/plain": [
       "Train 13:   0%|          | 0/266 [00:00<?, ?it/s]"
      ],
      "application/vnd.jupyter.widget-view+json": {
       "version_major": 2,
       "version_minor": 0,
       "model_id": "a5d12421ade9424ab145ccaf1020a822"
      }
     },
     "metadata": {},
     "output_type": "display_data",
     "jetTransient": {
      "display_id": null
     }
    },
    {
     "data": {
      "text/plain": [
       "Eval AUC (typed):   0%|          | 0/18 [00:00<?, ?it/s]"
      ],
      "application/vnd.jupyter.widget-view+json": {
       "version_major": 2,
       "version_minor": 0,
       "model_id": "97fe6970bf7b4fb58d8b6d074768fafa"
      }
     },
     "metadata": {},
     "output_type": "display_data",
     "jetTransient": {
      "display_id": null
     }
    },
    {
     "data": {
      "text/plain": [
       "Eval Hits (tail):   0%|          | 0/18 [00:00<?, ?it/s]"
      ],
      "application/vnd.jupyter.widget-view+json": {
       "version_major": 2,
       "version_minor": 0,
       "model_id": "4bcb3602e89d477d81e3370c53924a44"
      }
     },
     "metadata": {},
     "output_type": "display_data",
     "jetTransient": {
      "display_id": null
     }
    },
    {
     "name": "stdout",
     "output_type": "stream",
     "text": [
      "Epoch 013 | loss=0.1405 | AUC=0.9769 | H@1=0.5082 | H@5=0.8064 | H@10=0.9084\n"
     ]
    },
    {
     "data": {
      "text/plain": [
       "Train 14:   0%|          | 0/266 [00:00<?, ?it/s]"
      ],
      "application/vnd.jupyter.widget-view+json": {
       "version_major": 2,
       "version_minor": 0,
       "model_id": "f61a0bcda1c4486588ade7b8632f93a2"
      }
     },
     "metadata": {},
     "output_type": "display_data",
     "jetTransient": {
      "display_id": null
     }
    },
    {
     "data": {
      "text/plain": [
       "Eval AUC (typed):   0%|          | 0/18 [00:00<?, ?it/s]"
      ],
      "application/vnd.jupyter.widget-view+json": {
       "version_major": 2,
       "version_minor": 0,
       "model_id": "8608ce76f8df482f8868cbb7b7a4d0ba"
      }
     },
     "metadata": {},
     "output_type": "display_data",
     "jetTransient": {
      "display_id": null
     }
    },
    {
     "data": {
      "text/plain": [
       "Eval Hits (tail):   0%|          | 0/18 [00:00<?, ?it/s]"
      ],
      "application/vnd.jupyter.widget-view+json": {
       "version_major": 2,
       "version_minor": 0,
       "model_id": "e5c698447eb64558824792677438dccf"
      }
     },
     "metadata": {},
     "output_type": "display_data",
     "jetTransient": {
      "display_id": null
     }
    },
    {
     "name": "stdout",
     "output_type": "stream",
     "text": [
      "Epoch 014 | loss=0.1383 | AUC=0.9769 | H@1=0.5119 | H@5=0.8070 | H@10=0.9086\n"
     ]
    },
    {
     "data": {
      "text/plain": [
       "Train 15:   0%|          | 0/266 [00:00<?, ?it/s]"
      ],
      "application/vnd.jupyter.widget-view+json": {
       "version_major": 2,
       "version_minor": 0,
       "model_id": "ff6875d349c446028f326e4e8cec4736"
      }
     },
     "metadata": {},
     "output_type": "display_data",
     "jetTransient": {
      "display_id": null
     }
    },
    {
     "data": {
      "text/plain": [
       "Eval AUC (typed):   0%|          | 0/18 [00:00<?, ?it/s]"
      ],
      "application/vnd.jupyter.widget-view+json": {
       "version_major": 2,
       "version_minor": 0,
       "model_id": "aa4486e86151468e8873f2068c9b0d25"
      }
     },
     "metadata": {},
     "output_type": "display_data",
     "jetTransient": {
      "display_id": null
     }
    },
    {
     "data": {
      "text/plain": [
       "Eval Hits (tail):   0%|          | 0/18 [00:00<?, ?it/s]"
      ],
      "application/vnd.jupyter.widget-view+json": {
       "version_major": 2,
       "version_minor": 0,
       "model_id": "3de8292484d04980aff26b3ba6a4c515"
      }
     },
     "metadata": {},
     "output_type": "display_data",
     "jetTransient": {
      "display_id": null
     }
    },
    {
     "name": "stdout",
     "output_type": "stream",
     "text": [
      "Epoch 015 | loss=0.1368 | AUC=0.9776 | H@1=0.5117 | H@5=0.8066 | H@10=0.9081\n"
     ]
    },
    {
     "data": {
      "text/plain": [
       "Train 16:   0%|          | 0/266 [00:00<?, ?it/s]"
      ],
      "application/vnd.jupyter.widget-view+json": {
       "version_major": 2,
       "version_minor": 0,
       "model_id": "7e10087a25024723ab17b48e457adf41"
      }
     },
     "metadata": {},
     "output_type": "display_data",
     "jetTransient": {
      "display_id": null
     }
    },
    {
     "data": {
      "text/plain": [
       "Eval AUC (typed):   0%|          | 0/18 [00:00<?, ?it/s]"
      ],
      "application/vnd.jupyter.widget-view+json": {
       "version_major": 2,
       "version_minor": 0,
       "model_id": "e35c2137ad9840378373b4b4eb938eda"
      }
     },
     "metadata": {},
     "output_type": "display_data",
     "jetTransient": {
      "display_id": null
     }
    },
    {
     "data": {
      "text/plain": [
       "Eval Hits (tail):   0%|          | 0/18 [00:00<?, ?it/s]"
      ],
      "application/vnd.jupyter.widget-view+json": {
       "version_major": 2,
       "version_minor": 0,
       "model_id": "77cd4df6d0984b55b294564deb3b0d64"
      }
     },
     "metadata": {},
     "output_type": "display_data",
     "jetTransient": {
      "display_id": null
     }
    },
    {
     "name": "stdout",
     "output_type": "stream",
     "text": [
      "Epoch 016 | loss=0.1364 | AUC=0.9774 | H@1=0.5238 | H@5=0.8110 | H@10=0.9076\n"
     ]
    },
    {
     "data": {
      "text/plain": [
       "Train 17:   0%|          | 0/266 [00:00<?, ?it/s]"
      ],
      "application/vnd.jupyter.widget-view+json": {
       "version_major": 2,
       "version_minor": 0,
       "model_id": "03822417f4a14e7c85923e9f4f1bad15"
      }
     },
     "metadata": {},
     "output_type": "display_data",
     "jetTransient": {
      "display_id": null
     }
    },
    {
     "data": {
      "text/plain": [
       "Eval AUC (typed):   0%|          | 0/18 [00:00<?, ?it/s]"
      ],
      "application/vnd.jupyter.widget-view+json": {
       "version_major": 2,
       "version_minor": 0,
       "model_id": "44d0afe376484dc184f9f22b4acb6432"
      }
     },
     "metadata": {},
     "output_type": "display_data",
     "jetTransient": {
      "display_id": null
     }
    },
    {
     "data": {
      "text/plain": [
       "Eval Hits (tail):   0%|          | 0/18 [00:00<?, ?it/s]"
      ],
      "application/vnd.jupyter.widget-view+json": {
       "version_major": 2,
       "version_minor": 0,
       "model_id": "b61746cdd01e4ee8a6b04ad58bb8f442"
      }
     },
     "metadata": {},
     "output_type": "display_data",
     "jetTransient": {
      "display_id": null
     }
    },
    {
     "name": "stdout",
     "output_type": "stream",
     "text": [
      "Epoch 017 | loss=0.1353 | AUC=0.9779 | H@1=0.5165 | H@5=0.8103 | H@10=0.9093\n"
     ]
    },
    {
     "data": {
      "text/plain": [
       "Train 18:   0%|          | 0/266 [00:00<?, ?it/s]"
      ],
      "application/vnd.jupyter.widget-view+json": {
       "version_major": 2,
       "version_minor": 0,
       "model_id": "376ddd5ed09141c38c2be0e8a7fe9ea8"
      }
     },
     "metadata": {},
     "output_type": "display_data",
     "jetTransient": {
      "display_id": null
     }
    },
    {
     "data": {
      "text/plain": [
       "Eval AUC (typed):   0%|          | 0/18 [00:00<?, ?it/s]"
      ],
      "application/vnd.jupyter.widget-view+json": {
       "version_major": 2,
       "version_minor": 0,
       "model_id": "1ae790f5692b453293cecf84577d56e8"
      }
     },
     "metadata": {},
     "output_type": "display_data",
     "jetTransient": {
      "display_id": null
     }
    },
    {
     "data": {
      "text/plain": [
       "Eval Hits (tail):   0%|          | 0/18 [00:00<?, ?it/s]"
      ],
      "application/vnd.jupyter.widget-view+json": {
       "version_major": 2,
       "version_minor": 0,
       "model_id": "da0c88eea716446bba6c044e1d2e00d8"
      }
     },
     "metadata": {},
     "output_type": "display_data",
     "jetTransient": {
      "display_id": null
     }
    },
    {
     "name": "stdout",
     "output_type": "stream",
     "text": [
      "Epoch 018 | loss=0.1327 | AUC=0.9768 | H@1=0.5191 | H@5=0.8133 | H@10=0.9096\n"
     ]
    },
    {
     "data": {
      "text/plain": [
       "Train 19:   0%|          | 0/266 [00:00<?, ?it/s]"
      ],
      "application/vnd.jupyter.widget-view+json": {
       "version_major": 2,
       "version_minor": 0,
       "model_id": "c833247b7c5448bebfd2a627c2d038e3"
      }
     },
     "metadata": {},
     "output_type": "display_data",
     "jetTransient": {
      "display_id": null
     }
    },
    {
     "data": {
      "text/plain": [
       "Eval AUC (typed):   0%|          | 0/18 [00:00<?, ?it/s]"
      ],
      "application/vnd.jupyter.widget-view+json": {
       "version_major": 2,
       "version_minor": 0,
       "model_id": "e3172e17e9e4436da6f9f62c66f173fd"
      }
     },
     "metadata": {},
     "output_type": "display_data",
     "jetTransient": {
      "display_id": null
     }
    },
    {
     "data": {
      "text/plain": [
       "Eval Hits (tail):   0%|          | 0/18 [00:00<?, ?it/s]"
      ],
      "application/vnd.jupyter.widget-view+json": {
       "version_major": 2,
       "version_minor": 0,
       "model_id": "a609907d7cf8411f97478a040ac74f91"
      }
     },
     "metadata": {},
     "output_type": "display_data",
     "jetTransient": {
      "display_id": null
     }
    },
    {
     "name": "stdout",
     "output_type": "stream",
     "text": [
      "Epoch 019 | loss=0.1316 | AUC=0.9779 | H@1=0.5218 | H@5=0.8137 | H@10=0.9102\n"
     ]
    },
    {
     "data": {
      "text/plain": [
       "Train 20:   0%|          | 0/266 [00:00<?, ?it/s]"
      ],
      "application/vnd.jupyter.widget-view+json": {
       "version_major": 2,
       "version_minor": 0,
       "model_id": "ab2e2e40beb5473e9e3b4482ae1af7f8"
      }
     },
     "metadata": {},
     "output_type": "display_data",
     "jetTransient": {
      "display_id": null
     }
    },
    {
     "data": {
      "text/plain": [
       "Eval AUC (typed):   0%|          | 0/18 [00:00<?, ?it/s]"
      ],
      "application/vnd.jupyter.widget-view+json": {
       "version_major": 2,
       "version_minor": 0,
       "model_id": "e17293bbd80449009d7be3b40bbe2a24"
      }
     },
     "metadata": {},
     "output_type": "display_data",
     "jetTransient": {
      "display_id": null
     }
    },
    {
     "data": {
      "text/plain": [
       "Eval Hits (tail):   0%|          | 0/18 [00:00<?, ?it/s]"
      ],
      "application/vnd.jupyter.widget-view+json": {
       "version_major": 2,
       "version_minor": 0,
       "model_id": "644ea45a62784877a4a7c168d96d34c8"
      }
     },
     "metadata": {},
     "output_type": "display_data",
     "jetTransient": {
      "display_id": null
     }
    },
    {
     "name": "stdout",
     "output_type": "stream",
     "text": [
      "Epoch 020 | loss=0.1321 | AUC=0.9785 | H@1=0.5174 | H@5=0.8122 | H@10=0.9125\n"
     ]
    },
    {
     "data": {
      "text/plain": [
       "Train 21:   0%|          | 0/266 [00:00<?, ?it/s]"
      ],
      "application/vnd.jupyter.widget-view+json": {
       "version_major": 2,
       "version_minor": 0,
       "model_id": "a5cedaf11b634019a936bf8f2c95eaa1"
      }
     },
     "metadata": {},
     "output_type": "display_data",
     "jetTransient": {
      "display_id": null
     }
    },
    {
     "data": {
      "text/plain": [
       "Eval AUC (typed):   0%|          | 0/18 [00:00<?, ?it/s]"
      ],
      "application/vnd.jupyter.widget-view+json": {
       "version_major": 2,
       "version_minor": 0,
       "model_id": "018b44f9822c4e7dab7ec1ec1c538fc3"
      }
     },
     "metadata": {},
     "output_type": "display_data",
     "jetTransient": {
      "display_id": null
     }
    },
    {
     "data": {
      "text/plain": [
       "Eval Hits (tail):   0%|          | 0/18 [00:00<?, ?it/s]"
      ],
      "application/vnd.jupyter.widget-view+json": {
       "version_major": 2,
       "version_minor": 0,
       "model_id": "a62c37199f8749ea8f0da8b69ea8048c"
      }
     },
     "metadata": {},
     "output_type": "display_data",
     "jetTransient": {
      "display_id": null
     }
    },
    {
     "name": "stdout",
     "output_type": "stream",
     "text": [
      "Epoch 021 | loss=0.1315 | AUC=0.9786 | H@1=0.5243 | H@5=0.8128 | H@10=0.9113\n"
     ]
    },
    {
     "data": {
      "text/plain": [
       "Train 22:   0%|          | 0/266 [00:00<?, ?it/s]"
      ],
      "application/vnd.jupyter.widget-view+json": {
       "version_major": 2,
       "version_minor": 0,
       "model_id": "c490ae69dbae45dc9ccf1841fabc8282"
      }
     },
     "metadata": {},
     "output_type": "display_data",
     "jetTransient": {
      "display_id": null
     }
    },
    {
     "data": {
      "text/plain": [
       "Eval AUC (typed):   0%|          | 0/18 [00:00<?, ?it/s]"
      ],
      "application/vnd.jupyter.widget-view+json": {
       "version_major": 2,
       "version_minor": 0,
       "model_id": "c1f141b1a322410cb67a931a37226da0"
      }
     },
     "metadata": {},
     "output_type": "display_data",
     "jetTransient": {
      "display_id": null
     }
    },
    {
     "data": {
      "text/plain": [
       "Eval Hits (tail):   0%|          | 0/18 [00:00<?, ?it/s]"
      ],
      "application/vnd.jupyter.widget-view+json": {
       "version_major": 2,
       "version_minor": 0,
       "model_id": "9ab670ed790949b9b3784852ce8e1fd4"
      }
     },
     "metadata": {},
     "output_type": "display_data",
     "jetTransient": {
      "display_id": null
     }
    },
    {
     "name": "stdout",
     "output_type": "stream",
     "text": [
      "Epoch 022 | loss=0.1301 | AUC=0.9780 | H@1=0.5227 | H@5=0.8150 | H@10=0.9142\n"
     ]
    },
    {
     "data": {
      "text/plain": [
       "Train 23:   0%|          | 0/266 [00:00<?, ?it/s]"
      ],
      "application/vnd.jupyter.widget-view+json": {
       "version_major": 2,
       "version_minor": 0,
       "model_id": "ed66e85252be4a09a15df5ce1bd91e2b"
      }
     },
     "metadata": {},
     "output_type": "display_data",
     "jetTransient": {
      "display_id": null
     }
    },
    {
     "data": {
      "text/plain": [
       "Eval AUC (typed):   0%|          | 0/18 [00:00<?, ?it/s]"
      ],
      "application/vnd.jupyter.widget-view+json": {
       "version_major": 2,
       "version_minor": 0,
       "model_id": "30a908add091430293d1073f4b6e31c4"
      }
     },
     "metadata": {},
     "output_type": "display_data",
     "jetTransient": {
      "display_id": null
     }
    },
    {
     "data": {
      "text/plain": [
       "Eval Hits (tail):   0%|          | 0/18 [00:00<?, ?it/s]"
      ],
      "application/vnd.jupyter.widget-view+json": {
       "version_major": 2,
       "version_minor": 0,
       "model_id": "8fa2d6ccbdda4c74942d2c895bee5e4b"
      }
     },
     "metadata": {},
     "output_type": "display_data",
     "jetTransient": {
      "display_id": null
     }
    },
    {
     "name": "stdout",
     "output_type": "stream",
     "text": [
      "Epoch 023 | loss=0.1287 | AUC=0.9776 | H@1=0.5173 | H@5=0.8185 | H@10=0.9116\n"
     ]
    },
    {
     "data": {
      "text/plain": [
       "Train 24:   0%|          | 0/266 [00:00<?, ?it/s]"
      ],
      "application/vnd.jupyter.widget-view+json": {
       "version_major": 2,
       "version_minor": 0,
       "model_id": "78f5356038304b01a450f853a56e2c97"
      }
     },
     "metadata": {},
     "output_type": "display_data",
     "jetTransient": {
      "display_id": null
     }
    },
    {
     "data": {
      "text/plain": [
       "Eval AUC (typed):   0%|          | 0/18 [00:00<?, ?it/s]"
      ],
      "application/vnd.jupyter.widget-view+json": {
       "version_major": 2,
       "version_minor": 0,
       "model_id": "17a69fa60abf4494baeeb9a0dc64ed32"
      }
     },
     "metadata": {},
     "output_type": "display_data",
     "jetTransient": {
      "display_id": null
     }
    },
    {
     "data": {
      "text/plain": [
       "Eval Hits (tail):   0%|          | 0/18 [00:00<?, ?it/s]"
      ],
      "application/vnd.jupyter.widget-view+json": {
       "version_major": 2,
       "version_minor": 0,
       "model_id": "802aa8a3d7fe4f4eb025630e22bcbfa7"
      }
     },
     "metadata": {},
     "output_type": "display_data",
     "jetTransient": {
      "display_id": null
     }
    },
    {
     "name": "stdout",
     "output_type": "stream",
     "text": [
      "Epoch 024 | loss=0.1283 | AUC=0.9789 | H@1=0.5245 | H@5=0.8192 | H@10=0.9141\n"
     ]
    },
    {
     "data": {
      "text/plain": [
       "Train 25:   0%|          | 0/266 [00:00<?, ?it/s]"
      ],
      "application/vnd.jupyter.widget-view+json": {
       "version_major": 2,
       "version_minor": 0,
       "model_id": "af2dd133a1654b9aa39ab2850d81c3d3"
      }
     },
     "metadata": {},
     "output_type": "display_data",
     "jetTransient": {
      "display_id": null
     }
    },
    {
     "data": {
      "text/plain": [
       "Eval AUC (typed):   0%|          | 0/18 [00:00<?, ?it/s]"
      ],
      "application/vnd.jupyter.widget-view+json": {
       "version_major": 2,
       "version_minor": 0,
       "model_id": "166439052e514cd9a551d2129763a88a"
      }
     },
     "metadata": {},
     "output_type": "display_data",
     "jetTransient": {
      "display_id": null
     }
    },
    {
     "data": {
      "text/plain": [
       "Eval Hits (tail):   0%|          | 0/18 [00:00<?, ?it/s]"
      ],
      "application/vnd.jupyter.widget-view+json": {
       "version_major": 2,
       "version_minor": 0,
       "model_id": "19d80a9b6e584ff08591829e9a64d9d6"
      }
     },
     "metadata": {},
     "output_type": "display_data",
     "jetTransient": {
      "display_id": null
     }
    },
    {
     "name": "stdout",
     "output_type": "stream",
     "text": [
      "Epoch 025 | loss=0.1270 | AUC=0.9781 | H@1=0.5215 | H@5=0.8192 | H@10=0.9145\n"
     ]
    },
    {
     "data": {
      "text/plain": [
       "Train 26:   0%|          | 0/266 [00:00<?, ?it/s]"
      ],
      "application/vnd.jupyter.widget-view+json": {
       "version_major": 2,
       "version_minor": 0,
       "model_id": "6151bcb1e42d4366b06392150f871a10"
      }
     },
     "metadata": {},
     "output_type": "display_data",
     "jetTransient": {
      "display_id": null
     }
    },
    {
     "data": {
      "text/plain": [
       "Eval AUC (typed):   0%|          | 0/18 [00:00<?, ?it/s]"
      ],
      "application/vnd.jupyter.widget-view+json": {
       "version_major": 2,
       "version_minor": 0,
       "model_id": "6cdbce98fac64402a2d48b3996da99f0"
      }
     },
     "metadata": {},
     "output_type": "display_data",
     "jetTransient": {
      "display_id": null
     }
    },
    {
     "data": {
      "text/plain": [
       "Eval Hits (tail):   0%|          | 0/18 [00:00<?, ?it/s]"
      ],
      "application/vnd.jupyter.widget-view+json": {
       "version_major": 2,
       "version_minor": 0,
       "model_id": "98ff60ad10c545e0b218e02f7c736c32"
      }
     },
     "metadata": {},
     "output_type": "display_data",
     "jetTransient": {
      "display_id": null
     }
    },
    {
     "name": "stdout",
     "output_type": "stream",
     "text": [
      "Epoch 026 | loss=0.1273 | AUC=0.9772 | H@1=0.5106 | H@5=0.8119 | H@10=0.9109\n"
     ]
    },
    {
     "data": {
      "text/plain": [
       "Train 27:   0%|          | 0/266 [00:00<?, ?it/s]"
      ],
      "application/vnd.jupyter.widget-view+json": {
       "version_major": 2,
       "version_minor": 0,
       "model_id": "c4114abc8900477e8158440ea84900c9"
      }
     },
     "metadata": {},
     "output_type": "display_data",
     "jetTransient": {
      "display_id": null
     }
    },
    {
     "data": {
      "text/plain": [
       "Eval AUC (typed):   0%|          | 0/18 [00:00<?, ?it/s]"
      ],
      "application/vnd.jupyter.widget-view+json": {
       "version_major": 2,
       "version_minor": 0,
       "model_id": "b222c0efce78471ca6bfc542a55d5bc7"
      }
     },
     "metadata": {},
     "output_type": "display_data",
     "jetTransient": {
      "display_id": null
     }
    },
    {
     "data": {
      "text/plain": [
       "Eval Hits (tail):   0%|          | 0/18 [00:00<?, ?it/s]"
      ],
      "application/vnd.jupyter.widget-view+json": {
       "version_major": 2,
       "version_minor": 0,
       "model_id": "d7f0e45f784745e58b962646b05ba48a"
      }
     },
     "metadata": {},
     "output_type": "display_data",
     "jetTransient": {
      "display_id": null
     }
    },
    {
     "name": "stdout",
     "output_type": "stream",
     "text": [
      "Epoch 027 | loss=0.1267 | AUC=0.9776 | H@1=0.5257 | H@5=0.8188 | H@10=0.9125\n"
     ]
    },
    {
     "data": {
      "text/plain": [
       "Train 28:   0%|          | 0/266 [00:00<?, ?it/s]"
      ],
      "application/vnd.jupyter.widget-view+json": {
       "version_major": 2,
       "version_minor": 0,
       "model_id": "9d310b9e3f7c43d181d4a8ec6cdc2467"
      }
     },
     "metadata": {},
     "output_type": "display_data",
     "jetTransient": {
      "display_id": null
     }
    },
    {
     "data": {
      "text/plain": [
       "Eval AUC (typed):   0%|          | 0/18 [00:00<?, ?it/s]"
      ],
      "application/vnd.jupyter.widget-view+json": {
       "version_major": 2,
       "version_minor": 0,
       "model_id": "a3cf935d4436409c9f34e27a6678205b"
      }
     },
     "metadata": {},
     "output_type": "display_data",
     "jetTransient": {
      "display_id": null
     }
    },
    {
     "data": {
      "text/plain": [
       "Eval Hits (tail):   0%|          | 0/18 [00:00<?, ?it/s]"
      ],
      "application/vnd.jupyter.widget-view+json": {
       "version_major": 2,
       "version_minor": 0,
       "model_id": "efa70264b1f14f229dbe36dfab968f27"
      }
     },
     "metadata": {},
     "output_type": "display_data",
     "jetTransient": {
      "display_id": null
     }
    },
    {
     "name": "stdout",
     "output_type": "stream",
     "text": [
      "Epoch 028 | loss=0.1253 | AUC=0.9782 | H@1=0.5225 | H@5=0.8182 | H@10=0.9151\n"
     ]
    },
    {
     "data": {
      "text/plain": [
       "Train 29:   0%|          | 0/266 [00:00<?, ?it/s]"
      ],
      "application/vnd.jupyter.widget-view+json": {
       "version_major": 2,
       "version_minor": 0,
       "model_id": "77e16d4f90e44fb5a25c16366b2f4a37"
      }
     },
     "metadata": {},
     "output_type": "display_data",
     "jetTransient": {
      "display_id": null
     }
    },
    {
     "data": {
      "text/plain": [
       "Eval AUC (typed):   0%|          | 0/18 [00:00<?, ?it/s]"
      ],
      "application/vnd.jupyter.widget-view+json": {
       "version_major": 2,
       "version_minor": 0,
       "model_id": "ed7f0c9040334f69a922c60e26f5e40f"
      }
     },
     "metadata": {},
     "output_type": "display_data",
     "jetTransient": {
      "display_id": null
     }
    },
    {
     "data": {
      "text/plain": [
       "Eval Hits (tail):   0%|          | 0/18 [00:00<?, ?it/s]"
      ],
      "application/vnd.jupyter.widget-view+json": {
       "version_major": 2,
       "version_minor": 0,
       "model_id": "b4305d4b77284677bab0313cfec0e147"
      }
     },
     "metadata": {},
     "output_type": "display_data",
     "jetTransient": {
      "display_id": null
     }
    },
    {
     "name": "stdout",
     "output_type": "stream",
     "text": [
      "Epoch 029 | loss=0.1250 | AUC=0.9766 | H@1=0.5248 | H@5=0.8195 | H@10=0.9167\n"
     ]
    },
    {
     "data": {
      "text/plain": [
       "Train 30:   0%|          | 0/266 [00:00<?, ?it/s]"
      ],
      "application/vnd.jupyter.widget-view+json": {
       "version_major": 2,
       "version_minor": 0,
       "model_id": "eaebe00f41dd4eac896955fd65788d4f"
      }
     },
     "metadata": {},
     "output_type": "display_data",
     "jetTransient": {
      "display_id": null
     }
    },
    {
     "data": {
      "text/plain": [
       "Eval AUC (typed):   0%|          | 0/18 [00:00<?, ?it/s]"
      ],
      "application/vnd.jupyter.widget-view+json": {
       "version_major": 2,
       "version_minor": 0,
       "model_id": "ee8183cfee904f9b8e2756a5fd1d3ad0"
      }
     },
     "metadata": {},
     "output_type": "display_data",
     "jetTransient": {
      "display_id": null
     }
    },
    {
     "data": {
      "text/plain": [
       "Eval Hits (tail):   0%|          | 0/18 [00:00<?, ?it/s]"
      ],
      "application/vnd.jupyter.widget-view+json": {
       "version_major": 2,
       "version_minor": 0,
       "model_id": "28202bd4044447b7b5ac49443e672f16"
      }
     },
     "metadata": {},
     "output_type": "display_data",
     "jetTransient": {
      "display_id": null
     }
    },
    {
     "name": "stdout",
     "output_type": "stream",
     "text": [
      "Epoch 030 | loss=0.1258 | AUC=0.9784 | H@1=0.5291 | H@5=0.8231 | H@10=0.9153\n"
     ]
    },
    {
     "data": {
      "text/plain": [
       "Train 31:   0%|          | 0/266 [00:00<?, ?it/s]"
      ],
      "application/vnd.jupyter.widget-view+json": {
       "version_major": 2,
       "version_minor": 0,
       "model_id": "cb1ee03706664ca0ab17a1415cc7389d"
      }
     },
     "metadata": {},
     "output_type": "display_data",
     "jetTransient": {
      "display_id": null
     }
    },
    {
     "data": {
      "text/plain": [
       "Eval AUC (typed):   0%|          | 0/18 [00:00<?, ?it/s]"
      ],
      "application/vnd.jupyter.widget-view+json": {
       "version_major": 2,
       "version_minor": 0,
       "model_id": "7d7cc8be36204a37bff5542ee994bab0"
      }
     },
     "metadata": {},
     "output_type": "display_data",
     "jetTransient": {
      "display_id": null
     }
    },
    {
     "data": {
      "text/plain": [
       "Eval Hits (tail):   0%|          | 0/18 [00:00<?, ?it/s]"
      ],
      "application/vnd.jupyter.widget-view+json": {
       "version_major": 2,
       "version_minor": 0,
       "model_id": "d5d0306dbfdc4e20987ddaebed6bd1ed"
      }
     },
     "metadata": {},
     "output_type": "display_data",
     "jetTransient": {
      "display_id": null
     }
    },
    {
     "name": "stdout",
     "output_type": "stream",
     "text": [
      "Epoch 031 | loss=0.1251 | AUC=0.9785 | H@1=0.5311 | H@5=0.8223 | H@10=0.9187\n"
     ]
    },
    {
     "data": {
      "text/plain": [
       "Train 32:   0%|          | 0/266 [00:00<?, ?it/s]"
      ],
      "application/vnd.jupyter.widget-view+json": {
       "version_major": 2,
       "version_minor": 0,
       "model_id": "eabd2bf36b5d45068c72db3bf476a6bf"
      }
     },
     "metadata": {},
     "output_type": "display_data",
     "jetTransient": {
      "display_id": null
     }
    },
    {
     "data": {
      "text/plain": [
       "Eval AUC (typed):   0%|          | 0/18 [00:00<?, ?it/s]"
      ],
      "application/vnd.jupyter.widget-view+json": {
       "version_major": 2,
       "version_minor": 0,
       "model_id": "9a1e90116d814ae0871c0c6485e51bd3"
      }
     },
     "metadata": {},
     "output_type": "display_data",
     "jetTransient": {
      "display_id": null
     }
    },
    {
     "data": {
      "text/plain": [
       "Eval Hits (tail):   0%|          | 0/18 [00:00<?, ?it/s]"
      ],
      "application/vnd.jupyter.widget-view+json": {
       "version_major": 2,
       "version_minor": 0,
       "model_id": "40f4c09bada24da8a63bdd53b6a72461"
      }
     },
     "metadata": {},
     "output_type": "display_data",
     "jetTransient": {
      "display_id": null
     }
    },
    {
     "name": "stdout",
     "output_type": "stream",
     "text": [
      "Epoch 032 | loss=0.1240 | AUC=0.9773 | H@1=0.5239 | H@5=0.8200 | H@10=0.9141\n"
     ]
    },
    {
     "data": {
      "text/plain": [
       "Train 33:   0%|          | 0/266 [00:00<?, ?it/s]"
      ],
      "application/vnd.jupyter.widget-view+json": {
       "version_major": 2,
       "version_minor": 0,
       "model_id": "3849817e31524684a77d6754782a90c4"
      }
     },
     "metadata": {},
     "output_type": "display_data",
     "jetTransient": {
      "display_id": null
     }
    },
    {
     "data": {
      "text/plain": [
       "Eval AUC (typed):   0%|          | 0/18 [00:00<?, ?it/s]"
      ],
      "application/vnd.jupyter.widget-view+json": {
       "version_major": 2,
       "version_minor": 0,
       "model_id": "ad74a2a13e314e35944b2c8aca80616a"
      }
     },
     "metadata": {},
     "output_type": "display_data",
     "jetTransient": {
      "display_id": null
     }
    },
    {
     "data": {
      "text/plain": [
       "Eval Hits (tail):   0%|          | 0/18 [00:00<?, ?it/s]"
      ],
      "application/vnd.jupyter.widget-view+json": {
       "version_major": 2,
       "version_minor": 0,
       "model_id": "0d5f0290fab843f4a752d51167e3647a"
      }
     },
     "metadata": {},
     "output_type": "display_data",
     "jetTransient": {
      "display_id": null
     }
    },
    {
     "name": "stdout",
     "output_type": "stream",
     "text": [
      "Epoch 033 | loss=0.1233 | AUC=0.9781 | H@1=0.5256 | H@5=0.8237 | H@10=0.9164\n"
     ]
    },
    {
     "data": {
      "text/plain": [
       "Train 34:   0%|          | 0/266 [00:00<?, ?it/s]"
      ],
      "application/vnd.jupyter.widget-view+json": {
       "version_major": 2,
       "version_minor": 0,
       "model_id": "babb8390d154490a83a34c61c878678d"
      }
     },
     "metadata": {},
     "output_type": "display_data",
     "jetTransient": {
      "display_id": null
     }
    },
    {
     "data": {
      "text/plain": [
       "Eval AUC (typed):   0%|          | 0/18 [00:00<?, ?it/s]"
      ],
      "application/vnd.jupyter.widget-view+json": {
       "version_major": 2,
       "version_minor": 0,
       "model_id": "ed655e29a90645bd8e2f3b3d7ccea9b2"
      }
     },
     "metadata": {},
     "output_type": "display_data",
     "jetTransient": {
      "display_id": null
     }
    },
    {
     "data": {
      "text/plain": [
       "Eval Hits (tail):   0%|          | 0/18 [00:00<?, ?it/s]"
      ],
      "application/vnd.jupyter.widget-view+json": {
       "version_major": 2,
       "version_minor": 0,
       "model_id": "03c546cdc133491ea47058b0e13a4b3f"
      }
     },
     "metadata": {},
     "output_type": "display_data",
     "jetTransient": {
      "display_id": null
     }
    },
    {
     "name": "stdout",
     "output_type": "stream",
     "text": [
      "Epoch 034 | loss=0.1237 | AUC=0.9773 | H@1=0.5258 | H@5=0.8210 | H@10=0.9168\n"
     ]
    },
    {
     "data": {
      "text/plain": [
       "Train 35:   0%|          | 0/266 [00:00<?, ?it/s]"
      ],
      "application/vnd.jupyter.widget-view+json": {
       "version_major": 2,
       "version_minor": 0,
       "model_id": "444bded5755f48e2b134330b72a3c49a"
      }
     },
     "metadata": {},
     "output_type": "display_data",
     "jetTransient": {
      "display_id": null
     }
    },
    {
     "data": {
      "text/plain": [
       "Eval AUC (typed):   0%|          | 0/18 [00:00<?, ?it/s]"
      ],
      "application/vnd.jupyter.widget-view+json": {
       "version_major": 2,
       "version_minor": 0,
       "model_id": "2e48dfbaf74a4268b05fec8c65e73a6b"
      }
     },
     "metadata": {},
     "output_type": "display_data",
     "jetTransient": {
      "display_id": null
     }
    },
    {
     "data": {
      "text/plain": [
       "Eval Hits (tail):   0%|          | 0/18 [00:00<?, ?it/s]"
      ],
      "application/vnd.jupyter.widget-view+json": {
       "version_major": 2,
       "version_minor": 0,
       "model_id": "c8d1dde096ef402689b2c116aa6175ef"
      }
     },
     "metadata": {},
     "output_type": "display_data",
     "jetTransient": {
      "display_id": null
     }
    },
    {
     "name": "stdout",
     "output_type": "stream",
     "text": [
      "Epoch 035 | loss=0.1229 | AUC=0.9791 | H@1=0.5284 | H@5=0.8232 | H@10=0.9153\n"
     ]
    },
    {
     "data": {
      "text/plain": [
       "Train 36:   0%|          | 0/266 [00:00<?, ?it/s]"
      ],
      "application/vnd.jupyter.widget-view+json": {
       "version_major": 2,
       "version_minor": 0,
       "model_id": "376e3c4001354c75a577503595043b30"
      }
     },
     "metadata": {},
     "output_type": "display_data",
     "jetTransient": {
      "display_id": null
     }
    },
    {
     "data": {
      "text/plain": [
       "Eval AUC (typed):   0%|          | 0/18 [00:00<?, ?it/s]"
      ],
      "application/vnd.jupyter.widget-view+json": {
       "version_major": 2,
       "version_minor": 0,
       "model_id": "739472d6dd664d4190ce1325e953dbe2"
      }
     },
     "metadata": {},
     "output_type": "display_data",
     "jetTransient": {
      "display_id": null
     }
    },
    {
     "data": {
      "text/plain": [
       "Eval Hits (tail):   0%|          | 0/18 [00:00<?, ?it/s]"
      ],
      "application/vnd.jupyter.widget-view+json": {
       "version_major": 2,
       "version_minor": 0,
       "model_id": "d531f4033ee9433298ca2d9d6b45eb51"
      }
     },
     "metadata": {},
     "output_type": "display_data",
     "jetTransient": {
      "display_id": null
     }
    },
    {
     "name": "stdout",
     "output_type": "stream",
     "text": [
      "Epoch 036 | loss=0.1221 | AUC=0.9773 | H@1=0.5301 | H@5=0.8220 | H@10=0.9179\n"
     ]
    },
    {
     "data": {
      "text/plain": [
       "Train 37:   0%|          | 0/266 [00:00<?, ?it/s]"
      ],
      "application/vnd.jupyter.widget-view+json": {
       "version_major": 2,
       "version_minor": 0,
       "model_id": "ec6b46c1360f4026bd8aea88b4940543"
      }
     },
     "metadata": {},
     "output_type": "display_data",
     "jetTransient": {
      "display_id": null
     }
    },
    {
     "data": {
      "text/plain": [
       "Eval AUC (typed):   0%|          | 0/18 [00:00<?, ?it/s]"
      ],
      "application/vnd.jupyter.widget-view+json": {
       "version_major": 2,
       "version_minor": 0,
       "model_id": "b0f8550fa42a436f824798759d28f8ca"
      }
     },
     "metadata": {},
     "output_type": "display_data",
     "jetTransient": {
      "display_id": null
     }
    },
    {
     "data": {
      "text/plain": [
       "Eval Hits (tail):   0%|          | 0/18 [00:00<?, ?it/s]"
      ],
      "application/vnd.jupyter.widget-view+json": {
       "version_major": 2,
       "version_minor": 0,
       "model_id": "9513a5d4745b49c5acd1d149f1599d6d"
      }
     },
     "metadata": {},
     "output_type": "display_data",
     "jetTransient": {
      "display_id": null
     }
    },
    {
     "name": "stdout",
     "output_type": "stream",
     "text": [
      "Epoch 037 | loss=0.1225 | AUC=0.9777 | H@1=0.5318 | H@5=0.8261 | H@10=0.9182\n"
     ]
    },
    {
     "data": {
      "text/plain": [
       "Train 38:   0%|          | 0/266 [00:00<?, ?it/s]"
      ],
      "application/vnd.jupyter.widget-view+json": {
       "version_major": 2,
       "version_minor": 0,
       "model_id": "f550ba4fdb5144bfb07df63602aee299"
      }
     },
     "metadata": {},
     "output_type": "display_data",
     "jetTransient": {
      "display_id": null
     }
    },
    {
     "data": {
      "text/plain": [
       "Eval AUC (typed):   0%|          | 0/18 [00:00<?, ?it/s]"
      ],
      "application/vnd.jupyter.widget-view+json": {
       "version_major": 2,
       "version_minor": 0,
       "model_id": "86637f12080a4797a0d224dc2247d8ec"
      }
     },
     "metadata": {},
     "output_type": "display_data",
     "jetTransient": {
      "display_id": null
     }
    },
    {
     "data": {
      "text/plain": [
       "Eval Hits (tail):   0%|          | 0/18 [00:00<?, ?it/s]"
      ],
      "application/vnd.jupyter.widget-view+json": {
       "version_major": 2,
       "version_minor": 0,
       "model_id": "f6a43cf74cd54224874274cf1353904c"
      }
     },
     "metadata": {},
     "output_type": "display_data",
     "jetTransient": {
      "display_id": null
     }
    },
    {
     "name": "stdout",
     "output_type": "stream",
     "text": [
      "Epoch 038 | loss=0.1229 | AUC=0.9778 | H@1=0.5280 | H@5=0.8247 | H@10=0.9181\n"
     ]
    },
    {
     "data": {
      "text/plain": [
       "Train 39:   0%|          | 0/266 [00:00<?, ?it/s]"
      ],
      "application/vnd.jupyter.widget-view+json": {
       "version_major": 2,
       "version_minor": 0,
       "model_id": "bd348804cf99421f8e5f635ed4405785"
      }
     },
     "metadata": {},
     "output_type": "display_data",
     "jetTransient": {
      "display_id": null
     }
    },
    {
     "data": {
      "text/plain": [
       "Eval AUC (typed):   0%|          | 0/18 [00:00<?, ?it/s]"
      ],
      "application/vnd.jupyter.widget-view+json": {
       "version_major": 2,
       "version_minor": 0,
       "model_id": "5684bddeccfd4eb689fc08cef1bb82d2"
      }
     },
     "metadata": {},
     "output_type": "display_data",
     "jetTransient": {
      "display_id": null
     }
    },
    {
     "data": {
      "text/plain": [
       "Eval Hits (tail):   0%|          | 0/18 [00:00<?, ?it/s]"
      ],
      "application/vnd.jupyter.widget-view+json": {
       "version_major": 2,
       "version_minor": 0,
       "model_id": "6662f16789f345d7986f1eddaf0aa4db"
      }
     },
     "metadata": {},
     "output_type": "display_data",
     "jetTransient": {
      "display_id": null
     }
    },
    {
     "name": "stdout",
     "output_type": "stream",
     "text": [
      "Epoch 039 | loss=0.1222 | AUC=0.9776 | H@1=0.5244 | H@5=0.8245 | H@10=0.9185\n"
     ]
    },
    {
     "data": {
      "text/plain": [
       "Train 40:   0%|          | 0/266 [00:00<?, ?it/s]"
      ],
      "application/vnd.jupyter.widget-view+json": {
       "version_major": 2,
       "version_minor": 0,
       "model_id": "700914c683744478b4f4fc0fea772806"
      }
     },
     "metadata": {},
     "output_type": "display_data",
     "jetTransient": {
      "display_id": null
     }
    },
    {
     "data": {
      "text/plain": [
       "Eval AUC (typed):   0%|          | 0/18 [00:00<?, ?it/s]"
      ],
      "application/vnd.jupyter.widget-view+json": {
       "version_major": 2,
       "version_minor": 0,
       "model_id": "b3a58c00ea6a4906b2d0393b52d18e4d"
      }
     },
     "metadata": {},
     "output_type": "display_data",
     "jetTransient": {
      "display_id": null
     }
    },
    {
     "data": {
      "text/plain": [
       "Eval Hits (tail):   0%|          | 0/18 [00:00<?, ?it/s]"
      ],
      "application/vnd.jupyter.widget-view+json": {
       "version_major": 2,
       "version_minor": 0,
       "model_id": "e5f1dcbfc8234368ae68b6c9c0e43831"
      }
     },
     "metadata": {},
     "output_type": "display_data",
     "jetTransient": {
      "display_id": null
     }
    },
    {
     "name": "stdout",
     "output_type": "stream",
     "text": [
      "Epoch 040 | loss=0.1214 | AUC=0.9782 | H@1=0.5227 | H@5=0.8229 | H@10=0.9182\n"
     ]
    },
    {
     "data": {
      "text/plain": [
       "Train 41:   0%|          | 0/266 [00:00<?, ?it/s]"
      ],
      "application/vnd.jupyter.widget-view+json": {
       "version_major": 2,
       "version_minor": 0,
       "model_id": "d053c88082c244b094f648a4e967ea2e"
      }
     },
     "metadata": {},
     "output_type": "display_data",
     "jetTransient": {
      "display_id": null
     }
    },
    {
     "data": {
      "text/plain": [
       "Eval AUC (typed):   0%|          | 0/18 [00:00<?, ?it/s]"
      ],
      "application/vnd.jupyter.widget-view+json": {
       "version_major": 2,
       "version_minor": 0,
       "model_id": "75c66449c9d54c4d94d2afe010bf062a"
      }
     },
     "metadata": {},
     "output_type": "display_data",
     "jetTransient": {
      "display_id": null
     }
    },
    {
     "data": {
      "text/plain": [
       "Eval Hits (tail):   0%|          | 0/18 [00:00<?, ?it/s]"
      ],
      "application/vnd.jupyter.widget-view+json": {
       "version_major": 2,
       "version_minor": 0,
       "model_id": "8e171061b6ff4d43adc54b33ebd4e711"
      }
     },
     "metadata": {},
     "output_type": "display_data",
     "jetTransient": {
      "display_id": null
     }
    },
    {
     "name": "stdout",
     "output_type": "stream",
     "text": [
      "Epoch 041 | loss=0.1223 | AUC=0.9771 | H@1=0.5269 | H@5=0.8220 | H@10=0.9156\n",
      "Early stopping at epoch 41 (patience=10).\n",
      "Restored best model from epoch 31 | AUC=0.9785 | Hits@10=0.9187\n"
     ]
    },
    {
     "data": {
      "text/plain": [
       "Epochs (typed):   0%|          | 0/100 [00:00<?, ?it/s]"
      ],
      "application/vnd.jupyter.widget-view+json": {
       "version_major": 2,
       "version_minor": 0,
       "model_id": "c2b8f278a0774112a578fd14268b91fd"
      }
     },
     "metadata": {},
     "output_type": "display_data",
     "jetTransient": {
      "display_id": null
     }
    },
    {
     "data": {
      "text/plain": [
       "Train 1:   0%|          | 0/266 [00:00<?, ?it/s]"
      ],
      "application/vnd.jupyter.widget-view+json": {
       "version_major": 2,
       "version_minor": 0,
       "model_id": "68a6c7bbc98e4cfdad816e2e6d3df145"
      }
     },
     "metadata": {},
     "output_type": "display_data",
     "jetTransient": {
      "display_id": null
     }
    },
    {
     "data": {
      "text/plain": [
       "Eval AUC (typed):   0%|          | 0/18 [00:00<?, ?it/s]"
      ],
      "application/vnd.jupyter.widget-view+json": {
       "version_major": 2,
       "version_minor": 0,
       "model_id": "69122b336f8f43e4a1367b89dadb0875"
      }
     },
     "metadata": {},
     "output_type": "display_data",
     "jetTransient": {
      "display_id": null
     }
    },
    {
     "data": {
      "text/plain": [
       "Eval Hits (tail):   0%|          | 0/18 [00:00<?, ?it/s]"
      ],
      "application/vnd.jupyter.widget-view+json": {
       "version_major": 2,
       "version_minor": 0,
       "model_id": "7cba573fb54c42a1a09d325f2cfc5e1c"
      }
     },
     "metadata": {},
     "output_type": "display_data",
     "jetTransient": {
      "display_id": null
     }
    },
    {
     "name": "stdout",
     "output_type": "stream",
     "text": [
      "Epoch 001 | loss=0.5261 | AUC=0.8582 | H@1=0.2004 | H@5=0.4532 | H@10=0.5971\n"
     ]
    },
    {
     "data": {
      "text/plain": [
       "Train 2:   0%|          | 0/266 [00:00<?, ?it/s]"
      ],
      "application/vnd.jupyter.widget-view+json": {
       "version_major": 2,
       "version_minor": 0,
       "model_id": "57a6ee0dafab4b85ae356f5e8e7e99f3"
      }
     },
     "metadata": {},
     "output_type": "display_data",
     "jetTransient": {
      "display_id": null
     }
    },
    {
     "data": {
      "text/plain": [
       "Eval AUC (typed):   0%|          | 0/18 [00:00<?, ?it/s]"
      ],
      "application/vnd.jupyter.widget-view+json": {
       "version_major": 2,
       "version_minor": 0,
       "model_id": "71ad50da892f4d1b9a1165e52b897b7f"
      }
     },
     "metadata": {},
     "output_type": "display_data",
     "jetTransient": {
      "display_id": null
     }
    },
    {
     "data": {
      "text/plain": [
       "Eval Hits (tail):   0%|          | 0/18 [00:00<?, ?it/s]"
      ],
      "application/vnd.jupyter.widget-view+json": {
       "version_major": 2,
       "version_minor": 0,
       "model_id": "e6db03c43d384a859beebd4d8f425a8d"
      }
     },
     "metadata": {},
     "output_type": "display_data",
     "jetTransient": {
      "display_id": null
     }
    },
    {
     "name": "stdout",
     "output_type": "stream",
     "text": [
      "Epoch 002 | loss=0.4805 | AUC=0.8718 | H@1=0.2202 | H@5=0.4902 | H@10=0.6440\n"
     ]
    },
    {
     "data": {
      "text/plain": [
       "Train 3:   0%|          | 0/266 [00:00<?, ?it/s]"
      ],
      "application/vnd.jupyter.widget-view+json": {
       "version_major": 2,
       "version_minor": 0,
       "model_id": "b30f90439235482bba86fa4348dae717"
      }
     },
     "metadata": {},
     "output_type": "display_data",
     "jetTransient": {
      "display_id": null
     }
    },
    {
     "data": {
      "text/plain": [
       "Eval AUC (typed):   0%|          | 0/18 [00:00<?, ?it/s]"
      ],
      "application/vnd.jupyter.widget-view+json": {
       "version_major": 2,
       "version_minor": 0,
       "model_id": "56ddbc228a1c4b22a31ba8cfa7b5046c"
      }
     },
     "metadata": {},
     "output_type": "display_data",
     "jetTransient": {
      "display_id": null
     }
    },
    {
     "data": {
      "text/plain": [
       "Eval Hits (tail):   0%|          | 0/18 [00:00<?, ?it/s]"
      ],
      "application/vnd.jupyter.widget-view+json": {
       "version_major": 2,
       "version_minor": 0,
       "model_id": "ff3a6250fd8242509c3fb80bdc8f5aa6"
      }
     },
     "metadata": {},
     "output_type": "display_data",
     "jetTransient": {
      "display_id": null
     }
    },
    {
     "name": "stdout",
     "output_type": "stream",
     "text": [
      "Epoch 003 | loss=0.4694 | AUC=0.8747 | H@1=0.2187 | H@5=0.4983 | H@10=0.6453\n"
     ]
    },
    {
     "data": {
      "text/plain": [
       "Train 4:   0%|          | 0/266 [00:00<?, ?it/s]"
      ],
      "application/vnd.jupyter.widget-view+json": {
       "version_major": 2,
       "version_minor": 0,
       "model_id": "e95410fea91a430eb2531eadf4c5e467"
      }
     },
     "metadata": {},
     "output_type": "display_data",
     "jetTransient": {
      "display_id": null
     }
    },
    {
     "data": {
      "text/plain": [
       "Eval AUC (typed):   0%|          | 0/18 [00:00<?, ?it/s]"
      ],
      "application/vnd.jupyter.widget-view+json": {
       "version_major": 2,
       "version_minor": 0,
       "model_id": "9a2a8a135caf41f4bee9fe58be24860e"
      }
     },
     "metadata": {},
     "output_type": "display_data",
     "jetTransient": {
      "display_id": null
     }
    },
    {
     "data": {
      "text/plain": [
       "Eval Hits (tail):   0%|          | 0/18 [00:00<?, ?it/s]"
      ],
      "application/vnd.jupyter.widget-view+json": {
       "version_major": 2,
       "version_minor": 0,
       "model_id": "f9604ec9be9c4502a1994ac1b6c800a8"
      }
     },
     "metadata": {},
     "output_type": "display_data",
     "jetTransient": {
      "display_id": null
     }
    },
    {
     "name": "stdout",
     "output_type": "stream",
     "text": [
      "Epoch 004 | loss=0.4642 | AUC=0.8807 | H@1=0.2157 | H@5=0.5026 | H@10=0.6537\n"
     ]
    },
    {
     "data": {
      "text/plain": [
       "Train 5:   0%|          | 0/266 [00:00<?, ?it/s]"
      ],
      "application/vnd.jupyter.widget-view+json": {
       "version_major": 2,
       "version_minor": 0,
       "model_id": "ab9532f9d6664f7eaadd8be13bce92d7"
      }
     },
     "metadata": {},
     "output_type": "display_data",
     "jetTransient": {
      "display_id": null
     }
    },
    {
     "data": {
      "text/plain": [
       "Eval AUC (typed):   0%|          | 0/18 [00:00<?, ?it/s]"
      ],
      "application/vnd.jupyter.widget-view+json": {
       "version_major": 2,
       "version_minor": 0,
       "model_id": "2b2c90936e6d41d28e4cd138ae6b47a1"
      }
     },
     "metadata": {},
     "output_type": "display_data",
     "jetTransient": {
      "display_id": null
     }
    },
    {
     "data": {
      "text/plain": [
       "Eval Hits (tail):   0%|          | 0/18 [00:00<?, ?it/s]"
      ],
      "application/vnd.jupyter.widget-view+json": {
       "version_major": 2,
       "version_minor": 0,
       "model_id": "43583aa400974e9eadaa1c9e060c0919"
      }
     },
     "metadata": {},
     "output_type": "display_data",
     "jetTransient": {
      "display_id": null
     }
    },
    {
     "name": "stdout",
     "output_type": "stream",
     "text": [
      "Epoch 005 | loss=0.4618 | AUC=0.8811 | H@1=0.2189 | H@5=0.5131 | H@10=0.6642\n"
     ]
    },
    {
     "data": {
      "text/plain": [
       "Train 6:   0%|          | 0/266 [00:00<?, ?it/s]"
      ],
      "application/vnd.jupyter.widget-view+json": {
       "version_major": 2,
       "version_minor": 0,
       "model_id": "b55dbbc406e14a8a9250d0d1af36f7e1"
      }
     },
     "metadata": {},
     "output_type": "display_data",
     "jetTransient": {
      "display_id": null
     }
    },
    {
     "data": {
      "text/plain": [
       "Eval AUC (typed):   0%|          | 0/18 [00:00<?, ?it/s]"
      ],
      "application/vnd.jupyter.widget-view+json": {
       "version_major": 2,
       "version_minor": 0,
       "model_id": "4d8a0be4e1154367bfdae00d2c820cda"
      }
     },
     "metadata": {},
     "output_type": "display_data",
     "jetTransient": {
      "display_id": null
     }
    },
    {
     "data": {
      "text/plain": [
       "Eval Hits (tail):   0%|          | 0/18 [00:00<?, ?it/s]"
      ],
      "application/vnd.jupyter.widget-view+json": {
       "version_major": 2,
       "version_minor": 0,
       "model_id": "b40c0e6a35014e3581f6d56984e0c061"
      }
     },
     "metadata": {},
     "output_type": "display_data",
     "jetTransient": {
      "display_id": null
     }
    },
    {
     "name": "stdout",
     "output_type": "stream",
     "text": [
      "Epoch 006 | loss=0.4590 | AUC=0.8850 | H@1=0.2293 | H@5=0.5213 | H@10=0.6709\n"
     ]
    },
    {
     "data": {
      "text/plain": [
       "Train 7:   0%|          | 0/266 [00:00<?, ?it/s]"
      ],
      "application/vnd.jupyter.widget-view+json": {
       "version_major": 2,
       "version_minor": 0,
       "model_id": "e331c9adff68446a9c79ad1528b7e98f"
      }
     },
     "metadata": {},
     "output_type": "display_data",
     "jetTransient": {
      "display_id": null
     }
    },
    {
     "data": {
      "text/plain": [
       "Eval AUC (typed):   0%|          | 0/18 [00:00<?, ?it/s]"
      ],
      "application/vnd.jupyter.widget-view+json": {
       "version_major": 2,
       "version_minor": 0,
       "model_id": "7089f903f3684ec9bee0a9cb5206b884"
      }
     },
     "metadata": {},
     "output_type": "display_data",
     "jetTransient": {
      "display_id": null
     }
    },
    {
     "data": {
      "text/plain": [
       "Eval Hits (tail):   0%|          | 0/18 [00:00<?, ?it/s]"
      ],
      "application/vnd.jupyter.widget-view+json": {
       "version_major": 2,
       "version_minor": 0,
       "model_id": "f5310dc636194b2fb9a802f862fbc140"
      }
     },
     "metadata": {},
     "output_type": "display_data",
     "jetTransient": {
      "display_id": null
     }
    },
    {
     "name": "stdout",
     "output_type": "stream",
     "text": [
      "Epoch 007 | loss=0.4572 | AUC=0.8873 | H@1=0.2387 | H@5=0.5338 | H@10=0.6818\n"
     ]
    },
    {
     "data": {
      "text/plain": [
       "Train 8:   0%|          | 0/266 [00:00<?, ?it/s]"
      ],
      "application/vnd.jupyter.widget-view+json": {
       "version_major": 2,
       "version_minor": 0,
       "model_id": "0dd0a7e10904410f86d4686a2ba3134a"
      }
     },
     "metadata": {},
     "output_type": "display_data",
     "jetTransient": {
      "display_id": null
     }
    },
    {
     "data": {
      "text/plain": [
       "Eval AUC (typed):   0%|          | 0/18 [00:00<?, ?it/s]"
      ],
      "application/vnd.jupyter.widget-view+json": {
       "version_major": 2,
       "version_minor": 0,
       "model_id": "dcb853dbed83425e9816218894e9a84e"
      }
     },
     "metadata": {},
     "output_type": "display_data",
     "jetTransient": {
      "display_id": null
     }
    },
    {
     "data": {
      "text/plain": [
       "Eval Hits (tail):   0%|          | 0/18 [00:00<?, ?it/s]"
      ],
      "application/vnd.jupyter.widget-view+json": {
       "version_major": 2,
       "version_minor": 0,
       "model_id": "540cee4985c34a0693a52aff418c436f"
      }
     },
     "metadata": {},
     "output_type": "display_data",
     "jetTransient": {
      "display_id": null
     }
    },
    {
     "name": "stdout",
     "output_type": "stream",
     "text": [
      "Epoch 008 | loss=0.4551 | AUC=0.8833 | H@1=0.2321 | H@5=0.5269 | H@10=0.6760\n"
     ]
    },
    {
     "data": {
      "text/plain": [
       "Train 9:   0%|          | 0/266 [00:00<?, ?it/s]"
      ],
      "application/vnd.jupyter.widget-view+json": {
       "version_major": 2,
       "version_minor": 0,
       "model_id": "a1c70a3ea7b2425b930b5bd75c5dae05"
      }
     },
     "metadata": {},
     "output_type": "display_data",
     "jetTransient": {
      "display_id": null
     }
    },
    {
     "data": {
      "text/plain": [
       "Eval AUC (typed):   0%|          | 0/18 [00:00<?, ?it/s]"
      ],
      "application/vnd.jupyter.widget-view+json": {
       "version_major": 2,
       "version_minor": 0,
       "model_id": "bfc29dd274274aafb76972e16fb2ae97"
      }
     },
     "metadata": {},
     "output_type": "display_data",
     "jetTransient": {
      "display_id": null
     }
    },
    {
     "data": {
      "text/plain": [
       "Eval Hits (tail):   0%|          | 0/18 [00:00<?, ?it/s]"
      ],
      "application/vnd.jupyter.widget-view+json": {
       "version_major": 2,
       "version_minor": 0,
       "model_id": "42a15348e4604e5db8be8fc41d3648c9"
      }
     },
     "metadata": {},
     "output_type": "display_data",
     "jetTransient": {
      "display_id": null
     }
    },
    {
     "name": "stdout",
     "output_type": "stream",
     "text": [
      "Epoch 009 | loss=0.4533 | AUC=0.8802 | H@1=0.2266 | H@5=0.5281 | H@10=0.6772\n"
     ]
    },
    {
     "data": {
      "text/plain": [
       "Train 10:   0%|          | 0/266 [00:00<?, ?it/s]"
      ],
      "application/vnd.jupyter.widget-view+json": {
       "version_major": 2,
       "version_minor": 0,
       "model_id": "2248cd886d214d32b67c1f59ac984a76"
      }
     },
     "metadata": {},
     "output_type": "display_data",
     "jetTransient": {
      "display_id": null
     }
    },
    {
     "data": {
      "text/plain": [
       "Eval AUC (typed):   0%|          | 0/18 [00:00<?, ?it/s]"
      ],
      "application/vnd.jupyter.widget-view+json": {
       "version_major": 2,
       "version_minor": 0,
       "model_id": "0b0dceafe2a94475906ff622bb0542de"
      }
     },
     "metadata": {},
     "output_type": "display_data",
     "jetTransient": {
      "display_id": null
     }
    },
    {
     "data": {
      "text/plain": [
       "Eval Hits (tail):   0%|          | 0/18 [00:00<?, ?it/s]"
      ],
      "application/vnd.jupyter.widget-view+json": {
       "version_major": 2,
       "version_minor": 0,
       "model_id": "72e988a0c092476c92a3e5690493423e"
      }
     },
     "metadata": {},
     "output_type": "display_data",
     "jetTransient": {
      "display_id": null
     }
    },
    {
     "name": "stdout",
     "output_type": "stream",
     "text": [
      "Epoch 010 | loss=0.4529 | AUC=0.8826 | H@1=0.2204 | H@5=0.5160 | H@10=0.6707\n"
     ]
    },
    {
     "data": {
      "text/plain": [
       "Train 11:   0%|          | 0/266 [00:00<?, ?it/s]"
      ],
      "application/vnd.jupyter.widget-view+json": {
       "version_major": 2,
       "version_minor": 0,
       "model_id": "c981e7fd5c5040acb6a6e998d94c4e8f"
      }
     },
     "metadata": {},
     "output_type": "display_data",
     "jetTransient": {
      "display_id": null
     }
    },
    {
     "data": {
      "text/plain": [
       "Eval AUC (typed):   0%|          | 0/18 [00:00<?, ?it/s]"
      ],
      "application/vnd.jupyter.widget-view+json": {
       "version_major": 2,
       "version_minor": 0,
       "model_id": "9f11ba0c495c4bc282282abc90deb77c"
      }
     },
     "metadata": {},
     "output_type": "display_data",
     "jetTransient": {
      "display_id": null
     }
    },
    {
     "data": {
      "text/plain": [
       "Eval Hits (tail):   0%|          | 0/18 [00:00<?, ?it/s]"
      ],
      "application/vnd.jupyter.widget-view+json": {
       "version_major": 2,
       "version_minor": 0,
       "model_id": "929f741bb7474103971f400f787272d8"
      }
     },
     "metadata": {},
     "output_type": "display_data",
     "jetTransient": {
      "display_id": null
     }
    },
    {
     "name": "stdout",
     "output_type": "stream",
     "text": [
      "Epoch 011 | loss=0.4508 | AUC=0.8845 | H@1=0.2311 | H@5=0.5283 | H@10=0.6775\n"
     ]
    },
    {
     "data": {
      "text/plain": [
       "Train 12:   0%|          | 0/266 [00:00<?, ?it/s]"
      ],
      "application/vnd.jupyter.widget-view+json": {
       "version_major": 2,
       "version_minor": 0,
       "model_id": "f77a18200c044cdfbec2c5c73a6ad41a"
      }
     },
     "metadata": {},
     "output_type": "display_data",
     "jetTransient": {
      "display_id": null
     }
    },
    {
     "data": {
      "text/plain": [
       "Eval AUC (typed):   0%|          | 0/18 [00:00<?, ?it/s]"
      ],
      "application/vnd.jupyter.widget-view+json": {
       "version_major": 2,
       "version_minor": 0,
       "model_id": "dffe2783705c43e68f7f65cef3b98d2a"
      }
     },
     "metadata": {},
     "output_type": "display_data",
     "jetTransient": {
      "display_id": null
     }
    },
    {
     "data": {
      "text/plain": [
       "Eval Hits (tail):   0%|          | 0/18 [00:00<?, ?it/s]"
      ],
      "application/vnd.jupyter.widget-view+json": {
       "version_major": 2,
       "version_minor": 0,
       "model_id": "cea96a15faeb42608ab4741688f4d8b7"
      }
     },
     "metadata": {},
     "output_type": "display_data",
     "jetTransient": {
      "display_id": null
     }
    },
    {
     "name": "stdout",
     "output_type": "stream",
     "text": [
      "Epoch 012 | loss=0.4497 | AUC=0.8870 | H@1=0.2265 | H@5=0.5322 | H@10=0.6835\n"
     ]
    },
    {
     "data": {
      "text/plain": [
       "Train 13:   0%|          | 0/266 [00:00<?, ?it/s]"
      ],
      "application/vnd.jupyter.widget-view+json": {
       "version_major": 2,
       "version_minor": 0,
       "model_id": "2b5d7c19aaa242c589754b20f9452cba"
      }
     },
     "metadata": {},
     "output_type": "display_data",
     "jetTransient": {
      "display_id": null
     }
    },
    {
     "data": {
      "text/plain": [
       "Eval AUC (typed):   0%|          | 0/18 [00:00<?, ?it/s]"
      ],
      "application/vnd.jupyter.widget-view+json": {
       "version_major": 2,
       "version_minor": 0,
       "model_id": "d963f49c6ae14aeca67e4dd9b90e0bcc"
      }
     },
     "metadata": {},
     "output_type": "display_data",
     "jetTransient": {
      "display_id": null
     }
    },
    {
     "data": {
      "text/plain": [
       "Eval Hits (tail):   0%|          | 0/18 [00:00<?, ?it/s]"
      ],
      "application/vnd.jupyter.widget-view+json": {
       "version_major": 2,
       "version_minor": 0,
       "model_id": "6b16645f3be441eead53784a737b015d"
      }
     },
     "metadata": {},
     "output_type": "display_data",
     "jetTransient": {
      "display_id": null
     }
    },
    {
     "name": "stdout",
     "output_type": "stream",
     "text": [
      "Epoch 013 | loss=0.4493 | AUC=0.8811 | H@1=0.2283 | H@5=0.5365 | H@10=0.6818\n"
     ]
    },
    {
     "data": {
      "text/plain": [
       "Train 14:   0%|          | 0/266 [00:00<?, ?it/s]"
      ],
      "application/vnd.jupyter.widget-view+json": {
       "version_major": 2,
       "version_minor": 0,
       "model_id": "7b5235b773ab4d7ebe77b23cb097f0c4"
      }
     },
     "metadata": {},
     "output_type": "display_data",
     "jetTransient": {
      "display_id": null
     }
    },
    {
     "data": {
      "text/plain": [
       "Eval AUC (typed):   0%|          | 0/18 [00:00<?, ?it/s]"
      ],
      "application/vnd.jupyter.widget-view+json": {
       "version_major": 2,
       "version_minor": 0,
       "model_id": "f78e143799f7469baef02c25ee326aa4"
      }
     },
     "metadata": {},
     "output_type": "display_data",
     "jetTransient": {
      "display_id": null
     }
    },
    {
     "data": {
      "text/plain": [
       "Eval Hits (tail):   0%|          | 0/18 [00:00<?, ?it/s]"
      ],
      "application/vnd.jupyter.widget-view+json": {
       "version_major": 2,
       "version_minor": 0,
       "model_id": "40bce351dc5a40e5b13b674ab88a6d43"
      }
     },
     "metadata": {},
     "output_type": "display_data",
     "jetTransient": {
      "display_id": null
     }
    },
    {
     "name": "stdout",
     "output_type": "stream",
     "text": [
      "Epoch 014 | loss=0.4473 | AUC=0.8876 | H@1=0.2336 | H@5=0.5373 | H@10=0.6886\n"
     ]
    },
    {
     "data": {
      "text/plain": [
       "Train 15:   0%|          | 0/266 [00:00<?, ?it/s]"
      ],
      "application/vnd.jupyter.widget-view+json": {
       "version_major": 2,
       "version_minor": 0,
       "model_id": "4fff637bed3b4964b1e1856e7051ffd2"
      }
     },
     "metadata": {},
     "output_type": "display_data",
     "jetTransient": {
      "display_id": null
     }
    },
    {
     "data": {
      "text/plain": [
       "Eval AUC (typed):   0%|          | 0/18 [00:00<?, ?it/s]"
      ],
      "application/vnd.jupyter.widget-view+json": {
       "version_major": 2,
       "version_minor": 0,
       "model_id": "8d34e2f99ab245a8b5c6fc33b2414cca"
      }
     },
     "metadata": {},
     "output_type": "display_data",
     "jetTransient": {
      "display_id": null
     }
    },
    {
     "data": {
      "text/plain": [
       "Eval Hits (tail):   0%|          | 0/18 [00:00<?, ?it/s]"
      ],
      "application/vnd.jupyter.widget-view+json": {
       "version_major": 2,
       "version_minor": 0,
       "model_id": "1a9d96d1668e4b4b9efbc54a892e46ea"
      }
     },
     "metadata": {},
     "output_type": "display_data",
     "jetTransient": {
      "display_id": null
     }
    },
    {
     "name": "stdout",
     "output_type": "stream",
     "text": [
      "Epoch 015 | loss=0.4475 | AUC=0.8829 | H@1=0.2348 | H@5=0.5395 | H@10=0.6860\n"
     ]
    },
    {
     "data": {
      "text/plain": [
       "Train 16:   0%|          | 0/266 [00:00<?, ?it/s]"
      ],
      "application/vnd.jupyter.widget-view+json": {
       "version_major": 2,
       "version_minor": 0,
       "model_id": "50e68a2a55874ffebfe2f1974252031e"
      }
     },
     "metadata": {},
     "output_type": "display_data",
     "jetTransient": {
      "display_id": null
     }
    },
    {
     "data": {
      "text/plain": [
       "Eval AUC (typed):   0%|          | 0/18 [00:00<?, ?it/s]"
      ],
      "application/vnd.jupyter.widget-view+json": {
       "version_major": 2,
       "version_minor": 0,
       "model_id": "aa4a957e18f04836b8fe5385e5944f24"
      }
     },
     "metadata": {},
     "output_type": "display_data",
     "jetTransient": {
      "display_id": null
     }
    },
    {
     "data": {
      "text/plain": [
       "Eval Hits (tail):   0%|          | 0/18 [00:00<?, ?it/s]"
      ],
      "application/vnd.jupyter.widget-view+json": {
       "version_major": 2,
       "version_minor": 0,
       "model_id": "26d9e8bbc21f4e519626cad0491f5f6f"
      }
     },
     "metadata": {},
     "output_type": "display_data",
     "jetTransient": {
      "display_id": null
     }
    },
    {
     "name": "stdout",
     "output_type": "stream",
     "text": [
      "Epoch 016 | loss=0.4477 | AUC=0.8822 | H@1=0.2296 | H@5=0.5388 | H@10=0.6900\n"
     ]
    },
    {
     "data": {
      "text/plain": [
       "Train 17:   0%|          | 0/266 [00:00<?, ?it/s]"
      ],
      "application/vnd.jupyter.widget-view+json": {
       "version_major": 2,
       "version_minor": 0,
       "model_id": "3ed3bd473d8d4503a5c013a4f0e60f26"
      }
     },
     "metadata": {},
     "output_type": "display_data",
     "jetTransient": {
      "display_id": null
     }
    },
    {
     "data": {
      "text/plain": [
       "Eval AUC (typed):   0%|          | 0/18 [00:00<?, ?it/s]"
      ],
      "application/vnd.jupyter.widget-view+json": {
       "version_major": 2,
       "version_minor": 0,
       "model_id": "1c86d33e4cf64e4483f4e47303ef6248"
      }
     },
     "metadata": {},
     "output_type": "display_data",
     "jetTransient": {
      "display_id": null
     }
    },
    {
     "data": {
      "text/plain": [
       "Eval Hits (tail):   0%|          | 0/18 [00:00<?, ?it/s]"
      ],
      "application/vnd.jupyter.widget-view+json": {
       "version_major": 2,
       "version_minor": 0,
       "model_id": "104ec9345e60437c9f2d6bc9d2391deb"
      }
     },
     "metadata": {},
     "output_type": "display_data",
     "jetTransient": {
      "display_id": null
     }
    },
    {
     "name": "stdout",
     "output_type": "stream",
     "text": [
      "Epoch 017 | loss=0.4474 | AUC=0.8821 | H@1=0.2182 | H@5=0.5305 | H@10=0.6866\n"
     ]
    },
    {
     "data": {
      "text/plain": [
       "Train 18:   0%|          | 0/266 [00:00<?, ?it/s]"
      ],
      "application/vnd.jupyter.widget-view+json": {
       "version_major": 2,
       "version_minor": 0,
       "model_id": "53b340c2755c4d538e1f5bf485f78c60"
      }
     },
     "metadata": {},
     "output_type": "display_data",
     "jetTransient": {
      "display_id": null
     }
    },
    {
     "data": {
      "text/plain": [
       "Eval AUC (typed):   0%|          | 0/18 [00:00<?, ?it/s]"
      ],
      "application/vnd.jupyter.widget-view+json": {
       "version_major": 2,
       "version_minor": 0,
       "model_id": "6b2a82511df74abbbe6d42e83c17386d"
      }
     },
     "metadata": {},
     "output_type": "display_data",
     "jetTransient": {
      "display_id": null
     }
    },
    {
     "data": {
      "text/plain": [
       "Eval Hits (tail):   0%|          | 0/18 [00:00<?, ?it/s]"
      ],
      "application/vnd.jupyter.widget-view+json": {
       "version_major": 2,
       "version_minor": 0,
       "model_id": "50368acfb8dc41a6938b8348ba97c961"
      }
     },
     "metadata": {},
     "output_type": "display_data",
     "jetTransient": {
      "display_id": null
     }
    },
    {
     "name": "stdout",
     "output_type": "stream",
     "text": [
      "Epoch 018 | loss=0.4460 | AUC=0.8784 | H@1=0.2281 | H@5=0.5391 | H@10=0.6870\n"
     ]
    },
    {
     "data": {
      "text/plain": [
       "Train 19:   0%|          | 0/266 [00:00<?, ?it/s]"
      ],
      "application/vnd.jupyter.widget-view+json": {
       "version_major": 2,
       "version_minor": 0,
       "model_id": "b722995d68b34af9a37cbfbe3c3b9f99"
      }
     },
     "metadata": {},
     "output_type": "display_data",
     "jetTransient": {
      "display_id": null
     }
    },
    {
     "data": {
      "text/plain": [
       "Eval AUC (typed):   0%|          | 0/18 [00:00<?, ?it/s]"
      ],
      "application/vnd.jupyter.widget-view+json": {
       "version_major": 2,
       "version_minor": 0,
       "model_id": "942f23c00f9645e1ac8d6741a392d713"
      }
     },
     "metadata": {},
     "output_type": "display_data",
     "jetTransient": {
      "display_id": null
     }
    },
    {
     "data": {
      "text/plain": [
       "Eval Hits (tail):   0%|          | 0/18 [00:00<?, ?it/s]"
      ],
      "application/vnd.jupyter.widget-view+json": {
       "version_major": 2,
       "version_minor": 0,
       "model_id": "22f35e139e484ffe8df67bcdd51c671f"
      }
     },
     "metadata": {},
     "output_type": "display_data",
     "jetTransient": {
      "display_id": null
     }
    },
    {
     "name": "stdout",
     "output_type": "stream",
     "text": [
      "Epoch 019 | loss=0.4459 | AUC=0.8832 | H@1=0.2402 | H@5=0.5518 | H@10=0.6975\n"
     ]
    },
    {
     "data": {
      "text/plain": [
       "Train 20:   0%|          | 0/266 [00:00<?, ?it/s]"
      ],
      "application/vnd.jupyter.widget-view+json": {
       "version_major": 2,
       "version_minor": 0,
       "model_id": "809499a75ec4495daf12fc46518a3cf3"
      }
     },
     "metadata": {},
     "output_type": "display_data",
     "jetTransient": {
      "display_id": null
     }
    },
    {
     "data": {
      "text/plain": [
       "Eval AUC (typed):   0%|          | 0/18 [00:00<?, ?it/s]"
      ],
      "application/vnd.jupyter.widget-view+json": {
       "version_major": 2,
       "version_minor": 0,
       "model_id": "e66bc70637d1400da4d23d9b5b9a4b6b"
      }
     },
     "metadata": {},
     "output_type": "display_data",
     "jetTransient": {
      "display_id": null
     }
    },
    {
     "data": {
      "text/plain": [
       "Eval Hits (tail):   0%|          | 0/18 [00:00<?, ?it/s]"
      ],
      "application/vnd.jupyter.widget-view+json": {
       "version_major": 2,
       "version_minor": 0,
       "model_id": "3274961156a34cd5805e5fe07143f453"
      }
     },
     "metadata": {},
     "output_type": "display_data",
     "jetTransient": {
      "display_id": null
     }
    },
    {
     "name": "stdout",
     "output_type": "stream",
     "text": [
      "Epoch 020 | loss=0.4445 | AUC=0.8783 | H@1=0.2330 | H@5=0.5366 | H@10=0.6876\n"
     ]
    },
    {
     "data": {
      "text/plain": [
       "Train 21:   0%|          | 0/266 [00:00<?, ?it/s]"
      ],
      "application/vnd.jupyter.widget-view+json": {
       "version_major": 2,
       "version_minor": 0,
       "model_id": "3fafe504aa8a48d19389f2b2f8df64b6"
      }
     },
     "metadata": {},
     "output_type": "display_data",
     "jetTransient": {
      "display_id": null
     }
    },
    {
     "data": {
      "text/plain": [
       "Eval AUC (typed):   0%|          | 0/18 [00:00<?, ?it/s]"
      ],
      "application/vnd.jupyter.widget-view+json": {
       "version_major": 2,
       "version_minor": 0,
       "model_id": "c0cfb4d50df34144abdfce1a98865ae2"
      }
     },
     "metadata": {},
     "output_type": "display_data",
     "jetTransient": {
      "display_id": null
     }
    },
    {
     "data": {
      "text/plain": [
       "Eval Hits (tail):   0%|          | 0/18 [00:00<?, ?it/s]"
      ],
      "application/vnd.jupyter.widget-view+json": {
       "version_major": 2,
       "version_minor": 0,
       "model_id": "30dd8201a88945f8a0f63ed299622c6e"
      }
     },
     "metadata": {},
     "output_type": "display_data",
     "jetTransient": {
      "display_id": null
     }
    },
    {
     "name": "stdout",
     "output_type": "stream",
     "text": [
      "Epoch 021 | loss=0.4448 | AUC=0.8811 | H@1=0.2341 | H@5=0.5476 | H@10=0.6944\n"
     ]
    },
    {
     "data": {
      "text/plain": [
       "Train 22:   0%|          | 0/266 [00:00<?, ?it/s]"
      ],
      "application/vnd.jupyter.widget-view+json": {
       "version_major": 2,
       "version_minor": 0,
       "model_id": "c530cd1b8d19478d846bb0e1b341b7f7"
      }
     },
     "metadata": {},
     "output_type": "display_data",
     "jetTransient": {
      "display_id": null
     }
    },
    {
     "data": {
      "text/plain": [
       "Eval AUC (typed):   0%|          | 0/18 [00:00<?, ?it/s]"
      ],
      "application/vnd.jupyter.widget-view+json": {
       "version_major": 2,
       "version_minor": 0,
       "model_id": "83eab25153a444649af2a80d424d40b7"
      }
     },
     "metadata": {},
     "output_type": "display_data",
     "jetTransient": {
      "display_id": null
     }
    },
    {
     "data": {
      "text/plain": [
       "Eval Hits (tail):   0%|          | 0/18 [00:00<?, ?it/s]"
      ],
      "application/vnd.jupyter.widget-view+json": {
       "version_major": 2,
       "version_minor": 0,
       "model_id": "9762f3a871304ae394c6b0f592ab8fb6"
      }
     },
     "metadata": {},
     "output_type": "display_data",
     "jetTransient": {
      "display_id": null
     }
    },
    {
     "name": "stdout",
     "output_type": "stream",
     "text": [
      "Epoch 022 | loss=0.4447 | AUC=0.8830 | H@1=0.2425 | H@5=0.5516 | H@10=0.6965\n"
     ]
    },
    {
     "data": {
      "text/plain": [
       "Train 23:   0%|          | 0/266 [00:00<?, ?it/s]"
      ],
      "application/vnd.jupyter.widget-view+json": {
       "version_major": 2,
       "version_minor": 0,
       "model_id": "872691db261241459aec6e2836db915c"
      }
     },
     "metadata": {},
     "output_type": "display_data",
     "jetTransient": {
      "display_id": null
     }
    },
    {
     "data": {
      "text/plain": [
       "Eval AUC (typed):   0%|          | 0/18 [00:00<?, ?it/s]"
      ],
      "application/vnd.jupyter.widget-view+json": {
       "version_major": 2,
       "version_minor": 0,
       "model_id": "867ab29c3514421691d26567ec3ffe27"
      }
     },
     "metadata": {},
     "output_type": "display_data",
     "jetTransient": {
      "display_id": null
     }
    },
    {
     "data": {
      "text/plain": [
       "Eval Hits (tail):   0%|          | 0/18 [00:00<?, ?it/s]"
      ],
      "application/vnd.jupyter.widget-view+json": {
       "version_major": 2,
       "version_minor": 0,
       "model_id": "3a0d423d707e45e78df9855586d1fde8"
      }
     },
     "metadata": {},
     "output_type": "display_data",
     "jetTransient": {
      "display_id": null
     }
    },
    {
     "name": "stdout",
     "output_type": "stream",
     "text": [
      "Epoch 023 | loss=0.4435 | AUC=0.8820 | H@1=0.2383 | H@5=0.5490 | H@10=0.6981\n"
     ]
    },
    {
     "data": {
      "text/plain": [
       "Train 24:   0%|          | 0/266 [00:00<?, ?it/s]"
      ],
      "application/vnd.jupyter.widget-view+json": {
       "version_major": 2,
       "version_minor": 0,
       "model_id": "8bc97e4c0741469da39bb45f11da5b95"
      }
     },
     "metadata": {},
     "output_type": "display_data",
     "jetTransient": {
      "display_id": null
     }
    },
    {
     "data": {
      "text/plain": [
       "Eval AUC (typed):   0%|          | 0/18 [00:00<?, ?it/s]"
      ],
      "application/vnd.jupyter.widget-view+json": {
       "version_major": 2,
       "version_minor": 0,
       "model_id": "a52d48bb3e3d4b8f9a892ad632e14045"
      }
     },
     "metadata": {},
     "output_type": "display_data",
     "jetTransient": {
      "display_id": null
     }
    },
    {
     "data": {
      "text/plain": [
       "Eval Hits (tail):   0%|          | 0/18 [00:00<?, ?it/s]"
      ],
      "application/vnd.jupyter.widget-view+json": {
       "version_major": 2,
       "version_minor": 0,
       "model_id": "c07725db2dc84f84bf83fe256c0a3887"
      }
     },
     "metadata": {},
     "output_type": "display_data",
     "jetTransient": {
      "display_id": null
     }
    },
    {
     "name": "stdout",
     "output_type": "stream",
     "text": [
      "Epoch 024 | loss=0.4436 | AUC=0.8820 | H@1=0.2209 | H@5=0.5447 | H@10=0.6944\n"
     ]
    },
    {
     "data": {
      "text/plain": [
       "Train 25:   0%|          | 0/266 [00:00<?, ?it/s]"
      ],
      "application/vnd.jupyter.widget-view+json": {
       "version_major": 2,
       "version_minor": 0,
       "model_id": "99d1a1b494374d699f857485303862df"
      }
     },
     "metadata": {},
     "output_type": "display_data",
     "jetTransient": {
      "display_id": null
     }
    },
    {
     "data": {
      "text/plain": [
       "Eval AUC (typed):   0%|          | 0/18 [00:00<?, ?it/s]"
      ],
      "application/vnd.jupyter.widget-view+json": {
       "version_major": 2,
       "version_minor": 0,
       "model_id": "a0bcb651d4864ce891a6c6b05ed64142"
      }
     },
     "metadata": {},
     "output_type": "display_data",
     "jetTransient": {
      "display_id": null
     }
    },
    {
     "data": {
      "text/plain": [
       "Eval Hits (tail):   0%|          | 0/18 [00:00<?, ?it/s]"
      ],
      "application/vnd.jupyter.widget-view+json": {
       "version_major": 2,
       "version_minor": 0,
       "model_id": "c151038cadf647c4a4587d2f05533d3b"
      }
     },
     "metadata": {},
     "output_type": "display_data",
     "jetTransient": {
      "display_id": null
     }
    },
    {
     "name": "stdout",
     "output_type": "stream",
     "text": [
      "Epoch 025 | loss=0.4429 | AUC=0.8815 | H@1=0.2243 | H@5=0.5416 | H@10=0.6945\n"
     ]
    },
    {
     "data": {
      "text/plain": [
       "Train 26:   0%|          | 0/266 [00:00<?, ?it/s]"
      ],
      "application/vnd.jupyter.widget-view+json": {
       "version_major": 2,
       "version_minor": 0,
       "model_id": "21b7370f310d427eb411aa7f0cf6884a"
      }
     },
     "metadata": {},
     "output_type": "display_data",
     "jetTransient": {
      "display_id": null
     }
    },
    {
     "data": {
      "text/plain": [
       "Eval AUC (typed):   0%|          | 0/18 [00:00<?, ?it/s]"
      ],
      "application/vnd.jupyter.widget-view+json": {
       "version_major": 2,
       "version_minor": 0,
       "model_id": "b1e644b417094e4fbd3b76194eb8b23b"
      }
     },
     "metadata": {},
     "output_type": "display_data",
     "jetTransient": {
      "display_id": null
     }
    },
    {
     "data": {
      "text/plain": [
       "Eval Hits (tail):   0%|          | 0/18 [00:00<?, ?it/s]"
      ],
      "application/vnd.jupyter.widget-view+json": {
       "version_major": 2,
       "version_minor": 0,
       "model_id": "262f528c0439421d83cd23ca7de8e1ec"
      }
     },
     "metadata": {},
     "output_type": "display_data",
     "jetTransient": {
      "display_id": null
     }
    },
    {
     "name": "stdout",
     "output_type": "stream",
     "text": [
      "Epoch 026 | loss=0.4421 | AUC=0.8878 | H@1=0.2335 | H@5=0.5482 | H@10=0.6989\n"
     ]
    },
    {
     "data": {
      "text/plain": [
       "Train 27:   0%|          | 0/266 [00:00<?, ?it/s]"
      ],
      "application/vnd.jupyter.widget-view+json": {
       "version_major": 2,
       "version_minor": 0,
       "model_id": "a5fead4d3f9a4acba331ff552cb1670c"
      }
     },
     "metadata": {},
     "output_type": "display_data",
     "jetTransient": {
      "display_id": null
     }
    },
    {
     "data": {
      "text/plain": [
       "Eval AUC (typed):   0%|          | 0/18 [00:00<?, ?it/s]"
      ],
      "application/vnd.jupyter.widget-view+json": {
       "version_major": 2,
       "version_minor": 0,
       "model_id": "2414a6ca91ce41189e0634db1a89a366"
      }
     },
     "metadata": {},
     "output_type": "display_data",
     "jetTransient": {
      "display_id": null
     }
    },
    {
     "data": {
      "text/plain": [
       "Eval Hits (tail):   0%|          | 0/18 [00:00<?, ?it/s]"
      ],
      "application/vnd.jupyter.widget-view+json": {
       "version_major": 2,
       "version_minor": 0,
       "model_id": "35bd22c784534a49a7ff967e60087bcc"
      }
     },
     "metadata": {},
     "output_type": "display_data",
     "jetTransient": {
      "display_id": null
     }
    },
    {
     "name": "stdout",
     "output_type": "stream",
     "text": [
      "Epoch 027 | loss=0.4419 | AUC=0.8795 | H@1=0.2241 | H@5=0.5425 | H@10=0.6926\n"
     ]
    },
    {
     "data": {
      "text/plain": [
       "Train 28:   0%|          | 0/266 [00:00<?, ?it/s]"
      ],
      "application/vnd.jupyter.widget-view+json": {
       "version_major": 2,
       "version_minor": 0,
       "model_id": "0ccf02735be84940925b4787ed31c626"
      }
     },
     "metadata": {},
     "output_type": "display_data",
     "jetTransient": {
      "display_id": null
     }
    },
    {
     "data": {
      "text/plain": [
       "Eval AUC (typed):   0%|          | 0/18 [00:00<?, ?it/s]"
      ],
      "application/vnd.jupyter.widget-view+json": {
       "version_major": 2,
       "version_minor": 0,
       "model_id": "6696a2350a0b43779786a712171a3919"
      }
     },
     "metadata": {},
     "output_type": "display_data",
     "jetTransient": {
      "display_id": null
     }
    },
    {
     "data": {
      "text/plain": [
       "Eval Hits (tail):   0%|          | 0/18 [00:00<?, ?it/s]"
      ],
      "application/vnd.jupyter.widget-view+json": {
       "version_major": 2,
       "version_minor": 0,
       "model_id": "db144e87a8434818a6e7785e5149a06a"
      }
     },
     "metadata": {},
     "output_type": "display_data",
     "jetTransient": {
      "display_id": null
     }
    },
    {
     "name": "stdout",
     "output_type": "stream",
     "text": [
      "Epoch 028 | loss=0.4414 | AUC=0.8758 | H@1=0.2294 | H@5=0.5450 | H@10=0.6932\n"
     ]
    },
    {
     "data": {
      "text/plain": [
       "Train 29:   0%|          | 0/266 [00:00<?, ?it/s]"
      ],
      "application/vnd.jupyter.widget-view+json": {
       "version_major": 2,
       "version_minor": 0,
       "model_id": "c9cb56bbf1ec4118bfcb447f81275319"
      }
     },
     "metadata": {},
     "output_type": "display_data",
     "jetTransient": {
      "display_id": null
     }
    },
    {
     "data": {
      "text/plain": [
       "Eval AUC (typed):   0%|          | 0/18 [00:00<?, ?it/s]"
      ],
      "application/vnd.jupyter.widget-view+json": {
       "version_major": 2,
       "version_minor": 0,
       "model_id": "8c90671dbe6d43ee9766267ca40c0c84"
      }
     },
     "metadata": {},
     "output_type": "display_data",
     "jetTransient": {
      "display_id": null
     }
    },
    {
     "data": {
      "text/plain": [
       "Eval Hits (tail):   0%|          | 0/18 [00:00<?, ?it/s]"
      ],
      "application/vnd.jupyter.widget-view+json": {
       "version_major": 2,
       "version_minor": 0,
       "model_id": "bda1bd5fab4041d6a56abb8ecc1a550c"
      }
     },
     "metadata": {},
     "output_type": "display_data",
     "jetTransient": {
      "display_id": null
     }
    },
    {
     "name": "stdout",
     "output_type": "stream",
     "text": [
      "Epoch 029 | loss=0.4407 | AUC=0.8826 | H@1=0.2320 | H@5=0.5471 | H@10=0.6950\n"
     ]
    },
    {
     "data": {
      "text/plain": [
       "Train 30:   0%|          | 0/266 [00:00<?, ?it/s]"
      ],
      "application/vnd.jupyter.widget-view+json": {
       "version_major": 2,
       "version_minor": 0,
       "model_id": "df4c7e272f4342c693c9b29ec72f8b1a"
      }
     },
     "metadata": {},
     "output_type": "display_data",
     "jetTransient": {
      "display_id": null
     }
    },
    {
     "data": {
      "text/plain": [
       "Eval AUC (typed):   0%|          | 0/18 [00:00<?, ?it/s]"
      ],
      "application/vnd.jupyter.widget-view+json": {
       "version_major": 2,
       "version_minor": 0,
       "model_id": "4c6a13c2a3254099bd0e97610b4972b2"
      }
     },
     "metadata": {},
     "output_type": "display_data",
     "jetTransient": {
      "display_id": null
     }
    },
    {
     "data": {
      "text/plain": [
       "Eval Hits (tail):   0%|          | 0/18 [00:00<?, ?it/s]"
      ],
      "application/vnd.jupyter.widget-view+json": {
       "version_major": 2,
       "version_minor": 0,
       "model_id": "fa0e8bc065994c2aad609ad387be3874"
      }
     },
     "metadata": {},
     "output_type": "display_data",
     "jetTransient": {
      "display_id": null
     }
    },
    {
     "name": "stdout",
     "output_type": "stream",
     "text": [
      "Epoch 030 | loss=0.4418 | AUC=0.8785 | H@1=0.2155 | H@5=0.5379 | H@10=0.6907\n"
     ]
    },
    {
     "data": {
      "text/plain": [
       "Train 31:   0%|          | 0/266 [00:00<?, ?it/s]"
      ],
      "application/vnd.jupyter.widget-view+json": {
       "version_major": 2,
       "version_minor": 0,
       "model_id": "ae9abd52c20c482db497c62dfac933b7"
      }
     },
     "metadata": {},
     "output_type": "display_data",
     "jetTransient": {
      "display_id": null
     }
    },
    {
     "data": {
      "text/plain": [
       "Eval AUC (typed):   0%|          | 0/18 [00:00<?, ?it/s]"
      ],
      "application/vnd.jupyter.widget-view+json": {
       "version_major": 2,
       "version_minor": 0,
       "model_id": "a3bd2ce709df4c9f9ee54d3cc4099dda"
      }
     },
     "metadata": {},
     "output_type": "display_data",
     "jetTransient": {
      "display_id": null
     }
    },
    {
     "data": {
      "text/plain": [
       "Eval Hits (tail):   0%|          | 0/18 [00:00<?, ?it/s]"
      ],
      "application/vnd.jupyter.widget-view+json": {
       "version_major": 2,
       "version_minor": 0,
       "model_id": "b7a9d26125844b13abaecd50c43e5c1c"
      }
     },
     "metadata": {},
     "output_type": "display_data",
     "jetTransient": {
      "display_id": null
     }
    },
    {
     "name": "stdout",
     "output_type": "stream",
     "text": [
      "Epoch 031 | loss=0.4406 | AUC=0.8795 | H@1=0.2281 | H@5=0.5500 | H@10=0.7014\n"
     ]
    },
    {
     "data": {
      "text/plain": [
       "Train 32:   0%|          | 0/266 [00:00<?, ?it/s]"
      ],
      "application/vnd.jupyter.widget-view+json": {
       "version_major": 2,
       "version_minor": 0,
       "model_id": "e3da91e597224c4c97b326a18aa275d4"
      }
     },
     "metadata": {},
     "output_type": "display_data",
     "jetTransient": {
      "display_id": null
     }
    },
    {
     "data": {
      "text/plain": [
       "Eval AUC (typed):   0%|          | 0/18 [00:00<?, ?it/s]"
      ],
      "application/vnd.jupyter.widget-view+json": {
       "version_major": 2,
       "version_minor": 0,
       "model_id": "3c2053842286415d9b77e4ec45ba2f6b"
      }
     },
     "metadata": {},
     "output_type": "display_data",
     "jetTransient": {
      "display_id": null
     }
    },
    {
     "data": {
      "text/plain": [
       "Eval Hits (tail):   0%|          | 0/18 [00:00<?, ?it/s]"
      ],
      "application/vnd.jupyter.widget-view+json": {
       "version_major": 2,
       "version_minor": 0,
       "model_id": "f211cf3ae7c544578af26b81554d96b4"
      }
     },
     "metadata": {},
     "output_type": "display_data",
     "jetTransient": {
      "display_id": null
     }
    },
    {
     "name": "stdout",
     "output_type": "stream",
     "text": [
      "Epoch 032 | loss=0.4403 | AUC=0.8819 | H@1=0.2395 | H@5=0.5551 | H@10=0.7019\n"
     ]
    },
    {
     "data": {
      "text/plain": [
       "Train 33:   0%|          | 0/266 [00:00<?, ?it/s]"
      ],
      "application/vnd.jupyter.widget-view+json": {
       "version_major": 2,
       "version_minor": 0,
       "model_id": "2d22d8622fea4277bcbae7ee809c0624"
      }
     },
     "metadata": {},
     "output_type": "display_data",
     "jetTransient": {
      "display_id": null
     }
    },
    {
     "data": {
      "text/plain": [
       "Eval AUC (typed):   0%|          | 0/18 [00:00<?, ?it/s]"
      ],
      "application/vnd.jupyter.widget-view+json": {
       "version_major": 2,
       "version_minor": 0,
       "model_id": "dcbc5ef570c04ea8b43dfac3a3a90900"
      }
     },
     "metadata": {},
     "output_type": "display_data",
     "jetTransient": {
      "display_id": null
     }
    },
    {
     "data": {
      "text/plain": [
       "Eval Hits (tail):   0%|          | 0/18 [00:00<?, ?it/s]"
      ],
      "application/vnd.jupyter.widget-view+json": {
       "version_major": 2,
       "version_minor": 0,
       "model_id": "31a16d7d16bf4686a734325cfaed8e44"
      }
     },
     "metadata": {},
     "output_type": "display_data",
     "jetTransient": {
      "display_id": null
     }
    },
    {
     "name": "stdout",
     "output_type": "stream",
     "text": [
      "Epoch 033 | loss=0.4399 | AUC=0.8736 | H@1=0.2240 | H@5=0.5446 | H@10=0.6924\n"
     ]
    },
    {
     "data": {
      "text/plain": [
       "Train 34:   0%|          | 0/266 [00:00<?, ?it/s]"
      ],
      "application/vnd.jupyter.widget-view+json": {
       "version_major": 2,
       "version_minor": 0,
       "model_id": "3f41098f45a64748bf8844ad849b21cd"
      }
     },
     "metadata": {},
     "output_type": "display_data",
     "jetTransient": {
      "display_id": null
     }
    },
    {
     "data": {
      "text/plain": [
       "Eval AUC (typed):   0%|          | 0/18 [00:00<?, ?it/s]"
      ],
      "application/vnd.jupyter.widget-view+json": {
       "version_major": 2,
       "version_minor": 0,
       "model_id": "5b99b2902a4b43aeac8229be7e5c9f3f"
      }
     },
     "metadata": {},
     "output_type": "display_data",
     "jetTransient": {
      "display_id": null
     }
    },
    {
     "data": {
      "text/plain": [
       "Eval Hits (tail):   0%|          | 0/18 [00:00<?, ?it/s]"
      ],
      "application/vnd.jupyter.widget-view+json": {
       "version_major": 2,
       "version_minor": 0,
       "model_id": "00d0348a245a488c8cf259d1fabcc1e4"
      }
     },
     "metadata": {},
     "output_type": "display_data",
     "jetTransient": {
      "display_id": null
     }
    },
    {
     "name": "stdout",
     "output_type": "stream",
     "text": [
      "Epoch 034 | loss=0.4396 | AUC=0.8879 | H@1=0.2350 | H@5=0.5545 | H@10=0.7006\n"
     ]
    },
    {
     "data": {
      "text/plain": [
       "Train 35:   0%|          | 0/266 [00:00<?, ?it/s]"
      ],
      "application/vnd.jupyter.widget-view+json": {
       "version_major": 2,
       "version_minor": 0,
       "model_id": "4e55613b2ff44c2794cec09e94e3c834"
      }
     },
     "metadata": {},
     "output_type": "display_data",
     "jetTransient": {
      "display_id": null
     }
    },
    {
     "data": {
      "text/plain": [
       "Eval AUC (typed):   0%|          | 0/18 [00:00<?, ?it/s]"
      ],
      "application/vnd.jupyter.widget-view+json": {
       "version_major": 2,
       "version_minor": 0,
       "model_id": "b41631c9329d44f6adedd3c1efc890b1"
      }
     },
     "metadata": {},
     "output_type": "display_data",
     "jetTransient": {
      "display_id": null
     }
    },
    {
     "data": {
      "text/plain": [
       "Eval Hits (tail):   0%|          | 0/18 [00:00<?, ?it/s]"
      ],
      "application/vnd.jupyter.widget-view+json": {
       "version_major": 2,
       "version_minor": 0,
       "model_id": "4556f236666b456b9ba05f3da4f1bfc1"
      }
     },
     "metadata": {},
     "output_type": "display_data",
     "jetTransient": {
      "display_id": null
     }
    },
    {
     "name": "stdout",
     "output_type": "stream",
     "text": [
      "Epoch 035 | loss=0.4394 | AUC=0.8782 | H@1=0.2294 | H@5=0.5491 | H@10=0.6952\n"
     ]
    },
    {
     "data": {
      "text/plain": [
       "Train 36:   0%|          | 0/266 [00:00<?, ?it/s]"
      ],
      "application/vnd.jupyter.widget-view+json": {
       "version_major": 2,
       "version_minor": 0,
       "model_id": "6371450bdcf74bed90fde33bf82cb814"
      }
     },
     "metadata": {},
     "output_type": "display_data",
     "jetTransient": {
      "display_id": null
     }
    },
    {
     "data": {
      "text/plain": [
       "Eval AUC (typed):   0%|          | 0/18 [00:00<?, ?it/s]"
      ],
      "application/vnd.jupyter.widget-view+json": {
       "version_major": 2,
       "version_minor": 0,
       "model_id": "f40fe3133ddf4f3183a79ce96fd367d3"
      }
     },
     "metadata": {},
     "output_type": "display_data",
     "jetTransient": {
      "display_id": null
     }
    },
    {
     "data": {
      "text/plain": [
       "Eval Hits (tail):   0%|          | 0/18 [00:00<?, ?it/s]"
      ],
      "application/vnd.jupyter.widget-view+json": {
       "version_major": 2,
       "version_minor": 0,
       "model_id": "c76f111b594d43af87513d7697537d10"
      }
     },
     "metadata": {},
     "output_type": "display_data",
     "jetTransient": {
      "display_id": null
     }
    },
    {
     "name": "stdout",
     "output_type": "stream",
     "text": [
      "Epoch 036 | loss=0.4394 | AUC=0.8740 | H@1=0.2228 | H@5=0.5432 | H@10=0.6910\n"
     ]
    },
    {
     "data": {
      "text/plain": [
       "Train 37:   0%|          | 0/266 [00:00<?, ?it/s]"
      ],
      "application/vnd.jupyter.widget-view+json": {
       "version_major": 2,
       "version_minor": 0,
       "model_id": "fe83b85437db4c26a2f88ac7ef2c623a"
      }
     },
     "metadata": {},
     "output_type": "display_data",
     "jetTransient": {
      "display_id": null
     }
    },
    {
     "data": {
      "text/plain": [
       "Eval AUC (typed):   0%|          | 0/18 [00:00<?, ?it/s]"
      ],
      "application/vnd.jupyter.widget-view+json": {
       "version_major": 2,
       "version_minor": 0,
       "model_id": "1b584644d52a49d39729b55ab9ddd34b"
      }
     },
     "metadata": {},
     "output_type": "display_data",
     "jetTransient": {
      "display_id": null
     }
    },
    {
     "data": {
      "text/plain": [
       "Eval Hits (tail):   0%|          | 0/18 [00:00<?, ?it/s]"
      ],
      "application/vnd.jupyter.widget-view+json": {
       "version_major": 2,
       "version_minor": 0,
       "model_id": "df47b3799f91491aaa30a1350722b720"
      }
     },
     "metadata": {},
     "output_type": "display_data",
     "jetTransient": {
      "display_id": null
     }
    },
    {
     "name": "stdout",
     "output_type": "stream",
     "text": [
      "Epoch 037 | loss=0.4394 | AUC=0.8810 | H@1=0.2287 | H@5=0.5476 | H@10=0.6967\n"
     ]
    },
    {
     "data": {
      "text/plain": [
       "Train 38:   0%|          | 0/266 [00:00<?, ?it/s]"
      ],
      "application/vnd.jupyter.widget-view+json": {
       "version_major": 2,
       "version_minor": 0,
       "model_id": "ed9d053c45964899b2b92907d02da932"
      }
     },
     "metadata": {},
     "output_type": "display_data",
     "jetTransient": {
      "display_id": null
     }
    },
    {
     "data": {
      "text/plain": [
       "Eval AUC (typed):   0%|          | 0/18 [00:00<?, ?it/s]"
      ],
      "application/vnd.jupyter.widget-view+json": {
       "version_major": 2,
       "version_minor": 0,
       "model_id": "57adbfa5b2ae429a827b573a44f1d3c6"
      }
     },
     "metadata": {},
     "output_type": "display_data",
     "jetTransient": {
      "display_id": null
     }
    },
    {
     "data": {
      "text/plain": [
       "Eval Hits (tail):   0%|          | 0/18 [00:00<?, ?it/s]"
      ],
      "application/vnd.jupyter.widget-view+json": {
       "version_major": 2,
       "version_minor": 0,
       "model_id": "281c49a37d0943aba0bb53cb3fbf0ed5"
      }
     },
     "metadata": {},
     "output_type": "display_data",
     "jetTransient": {
      "display_id": null
     }
    },
    {
     "name": "stdout",
     "output_type": "stream",
     "text": [
      "Epoch 038 | loss=0.4389 | AUC=0.8764 | H@1=0.2285 | H@5=0.5485 | H@10=0.6958\n"
     ]
    },
    {
     "data": {
      "text/plain": [
       "Train 39:   0%|          | 0/266 [00:00<?, ?it/s]"
      ],
      "application/vnd.jupyter.widget-view+json": {
       "version_major": 2,
       "version_minor": 0,
       "model_id": "8d79795a2d704e3c875f254b6fda8e65"
      }
     },
     "metadata": {},
     "output_type": "display_data",
     "jetTransient": {
      "display_id": null
     }
    },
    {
     "data": {
      "text/plain": [
       "Eval AUC (typed):   0%|          | 0/18 [00:00<?, ?it/s]"
      ],
      "application/vnd.jupyter.widget-view+json": {
       "version_major": 2,
       "version_minor": 0,
       "model_id": "94ceeaf5fe504d74a8801f586c3282c2"
      }
     },
     "metadata": {},
     "output_type": "display_data",
     "jetTransient": {
      "display_id": null
     }
    },
    {
     "data": {
      "text/plain": [
       "Eval Hits (tail):   0%|          | 0/18 [00:00<?, ?it/s]"
      ],
      "application/vnd.jupyter.widget-view+json": {
       "version_major": 2,
       "version_minor": 0,
       "model_id": "b0df031af41f4ce48f27b8431edcc9da"
      }
     },
     "metadata": {},
     "output_type": "display_data",
     "jetTransient": {
      "display_id": null
     }
    },
    {
     "name": "stdout",
     "output_type": "stream",
     "text": [
      "Epoch 039 | loss=0.4399 | AUC=0.8829 | H@1=0.2326 | H@5=0.5554 | H@10=0.7037\n"
     ]
    },
    {
     "data": {
      "text/plain": [
       "Train 40:   0%|          | 0/266 [00:00<?, ?it/s]"
      ],
      "application/vnd.jupyter.widget-view+json": {
       "version_major": 2,
       "version_minor": 0,
       "model_id": "6de5b18fc33d4044bc4b9d0134343a48"
      }
     },
     "metadata": {},
     "output_type": "display_data",
     "jetTransient": {
      "display_id": null
     }
    },
    {
     "data": {
      "text/plain": [
       "Eval AUC (typed):   0%|          | 0/18 [00:00<?, ?it/s]"
      ],
      "application/vnd.jupyter.widget-view+json": {
       "version_major": 2,
       "version_minor": 0,
       "model_id": "fcfaf330a4ac400d97cb46192f7ca2b5"
      }
     },
     "metadata": {},
     "output_type": "display_data",
     "jetTransient": {
      "display_id": null
     }
    },
    {
     "data": {
      "text/plain": [
       "Eval Hits (tail):   0%|          | 0/18 [00:00<?, ?it/s]"
      ],
      "application/vnd.jupyter.widget-view+json": {
       "version_major": 2,
       "version_minor": 0,
       "model_id": "95d97e0864934a4ab8e474a4c3c12b4a"
      }
     },
     "metadata": {},
     "output_type": "display_data",
     "jetTransient": {
      "display_id": null
     }
    },
    {
     "name": "stdout",
     "output_type": "stream",
     "text": [
      "Epoch 040 | loss=0.4385 | AUC=0.8799 | H@1=0.2294 | H@5=0.5525 | H@10=0.7014\n"
     ]
    },
    {
     "data": {
      "text/plain": [
       "Train 41:   0%|          | 0/266 [00:00<?, ?it/s]"
      ],
      "application/vnd.jupyter.widget-view+json": {
       "version_major": 2,
       "version_minor": 0,
       "model_id": "a8e4c3aec4834643bd6550a31d0791a4"
      }
     },
     "metadata": {},
     "output_type": "display_data",
     "jetTransient": {
      "display_id": null
     }
    },
    {
     "data": {
      "text/plain": [
       "Eval AUC (typed):   0%|          | 0/18 [00:00<?, ?it/s]"
      ],
      "application/vnd.jupyter.widget-view+json": {
       "version_major": 2,
       "version_minor": 0,
       "model_id": "355d1cca3d394e3f8adc6409b370f50d"
      }
     },
     "metadata": {},
     "output_type": "display_data",
     "jetTransient": {
      "display_id": null
     }
    },
    {
     "data": {
      "text/plain": [
       "Eval Hits (tail):   0%|          | 0/18 [00:00<?, ?it/s]"
      ],
      "application/vnd.jupyter.widget-view+json": {
       "version_major": 2,
       "version_minor": 0,
       "model_id": "7d02ce5609e742dabae5a799c4e3f8ac"
      }
     },
     "metadata": {},
     "output_type": "display_data",
     "jetTransient": {
      "display_id": null
     }
    },
    {
     "name": "stdout",
     "output_type": "stream",
     "text": [
      "Epoch 041 | loss=0.4378 | AUC=0.8845 | H@1=0.2314 | H@5=0.5562 | H@10=0.7069\n"
     ]
    },
    {
     "data": {
      "text/plain": [
       "Train 42:   0%|          | 0/266 [00:00<?, ?it/s]"
      ],
      "application/vnd.jupyter.widget-view+json": {
       "version_major": 2,
       "version_minor": 0,
       "model_id": "2008029dc9bf479dab46ed1537e123b8"
      }
     },
     "metadata": {},
     "output_type": "display_data",
     "jetTransient": {
      "display_id": null
     }
    },
    {
     "data": {
      "text/plain": [
       "Eval AUC (typed):   0%|          | 0/18 [00:00<?, ?it/s]"
      ],
      "application/vnd.jupyter.widget-view+json": {
       "version_major": 2,
       "version_minor": 0,
       "model_id": "8721e95d2246405e8db01440a3aadca8"
      }
     },
     "metadata": {},
     "output_type": "display_data",
     "jetTransient": {
      "display_id": null
     }
    },
    {
     "data": {
      "text/plain": [
       "Eval Hits (tail):   0%|          | 0/18 [00:00<?, ?it/s]"
      ],
      "application/vnd.jupyter.widget-view+json": {
       "version_major": 2,
       "version_minor": 0,
       "model_id": "c4228409e8d245f686e48407c8a68286"
      }
     },
     "metadata": {},
     "output_type": "display_data",
     "jetTransient": {
      "display_id": null
     }
    },
    {
     "name": "stdout",
     "output_type": "stream",
     "text": [
      "Epoch 042 | loss=0.4375 | AUC=0.8738 | H@1=0.2255 | H@5=0.5500 | H@10=0.6963\n"
     ]
    },
    {
     "data": {
      "text/plain": [
       "Train 43:   0%|          | 0/266 [00:00<?, ?it/s]"
      ],
      "application/vnd.jupyter.widget-view+json": {
       "version_major": 2,
       "version_minor": 0,
       "model_id": "f5c6a1cadd1f4d5f96c55a1abbc2d1b5"
      }
     },
     "metadata": {},
     "output_type": "display_data",
     "jetTransient": {
      "display_id": null
     }
    },
    {
     "data": {
      "text/plain": [
       "Eval AUC (typed):   0%|          | 0/18 [00:00<?, ?it/s]"
      ],
      "application/vnd.jupyter.widget-view+json": {
       "version_major": 2,
       "version_minor": 0,
       "model_id": "23a7c9c609a748a9a5a101d98571297c"
      }
     },
     "metadata": {},
     "output_type": "display_data",
     "jetTransient": {
      "display_id": null
     }
    },
    {
     "data": {
      "text/plain": [
       "Eval Hits (tail):   0%|          | 0/18 [00:00<?, ?it/s]"
      ],
      "application/vnd.jupyter.widget-view+json": {
       "version_major": 2,
       "version_minor": 0,
       "model_id": "125ee3d70b88424cac824d82fdce1741"
      }
     },
     "metadata": {},
     "output_type": "display_data",
     "jetTransient": {
      "display_id": null
     }
    },
    {
     "name": "stdout",
     "output_type": "stream",
     "text": [
      "Epoch 043 | loss=0.4383 | AUC=0.8748 | H@1=0.2324 | H@5=0.5527 | H@10=0.6981\n"
     ]
    },
    {
     "data": {
      "text/plain": [
       "Train 44:   0%|          | 0/266 [00:00<?, ?it/s]"
      ],
      "application/vnd.jupyter.widget-view+json": {
       "version_major": 2,
       "version_minor": 0,
       "model_id": "4436ec69c3ee4b38be1169dfa36db813"
      }
     },
     "metadata": {},
     "output_type": "display_data",
     "jetTransient": {
      "display_id": null
     }
    },
    {
     "data": {
      "text/plain": [
       "Eval AUC (typed):   0%|          | 0/18 [00:00<?, ?it/s]"
      ],
      "application/vnd.jupyter.widget-view+json": {
       "version_major": 2,
       "version_minor": 0,
       "model_id": "0b2d93c53b1d441abd30e5d68e499de3"
      }
     },
     "metadata": {},
     "output_type": "display_data",
     "jetTransient": {
      "display_id": null
     }
    },
    {
     "data": {
      "text/plain": [
       "Eval Hits (tail):   0%|          | 0/18 [00:00<?, ?it/s]"
      ],
      "application/vnd.jupyter.widget-view+json": {
       "version_major": 2,
       "version_minor": 0,
       "model_id": "246d6c3394c146578f0178f402b04f4e"
      }
     },
     "metadata": {},
     "output_type": "display_data",
     "jetTransient": {
      "display_id": null
     }
    },
    {
     "name": "stdout",
     "output_type": "stream",
     "text": [
      "Epoch 044 | loss=0.4384 | AUC=0.8752 | H@1=0.2240 | H@5=0.5484 | H@10=0.7006\n"
     ]
    },
    {
     "data": {
      "text/plain": [
       "Train 45:   0%|          | 0/266 [00:00<?, ?it/s]"
      ],
      "application/vnd.jupyter.widget-view+json": {
       "version_major": 2,
       "version_minor": 0,
       "model_id": "89eefa90f3cb45a2b95f21f903e93859"
      }
     },
     "metadata": {},
     "output_type": "display_data",
     "jetTransient": {
      "display_id": null
     }
    },
    {
     "data": {
      "text/plain": [
       "Eval AUC (typed):   0%|          | 0/18 [00:00<?, ?it/s]"
      ],
      "application/vnd.jupyter.widget-view+json": {
       "version_major": 2,
       "version_minor": 0,
       "model_id": "fef3cf54b6dd48a3ad17e105bfdc9a90"
      }
     },
     "metadata": {},
     "output_type": "display_data",
     "jetTransient": {
      "display_id": null
     }
    },
    {
     "data": {
      "text/plain": [
       "Eval Hits (tail):   0%|          | 0/18 [00:00<?, ?it/s]"
      ],
      "application/vnd.jupyter.widget-view+json": {
       "version_major": 2,
       "version_minor": 0,
       "model_id": "7f253ad7d5794adcb3f4c93ce0ca6552"
      }
     },
     "metadata": {},
     "output_type": "display_data",
     "jetTransient": {
      "display_id": null
     }
    },
    {
     "name": "stdout",
     "output_type": "stream",
     "text": [
      "Epoch 045 | loss=0.4367 | AUC=0.8758 | H@1=0.2372 | H@5=0.5597 | H@10=0.7034\n"
     ]
    },
    {
     "data": {
      "text/plain": [
       "Train 46:   0%|          | 0/266 [00:00<?, ?it/s]"
      ],
      "application/vnd.jupyter.widget-view+json": {
       "version_major": 2,
       "version_minor": 0,
       "model_id": "319124b76f0a4be3930d97396e0d714b"
      }
     },
     "metadata": {},
     "output_type": "display_data",
     "jetTransient": {
      "display_id": null
     }
    },
    {
     "data": {
      "text/plain": [
       "Eval AUC (typed):   0%|          | 0/18 [00:00<?, ?it/s]"
      ],
      "application/vnd.jupyter.widget-view+json": {
       "version_major": 2,
       "version_minor": 0,
       "model_id": "736de8ebc908423da99b3091c6350060"
      }
     },
     "metadata": {},
     "output_type": "display_data",
     "jetTransient": {
      "display_id": null
     }
    },
    {
     "data": {
      "text/plain": [
       "Eval Hits (tail):   0%|          | 0/18 [00:00<?, ?it/s]"
      ],
      "application/vnd.jupyter.widget-view+json": {
       "version_major": 2,
       "version_minor": 0,
       "model_id": "a978884a18a4471186e23b4b458aff88"
      }
     },
     "metadata": {},
     "output_type": "display_data",
     "jetTransient": {
      "display_id": null
     }
    },
    {
     "name": "stdout",
     "output_type": "stream",
     "text": [
      "Epoch 046 | loss=0.4375 | AUC=0.8718 | H@1=0.2338 | H@5=0.5527 | H@10=0.6977\n"
     ]
    },
    {
     "data": {
      "text/plain": [
       "Train 47:   0%|          | 0/266 [00:00<?, ?it/s]"
      ],
      "application/vnd.jupyter.widget-view+json": {
       "version_major": 2,
       "version_minor": 0,
       "model_id": "c28a6ec83d114b84b519752ea9821c5a"
      }
     },
     "metadata": {},
     "output_type": "display_data",
     "jetTransient": {
      "display_id": null
     }
    },
    {
     "data": {
      "text/plain": [
       "Eval AUC (typed):   0%|          | 0/18 [00:00<?, ?it/s]"
      ],
      "application/vnd.jupyter.widget-view+json": {
       "version_major": 2,
       "version_minor": 0,
       "model_id": "3474f7bbfe1c40f0a68b64836034f907"
      }
     },
     "metadata": {},
     "output_type": "display_data",
     "jetTransient": {
      "display_id": null
     }
    },
    {
     "data": {
      "text/plain": [
       "Eval Hits (tail):   0%|          | 0/18 [00:00<?, ?it/s]"
      ],
      "application/vnd.jupyter.widget-view+json": {
       "version_major": 2,
       "version_minor": 0,
       "model_id": "cde34f458afa47a7a0ef819e720e3c6c"
      }
     },
     "metadata": {},
     "output_type": "display_data",
     "jetTransient": {
      "display_id": null
     }
    },
    {
     "name": "stdout",
     "output_type": "stream",
     "text": [
      "Epoch 047 | loss=0.4372 | AUC=0.8870 | H@1=0.2415 | H@5=0.5577 | H@10=0.7033\n"
     ]
    },
    {
     "data": {
      "text/plain": [
       "Train 48:   0%|          | 0/266 [00:00<?, ?it/s]"
      ],
      "application/vnd.jupyter.widget-view+json": {
       "version_major": 2,
       "version_minor": 0,
       "model_id": "f9a2f2405a5c4716a2e02926401afcfa"
      }
     },
     "metadata": {},
     "output_type": "display_data",
     "jetTransient": {
      "display_id": null
     }
    },
    {
     "data": {
      "text/plain": [
       "Eval AUC (typed):   0%|          | 0/18 [00:00<?, ?it/s]"
      ],
      "application/vnd.jupyter.widget-view+json": {
       "version_major": 2,
       "version_minor": 0,
       "model_id": "d40f35d8becb4886abdfee8e1d4b8494"
      }
     },
     "metadata": {},
     "output_type": "display_data",
     "jetTransient": {
      "display_id": null
     }
    },
    {
     "data": {
      "text/plain": [
       "Eval Hits (tail):   0%|          | 0/18 [00:00<?, ?it/s]"
      ],
      "application/vnd.jupyter.widget-view+json": {
       "version_major": 2,
       "version_minor": 0,
       "model_id": "e70b5efd5bc44e689773b80b6e95ffce"
      }
     },
     "metadata": {},
     "output_type": "display_data",
     "jetTransient": {
      "display_id": null
     }
    },
    {
     "name": "stdout",
     "output_type": "stream",
     "text": [
      "Epoch 048 | loss=0.4373 | AUC=0.8705 | H@1=0.2347 | H@5=0.5581 | H@10=0.7040\n"
     ]
    },
    {
     "data": {
      "text/plain": [
       "Train 49:   0%|          | 0/266 [00:00<?, ?it/s]"
      ],
      "application/vnd.jupyter.widget-view+json": {
       "version_major": 2,
       "version_minor": 0,
       "model_id": "6082afbc45e742258ac18ed560f43e6a"
      }
     },
     "metadata": {},
     "output_type": "display_data",
     "jetTransient": {
      "display_id": null
     }
    },
    {
     "data": {
      "text/plain": [
       "Eval AUC (typed):   0%|          | 0/18 [00:00<?, ?it/s]"
      ],
      "application/vnd.jupyter.widget-view+json": {
       "version_major": 2,
       "version_minor": 0,
       "model_id": "0d88b7a3293e4490ad7ce0793c99e6ba"
      }
     },
     "metadata": {},
     "output_type": "display_data",
     "jetTransient": {
      "display_id": null
     }
    },
    {
     "data": {
      "text/plain": [
       "Eval Hits (tail):   0%|          | 0/18 [00:00<?, ?it/s]"
      ],
      "application/vnd.jupyter.widget-view+json": {
       "version_major": 2,
       "version_minor": 0,
       "model_id": "3525345af7744a66b384c072f7f8e904"
      }
     },
     "metadata": {},
     "output_type": "display_data",
     "jetTransient": {
      "display_id": null
     }
    },
    {
     "name": "stdout",
     "output_type": "stream",
     "text": [
      "Epoch 049 | loss=0.4369 | AUC=0.8763 | H@1=0.2295 | H@5=0.5496 | H@10=0.6993\n"
     ]
    },
    {
     "data": {
      "text/plain": [
       "Train 50:   0%|          | 0/266 [00:00<?, ?it/s]"
      ],
      "application/vnd.jupyter.widget-view+json": {
       "version_major": 2,
       "version_minor": 0,
       "model_id": "050fa1c1283e441c9665ea47e0872056"
      }
     },
     "metadata": {},
     "output_type": "display_data",
     "jetTransient": {
      "display_id": null
     }
    },
    {
     "data": {
      "text/plain": [
       "Eval AUC (typed):   0%|          | 0/18 [00:00<?, ?it/s]"
      ],
      "application/vnd.jupyter.widget-view+json": {
       "version_major": 2,
       "version_minor": 0,
       "model_id": "d58d8e6fc2c64ac680db5961426cc6b4"
      }
     },
     "metadata": {},
     "output_type": "display_data",
     "jetTransient": {
      "display_id": null
     }
    },
    {
     "data": {
      "text/plain": [
       "Eval Hits (tail):   0%|          | 0/18 [00:00<?, ?it/s]"
      ],
      "application/vnd.jupyter.widget-view+json": {
       "version_major": 2,
       "version_minor": 0,
       "model_id": "4eda7bbfefe04ff2b0f3693656945acf"
      }
     },
     "metadata": {},
     "output_type": "display_data",
     "jetTransient": {
      "display_id": null
     }
    },
    {
     "name": "stdout",
     "output_type": "stream",
     "text": [
      "Epoch 050 | loss=0.4372 | AUC=0.8741 | H@1=0.2234 | H@5=0.5491 | H@10=0.6985\n"
     ]
    },
    {
     "data": {
      "text/plain": [
       "Train 51:   0%|          | 0/266 [00:00<?, ?it/s]"
      ],
      "application/vnd.jupyter.widget-view+json": {
       "version_major": 2,
       "version_minor": 0,
       "model_id": "28468299f8dc49c4ba6fc2ce33f15d55"
      }
     },
     "metadata": {},
     "output_type": "display_data",
     "jetTransient": {
      "display_id": null
     }
    },
    {
     "data": {
      "text/plain": [
       "Eval AUC (typed):   0%|          | 0/18 [00:00<?, ?it/s]"
      ],
      "application/vnd.jupyter.widget-view+json": {
       "version_major": 2,
       "version_minor": 0,
       "model_id": "a09467d2cda94a4fb8a1645c1406d665"
      }
     },
     "metadata": {},
     "output_type": "display_data",
     "jetTransient": {
      "display_id": null
     }
    },
    {
     "data": {
      "text/plain": [
       "Eval Hits (tail):   0%|          | 0/18 [00:00<?, ?it/s]"
      ],
      "application/vnd.jupyter.widget-view+json": {
       "version_major": 2,
       "version_minor": 0,
       "model_id": "29c795479e984ad389dcb4871cb6a4d5"
      }
     },
     "metadata": {},
     "output_type": "display_data",
     "jetTransient": {
      "display_id": null
     }
    },
    {
     "name": "stdout",
     "output_type": "stream",
     "text": [
      "Epoch 051 | loss=0.4371 | AUC=0.8795 | H@1=0.2369 | H@5=0.5578 | H@10=0.7030\n",
      "Early stopping at epoch 51 (patience=10).\n",
      "Restored best model from epoch 41 | AUC=0.8845 | Hits@10=0.7069\n",
      "Typed Link Prediction: Decoder Comparison - 2025-10-15 09:18:06\n",
      "================================================================================\n",
      "\n",
      "R-GIN + DistMult Training History\n",
      "============================================================\n",
      "\n",
      "Best Validation AUC: 0.9791\n",
      "Total Epochs Trained: 41\n",
      "Early Stopping Best Score: 0.9187 (Hits@10 at epoch 31)\n",
      "\n",
      "------------------------------------------------------------\n",
      "Epoch    Train Loss      Val AUC         Val Hits@10    \n",
      "------------------------------------------------------------\n",
      "1        0.3959          0.9575          0.8318         \n",
      "2        0.2093          0.9676          0.8670         \n",
      "3        0.1854          0.9701          0.8838         \n",
      "4        0.1734          0.9717          0.8877         \n",
      "5        0.1650          0.9741          0.8918         \n",
      "6        0.1595          0.9752          0.8957         \n",
      "7        0.1552          0.9766          0.8982         \n",
      "8        0.1515          0.9761          0.9001         \n",
      "9        0.1491          0.9755          0.9023         \n",
      "10       0.1463          0.9764          0.9026         \n",
      "11       0.1435          0.9767          0.9035         \n",
      "12       0.1425          0.9773          0.9063         \n",
      "13       0.1405          0.9769          0.9084         \n",
      "14       0.1383          0.9769          0.9086         \n",
      "15       0.1368          0.9776          0.9081         \n",
      "16       0.1364          0.9774          0.9076         \n",
      "17       0.1353          0.9779          0.9093         \n",
      "18       0.1327          0.9768          0.9096         \n",
      "19       0.1316          0.9779          0.9102         \n",
      "20       0.1321          0.9785          0.9125         \n",
      "21       0.1315          0.9786          0.9113         \n",
      "22       0.1301          0.9780          0.9142         \n",
      "23       0.1287          0.9776          0.9116         \n",
      "24       0.1283          0.9789          0.9141         \n",
      "25       0.1270          0.9781          0.9145         \n",
      "26       0.1273          0.9772          0.9109         \n",
      "27       0.1267          0.9776          0.9125         \n",
      "28       0.1253          0.9782          0.9151         \n",
      "29       0.1250          0.9766          0.9167         \n",
      "30       0.1258          0.9784          0.9153         \n",
      "31       0.1251          0.9785          0.9187         \n",
      "32       0.1240          0.9773          0.9141         \n",
      "33       0.1233          0.9781          0.9164         \n",
      "34       0.1237          0.9773          0.9168         \n",
      "35       0.1229          0.9791          0.9153         \n",
      "36       0.1221          0.9773          0.9179         \n",
      "37       0.1225          0.9777          0.9182         \n",
      "38       0.1229          0.9778          0.9181         \n",
      "39       0.1222          0.9776          0.9185         \n",
      "40       0.1214          0.9782          0.9182         \n",
      "41       0.1223          0.9771          0.9156         \n",
      "\n",
      "R-GIN + DotProduct Training History\n",
      "============================================================\n",
      "\n",
      "Best Validation AUC: 0.8879\n",
      "Total Epochs Trained: 51\n",
      "Early Stopping Best Score: 0.7069 (Hits@10 at epoch 41)\n",
      "\n",
      "------------------------------------------------------------\n",
      "Epoch    Train Loss      Val AUC         Val Hits@10    \n",
      "------------------------------------------------------------\n",
      "1        0.5261          0.8582          0.5971         \n",
      "2        0.4805          0.8718          0.6440         \n",
      "3        0.4694          0.8747          0.6453         \n",
      "4        0.4642          0.8807          0.6537         \n",
      "5        0.4618          0.8811          0.6642         \n",
      "6        0.4590          0.8850          0.6709         \n",
      "7        0.4572          0.8873          0.6818         \n",
      "8        0.4551          0.8833          0.6760         \n",
      "9        0.4533          0.8802          0.6772         \n",
      "10       0.4529          0.8826          0.6707         \n",
      "11       0.4508          0.8845          0.6775         \n",
      "12       0.4497          0.8870          0.6835         \n",
      "13       0.4493          0.8811          0.6818         \n",
      "14       0.4473          0.8876          0.6886         \n",
      "15       0.4475          0.8829          0.6860         \n",
      "16       0.4477          0.8822          0.6900         \n",
      "17       0.4474          0.8821          0.6866         \n",
      "18       0.4460          0.8784          0.6870         \n",
      "19       0.4459          0.8832          0.6975         \n",
      "20       0.4445          0.8783          0.6876         \n",
      "21       0.4448          0.8811          0.6944         \n",
      "22       0.4447          0.8830          0.6965         \n",
      "23       0.4435          0.8820          0.6981         \n",
      "24       0.4436          0.8820          0.6944         \n",
      "25       0.4429          0.8815          0.6945         \n",
      "26       0.4421          0.8878          0.6989         \n",
      "27       0.4419          0.8795          0.6926         \n",
      "28       0.4414          0.8758          0.6932         \n",
      "29       0.4407          0.8826          0.6950         \n",
      "30       0.4418          0.8785          0.6907         \n",
      "31       0.4406          0.8795          0.7014         \n",
      "32       0.4403          0.8819          0.7019         \n",
      "33       0.4399          0.8736          0.6924         \n",
      "34       0.4396          0.8879          0.7006         \n",
      "35       0.4394          0.8782          0.6952         \n",
      "36       0.4394          0.8740          0.6910         \n",
      "37       0.4394          0.8810          0.6967         \n",
      "38       0.4389          0.8764          0.6958         \n",
      "39       0.4399          0.8829          0.7037         \n",
      "40       0.4385          0.8799          0.7014         \n",
      "41       0.4378          0.8845          0.7069         \n",
      "42       0.4375          0.8738          0.6963         \n",
      "43       0.4383          0.8748          0.6981         \n",
      "44       0.4384          0.8752          0.7006         \n",
      "45       0.4367          0.8758          0.7034         \n",
      "46       0.4375          0.8718          0.6977         \n",
      "47       0.4372          0.8870          0.7033         \n",
      "48       0.4373          0.8705          0.7040         \n",
      "49       0.4369          0.8763          0.6993         \n",
      "50       0.4372          0.8741          0.6985         \n",
      "51       0.4371          0.8795          0.7030         \n",
      "\n",
      "Best Validation Metrics Summary\n",
      "============================================================\n",
      "R-GIN + DistMult: AUC=0.9785 | H@1=0.5311 | H@5=0.8223 | H@10=0.9187 (epoch 31)\n",
      "R-GIN + DotProduct: AUC=0.8845 | H@1=0.2314 | H@5=0.5562 | H@10=0.7069 (epoch 41)\n",
      "\n",
      "\n",
      "✅ Comparison report saved to: /Users/choonggi/Coding/jetbrains/sc4020-Project-1/GIN/results/embed_rel/FB15K-237/comparison_rgin_distmult_vs_dot|embed_dim=128|mlp_depth=3|aggre=3|dataset=FB15K-237.txt\n"
     ]
    },
    {
     "data": {
      "text/plain": [
       "Epochs (typed):   0%|          | 0/100 [00:00<?, ?it/s]"
      ],
      "application/vnd.jupyter.widget-view+json": {
       "version_major": 2,
       "version_minor": 0,
       "model_id": "42fdb9c4d98949ec92c1dd800eb92a6b"
      }
     },
     "metadata": {},
     "output_type": "display_data",
     "jetTransient": {
      "display_id": null
     }
    },
    {
     "data": {
      "text/plain": [
       "Train 1:   0%|          | 0/266 [00:00<?, ?it/s]"
      ],
      "application/vnd.jupyter.widget-view+json": {
       "version_major": 2,
       "version_minor": 0,
       "model_id": "7c104a65c1b6462d8d544e60c86d6ecf"
      }
     },
     "metadata": {},
     "output_type": "display_data",
     "jetTransient": {
      "display_id": null
     }
    },
    {
     "data": {
      "text/plain": [
       "Eval AUC (typed):   0%|          | 0/18 [00:00<?, ?it/s]"
      ],
      "application/vnd.jupyter.widget-view+json": {
       "version_major": 2,
       "version_minor": 0,
       "model_id": "dee796c2daa148b4895241f8e985db4e"
      }
     },
     "metadata": {},
     "output_type": "display_data",
     "jetTransient": {
      "display_id": null
     }
    },
    {
     "data": {
      "text/plain": [
       "Eval Hits (tail):   0%|          | 0/18 [00:00<?, ?it/s]"
      ],
      "application/vnd.jupyter.widget-view+json": {
       "version_major": 2,
       "version_minor": 0,
       "model_id": "fddc47a199924fe2b627f2929bea0a6f"
      }
     },
     "metadata": {},
     "output_type": "display_data",
     "jetTransient": {
      "display_id": null
     }
    },
    {
     "name": "stdout",
     "output_type": "stream",
     "text": [
      "Epoch 001 | loss=0.4436 | AUC=0.9319 | H@1=0.2681 | H@5=0.5952 | H@10=0.7601\n"
     ]
    },
    {
     "data": {
      "text/plain": [
       "Train 2:   0%|          | 0/266 [00:00<?, ?it/s]"
      ],
      "application/vnd.jupyter.widget-view+json": {
       "version_major": 2,
       "version_minor": 0,
       "model_id": "fb371c2426a443248ba891bbb0b13792"
      }
     },
     "metadata": {},
     "output_type": "display_data",
     "jetTransient": {
      "display_id": null
     }
    },
    {
     "data": {
      "text/plain": [
       "Eval AUC (typed):   0%|          | 0/18 [00:00<?, ?it/s]"
      ],
      "application/vnd.jupyter.widget-view+json": {
       "version_major": 2,
       "version_minor": 0,
       "model_id": "486912a9b31c40108944c5d65d401ef6"
      }
     },
     "metadata": {},
     "output_type": "display_data",
     "jetTransient": {
      "display_id": null
     }
    },
    {
     "data": {
      "text/plain": [
       "Eval Hits (tail):   0%|          | 0/18 [00:00<?, ?it/s]"
      ],
      "application/vnd.jupyter.widget-view+json": {
       "version_major": 2,
       "version_minor": 0,
       "model_id": "1ec7b1cf8770461cb5c3df029526998f"
      }
     },
     "metadata": {},
     "output_type": "display_data",
     "jetTransient": {
      "display_id": null
     }
    },
    {
     "name": "stdout",
     "output_type": "stream",
     "text": [
      "Epoch 002 | loss=0.2520 | AUC=0.9604 | H@1=0.3939 | H@5=0.7104 | H@10=0.8390\n"
     ]
    },
    {
     "data": {
      "text/plain": [
       "Train 3:   0%|          | 0/266 [00:00<?, ?it/s]"
      ],
      "application/vnd.jupyter.widget-view+json": {
       "version_major": 2,
       "version_minor": 0,
       "model_id": "c7885d518a1f474fa07159634f2e1cfa"
      }
     },
     "metadata": {},
     "output_type": "display_data",
     "jetTransient": {
      "display_id": null
     }
    },
    {
     "data": {
      "text/plain": [
       "Eval AUC (typed):   0%|          | 0/18 [00:00<?, ?it/s]"
      ],
      "application/vnd.jupyter.widget-view+json": {
       "version_major": 2,
       "version_minor": 0,
       "model_id": "0b407cfd154541cd862250f833e2f672"
      }
     },
     "metadata": {},
     "output_type": "display_data",
     "jetTransient": {
      "display_id": null
     }
    },
    {
     "data": {
      "text/plain": [
       "Eval Hits (tail):   0%|          | 0/18 [00:00<?, ?it/s]"
      ],
      "application/vnd.jupyter.widget-view+json": {
       "version_major": 2,
       "version_minor": 0,
       "model_id": "b2d366407d3f46e7a540cb68d8cedb21"
      }
     },
     "metadata": {},
     "output_type": "display_data",
     "jetTransient": {
      "display_id": null
     }
    },
    {
     "name": "stdout",
     "output_type": "stream",
     "text": [
      "Epoch 003 | loss=0.2134 | AUC=0.9633 | H@1=0.4151 | H@5=0.7393 | H@10=0.8581\n"
     ]
    },
    {
     "data": {
      "text/plain": [
       "Train 4:   0%|          | 0/266 [00:00<?, ?it/s]"
      ],
      "application/vnd.jupyter.widget-view+json": {
       "version_major": 2,
       "version_minor": 0,
       "model_id": "c77b158b34d2488aaf0efe07e5838630"
      }
     },
     "metadata": {},
     "output_type": "display_data",
     "jetTransient": {
      "display_id": null
     }
    },
    {
     "data": {
      "text/plain": [
       "Eval AUC (typed):   0%|          | 0/18 [00:00<?, ?it/s]"
      ],
      "application/vnd.jupyter.widget-view+json": {
       "version_major": 2,
       "version_minor": 0,
       "model_id": "a2205ad8cbe040e9975fc6644f9c4639"
      }
     },
     "metadata": {},
     "output_type": "display_data",
     "jetTransient": {
      "display_id": null
     }
    },
    {
     "data": {
      "text/plain": [
       "Eval Hits (tail):   0%|          | 0/18 [00:00<?, ?it/s]"
      ],
      "application/vnd.jupyter.widget-view+json": {
       "version_major": 2,
       "version_minor": 0,
       "model_id": "757a6b2c12594df9845c07150b57bcb2"
      }
     },
     "metadata": {},
     "output_type": "display_data",
     "jetTransient": {
      "display_id": null
     }
    },
    {
     "name": "stdout",
     "output_type": "stream",
     "text": [
      "Epoch 004 | loss=0.1958 | AUC=0.9662 | H@1=0.4434 | H@5=0.7562 | H@10=0.8735\n"
     ]
    },
    {
     "data": {
      "text/plain": [
       "Train 5:   0%|          | 0/266 [00:00<?, ?it/s]"
      ],
      "application/vnd.jupyter.widget-view+json": {
       "version_major": 2,
       "version_minor": 0,
       "model_id": "1a7874136c244b8b83503c0834e2a8d1"
      }
     },
     "metadata": {},
     "output_type": "display_data",
     "jetTransient": {
      "display_id": null
     }
    },
    {
     "data": {
      "text/plain": [
       "Eval AUC (typed):   0%|          | 0/18 [00:00<?, ?it/s]"
      ],
      "application/vnd.jupyter.widget-view+json": {
       "version_major": 2,
       "version_minor": 0,
       "model_id": "c036343e581d46d0b07f62cff45ebaa0"
      }
     },
     "metadata": {},
     "output_type": "display_data",
     "jetTransient": {
      "display_id": null
     }
    },
    {
     "data": {
      "text/plain": [
       "Eval Hits (tail):   0%|          | 0/18 [00:00<?, ?it/s]"
      ],
      "application/vnd.jupyter.widget-view+json": {
       "version_major": 2,
       "version_minor": 0,
       "model_id": "791087c94eec4d669fe4e2dd2dba3346"
      }
     },
     "metadata": {},
     "output_type": "display_data",
     "jetTransient": {
      "display_id": null
     }
    },
    {
     "name": "stdout",
     "output_type": "stream",
     "text": [
      "Epoch 005 | loss=0.1834 | AUC=0.9707 | H@1=0.4583 | H@5=0.7654 | H@10=0.8788\n"
     ]
    },
    {
     "data": {
      "text/plain": [
       "Train 6:   0%|          | 0/266 [00:00<?, ?it/s]"
      ],
      "application/vnd.jupyter.widget-view+json": {
       "version_major": 2,
       "version_minor": 0,
       "model_id": "c3133da9bda747fcb99da5a9e162231c"
      }
     },
     "metadata": {},
     "output_type": "display_data",
     "jetTransient": {
      "display_id": null
     }
    },
    {
     "data": {
      "text/plain": [
       "Eval AUC (typed):   0%|          | 0/18 [00:00<?, ?it/s]"
      ],
      "application/vnd.jupyter.widget-view+json": {
       "version_major": 2,
       "version_minor": 0,
       "model_id": "fdc71f4f80424a0db8ae9a557748d919"
      }
     },
     "metadata": {},
     "output_type": "display_data",
     "jetTransient": {
      "display_id": null
     }
    },
    {
     "data": {
      "text/plain": [
       "Eval Hits (tail):   0%|          | 0/18 [00:00<?, ?it/s]"
      ],
      "application/vnd.jupyter.widget-view+json": {
       "version_major": 2,
       "version_minor": 0,
       "model_id": "5749cf70d30e4685ac107bd1a56676d7"
      }
     },
     "metadata": {},
     "output_type": "display_data",
     "jetTransient": {
      "display_id": null
     }
    },
    {
     "name": "stdout",
     "output_type": "stream",
     "text": [
      "Epoch 006 | loss=0.1747 | AUC=0.9723 | H@1=0.4656 | H@5=0.7739 | H@10=0.8867\n"
     ]
    },
    {
     "data": {
      "text/plain": [
       "Train 7:   0%|          | 0/266 [00:00<?, ?it/s]"
      ],
      "application/vnd.jupyter.widget-view+json": {
       "version_major": 2,
       "version_minor": 0,
       "model_id": "4df40705caa24c3aa87546f1f4f77eb8"
      }
     },
     "metadata": {},
     "output_type": "display_data",
     "jetTransient": {
      "display_id": null
     }
    },
    {
     "data": {
      "text/plain": [
       "Eval AUC (typed):   0%|          | 0/18 [00:00<?, ?it/s]"
      ],
      "application/vnd.jupyter.widget-view+json": {
       "version_major": 2,
       "version_minor": 0,
       "model_id": "4df0e4d1d3c1491983f432346b9a1fc4"
      }
     },
     "metadata": {},
     "output_type": "display_data",
     "jetTransient": {
      "display_id": null
     }
    },
    {
     "data": {
      "text/plain": [
       "Eval Hits (tail):   0%|          | 0/18 [00:00<?, ?it/s]"
      ],
      "application/vnd.jupyter.widget-view+json": {
       "version_major": 2,
       "version_minor": 0,
       "model_id": "a8975b3ecf72482ead7360bd87cd95e1"
      }
     },
     "metadata": {},
     "output_type": "display_data",
     "jetTransient": {
      "display_id": null
     }
    },
    {
     "name": "stdout",
     "output_type": "stream",
     "text": [
      "Epoch 007 | loss=0.1686 | AUC=0.9736 | H@1=0.4721 | H@5=0.7774 | H@10=0.8894\n"
     ]
    },
    {
     "data": {
      "text/plain": [
       "Train 8:   0%|          | 0/266 [00:00<?, ?it/s]"
      ],
      "application/vnd.jupyter.widget-view+json": {
       "version_major": 2,
       "version_minor": 0,
       "model_id": "1572072dd8c745f5997f0b83d05e419f"
      }
     },
     "metadata": {},
     "output_type": "display_data",
     "jetTransient": {
      "display_id": null
     }
    },
    {
     "data": {
      "text/plain": [
       "Eval AUC (typed):   0%|          | 0/18 [00:00<?, ?it/s]"
      ],
      "application/vnd.jupyter.widget-view+json": {
       "version_major": 2,
       "version_minor": 0,
       "model_id": "df6c2ee50f3744bf878a1890a8cc5b70"
      }
     },
     "metadata": {},
     "output_type": "display_data",
     "jetTransient": {
      "display_id": null
     }
    },
    {
     "data": {
      "text/plain": [
       "Eval Hits (tail):   0%|          | 0/18 [00:00<?, ?it/s]"
      ],
      "application/vnd.jupyter.widget-view+json": {
       "version_major": 2,
       "version_minor": 0,
       "model_id": "704ea9c0cf824ce08de59362fdbeecb9"
      }
     },
     "metadata": {},
     "output_type": "display_data",
     "jetTransient": {
      "display_id": null
     }
    },
    {
     "name": "stdout",
     "output_type": "stream",
     "text": [
      "Epoch 008 | loss=0.1642 | AUC=0.9738 | H@1=0.4725 | H@5=0.7773 | H@10=0.8923\n"
     ]
    },
    {
     "data": {
      "text/plain": [
       "Train 9:   0%|          | 0/266 [00:00<?, ?it/s]"
      ],
      "application/vnd.jupyter.widget-view+json": {
       "version_major": 2,
       "version_minor": 0,
       "model_id": "c3f4cbe926544b1888374608640b6fc9"
      }
     },
     "metadata": {},
     "output_type": "display_data",
     "jetTransient": {
      "display_id": null
     }
    },
    {
     "data": {
      "text/plain": [
       "Eval AUC (typed):   0%|          | 0/18 [00:00<?, ?it/s]"
      ],
      "application/vnd.jupyter.widget-view+json": {
       "version_major": 2,
       "version_minor": 0,
       "model_id": "872a0da92d0e47dfaf96eec9bf713404"
      }
     },
     "metadata": {},
     "output_type": "display_data",
     "jetTransient": {
      "display_id": null
     }
    },
    {
     "data": {
      "text/plain": [
       "Eval Hits (tail):   0%|          | 0/18 [00:00<?, ?it/s]"
      ],
      "application/vnd.jupyter.widget-view+json": {
       "version_major": 2,
       "version_minor": 0,
       "model_id": "ef42a16f467c481290143fbc3fcb244b"
      }
     },
     "metadata": {},
     "output_type": "display_data",
     "jetTransient": {
      "display_id": null
     }
    },
    {
     "name": "stdout",
     "output_type": "stream",
     "text": [
      "Epoch 009 | loss=0.1600 | AUC=0.9735 | H@1=0.4745 | H@5=0.7816 | H@10=0.8918\n"
     ]
    },
    {
     "data": {
      "text/plain": [
       "Train 10:   0%|          | 0/266 [00:00<?, ?it/s]"
      ],
      "application/vnd.jupyter.widget-view+json": {
       "version_major": 2,
       "version_minor": 0,
       "model_id": "0162a4f0077541e9b0c240a9ed80e5a2"
      }
     },
     "metadata": {},
     "output_type": "display_data",
     "jetTransient": {
      "display_id": null
     }
    },
    {
     "data": {
      "text/plain": [
       "Eval AUC (typed):   0%|          | 0/18 [00:00<?, ?it/s]"
      ],
      "application/vnd.jupyter.widget-view+json": {
       "version_major": 2,
       "version_minor": 0,
       "model_id": "5f61ba07aa7446488eda28de69544bb5"
      }
     },
     "metadata": {},
     "output_type": "display_data",
     "jetTransient": {
      "display_id": null
     }
    },
    {
     "data": {
      "text/plain": [
       "Eval Hits (tail):   0%|          | 0/18 [00:00<?, ?it/s]"
      ],
      "application/vnd.jupyter.widget-view+json": {
       "version_major": 2,
       "version_minor": 0,
       "model_id": "0209a6efc1c6457d92197db450578267"
      }
     },
     "metadata": {},
     "output_type": "display_data",
     "jetTransient": {
      "display_id": null
     }
    },
    {
     "name": "stdout",
     "output_type": "stream",
     "text": [
      "Epoch 010 | loss=0.1563 | AUC=0.9759 | H@1=0.4938 | H@5=0.7894 | H@10=0.8963\n"
     ]
    },
    {
     "data": {
      "text/plain": [
       "Train 11:   0%|          | 0/266 [00:00<?, ?it/s]"
      ],
      "application/vnd.jupyter.widget-view+json": {
       "version_major": 2,
       "version_minor": 0,
       "model_id": "9265b89b7168439ca8db532ac4247e05"
      }
     },
     "metadata": {},
     "output_type": "display_data",
     "jetTransient": {
      "display_id": null
     }
    },
    {
     "data": {
      "text/plain": [
       "Eval AUC (typed):   0%|          | 0/18 [00:00<?, ?it/s]"
      ],
      "application/vnd.jupyter.widget-view+json": {
       "version_major": 2,
       "version_minor": 0,
       "model_id": "9199fe9a37a64b0a82db41b645555fb2"
      }
     },
     "metadata": {},
     "output_type": "display_data",
     "jetTransient": {
      "display_id": null
     }
    },
    {
     "data": {
      "text/plain": [
       "Eval Hits (tail):   0%|          | 0/18 [00:00<?, ?it/s]"
      ],
      "application/vnd.jupyter.widget-view+json": {
       "version_major": 2,
       "version_minor": 0,
       "model_id": "48e9fedb3e3f43cc96c722b492dbf2f4"
      }
     },
     "metadata": {},
     "output_type": "display_data",
     "jetTransient": {
      "display_id": null
     }
    },
    {
     "name": "stdout",
     "output_type": "stream",
     "text": [
      "Epoch 011 | loss=0.1539 | AUC=0.9763 | H@1=0.4894 | H@5=0.7881 | H@10=0.8961\n"
     ]
    },
    {
     "data": {
      "text/plain": [
       "Train 12:   0%|          | 0/266 [00:00<?, ?it/s]"
      ],
      "application/vnd.jupyter.widget-view+json": {
       "version_major": 2,
       "version_minor": 0,
       "model_id": "226160a8a5654bf8a43afdd10a9d345a"
      }
     },
     "metadata": {},
     "output_type": "display_data",
     "jetTransient": {
      "display_id": null
     }
    },
    {
     "data": {
      "text/plain": [
       "Eval AUC (typed):   0%|          | 0/18 [00:00<?, ?it/s]"
      ],
      "application/vnd.jupyter.widget-view+json": {
       "version_major": 2,
       "version_minor": 0,
       "model_id": "3a4371becb324f9da688467e2eff8631"
      }
     },
     "metadata": {},
     "output_type": "display_data",
     "jetTransient": {
      "display_id": null
     }
    },
    {
     "data": {
      "text/plain": [
       "Eval Hits (tail):   0%|          | 0/18 [00:00<?, ?it/s]"
      ],
      "application/vnd.jupyter.widget-view+json": {
       "version_major": 2,
       "version_minor": 0,
       "model_id": "5cfa76cf1dce488782557b66a82771e7"
      }
     },
     "metadata": {},
     "output_type": "display_data",
     "jetTransient": {
      "display_id": null
     }
    },
    {
     "name": "stdout",
     "output_type": "stream",
     "text": [
      "Epoch 012 | loss=0.1529 | AUC=0.9766 | H@1=0.4968 | H@5=0.7952 | H@10=0.8987\n"
     ]
    },
    {
     "data": {
      "text/plain": [
       "Train 13:   0%|          | 0/266 [00:00<?, ?it/s]"
      ],
      "application/vnd.jupyter.widget-view+json": {
       "version_major": 2,
       "version_minor": 0,
       "model_id": "461065eee0ee45328e872caa68103a04"
      }
     },
     "metadata": {},
     "output_type": "display_data",
     "jetTransient": {
      "display_id": null
     }
    },
    {
     "data": {
      "text/plain": [
       "Eval AUC (typed):   0%|          | 0/18 [00:00<?, ?it/s]"
      ],
      "application/vnd.jupyter.widget-view+json": {
       "version_major": 2,
       "version_minor": 0,
       "model_id": "f32d634c33324d178c946aef0eff51a3"
      }
     },
     "metadata": {},
     "output_type": "display_data",
     "jetTransient": {
      "display_id": null
     }
    },
    {
     "data": {
      "text/plain": [
       "Eval Hits (tail):   0%|          | 0/18 [00:00<?, ?it/s]"
      ],
      "application/vnd.jupyter.widget-view+json": {
       "version_major": 2,
       "version_minor": 0,
       "model_id": "08a3a8db9af0449fb454568192759f25"
      }
     },
     "metadata": {},
     "output_type": "display_data",
     "jetTransient": {
      "display_id": null
     }
    },
    {
     "name": "stdout",
     "output_type": "stream",
     "text": [
      "Epoch 013 | loss=0.1498 | AUC=0.9752 | H@1=0.4910 | H@5=0.7904 | H@10=0.8975\n"
     ]
    },
    {
     "data": {
      "text/plain": [
       "Train 14:   0%|          | 0/266 [00:00<?, ?it/s]"
      ],
      "application/vnd.jupyter.widget-view+json": {
       "version_major": 2,
       "version_minor": 0,
       "model_id": "504fb1beb4d34be7a74268a04901a1e3"
      }
     },
     "metadata": {},
     "output_type": "display_data",
     "jetTransient": {
      "display_id": null
     }
    },
    {
     "data": {
      "text/plain": [
       "Eval AUC (typed):   0%|          | 0/18 [00:00<?, ?it/s]"
      ],
      "application/vnd.jupyter.widget-view+json": {
       "version_major": 2,
       "version_minor": 0,
       "model_id": "8744d4d4ddcb4f38a6f80787fab95724"
      }
     },
     "metadata": {},
     "output_type": "display_data",
     "jetTransient": {
      "display_id": null
     }
    },
    {
     "data": {
      "text/plain": [
       "Eval Hits (tail):   0%|          | 0/18 [00:00<?, ?it/s]"
      ],
      "application/vnd.jupyter.widget-view+json": {
       "version_major": 2,
       "version_minor": 0,
       "model_id": "c4ceab373d184638837829caf1dbfa2c"
      }
     },
     "metadata": {},
     "output_type": "display_data",
     "jetTransient": {
      "display_id": null
     }
    },
    {
     "name": "stdout",
     "output_type": "stream",
     "text": [
      "Epoch 014 | loss=0.1485 | AUC=0.9772 | H@1=0.5017 | H@5=0.7933 | H@10=0.8993\n"
     ]
    },
    {
     "data": {
      "text/plain": [
       "Train 15:   0%|          | 0/266 [00:00<?, ?it/s]"
      ],
      "application/vnd.jupyter.widget-view+json": {
       "version_major": 2,
       "version_minor": 0,
       "model_id": "7cd98dc7f06341b2a7a56929652fd86c"
      }
     },
     "metadata": {},
     "output_type": "display_data",
     "jetTransient": {
      "display_id": null
     }
    },
    {
     "data": {
      "text/plain": [
       "Eval AUC (typed):   0%|          | 0/18 [00:00<?, ?it/s]"
      ],
      "application/vnd.jupyter.widget-view+json": {
       "version_major": 2,
       "version_minor": 0,
       "model_id": "3ecd5c992d5f43fa8e7f847ceae35e47"
      }
     },
     "metadata": {},
     "output_type": "display_data",
     "jetTransient": {
      "display_id": null
     }
    },
    {
     "data": {
      "text/plain": [
       "Eval Hits (tail):   0%|          | 0/18 [00:00<?, ?it/s]"
      ],
      "application/vnd.jupyter.widget-view+json": {
       "version_major": 2,
       "version_minor": 0,
       "model_id": "a28ba345d49a4a479cee256b35ff1346"
      }
     },
     "metadata": {},
     "output_type": "display_data",
     "jetTransient": {
      "display_id": null
     }
    },
    {
     "name": "stdout",
     "output_type": "stream",
     "text": [
      "Epoch 015 | loss=0.1451 | AUC=0.9770 | H@1=0.5022 | H@5=0.7990 | H@10=0.9008\n"
     ]
    },
    {
     "data": {
      "text/plain": [
       "Train 16:   0%|          | 0/266 [00:00<?, ?it/s]"
      ],
      "application/vnd.jupyter.widget-view+json": {
       "version_major": 2,
       "version_minor": 0,
       "model_id": "58aa8faf7c9d4f4b9f544711c7cca887"
      }
     },
     "metadata": {},
     "output_type": "display_data",
     "jetTransient": {
      "display_id": null
     }
    },
    {
     "data": {
      "text/plain": [
       "Eval AUC (typed):   0%|          | 0/18 [00:00<?, ?it/s]"
      ],
      "application/vnd.jupyter.widget-view+json": {
       "version_major": 2,
       "version_minor": 0,
       "model_id": "6ca533e1045e4618b8cdc8eba2183fd4"
      }
     },
     "metadata": {},
     "output_type": "display_data",
     "jetTransient": {
      "display_id": null
     }
    },
    {
     "data": {
      "text/plain": [
       "Eval Hits (tail):   0%|          | 0/18 [00:00<?, ?it/s]"
      ],
      "application/vnd.jupyter.widget-view+json": {
       "version_major": 2,
       "version_minor": 0,
       "model_id": "63846930661d4a5e94499e3b1b2f06c1"
      }
     },
     "metadata": {},
     "output_type": "display_data",
     "jetTransient": {
      "display_id": null
     }
    },
    {
     "name": "stdout",
     "output_type": "stream",
     "text": [
      "Epoch 016 | loss=0.1450 | AUC=0.9783 | H@1=0.5120 | H@5=0.7994 | H@10=0.9005\n"
     ]
    },
    {
     "data": {
      "text/plain": [
       "Train 17:   0%|          | 0/266 [00:00<?, ?it/s]"
      ],
      "application/vnd.jupyter.widget-view+json": {
       "version_major": 2,
       "version_minor": 0,
       "model_id": "061d1491cbb44023b2fc988ff2bbc16e"
      }
     },
     "metadata": {},
     "output_type": "display_data",
     "jetTransient": {
      "display_id": null
     }
    },
    {
     "data": {
      "text/plain": [
       "Eval AUC (typed):   0%|          | 0/18 [00:00<?, ?it/s]"
      ],
      "application/vnd.jupyter.widget-view+json": {
       "version_major": 2,
       "version_minor": 0,
       "model_id": "b7e8b2d515d246f1bbaf94fae2df097b"
      }
     },
     "metadata": {},
     "output_type": "display_data",
     "jetTransient": {
      "display_id": null
     }
    },
    {
     "data": {
      "text/plain": [
       "Eval Hits (tail):   0%|          | 0/18 [00:00<?, ?it/s]"
      ],
      "application/vnd.jupyter.widget-view+json": {
       "version_major": 2,
       "version_minor": 0,
       "model_id": "5e399d7fed4d428085876f6253b2867f"
      }
     },
     "metadata": {},
     "output_type": "display_data",
     "jetTransient": {
      "display_id": null
     }
    },
    {
     "name": "stdout",
     "output_type": "stream",
     "text": [
      "Epoch 017 | loss=0.1436 | AUC=0.9771 | H@1=0.5010 | H@5=0.7998 | H@10=0.9027\n"
     ]
    },
    {
     "data": {
      "text/plain": [
       "Train 18:   0%|          | 0/266 [00:00<?, ?it/s]"
      ],
      "application/vnd.jupyter.widget-view+json": {
       "version_major": 2,
       "version_minor": 0,
       "model_id": "ecfd00843fc24bd98a55aee6649b37ca"
      }
     },
     "metadata": {},
     "output_type": "display_data",
     "jetTransient": {
      "display_id": null
     }
    },
    {
     "data": {
      "text/plain": [
       "Eval AUC (typed):   0%|          | 0/18 [00:00<?, ?it/s]"
      ],
      "application/vnd.jupyter.widget-view+json": {
       "version_major": 2,
       "version_minor": 0,
       "model_id": "2189ca343fd042c2bf07f819bdd997e1"
      }
     },
     "metadata": {},
     "output_type": "display_data",
     "jetTransient": {
      "display_id": null
     }
    },
    {
     "data": {
      "text/plain": [
       "Eval Hits (tail):   0%|          | 0/18 [00:00<?, ?it/s]"
      ],
      "application/vnd.jupyter.widget-view+json": {
       "version_major": 2,
       "version_minor": 0,
       "model_id": "969adb87b5814135bc918678504f4ea2"
      }
     },
     "metadata": {},
     "output_type": "display_data",
     "jetTransient": {
      "display_id": null
     }
    },
    {
     "name": "stdout",
     "output_type": "stream",
     "text": [
      "Epoch 018 | loss=0.1433 | AUC=0.9766 | H@1=0.5045 | H@5=0.7963 | H@10=0.9000\n"
     ]
    },
    {
     "data": {
      "text/plain": [
       "Train 19:   0%|          | 0/266 [00:00<?, ?it/s]"
      ],
      "application/vnd.jupyter.widget-view+json": {
       "version_major": 2,
       "version_minor": 0,
       "model_id": "bdaee4684f4c40a28180fe903d9344c1"
      }
     },
     "metadata": {},
     "output_type": "display_data",
     "jetTransient": {
      "display_id": null
     }
    },
    {
     "data": {
      "text/plain": [
       "Eval AUC (typed):   0%|          | 0/18 [00:00<?, ?it/s]"
      ],
      "application/vnd.jupyter.widget-view+json": {
       "version_major": 2,
       "version_minor": 0,
       "model_id": "5c705b96d27144a7afc268f6c9617710"
      }
     },
     "metadata": {},
     "output_type": "display_data",
     "jetTransient": {
      "display_id": null
     }
    },
    {
     "data": {
      "text/plain": [
       "Eval Hits (tail):   0%|          | 0/18 [00:00<?, ?it/s]"
      ],
      "application/vnd.jupyter.widget-view+json": {
       "version_major": 2,
       "version_minor": 0,
       "model_id": "9b0f3c0a278141678da44e673a4508f2"
      }
     },
     "metadata": {},
     "output_type": "display_data",
     "jetTransient": {
      "display_id": null
     }
    },
    {
     "name": "stdout",
     "output_type": "stream",
     "text": [
      "Epoch 019 | loss=0.1414 | AUC=0.9769 | H@1=0.5092 | H@5=0.7981 | H@10=0.9032\n"
     ]
    },
    {
     "data": {
      "text/plain": [
       "Train 20:   0%|          | 0/266 [00:00<?, ?it/s]"
      ],
      "application/vnd.jupyter.widget-view+json": {
       "version_major": 2,
       "version_minor": 0,
       "model_id": "6daa99a82d064843bd74ca9eebf86d49"
      }
     },
     "metadata": {},
     "output_type": "display_data",
     "jetTransient": {
      "display_id": null
     }
    },
    {
     "data": {
      "text/plain": [
       "Eval AUC (typed):   0%|          | 0/18 [00:00<?, ?it/s]"
      ],
      "application/vnd.jupyter.widget-view+json": {
       "version_major": 2,
       "version_minor": 0,
       "model_id": "b43f40b3422f4608a89dc677045b7517"
      }
     },
     "metadata": {},
     "output_type": "display_data",
     "jetTransient": {
      "display_id": null
     }
    },
    {
     "data": {
      "text/plain": [
       "Eval Hits (tail):   0%|          | 0/18 [00:00<?, ?it/s]"
      ],
      "application/vnd.jupyter.widget-view+json": {
       "version_major": 2,
       "version_minor": 0,
       "model_id": "3914a147275b4d95aeb396ede27fc390"
      }
     },
     "metadata": {},
     "output_type": "display_data",
     "jetTransient": {
      "display_id": null
     }
    },
    {
     "name": "stdout",
     "output_type": "stream",
     "text": [
      "Epoch 020 | loss=0.1409 | AUC=0.9777 | H@1=0.5115 | H@5=0.8029 | H@10=0.9055\n"
     ]
    },
    {
     "data": {
      "text/plain": [
       "Train 21:   0%|          | 0/266 [00:00<?, ?it/s]"
      ],
      "application/vnd.jupyter.widget-view+json": {
       "version_major": 2,
       "version_minor": 0,
       "model_id": "81181a83a27441c7bad4a831064fa5c4"
      }
     },
     "metadata": {},
     "output_type": "display_data",
     "jetTransient": {
      "display_id": null
     }
    },
    {
     "data": {
      "text/plain": [
       "Eval AUC (typed):   0%|          | 0/18 [00:00<?, ?it/s]"
      ],
      "application/vnd.jupyter.widget-view+json": {
       "version_major": 2,
       "version_minor": 0,
       "model_id": "e38c1c52506e495d8f7fe271fd4978ce"
      }
     },
     "metadata": {},
     "output_type": "display_data",
     "jetTransient": {
      "display_id": null
     }
    },
    {
     "data": {
      "text/plain": [
       "Eval Hits (tail):   0%|          | 0/18 [00:00<?, ?it/s]"
      ],
      "application/vnd.jupyter.widget-view+json": {
       "version_major": 2,
       "version_minor": 0,
       "model_id": "511d6703c3ff46c68893bbe9b004e3e3"
      }
     },
     "metadata": {},
     "output_type": "display_data",
     "jetTransient": {
      "display_id": null
     }
    },
    {
     "name": "stdout",
     "output_type": "stream",
     "text": [
      "Epoch 021 | loss=0.1404 | AUC=0.9769 | H@1=0.5117 | H@5=0.8036 | H@10=0.9058\n"
     ]
    },
    {
     "data": {
      "text/plain": [
       "Train 22:   0%|          | 0/266 [00:00<?, ?it/s]"
      ],
      "application/vnd.jupyter.widget-view+json": {
       "version_major": 2,
       "version_minor": 0,
       "model_id": "c28f7071800b4709817f0f8928c86612"
      }
     },
     "metadata": {},
     "output_type": "display_data",
     "jetTransient": {
      "display_id": null
     }
    },
    {
     "data": {
      "text/plain": [
       "Eval AUC (typed):   0%|          | 0/18 [00:00<?, ?it/s]"
      ],
      "application/vnd.jupyter.widget-view+json": {
       "version_major": 2,
       "version_minor": 0,
       "model_id": "5682dc7ca45345bea24aae1bc676ed8a"
      }
     },
     "metadata": {},
     "output_type": "display_data",
     "jetTransient": {
      "display_id": null
     }
    },
    {
     "data": {
      "text/plain": [
       "Eval Hits (tail):   0%|          | 0/18 [00:00<?, ?it/s]"
      ],
      "application/vnd.jupyter.widget-view+json": {
       "version_major": 2,
       "version_minor": 0,
       "model_id": "16210ed34a2f47adaef1e78fa94d358c"
      }
     },
     "metadata": {},
     "output_type": "display_data",
     "jetTransient": {
      "display_id": null
     }
    },
    {
     "name": "stdout",
     "output_type": "stream",
     "text": [
      "Epoch 022 | loss=0.1395 | AUC=0.9780 | H@1=0.5115 | H@5=0.8030 | H@10=0.9061\n"
     ]
    },
    {
     "data": {
      "text/plain": [
       "Train 23:   0%|          | 0/266 [00:00<?, ?it/s]"
      ],
      "application/vnd.jupyter.widget-view+json": {
       "version_major": 2,
       "version_minor": 0,
       "model_id": "afac69bc2ced465597863d177a12adbc"
      }
     },
     "metadata": {},
     "output_type": "display_data",
     "jetTransient": {
      "display_id": null
     }
    },
    {
     "data": {
      "text/plain": [
       "Eval AUC (typed):   0%|          | 0/18 [00:00<?, ?it/s]"
      ],
      "application/vnd.jupyter.widget-view+json": {
       "version_major": 2,
       "version_minor": 0,
       "model_id": "06674ae5a5a8418194a810c4a8525f1c"
      }
     },
     "metadata": {},
     "output_type": "display_data",
     "jetTransient": {
      "display_id": null
     }
    },
    {
     "data": {
      "text/plain": [
       "Eval Hits (tail):   0%|          | 0/18 [00:00<?, ?it/s]"
      ],
      "application/vnd.jupyter.widget-view+json": {
       "version_major": 2,
       "version_minor": 0,
       "model_id": "c88340c66ae84a32a796b7cc1fd3df2f"
      }
     },
     "metadata": {},
     "output_type": "display_data",
     "jetTransient": {
      "display_id": null
     }
    },
    {
     "name": "stdout",
     "output_type": "stream",
     "text": [
      "Epoch 023 | loss=0.1385 | AUC=0.9778 | H@1=0.5145 | H@5=0.8044 | H@10=0.9071\n"
     ]
    },
    {
     "data": {
      "text/plain": [
       "Train 24:   0%|          | 0/266 [00:00<?, ?it/s]"
      ],
      "application/vnd.jupyter.widget-view+json": {
       "version_major": 2,
       "version_minor": 0,
       "model_id": "f558eaa9d16e41f89ab1063f94ece8bb"
      }
     },
     "metadata": {},
     "output_type": "display_data",
     "jetTransient": {
      "display_id": null
     }
    },
    {
     "data": {
      "text/plain": [
       "Eval AUC (typed):   0%|          | 0/18 [00:00<?, ?it/s]"
      ],
      "application/vnd.jupyter.widget-view+json": {
       "version_major": 2,
       "version_minor": 0,
       "model_id": "fa33d3dd02e940c7950fdea8884b1eb6"
      }
     },
     "metadata": {},
     "output_type": "display_data",
     "jetTransient": {
      "display_id": null
     }
    },
    {
     "data": {
      "text/plain": [
       "Eval Hits (tail):   0%|          | 0/18 [00:00<?, ?it/s]"
      ],
      "application/vnd.jupyter.widget-view+json": {
       "version_major": 2,
       "version_minor": 0,
       "model_id": "8fdc05ac39134b789d08e841434139be"
      }
     },
     "metadata": {},
     "output_type": "display_data",
     "jetTransient": {
      "display_id": null
     }
    },
    {
     "name": "stdout",
     "output_type": "stream",
     "text": [
      "Epoch 024 | loss=0.1375 | AUC=0.9780 | H@1=0.5057 | H@5=0.8065 | H@10=0.9072\n"
     ]
    },
    {
     "data": {
      "text/plain": [
       "Train 25:   0%|          | 0/266 [00:00<?, ?it/s]"
      ],
      "application/vnd.jupyter.widget-view+json": {
       "version_major": 2,
       "version_minor": 0,
       "model_id": "292fca22227a4cdfba9b0253a4570118"
      }
     },
     "metadata": {},
     "output_type": "display_data",
     "jetTransient": {
      "display_id": null
     }
    },
    {
     "data": {
      "text/plain": [
       "Eval AUC (typed):   0%|          | 0/18 [00:00<?, ?it/s]"
      ],
      "application/vnd.jupyter.widget-view+json": {
       "version_major": 2,
       "version_minor": 0,
       "model_id": "4e6b4e54d8eb4012936760f03e43079a"
      }
     },
     "metadata": {},
     "output_type": "display_data",
     "jetTransient": {
      "display_id": null
     }
    },
    {
     "data": {
      "text/plain": [
       "Eval Hits (tail):   0%|          | 0/18 [00:00<?, ?it/s]"
      ],
      "application/vnd.jupyter.widget-view+json": {
       "version_major": 2,
       "version_minor": 0,
       "model_id": "106ce282a8074fdb888544a5e4362a76"
      }
     },
     "metadata": {},
     "output_type": "display_data",
     "jetTransient": {
      "display_id": null
     }
    },
    {
     "name": "stdout",
     "output_type": "stream",
     "text": [
      "Epoch 025 | loss=0.1374 | AUC=0.9786 | H@1=0.5107 | H@5=0.8080 | H@10=0.9080\n"
     ]
    },
    {
     "data": {
      "text/plain": [
       "Train 26:   0%|          | 0/266 [00:00<?, ?it/s]"
      ],
      "application/vnd.jupyter.widget-view+json": {
       "version_major": 2,
       "version_minor": 0,
       "model_id": "82b1dbbe85ae4515af91d39eba822934"
      }
     },
     "metadata": {},
     "output_type": "display_data",
     "jetTransient": {
      "display_id": null
     }
    },
    {
     "data": {
      "text/plain": [
       "Eval AUC (typed):   0%|          | 0/18 [00:00<?, ?it/s]"
      ],
      "application/vnd.jupyter.widget-view+json": {
       "version_major": 2,
       "version_minor": 0,
       "model_id": "4a19c7a3480e4df393a9db0be73e7866"
      }
     },
     "metadata": {},
     "output_type": "display_data",
     "jetTransient": {
      "display_id": null
     }
    },
    {
     "data": {
      "text/plain": [
       "Eval Hits (tail):   0%|          | 0/18 [00:00<?, ?it/s]"
      ],
      "application/vnd.jupyter.widget-view+json": {
       "version_major": 2,
       "version_minor": 0,
       "model_id": "204a5b6b8d2e49e2a76eb8fb6ebe9fc2"
      }
     },
     "metadata": {},
     "output_type": "display_data",
     "jetTransient": {
      "display_id": null
     }
    },
    {
     "name": "stdout",
     "output_type": "stream",
     "text": [
      "Epoch 026 | loss=0.1375 | AUC=0.9781 | H@1=0.5115 | H@5=0.8067 | H@10=0.9076\n"
     ]
    },
    {
     "data": {
      "text/plain": [
       "Train 27:   0%|          | 0/266 [00:00<?, ?it/s]"
      ],
      "application/vnd.jupyter.widget-view+json": {
       "version_major": 2,
       "version_minor": 0,
       "model_id": "ea6a34e319274a7f94932a861d0e13be"
      }
     },
     "metadata": {},
     "output_type": "display_data",
     "jetTransient": {
      "display_id": null
     }
    },
    {
     "data": {
      "text/plain": [
       "Eval AUC (typed):   0%|          | 0/18 [00:00<?, ?it/s]"
      ],
      "application/vnd.jupyter.widget-view+json": {
       "version_major": 2,
       "version_minor": 0,
       "model_id": "532e49783923442caaa19d1d851d5b84"
      }
     },
     "metadata": {},
     "output_type": "display_data",
     "jetTransient": {
      "display_id": null
     }
    },
    {
     "data": {
      "text/plain": [
       "Eval Hits (tail):   0%|          | 0/18 [00:00<?, ?it/s]"
      ],
      "application/vnd.jupyter.widget-view+json": {
       "version_major": 2,
       "version_minor": 0,
       "model_id": "ec8fb8a5ee6d4a0a95bb1b258df39bee"
      }
     },
     "metadata": {},
     "output_type": "display_data",
     "jetTransient": {
      "display_id": null
     }
    },
    {
     "name": "stdout",
     "output_type": "stream",
     "text": [
      "Epoch 027 | loss=0.1357 | AUC=0.9772 | H@1=0.5121 | H@5=0.8073 | H@10=0.9066\n"
     ]
    },
    {
     "data": {
      "text/plain": [
       "Train 28:   0%|          | 0/266 [00:00<?, ?it/s]"
      ],
      "application/vnd.jupyter.widget-view+json": {
       "version_major": 2,
       "version_minor": 0,
       "model_id": "14d8cfcab69b41a7a62646675d8a141c"
      }
     },
     "metadata": {},
     "output_type": "display_data",
     "jetTransient": {
      "display_id": null
     }
    },
    {
     "data": {
      "text/plain": [
       "Eval AUC (typed):   0%|          | 0/18 [00:00<?, ?it/s]"
      ],
      "application/vnd.jupyter.widget-view+json": {
       "version_major": 2,
       "version_minor": 0,
       "model_id": "62960c93bf42428782e2c0129e58bf79"
      }
     },
     "metadata": {},
     "output_type": "display_data",
     "jetTransient": {
      "display_id": null
     }
    },
    {
     "data": {
      "text/plain": [
       "Eval Hits (tail):   0%|          | 0/18 [00:00<?, ?it/s]"
      ],
      "application/vnd.jupyter.widget-view+json": {
       "version_major": 2,
       "version_minor": 0,
       "model_id": "3545b9101b6848a8a0a287f999a3d999"
      }
     },
     "metadata": {},
     "output_type": "display_data",
     "jetTransient": {
      "display_id": null
     }
    },
    {
     "name": "stdout",
     "output_type": "stream",
     "text": [
      "Epoch 028 | loss=0.1347 | AUC=0.9789 | H@1=0.5123 | H@5=0.8068 | H@10=0.9075\n"
     ]
    },
    {
     "data": {
      "text/plain": [
       "Train 29:   0%|          | 0/266 [00:00<?, ?it/s]"
      ],
      "application/vnd.jupyter.widget-view+json": {
       "version_major": 2,
       "version_minor": 0,
       "model_id": "49fe4f3f85c14b04a10d52c46ea45615"
      }
     },
     "metadata": {},
     "output_type": "display_data",
     "jetTransient": {
      "display_id": null
     }
    },
    {
     "data": {
      "text/plain": [
       "Eval AUC (typed):   0%|          | 0/18 [00:00<?, ?it/s]"
      ],
      "application/vnd.jupyter.widget-view+json": {
       "version_major": 2,
       "version_minor": 0,
       "model_id": "699cad1650f14d749ac7c53d1a7561ef"
      }
     },
     "metadata": {},
     "output_type": "display_data",
     "jetTransient": {
      "display_id": null
     }
    },
    {
     "data": {
      "text/plain": [
       "Eval Hits (tail):   0%|          | 0/18 [00:00<?, ?it/s]"
      ],
      "application/vnd.jupyter.widget-view+json": {
       "version_major": 2,
       "version_minor": 0,
       "model_id": "68042fa9297c4729990fa9f6c837e266"
      }
     },
     "metadata": {},
     "output_type": "display_data",
     "jetTransient": {
      "display_id": null
     }
    },
    {
     "name": "stdout",
     "output_type": "stream",
     "text": [
      "Epoch 029 | loss=0.1351 | AUC=0.9782 | H@1=0.5144 | H@5=0.8052 | H@10=0.9086\n"
     ]
    },
    {
     "data": {
      "text/plain": [
       "Train 30:   0%|          | 0/266 [00:00<?, ?it/s]"
      ],
      "application/vnd.jupyter.widget-view+json": {
       "version_major": 2,
       "version_minor": 0,
       "model_id": "021cb73dea7f4ae79c38cff0dcf2b770"
      }
     },
     "metadata": {},
     "output_type": "display_data",
     "jetTransient": {
      "display_id": null
     }
    },
    {
     "data": {
      "text/plain": [
       "Eval AUC (typed):   0%|          | 0/18 [00:00<?, ?it/s]"
      ],
      "application/vnd.jupyter.widget-view+json": {
       "version_major": 2,
       "version_minor": 0,
       "model_id": "6f9d6f7758a7454d80de244cca6550c0"
      }
     },
     "metadata": {},
     "output_type": "display_data",
     "jetTransient": {
      "display_id": null
     }
    },
    {
     "data": {
      "text/plain": [
       "Eval Hits (tail):   0%|          | 0/18 [00:00<?, ?it/s]"
      ],
      "application/vnd.jupyter.widget-view+json": {
       "version_major": 2,
       "version_minor": 0,
       "model_id": "db0eb33b1a1f4c938ce4897c96ad5e30"
      }
     },
     "metadata": {},
     "output_type": "display_data",
     "jetTransient": {
      "display_id": null
     }
    },
    {
     "name": "stdout",
     "output_type": "stream",
     "text": [
      "Epoch 030 | loss=0.1340 | AUC=0.9796 | H@1=0.5147 | H@5=0.8091 | H@10=0.9105\n"
     ]
    },
    {
     "data": {
      "text/plain": [
       "Train 31:   0%|          | 0/266 [00:00<?, ?it/s]"
      ],
      "application/vnd.jupyter.widget-view+json": {
       "version_major": 2,
       "version_minor": 0,
       "model_id": "3e77528db0b14a36bc84e622e582ca02"
      }
     },
     "metadata": {},
     "output_type": "display_data",
     "jetTransient": {
      "display_id": null
     }
    },
    {
     "data": {
      "text/plain": [
       "Eval AUC (typed):   0%|          | 0/18 [00:00<?, ?it/s]"
      ],
      "application/vnd.jupyter.widget-view+json": {
       "version_major": 2,
       "version_minor": 0,
       "model_id": "35c44893960b420698a014bffdaa37f6"
      }
     },
     "metadata": {},
     "output_type": "display_data",
     "jetTransient": {
      "display_id": null
     }
    },
    {
     "data": {
      "text/plain": [
       "Eval Hits (tail):   0%|          | 0/18 [00:00<?, ?it/s]"
      ],
      "application/vnd.jupyter.widget-view+json": {
       "version_major": 2,
       "version_minor": 0,
       "model_id": "0fdcef0fb3234bbd942a267c118e9cbe"
      }
     },
     "metadata": {},
     "output_type": "display_data",
     "jetTransient": {
      "display_id": null
     }
    },
    {
     "name": "stdout",
     "output_type": "stream",
     "text": [
      "Epoch 031 | loss=0.1353 | AUC=0.9788 | H@1=0.5171 | H@5=0.8092 | H@10=0.9090\n"
     ]
    },
    {
     "data": {
      "text/plain": [
       "Train 32:   0%|          | 0/266 [00:00<?, ?it/s]"
      ],
      "application/vnd.jupyter.widget-view+json": {
       "version_major": 2,
       "version_minor": 0,
       "model_id": "f58ac336f00041ad92f5955a53322750"
      }
     },
     "metadata": {},
     "output_type": "display_data",
     "jetTransient": {
      "display_id": null
     }
    },
    {
     "data": {
      "text/plain": [
       "Eval AUC (typed):   0%|          | 0/18 [00:00<?, ?it/s]"
      ],
      "application/vnd.jupyter.widget-view+json": {
       "version_major": 2,
       "version_minor": 0,
       "model_id": "30429b53ac6a411198c3da7e6f9d0d54"
      }
     },
     "metadata": {},
     "output_type": "display_data",
     "jetTransient": {
      "display_id": null
     }
    },
    {
     "data": {
      "text/plain": [
       "Eval Hits (tail):   0%|          | 0/18 [00:00<?, ?it/s]"
      ],
      "application/vnd.jupyter.widget-view+json": {
       "version_major": 2,
       "version_minor": 0,
       "model_id": "6bb0115f3be443aaa2074ae7d5ccd160"
      }
     },
     "metadata": {},
     "output_type": "display_data",
     "jetTransient": {
      "display_id": null
     }
    },
    {
     "name": "stdout",
     "output_type": "stream",
     "text": [
      "Epoch 032 | loss=0.1335 | AUC=0.9785 | H@1=0.5149 | H@5=0.8091 | H@10=0.9105\n"
     ]
    },
    {
     "data": {
      "text/plain": [
       "Train 33:   0%|          | 0/266 [00:00<?, ?it/s]"
      ],
      "application/vnd.jupyter.widget-view+json": {
       "version_major": 2,
       "version_minor": 0,
       "model_id": "b12317e58bb1431e8c114704817e22be"
      }
     },
     "metadata": {},
     "output_type": "display_data",
     "jetTransient": {
      "display_id": null
     }
    },
    {
     "data": {
      "text/plain": [
       "Eval AUC (typed):   0%|          | 0/18 [00:00<?, ?it/s]"
      ],
      "application/vnd.jupyter.widget-view+json": {
       "version_major": 2,
       "version_minor": 0,
       "model_id": "dfe9456c326241a68c267cf67e94d2cc"
      }
     },
     "metadata": {},
     "output_type": "display_data",
     "jetTransient": {
      "display_id": null
     }
    },
    {
     "data": {
      "text/plain": [
       "Eval Hits (tail):   0%|          | 0/18 [00:00<?, ?it/s]"
      ],
      "application/vnd.jupyter.widget-view+json": {
       "version_major": 2,
       "version_minor": 0,
       "model_id": "0eed2679ddae43b28ebd2904467bfb48"
      }
     },
     "metadata": {},
     "output_type": "display_data",
     "jetTransient": {
      "display_id": null
     }
    },
    {
     "name": "stdout",
     "output_type": "stream",
     "text": [
      "Epoch 033 | loss=0.1338 | AUC=0.9784 | H@1=0.5103 | H@5=0.8103 | H@10=0.9083\n"
     ]
    },
    {
     "data": {
      "text/plain": [
       "Train 34:   0%|          | 0/266 [00:00<?, ?it/s]"
      ],
      "application/vnd.jupyter.widget-view+json": {
       "version_major": 2,
       "version_minor": 0,
       "model_id": "c6ab8a3151d4475684acaa8245f7d248"
      }
     },
     "metadata": {},
     "output_type": "display_data",
     "jetTransient": {
      "display_id": null
     }
    },
    {
     "data": {
      "text/plain": [
       "Eval AUC (typed):   0%|          | 0/18 [00:00<?, ?it/s]"
      ],
      "application/vnd.jupyter.widget-view+json": {
       "version_major": 2,
       "version_minor": 0,
       "model_id": "bcd842e77bda4deeabfc4d17c01f0745"
      }
     },
     "metadata": {},
     "output_type": "display_data",
     "jetTransient": {
      "display_id": null
     }
    },
    {
     "data": {
      "text/plain": [
       "Eval Hits (tail):   0%|          | 0/18 [00:00<?, ?it/s]"
      ],
      "application/vnd.jupyter.widget-view+json": {
       "version_major": 2,
       "version_minor": 0,
       "model_id": "3ca78d72706d42c78c4c7cca6d566f0e"
      }
     },
     "metadata": {},
     "output_type": "display_data",
     "jetTransient": {
      "display_id": null
     }
    },
    {
     "name": "stdout",
     "output_type": "stream",
     "text": [
      "Epoch 034 | loss=0.1326 | AUC=0.9790 | H@1=0.5161 | H@5=0.8104 | H@10=0.9099\n"
     ]
    },
    {
     "data": {
      "text/plain": [
       "Train 35:   0%|          | 0/266 [00:00<?, ?it/s]"
      ],
      "application/vnd.jupyter.widget-view+json": {
       "version_major": 2,
       "version_minor": 0,
       "model_id": "6c5ea45baaf8466ab3e5094d9bc502c5"
      }
     },
     "metadata": {},
     "output_type": "display_data",
     "jetTransient": {
      "display_id": null
     }
    },
    {
     "data": {
      "text/plain": [
       "Eval AUC (typed):   0%|          | 0/18 [00:00<?, ?it/s]"
      ],
      "application/vnd.jupyter.widget-view+json": {
       "version_major": 2,
       "version_minor": 0,
       "model_id": "fbf076424a234ce9a9814961905160f6"
      }
     },
     "metadata": {},
     "output_type": "display_data",
     "jetTransient": {
      "display_id": null
     }
    },
    {
     "data": {
      "text/plain": [
       "Eval Hits (tail):   0%|          | 0/18 [00:00<?, ?it/s]"
      ],
      "application/vnd.jupyter.widget-view+json": {
       "version_major": 2,
       "version_minor": 0,
       "model_id": "89ffd9423da346c7a1a99a68b3e80bef"
      }
     },
     "metadata": {},
     "output_type": "display_data",
     "jetTransient": {
      "display_id": null
     }
    },
    {
     "name": "stdout",
     "output_type": "stream",
     "text": [
      "Epoch 035 | loss=0.1322 | AUC=0.9787 | H@1=0.5205 | H@5=0.8096 | H@10=0.9090\n"
     ]
    },
    {
     "data": {
      "text/plain": [
       "Train 36:   0%|          | 0/266 [00:00<?, ?it/s]"
      ],
      "application/vnd.jupyter.widget-view+json": {
       "version_major": 2,
       "version_minor": 0,
       "model_id": "675198f2c35b4ab980c76cc86119e681"
      }
     },
     "metadata": {},
     "output_type": "display_data",
     "jetTransient": {
      "display_id": null
     }
    },
    {
     "data": {
      "text/plain": [
       "Eval AUC (typed):   0%|          | 0/18 [00:00<?, ?it/s]"
      ],
      "application/vnd.jupyter.widget-view+json": {
       "version_major": 2,
       "version_minor": 0,
       "model_id": "3b057a8f9fa14bfba8040fe11d1472c0"
      }
     },
     "metadata": {},
     "output_type": "display_data",
     "jetTransient": {
      "display_id": null
     }
    },
    {
     "data": {
      "text/plain": [
       "Eval Hits (tail):   0%|          | 0/18 [00:00<?, ?it/s]"
      ],
      "application/vnd.jupyter.widget-view+json": {
       "version_major": 2,
       "version_minor": 0,
       "model_id": "5414e62e4301440a8d44520d0c9bd76b"
      }
     },
     "metadata": {},
     "output_type": "display_data",
     "jetTransient": {
      "display_id": null
     }
    },
    {
     "name": "stdout",
     "output_type": "stream",
     "text": [
      "Epoch 036 | loss=0.1325 | AUC=0.9784 | H@1=0.5164 | H@5=0.8112 | H@10=0.9094\n"
     ]
    },
    {
     "data": {
      "text/plain": [
       "Train 37:   0%|          | 0/266 [00:00<?, ?it/s]"
      ],
      "application/vnd.jupyter.widget-view+json": {
       "version_major": 2,
       "version_minor": 0,
       "model_id": "96bd335065904fadae67fd24a09a1d23"
      }
     },
     "metadata": {},
     "output_type": "display_data",
     "jetTransient": {
      "display_id": null
     }
    },
    {
     "data": {
      "text/plain": [
       "Eval AUC (typed):   0%|          | 0/18 [00:00<?, ?it/s]"
      ],
      "application/vnd.jupyter.widget-view+json": {
       "version_major": 2,
       "version_minor": 0,
       "model_id": "a1842254c12346da800f7dbae3538e82"
      }
     },
     "metadata": {},
     "output_type": "display_data",
     "jetTransient": {
      "display_id": null
     }
    },
    {
     "data": {
      "text/plain": [
       "Eval Hits (tail):   0%|          | 0/18 [00:00<?, ?it/s]"
      ],
      "application/vnd.jupyter.widget-view+json": {
       "version_major": 2,
       "version_minor": 0,
       "model_id": "03959c0e73a5465fb8e89f170a5153f3"
      }
     },
     "metadata": {},
     "output_type": "display_data",
     "jetTransient": {
      "display_id": null
     }
    },
    {
     "name": "stdout",
     "output_type": "stream",
     "text": [
      "Epoch 037 | loss=0.1310 | AUC=0.9794 | H@1=0.5228 | H@5=0.8122 | H@10=0.9104\n"
     ]
    },
    {
     "data": {
      "text/plain": [
       "Train 38:   0%|          | 0/266 [00:00<?, ?it/s]"
      ],
      "application/vnd.jupyter.widget-view+json": {
       "version_major": 2,
       "version_minor": 0,
       "model_id": "74a15ce2105d4bd7a9ab42cff303d488"
      }
     },
     "metadata": {},
     "output_type": "display_data",
     "jetTransient": {
      "display_id": null
     }
    },
    {
     "data": {
      "text/plain": [
       "Eval AUC (typed):   0%|          | 0/18 [00:00<?, ?it/s]"
      ],
      "application/vnd.jupyter.widget-view+json": {
       "version_major": 2,
       "version_minor": 0,
       "model_id": "e686a6816a434bef9f1205bac92f4e78"
      }
     },
     "metadata": {},
     "output_type": "display_data",
     "jetTransient": {
      "display_id": null
     }
    },
    {
     "data": {
      "text/plain": [
       "Eval Hits (tail):   0%|          | 0/18 [00:00<?, ?it/s]"
      ],
      "application/vnd.jupyter.widget-view+json": {
       "version_major": 2,
       "version_minor": 0,
       "model_id": "72c1c19a16244241b1cc3e1cc67dfd6a"
      }
     },
     "metadata": {},
     "output_type": "display_data",
     "jetTransient": {
      "display_id": null
     }
    },
    {
     "name": "stdout",
     "output_type": "stream",
     "text": [
      "Epoch 038 | loss=0.1308 | AUC=0.9790 | H@1=0.5129 | H@5=0.8111 | H@10=0.9112\n"
     ]
    },
    {
     "data": {
      "text/plain": [
       "Train 39:   0%|          | 0/266 [00:00<?, ?it/s]"
      ],
      "application/vnd.jupyter.widget-view+json": {
       "version_major": 2,
       "version_minor": 0,
       "model_id": "459444fc12754bba97c37ad72cdd0f49"
      }
     },
     "metadata": {},
     "output_type": "display_data",
     "jetTransient": {
      "display_id": null
     }
    },
    {
     "data": {
      "text/plain": [
       "Eval AUC (typed):   0%|          | 0/18 [00:00<?, ?it/s]"
      ],
      "application/vnd.jupyter.widget-view+json": {
       "version_major": 2,
       "version_minor": 0,
       "model_id": "4652b80853914bd5b3cf580b7a8be6f6"
      }
     },
     "metadata": {},
     "output_type": "display_data",
     "jetTransient": {
      "display_id": null
     }
    },
    {
     "data": {
      "text/plain": [
       "Eval Hits (tail):   0%|          | 0/18 [00:00<?, ?it/s]"
      ],
      "application/vnd.jupyter.widget-view+json": {
       "version_major": 2,
       "version_minor": 0,
       "model_id": "8e4fdb1d0fa943ff9e3d7f73c828f0fa"
      }
     },
     "metadata": {},
     "output_type": "display_data",
     "jetTransient": {
      "display_id": null
     }
    },
    {
     "name": "stdout",
     "output_type": "stream",
     "text": [
      "Epoch 039 | loss=0.1310 | AUC=0.9776 | H@1=0.5139 | H@5=0.8098 | H@10=0.9100\n"
     ]
    },
    {
     "data": {
      "text/plain": [
       "Train 40:   0%|          | 0/266 [00:00<?, ?it/s]"
      ],
      "application/vnd.jupyter.widget-view+json": {
       "version_major": 2,
       "version_minor": 0,
       "model_id": "a0d3e6deccdc41c6a47f949b16ca2806"
      }
     },
     "metadata": {},
     "output_type": "display_data",
     "jetTransient": {
      "display_id": null
     }
    },
    {
     "data": {
      "text/plain": [
       "Eval AUC (typed):   0%|          | 0/18 [00:00<?, ?it/s]"
      ],
      "application/vnd.jupyter.widget-view+json": {
       "version_major": 2,
       "version_minor": 0,
       "model_id": "99d5310c5c72434e8733ad4e79360159"
      }
     },
     "metadata": {},
     "output_type": "display_data",
     "jetTransient": {
      "display_id": null
     }
    },
    {
     "data": {
      "text/plain": [
       "Eval Hits (tail):   0%|          | 0/18 [00:00<?, ?it/s]"
      ],
      "application/vnd.jupyter.widget-view+json": {
       "version_major": 2,
       "version_minor": 0,
       "model_id": "758803bf842b4102a326bd6e8120abef"
      }
     },
     "metadata": {},
     "output_type": "display_data",
     "jetTransient": {
      "display_id": null
     }
    },
    {
     "name": "stdout",
     "output_type": "stream",
     "text": [
      "Epoch 040 | loss=0.1305 | AUC=0.9793 | H@1=0.5182 | H@5=0.8105 | H@10=0.9097\n"
     ]
    },
    {
     "data": {
      "text/plain": [
       "Train 41:   0%|          | 0/266 [00:00<?, ?it/s]"
      ],
      "application/vnd.jupyter.widget-view+json": {
       "version_major": 2,
       "version_minor": 0,
       "model_id": "da81bd178d1c49ffaed88c5d4b61ed74"
      }
     },
     "metadata": {},
     "output_type": "display_data",
     "jetTransient": {
      "display_id": null
     }
    },
    {
     "data": {
      "text/plain": [
       "Eval AUC (typed):   0%|          | 0/18 [00:00<?, ?it/s]"
      ],
      "application/vnd.jupyter.widget-view+json": {
       "version_major": 2,
       "version_minor": 0,
       "model_id": "01d153413d6141acacd0146d995172a8"
      }
     },
     "metadata": {},
     "output_type": "display_data",
     "jetTransient": {
      "display_id": null
     }
    },
    {
     "data": {
      "text/plain": [
       "Eval Hits (tail):   0%|          | 0/18 [00:00<?, ?it/s]"
      ],
      "application/vnd.jupyter.widget-view+json": {
       "version_major": 2,
       "version_minor": 0,
       "model_id": "0e785d81f0214282b7e1ea799451e32a"
      }
     },
     "metadata": {},
     "output_type": "display_data",
     "jetTransient": {
      "display_id": null
     }
    },
    {
     "name": "stdout",
     "output_type": "stream",
     "text": [
      "Epoch 041 | loss=0.1294 | AUC=0.9785 | H@1=0.5151 | H@5=0.8111 | H@10=0.9096\n"
     ]
    },
    {
     "data": {
      "text/plain": [
       "Train 42:   0%|          | 0/266 [00:00<?, ?it/s]"
      ],
      "application/vnd.jupyter.widget-view+json": {
       "version_major": 2,
       "version_minor": 0,
       "model_id": "77338ef35a234fe489a7c055071c3fec"
      }
     },
     "metadata": {},
     "output_type": "display_data",
     "jetTransient": {
      "display_id": null
     }
    },
    {
     "data": {
      "text/plain": [
       "Eval AUC (typed):   0%|          | 0/18 [00:00<?, ?it/s]"
      ],
      "application/vnd.jupyter.widget-view+json": {
       "version_major": 2,
       "version_minor": 0,
       "model_id": "acfbfcf7acc7459d975ac570f54c867c"
      }
     },
     "metadata": {},
     "output_type": "display_data",
     "jetTransient": {
      "display_id": null
     }
    },
    {
     "data": {
      "text/plain": [
       "Eval Hits (tail):   0%|          | 0/18 [00:00<?, ?it/s]"
      ],
      "application/vnd.jupyter.widget-view+json": {
       "version_major": 2,
       "version_minor": 0,
       "model_id": "f6aee5110763484894f29753f73492c1"
      }
     },
     "metadata": {},
     "output_type": "display_data",
     "jetTransient": {
      "display_id": null
     }
    },
    {
     "name": "stdout",
     "output_type": "stream",
     "text": [
      "Epoch 042 | loss=0.1308 | AUC=0.9791 | H@1=0.5184 | H@5=0.8094 | H@10=0.9098\n"
     ]
    },
    {
     "data": {
      "text/plain": [
       "Train 43:   0%|          | 0/266 [00:00<?, ?it/s]"
      ],
      "application/vnd.jupyter.widget-view+json": {
       "version_major": 2,
       "version_minor": 0,
       "model_id": "388166891a3e4f509588dfd2ee29be3d"
      }
     },
     "metadata": {},
     "output_type": "display_data",
     "jetTransient": {
      "display_id": null
     }
    },
    {
     "data": {
      "text/plain": [
       "Eval AUC (typed):   0%|          | 0/18 [00:00<?, ?it/s]"
      ],
      "application/vnd.jupyter.widget-view+json": {
       "version_major": 2,
       "version_minor": 0,
       "model_id": "dd9fe07cf34e4d0e84923de11f05480e"
      }
     },
     "metadata": {},
     "output_type": "display_data",
     "jetTransient": {
      "display_id": null
     }
    },
    {
     "data": {
      "text/plain": [
       "Eval Hits (tail):   0%|          | 0/18 [00:00<?, ?it/s]"
      ],
      "application/vnd.jupyter.widget-view+json": {
       "version_major": 2,
       "version_minor": 0,
       "model_id": "d337b474247a41da87c3d66ba745dea0"
      }
     },
     "metadata": {},
     "output_type": "display_data",
     "jetTransient": {
      "display_id": null
     }
    },
    {
     "name": "stdout",
     "output_type": "stream",
     "text": [
      "Epoch 043 | loss=0.1302 | AUC=0.9786 | H@1=0.5191 | H@5=0.8135 | H@10=0.9109\n"
     ]
    },
    {
     "data": {
      "text/plain": [
       "Train 44:   0%|          | 0/266 [00:00<?, ?it/s]"
      ],
      "application/vnd.jupyter.widget-view+json": {
       "version_major": 2,
       "version_minor": 0,
       "model_id": "db2c308f5c594af7b2407d4566841adc"
      }
     },
     "metadata": {},
     "output_type": "display_data",
     "jetTransient": {
      "display_id": null
     }
    },
    {
     "data": {
      "text/plain": [
       "Eval AUC (typed):   0%|          | 0/18 [00:00<?, ?it/s]"
      ],
      "application/vnd.jupyter.widget-view+json": {
       "version_major": 2,
       "version_minor": 0,
       "model_id": "b3e2f5c2016f4a3895fc361267a80fee"
      }
     },
     "metadata": {},
     "output_type": "display_data",
     "jetTransient": {
      "display_id": null
     }
    },
    {
     "data": {
      "text/plain": [
       "Eval Hits (tail):   0%|          | 0/18 [00:00<?, ?it/s]"
      ],
      "application/vnd.jupyter.widget-view+json": {
       "version_major": 2,
       "version_minor": 0,
       "model_id": "eb1519598288431690e1bcb4a62fc823"
      }
     },
     "metadata": {},
     "output_type": "display_data",
     "jetTransient": {
      "display_id": null
     }
    },
    {
     "name": "stdout",
     "output_type": "stream",
     "text": [
      "Epoch 044 | loss=0.1294 | AUC=0.9794 | H@1=0.5154 | H@5=0.8106 | H@10=0.9107\n"
     ]
    },
    {
     "data": {
      "text/plain": [
       "Train 45:   0%|          | 0/266 [00:00<?, ?it/s]"
      ],
      "application/vnd.jupyter.widget-view+json": {
       "version_major": 2,
       "version_minor": 0,
       "model_id": "5c34afba1ec24bb691cbf4f3ea154861"
      }
     },
     "metadata": {},
     "output_type": "display_data",
     "jetTransient": {
      "display_id": null
     }
    },
    {
     "data": {
      "text/plain": [
       "Eval AUC (typed):   0%|          | 0/18 [00:00<?, ?it/s]"
      ],
      "application/vnd.jupyter.widget-view+json": {
       "version_major": 2,
       "version_minor": 0,
       "model_id": "8cdd57d7971c4fd29ba111ad74695e30"
      }
     },
     "metadata": {},
     "output_type": "display_data",
     "jetTransient": {
      "display_id": null
     }
    },
    {
     "data": {
      "text/plain": [
       "Eval Hits (tail):   0%|          | 0/18 [00:00<?, ?it/s]"
      ],
      "application/vnd.jupyter.widget-view+json": {
       "version_major": 2,
       "version_minor": 0,
       "model_id": "2ffda83847be4ebda2fab5942f9d7a81"
      }
     },
     "metadata": {},
     "output_type": "display_data",
     "jetTransient": {
      "display_id": null
     }
    },
    {
     "name": "stdout",
     "output_type": "stream",
     "text": [
      "Epoch 045 | loss=0.1298 | AUC=0.9794 | H@1=0.5183 | H@5=0.8117 | H@10=0.9128\n"
     ]
    },
    {
     "data": {
      "text/plain": [
       "Train 46:   0%|          | 0/266 [00:00<?, ?it/s]"
      ],
      "application/vnd.jupyter.widget-view+json": {
       "version_major": 2,
       "version_minor": 0,
       "model_id": "255bbcb5bdd24ce8b7573e1b932fb7f0"
      }
     },
     "metadata": {},
     "output_type": "display_data",
     "jetTransient": {
      "display_id": null
     }
    },
    {
     "data": {
      "text/plain": [
       "Eval AUC (typed):   0%|          | 0/18 [00:00<?, ?it/s]"
      ],
      "application/vnd.jupyter.widget-view+json": {
       "version_major": 2,
       "version_minor": 0,
       "model_id": "e626e1124aa04e54a982e61a39ffb483"
      }
     },
     "metadata": {},
     "output_type": "display_data",
     "jetTransient": {
      "display_id": null
     }
    },
    {
     "data": {
      "text/plain": [
       "Eval Hits (tail):   0%|          | 0/18 [00:00<?, ?it/s]"
      ],
      "application/vnd.jupyter.widget-view+json": {
       "version_major": 2,
       "version_minor": 0,
       "model_id": "3ed4084436ef4b818f198dac243aaaab"
      }
     },
     "metadata": {},
     "output_type": "display_data",
     "jetTransient": {
      "display_id": null
     }
    },
    {
     "name": "stdout",
     "output_type": "stream",
     "text": [
      "Epoch 046 | loss=0.1281 | AUC=0.9791 | H@1=0.5177 | H@5=0.8111 | H@10=0.9094\n"
     ]
    },
    {
     "data": {
      "text/plain": [
       "Train 47:   0%|          | 0/266 [00:00<?, ?it/s]"
      ],
      "application/vnd.jupyter.widget-view+json": {
       "version_major": 2,
       "version_minor": 0,
       "model_id": "a519beec9e5e4e9291b189d7f5542351"
      }
     },
     "metadata": {},
     "output_type": "display_data",
     "jetTransient": {
      "display_id": null
     }
    },
    {
     "data": {
      "text/plain": [
       "Eval AUC (typed):   0%|          | 0/18 [00:00<?, ?it/s]"
      ],
      "application/vnd.jupyter.widget-view+json": {
       "version_major": 2,
       "version_minor": 0,
       "model_id": "269f47444580499582d9acebf80fd0a9"
      }
     },
     "metadata": {},
     "output_type": "display_data",
     "jetTransient": {
      "display_id": null
     }
    },
    {
     "data": {
      "text/plain": [
       "Eval Hits (tail):   0%|          | 0/18 [00:00<?, ?it/s]"
      ],
      "application/vnd.jupyter.widget-view+json": {
       "version_major": 2,
       "version_minor": 0,
       "model_id": "a85387f1f9c044be8bcce4aed5180c7a"
      }
     },
     "metadata": {},
     "output_type": "display_data",
     "jetTransient": {
      "display_id": null
     }
    },
    {
     "name": "stdout",
     "output_type": "stream",
     "text": [
      "Epoch 047 | loss=0.1277 | AUC=0.9795 | H@1=0.5254 | H@5=0.8139 | H@10=0.9113\n"
     ]
    },
    {
     "data": {
      "text/plain": [
       "Train 48:   0%|          | 0/266 [00:00<?, ?it/s]"
      ],
      "application/vnd.jupyter.widget-view+json": {
       "version_major": 2,
       "version_minor": 0,
       "model_id": "dbf2ea01b78b4c0eb071bb2caa9f05a6"
      }
     },
     "metadata": {},
     "output_type": "display_data",
     "jetTransient": {
      "display_id": null
     }
    },
    {
     "data": {
      "text/plain": [
       "Eval AUC (typed):   0%|          | 0/18 [00:00<?, ?it/s]"
      ],
      "application/vnd.jupyter.widget-view+json": {
       "version_major": 2,
       "version_minor": 0,
       "model_id": "9af01a6bd0f746d797e155446e7911f2"
      }
     },
     "metadata": {},
     "output_type": "display_data",
     "jetTransient": {
      "display_id": null
     }
    },
    {
     "data": {
      "text/plain": [
       "Eval Hits (tail):   0%|          | 0/18 [00:00<?, ?it/s]"
      ],
      "application/vnd.jupyter.widget-view+json": {
       "version_major": 2,
       "version_minor": 0,
       "model_id": "5e43435e9b4442d09829b9a5bf8872c4"
      }
     },
     "metadata": {},
     "output_type": "display_data",
     "jetTransient": {
      "display_id": null
     }
    },
    {
     "name": "stdout",
     "output_type": "stream",
     "text": [
      "Epoch 048 | loss=0.1283 | AUC=0.9785 | H@1=0.5203 | H@5=0.8153 | H@10=0.9116\n"
     ]
    },
    {
     "data": {
      "text/plain": [
       "Train 49:   0%|          | 0/266 [00:00<?, ?it/s]"
      ],
      "application/vnd.jupyter.widget-view+json": {
       "version_major": 2,
       "version_minor": 0,
       "model_id": "78bc17c09c084542adc364b0a5199fdc"
      }
     },
     "metadata": {},
     "output_type": "display_data",
     "jetTransient": {
      "display_id": null
     }
    },
    {
     "data": {
      "text/plain": [
       "Eval AUC (typed):   0%|          | 0/18 [00:00<?, ?it/s]"
      ],
      "application/vnd.jupyter.widget-view+json": {
       "version_major": 2,
       "version_minor": 0,
       "model_id": "bb4786fe936a4759b68c58b5039a0800"
      }
     },
     "metadata": {},
     "output_type": "display_data",
     "jetTransient": {
      "display_id": null
     }
    },
    {
     "data": {
      "text/plain": [
       "Eval Hits (tail):   0%|          | 0/18 [00:00<?, ?it/s]"
      ],
      "application/vnd.jupyter.widget-view+json": {
       "version_major": 2,
       "version_minor": 0,
       "model_id": "89bfd3fce69b4604985be330f6bee92a"
      }
     },
     "metadata": {},
     "output_type": "display_data",
     "jetTransient": {
      "display_id": null
     }
    },
    {
     "name": "stdout",
     "output_type": "stream",
     "text": [
      "Epoch 049 | loss=0.1274 | AUC=0.9793 | H@1=0.5222 | H@5=0.8130 | H@10=0.9120\n"
     ]
    },
    {
     "data": {
      "text/plain": [
       "Train 50:   0%|          | 0/266 [00:00<?, ?it/s]"
      ],
      "application/vnd.jupyter.widget-view+json": {
       "version_major": 2,
       "version_minor": 0,
       "model_id": "bcc5cd3bbf054d08b380a4280d7bf1f9"
      }
     },
     "metadata": {},
     "output_type": "display_data",
     "jetTransient": {
      "display_id": null
     }
    },
    {
     "data": {
      "text/plain": [
       "Eval AUC (typed):   0%|          | 0/18 [00:00<?, ?it/s]"
      ],
      "application/vnd.jupyter.widget-view+json": {
       "version_major": 2,
       "version_minor": 0,
       "model_id": "66839dfb47cb426081a7b52ca772c5a8"
      }
     },
     "metadata": {},
     "output_type": "display_data",
     "jetTransient": {
      "display_id": null
     }
    },
    {
     "data": {
      "text/plain": [
       "Eval Hits (tail):   0%|          | 0/18 [00:00<?, ?it/s]"
      ],
      "application/vnd.jupyter.widget-view+json": {
       "version_major": 2,
       "version_minor": 0,
       "model_id": "2e821f0a6abe46b0a0b423fa7e3ee650"
      }
     },
     "metadata": {},
     "output_type": "display_data",
     "jetTransient": {
      "display_id": null
     }
    },
    {
     "name": "stdout",
     "output_type": "stream",
     "text": [
      "Epoch 050 | loss=0.1283 | AUC=0.9790 | H@1=0.5147 | H@5=0.8154 | H@10=0.9119\n"
     ]
    },
    {
     "data": {
      "text/plain": [
       "Train 51:   0%|          | 0/266 [00:00<?, ?it/s]"
      ],
      "application/vnd.jupyter.widget-view+json": {
       "version_major": 2,
       "version_minor": 0,
       "model_id": "f86a47d001ac4860b6481f5f2769abff"
      }
     },
     "metadata": {},
     "output_type": "display_data",
     "jetTransient": {
      "display_id": null
     }
    },
    {
     "data": {
      "text/plain": [
       "Eval AUC (typed):   0%|          | 0/18 [00:00<?, ?it/s]"
      ],
      "application/vnd.jupyter.widget-view+json": {
       "version_major": 2,
       "version_minor": 0,
       "model_id": "f54258ac33e44e4aa675bc50539029be"
      }
     },
     "metadata": {},
     "output_type": "display_data",
     "jetTransient": {
      "display_id": null
     }
    },
    {
     "data": {
      "text/plain": [
       "Eval Hits (tail):   0%|          | 0/18 [00:00<?, ?it/s]"
      ],
      "application/vnd.jupyter.widget-view+json": {
       "version_major": 2,
       "version_minor": 0,
       "model_id": "b7be4fb18be34aacb283269317d39f02"
      }
     },
     "metadata": {},
     "output_type": "display_data",
     "jetTransient": {
      "display_id": null
     }
    },
    {
     "name": "stdout",
     "output_type": "stream",
     "text": [
      "Epoch 051 | loss=0.1276 | AUC=0.9784 | H@1=0.5170 | H@5=0.8165 | H@10=0.9118\n"
     ]
    },
    {
     "data": {
      "text/plain": [
       "Train 52:   0%|          | 0/266 [00:00<?, ?it/s]"
      ],
      "application/vnd.jupyter.widget-view+json": {
       "version_major": 2,
       "version_minor": 0,
       "model_id": "d7596257894243c3a2a571dfde963f66"
      }
     },
     "metadata": {},
     "output_type": "display_data",
     "jetTransient": {
      "display_id": null
     }
    },
    {
     "data": {
      "text/plain": [
       "Eval AUC (typed):   0%|          | 0/18 [00:00<?, ?it/s]"
      ],
      "application/vnd.jupyter.widget-view+json": {
       "version_major": 2,
       "version_minor": 0,
       "model_id": "1ac121f0e9e949fea33547e397afec74"
      }
     },
     "metadata": {},
     "output_type": "display_data",
     "jetTransient": {
      "display_id": null
     }
    },
    {
     "data": {
      "text/plain": [
       "Eval Hits (tail):   0%|          | 0/18 [00:00<?, ?it/s]"
      ],
      "application/vnd.jupyter.widget-view+json": {
       "version_major": 2,
       "version_minor": 0,
       "model_id": "47ca2a198a0646cfac28e5f2de0c410d"
      }
     },
     "metadata": {},
     "output_type": "display_data",
     "jetTransient": {
      "display_id": null
     }
    },
    {
     "name": "stdout",
     "output_type": "stream",
     "text": [
      "Epoch 052 | loss=0.1272 | AUC=0.9788 | H@1=0.5235 | H@5=0.8154 | H@10=0.9123\n"
     ]
    },
    {
     "data": {
      "text/plain": [
       "Train 53:   0%|          | 0/266 [00:00<?, ?it/s]"
      ],
      "application/vnd.jupyter.widget-view+json": {
       "version_major": 2,
       "version_minor": 0,
       "model_id": "fd2f39a1844f45daa3926152756b59c6"
      }
     },
     "metadata": {},
     "output_type": "display_data",
     "jetTransient": {
      "display_id": null
     }
    },
    {
     "data": {
      "text/plain": [
       "Eval AUC (typed):   0%|          | 0/18 [00:00<?, ?it/s]"
      ],
      "application/vnd.jupyter.widget-view+json": {
       "version_major": 2,
       "version_minor": 0,
       "model_id": "9d1eae8ad1d04f0dbcbd698c89b59989"
      }
     },
     "metadata": {},
     "output_type": "display_data",
     "jetTransient": {
      "display_id": null
     }
    },
    {
     "data": {
      "text/plain": [
       "Eval Hits (tail):   0%|          | 0/18 [00:00<?, ?it/s]"
      ],
      "application/vnd.jupyter.widget-view+json": {
       "version_major": 2,
       "version_minor": 0,
       "model_id": "c4f2825bef404473808935702fcb3b08"
      }
     },
     "metadata": {},
     "output_type": "display_data",
     "jetTransient": {
      "display_id": null
     }
    },
    {
     "name": "stdout",
     "output_type": "stream",
     "text": [
      "Epoch 053 | loss=0.1274 | AUC=0.9789 | H@1=0.5226 | H@5=0.8184 | H@10=0.9143\n"
     ]
    },
    {
     "data": {
      "text/plain": [
       "Train 54:   0%|          | 0/266 [00:00<?, ?it/s]"
      ],
      "application/vnd.jupyter.widget-view+json": {
       "version_major": 2,
       "version_minor": 0,
       "model_id": "3d2ba21362c84c80a1d145e175b25251"
      }
     },
     "metadata": {},
     "output_type": "display_data",
     "jetTransient": {
      "display_id": null
     }
    },
    {
     "data": {
      "text/plain": [
       "Eval AUC (typed):   0%|          | 0/18 [00:00<?, ?it/s]"
      ],
      "application/vnd.jupyter.widget-view+json": {
       "version_major": 2,
       "version_minor": 0,
       "model_id": "ad81ab04cde9426288f6f2965fc19459"
      }
     },
     "metadata": {},
     "output_type": "display_data",
     "jetTransient": {
      "display_id": null
     }
    },
    {
     "data": {
      "text/plain": [
       "Eval Hits (tail):   0%|          | 0/18 [00:00<?, ?it/s]"
      ],
      "application/vnd.jupyter.widget-view+json": {
       "version_major": 2,
       "version_minor": 0,
       "model_id": "db4752141bfa4d04a7cafc5c433c5104"
      }
     },
     "metadata": {},
     "output_type": "display_data",
     "jetTransient": {
      "display_id": null
     }
    },
    {
     "name": "stdout",
     "output_type": "stream",
     "text": [
      "Epoch 054 | loss=0.1267 | AUC=0.9780 | H@1=0.5164 | H@5=0.8128 | H@10=0.9127\n"
     ]
    },
    {
     "data": {
      "text/plain": [
       "Train 55:   0%|          | 0/266 [00:00<?, ?it/s]"
      ],
      "application/vnd.jupyter.widget-view+json": {
       "version_major": 2,
       "version_minor": 0,
       "model_id": "82e5f193ede14e26bfb98eaab7fbdedf"
      }
     },
     "metadata": {},
     "output_type": "display_data",
     "jetTransient": {
      "display_id": null
     }
    },
    {
     "data": {
      "text/plain": [
       "Eval AUC (typed):   0%|          | 0/18 [00:00<?, ?it/s]"
      ],
      "application/vnd.jupyter.widget-view+json": {
       "version_major": 2,
       "version_minor": 0,
       "model_id": "c2174e374ed2477dafdb1f67d667ed0d"
      }
     },
     "metadata": {},
     "output_type": "display_data",
     "jetTransient": {
      "display_id": null
     }
    },
    {
     "data": {
      "text/plain": [
       "Eval Hits (tail):   0%|          | 0/18 [00:00<?, ?it/s]"
      ],
      "application/vnd.jupyter.widget-view+json": {
       "version_major": 2,
       "version_minor": 0,
       "model_id": "16479d169ad74dc0b6d30ae42d660594"
      }
     },
     "metadata": {},
     "output_type": "display_data",
     "jetTransient": {
      "display_id": null
     }
    },
    {
     "name": "stdout",
     "output_type": "stream",
     "text": [
      "Epoch 055 | loss=0.1264 | AUC=0.9802 | H@1=0.5230 | H@5=0.8120 | H@10=0.9096\n"
     ]
    },
    {
     "data": {
      "text/plain": [
       "Train 56:   0%|          | 0/266 [00:00<?, ?it/s]"
      ],
      "application/vnd.jupyter.widget-view+json": {
       "version_major": 2,
       "version_minor": 0,
       "model_id": "ee8996ff959a475698643a68a0c3ee03"
      }
     },
     "metadata": {},
     "output_type": "display_data",
     "jetTransient": {
      "display_id": null
     }
    },
    {
     "data": {
      "text/plain": [
       "Eval AUC (typed):   0%|          | 0/18 [00:00<?, ?it/s]"
      ],
      "application/vnd.jupyter.widget-view+json": {
       "version_major": 2,
       "version_minor": 0,
       "model_id": "d7c20237a9bd46e1b25cc0444273d2f9"
      }
     },
     "metadata": {},
     "output_type": "display_data",
     "jetTransient": {
      "display_id": null
     }
    },
    {
     "data": {
      "text/plain": [
       "Eval Hits (tail):   0%|          | 0/18 [00:00<?, ?it/s]"
      ],
      "application/vnd.jupyter.widget-view+json": {
       "version_major": 2,
       "version_minor": 0,
       "model_id": "5f228e27908d424ebb2350bc960569f2"
      }
     },
     "metadata": {},
     "output_type": "display_data",
     "jetTransient": {
      "display_id": null
     }
    },
    {
     "name": "stdout",
     "output_type": "stream",
     "text": [
      "Epoch 056 | loss=0.1254 | AUC=0.9802 | H@1=0.5230 | H@5=0.8160 | H@10=0.9119\n"
     ]
    },
    {
     "data": {
      "text/plain": [
       "Train 57:   0%|          | 0/266 [00:00<?, ?it/s]"
      ],
      "application/vnd.jupyter.widget-view+json": {
       "version_major": 2,
       "version_minor": 0,
       "model_id": "a182516716df41ddbc125e935f45c8a0"
      }
     },
     "metadata": {},
     "output_type": "display_data",
     "jetTransient": {
      "display_id": null
     }
    },
    {
     "data": {
      "text/plain": [
       "Eval AUC (typed):   0%|          | 0/18 [00:00<?, ?it/s]"
      ],
      "application/vnd.jupyter.widget-view+json": {
       "version_major": 2,
       "version_minor": 0,
       "model_id": "6eb62af5f9c34006b132b44b913f66bf"
      }
     },
     "metadata": {},
     "output_type": "display_data",
     "jetTransient": {
      "display_id": null
     }
    },
    {
     "data": {
      "text/plain": [
       "Eval Hits (tail):   0%|          | 0/18 [00:00<?, ?it/s]"
      ],
      "application/vnd.jupyter.widget-view+json": {
       "version_major": 2,
       "version_minor": 0,
       "model_id": "04d6402b770b4751b508f3268a2afead"
      }
     },
     "metadata": {},
     "output_type": "display_data",
     "jetTransient": {
      "display_id": null
     }
    },
    {
     "name": "stdout",
     "output_type": "stream",
     "text": [
      "Epoch 057 | loss=0.1256 | AUC=0.9787 | H@1=0.5229 | H@5=0.8155 | H@10=0.9106\n"
     ]
    },
    {
     "data": {
      "text/plain": [
       "Train 58:   0%|          | 0/266 [00:00<?, ?it/s]"
      ],
      "application/vnd.jupyter.widget-view+json": {
       "version_major": 2,
       "version_minor": 0,
       "model_id": "513280a9001943339cccdf16924a34b1"
      }
     },
     "metadata": {},
     "output_type": "display_data",
     "jetTransient": {
      "display_id": null
     }
    },
    {
     "data": {
      "text/plain": [
       "Eval AUC (typed):   0%|          | 0/18 [00:00<?, ?it/s]"
      ],
      "application/vnd.jupyter.widget-view+json": {
       "version_major": 2,
       "version_minor": 0,
       "model_id": "80c5212e32c7434ba59b27f9b7e9981e"
      }
     },
     "metadata": {},
     "output_type": "display_data",
     "jetTransient": {
      "display_id": null
     }
    },
    {
     "data": {
      "text/plain": [
       "Eval Hits (tail):   0%|          | 0/18 [00:00<?, ?it/s]"
      ],
      "application/vnd.jupyter.widget-view+json": {
       "version_major": 2,
       "version_minor": 0,
       "model_id": "02f8b45e11a143b5884403294b23c12f"
      }
     },
     "metadata": {},
     "output_type": "display_data",
     "jetTransient": {
      "display_id": null
     }
    },
    {
     "name": "stdout",
     "output_type": "stream",
     "text": [
      "Epoch 058 | loss=0.1258 | AUC=0.9793 | H@1=0.5188 | H@5=0.8131 | H@10=0.9123\n"
     ]
    },
    {
     "data": {
      "text/plain": [
       "Train 59:   0%|          | 0/266 [00:00<?, ?it/s]"
      ],
      "application/vnd.jupyter.widget-view+json": {
       "version_major": 2,
       "version_minor": 0,
       "model_id": "01c304843fad4533b52c84a3725245d5"
      }
     },
     "metadata": {},
     "output_type": "display_data",
     "jetTransient": {
      "display_id": null
     }
    },
    {
     "data": {
      "text/plain": [
       "Eval AUC (typed):   0%|          | 0/18 [00:00<?, ?it/s]"
      ],
      "application/vnd.jupyter.widget-view+json": {
       "version_major": 2,
       "version_minor": 0,
       "model_id": "715c439f7aaf4c32a5ab1dbfd36171da"
      }
     },
     "metadata": {},
     "output_type": "display_data",
     "jetTransient": {
      "display_id": null
     }
    },
    {
     "data": {
      "text/plain": [
       "Eval Hits (tail):   0%|          | 0/18 [00:00<?, ?it/s]"
      ],
      "application/vnd.jupyter.widget-view+json": {
       "version_major": 2,
       "version_minor": 0,
       "model_id": "85764cd4338d4451927db421a91bb1a7"
      }
     },
     "metadata": {},
     "output_type": "display_data",
     "jetTransient": {
      "display_id": null
     }
    },
    {
     "name": "stdout",
     "output_type": "stream",
     "text": [
      "Epoch 059 | loss=0.1254 | AUC=0.9782 | H@1=0.5265 | H@5=0.8136 | H@10=0.9089\n"
     ]
    },
    {
     "data": {
      "text/plain": [
       "Train 60:   0%|          | 0/266 [00:00<?, ?it/s]"
      ],
      "application/vnd.jupyter.widget-view+json": {
       "version_major": 2,
       "version_minor": 0,
       "model_id": "4103d0f1b3424d329a46dfba1afffaf6"
      }
     },
     "metadata": {},
     "output_type": "display_data",
     "jetTransient": {
      "display_id": null
     }
    },
    {
     "data": {
      "text/plain": [
       "Eval AUC (typed):   0%|          | 0/18 [00:00<?, ?it/s]"
      ],
      "application/vnd.jupyter.widget-view+json": {
       "version_major": 2,
       "version_minor": 0,
       "model_id": "161f0451f5ff4d8cb7b4544c78819f8c"
      }
     },
     "metadata": {},
     "output_type": "display_data",
     "jetTransient": {
      "display_id": null
     }
    },
    {
     "data": {
      "text/plain": [
       "Eval Hits (tail):   0%|          | 0/18 [00:00<?, ?it/s]"
      ],
      "application/vnd.jupyter.widget-view+json": {
       "version_major": 2,
       "version_minor": 0,
       "model_id": "5cb6676826324cd3ac21295c7528d81f"
      }
     },
     "metadata": {},
     "output_type": "display_data",
     "jetTransient": {
      "display_id": null
     }
    },
    {
     "name": "stdout",
     "output_type": "stream",
     "text": [
      "Epoch 060 | loss=0.1259 | AUC=0.9789 | H@1=0.5301 | H@5=0.8175 | H@10=0.9129\n"
     ]
    },
    {
     "data": {
      "text/plain": [
       "Train 61:   0%|          | 0/266 [00:00<?, ?it/s]"
      ],
      "application/vnd.jupyter.widget-view+json": {
       "version_major": 2,
       "version_minor": 0,
       "model_id": "07ccb92f3b9d495481d2edfcac3388cb"
      }
     },
     "metadata": {},
     "output_type": "display_data",
     "jetTransient": {
      "display_id": null
     }
    },
    {
     "data": {
      "text/plain": [
       "Eval AUC (typed):   0%|          | 0/18 [00:00<?, ?it/s]"
      ],
      "application/vnd.jupyter.widget-view+json": {
       "version_major": 2,
       "version_minor": 0,
       "model_id": "e9da9f15f8af41ee988609d1fd20412d"
      }
     },
     "metadata": {},
     "output_type": "display_data",
     "jetTransient": {
      "display_id": null
     }
    },
    {
     "data": {
      "text/plain": [
       "Eval Hits (tail):   0%|          | 0/18 [00:00<?, ?it/s]"
      ],
      "application/vnd.jupyter.widget-view+json": {
       "version_major": 2,
       "version_minor": 0,
       "model_id": "3591e816d4904384bca34e004ebe794f"
      }
     },
     "metadata": {},
     "output_type": "display_data",
     "jetTransient": {
      "display_id": null
     }
    },
    {
     "name": "stdout",
     "output_type": "stream",
     "text": [
      "Epoch 061 | loss=0.1249 | AUC=0.9787 | H@1=0.5220 | H@5=0.8166 | H@10=0.9113\n"
     ]
    },
    {
     "data": {
      "text/plain": [
       "Train 62:   0%|          | 0/266 [00:00<?, ?it/s]"
      ],
      "application/vnd.jupyter.widget-view+json": {
       "version_major": 2,
       "version_minor": 0,
       "model_id": "c3eeeb098034400abe7c20c2c6fe7118"
      }
     },
     "metadata": {},
     "output_type": "display_data",
     "jetTransient": {
      "display_id": null
     }
    },
    {
     "data": {
      "text/plain": [
       "Eval AUC (typed):   0%|          | 0/18 [00:00<?, ?it/s]"
      ],
      "application/vnd.jupyter.widget-view+json": {
       "version_major": 2,
       "version_minor": 0,
       "model_id": "d89f4f9075c94211a439c3f56657df6f"
      }
     },
     "metadata": {},
     "output_type": "display_data",
     "jetTransient": {
      "display_id": null
     }
    },
    {
     "data": {
      "text/plain": [
       "Eval Hits (tail):   0%|          | 0/18 [00:00<?, ?it/s]"
      ],
      "application/vnd.jupyter.widget-view+json": {
       "version_major": 2,
       "version_minor": 0,
       "model_id": "83c14d087df040aa9e13f8a689de161e"
      }
     },
     "metadata": {},
     "output_type": "display_data",
     "jetTransient": {
      "display_id": null
     }
    },
    {
     "name": "stdout",
     "output_type": "stream",
     "text": [
      "Epoch 062 | loss=0.1248 | AUC=0.9792 | H@1=0.5207 | H@5=0.8171 | H@10=0.9131\n"
     ]
    },
    {
     "data": {
      "text/plain": [
       "Train 63:   0%|          | 0/266 [00:00<?, ?it/s]"
      ],
      "application/vnd.jupyter.widget-view+json": {
       "version_major": 2,
       "version_minor": 0,
       "model_id": "4e149640ad8f406f928c8ca2fcd161e6"
      }
     },
     "metadata": {},
     "output_type": "display_data",
     "jetTransient": {
      "display_id": null
     }
    },
    {
     "data": {
      "text/plain": [
       "Eval AUC (typed):   0%|          | 0/18 [00:00<?, ?it/s]"
      ],
      "application/vnd.jupyter.widget-view+json": {
       "version_major": 2,
       "version_minor": 0,
       "model_id": "b4abfdba4f8641fbb752fac3b023382e"
      }
     },
     "metadata": {},
     "output_type": "display_data",
     "jetTransient": {
      "display_id": null
     }
    },
    {
     "data": {
      "text/plain": [
       "Eval Hits (tail):   0%|          | 0/18 [00:00<?, ?it/s]"
      ],
      "application/vnd.jupyter.widget-view+json": {
       "version_major": 2,
       "version_minor": 0,
       "model_id": "ba827b7c84de454b8531526d3bc7ac92"
      }
     },
     "metadata": {},
     "output_type": "display_data",
     "jetTransient": {
      "display_id": null
     }
    },
    {
     "name": "stdout",
     "output_type": "stream",
     "text": [
      "Epoch 063 | loss=0.1252 | AUC=0.9799 | H@1=0.5282 | H@5=0.8165 | H@10=0.9118\n",
      "Early stopping at epoch 63 (patience=10).\n",
      "Restored best model from epoch 53 | AUC=0.9789 | Hits@10=0.9143\n",
      "Model Training Results - 2025-10-15 12:25:05\n",
      "================================================================================\n",
      "\n",
      "\n",
      "R-GIN_embed_rel + Distmult Training History\n",
      "============================================================\n",
      "\n",
      "Best Validation AUC: 0.9802\n",
      "Total Epochs Trained: 63\n",
      "Early Stopping Best Score: 0.9143 (Hits@10 at epoch 53)\n",
      "\n",
      "------------------------------------------------------------\n",
      "Epoch    Train Loss      Val AUC         Val Hits@10    \n",
      "------------------------------------------------------------\n",
      "1        0.4436          0.9319          0.7601         \n",
      "2        0.2520          0.9604          0.8390         \n",
      "3        0.2134          0.9633          0.8581         \n",
      "4        0.1958          0.9662          0.8735         \n",
      "5        0.1834          0.9707          0.8788         \n",
      "6        0.1747          0.9723          0.8867         \n",
      "7        0.1686          0.9736          0.8894         \n",
      "8        0.1642          0.9738          0.8923         \n",
      "9        0.1600          0.9735          0.8918         \n",
      "10       0.1563          0.9759          0.8963         \n",
      "11       0.1539          0.9763          0.8961         \n",
      "12       0.1529          0.9766          0.8987         \n",
      "13       0.1498          0.9752          0.8975         \n",
      "14       0.1485          0.9772          0.8993         \n",
      "15       0.1451          0.9770          0.9008         \n",
      "16       0.1450          0.9783          0.9005         \n",
      "17       0.1436          0.9771          0.9027         \n",
      "18       0.1433          0.9766          0.9000         \n",
      "19       0.1414          0.9769          0.9032         \n",
      "20       0.1409          0.9777          0.9055         \n",
      "21       0.1404          0.9769          0.9058         \n",
      "22       0.1395          0.9780          0.9061         \n",
      "23       0.1385          0.9778          0.9071         \n",
      "24       0.1375          0.9780          0.9072         \n",
      "25       0.1374          0.9786          0.9080         \n",
      "26       0.1375          0.9781          0.9076         \n",
      "27       0.1357          0.9772          0.9066         \n",
      "28       0.1347          0.9789          0.9075         \n",
      "29       0.1351          0.9782          0.9086         \n",
      "30       0.1340          0.9796          0.9105         \n",
      "31       0.1353          0.9788          0.9090         \n",
      "32       0.1335          0.9785          0.9105         \n",
      "33       0.1338          0.9784          0.9083         \n",
      "34       0.1326          0.9790          0.9099         \n",
      "35       0.1322          0.9787          0.9090         \n",
      "36       0.1325          0.9784          0.9094         \n",
      "37       0.1310          0.9794          0.9104         \n",
      "38       0.1308          0.9790          0.9112         \n",
      "39       0.1310          0.9776          0.9100         \n",
      "40       0.1305          0.9793          0.9097         \n",
      "41       0.1294          0.9785          0.9096         \n",
      "42       0.1308          0.9791          0.9098         \n",
      "43       0.1302          0.9786          0.9109         \n",
      "44       0.1294          0.9794          0.9107         \n",
      "45       0.1298          0.9794          0.9128         \n",
      "46       0.1281          0.9791          0.9094         \n",
      "47       0.1277          0.9795          0.9113         \n",
      "48       0.1283          0.9785          0.9116         \n",
      "49       0.1274          0.9793          0.9120         \n",
      "50       0.1283          0.9790          0.9119         \n",
      "51       0.1276          0.9784          0.9118         \n",
      "52       0.1272          0.9788          0.9123         \n",
      "53       0.1274          0.9789          0.9143         \n",
      "54       0.1267          0.9780          0.9127         \n",
      "55       0.1264          0.9802          0.9096         \n",
      "56       0.1254          0.9802          0.9119         \n",
      "57       0.1256          0.9787          0.9106         \n",
      "58       0.1258          0.9793          0.9123         \n",
      "59       0.1254          0.9782          0.9089         \n",
      "60       0.1259          0.9789          0.9129         \n",
      "61       0.1249          0.9787          0.9113         \n",
      "62       0.1248          0.9792          0.9131         \n",
      "63       0.1252          0.9799          0.9118         \n",
      "\n",
      "\n",
      "✅ Report saved to: /Users/choonggi/Coding/jetbrains/sc4020-Project-1/GIN/results/embed_rel/FB15K-237/embed_rel_gin_report|embed_dim=128|mlp_depth=3|aggre=2|dataset=FB15K-237.txt\n"
     ]
    },
    {
     "data": {
      "text/plain": [
       "Epochs (typed):   0%|          | 0/100 [00:00<?, ?it/s]"
      ],
      "application/vnd.jupyter.widget-view+json": {
       "version_major": 2,
       "version_minor": 0,
       "model_id": "84c4b486c7f543f69d67e233bc1b75c3"
      }
     },
     "metadata": {},
     "output_type": "display_data",
     "jetTransient": {
      "display_id": null
     }
    },
    {
     "data": {
      "text/plain": [
       "Train 1:   0%|          | 0/266 [00:00<?, ?it/s]"
      ],
      "application/vnd.jupyter.widget-view+json": {
       "version_major": 2,
       "version_minor": 0,
       "model_id": "2d2c4ac90c124571818b59c657b6fc02"
      }
     },
     "metadata": {},
     "output_type": "display_data",
     "jetTransient": {
      "display_id": null
     }
    },
    {
     "data": {
      "text/plain": [
       "Eval AUC (typed):   0%|          | 0/18 [00:00<?, ?it/s]"
      ],
      "application/vnd.jupyter.widget-view+json": {
       "version_major": 2,
       "version_minor": 0,
       "model_id": "7985aa02a4944ff7b46bd18b07e45b09"
      }
     },
     "metadata": {},
     "output_type": "display_data",
     "jetTransient": {
      "display_id": null
     }
    },
    {
     "data": {
      "text/plain": [
       "Eval Hits (tail):   0%|          | 0/18 [00:00<?, ?it/s]"
      ],
      "application/vnd.jupyter.widget-view+json": {
       "version_major": 2,
       "version_minor": 0,
       "model_id": "8726d45e3e34449ea46e43a003d2fa3e"
      }
     },
     "metadata": {},
     "output_type": "display_data",
     "jetTransient": {
      "display_id": null
     }
    },
    {
     "name": "stdout",
     "output_type": "stream",
     "text": [
      "Epoch 001 | loss=0.3952 | AUC=0.9557 | H@1=0.3829 | H@5=0.6960 | H@10=0.8273\n"
     ]
    },
    {
     "data": {
      "text/plain": [
       "Train 2:   0%|          | 0/266 [00:00<?, ?it/s]"
      ],
      "application/vnd.jupyter.widget-view+json": {
       "version_major": 2,
       "version_minor": 0,
       "model_id": "9096d47ccbe34e569bca73421376951d"
      }
     },
     "metadata": {},
     "output_type": "display_data",
     "jetTransient": {
      "display_id": null
     }
    },
    {
     "data": {
      "text/plain": [
       "Eval AUC (typed):   0%|          | 0/18 [00:00<?, ?it/s]"
      ],
      "application/vnd.jupyter.widget-view+json": {
       "version_major": 2,
       "version_minor": 0,
       "model_id": "0c8d41b7af044517bf38fe4302e361ae"
      }
     },
     "metadata": {},
     "output_type": "display_data",
     "jetTransient": {
      "display_id": null
     }
    },
    {
     "data": {
      "text/plain": [
       "Eval Hits (tail):   0%|          | 0/18 [00:00<?, ?it/s]"
      ],
      "application/vnd.jupyter.widget-view+json": {
       "version_major": 2,
       "version_minor": 0,
       "model_id": "d423f60a7be4414696b27b3aa80b4bc8"
      }
     },
     "metadata": {},
     "output_type": "display_data",
     "jetTransient": {
      "display_id": null
     }
    },
    {
     "name": "stdout",
     "output_type": "stream",
     "text": [
      "Epoch 002 | loss=0.2171 | AUC=0.9670 | H@1=0.4446 | H@5=0.7528 | H@10=0.8665\n"
     ]
    },
    {
     "data": {
      "text/plain": [
       "Train 3:   0%|          | 0/266 [00:00<?, ?it/s]"
      ],
      "application/vnd.jupyter.widget-view+json": {
       "version_major": 2,
       "version_minor": 0,
       "model_id": "cf748015f4e84e7bac7f7b046cff1f28"
      }
     },
     "metadata": {},
     "output_type": "display_data",
     "jetTransient": {
      "display_id": null
     }
    },
    {
     "data": {
      "text/plain": [
       "Eval AUC (typed):   0%|          | 0/18 [00:00<?, ?it/s]"
      ],
      "application/vnd.jupyter.widget-view+json": {
       "version_major": 2,
       "version_minor": 0,
       "model_id": "bfb33f3779d447a1a9f8fb5c7e69262c"
      }
     },
     "metadata": {},
     "output_type": "display_data",
     "jetTransient": {
      "display_id": null
     }
    },
    {
     "data": {
      "text/plain": [
       "Eval Hits (tail):   0%|          | 0/18 [00:00<?, ?it/s]"
      ],
      "application/vnd.jupyter.widget-view+json": {
       "version_major": 2,
       "version_minor": 0,
       "model_id": "7257f7c7618e425fa8fbf04506b34aec"
      }
     },
     "metadata": {},
     "output_type": "display_data",
     "jetTransient": {
      "display_id": null
     }
    },
    {
     "name": "stdout",
     "output_type": "stream",
     "text": [
      "Epoch 003 | loss=0.1922 | AUC=0.9689 | H@1=0.4618 | H@5=0.7622 | H@10=0.8733\n"
     ]
    },
    {
     "data": {
      "text/plain": [
       "Train 4:   0%|          | 0/266 [00:00<?, ?it/s]"
      ],
      "application/vnd.jupyter.widget-view+json": {
       "version_major": 2,
       "version_minor": 0,
       "model_id": "215814e9cf18464eb053a729e40cbf4e"
      }
     },
     "metadata": {},
     "output_type": "display_data",
     "jetTransient": {
      "display_id": null
     }
    },
    {
     "data": {
      "text/plain": [
       "Eval AUC (typed):   0%|          | 0/18 [00:00<?, ?it/s]"
      ],
      "application/vnd.jupyter.widget-view+json": {
       "version_major": 2,
       "version_minor": 0,
       "model_id": "9ce54a0e3f894cde961f27f9fad5ea2c"
      }
     },
     "metadata": {},
     "output_type": "display_data",
     "jetTransient": {
      "display_id": null
     }
    },
    {
     "data": {
      "text/plain": [
       "Eval Hits (tail):   0%|          | 0/18 [00:00<?, ?it/s]"
      ],
      "application/vnd.jupyter.widget-view+json": {
       "version_major": 2,
       "version_minor": 0,
       "model_id": "12b0a87fa86d4156bc85053fc5e0c924"
      }
     },
     "metadata": {},
     "output_type": "display_data",
     "jetTransient": {
      "display_id": null
     }
    },
    {
     "name": "stdout",
     "output_type": "stream",
     "text": [
      "Epoch 004 | loss=0.1791 | AUC=0.9710 | H@1=0.4710 | H@5=0.7715 | H@10=0.8839\n"
     ]
    },
    {
     "data": {
      "text/plain": [
       "Train 5:   0%|          | 0/266 [00:00<?, ?it/s]"
      ],
      "application/vnd.jupyter.widget-view+json": {
       "version_major": 2,
       "version_minor": 0,
       "model_id": "05c64cbdfbb842149019bc85aa240d78"
      }
     },
     "metadata": {},
     "output_type": "display_data",
     "jetTransient": {
      "display_id": null
     }
    },
    {
     "data": {
      "text/plain": [
       "Eval AUC (typed):   0%|          | 0/18 [00:00<?, ?it/s]"
      ],
      "application/vnd.jupyter.widget-view+json": {
       "version_major": 2,
       "version_minor": 0,
       "model_id": "a6e8e572a88542d1a6ebe36b2cda8c6e"
      }
     },
     "metadata": {},
     "output_type": "display_data",
     "jetTransient": {
      "display_id": null
     }
    },
    {
     "data": {
      "text/plain": [
       "Eval Hits (tail):   0%|          | 0/18 [00:00<?, ?it/s]"
      ],
      "application/vnd.jupyter.widget-view+json": {
       "version_major": 2,
       "version_minor": 0,
       "model_id": "939fd2a8ce3145bba618d30a18ebb089"
      }
     },
     "metadata": {},
     "output_type": "display_data",
     "jetTransient": {
      "display_id": null
     }
    },
    {
     "name": "stdout",
     "output_type": "stream",
     "text": [
      "Epoch 005 | loss=0.1701 | AUC=0.9738 | H@1=0.4727 | H@5=0.7762 | H@10=0.8862\n"
     ]
    },
    {
     "data": {
      "text/plain": [
       "Train 6:   0%|          | 0/266 [00:00<?, ?it/s]"
      ],
      "application/vnd.jupyter.widget-view+json": {
       "version_major": 2,
       "version_minor": 0,
       "model_id": "38eaa8bd4803483faedb9735452cd599"
      }
     },
     "metadata": {},
     "output_type": "display_data",
     "jetTransient": {
      "display_id": null
     }
    },
    {
     "data": {
      "text/plain": [
       "Eval AUC (typed):   0%|          | 0/18 [00:00<?, ?it/s]"
      ],
      "application/vnd.jupyter.widget-view+json": {
       "version_major": 2,
       "version_minor": 0,
       "model_id": "bd8a5afdb64a40de9b512f879c32fcad"
      }
     },
     "metadata": {},
     "output_type": "display_data",
     "jetTransient": {
      "display_id": null
     }
    },
    {
     "data": {
      "text/plain": [
       "Eval Hits (tail):   0%|          | 0/18 [00:00<?, ?it/s]"
      ],
      "application/vnd.jupyter.widget-view+json": {
       "version_major": 2,
       "version_minor": 0,
       "model_id": "a98bc2f29b78460fb2e21f0a2b5ed74a"
      }
     },
     "metadata": {},
     "output_type": "display_data",
     "jetTransient": {
      "display_id": null
     }
    },
    {
     "name": "stdout",
     "output_type": "stream",
     "text": [
      "Epoch 006 | loss=0.1650 | AUC=0.9742 | H@1=0.4938 | H@5=0.7858 | H@10=0.8910\n"
     ]
    },
    {
     "data": {
      "text/plain": [
       "Train 7:   0%|          | 0/266 [00:00<?, ?it/s]"
      ],
      "application/vnd.jupyter.widget-view+json": {
       "version_major": 2,
       "version_minor": 0,
       "model_id": "cb358625a1bb4aebbfb834b1f0fc135d"
      }
     },
     "metadata": {},
     "output_type": "display_data",
     "jetTransient": {
      "display_id": null
     }
    },
    {
     "data": {
      "text/plain": [
       "Eval AUC (typed):   0%|          | 0/18 [00:00<?, ?it/s]"
      ],
      "application/vnd.jupyter.widget-view+json": {
       "version_major": 2,
       "version_minor": 0,
       "model_id": "16bbe4e354b04800bb709dda382dcdda"
      }
     },
     "metadata": {},
     "output_type": "display_data",
     "jetTransient": {
      "display_id": null
     }
    },
    {
     "data": {
      "text/plain": [
       "Eval Hits (tail):   0%|          | 0/18 [00:00<?, ?it/s]"
      ],
      "application/vnd.jupyter.widget-view+json": {
       "version_major": 2,
       "version_minor": 0,
       "model_id": "2ae162f97d954494a9af614b4419363f"
      }
     },
     "metadata": {},
     "output_type": "display_data",
     "jetTransient": {
      "display_id": null
     }
    },
    {
     "name": "stdout",
     "output_type": "stream",
     "text": [
      "Epoch 007 | loss=0.1594 | AUC=0.9757 | H@1=0.4926 | H@5=0.7884 | H@10=0.8945\n"
     ]
    },
    {
     "data": {
      "text/plain": [
       "Train 8:   0%|          | 0/266 [00:00<?, ?it/s]"
      ],
      "application/vnd.jupyter.widget-view+json": {
       "version_major": 2,
       "version_minor": 0,
       "model_id": "bad549c46539443ca289f357feef826b"
      }
     },
     "metadata": {},
     "output_type": "display_data",
     "jetTransient": {
      "display_id": null
     }
    },
    {
     "data": {
      "text/plain": [
       "Eval AUC (typed):   0%|          | 0/18 [00:00<?, ?it/s]"
      ],
      "application/vnd.jupyter.widget-view+json": {
       "version_major": 2,
       "version_minor": 0,
       "model_id": "ef861109f1ee4e8699f9df429201f7f8"
      }
     },
     "metadata": {},
     "output_type": "display_data",
     "jetTransient": {
      "display_id": null
     }
    },
    {
     "data": {
      "text/plain": [
       "Eval Hits (tail):   0%|          | 0/18 [00:00<?, ?it/s]"
      ],
      "application/vnd.jupyter.widget-view+json": {
       "version_major": 2,
       "version_minor": 0,
       "model_id": "ddff6bf31e77485ea7fcc6f054069659"
      }
     },
     "metadata": {},
     "output_type": "display_data",
     "jetTransient": {
      "display_id": null
     }
    },
    {
     "name": "stdout",
     "output_type": "stream",
     "text": [
      "Epoch 008 | loss=0.1555 | AUC=0.9762 | H@1=0.4960 | H@5=0.7930 | H@10=0.8978\n"
     ]
    },
    {
     "data": {
      "text/plain": [
       "Train 9:   0%|          | 0/266 [00:00<?, ?it/s]"
      ],
      "application/vnd.jupyter.widget-view+json": {
       "version_major": 2,
       "version_minor": 0,
       "model_id": "3dfd36be6f234ffc94de06a5507be578"
      }
     },
     "metadata": {},
     "output_type": "display_data",
     "jetTransient": {
      "display_id": null
     }
    },
    {
     "data": {
      "text/plain": [
       "Eval AUC (typed):   0%|          | 0/18 [00:00<?, ?it/s]"
      ],
      "application/vnd.jupyter.widget-view+json": {
       "version_major": 2,
       "version_minor": 0,
       "model_id": "81c94d2747b54d889af81374c48f1ca8"
      }
     },
     "metadata": {},
     "output_type": "display_data",
     "jetTransient": {
      "display_id": null
     }
    },
    {
     "data": {
      "text/plain": [
       "Eval Hits (tail):   0%|          | 0/18 [00:00<?, ?it/s]"
      ],
      "application/vnd.jupyter.widget-view+json": {
       "version_major": 2,
       "version_minor": 0,
       "model_id": "3ee0ad916d334cbb9749ddd51e9d0410"
      }
     },
     "metadata": {},
     "output_type": "display_data",
     "jetTransient": {
      "display_id": null
     }
    },
    {
     "name": "stdout",
     "output_type": "stream",
     "text": [
      "Epoch 009 | loss=0.1509 | AUC=0.9762 | H@1=0.4930 | H@5=0.7998 | H@10=0.9014\n"
     ]
    },
    {
     "data": {
      "text/plain": [
       "Train 10:   0%|          | 0/266 [00:00<?, ?it/s]"
      ],
      "application/vnd.jupyter.widget-view+json": {
       "version_major": 2,
       "version_minor": 0,
       "model_id": "a28ad5308a0d4046bcb433cf36b179cc"
      }
     },
     "metadata": {},
     "output_type": "display_data",
     "jetTransient": {
      "display_id": null
     }
    },
    {
     "data": {
      "text/plain": [
       "Eval AUC (typed):   0%|          | 0/18 [00:00<?, ?it/s]"
      ],
      "application/vnd.jupyter.widget-view+json": {
       "version_major": 2,
       "version_minor": 0,
       "model_id": "2f6af2def3834a2183241b8fa5e73b68"
      }
     },
     "metadata": {},
     "output_type": "display_data",
     "jetTransient": {
      "display_id": null
     }
    },
    {
     "data": {
      "text/plain": [
       "Eval Hits (tail):   0%|          | 0/18 [00:00<?, ?it/s]"
      ],
      "application/vnd.jupyter.widget-view+json": {
       "version_major": 2,
       "version_minor": 0,
       "model_id": "3d8e96cb21f74a7faeebd9fa98e497c8"
      }
     },
     "metadata": {},
     "output_type": "display_data",
     "jetTransient": {
      "display_id": null
     }
    },
    {
     "name": "stdout",
     "output_type": "stream",
     "text": [
      "Epoch 010 | loss=0.1479 | AUC=0.9769 | H@1=0.5007 | H@5=0.7978 | H@10=0.8993\n"
     ]
    },
    {
     "data": {
      "text/plain": [
       "Train 11:   0%|          | 0/266 [00:11<?, ?it/s]"
      ],
      "application/vnd.jupyter.widget-view+json": {
       "version_major": 2,
       "version_minor": 0,
       "model_id": "7256f71b65a64b29b8a36ed7486ad3d0"
      }
     },
     "metadata": {},
     "output_type": "display_data",
     "jetTransient": {
      "display_id": null
     }
    },
    {
     "data": {
      "text/plain": [
       "Eval AUC (typed):   0%|          | 0/18 [00:00<?, ?it/s]"
      ],
      "application/vnd.jupyter.widget-view+json": {
       "version_major": 2,
       "version_minor": 0,
       "model_id": "386942128273448a8a6d97917192bb69"
      }
     },
     "metadata": {},
     "output_type": "display_data",
     "jetTransient": {
      "display_id": null
     }
    },
    {
     "data": {
      "text/plain": [
       "Eval Hits (tail):   0%|          | 0/18 [00:00<?, ?it/s]"
      ],
      "application/vnd.jupyter.widget-view+json": {
       "version_major": 2,
       "version_minor": 0,
       "model_id": "ba559d60f09d423d876e139b2b8dabcf"
      }
     },
     "metadata": {},
     "output_type": "display_data",
     "jetTransient": {
      "display_id": null
     }
    },
    {
     "name": "stdout",
     "output_type": "stream",
     "text": [
      "Epoch 011 | loss=0.1459 | AUC=0.9773 | H@1=0.5019 | H@5=0.8029 | H@10=0.9039\n"
     ]
    },
    {
     "data": {
      "text/plain": [
       "Train 12:   0%|          | 0/266 [00:00<?, ?it/s]"
      ],
      "application/vnd.jupyter.widget-view+json": {
       "version_major": 2,
       "version_minor": 0,
       "model_id": "493e016524f64dacb84933b7ba6959ac"
      }
     },
     "metadata": {},
     "output_type": "display_data",
     "jetTransient": {
      "display_id": null
     }
    },
    {
     "ename": "KeyboardInterrupt",
     "evalue": "",
     "output_type": "error",
     "traceback": [
      "\u001B[31m---------------------------------------------------------------------------\u001B[39m",
      "\u001B[31mKeyboardInterrupt\u001B[39m                         Traceback (most recent call last)",
      "\u001B[36mCell\u001B[39m\u001B[36m \u001B[39m\u001B[32mIn[9]\u001B[39m\u001B[32m, line 118\u001B[39m\n\u001B[32m    114\u001B[39m enc_dm = RelationalGINEncoder( num_nodes=num_nodes, num_relations=num_relations, emb_dim=emb_dim, num_layers=num_layers, hidden_layers=hidden_layers, dropout=\u001B[32m0.1\u001B[39m, train_eps=\u001B[38;5;28;01mTrue\u001B[39;00m\n\u001B[32m    115\u001B[39m                                )\n\u001B[32m    116\u001B[39m dec_dm = DistMultDecoder(num_relations=num_relations, dim=emb_dim)\n\u001B[32m--> \u001B[39m\u001B[32m118\u001B[39m res_distmult = \u001B[43mtrain_linkpred_typed\u001B[49m\u001B[43m(\u001B[49m\n\u001B[32m    119\u001B[39m \u001B[43m    \u001B[49m\u001B[43menc_dm\u001B[49m\u001B[43m,\u001B[49m\u001B[43m \u001B[49m\u001B[43mdec_dm\u001B[49m\u001B[43m,\u001B[49m\u001B[43m \u001B[49m\u001B[43mdm_typed\u001B[49m\u001B[43m,\u001B[49m\n\u001B[32m    120\u001B[39m \u001B[43m    \u001B[49m\u001B[43mepochs\u001B[49m\u001B[43m=\u001B[49m\u001B[32;43m100\u001B[39;49m\u001B[43m,\u001B[49m\u001B[43m \u001B[49m\u001B[43mlr\u001B[49m\u001B[43m=\u001B[49m\u001B[32;43m1e-3\u001B[39;49m\u001B[43m,\u001B[49m\u001B[43m \u001B[49m\u001B[43mweight_decay\u001B[49m\u001B[43m=\u001B[49m\u001B[32;43m1e-4\u001B[39;49m\u001B[43m,\u001B[49m\u001B[43m \u001B[49m\u001B[43mpatience\u001B[49m\u001B[43m=\u001B[49m\u001B[32;43m10\u001B[39;49m\u001B[43m,\u001B[49m\n\u001B[32m    121\u001B[39m \u001B[43m    \u001B[49m\u001B[43mshow_tqdm\u001B[49m\u001B[43m=\u001B[49m\u001B[38;5;28;43;01mTrue\u001B[39;49;00m\u001B[43m,\u001B[49m\n\u001B[32m    122\u001B[39m \u001B[43m    \u001B[49m\u001B[43msave_best_path\u001B[49m\u001B[43m=\u001B[49m\u001B[33;43mf\u001B[39;49m\u001B[33;43m\"\u001B[39;49m\u001B[33;43mcheckpoints/embed_rel/\u001B[39;49m\u001B[38;5;132;43;01m{\u001B[39;49;00m\u001B[43mdataset\u001B[49m\u001B[38;5;132;43;01m}\u001B[39;49;00m\u001B[33;43m/best_rgin_distmult|embed_dim=\u001B[39;49m\u001B[38;5;132;43;01m{\u001B[39;49;00m\u001B[43memb_dim\u001B[49m\u001B[38;5;132;43;01m}\u001B[39;49;00m\u001B[33;43m|mlp_depth=\u001B[39;49m\u001B[38;5;132;43;01m{\u001B[39;49;00m\u001B[43mhidden_layers\u001B[49m\u001B[38;5;132;43;01m}\u001B[39;49;00m\u001B[33;43m|aggre=\u001B[39;49m\u001B[38;5;132;43;01m{\u001B[39;49;00m\u001B[43mnum_layers\u001B[49m\u001B[38;5;132;43;01m}\u001B[39;49;00m\u001B[33;43m|dataset=\u001B[39;49m\u001B[38;5;132;43;01m{\u001B[39;49;00m\u001B[43mdataset\u001B[49m\u001B[38;5;132;43;01m}\u001B[39;49;00m\u001B[33;43m.pt\u001B[39;49m\u001B[33;43m\"\u001B[39;49m\u001B[43m,\u001B[49m\n\u001B[32m    123\u001B[39m \u001B[43m    \u001B[49m\u001B[43msave_on_improve\u001B[49m\u001B[43m=\u001B[49m\u001B[38;5;28;43;01mTrue\u001B[39;49;00m\u001B[43m,\u001B[49m\n\u001B[32m    124\u001B[39m \u001B[43m    \u001B[49m\u001B[43mhparams\u001B[49m\u001B[43m=\u001B[49m\u001B[43m{\u001B[49m\u001B[33;43m\"\u001B[39;49m\u001B[33;43mdataset\u001B[39;49m\u001B[33;43m\"\u001B[39;49m\u001B[43m:\u001B[49m\u001B[43m \u001B[49m\u001B[43mdataset\u001B[49m\u001B[43m,\u001B[49m\u001B[43m \u001B[49m\u001B[33;43m\"\u001B[39;49m\u001B[33;43mdecoder\u001B[39;49m\u001B[33;43m\"\u001B[39;49m\u001B[43m:\u001B[49m\u001B[43m \u001B[49m\u001B[33;43m\"\u001B[39;49m\u001B[33;43mDistMult\u001B[39;49m\u001B[33;43m\"\u001B[39;49m\u001B[43m,\u001B[49m\u001B[43m \u001B[49m\u001B[33;43m\"\u001B[39;49m\u001B[33;43memb_dim\u001B[39;49m\u001B[33;43m\"\u001B[39;49m\u001B[43m:\u001B[49m\u001B[43m \u001B[49m\u001B[43memb_dim\u001B[49m\u001B[43m,\u001B[49m\u001B[43m \u001B[49m\u001B[33;43m\"\u001B[39;49m\u001B[33;43mnum_layers\u001B[39;49m\u001B[33;43m\"\u001B[39;49m\u001B[43m:\u001B[49m\u001B[43m \u001B[49m\u001B[43mnum_layers\u001B[49m\u001B[43m,\u001B[49m\u001B[43m \u001B[49m\u001B[33;43m\"\u001B[39;49m\u001B[33;43mhidden_layers\u001B[39;49m\u001B[33;43m\"\u001B[39;49m\u001B[43m:\u001B[49m\u001B[43m \u001B[49m\u001B[43mhidden_layers\u001B[49m\u001B[43m}\u001B[49m\n\u001B[32m    125\u001B[39m \u001B[43m)\u001B[49m\n\u001B[32m    127\u001B[39m print_training_report(\n\u001B[32m    128\u001B[39m     model_name = \u001B[33m\"\u001B[39m\u001B[33mR-GIN_embed_rel + Distmult\u001B[39m\u001B[33m\"\u001B[39m,\n\u001B[32m    129\u001B[39m     result = res_distmult,\n\u001B[32m    130\u001B[39m     header_title = \u001B[33m\"\u001B[39m\u001B[33mModel Training Results\u001B[39m\u001B[33m\"\u001B[39m,\n\u001B[32m    131\u001B[39m     save_path=\u001B[33mf\u001B[39m\u001B[33m\"\u001B[39m\u001B[33mresults/embed_rel/\u001B[39m\u001B[38;5;132;01m{\u001B[39;00mdataset\u001B[38;5;132;01m}\u001B[39;00m\u001B[33m/embed_rel_gin_report|embed_dim=\u001B[39m\u001B[38;5;132;01m{\u001B[39;00memb_dim\u001B[38;5;132;01m}\u001B[39;00m\u001B[33m|mlp_depth=\u001B[39m\u001B[38;5;132;01m{\u001B[39;00mhidden_layers\u001B[38;5;132;01m}\u001B[39;00m\u001B[33m|aggre=\u001B[39m\u001B[38;5;132;01m{\u001B[39;00mnum_layers\u001B[38;5;132;01m}\u001B[39;00m\u001B[33m|dataset=\u001B[39m\u001B[38;5;132;01m{\u001B[39;00mdataset\u001B[38;5;132;01m}\u001B[39;00m\u001B[33m.txt\u001B[39m\u001B[33m\"\u001B[39m\n\u001B[32m    132\u001B[39m )\n\u001B[32m    135\u001B[39m dm_typed = KGDataModuleTyped(\n\u001B[32m    136\u001B[39m     train_p, valid_p, test_p,\n\u001B[32m    137\u001B[39m     add_reverse=\u001B[38;5;28;01mTrue\u001B[39;00m,\n\u001B[32m    138\u001B[39m     reverse_relation_strategy=\u001B[33m\"\u001B[39m\u001B[33mduplicate_rel\u001B[39m\u001B[33m\"\u001B[39m,\n\u001B[32m    139\u001B[39m )\n",
      "\u001B[36mCell\u001B[39m\u001B[36m \u001B[39m\u001B[32mIn[4]\u001B[39m\u001B[32m, line 87\u001B[39m, in \u001B[36mtrain_linkpred_typed\u001B[39m\u001B[34m(encoder, decoder, dm, epochs, lr, weight_decay, patience, device, show_tqdm, save_best_path, save_on_improve, hparams)\u001B[39m\n\u001B[32m     84\u001B[39m opt.zero_grad()\n\u001B[32m     86\u001B[39m \u001B[38;5;66;03m# recompute embeddings for THIS batch so we have a fresh graph\u001B[39;00m\n\u001B[32m---> \u001B[39m\u001B[32m87\u001B[39m z = \u001B[43mencoder\u001B[49m\u001B[43m(\u001B[49m\u001B[43medge_index\u001B[49m\u001B[43m,\u001B[49m\u001B[43m \u001B[49m\u001B[43medge_type\u001B[49m\u001B[43m)\u001B[49m              \u001B[38;5;66;03m# <— moved inside\u001B[39;00m\n\u001B[32m     89\u001B[39m s_pos = decoder(z, pos)\n\u001B[32m     90\u001B[39m s_neg = decoder(z, neg)\n",
      "\u001B[36mFile \u001B[39m\u001B[32m/opt/anaconda3/envs/py311/lib/python3.11/site-packages/torch/nn/modules/module.py:1773\u001B[39m, in \u001B[36mModule._wrapped_call_impl\u001B[39m\u001B[34m(self, *args, **kwargs)\u001B[39m\n\u001B[32m   1771\u001B[39m     \u001B[38;5;28;01mreturn\u001B[39;00m \u001B[38;5;28mself\u001B[39m._compiled_call_impl(*args, **kwargs)  \u001B[38;5;66;03m# type: ignore[misc]\u001B[39;00m\n\u001B[32m   1772\u001B[39m \u001B[38;5;28;01melse\u001B[39;00m:\n\u001B[32m-> \u001B[39m\u001B[32m1773\u001B[39m     \u001B[38;5;28;01mreturn\u001B[39;00m \u001B[38;5;28;43mself\u001B[39;49m\u001B[43m.\u001B[49m\u001B[43m_call_impl\u001B[49m\u001B[43m(\u001B[49m\u001B[43m*\u001B[49m\u001B[43margs\u001B[49m\u001B[43m,\u001B[49m\u001B[43m \u001B[49m\u001B[43m*\u001B[49m\u001B[43m*\u001B[49m\u001B[43mkwargs\u001B[49m\u001B[43m)\u001B[49m\n",
      "\u001B[36mFile \u001B[39m\u001B[32m/opt/anaconda3/envs/py311/lib/python3.11/site-packages/torch/nn/modules/module.py:1784\u001B[39m, in \u001B[36mModule._call_impl\u001B[39m\u001B[34m(self, *args, **kwargs)\u001B[39m\n\u001B[32m   1779\u001B[39m \u001B[38;5;66;03m# If we don't have any hooks, we want to skip the rest of the logic in\u001B[39;00m\n\u001B[32m   1780\u001B[39m \u001B[38;5;66;03m# this function, and just call forward.\u001B[39;00m\n\u001B[32m   1781\u001B[39m \u001B[38;5;28;01mif\u001B[39;00m \u001B[38;5;129;01mnot\u001B[39;00m (\u001B[38;5;28mself\u001B[39m._backward_hooks \u001B[38;5;129;01mor\u001B[39;00m \u001B[38;5;28mself\u001B[39m._backward_pre_hooks \u001B[38;5;129;01mor\u001B[39;00m \u001B[38;5;28mself\u001B[39m._forward_hooks \u001B[38;5;129;01mor\u001B[39;00m \u001B[38;5;28mself\u001B[39m._forward_pre_hooks\n\u001B[32m   1782\u001B[39m         \u001B[38;5;129;01mor\u001B[39;00m _global_backward_pre_hooks \u001B[38;5;129;01mor\u001B[39;00m _global_backward_hooks\n\u001B[32m   1783\u001B[39m         \u001B[38;5;129;01mor\u001B[39;00m _global_forward_hooks \u001B[38;5;129;01mor\u001B[39;00m _global_forward_pre_hooks):\n\u001B[32m-> \u001B[39m\u001B[32m1784\u001B[39m     \u001B[38;5;28;01mreturn\u001B[39;00m \u001B[43mforward_call\u001B[49m\u001B[43m(\u001B[49m\u001B[43m*\u001B[49m\u001B[43margs\u001B[49m\u001B[43m,\u001B[49m\u001B[43m \u001B[49m\u001B[43m*\u001B[49m\u001B[43m*\u001B[49m\u001B[43mkwargs\u001B[49m\u001B[43m)\u001B[49m\n\u001B[32m   1786\u001B[39m result = \u001B[38;5;28;01mNone\u001B[39;00m\n\u001B[32m   1787\u001B[39m called_always_called_hooks = \u001B[38;5;28mset\u001B[39m()\n",
      "\u001B[36mCell\u001B[39m\u001B[36m \u001B[39m\u001B[32mIn[1]\u001B[39m\u001B[32m, line 83\u001B[39m, in \u001B[36mRelationalGINEncoder.forward\u001B[39m\u001B[34m(self, edge_index, edge_type)\u001B[39m\n\u001B[32m     81\u001B[39m x = \u001B[38;5;28mself\u001B[39m.embed.weight\n\u001B[32m     82\u001B[39m \u001B[38;5;28;01mfor\u001B[39;00m conv \u001B[38;5;129;01min\u001B[39;00m \u001B[38;5;28mself\u001B[39m.convs:\n\u001B[32m---> \u001B[39m\u001B[32m83\u001B[39m     x = \u001B[43mconv\u001B[49m\u001B[43m(\u001B[49m\u001B[43mx\u001B[49m\u001B[43m,\u001B[49m\u001B[43m \u001B[49m\u001B[43medge_index\u001B[49m\u001B[43m,\u001B[49m\u001B[43m \u001B[49m\u001B[43medge_type\u001B[49m\u001B[43m)\u001B[49m\n\u001B[32m     84\u001B[39m     x = \u001B[38;5;28mself\u001B[39m.dropout(x)\n\u001B[32m     85\u001B[39m \u001B[38;5;28;01mreturn\u001B[39;00m x\n",
      "\u001B[36mFile \u001B[39m\u001B[32m/opt/anaconda3/envs/py311/lib/python3.11/site-packages/torch/nn/modules/module.py:1773\u001B[39m, in \u001B[36mModule._wrapped_call_impl\u001B[39m\u001B[34m(self, *args, **kwargs)\u001B[39m\n\u001B[32m   1771\u001B[39m     \u001B[38;5;28;01mreturn\u001B[39;00m \u001B[38;5;28mself\u001B[39m._compiled_call_impl(*args, **kwargs)  \u001B[38;5;66;03m# type: ignore[misc]\u001B[39;00m\n\u001B[32m   1772\u001B[39m \u001B[38;5;28;01melse\u001B[39;00m:\n\u001B[32m-> \u001B[39m\u001B[32m1773\u001B[39m     \u001B[38;5;28;01mreturn\u001B[39;00m \u001B[38;5;28;43mself\u001B[39;49m\u001B[43m.\u001B[49m\u001B[43m_call_impl\u001B[49m\u001B[43m(\u001B[49m\u001B[43m*\u001B[49m\u001B[43margs\u001B[49m\u001B[43m,\u001B[49m\u001B[43m \u001B[49m\u001B[43m*\u001B[49m\u001B[43m*\u001B[49m\u001B[43mkwargs\u001B[49m\u001B[43m)\u001B[49m\n",
      "\u001B[36mFile \u001B[39m\u001B[32m/opt/anaconda3/envs/py311/lib/python3.11/site-packages/torch/nn/modules/module.py:1784\u001B[39m, in \u001B[36mModule._call_impl\u001B[39m\u001B[34m(self, *args, **kwargs)\u001B[39m\n\u001B[32m   1779\u001B[39m \u001B[38;5;66;03m# If we don't have any hooks, we want to skip the rest of the logic in\u001B[39;00m\n\u001B[32m   1780\u001B[39m \u001B[38;5;66;03m# this function, and just call forward.\u001B[39;00m\n\u001B[32m   1781\u001B[39m \u001B[38;5;28;01mif\u001B[39;00m \u001B[38;5;129;01mnot\u001B[39;00m (\u001B[38;5;28mself\u001B[39m._backward_hooks \u001B[38;5;129;01mor\u001B[39;00m \u001B[38;5;28mself\u001B[39m._backward_pre_hooks \u001B[38;5;129;01mor\u001B[39;00m \u001B[38;5;28mself\u001B[39m._forward_hooks \u001B[38;5;129;01mor\u001B[39;00m \u001B[38;5;28mself\u001B[39m._forward_pre_hooks\n\u001B[32m   1782\u001B[39m         \u001B[38;5;129;01mor\u001B[39;00m _global_backward_pre_hooks \u001B[38;5;129;01mor\u001B[39;00m _global_backward_hooks\n\u001B[32m   1783\u001B[39m         \u001B[38;5;129;01mor\u001B[39;00m _global_forward_hooks \u001B[38;5;129;01mor\u001B[39;00m _global_forward_pre_hooks):\n\u001B[32m-> \u001B[39m\u001B[32m1784\u001B[39m     \u001B[38;5;28;01mreturn\u001B[39;00m \u001B[43mforward_call\u001B[49m\u001B[43m(\u001B[49m\u001B[43m*\u001B[49m\u001B[43margs\u001B[49m\u001B[43m,\u001B[49m\u001B[43m \u001B[49m\u001B[43m*\u001B[49m\u001B[43m*\u001B[49m\u001B[43mkwargs\u001B[49m\u001B[43m)\u001B[49m\n\u001B[32m   1786\u001B[39m result = \u001B[38;5;28;01mNone\u001B[39;00m\n\u001B[32m   1787\u001B[39m called_always_called_hooks = \u001B[38;5;28mset\u001B[39m()\n",
      "\u001B[36mCell\u001B[39m\u001B[36m \u001B[39m\u001B[32mIn[1]\u001B[39m\u001B[32m, line 47\u001B[39m, in \u001B[36mRelationalGINConv.forward\u001B[39m\u001B[34m(self, x, edge_index, edge_type)\u001B[39m\n\u001B[32m     41\u001B[39m \u001B[38;5;250m\u001B[39m\u001B[33;03m\"\"\"\u001B[39;00m\n\u001B[32m     42\u001B[39m \u001B[33;03mx: [N, d]\u001B[39;00m\n\u001B[32m     43\u001B[39m \u001B[33;03medge_index: [2, E]\u001B[39;00m\n\u001B[32m     44\u001B[39m \u001B[33;03medge_type: [E]  (relation id per edge)\u001B[39;00m\n\u001B[32m     45\u001B[39m \u001B[33;03m\"\"\"\u001B[39;00m\n\u001B[32m     46\u001B[39m \u001B[38;5;66;03m# Pass x through propagate so update(...) can receive it\u001B[39;00m\n\u001B[32m---> \u001B[39m\u001B[32m47\u001B[39m \u001B[38;5;28;01mreturn\u001B[39;00m \u001B[38;5;28;43mself\u001B[39;49m\u001B[43m.\u001B[49m\u001B[43mpropagate\u001B[49m\u001B[43m(\u001B[49m\u001B[43medge_index\u001B[49m\u001B[43m,\u001B[49m\u001B[43m \u001B[49m\u001B[43mx\u001B[49m\u001B[43m=\u001B[49m\u001B[43mx\u001B[49m\u001B[43m,\u001B[49m\u001B[43m \u001B[49m\u001B[43medge_type\u001B[49m\u001B[43m=\u001B[49m\u001B[43medge_type\u001B[49m\u001B[43m)\u001B[49m\n",
      "\u001B[36mFile \u001B[39m\u001B[32m/opt/anaconda3/envs/py311/lib/python3.11/site-packages/torch_geometric/nn/conv/message_passing.py:514\u001B[39m, in \u001B[36mMessagePassing.propagate\u001B[39m\u001B[34m(self, edge_index, size, **kwargs)\u001B[39m\n\u001B[32m    511\u001B[39m     \u001B[38;5;28;01mfor\u001B[39;00m arg \u001B[38;5;129;01min\u001B[39;00m decomp_args:\n\u001B[32m    512\u001B[39m         kwargs[arg] = decomp_kwargs[arg][i]\n\u001B[32m--> \u001B[39m\u001B[32m514\u001B[39m coll_dict = \u001B[38;5;28;43mself\u001B[39;49m\u001B[43m.\u001B[49m\u001B[43m_collect\u001B[49m\u001B[43m(\u001B[49m\u001B[38;5;28;43mself\u001B[39;49m\u001B[43m.\u001B[49m\u001B[43m_user_args\u001B[49m\u001B[43m,\u001B[49m\u001B[43m \u001B[49m\u001B[43medge_index\u001B[49m\u001B[43m,\u001B[49m\n\u001B[32m    515\u001B[39m \u001B[43m                          \u001B[49m\u001B[43mmutable_size\u001B[49m\u001B[43m,\u001B[49m\u001B[43m \u001B[49m\u001B[43mkwargs\u001B[49m\u001B[43m)\u001B[49m\n\u001B[32m    517\u001B[39m msg_kwargs = \u001B[38;5;28mself\u001B[39m.inspector.collect_param_data(\n\u001B[32m    518\u001B[39m     \u001B[33m'\u001B[39m\u001B[33mmessage\u001B[39m\u001B[33m'\u001B[39m, coll_dict)\n\u001B[32m    519\u001B[39m \u001B[38;5;28;01mfor\u001B[39;00m hook \u001B[38;5;129;01min\u001B[39;00m \u001B[38;5;28mself\u001B[39m._message_forward_pre_hooks.values():\n",
      "\u001B[36mFile \u001B[39m\u001B[32m/opt/anaconda3/envs/py311/lib/python3.11/site-packages/torch_geometric/nn/conv/message_passing.py:361\u001B[39m, in \u001B[36mMessagePassing._collect\u001B[39m\u001B[34m(self, args, edge_index, size, kwargs)\u001B[39m\n\u001B[32m    359\u001B[39m         \u001B[38;5;28;01mif\u001B[39;00m \u001B[38;5;28misinstance\u001B[39m(data, Tensor):\n\u001B[32m    360\u001B[39m             \u001B[38;5;28mself\u001B[39m._set_size(size, dim, data)\n\u001B[32m--> \u001B[39m\u001B[32m361\u001B[39m             data = \u001B[38;5;28;43mself\u001B[39;49m\u001B[43m.\u001B[49m\u001B[43m_lift\u001B[49m\u001B[43m(\u001B[49m\u001B[43mdata\u001B[49m\u001B[43m,\u001B[49m\u001B[43m \u001B[49m\u001B[43medge_index\u001B[49m\u001B[43m,\u001B[49m\u001B[43m \u001B[49m\u001B[43mdim\u001B[49m\u001B[43m)\u001B[49m\n\u001B[32m    363\u001B[39m         out[arg] = data\n\u001B[32m    365\u001B[39m \u001B[38;5;28;01mif\u001B[39;00m is_torch_sparse_tensor(edge_index):\n",
      "\u001B[36mFile \u001B[39m\u001B[32m/opt/anaconda3/envs/py311/lib/python3.11/site-packages/torch_geometric/nn/conv/message_passing.py:321\u001B[39m, in \u001B[36mMessagePassing._lift\u001B[39m\u001B[34m(self, src, edge_index, dim)\u001B[39m\n\u001B[32m    319\u001B[39m         index = edge_index[dim]\n\u001B[32m    320\u001B[39m         \u001B[38;5;28;01mreturn\u001B[39;00m src.index_select(\u001B[38;5;28mself\u001B[39m.node_dim, index)\n\u001B[32m--> \u001B[39m\u001B[32m321\u001B[39m     \u001B[38;5;28;01mreturn\u001B[39;00m \u001B[38;5;28;43mself\u001B[39;49m\u001B[43m.\u001B[49m\u001B[43m_index_select\u001B[49m\u001B[43m(\u001B[49m\u001B[43msrc\u001B[49m\u001B[43m,\u001B[49m\u001B[43m \u001B[49m\u001B[43medge_index\u001B[49m\u001B[43m[\u001B[49m\u001B[43mdim\u001B[49m\u001B[43m]\u001B[49m\u001B[43m)\u001B[49m\n\u001B[32m    323\u001B[39m \u001B[38;5;28;01melif\u001B[39;00m \u001B[38;5;28misinstance\u001B[39m(edge_index, SparseTensor):\n\u001B[32m    324\u001B[39m     row, col, _ = edge_index.coo()\n",
      "\u001B[36mFile \u001B[39m\u001B[32m/opt/anaconda3/envs/py311/lib/python3.11/site-packages/torch_geometric/nn/conv/message_passing.py:267\u001B[39m, in \u001B[36mMessagePassing._index_select\u001B[39m\u001B[34m(self, src, index)\u001B[39m\n\u001B[32m    265\u001B[39m     \u001B[38;5;28;01mreturn\u001B[39;00m src.index_select(\u001B[38;5;28mself\u001B[39m.node_dim, index)\n\u001B[32m    266\u001B[39m \u001B[38;5;28;01melse\u001B[39;00m:\n\u001B[32m--> \u001B[39m\u001B[32m267\u001B[39m     \u001B[38;5;28;01mreturn\u001B[39;00m \u001B[38;5;28;43mself\u001B[39;49m\u001B[43m.\u001B[49m\u001B[43m_index_select_safe\u001B[49m\u001B[43m(\u001B[49m\u001B[43msrc\u001B[49m\u001B[43m,\u001B[49m\u001B[43m \u001B[49m\u001B[43mindex\u001B[49m\u001B[43m)\u001B[49m\n",
      "\u001B[36mFile \u001B[39m\u001B[32m/opt/anaconda3/envs/py311/lib/python3.11/site-packages/torch_geometric/nn/conv/message_passing.py:271\u001B[39m, in \u001B[36mMessagePassing._index_select_safe\u001B[39m\u001B[34m(self, src, index)\u001B[39m\n\u001B[32m    269\u001B[39m \u001B[38;5;28;01mdef\u001B[39;00m\u001B[38;5;250m \u001B[39m\u001B[34m_index_select_safe\u001B[39m(\u001B[38;5;28mself\u001B[39m, src: Tensor, index: Tensor) -> Tensor:\n\u001B[32m    270\u001B[39m     \u001B[38;5;28;01mtry\u001B[39;00m:\n\u001B[32m--> \u001B[39m\u001B[32m271\u001B[39m         \u001B[38;5;28;01mreturn\u001B[39;00m \u001B[43msrc\u001B[49m\u001B[43m.\u001B[49m\u001B[43mindex_select\u001B[49m\u001B[43m(\u001B[49m\u001B[38;5;28;43mself\u001B[39;49m\u001B[43m.\u001B[49m\u001B[43mnode_dim\u001B[49m\u001B[43m,\u001B[49m\u001B[43m \u001B[49m\u001B[43mindex\u001B[49m\u001B[43m)\u001B[49m\n\u001B[32m    272\u001B[39m     \u001B[38;5;28;01mexcept\u001B[39;00m (\u001B[38;5;167;01mIndexError\u001B[39;00m, \u001B[38;5;167;01mRuntimeError\u001B[39;00m) \u001B[38;5;28;01mas\u001B[39;00m e:\n\u001B[32m    273\u001B[39m         \u001B[38;5;28;01mif\u001B[39;00m index.numel() > \u001B[32m0\u001B[39m \u001B[38;5;129;01mand\u001B[39;00m index.min() < \u001B[32m0\u001B[39m:\n",
      "\u001B[31mKeyboardInterrupt\u001B[39m: "
     ]
    },
    {
     "ename": "KeyboardInterrupt",
     "evalue": "",
     "output_type": "error",
     "traceback": [
      "\u001B[31m---------------------------------------------------------------------------\u001B[39m",
      "\u001B[31mKeyboardInterrupt\u001B[39m                         Traceback (most recent call last)",
      "\u001B[36mFile \u001B[39m\u001B[32m/opt/anaconda3/envs/py311/lib/python3.11/site-packages/IPython/core/async_helpers.py:128\u001B[39m, in \u001B[36m_pseudo_sync_runner\u001B[39m\u001B[34m(coro)\u001B[39m\n\u001B[32m    120\u001B[39m \u001B[38;5;250m\u001B[39m\u001B[33;03m\"\"\"\u001B[39;00m\n\u001B[32m    121\u001B[39m \u001B[33;03mA runner that does not really allow async execution, and just advance the coroutine.\u001B[39;00m\n\u001B[32m    122\u001B[39m \n\u001B[32m   (...)\u001B[39m\u001B[32m    125\u001B[39m \u001B[33;03mCredit to Nathaniel Smith\u001B[39;00m\n\u001B[32m    126\u001B[39m \u001B[33;03m\"\"\"\u001B[39;00m\n\u001B[32m    127\u001B[39m \u001B[38;5;28;01mtry\u001B[39;00m:\n\u001B[32m--> \u001B[39m\u001B[32m128\u001B[39m     coro.send(\u001B[38;5;28;01mNone\u001B[39;00m)\n\u001B[32m    129\u001B[39m \u001B[38;5;28;01mexcept\u001B[39;00m \u001B[38;5;167;01mStopIteration\u001B[39;00m \u001B[38;5;28;01mas\u001B[39;00m exc:\n\u001B[32m    130\u001B[39m     \u001B[38;5;28;01mreturn\u001B[39;00m exc.value\n",
      "\u001B[36mFile \u001B[39m\u001B[32m/opt/anaconda3/envs/py311/lib/python3.11/site-packages/IPython/core/interactiveshell.py:3381\u001B[39m, in \u001B[36mInteractiveShell.run_cell_async\u001B[39m\u001B[34m(self, raw_cell, store_history, silent, shell_futures, transformed_cell, preprocessing_exc_tuple, cell_id)\u001B[39m\n\u001B[32m   3377\u001B[39m exec_count = \u001B[38;5;28mself\u001B[39m.execution_count\n\u001B[32m   3378\u001B[39m \u001B[38;5;28;01mif\u001B[39;00m result.error_in_exec:\n\u001B[32m   3379\u001B[39m     \u001B[38;5;66;03m# Store formatted traceback and error details\u001B[39;00m\n\u001B[32m   3380\u001B[39m     \u001B[38;5;28mself\u001B[39m.history_manager.exceptions[exec_count] = (\n\u001B[32m-> \u001B[39m\u001B[32m3381\u001B[39m         \u001B[38;5;28;43mself\u001B[39;49m\u001B[43m.\u001B[49m\u001B[43m_format_exception_for_storage\u001B[49m\u001B[43m(\u001B[49m\u001B[43mresult\u001B[49m\u001B[43m.\u001B[49m\u001B[43merror_in_exec\u001B[49m\u001B[43m)\u001B[49m\n\u001B[32m   3382\u001B[39m     )\n\u001B[32m   3384\u001B[39m \u001B[38;5;66;03m# Each cell is a *single* input, regardless of how many lines it has\u001B[39;00m\n\u001B[32m   3385\u001B[39m \u001B[38;5;28mself\u001B[39m.execution_count += \u001B[32m1\u001B[39m\n",
      "\u001B[36mFile \u001B[39m\u001B[32m/opt/anaconda3/envs/py311/lib/python3.11/site-packages/IPython/core/interactiveshell.py:3435\u001B[39m, in \u001B[36mInteractiveShell._format_exception_for_storage\u001B[39m\u001B[34m(self, exception, filename, running_compiled_code)\u001B[39m\n\u001B[32m   3432\u001B[39m         stb = evalue._render_traceback_()\n\u001B[32m   3433\u001B[39m     \u001B[38;5;28;01melse\u001B[39;00m:\n\u001B[32m   3434\u001B[39m         \u001B[38;5;66;03m# Otherwise, use InteractiveTB to format the traceback.\u001B[39;00m\n\u001B[32m-> \u001B[39m\u001B[32m3435\u001B[39m         stb = \u001B[38;5;28;43mself\u001B[39;49m\u001B[43m.\u001B[49m\u001B[43mInteractiveTB\u001B[49m\u001B[43m.\u001B[49m\u001B[43mstructured_traceback\u001B[49m\u001B[43m(\u001B[49m\n\u001B[32m   3436\u001B[39m \u001B[43m            \u001B[49m\u001B[43metype\u001B[49m\u001B[43m,\u001B[49m\u001B[43m \u001B[49m\u001B[43mevalue\u001B[49m\u001B[43m,\u001B[49m\u001B[43m \u001B[49m\u001B[43mtb\u001B[49m\u001B[43m,\u001B[49m\u001B[43m \u001B[49m\u001B[43mtb_offset\u001B[49m\u001B[43m=\u001B[49m\u001B[32;43m1\u001B[39;49m\n\u001B[32m   3437\u001B[39m \u001B[43m        \u001B[49m\u001B[43m)\u001B[49m\n\u001B[32m   3438\u001B[39m \u001B[38;5;28;01mexcept\u001B[39;00m \u001B[38;5;167;01mException\u001B[39;00m:\n\u001B[32m   3439\u001B[39m     \u001B[38;5;66;03m# In case formatting fails, fallback to Python's built-in formatting.\u001B[39;00m\n\u001B[32m   3440\u001B[39m     stb = traceback.format_exception(etype, evalue, tb)\n",
      "\u001B[36mFile \u001B[39m\u001B[32m/opt/anaconda3/envs/py311/lib/python3.11/site-packages/IPython/core/ultratb.py:1182\u001B[39m, in \u001B[36mAutoFormattedTB.structured_traceback\u001B[39m\u001B[34m(self, etype, evalue, etb, tb_offset, context)\u001B[39m\n\u001B[32m   1180\u001B[39m \u001B[38;5;28;01melse\u001B[39;00m:\n\u001B[32m   1181\u001B[39m     \u001B[38;5;28mself\u001B[39m.tb = etb\n\u001B[32m-> \u001B[39m\u001B[32m1182\u001B[39m \u001B[38;5;28;01mreturn\u001B[39;00m \u001B[43mFormattedTB\u001B[49m\u001B[43m.\u001B[49m\u001B[43mstructured_traceback\u001B[49m\u001B[43m(\u001B[49m\n\u001B[32m   1183\u001B[39m \u001B[43m    \u001B[49m\u001B[38;5;28;43mself\u001B[39;49m\u001B[43m,\u001B[49m\u001B[43m \u001B[49m\u001B[43metype\u001B[49m\u001B[43m,\u001B[49m\u001B[43m \u001B[49m\u001B[43mevalue\u001B[49m\u001B[43m,\u001B[49m\u001B[43m \u001B[49m\u001B[43metb\u001B[49m\u001B[43m,\u001B[49m\u001B[43m \u001B[49m\u001B[43mtb_offset\u001B[49m\u001B[43m,\u001B[49m\u001B[43m \u001B[49m\u001B[43mcontext\u001B[49m\n\u001B[32m   1184\u001B[39m \u001B[43m\u001B[49m\u001B[43m)\u001B[49m\n",
      "\u001B[36mFile \u001B[39m\u001B[32m/opt/anaconda3/envs/py311/lib/python3.11/site-packages/IPython/core/ultratb.py:1053\u001B[39m, in \u001B[36mFormattedTB.structured_traceback\u001B[39m\u001B[34m(self, etype, evalue, etb, tb_offset, context)\u001B[39m\n\u001B[32m   1050\u001B[39m mode = \u001B[38;5;28mself\u001B[39m.mode\n\u001B[32m   1051\u001B[39m \u001B[38;5;28;01mif\u001B[39;00m mode \u001B[38;5;129;01min\u001B[39;00m \u001B[38;5;28mself\u001B[39m.verbose_modes:\n\u001B[32m   1052\u001B[39m     \u001B[38;5;66;03m# Verbose modes need a full traceback\u001B[39;00m\n\u001B[32m-> \u001B[39m\u001B[32m1053\u001B[39m     \u001B[38;5;28;01mreturn\u001B[39;00m \u001B[43mVerboseTB\u001B[49m\u001B[43m.\u001B[49m\u001B[43mstructured_traceback\u001B[49m\u001B[43m(\u001B[49m\n\u001B[32m   1054\u001B[39m \u001B[43m        \u001B[49m\u001B[38;5;28;43mself\u001B[39;49m\u001B[43m,\u001B[49m\u001B[43m \u001B[49m\u001B[43metype\u001B[49m\u001B[43m,\u001B[49m\u001B[43m \u001B[49m\u001B[43mevalue\u001B[49m\u001B[43m,\u001B[49m\u001B[43m \u001B[49m\u001B[43metb\u001B[49m\u001B[43m,\u001B[49m\u001B[43m \u001B[49m\u001B[43mtb_offset\u001B[49m\u001B[43m,\u001B[49m\u001B[43m \u001B[49m\u001B[43mcontext\u001B[49m\n\u001B[32m   1055\u001B[39m \u001B[43m    \u001B[49m\u001B[43m)\u001B[49m\n\u001B[32m   1056\u001B[39m \u001B[38;5;28;01melif\u001B[39;00m mode == \u001B[33m\"\u001B[39m\u001B[33mDocs\u001B[39m\u001B[33m\"\u001B[39m:\n\u001B[32m   1057\u001B[39m     \u001B[38;5;66;03m# return DocTB\u001B[39;00m\n\u001B[32m   1058\u001B[39m     \u001B[38;5;28;01mreturn\u001B[39;00m DocTB(\n\u001B[32m   1059\u001B[39m         theme_name=\u001B[38;5;28mself\u001B[39m._theme_name,\n\u001B[32m   1060\u001B[39m         call_pdb=\u001B[38;5;28mself\u001B[39m.call_pdb,\n\u001B[32m   (...)\u001B[39m\u001B[32m   1068\u001B[39m         etype, evalue, etb, tb_offset, \u001B[32m1\u001B[39m\n\u001B[32m   1069\u001B[39m     )  \u001B[38;5;66;03m# type: ignore[arg-type]\u001B[39;00m\n",
      "\u001B[36mFile \u001B[39m\u001B[32m/opt/anaconda3/envs/py311/lib/python3.11/site-packages/IPython/core/ultratb.py:861\u001B[39m, in \u001B[36mVerboseTB.structured_traceback\u001B[39m\u001B[34m(self, etype, evalue, etb, tb_offset, context)\u001B[39m\n\u001B[32m    852\u001B[39m \u001B[38;5;28;01mdef\u001B[39;00m\u001B[38;5;250m \u001B[39m\u001B[34mstructured_traceback\u001B[39m(\n\u001B[32m    853\u001B[39m     \u001B[38;5;28mself\u001B[39m,\n\u001B[32m    854\u001B[39m     etype: \u001B[38;5;28mtype\u001B[39m,\n\u001B[32m   (...)\u001B[39m\u001B[32m    858\u001B[39m     context: \u001B[38;5;28mint\u001B[39m = \u001B[32m5\u001B[39m,\n\u001B[32m    859\u001B[39m ) -> \u001B[38;5;28mlist\u001B[39m[\u001B[38;5;28mstr\u001B[39m]:\n\u001B[32m    860\u001B[39m \u001B[38;5;250m    \u001B[39m\u001B[33;03m\"\"\"Return a nice text document describing the traceback.\"\"\"\u001B[39;00m\n\u001B[32m--> \u001B[39m\u001B[32m861\u001B[39m     formatted_exceptions: \u001B[38;5;28mlist\u001B[39m[\u001B[38;5;28mlist\u001B[39m[\u001B[38;5;28mstr\u001B[39m]] = \u001B[38;5;28;43mself\u001B[39;49m\u001B[43m.\u001B[49m\u001B[43mformat_exception_as_a_whole\u001B[49m\u001B[43m(\u001B[49m\n\u001B[32m    862\u001B[39m \u001B[43m        \u001B[49m\u001B[43metype\u001B[49m\u001B[43m,\u001B[49m\u001B[43m \u001B[49m\u001B[43mevalue\u001B[49m\u001B[43m,\u001B[49m\u001B[43m \u001B[49m\u001B[43metb\u001B[49m\u001B[43m,\u001B[49m\u001B[43m \u001B[49m\u001B[43mcontext\u001B[49m\u001B[43m,\u001B[49m\u001B[43m \u001B[49m\u001B[43mtb_offset\u001B[49m\n\u001B[32m    863\u001B[39m \u001B[43m    \u001B[49m\u001B[43m)\u001B[49m\n\u001B[32m    865\u001B[39m     termsize = \u001B[38;5;28mmin\u001B[39m(\u001B[32m75\u001B[39m, get_terminal_size()[\u001B[32m0\u001B[39m])\n\u001B[32m    866\u001B[39m     theme = theme_table[\u001B[38;5;28mself\u001B[39m._theme_name]\n",
      "\u001B[36mFile \u001B[39m\u001B[32m/opt/anaconda3/envs/py311/lib/python3.11/site-packages/IPython/core/ultratb.py:773\u001B[39m, in \u001B[36mVerboseTB.format_exception_as_a_whole\u001B[39m\u001B[34m(self, etype, evalue, etb, context, tb_offset)\u001B[39m\n\u001B[32m    763\u001B[39m         frames.append(\n\u001B[32m    764\u001B[39m             theme_table[\u001B[38;5;28mself\u001B[39m._theme_name].format(\n\u001B[32m    765\u001B[39m                 [\n\u001B[32m   (...)\u001B[39m\u001B[32m    770\u001B[39m             )\n\u001B[32m    771\u001B[39m         )\n\u001B[32m    772\u001B[39m         skipped = \u001B[32m0\u001B[39m\n\u001B[32m--> \u001B[39m\u001B[32m773\u001B[39m     frames.append(\u001B[38;5;28;43mself\u001B[39;49m\u001B[43m.\u001B[49m\u001B[43mformat_record\u001B[49m\u001B[43m(\u001B[49m\u001B[43mrecord\u001B[49m\u001B[43m)\u001B[49m)\n\u001B[32m    774\u001B[39m \u001B[38;5;28;01mif\u001B[39;00m skipped:\n\u001B[32m    775\u001B[39m     frames.append(\n\u001B[32m    776\u001B[39m         theme_table[\u001B[38;5;28mself\u001B[39m._theme_name].format(\n\u001B[32m    777\u001B[39m             [\n\u001B[32m   (...)\u001B[39m\u001B[32m    782\u001B[39m         )\n\u001B[32m    783\u001B[39m     )\n",
      "\u001B[36mFile \u001B[39m\u001B[32m/opt/anaconda3/envs/py311/lib/python3.11/site-packages/IPython/core/ultratb.py:651\u001B[39m, in \u001B[36mVerboseTB.format_record\u001B[39m\u001B[34m(self, frame_info)\u001B[39m\n\u001B[32m    648\u001B[39m result += \u001B[33m\"\u001B[39m\u001B[33m, \u001B[39m\u001B[33m\"\u001B[39m \u001B[38;5;28;01mif\u001B[39;00m call \u001B[38;5;28;01melse\u001B[39;00m \u001B[33m\"\u001B[39m\u001B[33m\"\u001B[39m\n\u001B[32m    649\u001B[39m result += \u001B[33mf\u001B[39m\u001B[33m\"\u001B[39m\u001B[38;5;132;01m{\u001B[39;00mcall\u001B[38;5;132;01m}\u001B[39;00m\u001B[38;5;130;01m\\n\u001B[39;00m\u001B[33m\"\u001B[39m\n\u001B[32m    650\u001B[39m result += theme_table[\u001B[38;5;28mself\u001B[39m._theme_name].format(\n\u001B[32m--> \u001B[39m\u001B[32m651\u001B[39m     \u001B[43m_format_traceback_lines\u001B[49m\u001B[43m(\u001B[49m\n\u001B[32m    652\u001B[39m \u001B[43m        \u001B[49m\u001B[43mframe_info\u001B[49m\u001B[43m.\u001B[49m\u001B[43mlines\u001B[49m\u001B[43m,\u001B[49m\n\u001B[32m    653\u001B[39m \u001B[43m        \u001B[49m\u001B[43mtheme_table\u001B[49m\u001B[43m[\u001B[49m\u001B[38;5;28;43mself\u001B[39;49m\u001B[43m.\u001B[49m\u001B[43m_theme_name\u001B[49m\u001B[43m]\u001B[49m\u001B[43m,\u001B[49m\n\u001B[32m    654\u001B[39m \u001B[43m        \u001B[49m\u001B[38;5;28;43mself\u001B[39;49m\u001B[43m.\u001B[49m\u001B[43mhas_colors\u001B[49m\u001B[43m,\u001B[49m\n\u001B[32m    655\u001B[39m \u001B[43m        \u001B[49m\u001B[43mlvals_toks\u001B[49m\u001B[43m,\u001B[49m\n\u001B[32m    656\u001B[39m \u001B[43m    \u001B[49m\u001B[43m)\u001B[49m\n\u001B[32m    657\u001B[39m )\n\u001B[32m    658\u001B[39m \u001B[38;5;28;01mreturn\u001B[39;00m result\n",
      "\u001B[36mFile \u001B[39m\u001B[32m/opt/anaconda3/envs/py311/lib/python3.11/site-packages/IPython/core/tbtools.py:99\u001B[39m, in \u001B[36m_format_traceback_lines\u001B[39m\u001B[34m(lines, theme, has_colors, lvals_toks)\u001B[39m\n\u001B[32m     96\u001B[39m     \u001B[38;5;28;01mcontinue\u001B[39;00m\n\u001B[32m     98\u001B[39m lineno = stack_line.lineno\n\u001B[32m---> \u001B[39m\u001B[32m99\u001B[39m line = \u001B[43mstack_line\u001B[49m\u001B[43m.\u001B[49m\u001B[43mrender\u001B[49m\u001B[43m(\u001B[49m\u001B[43mpygmented\u001B[49m\u001B[43m=\u001B[49m\u001B[43mhas_colors\u001B[49m\u001B[43m)\u001B[49m.rstrip(\u001B[33m\"\u001B[39m\u001B[38;5;130;01m\\n\u001B[39;00m\u001B[33m\"\u001B[39m) + \u001B[33m\"\u001B[39m\u001B[38;5;130;01m\\n\u001B[39;00m\u001B[33m\"\u001B[39m\n\u001B[32m    100\u001B[39m \u001B[38;5;28;01mif\u001B[39;00m stack_line.is_current:\n\u001B[32m    101\u001B[39m     \u001B[38;5;66;03m# This is the line with the error\u001B[39;00m\n\u001B[32m    102\u001B[39m     pad = numbers_width - \u001B[38;5;28mlen\u001B[39m(\u001B[38;5;28mstr\u001B[39m(lineno))\n",
      "\u001B[36mFile \u001B[39m\u001B[32m/opt/anaconda3/envs/py311/lib/python3.11/site-packages/stack_data/core.py:391\u001B[39m, in \u001B[36mLine.render\u001B[39m\u001B[34m(self, markers, strip_leading_indent, pygmented, escape_html)\u001B[39m\n\u001B[32m    389\u001B[39m \u001B[38;5;28;01mif\u001B[39;00m pygmented \u001B[38;5;129;01mand\u001B[39;00m \u001B[38;5;28mself\u001B[39m.frame_info.scope:\n\u001B[32m    390\u001B[39m     assert_(\u001B[38;5;129;01mnot\u001B[39;00m markers, \u001B[38;5;167;01mValueError\u001B[39;00m(\u001B[33m\"\u001B[39m\u001B[33mCannot use pygmented with markers\u001B[39m\u001B[33m\"\u001B[39m))\n\u001B[32m--> \u001B[39m\u001B[32m391\u001B[39m     start_line, lines = \u001B[38;5;28;43mself\u001B[39;49m\u001B[43m.\u001B[49m\u001B[43mframe_info\u001B[49m\u001B[43m.\u001B[49m\u001B[43m_pygmented_scope_lines\u001B[49m\n\u001B[32m    392\u001B[39m     result = lines[\u001B[38;5;28mself\u001B[39m.lineno - start_line]\n\u001B[32m    393\u001B[39m     \u001B[38;5;28;01mif\u001B[39;00m strip_leading_indent:\n",
      "\u001B[36mFile \u001B[39m\u001B[32m/opt/anaconda3/envs/py311/lib/python3.11/site-packages/stack_data/utils.py:145\u001B[39m, in \u001B[36mcached_property.cached_property_wrapper\u001B[39m\u001B[34m(self, obj, _cls)\u001B[39m\n\u001B[32m    142\u001B[39m \u001B[38;5;28;01mif\u001B[39;00m obj \u001B[38;5;129;01mis\u001B[39;00m \u001B[38;5;28;01mNone\u001B[39;00m:\n\u001B[32m    143\u001B[39m     \u001B[38;5;28;01mreturn\u001B[39;00m \u001B[38;5;28mself\u001B[39m\n\u001B[32m--> \u001B[39m\u001B[32m145\u001B[39m value = obj.\u001B[34m__dict__\u001B[39m[\u001B[38;5;28mself\u001B[39m.func.\u001B[34m__name__\u001B[39m] = \u001B[38;5;28;43mself\u001B[39;49m\u001B[43m.\u001B[49m\u001B[43mfunc\u001B[49m\u001B[43m(\u001B[49m\u001B[43mobj\u001B[49m\u001B[43m)\u001B[49m\n\u001B[32m    146\u001B[39m \u001B[38;5;28;01mreturn\u001B[39;00m value\n",
      "\u001B[36mFile \u001B[39m\u001B[32m/opt/anaconda3/envs/py311/lib/python3.11/site-packages/stack_data/core.py:824\u001B[39m, in \u001B[36mFrameInfo._pygmented_scope_lines\u001B[39m\u001B[34m(self)\u001B[39m\n\u001B[32m    821\u001B[39m     ranges = []\n\u001B[32m    823\u001B[39m code = atext.get_text(scope)\n\u001B[32m--> \u001B[39m\u001B[32m824\u001B[39m lines = \u001B[43m_pygmented_with_ranges\u001B[49m\u001B[43m(\u001B[49m\u001B[43mformatter\u001B[49m\u001B[43m,\u001B[49m\u001B[43m \u001B[49m\u001B[43mcode\u001B[49m\u001B[43m,\u001B[49m\u001B[43m \u001B[49m\u001B[43mranges\u001B[49m\u001B[43m)\u001B[49m\n\u001B[32m    826\u001B[39m start_line = \u001B[38;5;28mself\u001B[39m.source.line_range(scope)[\u001B[32m0\u001B[39m]\n\u001B[32m    828\u001B[39m \u001B[38;5;28;01mreturn\u001B[39;00m start_line, lines\n",
      "\u001B[36mFile \u001B[39m\u001B[32m/opt/anaconda3/envs/py311/lib/python3.11/site-packages/stack_data/utils.py:164\u001B[39m, in \u001B[36m_pygmented_with_ranges\u001B[39m\u001B[34m(formatter, code, ranges)\u001B[39m\n\u001B[32m    161\u001B[39m             length += \u001B[38;5;28mlen\u001B[39m(value)\n\u001B[32m    162\u001B[39m             \u001B[38;5;28;01myield\u001B[39;00m ttype, value\n\u001B[32m--> \u001B[39m\u001B[32m164\u001B[39m lexer = \u001B[43mMyLexer\u001B[49m\u001B[43m(\u001B[49m\u001B[43mstripnl\u001B[49m\u001B[43m=\u001B[49m\u001B[38;5;28;43;01mFalse\u001B[39;49;00m\u001B[43m)\u001B[49m\n\u001B[32m    165\u001B[39m \u001B[38;5;28;01mtry\u001B[39;00m:\n\u001B[32m    166\u001B[39m     highlighted = pygments.highlight(code, lexer, formatter)\n",
      "\u001B[36mFile \u001B[39m\u001B[32m/opt/anaconda3/envs/py311/lib/python3.11/site-packages/pygments/lexer.py:660\u001B[39m, in \u001B[36mRegexLexerMeta.__call__\u001B[39m\u001B[34m(cls, *args, **kwds)\u001B[39m\n\u001B[32m    658\u001B[39m         \u001B[38;5;28;01mpass\u001B[39;00m\n\u001B[32m    659\u001B[39m     \u001B[38;5;28;01melse\u001B[39;00m:\n\u001B[32m--> \u001B[39m\u001B[32m660\u001B[39m         \u001B[38;5;28mcls\u001B[39m._tokens = \u001B[38;5;28;43mcls\u001B[39;49m\u001B[43m.\u001B[49m\u001B[43mprocess_tokendef\u001B[49m\u001B[43m(\u001B[49m\u001B[33;43m'\u001B[39;49m\u001B[33;43m'\u001B[39;49m\u001B[43m,\u001B[49m\u001B[43m \u001B[49m\u001B[38;5;28;43mcls\u001B[39;49m\u001B[43m.\u001B[49m\u001B[43mget_tokendefs\u001B[49m\u001B[43m(\u001B[49m\u001B[43m)\u001B[49m\u001B[43m)\u001B[49m\n\u001B[32m    662\u001B[39m \u001B[38;5;28;01mreturn\u001B[39;00m \u001B[38;5;28mtype\u001B[39m.\u001B[34m__call__\u001B[39m(\u001B[38;5;28mcls\u001B[39m, *args, **kwds)\n",
      "\u001B[36mFile \u001B[39m\u001B[32m/opt/anaconda3/envs/py311/lib/python3.11/site-packages/pygments/lexer.py:599\u001B[39m, in \u001B[36mRegexLexerMeta.process_tokendef\u001B[39m\u001B[34m(cls, name, tokendefs)\u001B[39m\n\u001B[32m    597\u001B[39m tokendefs = tokendefs \u001B[38;5;129;01mor\u001B[39;00m \u001B[38;5;28mcls\u001B[39m.tokens[name]\n\u001B[32m    598\u001B[39m \u001B[38;5;28;01mfor\u001B[39;00m state \u001B[38;5;129;01min\u001B[39;00m \u001B[38;5;28mlist\u001B[39m(tokendefs):\n\u001B[32m--> \u001B[39m\u001B[32m599\u001B[39m     \u001B[38;5;28;43mcls\u001B[39;49m\u001B[43m.\u001B[49m\u001B[43m_process_state\u001B[49m\u001B[43m(\u001B[49m\u001B[43mtokendefs\u001B[49m\u001B[43m,\u001B[49m\u001B[43m \u001B[49m\u001B[43mprocessed\u001B[49m\u001B[43m,\u001B[49m\u001B[43m \u001B[49m\u001B[43mstate\u001B[49m\u001B[43m)\u001B[49m\n\u001B[32m    600\u001B[39m \u001B[38;5;28;01mreturn\u001B[39;00m processed\n",
      "\u001B[36mFile \u001B[39m\u001B[32m/opt/anaconda3/envs/py311/lib/python3.11/site-packages/pygments/lexer.py:563\u001B[39m, in \u001B[36mRegexLexerMeta._process_state\u001B[39m\u001B[34m(cls, unprocessed, processed, state)\u001B[39m\n\u001B[32m    560\u001B[39m \u001B[38;5;28;01mif\u001B[39;00m \u001B[38;5;28misinstance\u001B[39m(tdef, include):\n\u001B[32m    561\u001B[39m     \u001B[38;5;66;03m# it's a state reference\u001B[39;00m\n\u001B[32m    562\u001B[39m     \u001B[38;5;28;01massert\u001B[39;00m tdef != state, \u001B[33mf\u001B[39m\u001B[33m\"\u001B[39m\u001B[33mcircular state reference \u001B[39m\u001B[38;5;132;01m{\u001B[39;00mstate\u001B[38;5;132;01m!r}\u001B[39;00m\u001B[33m\"\u001B[39m\n\u001B[32m--> \u001B[39m\u001B[32m563\u001B[39m     tokens.extend(\u001B[38;5;28;43mcls\u001B[39;49m\u001B[43m.\u001B[49m\u001B[43m_process_state\u001B[49m\u001B[43m(\u001B[49m\u001B[43munprocessed\u001B[49m\u001B[43m,\u001B[49m\u001B[43m \u001B[49m\u001B[43mprocessed\u001B[49m\u001B[43m,\u001B[49m\n\u001B[32m    564\u001B[39m \u001B[43m                                     \u001B[49m\u001B[38;5;28;43mstr\u001B[39;49m\u001B[43m(\u001B[49m\u001B[43mtdef\u001B[49m\u001B[43m)\u001B[49m\u001B[43m)\u001B[49m)\n\u001B[32m    565\u001B[39m     \u001B[38;5;28;01mcontinue\u001B[39;00m\n\u001B[32m    566\u001B[39m \u001B[38;5;28;01mif\u001B[39;00m \u001B[38;5;28misinstance\u001B[39m(tdef, _inherit):\n\u001B[32m    567\u001B[39m     \u001B[38;5;66;03m# should be processed already, but may not in the case of:\u001B[39;00m\n\u001B[32m    568\u001B[39m     \u001B[38;5;66;03m# 1. the state has no counterpart in any parent\u001B[39;00m\n\u001B[32m    569\u001B[39m     \u001B[38;5;66;03m# 2. the state includes more than one 'inherit'\u001B[39;00m\n",
      "\u001B[36mFile \u001B[39m\u001B[32m/opt/anaconda3/envs/py311/lib/python3.11/site-packages/pygments/lexer.py:563\u001B[39m, in \u001B[36mRegexLexerMeta._process_state\u001B[39m\u001B[34m(cls, unprocessed, processed, state)\u001B[39m\n\u001B[32m    560\u001B[39m \u001B[38;5;28;01mif\u001B[39;00m \u001B[38;5;28misinstance\u001B[39m(tdef, include):\n\u001B[32m    561\u001B[39m     \u001B[38;5;66;03m# it's a state reference\u001B[39;00m\n\u001B[32m    562\u001B[39m     \u001B[38;5;28;01massert\u001B[39;00m tdef != state, \u001B[33mf\u001B[39m\u001B[33m\"\u001B[39m\u001B[33mcircular state reference \u001B[39m\u001B[38;5;132;01m{\u001B[39;00mstate\u001B[38;5;132;01m!r}\u001B[39;00m\u001B[33m\"\u001B[39m\n\u001B[32m--> \u001B[39m\u001B[32m563\u001B[39m     tokens.extend(\u001B[38;5;28;43mcls\u001B[39;49m\u001B[43m.\u001B[49m\u001B[43m_process_state\u001B[49m\u001B[43m(\u001B[49m\u001B[43munprocessed\u001B[49m\u001B[43m,\u001B[49m\u001B[43m \u001B[49m\u001B[43mprocessed\u001B[49m\u001B[43m,\u001B[49m\n\u001B[32m    564\u001B[39m \u001B[43m                                     \u001B[49m\u001B[38;5;28;43mstr\u001B[39;49m\u001B[43m(\u001B[49m\u001B[43mtdef\u001B[49m\u001B[43m)\u001B[49m\u001B[43m)\u001B[49m)\n\u001B[32m    565\u001B[39m     \u001B[38;5;28;01mcontinue\u001B[39;00m\n\u001B[32m    566\u001B[39m \u001B[38;5;28;01mif\u001B[39;00m \u001B[38;5;28misinstance\u001B[39m(tdef, _inherit):\n\u001B[32m    567\u001B[39m     \u001B[38;5;66;03m# should be processed already, but may not in the case of:\u001B[39;00m\n\u001B[32m    568\u001B[39m     \u001B[38;5;66;03m# 1. the state has no counterpart in any parent\u001B[39;00m\n\u001B[32m    569\u001B[39m     \u001B[38;5;66;03m# 2. the state includes more than one 'inherit'\u001B[39;00m\n",
      "\u001B[36mFile \u001B[39m\u001B[32m/opt/anaconda3/envs/py311/lib/python3.11/site-packages/pygments/lexer.py:579\u001B[39m, in \u001B[36mRegexLexerMeta._process_state\u001B[39m\u001B[34m(cls, unprocessed, processed, state)\u001B[39m\n\u001B[32m    576\u001B[39m \u001B[38;5;28;01massert\u001B[39;00m \u001B[38;5;28mtype\u001B[39m(tdef) \u001B[38;5;129;01mis\u001B[39;00m \u001B[38;5;28mtuple\u001B[39m, \u001B[33mf\u001B[39m\u001B[33m\"\u001B[39m\u001B[33mwrong rule def \u001B[39m\u001B[38;5;132;01m{\u001B[39;00mtdef\u001B[38;5;132;01m!r}\u001B[39;00m\u001B[33m\"\u001B[39m\n\u001B[32m    578\u001B[39m \u001B[38;5;28;01mtry\u001B[39;00m:\n\u001B[32m--> \u001B[39m\u001B[32m579\u001B[39m     rex = \u001B[38;5;28;43mcls\u001B[39;49m\u001B[43m.\u001B[49m\u001B[43m_process_regex\u001B[49m\u001B[43m(\u001B[49m\u001B[43mtdef\u001B[49m\u001B[43m[\u001B[49m\u001B[32;43m0\u001B[39;49m\u001B[43m]\u001B[49m\u001B[43m,\u001B[49m\u001B[43m \u001B[49m\u001B[43mrflags\u001B[49m\u001B[43m,\u001B[49m\u001B[43m \u001B[49m\u001B[43mstate\u001B[49m\u001B[43m)\u001B[49m\n\u001B[32m    580\u001B[39m \u001B[38;5;28;01mexcept\u001B[39;00m \u001B[38;5;167;01mException\u001B[39;00m \u001B[38;5;28;01mas\u001B[39;00m err:\n\u001B[32m    581\u001B[39m     \u001B[38;5;28;01mraise\u001B[39;00m \u001B[38;5;167;01mValueError\u001B[39;00m(\u001B[33mf\u001B[39m\u001B[33m\"\u001B[39m\u001B[33muncompilable regex \u001B[39m\u001B[38;5;132;01m{\u001B[39;00mtdef[\u001B[32m0\u001B[39m]\u001B[38;5;132;01m!r}\u001B[39;00m\u001B[33m in state \u001B[39m\u001B[38;5;132;01m{\u001B[39;00mstate\u001B[38;5;132;01m!r}\u001B[39;00m\u001B[33m of \u001B[39m\u001B[38;5;132;01m{\u001B[39;00m\u001B[38;5;28mcls\u001B[39m\u001B[38;5;132;01m!r}\u001B[39;00m\u001B[33m: \u001B[39m\u001B[38;5;132;01m{\u001B[39;00merr\u001B[38;5;132;01m}\u001B[39;00m\u001B[33m\"\u001B[39m) \u001B[38;5;28;01mfrom\u001B[39;00m\u001B[38;5;250m \u001B[39m\u001B[34;01merr\u001B[39;00m\n",
      "\u001B[36mFile \u001B[39m\u001B[32m/opt/anaconda3/envs/py311/lib/python3.11/site-packages/pygments/lexer.py:507\u001B[39m, in \u001B[36mRegexLexerMeta._process_regex\u001B[39m\u001B[34m(cls, regex, rflags, state)\u001B[39m\n\u001B[32m    505\u001B[39m \u001B[38;5;250m\u001B[39m\u001B[33;03m\"\"\"Preprocess the regular expression component of a token definition.\"\"\"\u001B[39;00m\n\u001B[32m    506\u001B[39m \u001B[38;5;28;01mif\u001B[39;00m \u001B[38;5;28misinstance\u001B[39m(regex, Future):\n\u001B[32m--> \u001B[39m\u001B[32m507\u001B[39m     regex = \u001B[43mregex\u001B[49m\u001B[43m.\u001B[49m\u001B[43mget\u001B[49m\u001B[43m(\u001B[49m\u001B[43m)\u001B[49m\n\u001B[32m    508\u001B[39m \u001B[38;5;28;01mreturn\u001B[39;00m re.compile(regex, rflags).match\n",
      "\u001B[36mFile \u001B[39m\u001B[32m/opt/anaconda3/envs/py311/lib/python3.11/site-packages/pygments/lexer.py:495\u001B[39m, in \u001B[36mwords.get\u001B[39m\u001B[34m(self)\u001B[39m\n\u001B[32m    494\u001B[39m \u001B[38;5;28;01mdef\u001B[39;00m\u001B[38;5;250m \u001B[39m\u001B[34mget\u001B[39m(\u001B[38;5;28mself\u001B[39m):\n\u001B[32m--> \u001B[39m\u001B[32m495\u001B[39m     \u001B[38;5;28;01mreturn\u001B[39;00m \u001B[43mregex_opt\u001B[49m\u001B[43m(\u001B[49m\u001B[38;5;28;43mself\u001B[39;49m\u001B[43m.\u001B[49m\u001B[43mwords\u001B[49m\u001B[43m,\u001B[49m\u001B[43m \u001B[49m\u001B[43mprefix\u001B[49m\u001B[43m=\u001B[49m\u001B[38;5;28;43mself\u001B[39;49m\u001B[43m.\u001B[49m\u001B[43mprefix\u001B[49m\u001B[43m,\u001B[49m\u001B[43m \u001B[49m\u001B[43msuffix\u001B[49m\u001B[43m=\u001B[49m\u001B[38;5;28;43mself\u001B[39;49m\u001B[43m.\u001B[49m\u001B[43msuffix\u001B[49m\u001B[43m)\u001B[49m\n",
      "\u001B[36mFile \u001B[39m\u001B[32m/opt/anaconda3/envs/py311/lib/python3.11/site-packages/pygments/regexopt.py:90\u001B[39m, in \u001B[36mregex_opt\u001B[39m\u001B[34m(strings, prefix, suffix)\u001B[39m\n\u001B[32m     82\u001B[39m \u001B[38;5;28;01mdef\u001B[39;00m\u001B[38;5;250m \u001B[39m\u001B[34mregex_opt\u001B[39m(strings, prefix=\u001B[33m'\u001B[39m\u001B[33m'\u001B[39m, suffix=\u001B[33m'\u001B[39m\u001B[33m'\u001B[39m):\n\u001B[32m     83\u001B[39m \u001B[38;5;250m    \u001B[39m\u001B[33;03m\"\"\"Return a compiled regex that matches any string in the given list.\u001B[39;00m\n\u001B[32m     84\u001B[39m \n\u001B[32m     85\u001B[39m \u001B[33;03m    The strings to match must be literal strings, not regexes.  They will be\u001B[39;00m\n\u001B[32m   (...)\u001B[39m\u001B[32m     88\u001B[39m \u001B[33;03m    *prefix* and *suffix* are pre- and appended to the final regex.\u001B[39;00m\n\u001B[32m     89\u001B[39m \u001B[33;03m    \"\"\"\u001B[39;00m\n\u001B[32m---> \u001B[39m\u001B[32m90\u001B[39m     strings = \u001B[38;5;28msorted\u001B[39m(strings)\n\u001B[32m     91\u001B[39m     \u001B[38;5;28;01mreturn\u001B[39;00m prefix + regex_opt_inner(strings, \u001B[33m'\u001B[39m\u001B[33m(\u001B[39m\u001B[33m'\u001B[39m) + suffix\n",
      "\u001B[31mKeyboardInterrupt\u001B[39m: "
     ]
    }
   ],
   "execution_count": 8
  },
  {
   "metadata": {},
   "cell_type": "code",
   "outputs": [],
   "execution_count": null,
   "source": "",
   "id": "c71cdec356ffa9c6"
  }
 ],
 "metadata": {
  "kernelspec": {
   "display_name": "Python 3 (ipykernel)",
   "language": "python",
   "name": "python3"
  },
  "language_info": {
   "codemirror_mode": {
    "name": "ipython",
    "version": 3
   },
   "file_extension": ".py",
   "mimetype": "text/x-python",
   "name": "python",
   "nbconvert_exporter": "python",
   "pygments_lexer": "ipython3",
   "version": "3.11.13"
  }
 },
 "nbformat": 4,
 "nbformat_minor": 5
}
