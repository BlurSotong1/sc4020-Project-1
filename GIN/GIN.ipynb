{
 "cells": [
  {
   "cell_type": "code",
   "id": "initial_id",
   "metadata": {
    "collapsed": true,
    "jupyter": {
     "outputs_hidden": true
    },
    "ExecuteTime": {
     "end_time": "2025-10-15T06:39:45.720699Z",
     "start_time": "2025-10-15T06:39:43.647772Z"
    }
   },
   "source": [
    "import torch\n",
    "import torch.nn as nn\n",
    "import torch.nn.functional as F\n",
    "from torch.utils.data import DataLoader\n",
    "from torch_geometric.nn import GINConv\n",
    "from typing import Optional, Dict, Any\n",
    "import numpy as np\n",
    "from pathlib import Path\n",
    "from tqdm.auto import tqdm\n",
    "from datetime import datetime\n",
    "try:\n",
    "    from sklearn.metrics import roc_auc_score\n",
    "    _HAS_SK = True\n",
    "except Exception:\n",
    "    _HAS_SK = False\n",
    "    print(\"sklearn not found: AUC will be computed via a simple approx (PRNG tie-breaks).\")\n",
    "\n",
    "\n",
    "\n",
    "class GINEncoder(torch.nn.Module):\n",
    "    \"\"\"\n",
    "    Flexible GIN encoder with configurable MLP depth.\n",
    "\n",
    "    Args:\n",
    "        num_nodes (int): Number of nodes in the graph.\n",
    "        hidden_layers (int): Number of hidden layers inside each MLP.\n",
    "        emb_dim (int): Embedding dimension.\n",
    "        num_layers (int): Number of GIN layers.\n",
    "        train_eps (bool): Whether to learn epsilon.\n",
    "        dropout (float): Dropout rate.\n",
    "    \"\"\"\n",
    "    def __init__(self, num_nodes, hidden_layers=2, emb_dim=128, num_layers=3, train_eps=True, dropout=0.1):\n",
    "        super().__init__()\n",
    "        self.embed = nn.Embedding(num_nodes, emb_dim)\n",
    "        nn.init.xavier_uniform_(self.embed.weight)\n",
    "\n",
    "        def make_mlp(in_dim, hidden_dim, out_dim, num_hidden):\n",
    "            \"\"\"Builds an MLP with variable hidden depth.\"\"\"\n",
    "            layers = [nn.Linear(in_dim, hidden_dim), nn.ReLU()]\n",
    "            for _ in range(num_hidden - 1):  # add intermediate hidden layers\n",
    "                layers += [nn.Linear(hidden_dim, hidden_dim), nn.ReLU()]\n",
    "            layers.append(nn.Linear(hidden_dim, out_dim))\n",
    "            return nn.Sequential(*layers)\n",
    "\n",
    "        self.convs = nn.ModuleList([\n",
    "            GINConv(make_mlp(emb_dim, emb_dim * 2, emb_dim, hidden_layers), train_eps=train_eps)\n",
    "            for _ in range(num_layers)\n",
    "        ])\n",
    "        self.dropout = nn.Dropout(dropout)\n",
    "\n",
    "    def forward(self, edge_index):\n",
    "        x = self.embed.weight  # [N, emb_dim]\n",
    "        for conv in self.convs:\n",
    "            x = conv(x, edge_index)\n",
    "            x = self.dropout(x)\n",
    "        return x  # node embeddings"
   ],
   "outputs": [],
   "execution_count": 2
  },
  {
   "cell_type": "code",
   "id": "4ce8a8a27c3cb168",
   "metadata": {
    "ExecuteTime": {
     "end_time": "2025-10-15T06:39:46.843897Z",
     "start_time": "2025-10-15T06:39:46.823295Z"
    }
   },
   "source": [
    "def _fmt_ts(dt: datetime) -> str:\n",
    "    return dt.strftime(\"%Y-%m-%d %H:%M:%S\")\n",
    "\n",
    "def _fmt(x):\n",
    "    try:\n",
    "        return f\"{float(x):.4f}\"\n",
    "    except Exception:\n",
    "        return \"nan\"\n",
    "\n",
    "def print_comparison_report(\n",
    "        title: str,\n",
    "        left_name: str, left_result: Dict[str, Any],\n",
    "        right_name: str, right_result: Dict[str, Any],\n",
    "        save_path: Optional[str | Path] = None,\n",
    "):\n",
    "    ts = _fmt_ts(datetime.now())\n",
    "\n",
    "    def block(name, res):\n",
    "        best = res[\"best\"]; hist = res[\"history\"]\n",
    "        best_auc = max((h.get(\"val_auc\", float(\"nan\")) for h in hist), default=float(\"nan\"))\n",
    "        total_epochs = res.get(\"epochs_trained\", len(hist))\n",
    "\n",
    "        lines = []\n",
    "        lines.append(f\"{name} Training History\")\n",
    "        lines.append(\"=\" * 60)\n",
    "        lines.append(\"\")\n",
    "        lines.append(f\"Best Validation AUC: {_fmt(best_auc)}\")\n",
    "        lines.append(f\"Total Epochs Trained: {total_epochs}\")\n",
    "        lines.append(f\"Early Stopping Best Score: {_fmt(best.get('Hits@10'))} (Hits@10 at epoch {best.get('epoch')})\")\n",
    "        lines.append(\"\")\n",
    "        lines.append(\"-\" * 90)\n",
    "        lines.append(f\"{'Epoch':<8} {'Train Loss':<14} {'Val AUC':<12} {'Val H@1':<12} {'Val H@5':<12} {'Val H@10':<12}\")\n",
    "        lines.append(\"-\" * 90)\n",
    "        for rec in hist:\n",
    "            e = rec.get(\"epoch\")\n",
    "            lines.append(\n",
    "                f\"{e:<8} \"\n",
    "                f\"{_fmt(rec.get('train_loss')):<14} \"\n",
    "                f\"{_fmt(rec.get('val_auc')):<12} \"\n",
    "                f\"{_fmt(rec.get('val_hits1')):<12} \"\n",
    "                f\"{_fmt(rec.get('val_hits5')):<12} \"\n",
    "                f\"{_fmt(rec.get('val_hits10')):<12}\"\n",
    "            )\n",
    "        lines.append(\"\")\n",
    "        return \"\\n\".join(lines)\n",
    "\n",
    "    out = []\n",
    "    out.append(f\"{title} - {ts}\")\n",
    "    out.append(\"=\" * 80)\n",
    "    out.append(\"\")\n",
    "    out.append(block(left_name, left_result))\n",
    "    out.append(block(right_name, right_result))\n",
    "\n",
    "    # Best-at-a-glance\n",
    "    out.append(\"Best Validation Metrics Summary\")\n",
    "    out.append(\"=\" * 60)\n",
    "    for name, res in [(left_name, left_result), (right_name, right_result)]:\n",
    "        b = res[\"best\"]\n",
    "        out.append(\n",
    "            f\"{name}: \"\n",
    "            f\"AUC={_fmt(b.get('AUC'))} | \"\n",
    "            f\"H@1={_fmt(b.get('Hits@1'))} | \"\n",
    "            f\"H@5={_fmt(b.get('Hits@5'))} | \"\n",
    "            f\"H@10={_fmt(b.get('Hits@10'))} \"\n",
    "            f\"(epoch {b.get('epoch')})\"\n",
    "        )\n",
    "    out.append(\"\")\n",
    "\n",
    "    report = \"\\n\".join(out)\n",
    "    print(report)\n",
    "\n",
    "    if save_path:\n",
    "        save_path = Path(save_path)\n",
    "        save_path.parent.mkdir(parents=True, exist_ok=True)\n",
    "        with open(save_path, \"w\", encoding=\"utf-8\") as f:\n",
    "            f.write(report)\n",
    "        print(f\"\\n✅ Comparison report saved to: {save_path.resolve()}\")\n",
    "\n",
    "def build_edge_index_from_dm(dm) -> torch.LongTensor:\n",
    "    \"\"\"\n",
    "    Build an undirected edge_index [2, E] from the *train* split only.\n",
    "    - For Typed DM: use (h, t) from train triples (relation ignored for GIN).\n",
    "    - For Collapsed DM: use train pairs.\n",
    "    Ensures symmetry (adds reverse if missing).\n",
    "    \"\"\"\n",
    "    if hasattr(dm, \"_train_triples\"):\n",
    "        ht = dm._train_triples[:, [0, 2]]  # (h, t)\n",
    "    else:\n",
    "        ht = dm._train_pairs                # (h, t)\n",
    "    if ht.numel() == 0:\n",
    "        return torch.empty(2, 0, dtype=torch.long)\n",
    "\n",
    "    # ensure both directions\n",
    "    rev = torch.stack([ht[:,1], ht[:,0]], dim=1)\n",
    "    edges = torch.cat([ht, rev], dim=0).T.contiguous()  # [2, E]\n",
    "    return edges\n",
    "\n",
    "\n",
    "@torch.no_grad()\n",
    "def sample_negatives(pairs_or_triples: torch.Tensor, num_entities: int, typed: bool) -> torch.Tensor:\n",
    "    \"\"\"\n",
    "    1:1 negatives per positive (half head-corrupt, half tail-corrupt).\n",
    "    Returns a tensor with same shape as input.\n",
    "    \"\"\"\n",
    "    B = pairs_or_triples.size(0)\n",
    "    device = pairs_or_triples.device\n",
    "    rand_ents = torch.randint(0, num_entities, (B,), device=device)\n",
    "\n",
    "    neg = pairs_or_triples.clone()\n",
    "    flip = torch.rand(B, device=device) < 0.5\n",
    "    if typed:\n",
    "        # triples: (h, r, t)\n",
    "        neg[flip, 0] = rand_ents[flip]   # corrupt head\n",
    "        neg[~flip, 2] = rand_ents[~flip] # corrupt tail\n",
    "    else:\n",
    "        # pairs: (h, t)\n",
    "        neg[flip, 0] = rand_ents[flip]\n",
    "        neg[~flip, 1] = rand_ents[~flip]\n",
    "    return neg\n",
    "\n",
    "\n",
    "def dot_scores(z: torch.Tensor, X: torch.Tensor, typed: bool) -> torch.Tensor:\n",
    "    \"\"\"\n",
    "    Dot-product decoder.\n",
    "    - If typed: X is [B,3] (h,r,t) but r is ignored for dot-product.\n",
    "    - If untyped: X is [B,2] (h,t).\n",
    "    \"\"\"\n",
    "    if typed:\n",
    "        h, t = X[:,0], X[:,2]\n",
    "    else:\n",
    "        h, t = X[:,0], X[:,1]\n",
    "    return (z[h] * z[t]).sum(dim=1)  # logits\n",
    "\n",
    "\n",
    "@torch.no_grad()\n",
    "def evaluate_metrics(\n",
    "        encoder: torch.nn.Module,\n",
    "        edge_index: torch.Tensor,\n",
    "        loader: Optional[DataLoader],\n",
    "        num_entities: int,\n",
    "        typed: bool,\n",
    "        device: torch.device,\n",
    "        show_tqdm: bool = False,\n",
    ") -> Dict[str, float]:\n",
    "    \"\"\"\n",
    "    Evaluates AUC and Hits@1/5/10 using *unfiltered* ranking.\n",
    "    Embeddings are computed from the train graph (edge_index).\n",
    "    \"\"\"\n",
    "    if loader is None:\n",
    "        return {\"AUC\": float(\"nan\"), \"Hits@1\": float(\"nan\"), \"Hits@5\": float(\"nan\"), \"Hits@10\": float(\"nan\")}\n",
    "\n",
    "    encoder.eval()\n",
    "    z = encoder(edge_index.to(device))  # [N, d]\n",
    "\n",
    "    # --- AUC: 1 negative per positive ---\n",
    "    all_scores = []\n",
    "    all_labels = []\n",
    "    it_auc = loader if not show_tqdm else tqdm(loader, leave=False, desc=\"Eval AUC\")\n",
    "    for X_pos, _ in it_auc:\n",
    "        X_pos = X_pos.to(device)\n",
    "        X_neg = sample_negatives(X_pos, num_entities, typed=typed).to(device)\n",
    "\n",
    "        s_pos = dot_scores(z, X_pos, typed)\n",
    "        s_neg = dot_scores(z, X_neg, typed)\n",
    "\n",
    "        all_scores.append(torch.cat([s_pos, s_neg]).detach().cpu().numpy())\n",
    "        all_labels.append(np.concatenate([np.ones(len(s_pos)), np.zeros(len(s_neg))]))\n",
    "\n",
    "    scores = np.concatenate(all_scores) if len(all_scores) > 0 else np.array([])\n",
    "    labels = np.concatenate(all_labels) if len(all_labels) > 0 else np.array([])\n",
    "    if _HAS_SK and len(scores) > 0:\n",
    "        auc = float(roc_auc_score(labels, scores))\n",
    "    else:\n",
    "        if len(scores) == 0:\n",
    "            auc = float(\"nan\")\n",
    "        else:\n",
    "            order = np.argsort(scores)\n",
    "            ranks = np.empty_like(order); ranks[order] = np.arange(len(scores))\n",
    "            pos_ranks = ranks[labels == 1]\n",
    "            neg_ranks = ranks[labels == 0]\n",
    "            auc = float(np.mean(pos_ranks[:, None] > neg_ranks[None, :]))\n",
    "\n",
    "    # --- Hits@k ---\n",
    "    hits1 = hits5 = hits10 = 0\n",
    "    trials = 0\n",
    "    it_hits = loader if not show_tqdm else tqdm(loader, leave=False, desc=\"Eval Hits\")\n",
    "    for X_pos, _ in it_hits:\n",
    "        X_pos = X_pos.to(device)\n",
    "        B = X_pos.size(0)\n",
    "        if typed:\n",
    "            h, t_true = X_pos[:, 0], X_pos[:, 2]\n",
    "        else:\n",
    "            h, t_true = X_pos[:, 0], X_pos[:, 1]\n",
    "\n",
    "        rand_t = torch.randint(0, num_entities, (B, 99), device=device)\n",
    "        cand_t = torch.cat([t_true.view(-1, 1), rand_t], dim=1)  # [B,100]\n",
    "\n",
    "        e_h = z[h]                      # [B,d]\n",
    "        e_c = z[cand_t]                 # [B,100,d]\n",
    "        s = (e_h.unsqueeze(1) * e_c).sum(dim=2)  # [B,100]\n",
    "\n",
    "        ranks = s.argsort(dim=1, descending=True)\n",
    "        true_positions = torch.nonzero(ranks == 0, as_tuple=False)[:, 1] + 1  # 1-based rank\n",
    "        hits1  += (true_positions <= 1).sum().item()\n",
    "        hits5  += (true_positions <= 5).sum().item()\n",
    "        hits10 += (true_positions <= 10).sum().item()\n",
    "        trials += B\n",
    "\n",
    "    return {\n",
    "        \"AUC\": auc,\n",
    "        \"Hits@1\": hits1 / max(trials, 1),\n",
    "        \"Hits@5\": hits5 / max(trials, 1),\n",
    "        \"Hits@10\": hits10 / max(trials, 1),\n",
    "    }"
   ],
   "outputs": [],
   "execution_count": 3
  },
  {
   "cell_type": "code",
   "execution_count": 3,
   "id": "f2823d01ce4d4d09",
   "metadata": {
    "ExecuteTime": {
     "end_time": "2025-10-13T19:04:18.874483Z",
     "start_time": "2025-10-13T19:04:18.866550Z"
    }
   },
   "outputs": [],
   "source": [
    "def train_linkpred(\n",
    "        encoder: torch.nn.Module,\n",
    "        dm,                                      # KGDataModuleCollapsed or KGDataModuleTyped\n",
    "        epochs: int = 100,\n",
    "        lr: float = 1e-3,\n",
    "        weight_decay: float = 1e-4,\n",
    "        patience: int = 10,\n",
    "        device: Optional[torch.device] = None,\n",
    "        show_tqdm: bool = True,\n",
    "        save_best_path: Optional[str | Path] = None,\n",
    "        save_on_improve: bool = True,\n",
    "        hparams: Optional[Dict[str, Any]] = None,         # <<< NEW\n",
    ") -> Dict[str, Any]:\n",
    "    device = device or torch.device(\"cuda\" if torch.cuda.is_available() else \"cpu\")\n",
    "    encoder = encoder.to(device)\n",
    "    opt = torch.optim.Adam(encoder.parameters(), lr=lr, weight_decay=weight_decay)\n",
    "\n",
    "    edge_index = build_edge_index_from_dm(dm).to(device)\n",
    "    typed = hasattr(dm, \"_train_triples\")\n",
    "\n",
    "    train_loader = dm.train_loader()\n",
    "    val_loader   = dm.val_loader()\n",
    "    num_entities = len(dm.ent2id)\n",
    "\n",
    "    # --------- Build/augment hparams ---------\n",
    "    auto_hparams: Dict[str, Any] = {\n",
    "        \"model_name\": encoder.__class__.__name__,\n",
    "        \"optimizer\": \"Adam\",\n",
    "        \"lr\": lr,\n",
    "        \"weight_decay\": weight_decay,\n",
    "        \"epochs\": epochs,\n",
    "        \"patience\": patience,\n",
    "        \"typed_graph\": typed,\n",
    "        \"batch_size\": getattr(dm, \"batch_size\", None),\n",
    "        \"add_reverse\": getattr(dm, \"add_reverse\", None),\n",
    "        \"reverse_relation_strategy\": getattr(dm, \"reverse_relation_strategy\", None),\n",
    "        \"num_nodes\": getattr(getattr(encoder, \"embed\", None), \"num_embeddings\", None),\n",
    "        \"emb_dim\": getattr(getattr(encoder, \"embed\", None), \"embedding_dim\", None),\n",
    "        \"num_layers\": len(getattr(encoder, \"convs\", [])),\n",
    "        \"dropout\": getattr(encoder, \"dropout\", None).__dict__.get(\"p\", None) if hasattr(encoder, \"dropout\") else None,\n",
    "    }\n",
    "    # user-supplied hparams override auto\n",
    "    run_hparams = {**auto_hparams, **(hparams or {})}\n",
    "\n",
    "    history = []\n",
    "    best = {\"epoch\": 0, \"AUC\": -1.0, \"Hits@1\": 0.0, \"Hits@5\": 0.0, \"Hits@10\": 0.0}\n",
    "    patience_ctr = 0\n",
    "    best_state = None\n",
    "\n",
    "    save_best_path = Path(save_best_path) if save_best_path else None\n",
    "    if save_best_path:\n",
    "        save_best_path.parent.mkdir(parents=True, exist_ok=True)\n",
    "\n",
    "    epoch_iter = range(1, epochs + 1)\n",
    "    if show_tqdm:\n",
    "        epoch_iter = tqdm(epoch_iter, desc=\"Epochs\")\n",
    "\n",
    "    start_time = datetime.now()\n",
    "\n",
    "    for epoch in epoch_iter:\n",
    "        encoder.train()\n",
    "        running_loss = 0.0\n",
    "        running_n    = 0\n",
    "\n",
    "        batch_iter = train_loader\n",
    "        if show_tqdm:\n",
    "            batch_iter = tqdm(train_loader, leave=False, desc=f\"Train {epoch}\")\n",
    "\n",
    "        for X_pos, _ in batch_iter:\n",
    "            X_pos = X_pos.to(device)\n",
    "            X_neg = sample_negatives(X_pos, num_entities, typed=typed).to(device)\n",
    "\n",
    "            z = encoder(edge_index)\n",
    "            s_pos = dot_scores(z, X_pos, typed=typed)\n",
    "            s_neg = dot_scores(z, X_neg, typed=typed)\n",
    "\n",
    "            scores = torch.cat([s_pos, s_neg], dim=0)\n",
    "            labels = torch.cat([torch.ones_like(s_pos), torch.zeros_like(s_neg)], dim=0)\n",
    "\n",
    "            loss = F.binary_cross_entropy_with_logits(scores, labels)\n",
    "\n",
    "            opt.zero_grad()\n",
    "            loss.backward()\n",
    "            torch.nn.utils.clip_grad_norm_(encoder.parameters(), max_norm=1.0)\n",
    "            opt.step()\n",
    "\n",
    "            running_loss += loss.item() * labels.numel()\n",
    "            running_n    += labels.numel()\n",
    "\n",
    "            if show_tqdm:\n",
    "                batch_iter.set_postfix(loss=f\"{loss.item():.4f}\")\n",
    "\n",
    "        train_loss = running_loss / max(running_n, 1)\n",
    "\n",
    "        # ---- Validation\n",
    "        val_metrics = evaluate_metrics(encoder, edge_index, val_loader, num_entities, typed, device, show_tqdm=show_tqdm)\n",
    "\n",
    "        history.append({\n",
    "            \"epoch\": epoch,\n",
    "            \"train_loss\": float(train_loss),\n",
    "            \"val_auc\": float(val_metrics[\"AUC\"]),\n",
    "            \"val_hits10\": float(val_metrics[\"Hits@10\"]),\n",
    "        })\n",
    "\n",
    "        # ---- Early stopping on Hits@10\n",
    "        if val_metrics[\"Hits@10\"] > best[\"Hits@10\"]:\n",
    "            best.update({\"epoch\": epoch, **val_metrics})\n",
    "            best_state = {k: v.detach().cpu() for k, v in encoder.state_dict().items()}\n",
    "            patience_ctr = 0\n",
    "            \n",
    "\n",
    "            # SAVE on improvement (with hparams)\n",
    "            if save_best_path and save_on_improve:\n",
    "                torch.save(\n",
    "                    {\n",
    "                        \"model_state_dict\": best_state,\n",
    "                        \"epoch\": epoch,\n",
    "                        \"best_metrics\": best,\n",
    "                        \"history\": history,\n",
    "                        \"hparams\": run_hparams,      # <<< save hparams\n",
    "                        \"timestamp\": datetime.now().isoformat(),\n",
    "                    },\n",
    "                    save_best_path,\n",
    "                )\n",
    "        else:\n",
    "            patience_ctr += 1\n",
    "            if patience_ctr >= patience:\n",
    "                if show_tqdm:\n",
    "                    tqdm.write(f\"Early stopping at epoch {epoch} (patience={patience}).\")\n",
    "                break\n",
    "\n",
    "    # ---- Restore best into encoder\n",
    "    end_time = datetime.now()\n",
    "    if best_state is not None:\n",
    "        encoder.load_state_dict(best_state)\n",
    "        if show_tqdm:\n",
    "            tqdm.write(f\"Restored best model from epoch {best['epoch']} | \"\n",
    "                       f\"AUC={best['AUC']:.4f} | Hits@10={best['Hits@10']:.4f}\")\n",
    "\n",
    "        # SAVE final best if user wanted single save at end\n",
    "        if save_best_path and not save_on_improve:\n",
    "            torch.save(\n",
    "                {\n",
    "                    \"model_state_dict\": best_state,\n",
    "                    \"epoch\": best[\"epoch\"],\n",
    "                    \"best_metrics\": best,\n",
    "                    \"history\": history,\n",
    "                    \"hparams\": run_hparams,      # <<< save hparams\n",
    "                    \"timestamp\": datetime.now().isoformat(),\n",
    "                },\n",
    "                save_best_path,\n",
    "            )\n",
    "            if show_tqdm:\n",
    "                tqdm.write(f\"Saved final best checkpoint to {save_best_path}\")\n",
    "\n",
    "    return {\n",
    "        \"best\": best,\n",
    "        \"history\": history,\n",
    "        \"epochs_trained\": history[-1][\"epoch\"] if history else 0,\n",
    "        \"start_time\": start_time,\n",
    "        \"end_time\": end_time,\n",
    "        \"checkpoint_path\": str(save_best_path) if save_best_path else None,\n",
    "        \"hparams\": run_hparams,                 # <<< return hparams\n",
    "    }"
   ]
  },
  {
   "cell_type": "code",
   "execution_count": 4,
   "id": "3cb936d2f7a8ba56",
   "metadata": {
    "ExecuteTime": {
     "end_time": "2025-10-13T20:33:51.502390Z",
     "start_time": "2025-10-13T19:04:18.874980Z"
    }
   },
   "outputs": [
    {
     "data": {
      "application/vnd.jupyter.widget-view+json": {
       "model_id": "27ee074aab3048329402083ff5402733",
       "version_major": 2,
       "version_minor": 0
      },
      "text/plain": [
       "Epochs:   0%|          | 0/100 [00:00<?, ?it/s]"
      ]
     },
     "metadata": {},
     "output_type": "display_data"
    },
    {
     "data": {
      "application/vnd.jupyter.widget-view+json": {
       "model_id": "402018cb3d354984a5edb7854d2dbb8a",
       "version_major": 2,
       "version_minor": 0
      },
      "text/plain": [
       "Train 1:   0%|          | 0/85 [00:00<?, ?it/s]"
      ]
     },
     "metadata": {},
     "output_type": "display_data"
    },
    {
     "data": {
      "application/vnd.jupyter.widget-view+json": {
       "model_id": "1009e7fa7c9c42afa971563fb30b350d",
       "version_major": 2,
       "version_minor": 0
      },
      "text/plain": [
       "Eval AUC:   0%|          | 0/3 [00:00<?, ?it/s]"
      ]
     },
     "metadata": {},
     "output_type": "display_data"
    },
    {
     "data": {
      "application/vnd.jupyter.widget-view+json": {
       "model_id": "759c56e76eae408eb5f7d9d4a849d9ae",
       "version_major": 2,
       "version_minor": 0
      },
      "text/plain": [
       "Eval Hits:   0%|          | 0/3 [00:00<?, ?it/s]"
      ]
     },
     "metadata": {},
     "output_type": "display_data"
    },
    {
     "data": {
      "application/vnd.jupyter.widget-view+json": {
       "model_id": "96d0e447f15f4696ac1a077ab192e894",
       "version_major": 2,
       "version_minor": 0
      },
      "text/plain": [
       "Train 2:   0%|          | 0/85 [00:00<?, ?it/s]"
      ]
     },
     "metadata": {},
     "output_type": "display_data"
    },
    {
     "data": {
      "application/vnd.jupyter.widget-view+json": {
       "model_id": "a0284b8618dd4e6bb374c210cd1fd5d9",
       "version_major": 2,
       "version_minor": 0
      },
      "text/plain": [
       "Eval AUC:   0%|          | 0/3 [00:00<?, ?it/s]"
      ]
     },
     "metadata": {},
     "output_type": "display_data"
    },
    {
     "data": {
      "application/vnd.jupyter.widget-view+json": {
       "model_id": "26bd06c68d7d4488a98e63bca5dd2f9e",
       "version_major": 2,
       "version_minor": 0
      },
      "text/plain": [
       "Eval Hits:   0%|          | 0/3 [00:00<?, ?it/s]"
      ]
     },
     "metadata": {},
     "output_type": "display_data"
    },
    {
     "data": {
      "application/vnd.jupyter.widget-view+json": {
       "model_id": "aee6df5327f24e6ca622ce72b79cd685",
       "version_major": 2,
       "version_minor": 0
      },
      "text/plain": [
       "Train 3:   0%|          | 0/85 [00:00<?, ?it/s]"
      ]
     },
     "metadata": {},
     "output_type": "display_data"
    },
    {
     "data": {
      "application/vnd.jupyter.widget-view+json": {
       "model_id": "10edb3ac94ab419fa7999340887cd3d2",
       "version_major": 2,
       "version_minor": 0
      },
      "text/plain": [
       "Eval AUC:   0%|          | 0/3 [00:00<?, ?it/s]"
      ]
     },
     "metadata": {},
     "output_type": "display_data"
    },
    {
     "data": {
      "application/vnd.jupyter.widget-view+json": {
       "model_id": "babe40418cee4349b53205261ef122b7",
       "version_major": 2,
       "version_minor": 0
      },
      "text/plain": [
       "Eval Hits:   0%|          | 0/3 [00:00<?, ?it/s]"
      ]
     },
     "metadata": {},
     "output_type": "display_data"
    },
    {
     "data": {
      "application/vnd.jupyter.widget-view+json": {
       "model_id": "2f50f75a424f44fab5c5309e99128e6d",
       "version_major": 2,
       "version_minor": 0
      },
      "text/plain": [
       "Train 4:   0%|          | 0/85 [00:00<?, ?it/s]"
      ]
     },
     "metadata": {},
     "output_type": "display_data"
    },
    {
     "data": {
      "application/vnd.jupyter.widget-view+json": {
       "model_id": "38b85d7e93934afda4d65d3eecb3351c",
       "version_major": 2,
       "version_minor": 0
      },
      "text/plain": [
       "Eval AUC:   0%|          | 0/3 [00:00<?, ?it/s]"
      ]
     },
     "metadata": {},
     "output_type": "display_data"
    },
    {
     "data": {
      "application/vnd.jupyter.widget-view+json": {
       "model_id": "5c95df953aca4059bf62d844771d9bba",
       "version_major": 2,
       "version_minor": 0
      },
      "text/plain": [
       "Eval Hits:   0%|          | 0/3 [00:00<?, ?it/s]"
      ]
     },
     "metadata": {},
     "output_type": "display_data"
    },
    {
     "data": {
      "application/vnd.jupyter.widget-view+json": {
       "model_id": "6656e0658cd3442f92bd4b87f7478bd7",
       "version_major": 2,
       "version_minor": 0
      },
      "text/plain": [
       "Train 5:   0%|          | 0/85 [00:00<?, ?it/s]"
      ]
     },
     "metadata": {},
     "output_type": "display_data"
    },
    {
     "data": {
      "application/vnd.jupyter.widget-view+json": {
       "model_id": "9b5528bdc23f472aa0c487ce308e8bfc",
       "version_major": 2,
       "version_minor": 0
      },
      "text/plain": [
       "Eval AUC:   0%|          | 0/3 [00:00<?, ?it/s]"
      ]
     },
     "metadata": {},
     "output_type": "display_data"
    },
    {
     "data": {
      "application/vnd.jupyter.widget-view+json": {
       "model_id": "a7792c3cfd9043459b8d142b4464e54f",
       "version_major": 2,
       "version_minor": 0
      },
      "text/plain": [
       "Eval Hits:   0%|          | 0/3 [00:00<?, ?it/s]"
      ]
     },
     "metadata": {},
     "output_type": "display_data"
    },
    {
     "data": {
      "application/vnd.jupyter.widget-view+json": {
       "model_id": "98099d03bfc34a8a9c560af49e1f3ed3",
       "version_major": 2,
       "version_minor": 0
      },
      "text/plain": [
       "Train 6:   0%|          | 0/85 [00:00<?, ?it/s]"
      ]
     },
     "metadata": {},
     "output_type": "display_data"
    },
    {
     "data": {
      "application/vnd.jupyter.widget-view+json": {
       "model_id": "d09d957468904334a3002536993f9a1e",
       "version_major": 2,
       "version_minor": 0
      },
      "text/plain": [
       "Eval AUC:   0%|          | 0/3 [00:00<?, ?it/s]"
      ]
     },
     "metadata": {},
     "output_type": "display_data"
    },
    {
     "data": {
      "application/vnd.jupyter.widget-view+json": {
       "model_id": "7b66a1fdb00b4eebb44a036f254bc891",
       "version_major": 2,
       "version_minor": 0
      },
      "text/plain": [
       "Eval Hits:   0%|          | 0/3 [00:00<?, ?it/s]"
      ]
     },
     "metadata": {},
     "output_type": "display_data"
    },
    {
     "data": {
      "application/vnd.jupyter.widget-view+json": {
       "model_id": "f37a8a48c7f14b91a11aa277bab762d6",
       "version_major": 2,
       "version_minor": 0
      },
      "text/plain": [
       "Train 7:   0%|          | 0/85 [00:00<?, ?it/s]"
      ]
     },
     "metadata": {},
     "output_type": "display_data"
    },
    {
     "data": {
      "application/vnd.jupyter.widget-view+json": {
       "model_id": "dd23c192b5fe4b4e84cf328a41c6f3fc",
       "version_major": 2,
       "version_minor": 0
      },
      "text/plain": [
       "Eval AUC:   0%|          | 0/3 [00:00<?, ?it/s]"
      ]
     },
     "metadata": {},
     "output_type": "display_data"
    },
    {
     "data": {
      "application/vnd.jupyter.widget-view+json": {
       "model_id": "68d2c012fa1f4b2cb3ad49bb2f34324d",
       "version_major": 2,
       "version_minor": 0
      },
      "text/plain": [
       "Eval Hits:   0%|          | 0/3 [00:00<?, ?it/s]"
      ]
     },
     "metadata": {},
     "output_type": "display_data"
    },
    {
     "data": {
      "application/vnd.jupyter.widget-view+json": {
       "model_id": "a38daa4ab88247d9a55d1ba54c58c27e",
       "version_major": 2,
       "version_minor": 0
      },
      "text/plain": [
       "Train 8:   0%|          | 0/85 [00:00<?, ?it/s]"
      ]
     },
     "metadata": {},
     "output_type": "display_data"
    },
    {
     "data": {
      "application/vnd.jupyter.widget-view+json": {
       "model_id": "d49a065ccef84914964dafc234af053b",
       "version_major": 2,
       "version_minor": 0
      },
      "text/plain": [
       "Eval AUC:   0%|          | 0/3 [00:00<?, ?it/s]"
      ]
     },
     "metadata": {},
     "output_type": "display_data"
    },
    {
     "data": {
      "application/vnd.jupyter.widget-view+json": {
       "model_id": "16204110764048f59fc278dc350d4c92",
       "version_major": 2,
       "version_minor": 0
      },
      "text/plain": [
       "Eval Hits:   0%|          | 0/3 [00:00<?, ?it/s]"
      ]
     },
     "metadata": {},
     "output_type": "display_data"
    },
    {
     "data": {
      "application/vnd.jupyter.widget-view+json": {
       "model_id": "9a0a2c71f14f47b097424724602e7a36",
       "version_major": 2,
       "version_minor": 0
      },
      "text/plain": [
       "Train 9:   0%|          | 0/85 [00:00<?, ?it/s]"
      ]
     },
     "metadata": {},
     "output_type": "display_data"
    },
    {
     "data": {
      "application/vnd.jupyter.widget-view+json": {
       "model_id": "428a4106644f40a19411110c40814987",
       "version_major": 2,
       "version_minor": 0
      },
      "text/plain": [
       "Eval AUC:   0%|          | 0/3 [00:00<?, ?it/s]"
      ]
     },
     "metadata": {},
     "output_type": "display_data"
    },
    {
     "data": {
      "application/vnd.jupyter.widget-view+json": {
       "model_id": "21fb4437760b42278cb9733417fbf592",
       "version_major": 2,
       "version_minor": 0
      },
      "text/plain": [
       "Eval Hits:   0%|          | 0/3 [00:00<?, ?it/s]"
      ]
     },
     "metadata": {},
     "output_type": "display_data"
    },
    {
     "data": {
      "application/vnd.jupyter.widget-view+json": {
       "model_id": "4c4fba17224c403382b46d491d39d047",
       "version_major": 2,
       "version_minor": 0
      },
      "text/plain": [
       "Train 10:   0%|          | 0/85 [00:00<?, ?it/s]"
      ]
     },
     "metadata": {},
     "output_type": "display_data"
    },
    {
     "data": {
      "application/vnd.jupyter.widget-view+json": {
       "model_id": "607168b7742a4aa485914bca5d84733b",
       "version_major": 2,
       "version_minor": 0
      },
      "text/plain": [
       "Eval AUC:   0%|          | 0/3 [00:00<?, ?it/s]"
      ]
     },
     "metadata": {},
     "output_type": "display_data"
    },
    {
     "data": {
      "application/vnd.jupyter.widget-view+json": {
       "model_id": "e8adaff8d8644fc2bb46409bd056d5f4",
       "version_major": 2,
       "version_minor": 0
      },
      "text/plain": [
       "Eval Hits:   0%|          | 0/3 [00:00<?, ?it/s]"
      ]
     },
     "metadata": {},
     "output_type": "display_data"
    },
    {
     "data": {
      "application/vnd.jupyter.widget-view+json": {
       "model_id": "679e29a0105349ff8bc095776a693639",
       "version_major": 2,
       "version_minor": 0
      },
      "text/plain": [
       "Train 11:   0%|          | 0/85 [00:00<?, ?it/s]"
      ]
     },
     "metadata": {},
     "output_type": "display_data"
    },
    {
     "data": {
      "application/vnd.jupyter.widget-view+json": {
       "model_id": "7fa85091e6a14fd7b6d6033205514aa6",
       "version_major": 2,
       "version_minor": 0
      },
      "text/plain": [
       "Eval AUC:   0%|          | 0/3 [00:00<?, ?it/s]"
      ]
     },
     "metadata": {},
     "output_type": "display_data"
    },
    {
     "data": {
      "application/vnd.jupyter.widget-view+json": {
       "model_id": "af2af60aba404df2a95c3a86e8ee8fed",
       "version_major": 2,
       "version_minor": 0
      },
      "text/plain": [
       "Eval Hits:   0%|          | 0/3 [00:00<?, ?it/s]"
      ]
     },
     "metadata": {},
     "output_type": "display_data"
    },
    {
     "data": {
      "application/vnd.jupyter.widget-view+json": {
       "model_id": "76b7a1e6437f42a692f041e6ea194781",
       "version_major": 2,
       "version_minor": 0
      },
      "text/plain": [
       "Train 12:   0%|          | 0/85 [00:00<?, ?it/s]"
      ]
     },
     "metadata": {},
     "output_type": "display_data"
    },
    {
     "data": {
      "application/vnd.jupyter.widget-view+json": {
       "model_id": "4e46f297ded641aaad9334ffa9412eac",
       "version_major": 2,
       "version_minor": 0
      },
      "text/plain": [
       "Eval AUC:   0%|          | 0/3 [00:00<?, ?it/s]"
      ]
     },
     "metadata": {},
     "output_type": "display_data"
    },
    {
     "data": {
      "application/vnd.jupyter.widget-view+json": {
       "model_id": "5073095eb68643168403eaf0aa60ea68",
       "version_major": 2,
       "version_minor": 0
      },
      "text/plain": [
       "Eval Hits:   0%|          | 0/3 [00:00<?, ?it/s]"
      ]
     },
     "metadata": {},
     "output_type": "display_data"
    },
    {
     "data": {
      "application/vnd.jupyter.widget-view+json": {
       "model_id": "31472ab991d04fbf93acb34bce1b254c",
       "version_major": 2,
       "version_minor": 0
      },
      "text/plain": [
       "Train 13:   0%|          | 0/85 [00:00<?, ?it/s]"
      ]
     },
     "metadata": {},
     "output_type": "display_data"
    },
    {
     "data": {
      "application/vnd.jupyter.widget-view+json": {
       "model_id": "761068c0b9f041ecb51dadbfb8f41a9e",
       "version_major": 2,
       "version_minor": 0
      },
      "text/plain": [
       "Eval AUC:   0%|          | 0/3 [00:00<?, ?it/s]"
      ]
     },
     "metadata": {},
     "output_type": "display_data"
    },
    {
     "data": {
      "application/vnd.jupyter.widget-view+json": {
       "model_id": "c61e52c3b5ec4a2b94707620d3ae83dd",
       "version_major": 2,
       "version_minor": 0
      },
      "text/plain": [
       "Eval Hits:   0%|          | 0/3 [00:00<?, ?it/s]"
      ]
     },
     "metadata": {},
     "output_type": "display_data"
    },
    {
     "data": {
      "application/vnd.jupyter.widget-view+json": {
       "model_id": "146497eb2e93466289d24ced4d35a218",
       "version_major": 2,
       "version_minor": 0
      },
      "text/plain": [
       "Train 14:   0%|          | 0/85 [00:00<?, ?it/s]"
      ]
     },
     "metadata": {},
     "output_type": "display_data"
    },
    {
     "data": {
      "application/vnd.jupyter.widget-view+json": {
       "model_id": "36da81b85e854a9e9624a47095ec42eb",
       "version_major": 2,
       "version_minor": 0
      },
      "text/plain": [
       "Eval AUC:   0%|          | 0/3 [00:00<?, ?it/s]"
      ]
     },
     "metadata": {},
     "output_type": "display_data"
    },
    {
     "data": {
      "application/vnd.jupyter.widget-view+json": {
       "model_id": "0c588d37b81945f79b681a460c79ef89",
       "version_major": 2,
       "version_minor": 0
      },
      "text/plain": [
       "Eval Hits:   0%|          | 0/3 [00:00<?, ?it/s]"
      ]
     },
     "metadata": {},
     "output_type": "display_data"
    },
    {
     "data": {
      "application/vnd.jupyter.widget-view+json": {
       "model_id": "5c2d9e51fcf946888eea8cc31a468f6c",
       "version_major": 2,
       "version_minor": 0
      },
      "text/plain": [
       "Train 15:   0%|          | 0/85 [00:00<?, ?it/s]"
      ]
     },
     "metadata": {},
     "output_type": "display_data"
    },
    {
     "data": {
      "application/vnd.jupyter.widget-view+json": {
       "model_id": "985e47a894914b0f99a2c5666836f76d",
       "version_major": 2,
       "version_minor": 0
      },
      "text/plain": [
       "Eval AUC:   0%|          | 0/3 [00:00<?, ?it/s]"
      ]
     },
     "metadata": {},
     "output_type": "display_data"
    },
    {
     "data": {
      "application/vnd.jupyter.widget-view+json": {
       "model_id": "bd32847381a24432a0bf1c03251dcd73",
       "version_major": 2,
       "version_minor": 0
      },
      "text/plain": [
       "Eval Hits:   0%|          | 0/3 [00:00<?, ?it/s]"
      ]
     },
     "metadata": {},
     "output_type": "display_data"
    },
    {
     "data": {
      "application/vnd.jupyter.widget-view+json": {
       "model_id": "8c522bf7d8764c44bb050f87b58f2400",
       "version_major": 2,
       "version_minor": 0
      },
      "text/plain": [
       "Train 16:   0%|          | 0/85 [00:00<?, ?it/s]"
      ]
     },
     "metadata": {},
     "output_type": "display_data"
    },
    {
     "data": {
      "application/vnd.jupyter.widget-view+json": {
       "model_id": "7040d8725915444f9d6666d48fb1564b",
       "version_major": 2,
       "version_minor": 0
      },
      "text/plain": [
       "Eval AUC:   0%|          | 0/3 [00:00<?, ?it/s]"
      ]
     },
     "metadata": {},
     "output_type": "display_data"
    },
    {
     "data": {
      "application/vnd.jupyter.widget-view+json": {
       "model_id": "5f4f57c10540484e90d5ef1f899f74e9",
       "version_major": 2,
       "version_minor": 0
      },
      "text/plain": [
       "Eval Hits:   0%|          | 0/3 [00:00<?, ?it/s]"
      ]
     },
     "metadata": {},
     "output_type": "display_data"
    },
    {
     "data": {
      "application/vnd.jupyter.widget-view+json": {
       "model_id": "f1ee1055fd38471da59043908238345f",
       "version_major": 2,
       "version_minor": 0
      },
      "text/plain": [
       "Train 17:   0%|          | 0/85 [00:00<?, ?it/s]"
      ]
     },
     "metadata": {},
     "output_type": "display_data"
    },
    {
     "data": {
      "application/vnd.jupyter.widget-view+json": {
       "model_id": "533901544cad412ab675f69e76486ef5",
       "version_major": 2,
       "version_minor": 0
      },
      "text/plain": [
       "Eval AUC:   0%|          | 0/3 [00:00<?, ?it/s]"
      ]
     },
     "metadata": {},
     "output_type": "display_data"
    },
    {
     "data": {
      "application/vnd.jupyter.widget-view+json": {
       "model_id": "f4a14609b62f4d338ec7e01c1d70a919",
       "version_major": 2,
       "version_minor": 0
      },
      "text/plain": [
       "Eval Hits:   0%|          | 0/3 [00:00<?, ?it/s]"
      ]
     },
     "metadata": {},
     "output_type": "display_data"
    },
    {
     "data": {
      "application/vnd.jupyter.widget-view+json": {
       "model_id": "d2b9962ec336474d8cbc065424521199",
       "version_major": 2,
       "version_minor": 0
      },
      "text/plain": [
       "Train 18:   0%|          | 0/85 [00:00<?, ?it/s]"
      ]
     },
     "metadata": {},
     "output_type": "display_data"
    },
    {
     "data": {
      "application/vnd.jupyter.widget-view+json": {
       "model_id": "7ad854d7d5d249489535b53a148fbe2b",
       "version_major": 2,
       "version_minor": 0
      },
      "text/plain": [
       "Eval AUC:   0%|          | 0/3 [00:00<?, ?it/s]"
      ]
     },
     "metadata": {},
     "output_type": "display_data"
    },
    {
     "data": {
      "application/vnd.jupyter.widget-view+json": {
       "model_id": "3ac06755bdb8426d9503a6e106da11e9",
       "version_major": 2,
       "version_minor": 0
      },
      "text/plain": [
       "Eval Hits:   0%|          | 0/3 [00:00<?, ?it/s]"
      ]
     },
     "metadata": {},
     "output_type": "display_data"
    },
    {
     "data": {
      "application/vnd.jupyter.widget-view+json": {
       "model_id": "37e1eb5921e345a5b453892eeb5a1f6b",
       "version_major": 2,
       "version_minor": 0
      },
      "text/plain": [
       "Train 19:   0%|          | 0/85 [00:00<?, ?it/s]"
      ]
     },
     "metadata": {},
     "output_type": "display_data"
    },
    {
     "data": {
      "application/vnd.jupyter.widget-view+json": {
       "model_id": "761ebf353dee4af3b7fb68366116e7b7",
       "version_major": 2,
       "version_minor": 0
      },
      "text/plain": [
       "Eval AUC:   0%|          | 0/3 [00:00<?, ?it/s]"
      ]
     },
     "metadata": {},
     "output_type": "display_data"
    },
    {
     "data": {
      "application/vnd.jupyter.widget-view+json": {
       "model_id": "6b68c2c5b1c249a3a59a4ed1fb7ea40d",
       "version_major": 2,
       "version_minor": 0
      },
      "text/plain": [
       "Eval Hits:   0%|          | 0/3 [00:00<?, ?it/s]"
      ]
     },
     "metadata": {},
     "output_type": "display_data"
    },
    {
     "data": {
      "application/vnd.jupyter.widget-view+json": {
       "model_id": "bd7aeaf04fab40a281e58c890a186b23",
       "version_major": 2,
       "version_minor": 0
      },
      "text/plain": [
       "Train 20:   0%|          | 0/85 [00:00<?, ?it/s]"
      ]
     },
     "metadata": {},
     "output_type": "display_data"
    },
    {
     "data": {
      "application/vnd.jupyter.widget-view+json": {
       "model_id": "1cfe425a52f54d8d8172963fecdfc819",
       "version_major": 2,
       "version_minor": 0
      },
      "text/plain": [
       "Eval AUC:   0%|          | 0/3 [00:00<?, ?it/s]"
      ]
     },
     "metadata": {},
     "output_type": "display_data"
    },
    {
     "data": {
      "application/vnd.jupyter.widget-view+json": {
       "model_id": "e463a6a9ac0f422f806fea561f1fc26a",
       "version_major": 2,
       "version_minor": 0
      },
      "text/plain": [
       "Eval Hits:   0%|          | 0/3 [00:00<?, ?it/s]"
      ]
     },
     "metadata": {},
     "output_type": "display_data"
    },
    {
     "data": {
      "application/vnd.jupyter.widget-view+json": {
       "model_id": "1dd84e9cfdca463395cb97c9832936c4",
       "version_major": 2,
       "version_minor": 0
      },
      "text/plain": [
       "Train 21:   0%|          | 0/85 [00:00<?, ?it/s]"
      ]
     },
     "metadata": {},
     "output_type": "display_data"
    },
    {
     "data": {
      "application/vnd.jupyter.widget-view+json": {
       "model_id": "ee12f73cf3014e04a401f6bdd5517c19",
       "version_major": 2,
       "version_minor": 0
      },
      "text/plain": [
       "Eval AUC:   0%|          | 0/3 [00:00<?, ?it/s]"
      ]
     },
     "metadata": {},
     "output_type": "display_data"
    },
    {
     "data": {
      "application/vnd.jupyter.widget-view+json": {
       "model_id": "9b8fa22baeac43aab355b94143ca5218",
       "version_major": 2,
       "version_minor": 0
      },
      "text/plain": [
       "Eval Hits:   0%|          | 0/3 [00:00<?, ?it/s]"
      ]
     },
     "metadata": {},
     "output_type": "display_data"
    },
    {
     "data": {
      "application/vnd.jupyter.widget-view+json": {
       "model_id": "679e7119290f40e4bc159657fdf8ba86",
       "version_major": 2,
       "version_minor": 0
      },
      "text/plain": [
       "Train 22:   0%|          | 0/85 [00:00<?, ?it/s]"
      ]
     },
     "metadata": {},
     "output_type": "display_data"
    },
    {
     "data": {
      "application/vnd.jupyter.widget-view+json": {
       "model_id": "bfaa770754dd4ce2a3a7c30f57e0fe72",
       "version_major": 2,
       "version_minor": 0
      },
      "text/plain": [
       "Eval AUC:   0%|          | 0/3 [00:00<?, ?it/s]"
      ]
     },
     "metadata": {},
     "output_type": "display_data"
    },
    {
     "data": {
      "application/vnd.jupyter.widget-view+json": {
       "model_id": "20d47f308a1f4cd4940483953305a037",
       "version_major": 2,
       "version_minor": 0
      },
      "text/plain": [
       "Eval Hits:   0%|          | 0/3 [00:00<?, ?it/s]"
      ]
     },
     "metadata": {},
     "output_type": "display_data"
    },
    {
     "data": {
      "application/vnd.jupyter.widget-view+json": {
       "model_id": "e94c58b8c6b940a79636a5bcc752c8ca",
       "version_major": 2,
       "version_minor": 0
      },
      "text/plain": [
       "Train 23:   0%|          | 0/85 [00:00<?, ?it/s]"
      ]
     },
     "metadata": {},
     "output_type": "display_data"
    },
    {
     "data": {
      "application/vnd.jupyter.widget-view+json": {
       "model_id": "dd224450de954e759733e3052213f372",
       "version_major": 2,
       "version_minor": 0
      },
      "text/plain": [
       "Eval AUC:   0%|          | 0/3 [00:00<?, ?it/s]"
      ]
     },
     "metadata": {},
     "output_type": "display_data"
    },
    {
     "data": {
      "application/vnd.jupyter.widget-view+json": {
       "model_id": "41deb01ba280441f902218a488496c4f",
       "version_major": 2,
       "version_minor": 0
      },
      "text/plain": [
       "Eval Hits:   0%|          | 0/3 [00:00<?, ?it/s]"
      ]
     },
     "metadata": {},
     "output_type": "display_data"
    },
    {
     "data": {
      "application/vnd.jupyter.widget-view+json": {
       "model_id": "a4fc19fdc632405f9532b208313833ed",
       "version_major": 2,
       "version_minor": 0
      },
      "text/plain": [
       "Train 24:   0%|          | 0/85 [00:00<?, ?it/s]"
      ]
     },
     "metadata": {},
     "output_type": "display_data"
    },
    {
     "data": {
      "application/vnd.jupyter.widget-view+json": {
       "model_id": "75b7b4904d144780bbe71c3594d02c46",
       "version_major": 2,
       "version_minor": 0
      },
      "text/plain": [
       "Eval AUC:   0%|          | 0/3 [00:00<?, ?it/s]"
      ]
     },
     "metadata": {},
     "output_type": "display_data"
    },
    {
     "data": {
      "application/vnd.jupyter.widget-view+json": {
       "model_id": "e173010c824341dbacd991bc9da3bb71",
       "version_major": 2,
       "version_minor": 0
      },
      "text/plain": [
       "Eval Hits:   0%|          | 0/3 [00:00<?, ?it/s]"
      ]
     },
     "metadata": {},
     "output_type": "display_data"
    },
    {
     "data": {
      "application/vnd.jupyter.widget-view+json": {
       "model_id": "075322cf7bf8420584974095a61b854b",
       "version_major": 2,
       "version_minor": 0
      },
      "text/plain": [
       "Train 25:   0%|          | 0/85 [00:00<?, ?it/s]"
      ]
     },
     "metadata": {},
     "output_type": "display_data"
    },
    {
     "data": {
      "application/vnd.jupyter.widget-view+json": {
       "model_id": "7fca985d091a4430a37c5470921bb4fa",
       "version_major": 2,
       "version_minor": 0
      },
      "text/plain": [
       "Eval AUC:   0%|          | 0/3 [00:00<?, ?it/s]"
      ]
     },
     "metadata": {},
     "output_type": "display_data"
    },
    {
     "data": {
      "application/vnd.jupyter.widget-view+json": {
       "model_id": "558067c07f9c4d38962edccc3b7adf16",
       "version_major": 2,
       "version_minor": 0
      },
      "text/plain": [
       "Eval Hits:   0%|          | 0/3 [00:00<?, ?it/s]"
      ]
     },
     "metadata": {},
     "output_type": "display_data"
    },
    {
     "data": {
      "application/vnd.jupyter.widget-view+json": {
       "model_id": "74c47c708abd44d5b4a55c4f1d91d4a3",
       "version_major": 2,
       "version_minor": 0
      },
      "text/plain": [
       "Train 26:   0%|          | 0/85 [00:00<?, ?it/s]"
      ]
     },
     "metadata": {},
     "output_type": "display_data"
    },
    {
     "data": {
      "application/vnd.jupyter.widget-view+json": {
       "model_id": "32bfe0379e214d2183fd1a7b80982ad1",
       "version_major": 2,
       "version_minor": 0
      },
      "text/plain": [
       "Eval AUC:   0%|          | 0/3 [00:00<?, ?it/s]"
      ]
     },
     "metadata": {},
     "output_type": "display_data"
    },
    {
     "data": {
      "application/vnd.jupyter.widget-view+json": {
       "model_id": "ee9625f3a77c4ad6abe66b6e13f46f0e",
       "version_major": 2,
       "version_minor": 0
      },
      "text/plain": [
       "Eval Hits:   0%|          | 0/3 [00:00<?, ?it/s]"
      ]
     },
     "metadata": {},
     "output_type": "display_data"
    },
    {
     "data": {
      "application/vnd.jupyter.widget-view+json": {
       "model_id": "f56621904d894faba3b727f95304be16",
       "version_major": 2,
       "version_minor": 0
      },
      "text/plain": [
       "Train 27:   0%|          | 0/85 [00:00<?, ?it/s]"
      ]
     },
     "metadata": {},
     "output_type": "display_data"
    },
    {
     "data": {
      "application/vnd.jupyter.widget-view+json": {
       "model_id": "9c31f40b7ceb4c8caf8aa4c764c9bfac",
       "version_major": 2,
       "version_minor": 0
      },
      "text/plain": [
       "Eval AUC:   0%|          | 0/3 [00:00<?, ?it/s]"
      ]
     },
     "metadata": {},
     "output_type": "display_data"
    },
    {
     "data": {
      "application/vnd.jupyter.widget-view+json": {
       "model_id": "c93c28d9bd73413a9cf11a147e73f61a",
       "version_major": 2,
       "version_minor": 0
      },
      "text/plain": [
       "Eval Hits:   0%|          | 0/3 [00:00<?, ?it/s]"
      ]
     },
     "metadata": {},
     "output_type": "display_data"
    },
    {
     "data": {
      "application/vnd.jupyter.widget-view+json": {
       "model_id": "039ca6f5c0914599814c8f89fe9c7ba1",
       "version_major": 2,
       "version_minor": 0
      },
      "text/plain": [
       "Train 28:   0%|          | 0/85 [00:00<?, ?it/s]"
      ]
     },
     "metadata": {},
     "output_type": "display_data"
    },
    {
     "data": {
      "application/vnd.jupyter.widget-view+json": {
       "model_id": "bbf93c5cc46c4af8a9e7f1257351e0ce",
       "version_major": 2,
       "version_minor": 0
      },
      "text/plain": [
       "Eval AUC:   0%|          | 0/3 [00:00<?, ?it/s]"
      ]
     },
     "metadata": {},
     "output_type": "display_data"
    },
    {
     "data": {
      "application/vnd.jupyter.widget-view+json": {
       "model_id": "ebe606d752b2422eb17c5b57a50393b1",
       "version_major": 2,
       "version_minor": 0
      },
      "text/plain": [
       "Eval Hits:   0%|          | 0/3 [00:00<?, ?it/s]"
      ]
     },
     "metadata": {},
     "output_type": "display_data"
    },
    {
     "data": {
      "application/vnd.jupyter.widget-view+json": {
       "model_id": "58d13dce44774d31aca277fb055037b3",
       "version_major": 2,
       "version_minor": 0
      },
      "text/plain": [
       "Train 29:   0%|          | 0/85 [00:00<?, ?it/s]"
      ]
     },
     "metadata": {},
     "output_type": "display_data"
    },
    {
     "data": {
      "application/vnd.jupyter.widget-view+json": {
       "model_id": "25bf3e30e9724055a3b638c7b59f84c9",
       "version_major": 2,
       "version_minor": 0
      },
      "text/plain": [
       "Eval AUC:   0%|          | 0/3 [00:00<?, ?it/s]"
      ]
     },
     "metadata": {},
     "output_type": "display_data"
    },
    {
     "data": {
      "application/vnd.jupyter.widget-view+json": {
       "model_id": "93bfb7d8ebd148cabc7d2e1ecda0f3af",
       "version_major": 2,
       "version_minor": 0
      },
      "text/plain": [
       "Eval Hits:   0%|          | 0/3 [00:00<?, ?it/s]"
      ]
     },
     "metadata": {},
     "output_type": "display_data"
    },
    {
     "data": {
      "application/vnd.jupyter.widget-view+json": {
       "model_id": "f58b9cc45cc34a47b51a55314d81cccf",
       "version_major": 2,
       "version_minor": 0
      },
      "text/plain": [
       "Train 30:   0%|          | 0/85 [00:00<?, ?it/s]"
      ]
     },
     "metadata": {},
     "output_type": "display_data"
    },
    {
     "data": {
      "application/vnd.jupyter.widget-view+json": {
       "model_id": "882db98696994a94850de1b658b24d2d",
       "version_major": 2,
       "version_minor": 0
      },
      "text/plain": [
       "Eval AUC:   0%|          | 0/3 [00:00<?, ?it/s]"
      ]
     },
     "metadata": {},
     "output_type": "display_data"
    },
    {
     "data": {
      "application/vnd.jupyter.widget-view+json": {
       "model_id": "a125c2d920264cf588164e2d3be92f65",
       "version_major": 2,
       "version_minor": 0
      },
      "text/plain": [
       "Eval Hits:   0%|          | 0/3 [00:00<?, ?it/s]"
      ]
     },
     "metadata": {},
     "output_type": "display_data"
    },
    {
     "data": {
      "application/vnd.jupyter.widget-view+json": {
       "model_id": "aee670a9a3454a799f1accf806e7f785",
       "version_major": 2,
       "version_minor": 0
      },
      "text/plain": [
       "Train 31:   0%|          | 0/85 [00:00<?, ?it/s]"
      ]
     },
     "metadata": {},
     "output_type": "display_data"
    },
    {
     "data": {
      "application/vnd.jupyter.widget-view+json": {
       "model_id": "aa4aeabd5bb24676967347446bb1cbab",
       "version_major": 2,
       "version_minor": 0
      },
      "text/plain": [
       "Eval AUC:   0%|          | 0/3 [00:00<?, ?it/s]"
      ]
     },
     "metadata": {},
     "output_type": "display_data"
    },
    {
     "data": {
      "application/vnd.jupyter.widget-view+json": {
       "model_id": "d551af990fb540599727576ac74eaa67",
       "version_major": 2,
       "version_minor": 0
      },
      "text/plain": [
       "Eval Hits:   0%|          | 0/3 [00:00<?, ?it/s]"
      ]
     },
     "metadata": {},
     "output_type": "display_data"
    },
    {
     "data": {
      "application/vnd.jupyter.widget-view+json": {
       "model_id": "dea4f1535a8d403b94466df6e86846bd",
       "version_major": 2,
       "version_minor": 0
      },
      "text/plain": [
       "Train 32:   0%|          | 0/85 [00:00<?, ?it/s]"
      ]
     },
     "metadata": {},
     "output_type": "display_data"
    },
    {
     "data": {
      "application/vnd.jupyter.widget-view+json": {
       "model_id": "30f07b5eb7374f18a53baee36dbaf7ad",
       "version_major": 2,
       "version_minor": 0
      },
      "text/plain": [
       "Eval AUC:   0%|          | 0/3 [00:00<?, ?it/s]"
      ]
     },
     "metadata": {},
     "output_type": "display_data"
    },
    {
     "data": {
      "application/vnd.jupyter.widget-view+json": {
       "model_id": "221a3dff68504d698bcb6caf990b7789",
       "version_major": 2,
       "version_minor": 0
      },
      "text/plain": [
       "Eval Hits:   0%|          | 0/3 [00:00<?, ?it/s]"
      ]
     },
     "metadata": {},
     "output_type": "display_data"
    },
    {
     "data": {
      "application/vnd.jupyter.widget-view+json": {
       "model_id": "89374a57a582453dbf231da04a4356b4",
       "version_major": 2,
       "version_minor": 0
      },
      "text/plain": [
       "Train 33:   0%|          | 0/85 [00:00<?, ?it/s]"
      ]
     },
     "metadata": {},
     "output_type": "display_data"
    },
    {
     "data": {
      "application/vnd.jupyter.widget-view+json": {
       "model_id": "651cf57fcb074778812df047204d7b62",
       "version_major": 2,
       "version_minor": 0
      },
      "text/plain": [
       "Eval AUC:   0%|          | 0/3 [00:00<?, ?it/s]"
      ]
     },
     "metadata": {},
     "output_type": "display_data"
    },
    {
     "data": {
      "application/vnd.jupyter.widget-view+json": {
       "model_id": "6c05c5b5d98d40d896a5c92dab07e6c0",
       "version_major": 2,
       "version_minor": 0
      },
      "text/plain": [
       "Eval Hits:   0%|          | 0/3 [00:00<?, ?it/s]"
      ]
     },
     "metadata": {},
     "output_type": "display_data"
    },
    {
     "data": {
      "application/vnd.jupyter.widget-view+json": {
       "model_id": "199fb24f1bff4e0c98391a2736ade42d",
       "version_major": 2,
       "version_minor": 0
      },
      "text/plain": [
       "Train 34:   0%|          | 0/85 [00:00<?, ?it/s]"
      ]
     },
     "metadata": {},
     "output_type": "display_data"
    },
    {
     "data": {
      "application/vnd.jupyter.widget-view+json": {
       "model_id": "58edbff7bed7495f899f1baa7b719604",
       "version_major": 2,
       "version_minor": 0
      },
      "text/plain": [
       "Eval AUC:   0%|          | 0/3 [00:00<?, ?it/s]"
      ]
     },
     "metadata": {},
     "output_type": "display_data"
    },
    {
     "data": {
      "application/vnd.jupyter.widget-view+json": {
       "model_id": "d2c10f0bc09e48f1abf53f1ac6658684",
       "version_major": 2,
       "version_minor": 0
      },
      "text/plain": [
       "Eval Hits:   0%|          | 0/3 [00:00<?, ?it/s]"
      ]
     },
     "metadata": {},
     "output_type": "display_data"
    },
    {
     "data": {
      "application/vnd.jupyter.widget-view+json": {
       "model_id": "eb6227c956fc4e1c823eb70ec2132a6a",
       "version_major": 2,
       "version_minor": 0
      },
      "text/plain": [
       "Train 35:   0%|          | 0/85 [00:00<?, ?it/s]"
      ]
     },
     "metadata": {},
     "output_type": "display_data"
    },
    {
     "data": {
      "application/vnd.jupyter.widget-view+json": {
       "model_id": "bcdbcd10338640c883e5313a835ea803",
       "version_major": 2,
       "version_minor": 0
      },
      "text/plain": [
       "Eval AUC:   0%|          | 0/3 [00:00<?, ?it/s]"
      ]
     },
     "metadata": {},
     "output_type": "display_data"
    },
    {
     "data": {
      "application/vnd.jupyter.widget-view+json": {
       "model_id": "1d12045efd154a13b8c03a8bf8d11ea9",
       "version_major": 2,
       "version_minor": 0
      },
      "text/plain": [
       "Eval Hits:   0%|          | 0/3 [00:00<?, ?it/s]"
      ]
     },
     "metadata": {},
     "output_type": "display_data"
    },
    {
     "data": {
      "application/vnd.jupyter.widget-view+json": {
       "model_id": "a13f58f0b5b64b748a10e472c7085227",
       "version_major": 2,
       "version_minor": 0
      },
      "text/plain": [
       "Train 36:   0%|          | 0/85 [00:00<?, ?it/s]"
      ]
     },
     "metadata": {},
     "output_type": "display_data"
    },
    {
     "data": {
      "application/vnd.jupyter.widget-view+json": {
       "model_id": "05801210f53841b59fa525b730d23093",
       "version_major": 2,
       "version_minor": 0
      },
      "text/plain": [
       "Eval AUC:   0%|          | 0/3 [00:00<?, ?it/s]"
      ]
     },
     "metadata": {},
     "output_type": "display_data"
    },
    {
     "data": {
      "application/vnd.jupyter.widget-view+json": {
       "model_id": "d3784db93e174f5cba49f981773e7821",
       "version_major": 2,
       "version_minor": 0
      },
      "text/plain": [
       "Eval Hits:   0%|          | 0/3 [00:00<?, ?it/s]"
      ]
     },
     "metadata": {},
     "output_type": "display_data"
    },
    {
     "data": {
      "application/vnd.jupyter.widget-view+json": {
       "model_id": "a60bdc2e38714b96a3430c452bf14178",
       "version_major": 2,
       "version_minor": 0
      },
      "text/plain": [
       "Train 37:   0%|          | 0/85 [00:00<?, ?it/s]"
      ]
     },
     "metadata": {},
     "output_type": "display_data"
    },
    {
     "data": {
      "application/vnd.jupyter.widget-view+json": {
       "model_id": "55906eb8006946b0929ecf1a6d7dbe92",
       "version_major": 2,
       "version_minor": 0
      },
      "text/plain": [
       "Eval AUC:   0%|          | 0/3 [00:00<?, ?it/s]"
      ]
     },
     "metadata": {},
     "output_type": "display_data"
    },
    {
     "data": {
      "application/vnd.jupyter.widget-view+json": {
       "model_id": "4e993310ec5c46e995b61f49d0951490",
       "version_major": 2,
       "version_minor": 0
      },
      "text/plain": [
       "Eval Hits:   0%|          | 0/3 [00:00<?, ?it/s]"
      ]
     },
     "metadata": {},
     "output_type": "display_data"
    },
    {
     "data": {
      "application/vnd.jupyter.widget-view+json": {
       "model_id": "ff20a8a172a94e9d988277302e4ba26a",
       "version_major": 2,
       "version_minor": 0
      },
      "text/plain": [
       "Train 38:   0%|          | 0/85 [00:00<?, ?it/s]"
      ]
     },
     "metadata": {},
     "output_type": "display_data"
    },
    {
     "data": {
      "application/vnd.jupyter.widget-view+json": {
       "model_id": "58cc0ed068e6447f8131bcbf7047b04f",
       "version_major": 2,
       "version_minor": 0
      },
      "text/plain": [
       "Eval AUC:   0%|          | 0/3 [00:00<?, ?it/s]"
      ]
     },
     "metadata": {},
     "output_type": "display_data"
    },
    {
     "data": {
      "application/vnd.jupyter.widget-view+json": {
       "model_id": "962acc91f0234f5589f17596a557b8d3",
       "version_major": 2,
       "version_minor": 0
      },
      "text/plain": [
       "Eval Hits:   0%|          | 0/3 [00:00<?, ?it/s]"
      ]
     },
     "metadata": {},
     "output_type": "display_data"
    },
    {
     "data": {
      "application/vnd.jupyter.widget-view+json": {
       "model_id": "c6741d162a044e09a28bbf516e13796b",
       "version_major": 2,
       "version_minor": 0
      },
      "text/plain": [
       "Train 39:   0%|          | 0/85 [00:00<?, ?it/s]"
      ]
     },
     "metadata": {},
     "output_type": "display_data"
    },
    {
     "data": {
      "application/vnd.jupyter.widget-view+json": {
       "model_id": "a755323ca092441281a4342d63401cdf",
       "version_major": 2,
       "version_minor": 0
      },
      "text/plain": [
       "Eval AUC:   0%|          | 0/3 [00:00<?, ?it/s]"
      ]
     },
     "metadata": {},
     "output_type": "display_data"
    },
    {
     "data": {
      "application/vnd.jupyter.widget-view+json": {
       "model_id": "b8c4af1bbe414d7db75b0c84f99424d5",
       "version_major": 2,
       "version_minor": 0
      },
      "text/plain": [
       "Eval Hits:   0%|          | 0/3 [00:00<?, ?it/s]"
      ]
     },
     "metadata": {},
     "output_type": "display_data"
    },
    {
     "data": {
      "application/vnd.jupyter.widget-view+json": {
       "model_id": "5b409aca5a5d4f0f9ab732f88916ddf6",
       "version_major": 2,
       "version_minor": 0
      },
      "text/plain": [
       "Train 40:   0%|          | 0/85 [00:00<?, ?it/s]"
      ]
     },
     "metadata": {},
     "output_type": "display_data"
    },
    {
     "data": {
      "application/vnd.jupyter.widget-view+json": {
       "model_id": "b707c8024b7647239067f837dc294788",
       "version_major": 2,
       "version_minor": 0
      },
      "text/plain": [
       "Eval AUC:   0%|          | 0/3 [00:00<?, ?it/s]"
      ]
     },
     "metadata": {},
     "output_type": "display_data"
    },
    {
     "data": {
      "application/vnd.jupyter.widget-view+json": {
       "model_id": "4ff26698fe6e472db9a435530444b869",
       "version_major": 2,
       "version_minor": 0
      },
      "text/plain": [
       "Eval Hits:   0%|          | 0/3 [00:00<?, ?it/s]"
      ]
     },
     "metadata": {},
     "output_type": "display_data"
    },
    {
     "data": {
      "application/vnd.jupyter.widget-view+json": {
       "model_id": "d4d0e6c472284d018cdbcf85107e2661",
       "version_major": 2,
       "version_minor": 0
      },
      "text/plain": [
       "Train 41:   0%|          | 0/85 [00:00<?, ?it/s]"
      ]
     },
     "metadata": {},
     "output_type": "display_data"
    },
    {
     "data": {
      "application/vnd.jupyter.widget-view+json": {
       "model_id": "58e9e143ad1b4595b65a6cde7e42bdbc",
       "version_major": 2,
       "version_minor": 0
      },
      "text/plain": [
       "Eval AUC:   0%|          | 0/3 [00:00<?, ?it/s]"
      ]
     },
     "metadata": {},
     "output_type": "display_data"
    },
    {
     "data": {
      "application/vnd.jupyter.widget-view+json": {
       "model_id": "57117c369cf44d21973ae322216ebdd4",
       "version_major": 2,
       "version_minor": 0
      },
      "text/plain": [
       "Eval Hits:   0%|          | 0/3 [00:00<?, ?it/s]"
      ]
     },
     "metadata": {},
     "output_type": "display_data"
    },
    {
     "data": {
      "application/vnd.jupyter.widget-view+json": {
       "model_id": "a356c0319ac742f49e7974975b2bd7a8",
       "version_major": 2,
       "version_minor": 0
      },
      "text/plain": [
       "Train 42:   0%|          | 0/85 [00:00<?, ?it/s]"
      ]
     },
     "metadata": {},
     "output_type": "display_data"
    },
    {
     "data": {
      "application/vnd.jupyter.widget-view+json": {
       "model_id": "7bd7be6c8ff543c4aa2d84d18d509bba",
       "version_major": 2,
       "version_minor": 0
      },
      "text/plain": [
       "Eval AUC:   0%|          | 0/3 [00:00<?, ?it/s]"
      ]
     },
     "metadata": {},
     "output_type": "display_data"
    },
    {
     "data": {
      "application/vnd.jupyter.widget-view+json": {
       "model_id": "6d2469463736475ab8919bc34beb35a4",
       "version_major": 2,
       "version_minor": 0
      },
      "text/plain": [
       "Eval Hits:   0%|          | 0/3 [00:00<?, ?it/s]"
      ]
     },
     "metadata": {},
     "output_type": "display_data"
    },
    {
     "data": {
      "application/vnd.jupyter.widget-view+json": {
       "model_id": "070fd28661744a9f813c245bd1d8b353",
       "version_major": 2,
       "version_minor": 0
      },
      "text/plain": [
       "Train 43:   0%|          | 0/85 [00:00<?, ?it/s]"
      ]
     },
     "metadata": {},
     "output_type": "display_data"
    },
    {
     "data": {
      "application/vnd.jupyter.widget-view+json": {
       "model_id": "26a44c090ff848a3983d2d707d6cef8e",
       "version_major": 2,
       "version_minor": 0
      },
      "text/plain": [
       "Eval AUC:   0%|          | 0/3 [00:00<?, ?it/s]"
      ]
     },
     "metadata": {},
     "output_type": "display_data"
    },
    {
     "data": {
      "application/vnd.jupyter.widget-view+json": {
       "model_id": "f8a2e231bf1745c381e7b93998a4b2e8",
       "version_major": 2,
       "version_minor": 0
      },
      "text/plain": [
       "Eval Hits:   0%|          | 0/3 [00:00<?, ?it/s]"
      ]
     },
     "metadata": {},
     "output_type": "display_data"
    },
    {
     "data": {
      "application/vnd.jupyter.widget-view+json": {
       "model_id": "95aa81782bfe40ef999750d3fd9c6aaf",
       "version_major": 2,
       "version_minor": 0
      },
      "text/plain": [
       "Train 44:   0%|          | 0/85 [00:00<?, ?it/s]"
      ]
     },
     "metadata": {},
     "output_type": "display_data"
    },
    {
     "data": {
      "application/vnd.jupyter.widget-view+json": {
       "model_id": "a05b83abd01f4cb58b37da6de9de915a",
       "version_major": 2,
       "version_minor": 0
      },
      "text/plain": [
       "Eval AUC:   0%|          | 0/3 [00:00<?, ?it/s]"
      ]
     },
     "metadata": {},
     "output_type": "display_data"
    },
    {
     "data": {
      "application/vnd.jupyter.widget-view+json": {
       "model_id": "cdd78161d9a84cdd9078a11f13a7f736",
       "version_major": 2,
       "version_minor": 0
      },
      "text/plain": [
       "Eval Hits:   0%|          | 0/3 [00:00<?, ?it/s]"
      ]
     },
     "metadata": {},
     "output_type": "display_data"
    },
    {
     "data": {
      "application/vnd.jupyter.widget-view+json": {
       "model_id": "a38a760a4bc243a4b067389f9dcf00ef",
       "version_major": 2,
       "version_minor": 0
      },
      "text/plain": [
       "Train 45:   0%|          | 0/85 [00:00<?, ?it/s]"
      ]
     },
     "metadata": {},
     "output_type": "display_data"
    },
    {
     "data": {
      "application/vnd.jupyter.widget-view+json": {
       "model_id": "83426d21328c4da39fa3f70aacc1bbd0",
       "version_major": 2,
       "version_minor": 0
      },
      "text/plain": [
       "Eval AUC:   0%|          | 0/3 [00:00<?, ?it/s]"
      ]
     },
     "metadata": {},
     "output_type": "display_data"
    },
    {
     "data": {
      "application/vnd.jupyter.widget-view+json": {
       "model_id": "95d6c3de3c6844cfb68c2456f424039a",
       "version_major": 2,
       "version_minor": 0
      },
      "text/plain": [
       "Eval Hits:   0%|          | 0/3 [00:00<?, ?it/s]"
      ]
     },
     "metadata": {},
     "output_type": "display_data"
    },
    {
     "data": {
      "application/vnd.jupyter.widget-view+json": {
       "model_id": "b406db38db7c49f1a705a2cb8ab269df",
       "version_major": 2,
       "version_minor": 0
      },
      "text/plain": [
       "Train 46:   0%|          | 0/85 [00:00<?, ?it/s]"
      ]
     },
     "metadata": {},
     "output_type": "display_data"
    },
    {
     "data": {
      "application/vnd.jupyter.widget-view+json": {
       "model_id": "fcd683dce084408f93263782d34ee5d7",
       "version_major": 2,
       "version_minor": 0
      },
      "text/plain": [
       "Eval AUC:   0%|          | 0/3 [00:00<?, ?it/s]"
      ]
     },
     "metadata": {},
     "output_type": "display_data"
    },
    {
     "data": {
      "application/vnd.jupyter.widget-view+json": {
       "model_id": "f5ee5ce8499a488e98ad64c3ad2340e0",
       "version_major": 2,
       "version_minor": 0
      },
      "text/plain": [
       "Eval Hits:   0%|          | 0/3 [00:00<?, ?it/s]"
      ]
     },
     "metadata": {},
     "output_type": "display_data"
    },
    {
     "data": {
      "application/vnd.jupyter.widget-view+json": {
       "model_id": "275435c1489e4a1fbfff96940a6cc533",
       "version_major": 2,
       "version_minor": 0
      },
      "text/plain": [
       "Train 47:   0%|          | 0/85 [00:00<?, ?it/s]"
      ]
     },
     "metadata": {},
     "output_type": "display_data"
    },
    {
     "data": {
      "application/vnd.jupyter.widget-view+json": {
       "model_id": "f93b61e98c724eba8639b41305eb7e2d",
       "version_major": 2,
       "version_minor": 0
      },
      "text/plain": [
       "Eval AUC:   0%|          | 0/3 [00:00<?, ?it/s]"
      ]
     },
     "metadata": {},
     "output_type": "display_data"
    },
    {
     "data": {
      "application/vnd.jupyter.widget-view+json": {
       "model_id": "884ec75bea8547fb877f6a347f7e8387",
       "version_major": 2,
       "version_minor": 0
      },
      "text/plain": [
       "Eval Hits:   0%|          | 0/3 [00:00<?, ?it/s]"
      ]
     },
     "metadata": {},
     "output_type": "display_data"
    },
    {
     "data": {
      "application/vnd.jupyter.widget-view+json": {
       "model_id": "859d55ad82474cf5aa0cdda4c6ebbcf9",
       "version_major": 2,
       "version_minor": 0
      },
      "text/plain": [
       "Train 48:   0%|          | 0/85 [00:00<?, ?it/s]"
      ]
     },
     "metadata": {},
     "output_type": "display_data"
    },
    {
     "data": {
      "application/vnd.jupyter.widget-view+json": {
       "model_id": "cb1386b914f04b818df5c25b60f8cedd",
       "version_major": 2,
       "version_minor": 0
      },
      "text/plain": [
       "Eval AUC:   0%|          | 0/3 [00:00<?, ?it/s]"
      ]
     },
     "metadata": {},
     "output_type": "display_data"
    },
    {
     "data": {
      "application/vnd.jupyter.widget-view+json": {
       "model_id": "75cb828210844bb4a98647f7205efc5e",
       "version_major": 2,
       "version_minor": 0
      },
      "text/plain": [
       "Eval Hits:   0%|          | 0/3 [00:00<?, ?it/s]"
      ]
     },
     "metadata": {},
     "output_type": "display_data"
    },
    {
     "data": {
      "application/vnd.jupyter.widget-view+json": {
       "model_id": "ec4fb3766fdc40a8ba00da8857c9d132",
       "version_major": 2,
       "version_minor": 0
      },
      "text/plain": [
       "Train 49:   0%|          | 0/85 [00:00<?, ?it/s]"
      ]
     },
     "metadata": {},
     "output_type": "display_data"
    },
    {
     "data": {
      "application/vnd.jupyter.widget-view+json": {
       "model_id": "479758f992d84c2296dda64901f7beda",
       "version_major": 2,
       "version_minor": 0
      },
      "text/plain": [
       "Eval AUC:   0%|          | 0/3 [00:00<?, ?it/s]"
      ]
     },
     "metadata": {},
     "output_type": "display_data"
    },
    {
     "data": {
      "application/vnd.jupyter.widget-view+json": {
       "model_id": "711fe77242654b5aaa308c14c2a2120b",
       "version_major": 2,
       "version_minor": 0
      },
      "text/plain": [
       "Eval Hits:   0%|          | 0/3 [00:00<?, ?it/s]"
      ]
     },
     "metadata": {},
     "output_type": "display_data"
    },
    {
     "data": {
      "application/vnd.jupyter.widget-view+json": {
       "model_id": "341d85719d1e4f6baeb12465ba9d039d",
       "version_major": 2,
       "version_minor": 0
      },
      "text/plain": [
       "Train 50:   0%|          | 0/85 [00:00<?, ?it/s]"
      ]
     },
     "metadata": {},
     "output_type": "display_data"
    },
    {
     "data": {
      "application/vnd.jupyter.widget-view+json": {
       "model_id": "d0c11cd02623431684086c13f97e479c",
       "version_major": 2,
       "version_minor": 0
      },
      "text/plain": [
       "Eval AUC:   0%|          | 0/3 [00:00<?, ?it/s]"
      ]
     },
     "metadata": {},
     "output_type": "display_data"
    },
    {
     "data": {
      "application/vnd.jupyter.widget-view+json": {
       "model_id": "e9a70c050cb442c0b960fb77ac99d458",
       "version_major": 2,
       "version_minor": 0
      },
      "text/plain": [
       "Eval Hits:   0%|          | 0/3 [00:00<?, ?it/s]"
      ]
     },
     "metadata": {},
     "output_type": "display_data"
    },
    {
     "data": {
      "application/vnd.jupyter.widget-view+json": {
       "model_id": "2075d8d467f54b67add3748ba500c3b7",
       "version_major": 2,
       "version_minor": 0
      },
      "text/plain": [
       "Train 51:   0%|          | 0/85 [00:00<?, ?it/s]"
      ]
     },
     "metadata": {},
     "output_type": "display_data"
    },
    {
     "data": {
      "application/vnd.jupyter.widget-view+json": {
       "model_id": "78c3fdb65ef045c1ad5d6f660d8af324",
       "version_major": 2,
       "version_minor": 0
      },
      "text/plain": [
       "Eval AUC:   0%|          | 0/3 [00:00<?, ?it/s]"
      ]
     },
     "metadata": {},
     "output_type": "display_data"
    },
    {
     "data": {
      "application/vnd.jupyter.widget-view+json": {
       "model_id": "b00ca93c02f84f5b8285819eae175a69",
       "version_major": 2,
       "version_minor": 0
      },
      "text/plain": [
       "Eval Hits:   0%|          | 0/3 [00:00<?, ?it/s]"
      ]
     },
     "metadata": {},
     "output_type": "display_data"
    },
    {
     "data": {
      "application/vnd.jupyter.widget-view+json": {
       "model_id": "6d4b292d7c774737b12959f17aee38f4",
       "version_major": 2,
       "version_minor": 0
      },
      "text/plain": [
       "Train 52:   0%|          | 0/85 [00:00<?, ?it/s]"
      ]
     },
     "metadata": {},
     "output_type": "display_data"
    },
    {
     "data": {
      "application/vnd.jupyter.widget-view+json": {
       "model_id": "4153172b65254723aa6e539788397e24",
       "version_major": 2,
       "version_minor": 0
      },
      "text/plain": [
       "Eval AUC:   0%|          | 0/3 [00:00<?, ?it/s]"
      ]
     },
     "metadata": {},
     "output_type": "display_data"
    },
    {
     "data": {
      "application/vnd.jupyter.widget-view+json": {
       "model_id": "857c221bad594bfab7a05c57c319328f",
       "version_major": 2,
       "version_minor": 0
      },
      "text/plain": [
       "Eval Hits:   0%|          | 0/3 [00:00<?, ?it/s]"
      ]
     },
     "metadata": {},
     "output_type": "display_data"
    },
    {
     "data": {
      "application/vnd.jupyter.widget-view+json": {
       "model_id": "266f5339ada745e6aeeb218b3fee8b81",
       "version_major": 2,
       "version_minor": 0
      },
      "text/plain": [
       "Train 53:   0%|          | 0/85 [00:00<?, ?it/s]"
      ]
     },
     "metadata": {},
     "output_type": "display_data"
    },
    {
     "data": {
      "application/vnd.jupyter.widget-view+json": {
       "model_id": "6e1a0683d7cd4f879d2a82cd7b3b7e92",
       "version_major": 2,
       "version_minor": 0
      },
      "text/plain": [
       "Eval AUC:   0%|          | 0/3 [00:00<?, ?it/s]"
      ]
     },
     "metadata": {},
     "output_type": "display_data"
    },
    {
     "data": {
      "application/vnd.jupyter.widget-view+json": {
       "model_id": "ace4b93342684e78a22b4a96978e3f30",
       "version_major": 2,
       "version_minor": 0
      },
      "text/plain": [
       "Eval Hits:   0%|          | 0/3 [00:00<?, ?it/s]"
      ]
     },
     "metadata": {},
     "output_type": "display_data"
    },
    {
     "data": {
      "application/vnd.jupyter.widget-view+json": {
       "model_id": "863e146c5b7d4a12a40af250056cbd71",
       "version_major": 2,
       "version_minor": 0
      },
      "text/plain": [
       "Train 54:   0%|          | 0/85 [00:00<?, ?it/s]"
      ]
     },
     "metadata": {},
     "output_type": "display_data"
    },
    {
     "data": {
      "application/vnd.jupyter.widget-view+json": {
       "model_id": "29f9bd6379ca48108a8ba53f5702b130",
       "version_major": 2,
       "version_minor": 0
      },
      "text/plain": [
       "Eval AUC:   0%|          | 0/3 [00:00<?, ?it/s]"
      ]
     },
     "metadata": {},
     "output_type": "display_data"
    },
    {
     "data": {
      "application/vnd.jupyter.widget-view+json": {
       "model_id": "770b2319044a4cbfa35cb3591db7c74f",
       "version_major": 2,
       "version_minor": 0
      },
      "text/plain": [
       "Eval Hits:   0%|          | 0/3 [00:00<?, ?it/s]"
      ]
     },
     "metadata": {},
     "output_type": "display_data"
    },
    {
     "data": {
      "application/vnd.jupyter.widget-view+json": {
       "model_id": "6ad980de74b8434ebb1ef9d1fbcfa6d2",
       "version_major": 2,
       "version_minor": 0
      },
      "text/plain": [
       "Train 55:   0%|          | 0/85 [00:00<?, ?it/s]"
      ]
     },
     "metadata": {},
     "output_type": "display_data"
    },
    {
     "data": {
      "application/vnd.jupyter.widget-view+json": {
       "model_id": "a734cebeff5d4e2baba4be7027ea84be",
       "version_major": 2,
       "version_minor": 0
      },
      "text/plain": [
       "Eval AUC:   0%|          | 0/3 [00:00<?, ?it/s]"
      ]
     },
     "metadata": {},
     "output_type": "display_data"
    },
    {
     "data": {
      "application/vnd.jupyter.widget-view+json": {
       "model_id": "0ba6f619b2c14c9fa36abdef1bb24ed8",
       "version_major": 2,
       "version_minor": 0
      },
      "text/plain": [
       "Eval Hits:   0%|          | 0/3 [00:00<?, ?it/s]"
      ]
     },
     "metadata": {},
     "output_type": "display_data"
    },
    {
     "data": {
      "application/vnd.jupyter.widget-view+json": {
       "model_id": "0e24c72fb41e434cb1d1d47fa47c18e9",
       "version_major": 2,
       "version_minor": 0
      },
      "text/plain": [
       "Train 56:   0%|          | 0/85 [00:00<?, ?it/s]"
      ]
     },
     "metadata": {},
     "output_type": "display_data"
    },
    {
     "data": {
      "application/vnd.jupyter.widget-view+json": {
       "model_id": "f8a24d538e3b4348b2fba5daa6f8f24e",
       "version_major": 2,
       "version_minor": 0
      },
      "text/plain": [
       "Eval AUC:   0%|          | 0/3 [00:00<?, ?it/s]"
      ]
     },
     "metadata": {},
     "output_type": "display_data"
    },
    {
     "data": {
      "application/vnd.jupyter.widget-view+json": {
       "model_id": "585f766ad8ee4df89631d657258addc8",
       "version_major": 2,
       "version_minor": 0
      },
      "text/plain": [
       "Eval Hits:   0%|          | 0/3 [00:00<?, ?it/s]"
      ]
     },
     "metadata": {},
     "output_type": "display_data"
    },
    {
     "data": {
      "application/vnd.jupyter.widget-view+json": {
       "model_id": "f99e47d265384339900ce80f0019e7ba",
       "version_major": 2,
       "version_minor": 0
      },
      "text/plain": [
       "Train 57:   0%|          | 0/85 [00:00<?, ?it/s]"
      ]
     },
     "metadata": {},
     "output_type": "display_data"
    },
    {
     "data": {
      "application/vnd.jupyter.widget-view+json": {
       "model_id": "3a4cdece44b04b73831925e2830e3772",
       "version_major": 2,
       "version_minor": 0
      },
      "text/plain": [
       "Eval AUC:   0%|          | 0/3 [00:00<?, ?it/s]"
      ]
     },
     "metadata": {},
     "output_type": "display_data"
    },
    {
     "data": {
      "application/vnd.jupyter.widget-view+json": {
       "model_id": "02acb1b3dcc54ef3ba99431d784d8c10",
       "version_major": 2,
       "version_minor": 0
      },
      "text/plain": [
       "Eval Hits:   0%|          | 0/3 [00:00<?, ?it/s]"
      ]
     },
     "metadata": {},
     "output_type": "display_data"
    },
    {
     "data": {
      "application/vnd.jupyter.widget-view+json": {
       "model_id": "49793c64bcce4cda915ca3f1a0b05dda",
       "version_major": 2,
       "version_minor": 0
      },
      "text/plain": [
       "Train 58:   0%|          | 0/85 [00:00<?, ?it/s]"
      ]
     },
     "metadata": {},
     "output_type": "display_data"
    },
    {
     "data": {
      "application/vnd.jupyter.widget-view+json": {
       "model_id": "8a503623974e444c934eee4c39479ed8",
       "version_major": 2,
       "version_minor": 0
      },
      "text/plain": [
       "Eval AUC:   0%|          | 0/3 [00:00<?, ?it/s]"
      ]
     },
     "metadata": {},
     "output_type": "display_data"
    },
    {
     "data": {
      "application/vnd.jupyter.widget-view+json": {
       "model_id": "040303dbb9a24d5a84642d99fa772f5a",
       "version_major": 2,
       "version_minor": 0
      },
      "text/plain": [
       "Eval Hits:   0%|          | 0/3 [00:00<?, ?it/s]"
      ]
     },
     "metadata": {},
     "output_type": "display_data"
    },
    {
     "data": {
      "application/vnd.jupyter.widget-view+json": {
       "model_id": "3144c260a2cb4cecbae289f1f9597f01",
       "version_major": 2,
       "version_minor": 0
      },
      "text/plain": [
       "Train 59:   0%|          | 0/85 [00:00<?, ?it/s]"
      ]
     },
     "metadata": {},
     "output_type": "display_data"
    },
    {
     "data": {
      "application/vnd.jupyter.widget-view+json": {
       "model_id": "9a9ff874943e41e88fdb8182a2e09caf",
       "version_major": 2,
       "version_minor": 0
      },
      "text/plain": [
       "Eval AUC:   0%|          | 0/3 [00:00<?, ?it/s]"
      ]
     },
     "metadata": {},
     "output_type": "display_data"
    },
    {
     "data": {
      "application/vnd.jupyter.widget-view+json": {
       "model_id": "d25c47f9696243c2a1dc46f0b243e681",
       "version_major": 2,
       "version_minor": 0
      },
      "text/plain": [
       "Eval Hits:   0%|          | 0/3 [00:00<?, ?it/s]"
      ]
     },
     "metadata": {},
     "output_type": "display_data"
    },
    {
     "data": {
      "application/vnd.jupyter.widget-view+json": {
       "model_id": "661d4830efa945eb94a531988998aa27",
       "version_major": 2,
       "version_minor": 0
      },
      "text/plain": [
       "Train 60:   0%|          | 0/85 [00:00<?, ?it/s]"
      ]
     },
     "metadata": {},
     "output_type": "display_data"
    },
    {
     "data": {
      "application/vnd.jupyter.widget-view+json": {
       "model_id": "27ffeb88d3aa4bc1a0630475a1c74864",
       "version_major": 2,
       "version_minor": 0
      },
      "text/plain": [
       "Eval AUC:   0%|          | 0/3 [00:00<?, ?it/s]"
      ]
     },
     "metadata": {},
     "output_type": "display_data"
    },
    {
     "data": {
      "application/vnd.jupyter.widget-view+json": {
       "model_id": "72902c4dea164abb9a0f77b2a6c64db7",
       "version_major": 2,
       "version_minor": 0
      },
      "text/plain": [
       "Eval Hits:   0%|          | 0/3 [00:00<?, ?it/s]"
      ]
     },
     "metadata": {},
     "output_type": "display_data"
    },
    {
     "data": {
      "application/vnd.jupyter.widget-view+json": {
       "model_id": "3fbadaf7337448328086c710fb87b12b",
       "version_major": 2,
       "version_minor": 0
      },
      "text/plain": [
       "Train 61:   0%|          | 0/85 [00:00<?, ?it/s]"
      ]
     },
     "metadata": {},
     "output_type": "display_data"
    },
    {
     "data": {
      "application/vnd.jupyter.widget-view+json": {
       "model_id": "40e11edce29345e6a6cb798bfd3ad550",
       "version_major": 2,
       "version_minor": 0
      },
      "text/plain": [
       "Eval AUC:   0%|          | 0/3 [00:00<?, ?it/s]"
      ]
     },
     "metadata": {},
     "output_type": "display_data"
    },
    {
     "data": {
      "application/vnd.jupyter.widget-view+json": {
       "model_id": "d4657bbe8e46425384b77387cc3ec498",
       "version_major": 2,
       "version_minor": 0
      },
      "text/plain": [
       "Eval Hits:   0%|          | 0/3 [00:00<?, ?it/s]"
      ]
     },
     "metadata": {},
     "output_type": "display_data"
    },
    {
     "data": {
      "application/vnd.jupyter.widget-view+json": {
       "model_id": "87f78b8b23b34603b97a041536c07e18",
       "version_major": 2,
       "version_minor": 0
      },
      "text/plain": [
       "Train 62:   0%|          | 0/85 [00:00<?, ?it/s]"
      ]
     },
     "metadata": {},
     "output_type": "display_data"
    },
    {
     "data": {
      "application/vnd.jupyter.widget-view+json": {
       "model_id": "ff3d782badc8460788519d4f51b430a4",
       "version_major": 2,
       "version_minor": 0
      },
      "text/plain": [
       "Eval AUC:   0%|          | 0/3 [00:00<?, ?it/s]"
      ]
     },
     "metadata": {},
     "output_type": "display_data"
    },
    {
     "data": {
      "application/vnd.jupyter.widget-view+json": {
       "model_id": "e09241238e2a4fffaa0170b9392b833d",
       "version_major": 2,
       "version_minor": 0
      },
      "text/plain": [
       "Eval Hits:   0%|          | 0/3 [00:00<?, ?it/s]"
      ]
     },
     "metadata": {},
     "output_type": "display_data"
    },
    {
     "data": {
      "application/vnd.jupyter.widget-view+json": {
       "model_id": "9fb649e917a6401e82414c0f853d8927",
       "version_major": 2,
       "version_minor": 0
      },
      "text/plain": [
       "Train 63:   0%|          | 0/85 [00:00<?, ?it/s]"
      ]
     },
     "metadata": {},
     "output_type": "display_data"
    },
    {
     "data": {
      "application/vnd.jupyter.widget-view+json": {
       "model_id": "3d168c6fd98b4fea9d9c04c525985c31",
       "version_major": 2,
       "version_minor": 0
      },
      "text/plain": [
       "Eval AUC:   0%|          | 0/3 [00:00<?, ?it/s]"
      ]
     },
     "metadata": {},
     "output_type": "display_data"
    },
    {
     "data": {
      "application/vnd.jupyter.widget-view+json": {
       "model_id": "fc932d2efa2144ec8bd74bafa952b4de",
       "version_major": 2,
       "version_minor": 0
      },
      "text/plain": [
       "Eval Hits:   0%|          | 0/3 [00:00<?, ?it/s]"
      ]
     },
     "metadata": {},
     "output_type": "display_data"
    },
    {
     "data": {
      "application/vnd.jupyter.widget-view+json": {
       "model_id": "144e8e88a1684d4295e66f3fa2986ee5",
       "version_major": 2,
       "version_minor": 0
      },
      "text/plain": [
       "Train 64:   0%|          | 0/85 [00:00<?, ?it/s]"
      ]
     },
     "metadata": {},
     "output_type": "display_data"
    },
    {
     "data": {
      "application/vnd.jupyter.widget-view+json": {
       "model_id": "968d5c0800a84f028e0621203b1d102e",
       "version_major": 2,
       "version_minor": 0
      },
      "text/plain": [
       "Eval AUC:   0%|          | 0/3 [00:00<?, ?it/s]"
      ]
     },
     "metadata": {},
     "output_type": "display_data"
    },
    {
     "data": {
      "application/vnd.jupyter.widget-view+json": {
       "model_id": "9a8a96d30d034df6ae4923b5a7b4bfd3",
       "version_major": 2,
       "version_minor": 0
      },
      "text/plain": [
       "Eval Hits:   0%|          | 0/3 [00:00<?, ?it/s]"
      ]
     },
     "metadata": {},
     "output_type": "display_data"
    },
    {
     "name": "stdout",
     "output_type": "stream",
     "text": [
      "Early stopping at epoch 64 (patience=10).\n",
      "Restored best model from epoch 54 | AUC=0.8272 | Hits@10=0.7088\n",
      "Model Training Results - 2025-10-14 04:33:51\n",
      "================================================================================\n",
      "\n",
      "\n",
      "GIN Training History\n",
      "============================================================\n",
      "\n",
      "Best Validation AUC: 0.8346\n",
      "Total Epochs Trained: 64\n",
      "Early Stopping Best Score: 0.7088 (Hits@10 at epoch 54)\n",
      "\n",
      "------------------------------------------------------------\n",
      "Epoch    Train Loss      Val AUC         Val Hits@10    \n",
      "------------------------------------------------------------\n",
      "1        0.6143          0.6755          0.3322         \n",
      "5        0.4714          0.7901          0.5211         \n",
      "10       0.4383          0.7878          0.5720         \n",
      "15       0.4256          0.7908          0.6081         \n",
      "20       0.4226          0.8044          0.6345         \n",
      "25       0.4169          0.8092          0.6519         \n",
      "30       0.4143          0.8188          0.6744         \n",
      "35       0.4091          0.8137          0.6709         \n",
      "40       0.4076          0.8280          0.6829         \n",
      "45       0.4067          0.8151          0.6800         \n",
      "50       0.4053          0.8346          0.6958         \n",
      "55       0.4055          0.8136          0.6897         \n",
      "60       0.4059          0.8245          0.6996         \n",
      "\n",
      "\n",
      "✅ Report saved to: /Users/choonggi/Coding/jetbrains/sc4020-Project-1/GIN/results/gin_report_embed_dim=128|mlp_depth=3|aggre=4.txt\n"
     ]
    }
   ],
   "source": [
    "from pathlib import Path\n",
    "from dataset_loader import KGDataModuleCollapsed\n",
    "\n",
    "dataset = 'WN18RR'\n",
    "train_p = Path(\"../WN18RR/train.txt\")\n",
    "valid_p = Path(\"../WN18RR/valid.txt\")\n",
    "test_p  = Path(\"../WN18RR/test.txt\")\n",
    "\n",
    "\n",
    "dm = KGDataModuleCollapsed(train_p, valid_p, test_p, add_reverse=True)\n",
    "hidden_layers,num_layers, emb_dim = 3, 4, 128\n",
    "encoder = GINEncoder(num_nodes=len(dm.ent2id), hidden_layers=hidden_layers, emb_dim=emb_dim, num_layers=num_layers, dropout=0.1)\n",
    "\n",
    "result = train_linkpred(\n",
    "    encoder, dm,\n",
    "    epochs=100, lr=1e-3, weight_decay=1e-4, patience=10,\n",
    "    show_tqdm=True,\n",
    "    save_best_path=f\"checkpoints/checkpoints_gin/{dataset}/gin_best_embed_dim={emb_dim}|mlp_depth={hidden_layers}|aggre={num_layers}|dataset={dataset}.pt\",\n",
    "    save_on_improve=True                        # save every improvement\n",
    ")\n",
    "print_training_report(\"GIN\", result, save_path=f\"results/results_gin/{dataset}/gin_report_embed_dim={emb_dim}|mlp_depth={hidden_layers}|aggre={num_layers}|dataset={dataset}.txt\")"
   ]
  },
  {
   "cell_type": "code",
   "execution_count": 5,
   "id": "e5202e61aff2f6be",
   "metadata": {
    "ExecuteTime": {
     "end_time": "2025-10-13T21:15:13.092735Z",
     "start_time": "2025-10-13T20:33:51.503941Z"
    }
   },
   "outputs": [
    {
     "data": {
      "application/vnd.jupyter.widget-view+json": {
       "model_id": "34f407cccec94380a83a8687c079d6ed",
       "version_major": 2,
       "version_minor": 0
      },
      "text/plain": [
       "Epochs:   0%|          | 0/100 [00:00<?, ?it/s]"
      ]
     },
     "metadata": {},
     "output_type": "display_data"
    },
    {
     "data": {
      "application/vnd.jupyter.widget-view+json": {
       "model_id": "780413384dde4c2684c8b4e879f8f310",
       "version_major": 2,
       "version_minor": 0
      },
      "text/plain": [
       "Train 1:   0%|          | 0/85 [00:00<?, ?it/s]"
      ]
     },
     "metadata": {},
     "output_type": "display_data"
    },
    {
     "data": {
      "application/vnd.jupyter.widget-view+json": {
       "model_id": "aab205ccf1fc4d2094b06eff7b4c5ed6",
       "version_major": 2,
       "version_minor": 0
      },
      "text/plain": [
       "Eval AUC:   0%|          | 0/3 [00:00<?, ?it/s]"
      ]
     },
     "metadata": {},
     "output_type": "display_data"
    },
    {
     "data": {
      "application/vnd.jupyter.widget-view+json": {
       "model_id": "816fca5fb739466fb630e88950275933",
       "version_major": 2,
       "version_minor": 0
      },
      "text/plain": [
       "Eval Hits:   0%|          | 0/3 [00:00<?, ?it/s]"
      ]
     },
     "metadata": {},
     "output_type": "display_data"
    },
    {
     "data": {
      "application/vnd.jupyter.widget-view+json": {
       "model_id": "8edd6684c9094ebe904fabc3c029ed8c",
       "version_major": 2,
       "version_minor": 0
      },
      "text/plain": [
       "Train 2:   0%|          | 0/85 [00:00<?, ?it/s]"
      ]
     },
     "metadata": {},
     "output_type": "display_data"
    },
    {
     "data": {
      "application/vnd.jupyter.widget-view+json": {
       "model_id": "0c5a76ed532f4a11a35661b34ebd4ff3",
       "version_major": 2,
       "version_minor": 0
      },
      "text/plain": [
       "Eval AUC:   0%|          | 0/3 [00:00<?, ?it/s]"
      ]
     },
     "metadata": {},
     "output_type": "display_data"
    },
    {
     "data": {
      "application/vnd.jupyter.widget-view+json": {
       "model_id": "d2a6600077f742fd9aa080f696fafddf",
       "version_major": 2,
       "version_minor": 0
      },
      "text/plain": [
       "Eval Hits:   0%|          | 0/3 [00:00<?, ?it/s]"
      ]
     },
     "metadata": {},
     "output_type": "display_data"
    },
    {
     "data": {
      "application/vnd.jupyter.widget-view+json": {
       "model_id": "c25de2da11f5423591bc93b6a6c7b3ee",
       "version_major": 2,
       "version_minor": 0
      },
      "text/plain": [
       "Train 3:   0%|          | 0/85 [00:00<?, ?it/s]"
      ]
     },
     "metadata": {},
     "output_type": "display_data"
    },
    {
     "data": {
      "application/vnd.jupyter.widget-view+json": {
       "model_id": "3e9f874cfc114263b377d7917638785d",
       "version_major": 2,
       "version_minor": 0
      },
      "text/plain": [
       "Eval AUC:   0%|          | 0/3 [00:00<?, ?it/s]"
      ]
     },
     "metadata": {},
     "output_type": "display_data"
    },
    {
     "data": {
      "application/vnd.jupyter.widget-view+json": {
       "model_id": "b54613fc1045471f92f566ce4679585e",
       "version_major": 2,
       "version_minor": 0
      },
      "text/plain": [
       "Eval Hits:   0%|          | 0/3 [00:00<?, ?it/s]"
      ]
     },
     "metadata": {},
     "output_type": "display_data"
    },
    {
     "data": {
      "application/vnd.jupyter.widget-view+json": {
       "model_id": "7e7fe2d7a3f14a9cbb2c1953e8653db7",
       "version_major": 2,
       "version_minor": 0
      },
      "text/plain": [
       "Train 4:   0%|          | 0/85 [00:00<?, ?it/s]"
      ]
     },
     "metadata": {},
     "output_type": "display_data"
    },
    {
     "data": {
      "application/vnd.jupyter.widget-view+json": {
       "model_id": "f1cac7b9c8cc47398b256105db36c8f9",
       "version_major": 2,
       "version_minor": 0
      },
      "text/plain": [
       "Eval AUC:   0%|          | 0/3 [00:00<?, ?it/s]"
      ]
     },
     "metadata": {},
     "output_type": "display_data"
    },
    {
     "data": {
      "application/vnd.jupyter.widget-view+json": {
       "model_id": "41f27832f60e4a169a9e42050dfa435c",
       "version_major": 2,
       "version_minor": 0
      },
      "text/plain": [
       "Eval Hits:   0%|          | 0/3 [00:00<?, ?it/s]"
      ]
     },
     "metadata": {},
     "output_type": "display_data"
    },
    {
     "data": {
      "application/vnd.jupyter.widget-view+json": {
       "model_id": "5a35a15730154c188c9d7f9b15dde208",
       "version_major": 2,
       "version_minor": 0
      },
      "text/plain": [
       "Train 5:   0%|          | 0/85 [00:00<?, ?it/s]"
      ]
     },
     "metadata": {},
     "output_type": "display_data"
    },
    {
     "data": {
      "application/vnd.jupyter.widget-view+json": {
       "model_id": "c6e1884e09794e348dbcfd4c69c7f40a",
       "version_major": 2,
       "version_minor": 0
      },
      "text/plain": [
       "Eval AUC:   0%|          | 0/3 [00:00<?, ?it/s]"
      ]
     },
     "metadata": {},
     "output_type": "display_data"
    },
    {
     "data": {
      "application/vnd.jupyter.widget-view+json": {
       "model_id": "d844a7569c9946b7a1c1f72e6ca5a342",
       "version_major": 2,
       "version_minor": 0
      },
      "text/plain": [
       "Eval Hits:   0%|          | 0/3 [00:00<?, ?it/s]"
      ]
     },
     "metadata": {},
     "output_type": "display_data"
    },
    {
     "data": {
      "application/vnd.jupyter.widget-view+json": {
       "model_id": "a3a12d70935446a8a89d2abb57f3eff1",
       "version_major": 2,
       "version_minor": 0
      },
      "text/plain": [
       "Train 6:   0%|          | 0/85 [00:00<?, ?it/s]"
      ]
     },
     "metadata": {},
     "output_type": "display_data"
    },
    {
     "data": {
      "application/vnd.jupyter.widget-view+json": {
       "model_id": "d99bae12999d431ab995ec2523f35eba",
       "version_major": 2,
       "version_minor": 0
      },
      "text/plain": [
       "Eval AUC:   0%|          | 0/3 [00:00<?, ?it/s]"
      ]
     },
     "metadata": {},
     "output_type": "display_data"
    },
    {
     "data": {
      "application/vnd.jupyter.widget-view+json": {
       "model_id": "8b96132401344cc4b6b053e9351d8ede",
       "version_major": 2,
       "version_minor": 0
      },
      "text/plain": [
       "Eval Hits:   0%|          | 0/3 [00:00<?, ?it/s]"
      ]
     },
     "metadata": {},
     "output_type": "display_data"
    },
    {
     "data": {
      "application/vnd.jupyter.widget-view+json": {
       "model_id": "fdf04c228ba9425887f0622607b8d3a7",
       "version_major": 2,
       "version_minor": 0
      },
      "text/plain": [
       "Train 7:   0%|          | 0/85 [00:00<?, ?it/s]"
      ]
     },
     "metadata": {},
     "output_type": "display_data"
    },
    {
     "data": {
      "application/vnd.jupyter.widget-view+json": {
       "model_id": "4baf145b64fa4da0a4e7c71bf22aed08",
       "version_major": 2,
       "version_minor": 0
      },
      "text/plain": [
       "Eval AUC:   0%|          | 0/3 [00:00<?, ?it/s]"
      ]
     },
     "metadata": {},
     "output_type": "display_data"
    },
    {
     "data": {
      "application/vnd.jupyter.widget-view+json": {
       "model_id": "9d1df90b10c84f87bcc7e6a47db7fd92",
       "version_major": 2,
       "version_minor": 0
      },
      "text/plain": [
       "Eval Hits:   0%|          | 0/3 [00:00<?, ?it/s]"
      ]
     },
     "metadata": {},
     "output_type": "display_data"
    },
    {
     "data": {
      "application/vnd.jupyter.widget-view+json": {
       "model_id": "c382b34f37224eceb782ed619d52721f",
       "version_major": 2,
       "version_minor": 0
      },
      "text/plain": [
       "Train 8:   0%|          | 0/85 [00:00<?, ?it/s]"
      ]
     },
     "metadata": {},
     "output_type": "display_data"
    },
    {
     "data": {
      "application/vnd.jupyter.widget-view+json": {
       "model_id": "1360ce22097a49978ab73cfd4a59120a",
       "version_major": 2,
       "version_minor": 0
      },
      "text/plain": [
       "Eval AUC:   0%|          | 0/3 [00:00<?, ?it/s]"
      ]
     },
     "metadata": {},
     "output_type": "display_data"
    },
    {
     "data": {
      "application/vnd.jupyter.widget-view+json": {
       "model_id": "078249c495b14759bb0be8674217584b",
       "version_major": 2,
       "version_minor": 0
      },
      "text/plain": [
       "Eval Hits:   0%|          | 0/3 [00:00<?, ?it/s]"
      ]
     },
     "metadata": {},
     "output_type": "display_data"
    },
    {
     "data": {
      "application/vnd.jupyter.widget-view+json": {
       "model_id": "9afc5a93db874d9c8ddd7944fcd48cd8",
       "version_major": 2,
       "version_minor": 0
      },
      "text/plain": [
       "Train 9:   0%|          | 0/85 [00:00<?, ?it/s]"
      ]
     },
     "metadata": {},
     "output_type": "display_data"
    },
    {
     "data": {
      "application/vnd.jupyter.widget-view+json": {
       "model_id": "282594f8447c4605a6ca5282f7228618",
       "version_major": 2,
       "version_minor": 0
      },
      "text/plain": [
       "Eval AUC:   0%|          | 0/3 [00:00<?, ?it/s]"
      ]
     },
     "metadata": {},
     "output_type": "display_data"
    },
    {
     "data": {
      "application/vnd.jupyter.widget-view+json": {
       "model_id": "846095bf9774420cad0326ae65702521",
       "version_major": 2,
       "version_minor": 0
      },
      "text/plain": [
       "Eval Hits:   0%|          | 0/3 [00:00<?, ?it/s]"
      ]
     },
     "metadata": {},
     "output_type": "display_data"
    },
    {
     "data": {
      "application/vnd.jupyter.widget-view+json": {
       "model_id": "01b4f7e5d91142e89cc517d3bbfeae03",
       "version_major": 2,
       "version_minor": 0
      },
      "text/plain": [
       "Train 10:   0%|          | 0/85 [00:00<?, ?it/s]"
      ]
     },
     "metadata": {},
     "output_type": "display_data"
    },
    {
     "data": {
      "application/vnd.jupyter.widget-view+json": {
       "model_id": "39a9bf50c1f34c30a0c1a41feca5db11",
       "version_major": 2,
       "version_minor": 0
      },
      "text/plain": [
       "Eval AUC:   0%|          | 0/3 [00:00<?, ?it/s]"
      ]
     },
     "metadata": {},
     "output_type": "display_data"
    },
    {
     "data": {
      "application/vnd.jupyter.widget-view+json": {
       "model_id": "daaa1a7a956a472a9e52ec0dee529928",
       "version_major": 2,
       "version_minor": 0
      },
      "text/plain": [
       "Eval Hits:   0%|          | 0/3 [00:00<?, ?it/s]"
      ]
     },
     "metadata": {},
     "output_type": "display_data"
    },
    {
     "data": {
      "application/vnd.jupyter.widget-view+json": {
       "model_id": "c37a8c87468e4befb1d83414c2fb1618",
       "version_major": 2,
       "version_minor": 0
      },
      "text/plain": [
       "Train 11:   0%|          | 0/85 [00:00<?, ?it/s]"
      ]
     },
     "metadata": {},
     "output_type": "display_data"
    },
    {
     "data": {
      "application/vnd.jupyter.widget-view+json": {
       "model_id": "1a98a5e85de742a2a8aa3ff1da9ea1bb",
       "version_major": 2,
       "version_minor": 0
      },
      "text/plain": [
       "Eval AUC:   0%|          | 0/3 [00:00<?, ?it/s]"
      ]
     },
     "metadata": {},
     "output_type": "display_data"
    },
    {
     "data": {
      "application/vnd.jupyter.widget-view+json": {
       "model_id": "28b6e410cbbb4215b4e0630afc06ea13",
       "version_major": 2,
       "version_minor": 0
      },
      "text/plain": [
       "Eval Hits:   0%|          | 0/3 [00:00<?, ?it/s]"
      ]
     },
     "metadata": {},
     "output_type": "display_data"
    },
    {
     "data": {
      "application/vnd.jupyter.widget-view+json": {
       "model_id": "db217e6d142046959780d023c915e21a",
       "version_major": 2,
       "version_minor": 0
      },
      "text/plain": [
       "Train 12:   0%|          | 0/85 [00:00<?, ?it/s]"
      ]
     },
     "metadata": {},
     "output_type": "display_data"
    },
    {
     "data": {
      "application/vnd.jupyter.widget-view+json": {
       "model_id": "036e8b228bed4309862fa2731f9dcb16",
       "version_major": 2,
       "version_minor": 0
      },
      "text/plain": [
       "Eval AUC:   0%|          | 0/3 [00:00<?, ?it/s]"
      ]
     },
     "metadata": {},
     "output_type": "display_data"
    },
    {
     "data": {
      "application/vnd.jupyter.widget-view+json": {
       "model_id": "8cff425ba50543c9aba6b8ade8003b20",
       "version_major": 2,
       "version_minor": 0
      },
      "text/plain": [
       "Eval Hits:   0%|          | 0/3 [00:00<?, ?it/s]"
      ]
     },
     "metadata": {},
     "output_type": "display_data"
    },
    {
     "data": {
      "application/vnd.jupyter.widget-view+json": {
       "model_id": "298cb172e82148d9828add345f272196",
       "version_major": 2,
       "version_minor": 0
      },
      "text/plain": [
       "Train 13:   0%|          | 0/85 [00:00<?, ?it/s]"
      ]
     },
     "metadata": {},
     "output_type": "display_data"
    },
    {
     "data": {
      "application/vnd.jupyter.widget-view+json": {
       "model_id": "e3a77390f4244fa28c8b0dddd04f2191",
       "version_major": 2,
       "version_minor": 0
      },
      "text/plain": [
       "Eval AUC:   0%|          | 0/3 [00:00<?, ?it/s]"
      ]
     },
     "metadata": {},
     "output_type": "display_data"
    },
    {
     "data": {
      "application/vnd.jupyter.widget-view+json": {
       "model_id": "2ce0b6d9989347119e9cc89549850b20",
       "version_major": 2,
       "version_minor": 0
      },
      "text/plain": [
       "Eval Hits:   0%|          | 0/3 [00:00<?, ?it/s]"
      ]
     },
     "metadata": {},
     "output_type": "display_data"
    },
    {
     "data": {
      "application/vnd.jupyter.widget-view+json": {
       "model_id": "bfe0f932ec304d7c92047e2809925b8b",
       "version_major": 2,
       "version_minor": 0
      },
      "text/plain": [
       "Train 14:   0%|          | 0/85 [00:00<?, ?it/s]"
      ]
     },
     "metadata": {},
     "output_type": "display_data"
    },
    {
     "data": {
      "application/vnd.jupyter.widget-view+json": {
       "model_id": "95b1dbfef79b440e9bab616d890d2bf9",
       "version_major": 2,
       "version_minor": 0
      },
      "text/plain": [
       "Eval AUC:   0%|          | 0/3 [00:00<?, ?it/s]"
      ]
     },
     "metadata": {},
     "output_type": "display_data"
    },
    {
     "data": {
      "application/vnd.jupyter.widget-view+json": {
       "model_id": "4532970fd1154a70895b28083802f7d4",
       "version_major": 2,
       "version_minor": 0
      },
      "text/plain": [
       "Eval Hits:   0%|          | 0/3 [00:00<?, ?it/s]"
      ]
     },
     "metadata": {},
     "output_type": "display_data"
    },
    {
     "data": {
      "application/vnd.jupyter.widget-view+json": {
       "model_id": "96ec0e15f49e4a81acb2c0a5e51c2865",
       "version_major": 2,
       "version_minor": 0
      },
      "text/plain": [
       "Train 15:   0%|          | 0/85 [00:00<?, ?it/s]"
      ]
     },
     "metadata": {},
     "output_type": "display_data"
    },
    {
     "data": {
      "application/vnd.jupyter.widget-view+json": {
       "model_id": "a3709e36a91041a1803f22d8ef4473a7",
       "version_major": 2,
       "version_minor": 0
      },
      "text/plain": [
       "Eval AUC:   0%|          | 0/3 [00:00<?, ?it/s]"
      ]
     },
     "metadata": {},
     "output_type": "display_data"
    },
    {
     "data": {
      "application/vnd.jupyter.widget-view+json": {
       "model_id": "a8678b02ed14477194730ec0c349c818",
       "version_major": 2,
       "version_minor": 0
      },
      "text/plain": [
       "Eval Hits:   0%|          | 0/3 [00:00<?, ?it/s]"
      ]
     },
     "metadata": {},
     "output_type": "display_data"
    },
    {
     "data": {
      "application/vnd.jupyter.widget-view+json": {
       "model_id": "0c98c6fd0f4d444d90f1dc411526241b",
       "version_major": 2,
       "version_minor": 0
      },
      "text/plain": [
       "Train 16:   0%|          | 0/85 [00:00<?, ?it/s]"
      ]
     },
     "metadata": {},
     "output_type": "display_data"
    },
    {
     "data": {
      "application/vnd.jupyter.widget-view+json": {
       "model_id": "ba4a07003c4b4d6aa76356d37084a142",
       "version_major": 2,
       "version_minor": 0
      },
      "text/plain": [
       "Eval AUC:   0%|          | 0/3 [00:00<?, ?it/s]"
      ]
     },
     "metadata": {},
     "output_type": "display_data"
    },
    {
     "data": {
      "application/vnd.jupyter.widget-view+json": {
       "model_id": "17008ea78f2d483e9a7aee47a9ed764c",
       "version_major": 2,
       "version_minor": 0
      },
      "text/plain": [
       "Eval Hits:   0%|          | 0/3 [00:00<?, ?it/s]"
      ]
     },
     "metadata": {},
     "output_type": "display_data"
    },
    {
     "data": {
      "application/vnd.jupyter.widget-view+json": {
       "model_id": "aca7a5237d414a2895004f2ca1cac847",
       "version_major": 2,
       "version_minor": 0
      },
      "text/plain": [
       "Train 17:   0%|          | 0/85 [00:00<?, ?it/s]"
      ]
     },
     "metadata": {},
     "output_type": "display_data"
    },
    {
     "data": {
      "application/vnd.jupyter.widget-view+json": {
       "model_id": "a2bf647b73ae4ca49dd875d1c995aeda",
       "version_major": 2,
       "version_minor": 0
      },
      "text/plain": [
       "Eval AUC:   0%|          | 0/3 [00:00<?, ?it/s]"
      ]
     },
     "metadata": {},
     "output_type": "display_data"
    },
    {
     "data": {
      "application/vnd.jupyter.widget-view+json": {
       "model_id": "09a5720387a344bdaacce2226a38ad04",
       "version_major": 2,
       "version_minor": 0
      },
      "text/plain": [
       "Eval Hits:   0%|          | 0/3 [00:00<?, ?it/s]"
      ]
     },
     "metadata": {},
     "output_type": "display_data"
    },
    {
     "data": {
      "application/vnd.jupyter.widget-view+json": {
       "model_id": "109c8b67b4de4fb2b2e7483a05c29e30",
       "version_major": 2,
       "version_minor": 0
      },
      "text/plain": [
       "Train 18:   0%|          | 0/85 [00:00<?, ?it/s]"
      ]
     },
     "metadata": {},
     "output_type": "display_data"
    },
    {
     "data": {
      "application/vnd.jupyter.widget-view+json": {
       "model_id": "fc01af62e3ec4f5780e4310c467efe28",
       "version_major": 2,
       "version_minor": 0
      },
      "text/plain": [
       "Eval AUC:   0%|          | 0/3 [00:00<?, ?it/s]"
      ]
     },
     "metadata": {},
     "output_type": "display_data"
    },
    {
     "data": {
      "application/vnd.jupyter.widget-view+json": {
       "model_id": "de939929e34c4c71aa2f7b264ad5fd21",
       "version_major": 2,
       "version_minor": 0
      },
      "text/plain": [
       "Eval Hits:   0%|          | 0/3 [00:00<?, ?it/s]"
      ]
     },
     "metadata": {},
     "output_type": "display_data"
    },
    {
     "data": {
      "application/vnd.jupyter.widget-view+json": {
       "model_id": "2a44ea79fd9044f0a2dc20ce9bb8dd40",
       "version_major": 2,
       "version_minor": 0
      },
      "text/plain": [
       "Train 19:   0%|          | 0/85 [00:00<?, ?it/s]"
      ]
     },
     "metadata": {},
     "output_type": "display_data"
    },
    {
     "data": {
      "application/vnd.jupyter.widget-view+json": {
       "model_id": "ec1a51f716e643898ba6934b55b56abe",
       "version_major": 2,
       "version_minor": 0
      },
      "text/plain": [
       "Eval AUC:   0%|          | 0/3 [00:00<?, ?it/s]"
      ]
     },
     "metadata": {},
     "output_type": "display_data"
    },
    {
     "data": {
      "application/vnd.jupyter.widget-view+json": {
       "model_id": "b5233213057142c3914ad7665a694e8b",
       "version_major": 2,
       "version_minor": 0
      },
      "text/plain": [
       "Eval Hits:   0%|          | 0/3 [00:00<?, ?it/s]"
      ]
     },
     "metadata": {},
     "output_type": "display_data"
    },
    {
     "data": {
      "application/vnd.jupyter.widget-view+json": {
       "model_id": "565f5805a87445899b7cf47c78c8753f",
       "version_major": 2,
       "version_minor": 0
      },
      "text/plain": [
       "Train 20:   0%|          | 0/85 [00:00<?, ?it/s]"
      ]
     },
     "metadata": {},
     "output_type": "display_data"
    },
    {
     "data": {
      "application/vnd.jupyter.widget-view+json": {
       "model_id": "f09eca675dd24cb6915d8da7b7efb520",
       "version_major": 2,
       "version_minor": 0
      },
      "text/plain": [
       "Eval AUC:   0%|          | 0/3 [00:00<?, ?it/s]"
      ]
     },
     "metadata": {},
     "output_type": "display_data"
    },
    {
     "data": {
      "application/vnd.jupyter.widget-view+json": {
       "model_id": "9bc297836b2a4ff2b6a93cdf03137c63",
       "version_major": 2,
       "version_minor": 0
      },
      "text/plain": [
       "Eval Hits:   0%|          | 0/3 [00:00<?, ?it/s]"
      ]
     },
     "metadata": {},
     "output_type": "display_data"
    },
    {
     "data": {
      "application/vnd.jupyter.widget-view+json": {
       "model_id": "ddb032eb575a459a916c0424fa286651",
       "version_major": 2,
       "version_minor": 0
      },
      "text/plain": [
       "Train 21:   0%|          | 0/85 [00:00<?, ?it/s]"
      ]
     },
     "metadata": {},
     "output_type": "display_data"
    },
    {
     "data": {
      "application/vnd.jupyter.widget-view+json": {
       "model_id": "a3084f122fd542cd96c35a4487fdad14",
       "version_major": 2,
       "version_minor": 0
      },
      "text/plain": [
       "Eval AUC:   0%|          | 0/3 [00:00<?, ?it/s]"
      ]
     },
     "metadata": {},
     "output_type": "display_data"
    },
    {
     "data": {
      "application/vnd.jupyter.widget-view+json": {
       "model_id": "e446c6f431734b9192983b7307538de9",
       "version_major": 2,
       "version_minor": 0
      },
      "text/plain": [
       "Eval Hits:   0%|          | 0/3 [00:00<?, ?it/s]"
      ]
     },
     "metadata": {},
     "output_type": "display_data"
    },
    {
     "data": {
      "application/vnd.jupyter.widget-view+json": {
       "model_id": "6e7418e4080a4edbb6528e9e188db095",
       "version_major": 2,
       "version_minor": 0
      },
      "text/plain": [
       "Train 22:   0%|          | 0/85 [00:00<?, ?it/s]"
      ]
     },
     "metadata": {},
     "output_type": "display_data"
    },
    {
     "data": {
      "application/vnd.jupyter.widget-view+json": {
       "model_id": "269438a9dc134970806f7c94f9fc31af",
       "version_major": 2,
       "version_minor": 0
      },
      "text/plain": [
       "Eval AUC:   0%|          | 0/3 [00:00<?, ?it/s]"
      ]
     },
     "metadata": {},
     "output_type": "display_data"
    },
    {
     "data": {
      "application/vnd.jupyter.widget-view+json": {
       "model_id": "cd6bc22cc27944dd9c2ade6a4d15fc1d",
       "version_major": 2,
       "version_minor": 0
      },
      "text/plain": [
       "Eval Hits:   0%|          | 0/3 [00:00<?, ?it/s]"
      ]
     },
     "metadata": {},
     "output_type": "display_data"
    },
    {
     "data": {
      "application/vnd.jupyter.widget-view+json": {
       "model_id": "181913d45f5d4e9eb0f83b5a77d06f75",
       "version_major": 2,
       "version_minor": 0
      },
      "text/plain": [
       "Train 23:   0%|          | 0/85 [00:00<?, ?it/s]"
      ]
     },
     "metadata": {},
     "output_type": "display_data"
    },
    {
     "data": {
      "application/vnd.jupyter.widget-view+json": {
       "model_id": "d86ef91aaa8e4d80bff779c279da3101",
       "version_major": 2,
       "version_minor": 0
      },
      "text/plain": [
       "Eval AUC:   0%|          | 0/3 [00:00<?, ?it/s]"
      ]
     },
     "metadata": {},
     "output_type": "display_data"
    },
    {
     "data": {
      "application/vnd.jupyter.widget-view+json": {
       "model_id": "e0e3867a3de6480a8588e2ea6ba2a649",
       "version_major": 2,
       "version_minor": 0
      },
      "text/plain": [
       "Eval Hits:   0%|          | 0/3 [00:00<?, ?it/s]"
      ]
     },
     "metadata": {},
     "output_type": "display_data"
    },
    {
     "data": {
      "application/vnd.jupyter.widget-view+json": {
       "model_id": "535571c6db2a499e8e0129b38cd5669b",
       "version_major": 2,
       "version_minor": 0
      },
      "text/plain": [
       "Train 24:   0%|          | 0/85 [00:00<?, ?it/s]"
      ]
     },
     "metadata": {},
     "output_type": "display_data"
    },
    {
     "data": {
      "application/vnd.jupyter.widget-view+json": {
       "model_id": "d614599d52d441d2b084f6891d6f6373",
       "version_major": 2,
       "version_minor": 0
      },
      "text/plain": [
       "Eval AUC:   0%|          | 0/3 [00:00<?, ?it/s]"
      ]
     },
     "metadata": {},
     "output_type": "display_data"
    },
    {
     "data": {
      "application/vnd.jupyter.widget-view+json": {
       "model_id": "a6d5e78e95aa4b15b1ebeba2265639cf",
       "version_major": 2,
       "version_minor": 0
      },
      "text/plain": [
       "Eval Hits:   0%|          | 0/3 [00:00<?, ?it/s]"
      ]
     },
     "metadata": {},
     "output_type": "display_data"
    },
    {
     "data": {
      "application/vnd.jupyter.widget-view+json": {
       "model_id": "bda037e45bad4129b29b28070e32c698",
       "version_major": 2,
       "version_minor": 0
      },
      "text/plain": [
       "Train 25:   0%|          | 0/85 [00:00<?, ?it/s]"
      ]
     },
     "metadata": {},
     "output_type": "display_data"
    },
    {
     "data": {
      "application/vnd.jupyter.widget-view+json": {
       "model_id": "ed8010a20e8342358987b3c93e2c8f32",
       "version_major": 2,
       "version_minor": 0
      },
      "text/plain": [
       "Eval AUC:   0%|          | 0/3 [00:00<?, ?it/s]"
      ]
     },
     "metadata": {},
     "output_type": "display_data"
    },
    {
     "data": {
      "application/vnd.jupyter.widget-view+json": {
       "model_id": "892656194f244999a7842c6c929dd11d",
       "version_major": 2,
       "version_minor": 0
      },
      "text/plain": [
       "Eval Hits:   0%|          | 0/3 [00:00<?, ?it/s]"
      ]
     },
     "metadata": {},
     "output_type": "display_data"
    },
    {
     "data": {
      "application/vnd.jupyter.widget-view+json": {
       "model_id": "f0f4bcf3b7d148dfa74f41f578fcec4c",
       "version_major": 2,
       "version_minor": 0
      },
      "text/plain": [
       "Train 26:   0%|          | 0/85 [00:00<?, ?it/s]"
      ]
     },
     "metadata": {},
     "output_type": "display_data"
    },
    {
     "data": {
      "application/vnd.jupyter.widget-view+json": {
       "model_id": "6e5a434ac4474122b1b1a6c9c2a49520",
       "version_major": 2,
       "version_minor": 0
      },
      "text/plain": [
       "Eval AUC:   0%|          | 0/3 [00:00<?, ?it/s]"
      ]
     },
     "metadata": {},
     "output_type": "display_data"
    },
    {
     "data": {
      "application/vnd.jupyter.widget-view+json": {
       "model_id": "b61e8d8485254b64b9e1c27eb6554f9e",
       "version_major": 2,
       "version_minor": 0
      },
      "text/plain": [
       "Eval Hits:   0%|          | 0/3 [00:00<?, ?it/s]"
      ]
     },
     "metadata": {},
     "output_type": "display_data"
    },
    {
     "data": {
      "application/vnd.jupyter.widget-view+json": {
       "model_id": "c736d8a613f54477a78f4cc7f436b542",
       "version_major": 2,
       "version_minor": 0
      },
      "text/plain": [
       "Train 27:   0%|          | 0/85 [00:00<?, ?it/s]"
      ]
     },
     "metadata": {},
     "output_type": "display_data"
    },
    {
     "data": {
      "application/vnd.jupyter.widget-view+json": {
       "model_id": "067d0ec359bb4090ad65a59f7d11fc55",
       "version_major": 2,
       "version_minor": 0
      },
      "text/plain": [
       "Eval AUC:   0%|          | 0/3 [00:00<?, ?it/s]"
      ]
     },
     "metadata": {},
     "output_type": "display_data"
    },
    {
     "data": {
      "application/vnd.jupyter.widget-view+json": {
       "model_id": "4eda5e37a17a4d89b0f430c28f68cb1d",
       "version_major": 2,
       "version_minor": 0
      },
      "text/plain": [
       "Eval Hits:   0%|          | 0/3 [00:00<?, ?it/s]"
      ]
     },
     "metadata": {},
     "output_type": "display_data"
    },
    {
     "data": {
      "application/vnd.jupyter.widget-view+json": {
       "model_id": "77732a26ee704a04b6d6142dde529dd5",
       "version_major": 2,
       "version_minor": 0
      },
      "text/plain": [
       "Train 28:   0%|          | 0/85 [00:00<?, ?it/s]"
      ]
     },
     "metadata": {},
     "output_type": "display_data"
    },
    {
     "data": {
      "application/vnd.jupyter.widget-view+json": {
       "model_id": "e54d5ab95ff04c489166e8dfefe6d9cb",
       "version_major": 2,
       "version_minor": 0
      },
      "text/plain": [
       "Eval AUC:   0%|          | 0/3 [00:00<?, ?it/s]"
      ]
     },
     "metadata": {},
     "output_type": "display_data"
    },
    {
     "data": {
      "application/vnd.jupyter.widget-view+json": {
       "model_id": "298a00d6912f4b40a951fcfcd9d33077",
       "version_major": 2,
       "version_minor": 0
      },
      "text/plain": [
       "Eval Hits:   0%|          | 0/3 [00:00<?, ?it/s]"
      ]
     },
     "metadata": {},
     "output_type": "display_data"
    },
    {
     "data": {
      "application/vnd.jupyter.widget-view+json": {
       "model_id": "b79bf536fe7d4cabbbd6bcca37352d34",
       "version_major": 2,
       "version_minor": 0
      },
      "text/plain": [
       "Train 29:   0%|          | 0/85 [00:00<?, ?it/s]"
      ]
     },
     "metadata": {},
     "output_type": "display_data"
    },
    {
     "data": {
      "application/vnd.jupyter.widget-view+json": {
       "model_id": "0c1be27a73194cc09a87dd3029b69f01",
       "version_major": 2,
       "version_minor": 0
      },
      "text/plain": [
       "Eval AUC:   0%|          | 0/3 [00:00<?, ?it/s]"
      ]
     },
     "metadata": {},
     "output_type": "display_data"
    },
    {
     "data": {
      "application/vnd.jupyter.widget-view+json": {
       "model_id": "7667b88be5814d72ad312b5e9b66cdff",
       "version_major": 2,
       "version_minor": 0
      },
      "text/plain": [
       "Eval Hits:   0%|          | 0/3 [00:00<?, ?it/s]"
      ]
     },
     "metadata": {},
     "output_type": "display_data"
    },
    {
     "data": {
      "application/vnd.jupyter.widget-view+json": {
       "model_id": "4bc4ed753e4842daa8fde167498a187d",
       "version_major": 2,
       "version_minor": 0
      },
      "text/plain": [
       "Train 30:   0%|          | 0/85 [00:00<?, ?it/s]"
      ]
     },
     "metadata": {},
     "output_type": "display_data"
    },
    {
     "data": {
      "application/vnd.jupyter.widget-view+json": {
       "model_id": "a3315c8e3a384224b924a0dfec10b920",
       "version_major": 2,
       "version_minor": 0
      },
      "text/plain": [
       "Eval AUC:   0%|          | 0/3 [00:00<?, ?it/s]"
      ]
     },
     "metadata": {},
     "output_type": "display_data"
    },
    {
     "data": {
      "application/vnd.jupyter.widget-view+json": {
       "model_id": "5134d760b4c94b6c8dbdc2dcc70052ee",
       "version_major": 2,
       "version_minor": 0
      },
      "text/plain": [
       "Eval Hits:   0%|          | 0/3 [00:00<?, ?it/s]"
      ]
     },
     "metadata": {},
     "output_type": "display_data"
    },
    {
     "data": {
      "application/vnd.jupyter.widget-view+json": {
       "model_id": "d8505c6f1031449d8e45b8625ad6cb8f",
       "version_major": 2,
       "version_minor": 0
      },
      "text/plain": [
       "Train 31:   0%|          | 0/85 [00:00<?, ?it/s]"
      ]
     },
     "metadata": {},
     "output_type": "display_data"
    },
    {
     "data": {
      "application/vnd.jupyter.widget-view+json": {
       "model_id": "9b98a25d26744184b641905c563185ae",
       "version_major": 2,
       "version_minor": 0
      },
      "text/plain": [
       "Eval AUC:   0%|          | 0/3 [00:00<?, ?it/s]"
      ]
     },
     "metadata": {},
     "output_type": "display_data"
    },
    {
     "data": {
      "application/vnd.jupyter.widget-view+json": {
       "model_id": "64e9a9dadf5041a2b01b1b8eecab5570",
       "version_major": 2,
       "version_minor": 0
      },
      "text/plain": [
       "Eval Hits:   0%|          | 0/3 [00:00<?, ?it/s]"
      ]
     },
     "metadata": {},
     "output_type": "display_data"
    },
    {
     "data": {
      "application/vnd.jupyter.widget-view+json": {
       "model_id": "f36ea4935c594a6e8c515bf33a46e0e9",
       "version_major": 2,
       "version_minor": 0
      },
      "text/plain": [
       "Train 32:   0%|          | 0/85 [00:00<?, ?it/s]"
      ]
     },
     "metadata": {},
     "output_type": "display_data"
    },
    {
     "data": {
      "application/vnd.jupyter.widget-view+json": {
       "model_id": "1b9588e2295546e48326eb7b9aeaefc0",
       "version_major": 2,
       "version_minor": 0
      },
      "text/plain": [
       "Eval AUC:   0%|          | 0/3 [00:00<?, ?it/s]"
      ]
     },
     "metadata": {},
     "output_type": "display_data"
    },
    {
     "data": {
      "application/vnd.jupyter.widget-view+json": {
       "model_id": "0e03afc54028473ca2767684eb2c0420",
       "version_major": 2,
       "version_minor": 0
      },
      "text/plain": [
       "Eval Hits:   0%|          | 0/3 [00:00<?, ?it/s]"
      ]
     },
     "metadata": {},
     "output_type": "display_data"
    },
    {
     "data": {
      "application/vnd.jupyter.widget-view+json": {
       "model_id": "19d0e915064c46e7a5994228c556ee0e",
       "version_major": 2,
       "version_minor": 0
      },
      "text/plain": [
       "Train 33:   0%|          | 0/85 [00:00<?, ?it/s]"
      ]
     },
     "metadata": {},
     "output_type": "display_data"
    },
    {
     "data": {
      "application/vnd.jupyter.widget-view+json": {
       "model_id": "2e2b18cafa7f4e1ebfc15f238b27cdc4",
       "version_major": 2,
       "version_minor": 0
      },
      "text/plain": [
       "Eval AUC:   0%|          | 0/3 [00:00<?, ?it/s]"
      ]
     },
     "metadata": {},
     "output_type": "display_data"
    },
    {
     "data": {
      "application/vnd.jupyter.widget-view+json": {
       "model_id": "81f8b5c9322d46218d2e967f0d9d2409",
       "version_major": 2,
       "version_minor": 0
      },
      "text/plain": [
       "Eval Hits:   0%|          | 0/3 [00:00<?, ?it/s]"
      ]
     },
     "metadata": {},
     "output_type": "display_data"
    },
    {
     "data": {
      "application/vnd.jupyter.widget-view+json": {
       "model_id": "9476875299b948d2937842bce9557a3e",
       "version_major": 2,
       "version_minor": 0
      },
      "text/plain": [
       "Train 34:   0%|          | 0/85 [00:00<?, ?it/s]"
      ]
     },
     "metadata": {},
     "output_type": "display_data"
    },
    {
     "data": {
      "application/vnd.jupyter.widget-view+json": {
       "model_id": "74b2ed06c33e438cbb6e670478b35be5",
       "version_major": 2,
       "version_minor": 0
      },
      "text/plain": [
       "Eval AUC:   0%|          | 0/3 [00:00<?, ?it/s]"
      ]
     },
     "metadata": {},
     "output_type": "display_data"
    },
    {
     "data": {
      "application/vnd.jupyter.widget-view+json": {
       "model_id": "95d59f164b484603b903a8566a25d57f",
       "version_major": 2,
       "version_minor": 0
      },
      "text/plain": [
       "Eval Hits:   0%|          | 0/3 [00:00<?, ?it/s]"
      ]
     },
     "metadata": {},
     "output_type": "display_data"
    },
    {
     "data": {
      "application/vnd.jupyter.widget-view+json": {
       "model_id": "96c515a7f0f144f3ac21a062830ae05e",
       "version_major": 2,
       "version_minor": 0
      },
      "text/plain": [
       "Train 35:   0%|          | 0/85 [00:00<?, ?it/s]"
      ]
     },
     "metadata": {},
     "output_type": "display_data"
    },
    {
     "data": {
      "application/vnd.jupyter.widget-view+json": {
       "model_id": "2fc5e6b435684975bcb206c2c660ce06",
       "version_major": 2,
       "version_minor": 0
      },
      "text/plain": [
       "Eval AUC:   0%|          | 0/3 [00:00<?, ?it/s]"
      ]
     },
     "metadata": {},
     "output_type": "display_data"
    },
    {
     "data": {
      "application/vnd.jupyter.widget-view+json": {
       "model_id": "92bc984ff1364dae8a83a86185102b17",
       "version_major": 2,
       "version_minor": 0
      },
      "text/plain": [
       "Eval Hits:   0%|          | 0/3 [00:00<?, ?it/s]"
      ]
     },
     "metadata": {},
     "output_type": "display_data"
    },
    {
     "name": "stdout",
     "output_type": "stream",
     "text": [
      "Early stopping at epoch 35 (patience=10).\n",
      "Restored best model from epoch 25 | AUC=0.8206 | Hits@10=0.6707\n",
      "Model Training Results - 2025-10-14 05:15:13\n",
      "================================================================================\n",
      "\n",
      "\n",
      "GIN Training History\n",
      "============================================================\n",
      "\n",
      "Best Validation AUC: 0.8206\n",
      "Total Epochs Trained: 35\n",
      "Early Stopping Best Score: 0.6707 (Hits@10 at epoch 25)\n",
      "\n",
      "------------------------------------------------------------\n",
      "Epoch    Train Loss      Val AUC         Val Hits@10    \n",
      "------------------------------------------------------------\n",
      "1        1.2443          0.6995          0.3640         \n",
      "5        0.4558          0.7847          0.5606         \n",
      "10       0.4306          0.8112          0.6266         \n",
      "15       0.4198          0.8022          0.6346         \n",
      "20       0.4126          0.8192          0.6661         \n",
      "25       0.4089          0.8206          0.6707         \n",
      "30       0.4050          0.7958          0.6546         \n",
      "35       0.4041          0.8090          0.6707         \n",
      "\n",
      "\n",
      "✅ Report saved to: /Users/choonggi/Coding/jetbrains/sc4020-Project-1/GIN/results/gin_report_embed_dim=128|mlp_depth=2|aggre=4.txt\n"
     ]
    }
   ],
   "source": [
    "dm = KGDataModuleCollapsed(train_p, valid_p, test_p, add_reverse=True)\n",
    "hidden_layers,num_layers, emb_dim = 2, 4, 128\n",
    "encoder = GINEncoder(num_nodes=len(dm.ent2id), hidden_layers=hidden_layers, emb_dim=emb_dim, num_layers=num_layers, dropout=0.1)\n",
    "\n",
    "result = train_linkpred(\n",
    "    encoder, dm,\n",
    "    epochs=100, lr=1e-3, weight_decay=1e-4, patience=10,\n",
    "    show_tqdm=True,\n",
    "    save_best_path=f\"checkpoints/checkpoints_gin/{dataset}/gin_best_embed_dim={emb_dim}|mlp_depth={hidden_layers}|aggre={num_layers}.pt\",\n",
    "    save_on_improve=True                        # save every improvement\n",
    ")\n",
    "print_training_report(\"GIN\", result, save_path=f\"results/results_gin/{dataset}/gin_report_embed_dim={emb_dim}|mlp_depth={hidden_layers}|aggre={num_layers}.txt\")"
   ]
  },
  {
   "cell_type": "code",
   "execution_count": 6,
   "id": "d18aee001c051059",
   "metadata": {
    "ExecuteTime": {
     "end_time": "2025-10-13T22:39:30.480886Z",
     "start_time": "2025-10-13T21:15:13.093424Z"
    }
   },
   "outputs": [
    {
     "data": {
      "application/vnd.jupyter.widget-view+json": {
       "model_id": "20c8b6da1602405c8b61a8e0273b54b5",
       "version_major": 2,
       "version_minor": 0
      },
      "text/plain": [
       "Epochs:   0%|          | 0/100 [00:00<?, ?it/s]"
      ]
     },
     "metadata": {},
     "output_type": "display_data"
    },
    {
     "data": {
      "application/vnd.jupyter.widget-view+json": {
       "model_id": "ef2b9a76d46e489fb0eb496503096084",
       "version_major": 2,
       "version_minor": 0
      },
      "text/plain": [
       "Train 1:   0%|          | 0/85 [00:00<?, ?it/s]"
      ]
     },
     "metadata": {},
     "output_type": "display_data"
    },
    {
     "data": {
      "application/vnd.jupyter.widget-view+json": {
       "model_id": "bb35096ef4b34532a06b32a8f110a5f7",
       "version_major": 2,
       "version_minor": 0
      },
      "text/plain": [
       "Eval AUC:   0%|          | 0/3 [00:00<?, ?it/s]"
      ]
     },
     "metadata": {},
     "output_type": "display_data"
    },
    {
     "data": {
      "application/vnd.jupyter.widget-view+json": {
       "model_id": "9126b9fd0e544bdb9675d722ade012db",
       "version_major": 2,
       "version_minor": 0
      },
      "text/plain": [
       "Eval Hits:   0%|          | 0/3 [00:00<?, ?it/s]"
      ]
     },
     "metadata": {},
     "output_type": "display_data"
    },
    {
     "data": {
      "application/vnd.jupyter.widget-view+json": {
       "model_id": "43af3f3eb2fb4e22a21da20ec1fb6ba2",
       "version_major": 2,
       "version_minor": 0
      },
      "text/plain": [
       "Train 2:   0%|          | 0/85 [00:00<?, ?it/s]"
      ]
     },
     "metadata": {},
     "output_type": "display_data"
    },
    {
     "data": {
      "application/vnd.jupyter.widget-view+json": {
       "model_id": "02f09b4abf6442508bafc86ecb832103",
       "version_major": 2,
       "version_minor": 0
      },
      "text/plain": [
       "Eval AUC:   0%|          | 0/3 [00:00<?, ?it/s]"
      ]
     },
     "metadata": {},
     "output_type": "display_data"
    },
    {
     "data": {
      "application/vnd.jupyter.widget-view+json": {
       "model_id": "31ba5d3d68c4439bb57d0cae71ee8e53",
       "version_major": 2,
       "version_minor": 0
      },
      "text/plain": [
       "Eval Hits:   0%|          | 0/3 [00:00<?, ?it/s]"
      ]
     },
     "metadata": {},
     "output_type": "display_data"
    },
    {
     "data": {
      "application/vnd.jupyter.widget-view+json": {
       "model_id": "0d744f72a1ae47c2abadf1a9d401ae85",
       "version_major": 2,
       "version_minor": 0
      },
      "text/plain": [
       "Train 3:   0%|          | 0/85 [00:00<?, ?it/s]"
      ]
     },
     "metadata": {},
     "output_type": "display_data"
    },
    {
     "data": {
      "application/vnd.jupyter.widget-view+json": {
       "model_id": "a240a6b39c544d039b61078bce41a9b0",
       "version_major": 2,
       "version_minor": 0
      },
      "text/plain": [
       "Eval AUC:   0%|          | 0/3 [00:00<?, ?it/s]"
      ]
     },
     "metadata": {},
     "output_type": "display_data"
    },
    {
     "data": {
      "application/vnd.jupyter.widget-view+json": {
       "model_id": "394fceff4a964543ad8f8ba7af5a1c20",
       "version_major": 2,
       "version_minor": 0
      },
      "text/plain": [
       "Eval Hits:   0%|          | 0/3 [00:00<?, ?it/s]"
      ]
     },
     "metadata": {},
     "output_type": "display_data"
    },
    {
     "data": {
      "application/vnd.jupyter.widget-view+json": {
       "model_id": "de65759efcc146eab86163f97280f8e6",
       "version_major": 2,
       "version_minor": 0
      },
      "text/plain": [
       "Train 4:   0%|          | 0/85 [00:00<?, ?it/s]"
      ]
     },
     "metadata": {},
     "output_type": "display_data"
    },
    {
     "data": {
      "application/vnd.jupyter.widget-view+json": {
       "model_id": "82453099653b4352b313035fc2a9d3bd",
       "version_major": 2,
       "version_minor": 0
      },
      "text/plain": [
       "Eval AUC:   0%|          | 0/3 [00:00<?, ?it/s]"
      ]
     },
     "metadata": {},
     "output_type": "display_data"
    },
    {
     "data": {
      "application/vnd.jupyter.widget-view+json": {
       "model_id": "41f1d9231e2447a294b0256fb3983d4d",
       "version_major": 2,
       "version_minor": 0
      },
      "text/plain": [
       "Eval Hits:   0%|          | 0/3 [00:00<?, ?it/s]"
      ]
     },
     "metadata": {},
     "output_type": "display_data"
    },
    {
     "data": {
      "application/vnd.jupyter.widget-view+json": {
       "model_id": "23f86a5337c847b7bdfa554940e4fdee",
       "version_major": 2,
       "version_minor": 0
      },
      "text/plain": [
       "Train 5:   0%|          | 0/85 [00:00<?, ?it/s]"
      ]
     },
     "metadata": {},
     "output_type": "display_data"
    },
    {
     "data": {
      "application/vnd.jupyter.widget-view+json": {
       "model_id": "055b1e38d07348069a51a856166bf2b4",
       "version_major": 2,
       "version_minor": 0
      },
      "text/plain": [
       "Eval AUC:   0%|          | 0/3 [00:00<?, ?it/s]"
      ]
     },
     "metadata": {},
     "output_type": "display_data"
    },
    {
     "data": {
      "application/vnd.jupyter.widget-view+json": {
       "model_id": "bfd686c928cd46119fa07713c946061f",
       "version_major": 2,
       "version_minor": 0
      },
      "text/plain": [
       "Eval Hits:   0%|          | 0/3 [00:00<?, ?it/s]"
      ]
     },
     "metadata": {},
     "output_type": "display_data"
    },
    {
     "data": {
      "application/vnd.jupyter.widget-view+json": {
       "model_id": "ec788a8762fe4b6396f2073b62c2863a",
       "version_major": 2,
       "version_minor": 0
      },
      "text/plain": [
       "Train 6:   0%|          | 0/85 [00:00<?, ?it/s]"
      ]
     },
     "metadata": {},
     "output_type": "display_data"
    },
    {
     "data": {
      "application/vnd.jupyter.widget-view+json": {
       "model_id": "8259155dbb2749a0a609fc4248c82b53",
       "version_major": 2,
       "version_minor": 0
      },
      "text/plain": [
       "Eval AUC:   0%|          | 0/3 [00:00<?, ?it/s]"
      ]
     },
     "metadata": {},
     "output_type": "display_data"
    },
    {
     "data": {
      "application/vnd.jupyter.widget-view+json": {
       "model_id": "3acf87260ea0425e81dba593281fd576",
       "version_major": 2,
       "version_minor": 0
      },
      "text/plain": [
       "Eval Hits:   0%|          | 0/3 [00:00<?, ?it/s]"
      ]
     },
     "metadata": {},
     "output_type": "display_data"
    },
    {
     "data": {
      "application/vnd.jupyter.widget-view+json": {
       "model_id": "c708d1804f9e4799901e457bdd4bc511",
       "version_major": 2,
       "version_minor": 0
      },
      "text/plain": [
       "Train 7:   0%|          | 0/85 [00:00<?, ?it/s]"
      ]
     },
     "metadata": {},
     "output_type": "display_data"
    },
    {
     "data": {
      "application/vnd.jupyter.widget-view+json": {
       "model_id": "7e23f88cb89e466e93f438846874b099",
       "version_major": 2,
       "version_minor": 0
      },
      "text/plain": [
       "Eval AUC:   0%|          | 0/3 [00:00<?, ?it/s]"
      ]
     },
     "metadata": {},
     "output_type": "display_data"
    },
    {
     "data": {
      "application/vnd.jupyter.widget-view+json": {
       "model_id": "e8e8d0d61eae436ba0f79850f325e0e5",
       "version_major": 2,
       "version_minor": 0
      },
      "text/plain": [
       "Eval Hits:   0%|          | 0/3 [00:00<?, ?it/s]"
      ]
     },
     "metadata": {},
     "output_type": "display_data"
    },
    {
     "data": {
      "application/vnd.jupyter.widget-view+json": {
       "model_id": "ac287fd72d344a1dbde8efe00893e964",
       "version_major": 2,
       "version_minor": 0
      },
      "text/plain": [
       "Train 8:   0%|          | 0/85 [00:00<?, ?it/s]"
      ]
     },
     "metadata": {},
     "output_type": "display_data"
    },
    {
     "data": {
      "application/vnd.jupyter.widget-view+json": {
       "model_id": "561cdaece4834caabd5cf56154e2407b",
       "version_major": 2,
       "version_minor": 0
      },
      "text/plain": [
       "Eval AUC:   0%|          | 0/3 [00:00<?, ?it/s]"
      ]
     },
     "metadata": {},
     "output_type": "display_data"
    },
    {
     "data": {
      "application/vnd.jupyter.widget-view+json": {
       "model_id": "73c9758c9ee043ffbe98439e322a335a",
       "version_major": 2,
       "version_minor": 0
      },
      "text/plain": [
       "Eval Hits:   0%|          | 0/3 [00:00<?, ?it/s]"
      ]
     },
     "metadata": {},
     "output_type": "display_data"
    },
    {
     "data": {
      "application/vnd.jupyter.widget-view+json": {
       "model_id": "60bb68ba28cb48269048a4f9790dfdda",
       "version_major": 2,
       "version_minor": 0
      },
      "text/plain": [
       "Train 9:   0%|          | 0/85 [00:00<?, ?it/s]"
      ]
     },
     "metadata": {},
     "output_type": "display_data"
    },
    {
     "data": {
      "application/vnd.jupyter.widget-view+json": {
       "model_id": "5402fad0bf3046f48903cc6abfdb334a",
       "version_major": 2,
       "version_minor": 0
      },
      "text/plain": [
       "Eval AUC:   0%|          | 0/3 [00:00<?, ?it/s]"
      ]
     },
     "metadata": {},
     "output_type": "display_data"
    },
    {
     "data": {
      "application/vnd.jupyter.widget-view+json": {
       "model_id": "c837b9f36cbf49baa0baee55028cdb89",
       "version_major": 2,
       "version_minor": 0
      },
      "text/plain": [
       "Eval Hits:   0%|          | 0/3 [00:00<?, ?it/s]"
      ]
     },
     "metadata": {},
     "output_type": "display_data"
    },
    {
     "data": {
      "application/vnd.jupyter.widget-view+json": {
       "model_id": "a8d001f368264e0d8caf9e8813cf9527",
       "version_major": 2,
       "version_minor": 0
      },
      "text/plain": [
       "Train 10:   0%|          | 0/85 [00:00<?, ?it/s]"
      ]
     },
     "metadata": {},
     "output_type": "display_data"
    },
    {
     "data": {
      "application/vnd.jupyter.widget-view+json": {
       "model_id": "35397b26b0764eb4bdc7ca90af30f4d7",
       "version_major": 2,
       "version_minor": 0
      },
      "text/plain": [
       "Eval AUC:   0%|          | 0/3 [00:00<?, ?it/s]"
      ]
     },
     "metadata": {},
     "output_type": "display_data"
    },
    {
     "data": {
      "application/vnd.jupyter.widget-view+json": {
       "model_id": "358d0fefd622449e8844587503fba7f4",
       "version_major": 2,
       "version_minor": 0
      },
      "text/plain": [
       "Eval Hits:   0%|          | 0/3 [00:00<?, ?it/s]"
      ]
     },
     "metadata": {},
     "output_type": "display_data"
    },
    {
     "data": {
      "application/vnd.jupyter.widget-view+json": {
       "model_id": "f89ac1f78dcd4f72bbb6dd3ad879d75b",
       "version_major": 2,
       "version_minor": 0
      },
      "text/plain": [
       "Train 11:   0%|          | 0/85 [00:00<?, ?it/s]"
      ]
     },
     "metadata": {},
     "output_type": "display_data"
    },
    {
     "data": {
      "application/vnd.jupyter.widget-view+json": {
       "model_id": "3a3406cc82ab473785dd5edce35883ad",
       "version_major": 2,
       "version_minor": 0
      },
      "text/plain": [
       "Eval AUC:   0%|          | 0/3 [00:00<?, ?it/s]"
      ]
     },
     "metadata": {},
     "output_type": "display_data"
    },
    {
     "data": {
      "application/vnd.jupyter.widget-view+json": {
       "model_id": "abaad7442e5644938f36edd6a151b246",
       "version_major": 2,
       "version_minor": 0
      },
      "text/plain": [
       "Eval Hits:   0%|          | 0/3 [00:00<?, ?it/s]"
      ]
     },
     "metadata": {},
     "output_type": "display_data"
    },
    {
     "data": {
      "application/vnd.jupyter.widget-view+json": {
       "model_id": "40ad6e99c57a45488f72b75221d58d94",
       "version_major": 2,
       "version_minor": 0
      },
      "text/plain": [
       "Train 12:   0%|          | 0/85 [00:00<?, ?it/s]"
      ]
     },
     "metadata": {},
     "output_type": "display_data"
    },
    {
     "data": {
      "application/vnd.jupyter.widget-view+json": {
       "model_id": "182b00deb9364715a14fbfe530affba6",
       "version_major": 2,
       "version_minor": 0
      },
      "text/plain": [
       "Eval AUC:   0%|          | 0/3 [00:00<?, ?it/s]"
      ]
     },
     "metadata": {},
     "output_type": "display_data"
    },
    {
     "data": {
      "application/vnd.jupyter.widget-view+json": {
       "model_id": "22e2dddbec85402abccf990817d36f79",
       "version_major": 2,
       "version_minor": 0
      },
      "text/plain": [
       "Eval Hits:   0%|          | 0/3 [00:00<?, ?it/s]"
      ]
     },
     "metadata": {},
     "output_type": "display_data"
    },
    {
     "data": {
      "application/vnd.jupyter.widget-view+json": {
       "model_id": "b6f1ab70ac3744499e4a08a85b815e1b",
       "version_major": 2,
       "version_minor": 0
      },
      "text/plain": [
       "Train 13:   0%|          | 0/85 [00:00<?, ?it/s]"
      ]
     },
     "metadata": {},
     "output_type": "display_data"
    },
    {
     "data": {
      "application/vnd.jupyter.widget-view+json": {
       "model_id": "681de44f03c245aa8b283d4500757cb9",
       "version_major": 2,
       "version_minor": 0
      },
      "text/plain": [
       "Eval AUC:   0%|          | 0/3 [00:00<?, ?it/s]"
      ]
     },
     "metadata": {},
     "output_type": "display_data"
    },
    {
     "data": {
      "application/vnd.jupyter.widget-view+json": {
       "model_id": "b0a82b31b829477099dfc8a255b58ae4",
       "version_major": 2,
       "version_minor": 0
      },
      "text/plain": [
       "Eval Hits:   0%|          | 0/3 [00:00<?, ?it/s]"
      ]
     },
     "metadata": {},
     "output_type": "display_data"
    },
    {
     "data": {
      "application/vnd.jupyter.widget-view+json": {
       "model_id": "05565dc52c674824a85d9dd29f5e15eb",
       "version_major": 2,
       "version_minor": 0
      },
      "text/plain": [
       "Train 14:   0%|          | 0/85 [00:00<?, ?it/s]"
      ]
     },
     "metadata": {},
     "output_type": "display_data"
    },
    {
     "data": {
      "application/vnd.jupyter.widget-view+json": {
       "model_id": "1ff98455d8a141178d5c3f55ff4c8f43",
       "version_major": 2,
       "version_minor": 0
      },
      "text/plain": [
       "Eval AUC:   0%|          | 0/3 [00:00<?, ?it/s]"
      ]
     },
     "metadata": {},
     "output_type": "display_data"
    },
    {
     "data": {
      "application/vnd.jupyter.widget-view+json": {
       "model_id": "e77886fe3b7a429398a27247af830f92",
       "version_major": 2,
       "version_minor": 0
      },
      "text/plain": [
       "Eval Hits:   0%|          | 0/3 [00:00<?, ?it/s]"
      ]
     },
     "metadata": {},
     "output_type": "display_data"
    },
    {
     "data": {
      "application/vnd.jupyter.widget-view+json": {
       "model_id": "8c4f12ceee3d4c249514e768b63548af",
       "version_major": 2,
       "version_minor": 0
      },
      "text/plain": [
       "Train 15:   0%|          | 0/85 [00:00<?, ?it/s]"
      ]
     },
     "metadata": {},
     "output_type": "display_data"
    },
    {
     "data": {
      "application/vnd.jupyter.widget-view+json": {
       "model_id": "54571e1c97b747f5af4dbe9aef2e5f9f",
       "version_major": 2,
       "version_minor": 0
      },
      "text/plain": [
       "Eval AUC:   0%|          | 0/3 [00:00<?, ?it/s]"
      ]
     },
     "metadata": {},
     "output_type": "display_data"
    },
    {
     "data": {
      "application/vnd.jupyter.widget-view+json": {
       "model_id": "a111720b8e7d4d45a44d22f79a2367b5",
       "version_major": 2,
       "version_minor": 0
      },
      "text/plain": [
       "Eval Hits:   0%|          | 0/3 [00:00<?, ?it/s]"
      ]
     },
     "metadata": {},
     "output_type": "display_data"
    },
    {
     "data": {
      "application/vnd.jupyter.widget-view+json": {
       "model_id": "3cd88a41fb654fa3bbad1c8835acdebb",
       "version_major": 2,
       "version_minor": 0
      },
      "text/plain": [
       "Train 16:   0%|          | 0/85 [00:00<?, ?it/s]"
      ]
     },
     "metadata": {},
     "output_type": "display_data"
    },
    {
     "data": {
      "application/vnd.jupyter.widget-view+json": {
       "model_id": "3c8cede128d0413bbf171793e2cfd513",
       "version_major": 2,
       "version_minor": 0
      },
      "text/plain": [
       "Eval AUC:   0%|          | 0/3 [00:00<?, ?it/s]"
      ]
     },
     "metadata": {},
     "output_type": "display_data"
    },
    {
     "data": {
      "application/vnd.jupyter.widget-view+json": {
       "model_id": "b2586a9c51a944a591b544143b602292",
       "version_major": 2,
       "version_minor": 0
      },
      "text/plain": [
       "Eval Hits:   0%|          | 0/3 [00:00<?, ?it/s]"
      ]
     },
     "metadata": {},
     "output_type": "display_data"
    },
    {
     "data": {
      "application/vnd.jupyter.widget-view+json": {
       "model_id": "66258672444f445988abaf0871c680a1",
       "version_major": 2,
       "version_minor": 0
      },
      "text/plain": [
       "Train 17:   0%|          | 0/85 [00:00<?, ?it/s]"
      ]
     },
     "metadata": {},
     "output_type": "display_data"
    },
    {
     "data": {
      "application/vnd.jupyter.widget-view+json": {
       "model_id": "69406ed0be45447590b2c85a32868316",
       "version_major": 2,
       "version_minor": 0
      },
      "text/plain": [
       "Eval AUC:   0%|          | 0/3 [00:00<?, ?it/s]"
      ]
     },
     "metadata": {},
     "output_type": "display_data"
    },
    {
     "data": {
      "application/vnd.jupyter.widget-view+json": {
       "model_id": "6d6c53647fa840d9bdab0f21ed06d2e6",
       "version_major": 2,
       "version_minor": 0
      },
      "text/plain": [
       "Eval Hits:   0%|          | 0/3 [00:00<?, ?it/s]"
      ]
     },
     "metadata": {},
     "output_type": "display_data"
    },
    {
     "data": {
      "application/vnd.jupyter.widget-view+json": {
       "model_id": "498ae48b3c08464f8c28d4b9e8924411",
       "version_major": 2,
       "version_minor": 0
      },
      "text/plain": [
       "Train 18:   0%|          | 0/85 [00:00<?, ?it/s]"
      ]
     },
     "metadata": {},
     "output_type": "display_data"
    },
    {
     "data": {
      "application/vnd.jupyter.widget-view+json": {
       "model_id": "a7535054074144649cd865891eff9ef8",
       "version_major": 2,
       "version_minor": 0
      },
      "text/plain": [
       "Eval AUC:   0%|          | 0/3 [00:00<?, ?it/s]"
      ]
     },
     "metadata": {},
     "output_type": "display_data"
    },
    {
     "data": {
      "application/vnd.jupyter.widget-view+json": {
       "model_id": "3a78d4d38ab04a81b589864fd5c7812b",
       "version_major": 2,
       "version_minor": 0
      },
      "text/plain": [
       "Eval Hits:   0%|          | 0/3 [00:00<?, ?it/s]"
      ]
     },
     "metadata": {},
     "output_type": "display_data"
    },
    {
     "data": {
      "application/vnd.jupyter.widget-view+json": {
       "model_id": "43072b6b56514e41a2a89d4f534c23d6",
       "version_major": 2,
       "version_minor": 0
      },
      "text/plain": [
       "Train 19:   0%|          | 0/85 [00:00<?, ?it/s]"
      ]
     },
     "metadata": {},
     "output_type": "display_data"
    },
    {
     "data": {
      "application/vnd.jupyter.widget-view+json": {
       "model_id": "75d71a904217441b8167a99e7510548b",
       "version_major": 2,
       "version_minor": 0
      },
      "text/plain": [
       "Eval AUC:   0%|          | 0/3 [00:00<?, ?it/s]"
      ]
     },
     "metadata": {},
     "output_type": "display_data"
    },
    {
     "data": {
      "application/vnd.jupyter.widget-view+json": {
       "model_id": "e716d8327f934fbaacc2814dbe4e4fdd",
       "version_major": 2,
       "version_minor": 0
      },
      "text/plain": [
       "Eval Hits:   0%|          | 0/3 [00:00<?, ?it/s]"
      ]
     },
     "metadata": {},
     "output_type": "display_data"
    },
    {
     "data": {
      "application/vnd.jupyter.widget-view+json": {
       "model_id": "9ccd7647b343489b8010013c51b5ff5c",
       "version_major": 2,
       "version_minor": 0
      },
      "text/plain": [
       "Train 20:   0%|          | 0/85 [00:00<?, ?it/s]"
      ]
     },
     "metadata": {},
     "output_type": "display_data"
    },
    {
     "data": {
      "application/vnd.jupyter.widget-view+json": {
       "model_id": "bd3c440075a1435489f25c24b64f55cf",
       "version_major": 2,
       "version_minor": 0
      },
      "text/plain": [
       "Eval AUC:   0%|          | 0/3 [00:00<?, ?it/s]"
      ]
     },
     "metadata": {},
     "output_type": "display_data"
    },
    {
     "data": {
      "application/vnd.jupyter.widget-view+json": {
       "model_id": "6fe14f8ab61b4a38be547f8c7def7e83",
       "version_major": 2,
       "version_minor": 0
      },
      "text/plain": [
       "Eval Hits:   0%|          | 0/3 [00:00<?, ?it/s]"
      ]
     },
     "metadata": {},
     "output_type": "display_data"
    },
    {
     "data": {
      "application/vnd.jupyter.widget-view+json": {
       "model_id": "5d592e73f5574d63bc88b74b617b39a1",
       "version_major": 2,
       "version_minor": 0
      },
      "text/plain": [
       "Train 21:   0%|          | 0/85 [00:00<?, ?it/s]"
      ]
     },
     "metadata": {},
     "output_type": "display_data"
    },
    {
     "data": {
      "application/vnd.jupyter.widget-view+json": {
       "model_id": "8bb59fe90e6f4a22bf5e0ce9eb6390f3",
       "version_major": 2,
       "version_minor": 0
      },
      "text/plain": [
       "Eval AUC:   0%|          | 0/3 [00:00<?, ?it/s]"
      ]
     },
     "metadata": {},
     "output_type": "display_data"
    },
    {
     "data": {
      "application/vnd.jupyter.widget-view+json": {
       "model_id": "7f285214b1a145b28503ddb417ba2715",
       "version_major": 2,
       "version_minor": 0
      },
      "text/plain": [
       "Eval Hits:   0%|          | 0/3 [00:00<?, ?it/s]"
      ]
     },
     "metadata": {},
     "output_type": "display_data"
    },
    {
     "data": {
      "application/vnd.jupyter.widget-view+json": {
       "model_id": "a5e3d1e94b6741138c6a8f19d06910a7",
       "version_major": 2,
       "version_minor": 0
      },
      "text/plain": [
       "Train 22:   0%|          | 0/85 [00:00<?, ?it/s]"
      ]
     },
     "metadata": {},
     "output_type": "display_data"
    },
    {
     "data": {
      "application/vnd.jupyter.widget-view+json": {
       "model_id": "4e0cef2b031b49b593341b198ac978d4",
       "version_major": 2,
       "version_minor": 0
      },
      "text/plain": [
       "Eval AUC:   0%|          | 0/3 [00:00<?, ?it/s]"
      ]
     },
     "metadata": {},
     "output_type": "display_data"
    },
    {
     "data": {
      "application/vnd.jupyter.widget-view+json": {
       "model_id": "0ba51bc3ab234fa9978e3fdd20d8f737",
       "version_major": 2,
       "version_minor": 0
      },
      "text/plain": [
       "Eval Hits:   0%|          | 0/3 [00:00<?, ?it/s]"
      ]
     },
     "metadata": {},
     "output_type": "display_data"
    },
    {
     "data": {
      "application/vnd.jupyter.widget-view+json": {
       "model_id": "fd81dba5347c48ce8e3d984e87c79293",
       "version_major": 2,
       "version_minor": 0
      },
      "text/plain": [
       "Train 23:   0%|          | 0/85 [00:00<?, ?it/s]"
      ]
     },
     "metadata": {},
     "output_type": "display_data"
    },
    {
     "data": {
      "application/vnd.jupyter.widget-view+json": {
       "model_id": "1928ac7a887a48cd88d40474f9b942da",
       "version_major": 2,
       "version_minor": 0
      },
      "text/plain": [
       "Eval AUC:   0%|          | 0/3 [00:00<?, ?it/s]"
      ]
     },
     "metadata": {},
     "output_type": "display_data"
    },
    {
     "data": {
      "application/vnd.jupyter.widget-view+json": {
       "model_id": "0366c51fd5374a79aeccabd44e8039df",
       "version_major": 2,
       "version_minor": 0
      },
      "text/plain": [
       "Eval Hits:   0%|          | 0/3 [00:00<?, ?it/s]"
      ]
     },
     "metadata": {},
     "output_type": "display_data"
    },
    {
     "data": {
      "application/vnd.jupyter.widget-view+json": {
       "model_id": "750626822fed482fb1cfbf259ad798f3",
       "version_major": 2,
       "version_minor": 0
      },
      "text/plain": [
       "Train 24:   0%|          | 0/85 [00:00<?, ?it/s]"
      ]
     },
     "metadata": {},
     "output_type": "display_data"
    },
    {
     "data": {
      "application/vnd.jupyter.widget-view+json": {
       "model_id": "e50cd89ea3974aa6a29add0fce080186",
       "version_major": 2,
       "version_minor": 0
      },
      "text/plain": [
       "Eval AUC:   0%|          | 0/3 [00:00<?, ?it/s]"
      ]
     },
     "metadata": {},
     "output_type": "display_data"
    },
    {
     "data": {
      "application/vnd.jupyter.widget-view+json": {
       "model_id": "f8f5dbcff7524ec98488d8ae580561a0",
       "version_major": 2,
       "version_minor": 0
      },
      "text/plain": [
       "Eval Hits:   0%|          | 0/3 [00:00<?, ?it/s]"
      ]
     },
     "metadata": {},
     "output_type": "display_data"
    },
    {
     "data": {
      "application/vnd.jupyter.widget-view+json": {
       "model_id": "15a314d6790e4a65bc66a3c74c6ad522",
       "version_major": 2,
       "version_minor": 0
      },
      "text/plain": [
       "Train 25:   0%|          | 0/85 [00:00<?, ?it/s]"
      ]
     },
     "metadata": {},
     "output_type": "display_data"
    },
    {
     "data": {
      "application/vnd.jupyter.widget-view+json": {
       "model_id": "b2b1fa8f86bf4d8d94f69cee5f8d6166",
       "version_major": 2,
       "version_minor": 0
      },
      "text/plain": [
       "Eval AUC:   0%|          | 0/3 [00:00<?, ?it/s]"
      ]
     },
     "metadata": {},
     "output_type": "display_data"
    },
    {
     "data": {
      "application/vnd.jupyter.widget-view+json": {
       "model_id": "bad8cc6bca3241efbf2ddded24f14207",
       "version_major": 2,
       "version_minor": 0
      },
      "text/plain": [
       "Eval Hits:   0%|          | 0/3 [00:00<?, ?it/s]"
      ]
     },
     "metadata": {},
     "output_type": "display_data"
    },
    {
     "data": {
      "application/vnd.jupyter.widget-view+json": {
       "model_id": "acc112ad9ed14673b4ac8cd06602b4b4",
       "version_major": 2,
       "version_minor": 0
      },
      "text/plain": [
       "Train 26:   0%|          | 0/85 [00:00<?, ?it/s]"
      ]
     },
     "metadata": {},
     "output_type": "display_data"
    },
    {
     "data": {
      "application/vnd.jupyter.widget-view+json": {
       "model_id": "872671d768a54337b8fe7390e9ecc498",
       "version_major": 2,
       "version_minor": 0
      },
      "text/plain": [
       "Eval AUC:   0%|          | 0/3 [00:00<?, ?it/s]"
      ]
     },
     "metadata": {},
     "output_type": "display_data"
    },
    {
     "data": {
      "application/vnd.jupyter.widget-view+json": {
       "model_id": "045a19ea27a14af4aed3dea98620596d",
       "version_major": 2,
       "version_minor": 0
      },
      "text/plain": [
       "Eval Hits:   0%|          | 0/3 [00:00<?, ?it/s]"
      ]
     },
     "metadata": {},
     "output_type": "display_data"
    },
    {
     "data": {
      "application/vnd.jupyter.widget-view+json": {
       "model_id": "0d8d0d4f587c4567b59b71bff57cd73a",
       "version_major": 2,
       "version_minor": 0
      },
      "text/plain": [
       "Train 27:   0%|          | 0/85 [00:00<?, ?it/s]"
      ]
     },
     "metadata": {},
     "output_type": "display_data"
    },
    {
     "data": {
      "application/vnd.jupyter.widget-view+json": {
       "model_id": "9c06d301a82b42f48e555e08d13e5372",
       "version_major": 2,
       "version_minor": 0
      },
      "text/plain": [
       "Eval AUC:   0%|          | 0/3 [00:00<?, ?it/s]"
      ]
     },
     "metadata": {},
     "output_type": "display_data"
    },
    {
     "data": {
      "application/vnd.jupyter.widget-view+json": {
       "model_id": "755ea05141d04e9ca2e37ef9273dd49f",
       "version_major": 2,
       "version_minor": 0
      },
      "text/plain": [
       "Eval Hits:   0%|          | 0/3 [00:00<?, ?it/s]"
      ]
     },
     "metadata": {},
     "output_type": "display_data"
    },
    {
     "data": {
      "application/vnd.jupyter.widget-view+json": {
       "model_id": "98bfa7ad2a9144d990b027b995eea618",
       "version_major": 2,
       "version_minor": 0
      },
      "text/plain": [
       "Train 28:   0%|          | 0/85 [00:00<?, ?it/s]"
      ]
     },
     "metadata": {},
     "output_type": "display_data"
    },
    {
     "data": {
      "application/vnd.jupyter.widget-view+json": {
       "model_id": "ac2d46f966694c5c8b3e696b88e7a219",
       "version_major": 2,
       "version_minor": 0
      },
      "text/plain": [
       "Eval AUC:   0%|          | 0/3 [00:00<?, ?it/s]"
      ]
     },
     "metadata": {},
     "output_type": "display_data"
    },
    {
     "data": {
      "application/vnd.jupyter.widget-view+json": {
       "model_id": "8a1199289b634dfca29e59c9cc82afd9",
       "version_major": 2,
       "version_minor": 0
      },
      "text/plain": [
       "Eval Hits:   0%|          | 0/3 [00:00<?, ?it/s]"
      ]
     },
     "metadata": {},
     "output_type": "display_data"
    },
    {
     "data": {
      "application/vnd.jupyter.widget-view+json": {
       "model_id": "dda65fb4d8b04c8ebc7bf094d215ab9c",
       "version_major": 2,
       "version_minor": 0
      },
      "text/plain": [
       "Train 29:   0%|          | 0/85 [00:00<?, ?it/s]"
      ]
     },
     "metadata": {},
     "output_type": "display_data"
    },
    {
     "data": {
      "application/vnd.jupyter.widget-view+json": {
       "model_id": "c7a84ff523fe4073a657c4d84c656a13",
       "version_major": 2,
       "version_minor": 0
      },
      "text/plain": [
       "Eval AUC:   0%|          | 0/3 [00:00<?, ?it/s]"
      ]
     },
     "metadata": {},
     "output_type": "display_data"
    },
    {
     "data": {
      "application/vnd.jupyter.widget-view+json": {
       "model_id": "e2f29e613ec141a7865904951acea573",
       "version_major": 2,
       "version_minor": 0
      },
      "text/plain": [
       "Eval Hits:   0%|          | 0/3 [00:00<?, ?it/s]"
      ]
     },
     "metadata": {},
     "output_type": "display_data"
    },
    {
     "data": {
      "application/vnd.jupyter.widget-view+json": {
       "model_id": "83e55e5bbdfd49fbaa41514e85f052cc",
       "version_major": 2,
       "version_minor": 0
      },
      "text/plain": [
       "Train 30:   0%|          | 0/85 [00:00<?, ?it/s]"
      ]
     },
     "metadata": {},
     "output_type": "display_data"
    },
    {
     "data": {
      "application/vnd.jupyter.widget-view+json": {
       "model_id": "e1896ece403642fb8e59b60f9c6910bf",
       "version_major": 2,
       "version_minor": 0
      },
      "text/plain": [
       "Eval AUC:   0%|          | 0/3 [00:00<?, ?it/s]"
      ]
     },
     "metadata": {},
     "output_type": "display_data"
    },
    {
     "data": {
      "application/vnd.jupyter.widget-view+json": {
       "model_id": "d1ccd2a55878440cab06c5df446fd28a",
       "version_major": 2,
       "version_minor": 0
      },
      "text/plain": [
       "Eval Hits:   0%|          | 0/3 [00:00<?, ?it/s]"
      ]
     },
     "metadata": {},
     "output_type": "display_data"
    },
    {
     "data": {
      "application/vnd.jupyter.widget-view+json": {
       "model_id": "8868408bb1bf4745a379da307948abd9",
       "version_major": 2,
       "version_minor": 0
      },
      "text/plain": [
       "Train 31:   0%|          | 0/85 [00:00<?, ?it/s]"
      ]
     },
     "metadata": {},
     "output_type": "display_data"
    },
    {
     "data": {
      "application/vnd.jupyter.widget-view+json": {
       "model_id": "fbf67df0babd492f96617e8e49622a07",
       "version_major": 2,
       "version_minor": 0
      },
      "text/plain": [
       "Eval AUC:   0%|          | 0/3 [00:00<?, ?it/s]"
      ]
     },
     "metadata": {},
     "output_type": "display_data"
    },
    {
     "data": {
      "application/vnd.jupyter.widget-view+json": {
       "model_id": "eff4f04fe17f450e95277ffff8f9458e",
       "version_major": 2,
       "version_minor": 0
      },
      "text/plain": [
       "Eval Hits:   0%|          | 0/3 [00:00<?, ?it/s]"
      ]
     },
     "metadata": {},
     "output_type": "display_data"
    },
    {
     "data": {
      "application/vnd.jupyter.widget-view+json": {
       "model_id": "73cf28998a7545638b392efead4e4d75",
       "version_major": 2,
       "version_minor": 0
      },
      "text/plain": [
       "Train 32:   0%|          | 0/85 [00:00<?, ?it/s]"
      ]
     },
     "metadata": {},
     "output_type": "display_data"
    },
    {
     "data": {
      "application/vnd.jupyter.widget-view+json": {
       "model_id": "00cbaba7d8f54d05bd5d3f3852c0d4b8",
       "version_major": 2,
       "version_minor": 0
      },
      "text/plain": [
       "Eval AUC:   0%|          | 0/3 [00:00<?, ?it/s]"
      ]
     },
     "metadata": {},
     "output_type": "display_data"
    },
    {
     "data": {
      "application/vnd.jupyter.widget-view+json": {
       "model_id": "6cf7c44c443d4419bf3d611a2192ed8d",
       "version_major": 2,
       "version_minor": 0
      },
      "text/plain": [
       "Eval Hits:   0%|          | 0/3 [00:00<?, ?it/s]"
      ]
     },
     "metadata": {},
     "output_type": "display_data"
    },
    {
     "data": {
      "application/vnd.jupyter.widget-view+json": {
       "model_id": "5d94cfef129841939ce041eaba77a138",
       "version_major": 2,
       "version_minor": 0
      },
      "text/plain": [
       "Train 33:   0%|          | 0/85 [00:00<?, ?it/s]"
      ]
     },
     "metadata": {},
     "output_type": "display_data"
    },
    {
     "data": {
      "application/vnd.jupyter.widget-view+json": {
       "model_id": "4f48a83c0aed4860ad8de3db8189601b",
       "version_major": 2,
       "version_minor": 0
      },
      "text/plain": [
       "Eval AUC:   0%|          | 0/3 [00:00<?, ?it/s]"
      ]
     },
     "metadata": {},
     "output_type": "display_data"
    },
    {
     "data": {
      "application/vnd.jupyter.widget-view+json": {
       "model_id": "49f64b97727444599f5af84976de9b64",
       "version_major": 2,
       "version_minor": 0
      },
      "text/plain": [
       "Eval Hits:   0%|          | 0/3 [00:00<?, ?it/s]"
      ]
     },
     "metadata": {},
     "output_type": "display_data"
    },
    {
     "data": {
      "application/vnd.jupyter.widget-view+json": {
       "model_id": "028bf4f2d4d6458e88641fb3eb584863",
       "version_major": 2,
       "version_minor": 0
      },
      "text/plain": [
       "Train 34:   0%|          | 0/85 [00:00<?, ?it/s]"
      ]
     },
     "metadata": {},
     "output_type": "display_data"
    },
    {
     "data": {
      "application/vnd.jupyter.widget-view+json": {
       "model_id": "aefedc8b5d014d109f9ef6120aaa5623",
       "version_major": 2,
       "version_minor": 0
      },
      "text/plain": [
       "Eval AUC:   0%|          | 0/3 [00:00<?, ?it/s]"
      ]
     },
     "metadata": {},
     "output_type": "display_data"
    },
    {
     "data": {
      "application/vnd.jupyter.widget-view+json": {
       "model_id": "c8874a3996454663bbf42dbded66ab2c",
       "version_major": 2,
       "version_minor": 0
      },
      "text/plain": [
       "Eval Hits:   0%|          | 0/3 [00:00<?, ?it/s]"
      ]
     },
     "metadata": {},
     "output_type": "display_data"
    },
    {
     "data": {
      "application/vnd.jupyter.widget-view+json": {
       "model_id": "9a08ec87de594b51b47e59b9a9910fb2",
       "version_major": 2,
       "version_minor": 0
      },
      "text/plain": [
       "Train 35:   0%|          | 0/85 [00:00<?, ?it/s]"
      ]
     },
     "metadata": {},
     "output_type": "display_data"
    },
    {
     "data": {
      "application/vnd.jupyter.widget-view+json": {
       "model_id": "7a006a8b92fb4133934b48525453aa15",
       "version_major": 2,
       "version_minor": 0
      },
      "text/plain": [
       "Eval AUC:   0%|          | 0/3 [00:00<?, ?it/s]"
      ]
     },
     "metadata": {},
     "output_type": "display_data"
    },
    {
     "data": {
      "application/vnd.jupyter.widget-view+json": {
       "model_id": "1d27992328934022a71565f420fb679d",
       "version_major": 2,
       "version_minor": 0
      },
      "text/plain": [
       "Eval Hits:   0%|          | 0/3 [00:00<?, ?it/s]"
      ]
     },
     "metadata": {},
     "output_type": "display_data"
    },
    {
     "data": {
      "application/vnd.jupyter.widget-view+json": {
       "model_id": "d416d48187ae42d6b5496a97ebc2d1b6",
       "version_major": 2,
       "version_minor": 0
      },
      "text/plain": [
       "Train 36:   0%|          | 0/85 [00:00<?, ?it/s]"
      ]
     },
     "metadata": {},
     "output_type": "display_data"
    },
    {
     "data": {
      "application/vnd.jupyter.widget-view+json": {
       "model_id": "a88e50d9368e476eb4595fff77e70675",
       "version_major": 2,
       "version_minor": 0
      },
      "text/plain": [
       "Eval AUC:   0%|          | 0/3 [00:00<?, ?it/s]"
      ]
     },
     "metadata": {},
     "output_type": "display_data"
    },
    {
     "data": {
      "application/vnd.jupyter.widget-view+json": {
       "model_id": "9184416ff1a64e7485b62305731f9cc3",
       "version_major": 2,
       "version_minor": 0
      },
      "text/plain": [
       "Eval Hits:   0%|          | 0/3 [00:00<?, ?it/s]"
      ]
     },
     "metadata": {},
     "output_type": "display_data"
    },
    {
     "data": {
      "application/vnd.jupyter.widget-view+json": {
       "model_id": "7d16ed5a876e4a4c97811253954611d9",
       "version_major": 2,
       "version_minor": 0
      },
      "text/plain": [
       "Train 37:   0%|          | 0/85 [00:00<?, ?it/s]"
      ]
     },
     "metadata": {},
     "output_type": "display_data"
    },
    {
     "data": {
      "application/vnd.jupyter.widget-view+json": {
       "model_id": "2aa8537926cb488bb67e273ae8c1f930",
       "version_major": 2,
       "version_minor": 0
      },
      "text/plain": [
       "Eval AUC:   0%|          | 0/3 [00:00<?, ?it/s]"
      ]
     },
     "metadata": {},
     "output_type": "display_data"
    },
    {
     "data": {
      "application/vnd.jupyter.widget-view+json": {
       "model_id": "cb2e01660a9b4de1bf54af7840954376",
       "version_major": 2,
       "version_minor": 0
      },
      "text/plain": [
       "Eval Hits:   0%|          | 0/3 [00:00<?, ?it/s]"
      ]
     },
     "metadata": {},
     "output_type": "display_data"
    },
    {
     "data": {
      "application/vnd.jupyter.widget-view+json": {
       "model_id": "422348fdc0a346ac993ca4a36dbc7718",
       "version_major": 2,
       "version_minor": 0
      },
      "text/plain": [
       "Train 38:   0%|          | 0/85 [00:00<?, ?it/s]"
      ]
     },
     "metadata": {},
     "output_type": "display_data"
    },
    {
     "data": {
      "application/vnd.jupyter.widget-view+json": {
       "model_id": "0bfc3149977b4b6f825d2d814dcb78f7",
       "version_major": 2,
       "version_minor": 0
      },
      "text/plain": [
       "Eval AUC:   0%|          | 0/3 [00:00<?, ?it/s]"
      ]
     },
     "metadata": {},
     "output_type": "display_data"
    },
    {
     "data": {
      "application/vnd.jupyter.widget-view+json": {
       "model_id": "d888ea9e508f4a9c855328d58e561ba7",
       "version_major": 2,
       "version_minor": 0
      },
      "text/plain": [
       "Eval Hits:   0%|          | 0/3 [00:00<?, ?it/s]"
      ]
     },
     "metadata": {},
     "output_type": "display_data"
    },
    {
     "data": {
      "application/vnd.jupyter.widget-view+json": {
       "model_id": "fd3cb9bbd41c4163a6680d67c864e2cb",
       "version_major": 2,
       "version_minor": 0
      },
      "text/plain": [
       "Train 39:   0%|          | 0/85 [00:00<?, ?it/s]"
      ]
     },
     "metadata": {},
     "output_type": "display_data"
    },
    {
     "data": {
      "application/vnd.jupyter.widget-view+json": {
       "model_id": "7bbefe95c82f4f09ad5ee1429756df47",
       "version_major": 2,
       "version_minor": 0
      },
      "text/plain": [
       "Eval AUC:   0%|          | 0/3 [00:00<?, ?it/s]"
      ]
     },
     "metadata": {},
     "output_type": "display_data"
    },
    {
     "data": {
      "application/vnd.jupyter.widget-view+json": {
       "model_id": "f4609ff194d34671a0e526d624264d92",
       "version_major": 2,
       "version_minor": 0
      },
      "text/plain": [
       "Eval Hits:   0%|          | 0/3 [00:00<?, ?it/s]"
      ]
     },
     "metadata": {},
     "output_type": "display_data"
    },
    {
     "data": {
      "application/vnd.jupyter.widget-view+json": {
       "model_id": "8323ed0ee2534b08bf003b3724f168cb",
       "version_major": 2,
       "version_minor": 0
      },
      "text/plain": [
       "Train 40:   0%|          | 0/85 [00:00<?, ?it/s]"
      ]
     },
     "metadata": {},
     "output_type": "display_data"
    },
    {
     "data": {
      "application/vnd.jupyter.widget-view+json": {
       "model_id": "0a40810654ae4d44b44e9cf4745ecb52",
       "version_major": 2,
       "version_minor": 0
      },
      "text/plain": [
       "Eval AUC:   0%|          | 0/3 [00:00<?, ?it/s]"
      ]
     },
     "metadata": {},
     "output_type": "display_data"
    },
    {
     "data": {
      "application/vnd.jupyter.widget-view+json": {
       "model_id": "1bdd2211e5144b54963b95efd710a725",
       "version_major": 2,
       "version_minor": 0
      },
      "text/plain": [
       "Eval Hits:   0%|          | 0/3 [00:00<?, ?it/s]"
      ]
     },
     "metadata": {},
     "output_type": "display_data"
    },
    {
     "data": {
      "application/vnd.jupyter.widget-view+json": {
       "model_id": "44507f9399614d37be978b14c05df15d",
       "version_major": 2,
       "version_minor": 0
      },
      "text/plain": [
       "Train 41:   0%|          | 0/85 [00:00<?, ?it/s]"
      ]
     },
     "metadata": {},
     "output_type": "display_data"
    },
    {
     "data": {
      "application/vnd.jupyter.widget-view+json": {
       "model_id": "5311a7d85eb74e6cba8a935ef888ea3b",
       "version_major": 2,
       "version_minor": 0
      },
      "text/plain": [
       "Eval AUC:   0%|          | 0/3 [00:00<?, ?it/s]"
      ]
     },
     "metadata": {},
     "output_type": "display_data"
    },
    {
     "data": {
      "application/vnd.jupyter.widget-view+json": {
       "model_id": "6324f5b2221b45219f33f049b0844b71",
       "version_major": 2,
       "version_minor": 0
      },
      "text/plain": [
       "Eval Hits:   0%|          | 0/3 [00:00<?, ?it/s]"
      ]
     },
     "metadata": {},
     "output_type": "display_data"
    },
    {
     "data": {
      "application/vnd.jupyter.widget-view+json": {
       "model_id": "641e62c7eef442f685f9ec70a37326dc",
       "version_major": 2,
       "version_minor": 0
      },
      "text/plain": [
       "Train 42:   0%|          | 0/85 [00:00<?, ?it/s]"
      ]
     },
     "metadata": {},
     "output_type": "display_data"
    },
    {
     "data": {
      "application/vnd.jupyter.widget-view+json": {
       "model_id": "5332e094ed3640b3a3421dd9f1024c5e",
       "version_major": 2,
       "version_minor": 0
      },
      "text/plain": [
       "Eval AUC:   0%|          | 0/3 [00:00<?, ?it/s]"
      ]
     },
     "metadata": {},
     "output_type": "display_data"
    },
    {
     "data": {
      "application/vnd.jupyter.widget-view+json": {
       "model_id": "a2e972588e2e44b7aaee9708b54b0790",
       "version_major": 2,
       "version_minor": 0
      },
      "text/plain": [
       "Eval Hits:   0%|          | 0/3 [00:00<?, ?it/s]"
      ]
     },
     "metadata": {},
     "output_type": "display_data"
    },
    {
     "data": {
      "application/vnd.jupyter.widget-view+json": {
       "model_id": "d1dbe229419448c7984cf346acb95fd9",
       "version_major": 2,
       "version_minor": 0
      },
      "text/plain": [
       "Train 43:   0%|          | 0/85 [00:00<?, ?it/s]"
      ]
     },
     "metadata": {},
     "output_type": "display_data"
    },
    {
     "data": {
      "application/vnd.jupyter.widget-view+json": {
       "model_id": "de6505ee6ac44c8da29634c9ce14353a",
       "version_major": 2,
       "version_minor": 0
      },
      "text/plain": [
       "Eval AUC:   0%|          | 0/3 [00:00<?, ?it/s]"
      ]
     },
     "metadata": {},
     "output_type": "display_data"
    },
    {
     "data": {
      "application/vnd.jupyter.widget-view+json": {
       "model_id": "bdcb1564b7844b43b1b745ca1bfc7a7f",
       "version_major": 2,
       "version_minor": 0
      },
      "text/plain": [
       "Eval Hits:   0%|          | 0/3 [00:00<?, ?it/s]"
      ]
     },
     "metadata": {},
     "output_type": "display_data"
    },
    {
     "data": {
      "application/vnd.jupyter.widget-view+json": {
       "model_id": "c5bd89a21b094334a2f441b3c470a40e",
       "version_major": 2,
       "version_minor": 0
      },
      "text/plain": [
       "Train 44:   0%|          | 0/85 [00:00<?, ?it/s]"
      ]
     },
     "metadata": {},
     "output_type": "display_data"
    },
    {
     "data": {
      "application/vnd.jupyter.widget-view+json": {
       "model_id": "44b048618570478881311b2ae28d037c",
       "version_major": 2,
       "version_minor": 0
      },
      "text/plain": [
       "Eval AUC:   0%|          | 0/3 [00:00<?, ?it/s]"
      ]
     },
     "metadata": {},
     "output_type": "display_data"
    },
    {
     "data": {
      "application/vnd.jupyter.widget-view+json": {
       "model_id": "0023ff2cc064488f8b0e08caf1e9ced3",
       "version_major": 2,
       "version_minor": 0
      },
      "text/plain": [
       "Eval Hits:   0%|          | 0/3 [00:00<?, ?it/s]"
      ]
     },
     "metadata": {},
     "output_type": "display_data"
    },
    {
     "data": {
      "application/vnd.jupyter.widget-view+json": {
       "model_id": "b79a3387116e40e49cd8a55f2ac08766",
       "version_major": 2,
       "version_minor": 0
      },
      "text/plain": [
       "Train 45:   0%|          | 0/85 [00:00<?, ?it/s]"
      ]
     },
     "metadata": {},
     "output_type": "display_data"
    },
    {
     "data": {
      "application/vnd.jupyter.widget-view+json": {
       "model_id": "522513bccad44dd4bc98e8cd683f4854",
       "version_major": 2,
       "version_minor": 0
      },
      "text/plain": [
       "Eval AUC:   0%|          | 0/3 [00:00<?, ?it/s]"
      ]
     },
     "metadata": {},
     "output_type": "display_data"
    },
    {
     "data": {
      "application/vnd.jupyter.widget-view+json": {
       "model_id": "c882484be43b458d8d2e0f3959d123a4",
       "version_major": 2,
       "version_minor": 0
      },
      "text/plain": [
       "Eval Hits:   0%|          | 0/3 [00:00<?, ?it/s]"
      ]
     },
     "metadata": {},
     "output_type": "display_data"
    },
    {
     "data": {
      "application/vnd.jupyter.widget-view+json": {
       "model_id": "4a7e0bf9e87643068d628dddda19e01e",
       "version_major": 2,
       "version_minor": 0
      },
      "text/plain": [
       "Train 46:   0%|          | 0/85 [00:00<?, ?it/s]"
      ]
     },
     "metadata": {},
     "output_type": "display_data"
    },
    {
     "data": {
      "application/vnd.jupyter.widget-view+json": {
       "model_id": "d9d23cd8d5084f909e8890dace580d28",
       "version_major": 2,
       "version_minor": 0
      },
      "text/plain": [
       "Eval AUC:   0%|          | 0/3 [00:00<?, ?it/s]"
      ]
     },
     "metadata": {},
     "output_type": "display_data"
    },
    {
     "data": {
      "application/vnd.jupyter.widget-view+json": {
       "model_id": "8401ad194b3d44e8843f04da2db61c6c",
       "version_major": 2,
       "version_minor": 0
      },
      "text/plain": [
       "Eval Hits:   0%|          | 0/3 [00:00<?, ?it/s]"
      ]
     },
     "metadata": {},
     "output_type": "display_data"
    },
    {
     "data": {
      "application/vnd.jupyter.widget-view+json": {
       "model_id": "0bfbb7d519e2467d95875a21422d3b84",
       "version_major": 2,
       "version_minor": 0
      },
      "text/plain": [
       "Train 47:   0%|          | 0/85 [00:00<?, ?it/s]"
      ]
     },
     "metadata": {},
     "output_type": "display_data"
    },
    {
     "data": {
      "application/vnd.jupyter.widget-view+json": {
       "model_id": "bee37d6f9caf489fa5f1a04f784bbb65",
       "version_major": 2,
       "version_minor": 0
      },
      "text/plain": [
       "Eval AUC:   0%|          | 0/3 [00:00<?, ?it/s]"
      ]
     },
     "metadata": {},
     "output_type": "display_data"
    },
    {
     "data": {
      "application/vnd.jupyter.widget-view+json": {
       "model_id": "e387ad43a7164d6bb1318c709bc5b0aa",
       "version_major": 2,
       "version_minor": 0
      },
      "text/plain": [
       "Eval Hits:   0%|          | 0/3 [00:00<?, ?it/s]"
      ]
     },
     "metadata": {},
     "output_type": "display_data"
    },
    {
     "data": {
      "application/vnd.jupyter.widget-view+json": {
       "model_id": "1f888edaa3664accb1560bb0d0f3ed25",
       "version_major": 2,
       "version_minor": 0
      },
      "text/plain": [
       "Train 48:   0%|          | 0/85 [00:00<?, ?it/s]"
      ]
     },
     "metadata": {},
     "output_type": "display_data"
    },
    {
     "data": {
      "application/vnd.jupyter.widget-view+json": {
       "model_id": "4cfc3cd27bc24af8b993b50a5ab09544",
       "version_major": 2,
       "version_minor": 0
      },
      "text/plain": [
       "Eval AUC:   0%|          | 0/3 [00:00<?, ?it/s]"
      ]
     },
     "metadata": {},
     "output_type": "display_data"
    },
    {
     "data": {
      "application/vnd.jupyter.widget-view+json": {
       "model_id": "82b50512e5c541cfbea7ac77813ffe3b",
       "version_major": 2,
       "version_minor": 0
      },
      "text/plain": [
       "Eval Hits:   0%|          | 0/3 [00:00<?, ?it/s]"
      ]
     },
     "metadata": {},
     "output_type": "display_data"
    },
    {
     "data": {
      "application/vnd.jupyter.widget-view+json": {
       "model_id": "0b80680280de4c7097093fee14643e6f",
       "version_major": 2,
       "version_minor": 0
      },
      "text/plain": [
       "Train 49:   0%|          | 0/85 [00:00<?, ?it/s]"
      ]
     },
     "metadata": {},
     "output_type": "display_data"
    },
    {
     "data": {
      "application/vnd.jupyter.widget-view+json": {
       "model_id": "9c00d33e0d384a98bc0c4a8d99e6fcb2",
       "version_major": 2,
       "version_minor": 0
      },
      "text/plain": [
       "Eval AUC:   0%|          | 0/3 [00:00<?, ?it/s]"
      ]
     },
     "metadata": {},
     "output_type": "display_data"
    },
    {
     "data": {
      "application/vnd.jupyter.widget-view+json": {
       "model_id": "10267dfebccf4dbaab18903bcbe0fc6c",
       "version_major": 2,
       "version_minor": 0
      },
      "text/plain": [
       "Eval Hits:   0%|          | 0/3 [00:00<?, ?it/s]"
      ]
     },
     "metadata": {},
     "output_type": "display_data"
    },
    {
     "data": {
      "application/vnd.jupyter.widget-view+json": {
       "model_id": "77e4218feebb4cdeb3bb55713b030ec4",
       "version_major": 2,
       "version_minor": 0
      },
      "text/plain": [
       "Train 50:   0%|          | 0/85 [00:00<?, ?it/s]"
      ]
     },
     "metadata": {},
     "output_type": "display_data"
    },
    {
     "data": {
      "application/vnd.jupyter.widget-view+json": {
       "model_id": "7c955fa1dbd6431aa4e4434dbd7e67bc",
       "version_major": 2,
       "version_minor": 0
      },
      "text/plain": [
       "Eval AUC:   0%|          | 0/3 [00:00<?, ?it/s]"
      ]
     },
     "metadata": {},
     "output_type": "display_data"
    },
    {
     "data": {
      "application/vnd.jupyter.widget-view+json": {
       "model_id": "001b0f72b393414190313ca149ef09d8",
       "version_major": 2,
       "version_minor": 0
      },
      "text/plain": [
       "Eval Hits:   0%|          | 0/3 [00:00<?, ?it/s]"
      ]
     },
     "metadata": {},
     "output_type": "display_data"
    },
    {
     "data": {
      "application/vnd.jupyter.widget-view+json": {
       "model_id": "12a0668a6be54f3d9eb878916dd9afb6",
       "version_major": 2,
       "version_minor": 0
      },
      "text/plain": [
       "Train 51:   0%|          | 0/85 [00:00<?, ?it/s]"
      ]
     },
     "metadata": {},
     "output_type": "display_data"
    },
    {
     "data": {
      "application/vnd.jupyter.widget-view+json": {
       "model_id": "ea2473885b8440d396d9af0bd85a5f24",
       "version_major": 2,
       "version_minor": 0
      },
      "text/plain": [
       "Eval AUC:   0%|          | 0/3 [00:00<?, ?it/s]"
      ]
     },
     "metadata": {},
     "output_type": "display_data"
    },
    {
     "data": {
      "application/vnd.jupyter.widget-view+json": {
       "model_id": "decdaf183756420db91ad8911380a1c6",
       "version_major": 2,
       "version_minor": 0
      },
      "text/plain": [
       "Eval Hits:   0%|          | 0/3 [00:00<?, ?it/s]"
      ]
     },
     "metadata": {},
     "output_type": "display_data"
    },
    {
     "data": {
      "application/vnd.jupyter.widget-view+json": {
       "model_id": "2a62ab1c385e42fa8162fc50400267ad",
       "version_major": 2,
       "version_minor": 0
      },
      "text/plain": [
       "Train 52:   0%|          | 0/85 [00:00<?, ?it/s]"
      ]
     },
     "metadata": {},
     "output_type": "display_data"
    },
    {
     "data": {
      "application/vnd.jupyter.widget-view+json": {
       "model_id": "b46dec5183b14e77bdeb99db08d24e0e",
       "version_major": 2,
       "version_minor": 0
      },
      "text/plain": [
       "Eval AUC:   0%|          | 0/3 [00:00<?, ?it/s]"
      ]
     },
     "metadata": {},
     "output_type": "display_data"
    },
    {
     "data": {
      "application/vnd.jupyter.widget-view+json": {
       "model_id": "cb8ed4cc763948fc98c863f14317212b",
       "version_major": 2,
       "version_minor": 0
      },
      "text/plain": [
       "Eval Hits:   0%|          | 0/3 [00:00<?, ?it/s]"
      ]
     },
     "metadata": {},
     "output_type": "display_data"
    },
    {
     "data": {
      "application/vnd.jupyter.widget-view+json": {
       "model_id": "0de87617ceb546db97b49b1111c8d78b",
       "version_major": 2,
       "version_minor": 0
      },
      "text/plain": [
       "Train 53:   0%|          | 0/85 [00:00<?, ?it/s]"
      ]
     },
     "metadata": {},
     "output_type": "display_data"
    },
    {
     "data": {
      "application/vnd.jupyter.widget-view+json": {
       "model_id": "c8f34a9d816a450a9255daa81c0d137d",
       "version_major": 2,
       "version_minor": 0
      },
      "text/plain": [
       "Eval AUC:   0%|          | 0/3 [00:00<?, ?it/s]"
      ]
     },
     "metadata": {},
     "output_type": "display_data"
    },
    {
     "data": {
      "application/vnd.jupyter.widget-view+json": {
       "model_id": "01bb106ad6dc4590bc35445b7ac38db5",
       "version_major": 2,
       "version_minor": 0
      },
      "text/plain": [
       "Eval Hits:   0%|          | 0/3 [00:00<?, ?it/s]"
      ]
     },
     "metadata": {},
     "output_type": "display_data"
    },
    {
     "data": {
      "application/vnd.jupyter.widget-view+json": {
       "model_id": "094fa3e645c54d8ba5dc9baeef4b25d0",
       "version_major": 2,
       "version_minor": 0
      },
      "text/plain": [
       "Train 54:   0%|          | 0/85 [00:00<?, ?it/s]"
      ]
     },
     "metadata": {},
     "output_type": "display_data"
    },
    {
     "data": {
      "application/vnd.jupyter.widget-view+json": {
       "model_id": "5a67c86d9b724225b02337e2ea0832bf",
       "version_major": 2,
       "version_minor": 0
      },
      "text/plain": [
       "Eval AUC:   0%|          | 0/3 [00:00<?, ?it/s]"
      ]
     },
     "metadata": {},
     "output_type": "display_data"
    },
    {
     "data": {
      "application/vnd.jupyter.widget-view+json": {
       "model_id": "9a9e2a8952b34f138e813e3d53400ad0",
       "version_major": 2,
       "version_minor": 0
      },
      "text/plain": [
       "Eval Hits:   0%|          | 0/3 [00:00<?, ?it/s]"
      ]
     },
     "metadata": {},
     "output_type": "display_data"
    },
    {
     "name": "stdout",
     "output_type": "stream",
     "text": [
      "Early stopping at epoch 54 (patience=10).\n",
      "Restored best model from epoch 44 | AUC=0.8213 | Hits@10=0.6795\n",
      "Model Training Results - 2025-10-14 06:39:30\n",
      "================================================================================\n",
      "\n",
      "\n",
      "GIN Training History\n",
      "============================================================\n",
      "\n",
      "Best Validation AUC: 0.8213\n",
      "Total Epochs Trained: 54\n",
      "Early Stopping Best Score: 0.6795 (Hits@10 at epoch 44)\n",
      "\n",
      "------------------------------------------------------------\n",
      "Epoch    Train Loss      Val AUC         Val Hits@10    \n",
      "------------------------------------------------------------\n",
      "1        0.6199          0.6565          0.2808         \n",
      "5        0.4865          0.7841          0.4817         \n",
      "10       0.4533          0.8018          0.5480         \n",
      "15       0.4425          0.7995          0.5789         \n",
      "20       0.4315          0.8090          0.6042         \n",
      "25       0.4285          0.7922          0.5956         \n",
      "30       0.4224          0.8196          0.6463         \n",
      "35       0.4219          0.8174          0.6480         \n",
      "40       0.4197          0.8186          0.6638         \n",
      "45       0.4142          0.8081          0.6543         \n",
      "50       0.4144          0.8096          0.6599         \n",
      "\n",
      "\n",
      "✅ Report saved to: /Users/choonggi/Coding/jetbrains/sc4020-Project-1/GIN/results/gin_report_embed_dim=128|mlp_depth=4|aggre=4.txt\n"
     ]
    }
   ],
   "source": [
    "dm = KGDataModuleCollapsed(train_p, valid_p, test_p, add_reverse=True)\n",
    "hidden_layers,num_layers, emb_dim = 4, 4, 128\n",
    "encoder = GINEncoder(num_nodes=len(dm.ent2id), hidden_layers=hidden_layers, emb_dim=emb_dim, num_layers=num_layers, dropout=0.1)\n",
    "\n",
    "result = train_linkpred(\n",
    "    encoder, dm,\n",
    "    epochs=100, lr=1e-3, weight_decay=1e-4, patience=10,\n",
    "    show_tqdm=True,\n",
    "    save_best_path=f\"checkpoints/checkpoints_gin/{dataset}/gin_best_embed_dim={emb_dim}|mlp_depth={hidden_layers}|aggre={num_layers}.pt\",\n",
    "    save_on_improve=True                        # save every improvement\n",
    ")\n",
    "print_training_report(\"GIN\", result, save_path=f\"results/results_gin/{dataset}/gin_report_embed_dim={emb_dim}|mlp_depth={hidden_layers}|aggre={num_layers}.txt\")"
   ]
  },
  {
   "cell_type": "code",
   "execution_count": 7,
   "id": "1324547093fe738c",
   "metadata": {
    "ExecuteTime": {
     "end_time": "2025-10-13T23:26:56.758518Z",
     "start_time": "2025-10-13T22:39:30.481580Z"
    }
   },
   "outputs": [
    {
     "data": {
      "application/vnd.jupyter.widget-view+json": {
       "model_id": "1834d16200f54fa49d58f58aa5ad3a80",
       "version_major": 2,
       "version_minor": 0
      },
      "text/plain": [
       "Epochs:   0%|          | 0/100 [00:00<?, ?it/s]"
      ]
     },
     "metadata": {},
     "output_type": "display_data"
    },
    {
     "data": {
      "application/vnd.jupyter.widget-view+json": {
       "model_id": "07293c2a046c4f77a5bfc8e4325d4030",
       "version_major": 2,
       "version_minor": 0
      },
      "text/plain": [
       "Train 1:   0%|          | 0/85 [00:00<?, ?it/s]"
      ]
     },
     "metadata": {},
     "output_type": "display_data"
    },
    {
     "data": {
      "application/vnd.jupyter.widget-view+json": {
       "model_id": "09cfa6868fac4b51927ea805b6aba935",
       "version_major": 2,
       "version_minor": 0
      },
      "text/plain": [
       "Eval AUC:   0%|          | 0/3 [00:00<?, ?it/s]"
      ]
     },
     "metadata": {},
     "output_type": "display_data"
    },
    {
     "data": {
      "application/vnd.jupyter.widget-view+json": {
       "model_id": "ebf2d04ff2c2424a9cfa5ad872cc20b7",
       "version_major": 2,
       "version_minor": 0
      },
      "text/plain": [
       "Eval Hits:   0%|          | 0/3 [00:00<?, ?it/s]"
      ]
     },
     "metadata": {},
     "output_type": "display_data"
    },
    {
     "data": {
      "application/vnd.jupyter.widget-view+json": {
       "model_id": "1dd149a0e0984aeaaa36bf8b2aef712c",
       "version_major": 2,
       "version_minor": 0
      },
      "text/plain": [
       "Train 2:   0%|          | 0/85 [00:00<?, ?it/s]"
      ]
     },
     "metadata": {},
     "output_type": "display_data"
    },
    {
     "data": {
      "application/vnd.jupyter.widget-view+json": {
       "model_id": "1638afd415e4472aa3bd8f66604b9f9a",
       "version_major": 2,
       "version_minor": 0
      },
      "text/plain": [
       "Eval AUC:   0%|          | 0/3 [00:00<?, ?it/s]"
      ]
     },
     "metadata": {},
     "output_type": "display_data"
    },
    {
     "data": {
      "application/vnd.jupyter.widget-view+json": {
       "model_id": "da0b8020cde947e78adefbaaea27ef95",
       "version_major": 2,
       "version_minor": 0
      },
      "text/plain": [
       "Eval Hits:   0%|          | 0/3 [00:00<?, ?it/s]"
      ]
     },
     "metadata": {},
     "output_type": "display_data"
    },
    {
     "data": {
      "application/vnd.jupyter.widget-view+json": {
       "model_id": "9d90d800db294367aa234899f6e8061c",
       "version_major": 2,
       "version_minor": 0
      },
      "text/plain": [
       "Train 3:   0%|          | 0/85 [00:00<?, ?it/s]"
      ]
     },
     "metadata": {},
     "output_type": "display_data"
    },
    {
     "data": {
      "application/vnd.jupyter.widget-view+json": {
       "model_id": "4cb6282d07d6455482ffd31154db51ca",
       "version_major": 2,
       "version_minor": 0
      },
      "text/plain": [
       "Eval AUC:   0%|          | 0/3 [00:00<?, ?it/s]"
      ]
     },
     "metadata": {},
     "output_type": "display_data"
    },
    {
     "data": {
      "application/vnd.jupyter.widget-view+json": {
       "model_id": "0f4b2e7578e447cfa804dde455e45c6e",
       "version_major": 2,
       "version_minor": 0
      },
      "text/plain": [
       "Eval Hits:   0%|          | 0/3 [00:00<?, ?it/s]"
      ]
     },
     "metadata": {},
     "output_type": "display_data"
    },
    {
     "data": {
      "application/vnd.jupyter.widget-view+json": {
       "model_id": "e1abc1d37b9643c8ab1c2180e63d8cee",
       "version_major": 2,
       "version_minor": 0
      },
      "text/plain": [
       "Train 4:   0%|          | 0/85 [00:00<?, ?it/s]"
      ]
     },
     "metadata": {},
     "output_type": "display_data"
    },
    {
     "data": {
      "application/vnd.jupyter.widget-view+json": {
       "model_id": "ed6162b5b4dc48b4bc558e215cf2495c",
       "version_major": 2,
       "version_minor": 0
      },
      "text/plain": [
       "Eval AUC:   0%|          | 0/3 [00:00<?, ?it/s]"
      ]
     },
     "metadata": {},
     "output_type": "display_data"
    },
    {
     "data": {
      "application/vnd.jupyter.widget-view+json": {
       "model_id": "6a725c64da234355ad6b86376403677d",
       "version_major": 2,
       "version_minor": 0
      },
      "text/plain": [
       "Eval Hits:   0%|          | 0/3 [00:00<?, ?it/s]"
      ]
     },
     "metadata": {},
     "output_type": "display_data"
    },
    {
     "data": {
      "application/vnd.jupyter.widget-view+json": {
       "model_id": "aedcc992a38846f08ae33c724f2cc4a6",
       "version_major": 2,
       "version_minor": 0
      },
      "text/plain": [
       "Train 5:   0%|          | 0/85 [00:00<?, ?it/s]"
      ]
     },
     "metadata": {},
     "output_type": "display_data"
    },
    {
     "data": {
      "application/vnd.jupyter.widget-view+json": {
       "model_id": "6d04cb65d21e476592d2281436dc427e",
       "version_major": 2,
       "version_minor": 0
      },
      "text/plain": [
       "Eval AUC:   0%|          | 0/3 [00:00<?, ?it/s]"
      ]
     },
     "metadata": {},
     "output_type": "display_data"
    },
    {
     "data": {
      "application/vnd.jupyter.widget-view+json": {
       "model_id": "f12e6566f5cd43d2a3c5cc4bbaedac12",
       "version_major": 2,
       "version_minor": 0
      },
      "text/plain": [
       "Eval Hits:   0%|          | 0/3 [00:00<?, ?it/s]"
      ]
     },
     "metadata": {},
     "output_type": "display_data"
    },
    {
     "data": {
      "application/vnd.jupyter.widget-view+json": {
       "model_id": "2861134b9b224ceaa68dd8726a74fba1",
       "version_major": 2,
       "version_minor": 0
      },
      "text/plain": [
       "Train 6:   0%|          | 0/85 [00:00<?, ?it/s]"
      ]
     },
     "metadata": {},
     "output_type": "display_data"
    },
    {
     "data": {
      "application/vnd.jupyter.widget-view+json": {
       "model_id": "d6edcc747a5445b4a5101f3700e7a422",
       "version_major": 2,
       "version_minor": 0
      },
      "text/plain": [
       "Eval AUC:   0%|          | 0/3 [00:00<?, ?it/s]"
      ]
     },
     "metadata": {},
     "output_type": "display_data"
    },
    {
     "data": {
      "application/vnd.jupyter.widget-view+json": {
       "model_id": "be3f971ef86141e49357bcf671d5035e",
       "version_major": 2,
       "version_minor": 0
      },
      "text/plain": [
       "Eval Hits:   0%|          | 0/3 [00:00<?, ?it/s]"
      ]
     },
     "metadata": {},
     "output_type": "display_data"
    },
    {
     "data": {
      "application/vnd.jupyter.widget-view+json": {
       "model_id": "485eb0fbe43e4ac1b911e7e912e64b2b",
       "version_major": 2,
       "version_minor": 0
      },
      "text/plain": [
       "Train 7:   0%|          | 0/85 [00:00<?, ?it/s]"
      ]
     },
     "metadata": {},
     "output_type": "display_data"
    },
    {
     "data": {
      "application/vnd.jupyter.widget-view+json": {
       "model_id": "94629a76d919485eb70450a85273a6ac",
       "version_major": 2,
       "version_minor": 0
      },
      "text/plain": [
       "Eval AUC:   0%|          | 0/3 [00:00<?, ?it/s]"
      ]
     },
     "metadata": {},
     "output_type": "display_data"
    },
    {
     "data": {
      "application/vnd.jupyter.widget-view+json": {
       "model_id": "bcf45713b4d445859f65020e21c1433b",
       "version_major": 2,
       "version_minor": 0
      },
      "text/plain": [
       "Eval Hits:   0%|          | 0/3 [00:00<?, ?it/s]"
      ]
     },
     "metadata": {},
     "output_type": "display_data"
    },
    {
     "data": {
      "application/vnd.jupyter.widget-view+json": {
       "model_id": "7b884a045c6440c68b685fa23332c1b9",
       "version_major": 2,
       "version_minor": 0
      },
      "text/plain": [
       "Train 8:   0%|          | 0/85 [00:00<?, ?it/s]"
      ]
     },
     "metadata": {},
     "output_type": "display_data"
    },
    {
     "data": {
      "application/vnd.jupyter.widget-view+json": {
       "model_id": "f0853710e79b48a68c0e43337ff93295",
       "version_major": 2,
       "version_minor": 0
      },
      "text/plain": [
       "Eval AUC:   0%|          | 0/3 [00:00<?, ?it/s]"
      ]
     },
     "metadata": {},
     "output_type": "display_data"
    },
    {
     "data": {
      "application/vnd.jupyter.widget-view+json": {
       "model_id": "fd81d9edaffb4a67a123a12fb8144dfc",
       "version_major": 2,
       "version_minor": 0
      },
      "text/plain": [
       "Eval Hits:   0%|          | 0/3 [00:00<?, ?it/s]"
      ]
     },
     "metadata": {},
     "output_type": "display_data"
    },
    {
     "data": {
      "application/vnd.jupyter.widget-view+json": {
       "model_id": "1734f9664d894d3e861378c64604f108",
       "version_major": 2,
       "version_minor": 0
      },
      "text/plain": [
       "Train 9:   0%|          | 0/85 [00:00<?, ?it/s]"
      ]
     },
     "metadata": {},
     "output_type": "display_data"
    },
    {
     "data": {
      "application/vnd.jupyter.widget-view+json": {
       "model_id": "d511caec67dc40c5ad428083f4c3248e",
       "version_major": 2,
       "version_minor": 0
      },
      "text/plain": [
       "Eval AUC:   0%|          | 0/3 [00:00<?, ?it/s]"
      ]
     },
     "metadata": {},
     "output_type": "display_data"
    },
    {
     "data": {
      "application/vnd.jupyter.widget-view+json": {
       "model_id": "869181efc826417e892d441e0f3d780e",
       "version_major": 2,
       "version_minor": 0
      },
      "text/plain": [
       "Eval Hits:   0%|          | 0/3 [00:00<?, ?it/s]"
      ]
     },
     "metadata": {},
     "output_type": "display_data"
    },
    {
     "data": {
      "application/vnd.jupyter.widget-view+json": {
       "model_id": "f9ddca6e8ab147ff9eaf7461ff7152de",
       "version_major": 2,
       "version_minor": 0
      },
      "text/plain": [
       "Train 10:   0%|          | 0/85 [00:00<?, ?it/s]"
      ]
     },
     "metadata": {},
     "output_type": "display_data"
    },
    {
     "data": {
      "application/vnd.jupyter.widget-view+json": {
       "model_id": "f1455c1eff934b5986c68990258d19bc",
       "version_major": 2,
       "version_minor": 0
      },
      "text/plain": [
       "Eval AUC:   0%|          | 0/3 [00:00<?, ?it/s]"
      ]
     },
     "metadata": {},
     "output_type": "display_data"
    },
    {
     "data": {
      "application/vnd.jupyter.widget-view+json": {
       "model_id": "9d1462b7af2d4f1ba04272cc316f99d8",
       "version_major": 2,
       "version_minor": 0
      },
      "text/plain": [
       "Eval Hits:   0%|          | 0/3 [00:00<?, ?it/s]"
      ]
     },
     "metadata": {},
     "output_type": "display_data"
    },
    {
     "data": {
      "application/vnd.jupyter.widget-view+json": {
       "model_id": "72b231d9d2874860aff95b33126ca33a",
       "version_major": 2,
       "version_minor": 0
      },
      "text/plain": [
       "Train 11:   0%|          | 0/85 [00:00<?, ?it/s]"
      ]
     },
     "metadata": {},
     "output_type": "display_data"
    },
    {
     "data": {
      "application/vnd.jupyter.widget-view+json": {
       "model_id": "d9d08ed987944224a308e16896abba8e",
       "version_major": 2,
       "version_minor": 0
      },
      "text/plain": [
       "Eval AUC:   0%|          | 0/3 [00:00<?, ?it/s]"
      ]
     },
     "metadata": {},
     "output_type": "display_data"
    },
    {
     "data": {
      "application/vnd.jupyter.widget-view+json": {
       "model_id": "eae655c7f9fc4669855e9eff872a2fbf",
       "version_major": 2,
       "version_minor": 0
      },
      "text/plain": [
       "Eval Hits:   0%|          | 0/3 [00:00<?, ?it/s]"
      ]
     },
     "metadata": {},
     "output_type": "display_data"
    },
    {
     "data": {
      "application/vnd.jupyter.widget-view+json": {
       "model_id": "e808c7e45c96478d86fbabd1d8ba7709",
       "version_major": 2,
       "version_minor": 0
      },
      "text/plain": [
       "Train 12:   0%|          | 0/85 [00:00<?, ?it/s]"
      ]
     },
     "metadata": {},
     "output_type": "display_data"
    },
    {
     "data": {
      "application/vnd.jupyter.widget-view+json": {
       "model_id": "489fd6c6de0d4f829e7243fbf7525b6c",
       "version_major": 2,
       "version_minor": 0
      },
      "text/plain": [
       "Eval AUC:   0%|          | 0/3 [00:00<?, ?it/s]"
      ]
     },
     "metadata": {},
     "output_type": "display_data"
    },
    {
     "data": {
      "application/vnd.jupyter.widget-view+json": {
       "model_id": "3b51e0465f0b4fc8a9be213c23673f5a",
       "version_major": 2,
       "version_minor": 0
      },
      "text/plain": [
       "Eval Hits:   0%|          | 0/3 [00:00<?, ?it/s]"
      ]
     },
     "metadata": {},
     "output_type": "display_data"
    },
    {
     "data": {
      "application/vnd.jupyter.widget-view+json": {
       "model_id": "95ba5645c20b4a5584ce24469132bb0a",
       "version_major": 2,
       "version_minor": 0
      },
      "text/plain": [
       "Train 13:   0%|          | 0/85 [00:00<?, ?it/s]"
      ]
     },
     "metadata": {},
     "output_type": "display_data"
    },
    {
     "data": {
      "application/vnd.jupyter.widget-view+json": {
       "model_id": "5662c3a2a8b74f928379e7c90fef1769",
       "version_major": 2,
       "version_minor": 0
      },
      "text/plain": [
       "Eval AUC:   0%|          | 0/3 [00:00<?, ?it/s]"
      ]
     },
     "metadata": {},
     "output_type": "display_data"
    },
    {
     "data": {
      "application/vnd.jupyter.widget-view+json": {
       "model_id": "d7862de081a94fc18a2c7e14651f1e55",
       "version_major": 2,
       "version_minor": 0
      },
      "text/plain": [
       "Eval Hits:   0%|          | 0/3 [00:00<?, ?it/s]"
      ]
     },
     "metadata": {},
     "output_type": "display_data"
    },
    {
     "data": {
      "application/vnd.jupyter.widget-view+json": {
       "model_id": "ca7981bff3b6437eadee314d1bc1ea36",
       "version_major": 2,
       "version_minor": 0
      },
      "text/plain": [
       "Train 14:   0%|          | 0/85 [00:00<?, ?it/s]"
      ]
     },
     "metadata": {},
     "output_type": "display_data"
    },
    {
     "data": {
      "application/vnd.jupyter.widget-view+json": {
       "model_id": "6e47cc34f1d745e39ab82671fa3f4cbe",
       "version_major": 2,
       "version_minor": 0
      },
      "text/plain": [
       "Eval AUC:   0%|          | 0/3 [00:00<?, ?it/s]"
      ]
     },
     "metadata": {},
     "output_type": "display_data"
    },
    {
     "data": {
      "application/vnd.jupyter.widget-view+json": {
       "model_id": "e7098d0ff31d4a578a0e031a43350507",
       "version_major": 2,
       "version_minor": 0
      },
      "text/plain": [
       "Eval Hits:   0%|          | 0/3 [00:00<?, ?it/s]"
      ]
     },
     "metadata": {},
     "output_type": "display_data"
    },
    {
     "data": {
      "application/vnd.jupyter.widget-view+json": {
       "model_id": "a732935026a4477ea95f6f5792a417fb",
       "version_major": 2,
       "version_minor": 0
      },
      "text/plain": [
       "Train 15:   0%|          | 0/85 [00:00<?, ?it/s]"
      ]
     },
     "metadata": {},
     "output_type": "display_data"
    },
    {
     "data": {
      "application/vnd.jupyter.widget-view+json": {
       "model_id": "37912e7a7c3748c5b7c98e86e7ba02b7",
       "version_major": 2,
       "version_minor": 0
      },
      "text/plain": [
       "Eval AUC:   0%|          | 0/3 [00:00<?, ?it/s]"
      ]
     },
     "metadata": {},
     "output_type": "display_data"
    },
    {
     "data": {
      "application/vnd.jupyter.widget-view+json": {
       "model_id": "243100e901bb40f58cb8a8ae156db700",
       "version_major": 2,
       "version_minor": 0
      },
      "text/plain": [
       "Eval Hits:   0%|          | 0/3 [00:00<?, ?it/s]"
      ]
     },
     "metadata": {},
     "output_type": "display_data"
    },
    {
     "data": {
      "application/vnd.jupyter.widget-view+json": {
       "model_id": "d3a5cc9d01844141b00c60278a6bf01c",
       "version_major": 2,
       "version_minor": 0
      },
      "text/plain": [
       "Train 16:   0%|          | 0/85 [00:00<?, ?it/s]"
      ]
     },
     "metadata": {},
     "output_type": "display_data"
    },
    {
     "data": {
      "application/vnd.jupyter.widget-view+json": {
       "model_id": "a13bcc44527442fa9bb17c1f034bf4f4",
       "version_major": 2,
       "version_minor": 0
      },
      "text/plain": [
       "Eval AUC:   0%|          | 0/3 [00:00<?, ?it/s]"
      ]
     },
     "metadata": {},
     "output_type": "display_data"
    },
    {
     "data": {
      "application/vnd.jupyter.widget-view+json": {
       "model_id": "ac8bec05133b442b860fc2172ccbeae7",
       "version_major": 2,
       "version_minor": 0
      },
      "text/plain": [
       "Eval Hits:   0%|          | 0/3 [00:00<?, ?it/s]"
      ]
     },
     "metadata": {},
     "output_type": "display_data"
    },
    {
     "data": {
      "application/vnd.jupyter.widget-view+json": {
       "model_id": "f96ef31c155041c98be9f5387ba1eb96",
       "version_major": 2,
       "version_minor": 0
      },
      "text/plain": [
       "Train 17:   0%|          | 0/85 [00:00<?, ?it/s]"
      ]
     },
     "metadata": {},
     "output_type": "display_data"
    },
    {
     "data": {
      "application/vnd.jupyter.widget-view+json": {
       "model_id": "7fff9cab8b224da38afdb9d9390d2e02",
       "version_major": 2,
       "version_minor": 0
      },
      "text/plain": [
       "Eval AUC:   0%|          | 0/3 [00:00<?, ?it/s]"
      ]
     },
     "metadata": {},
     "output_type": "display_data"
    },
    {
     "data": {
      "application/vnd.jupyter.widget-view+json": {
       "model_id": "e898b63ff7524248801b008001083757",
       "version_major": 2,
       "version_minor": 0
      },
      "text/plain": [
       "Eval Hits:   0%|          | 0/3 [00:00<?, ?it/s]"
      ]
     },
     "metadata": {},
     "output_type": "display_data"
    },
    {
     "data": {
      "application/vnd.jupyter.widget-view+json": {
       "model_id": "ec575939437a42de81969f423bf3c3d8",
       "version_major": 2,
       "version_minor": 0
      },
      "text/plain": [
       "Train 18:   0%|          | 0/85 [00:00<?, ?it/s]"
      ]
     },
     "metadata": {},
     "output_type": "display_data"
    },
    {
     "data": {
      "application/vnd.jupyter.widget-view+json": {
       "model_id": "00416d559c67467aba694063556ba181",
       "version_major": 2,
       "version_minor": 0
      },
      "text/plain": [
       "Eval AUC:   0%|          | 0/3 [00:00<?, ?it/s]"
      ]
     },
     "metadata": {},
     "output_type": "display_data"
    },
    {
     "data": {
      "application/vnd.jupyter.widget-view+json": {
       "model_id": "187b97b7eee145f1829c14e3ef419231",
       "version_major": 2,
       "version_minor": 0
      },
      "text/plain": [
       "Eval Hits:   0%|          | 0/3 [00:00<?, ?it/s]"
      ]
     },
     "metadata": {},
     "output_type": "display_data"
    },
    {
     "data": {
      "application/vnd.jupyter.widget-view+json": {
       "model_id": "3f44793030d04137aa22898d64596315",
       "version_major": 2,
       "version_minor": 0
      },
      "text/plain": [
       "Train 19:   0%|          | 0/85 [00:00<?, ?it/s]"
      ]
     },
     "metadata": {},
     "output_type": "display_data"
    },
    {
     "data": {
      "application/vnd.jupyter.widget-view+json": {
       "model_id": "43b8f52cffa243b0833c255b7172c135",
       "version_major": 2,
       "version_minor": 0
      },
      "text/plain": [
       "Eval AUC:   0%|          | 0/3 [00:00<?, ?it/s]"
      ]
     },
     "metadata": {},
     "output_type": "display_data"
    },
    {
     "data": {
      "application/vnd.jupyter.widget-view+json": {
       "model_id": "4b7335a8d1d248d7a746796985610bb5",
       "version_major": 2,
       "version_minor": 0
      },
      "text/plain": [
       "Eval Hits:   0%|          | 0/3 [00:00<?, ?it/s]"
      ]
     },
     "metadata": {},
     "output_type": "display_data"
    },
    {
     "data": {
      "application/vnd.jupyter.widget-view+json": {
       "model_id": "1e0fdfd3b7ee47daa6a691df082da4da",
       "version_major": 2,
       "version_minor": 0
      },
      "text/plain": [
       "Train 20:   0%|          | 0/85 [00:00<?, ?it/s]"
      ]
     },
     "metadata": {},
     "output_type": "display_data"
    },
    {
     "data": {
      "application/vnd.jupyter.widget-view+json": {
       "model_id": "919fe0a64fe24ca796dbbaf90fc490fe",
       "version_major": 2,
       "version_minor": 0
      },
      "text/plain": [
       "Eval AUC:   0%|          | 0/3 [00:00<?, ?it/s]"
      ]
     },
     "metadata": {},
     "output_type": "display_data"
    },
    {
     "data": {
      "application/vnd.jupyter.widget-view+json": {
       "model_id": "ef1f19ae640d4073bd6c157847334d70",
       "version_major": 2,
       "version_minor": 0
      },
      "text/plain": [
       "Eval Hits:   0%|          | 0/3 [00:00<?, ?it/s]"
      ]
     },
     "metadata": {},
     "output_type": "display_data"
    },
    {
     "data": {
      "application/vnd.jupyter.widget-view+json": {
       "model_id": "46e6a84da00c45ffba1830f8dc6eb19a",
       "version_major": 2,
       "version_minor": 0
      },
      "text/plain": [
       "Train 21:   0%|          | 0/85 [00:00<?, ?it/s]"
      ]
     },
     "metadata": {},
     "output_type": "display_data"
    },
    {
     "data": {
      "application/vnd.jupyter.widget-view+json": {
       "model_id": "b072266890314db5921a347325274561",
       "version_major": 2,
       "version_minor": 0
      },
      "text/plain": [
       "Eval AUC:   0%|          | 0/3 [00:00<?, ?it/s]"
      ]
     },
     "metadata": {},
     "output_type": "display_data"
    },
    {
     "data": {
      "application/vnd.jupyter.widget-view+json": {
       "model_id": "f601c3b263d34ccea8127bd7f0da082b",
       "version_major": 2,
       "version_minor": 0
      },
      "text/plain": [
       "Eval Hits:   0%|          | 0/3 [00:00<?, ?it/s]"
      ]
     },
     "metadata": {},
     "output_type": "display_data"
    },
    {
     "data": {
      "application/vnd.jupyter.widget-view+json": {
       "model_id": "6073ad28993249508316d33ad8eddd9c",
       "version_major": 2,
       "version_minor": 0
      },
      "text/plain": [
       "Train 22:   0%|          | 0/85 [00:00<?, ?it/s]"
      ]
     },
     "metadata": {},
     "output_type": "display_data"
    },
    {
     "data": {
      "application/vnd.jupyter.widget-view+json": {
       "model_id": "3656bd3a3abb4ae5b85867ec25c5647c",
       "version_major": 2,
       "version_minor": 0
      },
      "text/plain": [
       "Eval AUC:   0%|          | 0/3 [00:00<?, ?it/s]"
      ]
     },
     "metadata": {},
     "output_type": "display_data"
    },
    {
     "data": {
      "application/vnd.jupyter.widget-view+json": {
       "model_id": "e62d105c7dcf404db1163610b9462969",
       "version_major": 2,
       "version_minor": 0
      },
      "text/plain": [
       "Eval Hits:   0%|          | 0/3 [00:00<?, ?it/s]"
      ]
     },
     "metadata": {},
     "output_type": "display_data"
    },
    {
     "data": {
      "application/vnd.jupyter.widget-view+json": {
       "model_id": "c0e2da194b094f929ef350b33cdd8af3",
       "version_major": 2,
       "version_minor": 0
      },
      "text/plain": [
       "Train 23:   0%|          | 0/85 [00:00<?, ?it/s]"
      ]
     },
     "metadata": {},
     "output_type": "display_data"
    },
    {
     "data": {
      "application/vnd.jupyter.widget-view+json": {
       "model_id": "5d0f40613c364a01b2c0af1cd2515379",
       "version_major": 2,
       "version_minor": 0
      },
      "text/plain": [
       "Eval AUC:   0%|          | 0/3 [00:00<?, ?it/s]"
      ]
     },
     "metadata": {},
     "output_type": "display_data"
    },
    {
     "data": {
      "application/vnd.jupyter.widget-view+json": {
       "model_id": "c15a62beb4ce4ad0b46e4e6887f3d1ca",
       "version_major": 2,
       "version_minor": 0
      },
      "text/plain": [
       "Eval Hits:   0%|          | 0/3 [00:00<?, ?it/s]"
      ]
     },
     "metadata": {},
     "output_type": "display_data"
    },
    {
     "data": {
      "application/vnd.jupyter.widget-view+json": {
       "model_id": "8bcfb78d11c74ea5b0dbc8a4a4c9a6ed",
       "version_major": 2,
       "version_minor": 0
      },
      "text/plain": [
       "Train 24:   0%|          | 0/85 [00:00<?, ?it/s]"
      ]
     },
     "metadata": {},
     "output_type": "display_data"
    },
    {
     "data": {
      "application/vnd.jupyter.widget-view+json": {
       "model_id": "7e1f8aa06e64405cac76bf4828bee559",
       "version_major": 2,
       "version_minor": 0
      },
      "text/plain": [
       "Eval AUC:   0%|          | 0/3 [00:00<?, ?it/s]"
      ]
     },
     "metadata": {},
     "output_type": "display_data"
    },
    {
     "data": {
      "application/vnd.jupyter.widget-view+json": {
       "model_id": "e3d05ab70b514a70a83efed76d00cb7b",
       "version_major": 2,
       "version_minor": 0
      },
      "text/plain": [
       "Eval Hits:   0%|          | 0/3 [00:00<?, ?it/s]"
      ]
     },
     "metadata": {},
     "output_type": "display_data"
    },
    {
     "data": {
      "application/vnd.jupyter.widget-view+json": {
       "model_id": "58a986f6cd694c7b960d736428827d5b",
       "version_major": 2,
       "version_minor": 0
      },
      "text/plain": [
       "Train 25:   0%|          | 0/85 [00:00<?, ?it/s]"
      ]
     },
     "metadata": {},
     "output_type": "display_data"
    },
    {
     "data": {
      "application/vnd.jupyter.widget-view+json": {
       "model_id": "c80421bd74794584b49f503d19c60730",
       "version_major": 2,
       "version_minor": 0
      },
      "text/plain": [
       "Eval AUC:   0%|          | 0/3 [00:00<?, ?it/s]"
      ]
     },
     "metadata": {},
     "output_type": "display_data"
    },
    {
     "data": {
      "application/vnd.jupyter.widget-view+json": {
       "model_id": "733cf96c6c954c2bb9d58c1fb2c2ec5f",
       "version_major": 2,
       "version_minor": 0
      },
      "text/plain": [
       "Eval Hits:   0%|          | 0/3 [00:00<?, ?it/s]"
      ]
     },
     "metadata": {},
     "output_type": "display_data"
    },
    {
     "data": {
      "application/vnd.jupyter.widget-view+json": {
       "model_id": "04beddad0085466eb3157c661bbe478a",
       "version_major": 2,
       "version_minor": 0
      },
      "text/plain": [
       "Train 26:   0%|          | 0/85 [00:00<?, ?it/s]"
      ]
     },
     "metadata": {},
     "output_type": "display_data"
    },
    {
     "data": {
      "application/vnd.jupyter.widget-view+json": {
       "model_id": "8df635032507420f9a7da2ce45c344e2",
       "version_major": 2,
       "version_minor": 0
      },
      "text/plain": [
       "Eval AUC:   0%|          | 0/3 [00:00<?, ?it/s]"
      ]
     },
     "metadata": {},
     "output_type": "display_data"
    },
    {
     "data": {
      "application/vnd.jupyter.widget-view+json": {
       "model_id": "735d1af55c534eacb12d7915d377e890",
       "version_major": 2,
       "version_minor": 0
      },
      "text/plain": [
       "Eval Hits:   0%|          | 0/3 [00:00<?, ?it/s]"
      ]
     },
     "metadata": {},
     "output_type": "display_data"
    },
    {
     "data": {
      "application/vnd.jupyter.widget-view+json": {
       "model_id": "e2332e1694124d5e90b63ab89396b930",
       "version_major": 2,
       "version_minor": 0
      },
      "text/plain": [
       "Train 27:   0%|          | 0/85 [00:00<?, ?it/s]"
      ]
     },
     "metadata": {},
     "output_type": "display_data"
    },
    {
     "data": {
      "application/vnd.jupyter.widget-view+json": {
       "model_id": "8560a0cd120f4f7c9f22601074a50d4a",
       "version_major": 2,
       "version_minor": 0
      },
      "text/plain": [
       "Eval AUC:   0%|          | 0/3 [00:00<?, ?it/s]"
      ]
     },
     "metadata": {},
     "output_type": "display_data"
    },
    {
     "data": {
      "application/vnd.jupyter.widget-view+json": {
       "model_id": "54b299847a754a9283cf132b1e9fea86",
       "version_major": 2,
       "version_minor": 0
      },
      "text/plain": [
       "Eval Hits:   0%|          | 0/3 [00:00<?, ?it/s]"
      ]
     },
     "metadata": {},
     "output_type": "display_data"
    },
    {
     "data": {
      "application/vnd.jupyter.widget-view+json": {
       "model_id": "52876a9561bf48a6a3164f5cb4270fd3",
       "version_major": 2,
       "version_minor": 0
      },
      "text/plain": [
       "Train 28:   0%|          | 0/85 [00:00<?, ?it/s]"
      ]
     },
     "metadata": {},
     "output_type": "display_data"
    },
    {
     "data": {
      "application/vnd.jupyter.widget-view+json": {
       "model_id": "2aa665216a4c4c3fba8e4e5ef74c2847",
       "version_major": 2,
       "version_minor": 0
      },
      "text/plain": [
       "Eval AUC:   0%|          | 0/3 [00:00<?, ?it/s]"
      ]
     },
     "metadata": {},
     "output_type": "display_data"
    },
    {
     "data": {
      "application/vnd.jupyter.widget-view+json": {
       "model_id": "497fc7860da04488a466b7583fa78a9f",
       "version_major": 2,
       "version_minor": 0
      },
      "text/plain": [
       "Eval Hits:   0%|          | 0/3 [00:00<?, ?it/s]"
      ]
     },
     "metadata": {},
     "output_type": "display_data"
    },
    {
     "data": {
      "application/vnd.jupyter.widget-view+json": {
       "model_id": "f6bbd76839e8439f906dbbd2d2eb99d6",
       "version_major": 2,
       "version_minor": 0
      },
      "text/plain": [
       "Train 29:   0%|          | 0/85 [00:00<?, ?it/s]"
      ]
     },
     "metadata": {},
     "output_type": "display_data"
    },
    {
     "data": {
      "application/vnd.jupyter.widget-view+json": {
       "model_id": "db8e2de8bf2b4c03b78560c5578ab2a9",
       "version_major": 2,
       "version_minor": 0
      },
      "text/plain": [
       "Eval AUC:   0%|          | 0/3 [00:00<?, ?it/s]"
      ]
     },
     "metadata": {},
     "output_type": "display_data"
    },
    {
     "data": {
      "application/vnd.jupyter.widget-view+json": {
       "model_id": "b88f4f85d2ca4b3785a13343befa23a4",
       "version_major": 2,
       "version_minor": 0
      },
      "text/plain": [
       "Eval Hits:   0%|          | 0/3 [00:00<?, ?it/s]"
      ]
     },
     "metadata": {},
     "output_type": "display_data"
    },
    {
     "data": {
      "application/vnd.jupyter.widget-view+json": {
       "model_id": "7b3ee2cdc02747c5883bed400469578e",
       "version_major": 2,
       "version_minor": 0
      },
      "text/plain": [
       "Train 30:   0%|          | 0/85 [00:00<?, ?it/s]"
      ]
     },
     "metadata": {},
     "output_type": "display_data"
    },
    {
     "data": {
      "application/vnd.jupyter.widget-view+json": {
       "model_id": "e51014ea4a9e4b76af2b2a3056e64289",
       "version_major": 2,
       "version_minor": 0
      },
      "text/plain": [
       "Eval AUC:   0%|          | 0/3 [00:00<?, ?it/s]"
      ]
     },
     "metadata": {},
     "output_type": "display_data"
    },
    {
     "data": {
      "application/vnd.jupyter.widget-view+json": {
       "model_id": "19c1685d5e214687a074cc4352f20068",
       "version_major": 2,
       "version_minor": 0
      },
      "text/plain": [
       "Eval Hits:   0%|          | 0/3 [00:00<?, ?it/s]"
      ]
     },
     "metadata": {},
     "output_type": "display_data"
    },
    {
     "data": {
      "application/vnd.jupyter.widget-view+json": {
       "model_id": "45bc4b2fa7b748b0bc98d1c9abbf2b24",
       "version_major": 2,
       "version_minor": 0
      },
      "text/plain": [
       "Train 31:   0%|          | 0/85 [00:00<?, ?it/s]"
      ]
     },
     "metadata": {},
     "output_type": "display_data"
    },
    {
     "data": {
      "application/vnd.jupyter.widget-view+json": {
       "model_id": "5d5d7506483f48ee95fc16920a70820c",
       "version_major": 2,
       "version_minor": 0
      },
      "text/plain": [
       "Eval AUC:   0%|          | 0/3 [00:00<?, ?it/s]"
      ]
     },
     "metadata": {},
     "output_type": "display_data"
    },
    {
     "data": {
      "application/vnd.jupyter.widget-view+json": {
       "model_id": "e26bb529fa8a46d281d7ce93e5ee0b1b",
       "version_major": 2,
       "version_minor": 0
      },
      "text/plain": [
       "Eval Hits:   0%|          | 0/3 [00:00<?, ?it/s]"
      ]
     },
     "metadata": {},
     "output_type": "display_data"
    },
    {
     "data": {
      "application/vnd.jupyter.widget-view+json": {
       "model_id": "2e2eb1c60e7b4396a206213aa4d20e22",
       "version_major": 2,
       "version_minor": 0
      },
      "text/plain": [
       "Train 32:   0%|          | 0/85 [00:00<?, ?it/s]"
      ]
     },
     "metadata": {},
     "output_type": "display_data"
    },
    {
     "data": {
      "application/vnd.jupyter.widget-view+json": {
       "model_id": "2cbc11192d3e42dda5c396b649dac815",
       "version_major": 2,
       "version_minor": 0
      },
      "text/plain": [
       "Eval AUC:   0%|          | 0/3 [00:00<?, ?it/s]"
      ]
     },
     "metadata": {},
     "output_type": "display_data"
    },
    {
     "data": {
      "application/vnd.jupyter.widget-view+json": {
       "model_id": "7e821c1f0e7a478ead14c0c98813fb7e",
       "version_major": 2,
       "version_minor": 0
      },
      "text/plain": [
       "Eval Hits:   0%|          | 0/3 [00:00<?, ?it/s]"
      ]
     },
     "metadata": {},
     "output_type": "display_data"
    },
    {
     "data": {
      "application/vnd.jupyter.widget-view+json": {
       "model_id": "59704ba00c6247a494b155d10ac5d843",
       "version_major": 2,
       "version_minor": 0
      },
      "text/plain": [
       "Train 33:   0%|          | 0/85 [00:00<?, ?it/s]"
      ]
     },
     "metadata": {},
     "output_type": "display_data"
    },
    {
     "data": {
      "application/vnd.jupyter.widget-view+json": {
       "model_id": "14f17e4647494a1d94747544e80b233e",
       "version_major": 2,
       "version_minor": 0
      },
      "text/plain": [
       "Eval AUC:   0%|          | 0/3 [00:00<?, ?it/s]"
      ]
     },
     "metadata": {},
     "output_type": "display_data"
    },
    {
     "data": {
      "application/vnd.jupyter.widget-view+json": {
       "model_id": "2d4ba43769264f34a39a52704e8d4a04",
       "version_major": 2,
       "version_minor": 0
      },
      "text/plain": [
       "Eval Hits:   0%|          | 0/3 [00:00<?, ?it/s]"
      ]
     },
     "metadata": {},
     "output_type": "display_data"
    },
    {
     "data": {
      "application/vnd.jupyter.widget-view+json": {
       "model_id": "85d60664a7b240ff8c5ed06453d6301f",
       "version_major": 2,
       "version_minor": 0
      },
      "text/plain": [
       "Train 34:   0%|          | 0/85 [00:00<?, ?it/s]"
      ]
     },
     "metadata": {},
     "output_type": "display_data"
    },
    {
     "data": {
      "application/vnd.jupyter.widget-view+json": {
       "model_id": "7dffdc8f6339435081e0155a51747534",
       "version_major": 2,
       "version_minor": 0
      },
      "text/plain": [
       "Eval AUC:   0%|          | 0/3 [00:00<?, ?it/s]"
      ]
     },
     "metadata": {},
     "output_type": "display_data"
    },
    {
     "data": {
      "application/vnd.jupyter.widget-view+json": {
       "model_id": "f94631a095d343768cf808b3bcca9c3a",
       "version_major": 2,
       "version_minor": 0
      },
      "text/plain": [
       "Eval Hits:   0%|          | 0/3 [00:00<?, ?it/s]"
      ]
     },
     "metadata": {},
     "output_type": "display_data"
    },
    {
     "data": {
      "application/vnd.jupyter.widget-view+json": {
       "model_id": "c1429a3dc32a425fa120c41dcb1dcf64",
       "version_major": 2,
       "version_minor": 0
      },
      "text/plain": [
       "Train 35:   0%|          | 0/85 [00:00<?, ?it/s]"
      ]
     },
     "metadata": {},
     "output_type": "display_data"
    },
    {
     "data": {
      "application/vnd.jupyter.widget-view+json": {
       "model_id": "3020b19b28c644b29f3f9877ef5d3e3c",
       "version_major": 2,
       "version_minor": 0
      },
      "text/plain": [
       "Eval AUC:   0%|          | 0/3 [00:00<?, ?it/s]"
      ]
     },
     "metadata": {},
     "output_type": "display_data"
    },
    {
     "data": {
      "application/vnd.jupyter.widget-view+json": {
       "model_id": "5fe5155840c74a1bbbd0385ffbafdff3",
       "version_major": 2,
       "version_minor": 0
      },
      "text/plain": [
       "Eval Hits:   0%|          | 0/3 [00:00<?, ?it/s]"
      ]
     },
     "metadata": {},
     "output_type": "display_data"
    },
    {
     "data": {
      "application/vnd.jupyter.widget-view+json": {
       "model_id": "82f5f35f3fac44849da883a97a7c4dd4",
       "version_major": 2,
       "version_minor": 0
      },
      "text/plain": [
       "Train 36:   0%|          | 0/85 [00:00<?, ?it/s]"
      ]
     },
     "metadata": {},
     "output_type": "display_data"
    },
    {
     "data": {
      "application/vnd.jupyter.widget-view+json": {
       "model_id": "2833ad85c24e4d9c81b6196216d5c470",
       "version_major": 2,
       "version_minor": 0
      },
      "text/plain": [
       "Eval AUC:   0%|          | 0/3 [00:00<?, ?it/s]"
      ]
     },
     "metadata": {},
     "output_type": "display_data"
    },
    {
     "data": {
      "application/vnd.jupyter.widget-view+json": {
       "model_id": "1bda1256bb7a4624a43b80eba129b9eb",
       "version_major": 2,
       "version_minor": 0
      },
      "text/plain": [
       "Eval Hits:   0%|          | 0/3 [00:00<?, ?it/s]"
      ]
     },
     "metadata": {},
     "output_type": "display_data"
    },
    {
     "data": {
      "application/vnd.jupyter.widget-view+json": {
       "model_id": "73b892b56fb84db0ad58768a4f236bb4",
       "version_major": 2,
       "version_minor": 0
      },
      "text/plain": [
       "Train 37:   0%|          | 0/85 [00:00<?, ?it/s]"
      ]
     },
     "metadata": {},
     "output_type": "display_data"
    },
    {
     "data": {
      "application/vnd.jupyter.widget-view+json": {
       "model_id": "3f6c27f3462143d190518e3ebc0d83fc",
       "version_major": 2,
       "version_minor": 0
      },
      "text/plain": [
       "Eval AUC:   0%|          | 0/3 [00:00<?, ?it/s]"
      ]
     },
     "metadata": {},
     "output_type": "display_data"
    },
    {
     "data": {
      "application/vnd.jupyter.widget-view+json": {
       "model_id": "7a8e7c896352422fbcc9d4a19c9508f0",
       "version_major": 2,
       "version_minor": 0
      },
      "text/plain": [
       "Eval Hits:   0%|          | 0/3 [00:00<?, ?it/s]"
      ]
     },
     "metadata": {},
     "output_type": "display_data"
    },
    {
     "data": {
      "application/vnd.jupyter.widget-view+json": {
       "model_id": "eb56d920022049d89c3dae9756c382d2",
       "version_major": 2,
       "version_minor": 0
      },
      "text/plain": [
       "Train 38:   0%|          | 0/85 [00:00<?, ?it/s]"
      ]
     },
     "metadata": {},
     "output_type": "display_data"
    },
    {
     "data": {
      "application/vnd.jupyter.widget-view+json": {
       "model_id": "6c8ed5fc32f8475795c864b1ed11c676",
       "version_major": 2,
       "version_minor": 0
      },
      "text/plain": [
       "Eval AUC:   0%|          | 0/3 [00:00<?, ?it/s]"
      ]
     },
     "metadata": {},
     "output_type": "display_data"
    },
    {
     "data": {
      "application/vnd.jupyter.widget-view+json": {
       "model_id": "32c50738c5c34fabb2a08b24de375b1e",
       "version_major": 2,
       "version_minor": 0
      },
      "text/plain": [
       "Eval Hits:   0%|          | 0/3 [00:00<?, ?it/s]"
      ]
     },
     "metadata": {},
     "output_type": "display_data"
    },
    {
     "data": {
      "application/vnd.jupyter.widget-view+json": {
       "model_id": "8bf4475cf8ef47adb3276fb37a1b0a53",
       "version_major": 2,
       "version_minor": 0
      },
      "text/plain": [
       "Train 39:   0%|          | 0/85 [00:00<?, ?it/s]"
      ]
     },
     "metadata": {},
     "output_type": "display_data"
    },
    {
     "data": {
      "application/vnd.jupyter.widget-view+json": {
       "model_id": "777000c1aa634598854246963ebeb19b",
       "version_major": 2,
       "version_minor": 0
      },
      "text/plain": [
       "Eval AUC:   0%|          | 0/3 [00:00<?, ?it/s]"
      ]
     },
     "metadata": {},
     "output_type": "display_data"
    },
    {
     "data": {
      "application/vnd.jupyter.widget-view+json": {
       "model_id": "aff5b30e277c4f06bb266d689ed2de0d",
       "version_major": 2,
       "version_minor": 0
      },
      "text/plain": [
       "Eval Hits:   0%|          | 0/3 [00:00<?, ?it/s]"
      ]
     },
     "metadata": {},
     "output_type": "display_data"
    },
    {
     "data": {
      "application/vnd.jupyter.widget-view+json": {
       "model_id": "cab8bf9fe32e495abac2af94f1f71d8a",
       "version_major": 2,
       "version_minor": 0
      },
      "text/plain": [
       "Train 40:   0%|          | 0/85 [00:00<?, ?it/s]"
      ]
     },
     "metadata": {},
     "output_type": "display_data"
    },
    {
     "data": {
      "application/vnd.jupyter.widget-view+json": {
       "model_id": "2f8ff1b8a0b04729a701634c3717f450",
       "version_major": 2,
       "version_minor": 0
      },
      "text/plain": [
       "Eval AUC:   0%|          | 0/3 [00:00<?, ?it/s]"
      ]
     },
     "metadata": {},
     "output_type": "display_data"
    },
    {
     "data": {
      "application/vnd.jupyter.widget-view+json": {
       "model_id": "57f0cfe5863f41cdbec44d6992ef0abb",
       "version_major": 2,
       "version_minor": 0
      },
      "text/plain": [
       "Eval Hits:   0%|          | 0/3 [00:00<?, ?it/s]"
      ]
     },
     "metadata": {},
     "output_type": "display_data"
    },
    {
     "data": {
      "application/vnd.jupyter.widget-view+json": {
       "model_id": "98f8aee8d50244ca91e1a1e4f62758f5",
       "version_major": 2,
       "version_minor": 0
      },
      "text/plain": [
       "Train 41:   0%|          | 0/85 [00:00<?, ?it/s]"
      ]
     },
     "metadata": {},
     "output_type": "display_data"
    },
    {
     "data": {
      "application/vnd.jupyter.widget-view+json": {
       "model_id": "ef76fce1249e4956823e5a0041e6e372",
       "version_major": 2,
       "version_minor": 0
      },
      "text/plain": [
       "Eval AUC:   0%|          | 0/3 [00:00<?, ?it/s]"
      ]
     },
     "metadata": {},
     "output_type": "display_data"
    },
    {
     "data": {
      "application/vnd.jupyter.widget-view+json": {
       "model_id": "cc24e8d2d29a470cb880d6820de1f57a",
       "version_major": 2,
       "version_minor": 0
      },
      "text/plain": [
       "Eval Hits:   0%|          | 0/3 [00:00<?, ?it/s]"
      ]
     },
     "metadata": {},
     "output_type": "display_data"
    },
    {
     "data": {
      "application/vnd.jupyter.widget-view+json": {
       "model_id": "4ceefbfba7014389b8c6fb2597310ead",
       "version_major": 2,
       "version_minor": 0
      },
      "text/plain": [
       "Train 42:   0%|          | 0/85 [00:00<?, ?it/s]"
      ]
     },
     "metadata": {},
     "output_type": "display_data"
    },
    {
     "data": {
      "application/vnd.jupyter.widget-view+json": {
       "model_id": "09dc5422d8394a42b0f0d2ce0035181e",
       "version_major": 2,
       "version_minor": 0
      },
      "text/plain": [
       "Eval AUC:   0%|          | 0/3 [00:00<?, ?it/s]"
      ]
     },
     "metadata": {},
     "output_type": "display_data"
    },
    {
     "data": {
      "application/vnd.jupyter.widget-view+json": {
       "model_id": "c84a2129a3394021842aecf46e5e7716",
       "version_major": 2,
       "version_minor": 0
      },
      "text/plain": [
       "Eval Hits:   0%|          | 0/3 [00:00<?, ?it/s]"
      ]
     },
     "metadata": {},
     "output_type": "display_data"
    },
    {
     "data": {
      "application/vnd.jupyter.widget-view+json": {
       "model_id": "3db383c4ebd047f6a4ce3f082b2d30d9",
       "version_major": 2,
       "version_minor": 0
      },
      "text/plain": [
       "Train 43:   0%|          | 0/85 [00:00<?, ?it/s]"
      ]
     },
     "metadata": {},
     "output_type": "display_data"
    },
    {
     "data": {
      "application/vnd.jupyter.widget-view+json": {
       "model_id": "cabbb1e132f248f4adc4dcb75ba627aa",
       "version_major": 2,
       "version_minor": 0
      },
      "text/plain": [
       "Eval AUC:   0%|          | 0/3 [00:00<?, ?it/s]"
      ]
     },
     "metadata": {},
     "output_type": "display_data"
    },
    {
     "data": {
      "application/vnd.jupyter.widget-view+json": {
       "model_id": "45890991a557411c9d351ffb05f798ca",
       "version_major": 2,
       "version_minor": 0
      },
      "text/plain": [
       "Eval Hits:   0%|          | 0/3 [00:00<?, ?it/s]"
      ]
     },
     "metadata": {},
     "output_type": "display_data"
    },
    {
     "data": {
      "application/vnd.jupyter.widget-view+json": {
       "model_id": "63a2eb4714f1453db744de0d8554e2a3",
       "version_major": 2,
       "version_minor": 0
      },
      "text/plain": [
       "Train 44:   0%|          | 0/85 [00:00<?, ?it/s]"
      ]
     },
     "metadata": {},
     "output_type": "display_data"
    },
    {
     "data": {
      "application/vnd.jupyter.widget-view+json": {
       "model_id": "d39d071e721741588d645bd2053b9ef4",
       "version_major": 2,
       "version_minor": 0
      },
      "text/plain": [
       "Eval AUC:   0%|          | 0/3 [00:00<?, ?it/s]"
      ]
     },
     "metadata": {},
     "output_type": "display_data"
    },
    {
     "data": {
      "application/vnd.jupyter.widget-view+json": {
       "model_id": "1cef1f67023f4eadadf72db21c16e673",
       "version_major": 2,
       "version_minor": 0
      },
      "text/plain": [
       "Eval Hits:   0%|          | 0/3 [00:00<?, ?it/s]"
      ]
     },
     "metadata": {},
     "output_type": "display_data"
    },
    {
     "data": {
      "application/vnd.jupyter.widget-view+json": {
       "model_id": "0ea616169356419eaf207c5330c4a7f7",
       "version_major": 2,
       "version_minor": 0
      },
      "text/plain": [
       "Train 45:   0%|          | 0/85 [00:00<?, ?it/s]"
      ]
     },
     "metadata": {},
     "output_type": "display_data"
    },
    {
     "data": {
      "application/vnd.jupyter.widget-view+json": {
       "model_id": "c4d43d57bc644645beec50196c7a0a98",
       "version_major": 2,
       "version_minor": 0
      },
      "text/plain": [
       "Eval AUC:   0%|          | 0/3 [00:00<?, ?it/s]"
      ]
     },
     "metadata": {},
     "output_type": "display_data"
    },
    {
     "data": {
      "application/vnd.jupyter.widget-view+json": {
       "model_id": "3f2d7b62cd2743cda4936e3fc459e046",
       "version_major": 2,
       "version_minor": 0
      },
      "text/plain": [
       "Eval Hits:   0%|          | 0/3 [00:00<?, ?it/s]"
      ]
     },
     "metadata": {},
     "output_type": "display_data"
    },
    {
     "data": {
      "application/vnd.jupyter.widget-view+json": {
       "model_id": "7eb7f33681264d80b589289f75bbd303",
       "version_major": 2,
       "version_minor": 0
      },
      "text/plain": [
       "Train 46:   0%|          | 0/85 [00:00<?, ?it/s]"
      ]
     },
     "metadata": {},
     "output_type": "display_data"
    },
    {
     "data": {
      "application/vnd.jupyter.widget-view+json": {
       "model_id": "6f3acbc5bbfd4a3eb97762e59fd08bbb",
       "version_major": 2,
       "version_minor": 0
      },
      "text/plain": [
       "Eval AUC:   0%|          | 0/3 [00:00<?, ?it/s]"
      ]
     },
     "metadata": {},
     "output_type": "display_data"
    },
    {
     "data": {
      "application/vnd.jupyter.widget-view+json": {
       "model_id": "970f60d04dfb441090b83140cd6bab90",
       "version_major": 2,
       "version_minor": 0
      },
      "text/plain": [
       "Eval Hits:   0%|          | 0/3 [00:00<?, ?it/s]"
      ]
     },
     "metadata": {},
     "output_type": "display_data"
    },
    {
     "name": "stdout",
     "output_type": "stream",
     "text": [
      "Early stopping at epoch 46 (patience=10).\n",
      "Restored best model from epoch 36 | AUC=0.8171 | Hits@10=0.6874\n",
      "Model Training Results - 2025-10-14 07:26:56\n",
      "================================================================================\n",
      "\n",
      "\n",
      "GIN Training History\n",
      "============================================================\n",
      "\n",
      "Best Validation AUC: 0.8299\n",
      "Total Epochs Trained: 46\n",
      "Early Stopping Best Score: 0.6874 (Hits@10 at epoch 36)\n",
      "\n",
      "------------------------------------------------------------\n",
      "Epoch    Train Loss      Val AUC         Val Hits@10    \n",
      "------------------------------------------------------------\n",
      "1        0.6164          0.6919          0.3631         \n",
      "5        0.4698          0.7985          0.5178         \n",
      "10       0.4430          0.8034          0.5717         \n",
      "15       0.4302          0.8014          0.6060         \n",
      "20       0.4223          0.8280          0.6594         \n",
      "25       0.4156          0.8125          0.6610         \n",
      "30       0.4121          0.8159          0.6745         \n",
      "35       0.4086          0.8171          0.6706         \n",
      "40       0.4062          0.8167          0.6809         \n",
      "45       0.4066          0.8098          0.6808         \n",
      "\n",
      "\n",
      "✅ Report saved to: /Users/choonggi/Coding/jetbrains/sc4020-Project-1/GIN/results/gin_report_embed_dim=128|mlp_depth=3|aggre=3.txt\n"
     ]
    }
   ],
   "source": [
    "dm = KGDataModuleCollapsed(train_p, valid_p, test_p, add_reverse=True)\n",
    "hidden_layers,num_layers, emb_dim = 3, 3, 128\n",
    "encoder = GINEncoder(num_nodes=len(dm.ent2id), hidden_layers=hidden_layers, emb_dim=emb_dim, num_layers=num_layers, dropout=0.1)\n",
    "\n",
    "result = train_linkpred(\n",
    "    encoder, dm,\n",
    "    epochs=100, lr=1e-3, weight_decay=1e-4, patience=10,\n",
    "    show_tqdm=True,\n",
    "    save_best_path=f\"checkpoints/checkpoints_gin/{dataset}/gin_best_embed_dim={emb_dim}|mlp_depth={hidden_layers}|aggre={num_layers}.pt\",\n",
    "    save_on_improve=True                        # save every improvement\n",
    ")\n",
    "print_training_report(\"GIN\", result, save_path=f\"results/results_gin/{dataset}/gin_report_embed_dim={emb_dim}|mlp_depth={hidden_layers}|aggre={num_layers}.txt\")"
   ]
  },
  {
   "cell_type": "code",
   "execution_count": 8,
   "id": "4b91460028aaf06b",
   "metadata": {
    "ExecuteTime": {
     "end_time": "2025-10-14T01:32:29.818587Z",
     "start_time": "2025-10-13T23:26:56.759383Z"
    }
   },
   "outputs": [
    {
     "data": {
      "application/vnd.jupyter.widget-view+json": {
       "model_id": "504e0d34a3d948e1b1ccb39626e92121",
       "version_major": 2,
       "version_minor": 0
      },
      "text/plain": [
       "Epochs:   0%|          | 0/100 [00:00<?, ?it/s]"
      ]
     },
     "metadata": {},
     "output_type": "display_data"
    },
    {
     "data": {
      "application/vnd.jupyter.widget-view+json": {
       "model_id": "66ad38a9229b4bb482ff09b8d7697a60",
       "version_major": 2,
       "version_minor": 0
      },
      "text/plain": [
       "Train 1:   0%|          | 0/85 [00:00<?, ?it/s]"
      ]
     },
     "metadata": {},
     "output_type": "display_data"
    },
    {
     "data": {
      "application/vnd.jupyter.widget-view+json": {
       "model_id": "ae6e2f24c78a441bac5093df96721775",
       "version_major": 2,
       "version_minor": 0
      },
      "text/plain": [
       "Eval AUC:   0%|          | 0/3 [00:00<?, ?it/s]"
      ]
     },
     "metadata": {},
     "output_type": "display_data"
    },
    {
     "data": {
      "application/vnd.jupyter.widget-view+json": {
       "model_id": "6fa4510258bd49abbad3fd383030e879",
       "version_major": 2,
       "version_minor": 0
      },
      "text/plain": [
       "Eval Hits:   0%|          | 0/3 [00:00<?, ?it/s]"
      ]
     },
     "metadata": {},
     "output_type": "display_data"
    },
    {
     "data": {
      "application/vnd.jupyter.widget-view+json": {
       "model_id": "0cfbd072e3ca4f68af95ca9da6c6a42d",
       "version_major": 2,
       "version_minor": 0
      },
      "text/plain": [
       "Train 2:   0%|          | 0/85 [00:00<?, ?it/s]"
      ]
     },
     "metadata": {},
     "output_type": "display_data"
    },
    {
     "data": {
      "application/vnd.jupyter.widget-view+json": {
       "model_id": "c548d17ea00b42b1adc480b0a83d53f4",
       "version_major": 2,
       "version_minor": 0
      },
      "text/plain": [
       "Eval AUC:   0%|          | 0/3 [00:00<?, ?it/s]"
      ]
     },
     "metadata": {},
     "output_type": "display_data"
    },
    {
     "data": {
      "application/vnd.jupyter.widget-view+json": {
       "model_id": "aa0f1fa47d2047cc9942dfef0e377e23",
       "version_major": 2,
       "version_minor": 0
      },
      "text/plain": [
       "Eval Hits:   0%|          | 0/3 [00:00<?, ?it/s]"
      ]
     },
     "metadata": {},
     "output_type": "display_data"
    },
    {
     "data": {
      "application/vnd.jupyter.widget-view+json": {
       "model_id": "01553e385a974504ae742ecba3e5d6c1",
       "version_major": 2,
       "version_minor": 0
      },
      "text/plain": [
       "Train 3:   0%|          | 0/85 [00:00<?, ?it/s]"
      ]
     },
     "metadata": {},
     "output_type": "display_data"
    },
    {
     "data": {
      "application/vnd.jupyter.widget-view+json": {
       "model_id": "2554eaebbee8490ba7c0ecaaf0dc7fa9",
       "version_major": 2,
       "version_minor": 0
      },
      "text/plain": [
       "Eval AUC:   0%|          | 0/3 [00:00<?, ?it/s]"
      ]
     },
     "metadata": {},
     "output_type": "display_data"
    },
    {
     "data": {
      "application/vnd.jupyter.widget-view+json": {
       "model_id": "8ba702f6b749446db8f1b33f189dbdea",
       "version_major": 2,
       "version_minor": 0
      },
      "text/plain": [
       "Eval Hits:   0%|          | 0/3 [00:00<?, ?it/s]"
      ]
     },
     "metadata": {},
     "output_type": "display_data"
    },
    {
     "data": {
      "application/vnd.jupyter.widget-view+json": {
       "model_id": "8ce9bd275d924086bae9aaa5fb26af2a",
       "version_major": 2,
       "version_minor": 0
      },
      "text/plain": [
       "Train 4:   0%|          | 0/85 [00:00<?, ?it/s]"
      ]
     },
     "metadata": {},
     "output_type": "display_data"
    },
    {
     "data": {
      "application/vnd.jupyter.widget-view+json": {
       "model_id": "4d21c17d53b54187b919ee25e9b08b71",
       "version_major": 2,
       "version_minor": 0
      },
      "text/plain": [
       "Eval AUC:   0%|          | 0/3 [00:00<?, ?it/s]"
      ]
     },
     "metadata": {},
     "output_type": "display_data"
    },
    {
     "data": {
      "application/vnd.jupyter.widget-view+json": {
       "model_id": "ae52addb96d949f0b82520157a4031b6",
       "version_major": 2,
       "version_minor": 0
      },
      "text/plain": [
       "Eval Hits:   0%|          | 0/3 [00:00<?, ?it/s]"
      ]
     },
     "metadata": {},
     "output_type": "display_data"
    },
    {
     "data": {
      "application/vnd.jupyter.widget-view+json": {
       "model_id": "4c43a4df973a49e0a4fe4e18beaf9fdc",
       "version_major": 2,
       "version_minor": 0
      },
      "text/plain": [
       "Train 5:   0%|          | 0/85 [00:00<?, ?it/s]"
      ]
     },
     "metadata": {},
     "output_type": "display_data"
    },
    {
     "data": {
      "application/vnd.jupyter.widget-view+json": {
       "model_id": "32817ec56ef24438ad82ed010eee0dee",
       "version_major": 2,
       "version_minor": 0
      },
      "text/plain": [
       "Eval AUC:   0%|          | 0/3 [00:00<?, ?it/s]"
      ]
     },
     "metadata": {},
     "output_type": "display_data"
    },
    {
     "data": {
      "application/vnd.jupyter.widget-view+json": {
       "model_id": "b474d534eb6d4eba9d13d93aa51fa5a0",
       "version_major": 2,
       "version_minor": 0
      },
      "text/plain": [
       "Eval Hits:   0%|          | 0/3 [00:00<?, ?it/s]"
      ]
     },
     "metadata": {},
     "output_type": "display_data"
    },
    {
     "data": {
      "application/vnd.jupyter.widget-view+json": {
       "model_id": "d59c45f093f24637b30edf9b881756d1",
       "version_major": 2,
       "version_minor": 0
      },
      "text/plain": [
       "Train 6:   0%|          | 0/85 [00:00<?, ?it/s]"
      ]
     },
     "metadata": {},
     "output_type": "display_data"
    },
    {
     "data": {
      "application/vnd.jupyter.widget-view+json": {
       "model_id": "6968836084144df1be07fc3016d30de0",
       "version_major": 2,
       "version_minor": 0
      },
      "text/plain": [
       "Eval AUC:   0%|          | 0/3 [00:00<?, ?it/s]"
      ]
     },
     "metadata": {},
     "output_type": "display_data"
    },
    {
     "data": {
      "application/vnd.jupyter.widget-view+json": {
       "model_id": "cba267d43cf145f68751cdaf3aa3c3dd",
       "version_major": 2,
       "version_minor": 0
      },
      "text/plain": [
       "Eval Hits:   0%|          | 0/3 [00:00<?, ?it/s]"
      ]
     },
     "metadata": {},
     "output_type": "display_data"
    },
    {
     "data": {
      "application/vnd.jupyter.widget-view+json": {
       "model_id": "91d2cb0097724787937914ceb1d8eecc",
       "version_major": 2,
       "version_minor": 0
      },
      "text/plain": [
       "Train 7:   0%|          | 0/85 [00:00<?, ?it/s]"
      ]
     },
     "metadata": {},
     "output_type": "display_data"
    },
    {
     "data": {
      "application/vnd.jupyter.widget-view+json": {
       "model_id": "9f279230633d43ccbada658f3eb761bb",
       "version_major": 2,
       "version_minor": 0
      },
      "text/plain": [
       "Eval AUC:   0%|          | 0/3 [00:00<?, ?it/s]"
      ]
     },
     "metadata": {},
     "output_type": "display_data"
    },
    {
     "data": {
      "application/vnd.jupyter.widget-view+json": {
       "model_id": "8008e79e79fe4f7a8852501db3ae4810",
       "version_major": 2,
       "version_minor": 0
      },
      "text/plain": [
       "Eval Hits:   0%|          | 0/3 [00:00<?, ?it/s]"
      ]
     },
     "metadata": {},
     "output_type": "display_data"
    },
    {
     "data": {
      "application/vnd.jupyter.widget-view+json": {
       "model_id": "87837765806845debe3a101533f11ec7",
       "version_major": 2,
       "version_minor": 0
      },
      "text/plain": [
       "Train 8:   0%|          | 0/85 [00:00<?, ?it/s]"
      ]
     },
     "metadata": {},
     "output_type": "display_data"
    },
    {
     "data": {
      "application/vnd.jupyter.widget-view+json": {
       "model_id": "5fe723bb28434af39a9a792988e24581",
       "version_major": 2,
       "version_minor": 0
      },
      "text/plain": [
       "Eval AUC:   0%|          | 0/3 [00:00<?, ?it/s]"
      ]
     },
     "metadata": {},
     "output_type": "display_data"
    },
    {
     "data": {
      "application/vnd.jupyter.widget-view+json": {
       "model_id": "038483ed7a774bf4aeca6b62c43fd5d3",
       "version_major": 2,
       "version_minor": 0
      },
      "text/plain": [
       "Eval Hits:   0%|          | 0/3 [00:00<?, ?it/s]"
      ]
     },
     "metadata": {},
     "output_type": "display_data"
    },
    {
     "data": {
      "application/vnd.jupyter.widget-view+json": {
       "model_id": "9352625aa73246f892cf946f54986129",
       "version_major": 2,
       "version_minor": 0
      },
      "text/plain": [
       "Train 9:   0%|          | 0/85 [00:00<?, ?it/s]"
      ]
     },
     "metadata": {},
     "output_type": "display_data"
    },
    {
     "data": {
      "application/vnd.jupyter.widget-view+json": {
       "model_id": "d3d66e154752421fa6d1e019c649d6cc",
       "version_major": 2,
       "version_minor": 0
      },
      "text/plain": [
       "Eval AUC:   0%|          | 0/3 [00:00<?, ?it/s]"
      ]
     },
     "metadata": {},
     "output_type": "display_data"
    },
    {
     "data": {
      "application/vnd.jupyter.widget-view+json": {
       "model_id": "63461cf9c07f47f78b6a9842329ed496",
       "version_major": 2,
       "version_minor": 0
      },
      "text/plain": [
       "Eval Hits:   0%|          | 0/3 [00:00<?, ?it/s]"
      ]
     },
     "metadata": {},
     "output_type": "display_data"
    },
    {
     "data": {
      "application/vnd.jupyter.widget-view+json": {
       "model_id": "f852769f76e14e8f8f8718bd411502e6",
       "version_major": 2,
       "version_minor": 0
      },
      "text/plain": [
       "Train 10:   0%|          | 0/85 [00:00<?, ?it/s]"
      ]
     },
     "metadata": {},
     "output_type": "display_data"
    },
    {
     "data": {
      "application/vnd.jupyter.widget-view+json": {
       "model_id": "a789199bf4fc425a8e11af91e625f3de",
       "version_major": 2,
       "version_minor": 0
      },
      "text/plain": [
       "Eval AUC:   0%|          | 0/3 [00:00<?, ?it/s]"
      ]
     },
     "metadata": {},
     "output_type": "display_data"
    },
    {
     "data": {
      "application/vnd.jupyter.widget-view+json": {
       "model_id": "78ece1195a7b4e7d8124ebbbfa0bef86",
       "version_major": 2,
       "version_minor": 0
      },
      "text/plain": [
       "Eval Hits:   0%|          | 0/3 [00:00<?, ?it/s]"
      ]
     },
     "metadata": {},
     "output_type": "display_data"
    },
    {
     "data": {
      "application/vnd.jupyter.widget-view+json": {
       "model_id": "6fbe1cd30e96462e941f260d0c6278a8",
       "version_major": 2,
       "version_minor": 0
      },
      "text/plain": [
       "Train 11:   0%|          | 0/85 [00:00<?, ?it/s]"
      ]
     },
     "metadata": {},
     "output_type": "display_data"
    },
    {
     "data": {
      "application/vnd.jupyter.widget-view+json": {
       "model_id": "4e07a214e09f46479887bc7d2bdd1eb0",
       "version_major": 2,
       "version_minor": 0
      },
      "text/plain": [
       "Eval AUC:   0%|          | 0/3 [00:00<?, ?it/s]"
      ]
     },
     "metadata": {},
     "output_type": "display_data"
    },
    {
     "data": {
      "application/vnd.jupyter.widget-view+json": {
       "model_id": "d94d183a6ce64fec9e8380033a209828",
       "version_major": 2,
       "version_minor": 0
      },
      "text/plain": [
       "Eval Hits:   0%|          | 0/3 [00:00<?, ?it/s]"
      ]
     },
     "metadata": {},
     "output_type": "display_data"
    },
    {
     "data": {
      "application/vnd.jupyter.widget-view+json": {
       "model_id": "7ddf5e887fff4f4db687d16eedfc0a67",
       "version_major": 2,
       "version_minor": 0
      },
      "text/plain": [
       "Train 12:   0%|          | 0/85 [00:00<?, ?it/s]"
      ]
     },
     "metadata": {},
     "output_type": "display_data"
    },
    {
     "data": {
      "application/vnd.jupyter.widget-view+json": {
       "model_id": "7bdc9de90dc647198ab3f1bbdfbc4319",
       "version_major": 2,
       "version_minor": 0
      },
      "text/plain": [
       "Eval AUC:   0%|          | 0/3 [00:00<?, ?it/s]"
      ]
     },
     "metadata": {},
     "output_type": "display_data"
    },
    {
     "data": {
      "application/vnd.jupyter.widget-view+json": {
       "model_id": "8fd21c20a0cb44ffaf12d881848b33e9",
       "version_major": 2,
       "version_minor": 0
      },
      "text/plain": [
       "Eval Hits:   0%|          | 0/3 [00:00<?, ?it/s]"
      ]
     },
     "metadata": {},
     "output_type": "display_data"
    },
    {
     "data": {
      "application/vnd.jupyter.widget-view+json": {
       "model_id": "ca0a0ab9b26a43d7a90ffdf35acd16c3",
       "version_major": 2,
       "version_minor": 0
      },
      "text/plain": [
       "Train 13:   0%|          | 0/85 [00:00<?, ?it/s]"
      ]
     },
     "metadata": {},
     "output_type": "display_data"
    },
    {
     "data": {
      "application/vnd.jupyter.widget-view+json": {
       "model_id": "a30cba0a812c43e3b291bafcb6acf31f",
       "version_major": 2,
       "version_minor": 0
      },
      "text/plain": [
       "Eval AUC:   0%|          | 0/3 [00:00<?, ?it/s]"
      ]
     },
     "metadata": {},
     "output_type": "display_data"
    },
    {
     "data": {
      "application/vnd.jupyter.widget-view+json": {
       "model_id": "078e2711e3c940748a552ab82b0b03c6",
       "version_major": 2,
       "version_minor": 0
      },
      "text/plain": [
       "Eval Hits:   0%|          | 0/3 [00:00<?, ?it/s]"
      ]
     },
     "metadata": {},
     "output_type": "display_data"
    },
    {
     "data": {
      "application/vnd.jupyter.widget-view+json": {
       "model_id": "350790b5881342d9813c0b8a2112c94a",
       "version_major": 2,
       "version_minor": 0
      },
      "text/plain": [
       "Train 14:   0%|          | 0/85 [00:00<?, ?it/s]"
      ]
     },
     "metadata": {},
     "output_type": "display_data"
    },
    {
     "data": {
      "application/vnd.jupyter.widget-view+json": {
       "model_id": "85523f4500d9469d8fc19f12d8c9ddc0",
       "version_major": 2,
       "version_minor": 0
      },
      "text/plain": [
       "Eval AUC:   0%|          | 0/3 [00:00<?, ?it/s]"
      ]
     },
     "metadata": {},
     "output_type": "display_data"
    },
    {
     "data": {
      "application/vnd.jupyter.widget-view+json": {
       "model_id": "ebca846e66b2479c8cc74cc87b57e398",
       "version_major": 2,
       "version_minor": 0
      },
      "text/plain": [
       "Eval Hits:   0%|          | 0/3 [00:00<?, ?it/s]"
      ]
     },
     "metadata": {},
     "output_type": "display_data"
    },
    {
     "data": {
      "application/vnd.jupyter.widget-view+json": {
       "model_id": "4e11a79e7da64316a761eca9176faebe",
       "version_major": 2,
       "version_minor": 0
      },
      "text/plain": [
       "Train 15:   0%|          | 0/85 [00:00<?, ?it/s]"
      ]
     },
     "metadata": {},
     "output_type": "display_data"
    },
    {
     "data": {
      "application/vnd.jupyter.widget-view+json": {
       "model_id": "8caaf138f1bf4c9b9f4289ba4fb6ffaf",
       "version_major": 2,
       "version_minor": 0
      },
      "text/plain": [
       "Eval AUC:   0%|          | 0/3 [00:00<?, ?it/s]"
      ]
     },
     "metadata": {},
     "output_type": "display_data"
    },
    {
     "data": {
      "application/vnd.jupyter.widget-view+json": {
       "model_id": "c658c43ea5e345a294d76f8f21e7940b",
       "version_major": 2,
       "version_minor": 0
      },
      "text/plain": [
       "Eval Hits:   0%|          | 0/3 [00:00<?, ?it/s]"
      ]
     },
     "metadata": {},
     "output_type": "display_data"
    },
    {
     "data": {
      "application/vnd.jupyter.widget-view+json": {
       "model_id": "f945b77a73aa4d0fa8fdaca1fe4c5f63",
       "version_major": 2,
       "version_minor": 0
      },
      "text/plain": [
       "Train 16:   0%|          | 0/85 [00:00<?, ?it/s]"
      ]
     },
     "metadata": {},
     "output_type": "display_data"
    },
    {
     "data": {
      "application/vnd.jupyter.widget-view+json": {
       "model_id": "bb4f294aba1d4a81a1d5bbd6c7f3ce33",
       "version_major": 2,
       "version_minor": 0
      },
      "text/plain": [
       "Eval AUC:   0%|          | 0/3 [00:00<?, ?it/s]"
      ]
     },
     "metadata": {},
     "output_type": "display_data"
    },
    {
     "data": {
      "application/vnd.jupyter.widget-view+json": {
       "model_id": "18ebabb0d8b8490f90e6890d133a25d0",
       "version_major": 2,
       "version_minor": 0
      },
      "text/plain": [
       "Eval Hits:   0%|          | 0/3 [00:00<?, ?it/s]"
      ]
     },
     "metadata": {},
     "output_type": "display_data"
    },
    {
     "data": {
      "application/vnd.jupyter.widget-view+json": {
       "model_id": "a29c8e2d85fd4de8badcb19ede8ba0b0",
       "version_major": 2,
       "version_minor": 0
      },
      "text/plain": [
       "Train 17:   0%|          | 0/85 [00:00<?, ?it/s]"
      ]
     },
     "metadata": {},
     "output_type": "display_data"
    },
    {
     "data": {
      "application/vnd.jupyter.widget-view+json": {
       "model_id": "21a2af2a5d5d407a97b5f9b7027d2498",
       "version_major": 2,
       "version_minor": 0
      },
      "text/plain": [
       "Eval AUC:   0%|          | 0/3 [00:00<?, ?it/s]"
      ]
     },
     "metadata": {},
     "output_type": "display_data"
    },
    {
     "data": {
      "application/vnd.jupyter.widget-view+json": {
       "model_id": "c3d7326872b0444bb6d75ff38fa747b4",
       "version_major": 2,
       "version_minor": 0
      },
      "text/plain": [
       "Eval Hits:   0%|          | 0/3 [00:00<?, ?it/s]"
      ]
     },
     "metadata": {},
     "output_type": "display_data"
    },
    {
     "data": {
      "application/vnd.jupyter.widget-view+json": {
       "model_id": "438ecb8c18f84390aaf574f975fb0d3b",
       "version_major": 2,
       "version_minor": 0
      },
      "text/plain": [
       "Train 18:   0%|          | 0/85 [00:00<?, ?it/s]"
      ]
     },
     "metadata": {},
     "output_type": "display_data"
    },
    {
     "data": {
      "application/vnd.jupyter.widget-view+json": {
       "model_id": "b1b39e977ee3467eba24eb9b19b8c79c",
       "version_major": 2,
       "version_minor": 0
      },
      "text/plain": [
       "Eval AUC:   0%|          | 0/3 [00:00<?, ?it/s]"
      ]
     },
     "metadata": {},
     "output_type": "display_data"
    },
    {
     "data": {
      "application/vnd.jupyter.widget-view+json": {
       "model_id": "654f9c55cac6479981272f9542c3d927",
       "version_major": 2,
       "version_minor": 0
      },
      "text/plain": [
       "Eval Hits:   0%|          | 0/3 [00:00<?, ?it/s]"
      ]
     },
     "metadata": {},
     "output_type": "display_data"
    },
    {
     "data": {
      "application/vnd.jupyter.widget-view+json": {
       "model_id": "3203c3148921454c85846f8f4a98ad02",
       "version_major": 2,
       "version_minor": 0
      },
      "text/plain": [
       "Train 19:   0%|          | 0/85 [00:00<?, ?it/s]"
      ]
     },
     "metadata": {},
     "output_type": "display_data"
    },
    {
     "data": {
      "application/vnd.jupyter.widget-view+json": {
       "model_id": "2f1199b7550044f588cc26bb2a28ec56",
       "version_major": 2,
       "version_minor": 0
      },
      "text/plain": [
       "Eval AUC:   0%|          | 0/3 [00:00<?, ?it/s]"
      ]
     },
     "metadata": {},
     "output_type": "display_data"
    },
    {
     "data": {
      "application/vnd.jupyter.widget-view+json": {
       "model_id": "51b0578cc88a4689b04194b96827be90",
       "version_major": 2,
       "version_minor": 0
      },
      "text/plain": [
       "Eval Hits:   0%|          | 0/3 [00:00<?, ?it/s]"
      ]
     },
     "metadata": {},
     "output_type": "display_data"
    },
    {
     "data": {
      "application/vnd.jupyter.widget-view+json": {
       "model_id": "c017720f39c741e9ad0934b1b2d3d02a",
       "version_major": 2,
       "version_minor": 0
      },
      "text/plain": [
       "Train 20:   0%|          | 0/85 [00:00<?, ?it/s]"
      ]
     },
     "metadata": {},
     "output_type": "display_data"
    },
    {
     "data": {
      "application/vnd.jupyter.widget-view+json": {
       "model_id": "596fe4f77d0b44b09d40e7e828cb74ff",
       "version_major": 2,
       "version_minor": 0
      },
      "text/plain": [
       "Eval AUC:   0%|          | 0/3 [00:00<?, ?it/s]"
      ]
     },
     "metadata": {},
     "output_type": "display_data"
    },
    {
     "data": {
      "application/vnd.jupyter.widget-view+json": {
       "model_id": "91b652fd8f774c62b896df79ebf023b1",
       "version_major": 2,
       "version_minor": 0
      },
      "text/plain": [
       "Eval Hits:   0%|          | 0/3 [00:00<?, ?it/s]"
      ]
     },
     "metadata": {},
     "output_type": "display_data"
    },
    {
     "data": {
      "application/vnd.jupyter.widget-view+json": {
       "model_id": "74d9140e87664bc19a289054e28cddb7",
       "version_major": 2,
       "version_minor": 0
      },
      "text/plain": [
       "Train 21:   0%|          | 0/85 [00:00<?, ?it/s]"
      ]
     },
     "metadata": {},
     "output_type": "display_data"
    },
    {
     "data": {
      "application/vnd.jupyter.widget-view+json": {
       "model_id": "28fc5fe9e5824dbea59f8d4e0791ee32",
       "version_major": 2,
       "version_minor": 0
      },
      "text/plain": [
       "Eval AUC:   0%|          | 0/3 [00:00<?, ?it/s]"
      ]
     },
     "metadata": {},
     "output_type": "display_data"
    },
    {
     "data": {
      "application/vnd.jupyter.widget-view+json": {
       "model_id": "a04cf6d6b241410d95c81d03796da526",
       "version_major": 2,
       "version_minor": 0
      },
      "text/plain": [
       "Eval Hits:   0%|          | 0/3 [00:00<?, ?it/s]"
      ]
     },
     "metadata": {},
     "output_type": "display_data"
    },
    {
     "data": {
      "application/vnd.jupyter.widget-view+json": {
       "model_id": "4a544ed7befd425388757dd4b01420da",
       "version_major": 2,
       "version_minor": 0
      },
      "text/plain": [
       "Train 22:   0%|          | 0/85 [00:00<?, ?it/s]"
      ]
     },
     "metadata": {},
     "output_type": "display_data"
    },
    {
     "data": {
      "application/vnd.jupyter.widget-view+json": {
       "model_id": "3a0d7152b7db430d897aa1c13c7a9a92",
       "version_major": 2,
       "version_minor": 0
      },
      "text/plain": [
       "Eval AUC:   0%|          | 0/3 [00:00<?, ?it/s]"
      ]
     },
     "metadata": {},
     "output_type": "display_data"
    },
    {
     "data": {
      "application/vnd.jupyter.widget-view+json": {
       "model_id": "754c65c88bf74790b525b2c8912ffe5f",
       "version_major": 2,
       "version_minor": 0
      },
      "text/plain": [
       "Eval Hits:   0%|          | 0/3 [00:00<?, ?it/s]"
      ]
     },
     "metadata": {},
     "output_type": "display_data"
    },
    {
     "data": {
      "application/vnd.jupyter.widget-view+json": {
       "model_id": "21f966498d4f4aa19399e53f4dd0b1d5",
       "version_major": 2,
       "version_minor": 0
      },
      "text/plain": [
       "Train 23:   0%|          | 0/85 [00:00<?, ?it/s]"
      ]
     },
     "metadata": {},
     "output_type": "display_data"
    },
    {
     "data": {
      "application/vnd.jupyter.widget-view+json": {
       "model_id": "061fd995669b4231a9bd60fff3a98354",
       "version_major": 2,
       "version_minor": 0
      },
      "text/plain": [
       "Eval AUC:   0%|          | 0/3 [00:00<?, ?it/s]"
      ]
     },
     "metadata": {},
     "output_type": "display_data"
    },
    {
     "data": {
      "application/vnd.jupyter.widget-view+json": {
       "model_id": "84150edb8d224584999d95b2af82257b",
       "version_major": 2,
       "version_minor": 0
      },
      "text/plain": [
       "Eval Hits:   0%|          | 0/3 [00:00<?, ?it/s]"
      ]
     },
     "metadata": {},
     "output_type": "display_data"
    },
    {
     "data": {
      "application/vnd.jupyter.widget-view+json": {
       "model_id": "52a91ccf825d404b96ea177e6442103b",
       "version_major": 2,
       "version_minor": 0
      },
      "text/plain": [
       "Train 24:   0%|          | 0/85 [00:00<?, ?it/s]"
      ]
     },
     "metadata": {},
     "output_type": "display_data"
    },
    {
     "data": {
      "application/vnd.jupyter.widget-view+json": {
       "model_id": "9403c6456c164b54811e4273e2ce4613",
       "version_major": 2,
       "version_minor": 0
      },
      "text/plain": [
       "Eval AUC:   0%|          | 0/3 [00:00<?, ?it/s]"
      ]
     },
     "metadata": {},
     "output_type": "display_data"
    },
    {
     "data": {
      "application/vnd.jupyter.widget-view+json": {
       "model_id": "4764a0549ed94dafa66fae16aadf8ed3",
       "version_major": 2,
       "version_minor": 0
      },
      "text/plain": [
       "Eval Hits:   0%|          | 0/3 [00:00<?, ?it/s]"
      ]
     },
     "metadata": {},
     "output_type": "display_data"
    },
    {
     "data": {
      "application/vnd.jupyter.widget-view+json": {
       "model_id": "87e0531feb4d4f45bf1daf04bbc6a826",
       "version_major": 2,
       "version_minor": 0
      },
      "text/plain": [
       "Train 25:   0%|          | 0/85 [00:00<?, ?it/s]"
      ]
     },
     "metadata": {},
     "output_type": "display_data"
    },
    {
     "data": {
      "application/vnd.jupyter.widget-view+json": {
       "model_id": "f251f28e420440949c999d4f663588d3",
       "version_major": 2,
       "version_minor": 0
      },
      "text/plain": [
       "Eval AUC:   0%|          | 0/3 [00:00<?, ?it/s]"
      ]
     },
     "metadata": {},
     "output_type": "display_data"
    },
    {
     "data": {
      "application/vnd.jupyter.widget-view+json": {
       "model_id": "48f43dfa5b5e481c846dec328c2f0577",
       "version_major": 2,
       "version_minor": 0
      },
      "text/plain": [
       "Eval Hits:   0%|          | 0/3 [00:00<?, ?it/s]"
      ]
     },
     "metadata": {},
     "output_type": "display_data"
    },
    {
     "data": {
      "application/vnd.jupyter.widget-view+json": {
       "model_id": "b90084ce7c174686ba03e2e5c71a8d45",
       "version_major": 2,
       "version_minor": 0
      },
      "text/plain": [
       "Train 26:   0%|          | 0/85 [00:00<?, ?it/s]"
      ]
     },
     "metadata": {},
     "output_type": "display_data"
    },
    {
     "data": {
      "application/vnd.jupyter.widget-view+json": {
       "model_id": "c3d1a29dbe1f410a92c1625a5245f753",
       "version_major": 2,
       "version_minor": 0
      },
      "text/plain": [
       "Eval AUC:   0%|          | 0/3 [00:00<?, ?it/s]"
      ]
     },
     "metadata": {},
     "output_type": "display_data"
    },
    {
     "data": {
      "application/vnd.jupyter.widget-view+json": {
       "model_id": "0112881a0ab44bf88b55903eb27768e7",
       "version_major": 2,
       "version_minor": 0
      },
      "text/plain": [
       "Eval Hits:   0%|          | 0/3 [00:00<?, ?it/s]"
      ]
     },
     "metadata": {},
     "output_type": "display_data"
    },
    {
     "data": {
      "application/vnd.jupyter.widget-view+json": {
       "model_id": "9b19b151b1454c9fa5e9df3417550857",
       "version_major": 2,
       "version_minor": 0
      },
      "text/plain": [
       "Train 27:   0%|          | 0/85 [00:00<?, ?it/s]"
      ]
     },
     "metadata": {},
     "output_type": "display_data"
    },
    {
     "data": {
      "application/vnd.jupyter.widget-view+json": {
       "model_id": "7896255191a743298841da4c5b44cc5d",
       "version_major": 2,
       "version_minor": 0
      },
      "text/plain": [
       "Eval AUC:   0%|          | 0/3 [00:00<?, ?it/s]"
      ]
     },
     "metadata": {},
     "output_type": "display_data"
    },
    {
     "data": {
      "application/vnd.jupyter.widget-view+json": {
       "model_id": "a83f4fcef0804bfc8c7f86c08d655c39",
       "version_major": 2,
       "version_minor": 0
      },
      "text/plain": [
       "Eval Hits:   0%|          | 0/3 [00:00<?, ?it/s]"
      ]
     },
     "metadata": {},
     "output_type": "display_data"
    },
    {
     "data": {
      "application/vnd.jupyter.widget-view+json": {
       "model_id": "b3627a648645437895118c623590e366",
       "version_major": 2,
       "version_minor": 0
      },
      "text/plain": [
       "Train 28:   0%|          | 0/85 [00:00<?, ?it/s]"
      ]
     },
     "metadata": {},
     "output_type": "display_data"
    },
    {
     "data": {
      "application/vnd.jupyter.widget-view+json": {
       "model_id": "a222477b8ae64d3cadca83925b0e46ba",
       "version_major": 2,
       "version_minor": 0
      },
      "text/plain": [
       "Eval AUC:   0%|          | 0/3 [00:00<?, ?it/s]"
      ]
     },
     "metadata": {},
     "output_type": "display_data"
    },
    {
     "data": {
      "application/vnd.jupyter.widget-view+json": {
       "model_id": "b791dae817a34ea6b69627b8d19a3ae9",
       "version_major": 2,
       "version_minor": 0
      },
      "text/plain": [
       "Eval Hits:   0%|          | 0/3 [00:00<?, ?it/s]"
      ]
     },
     "metadata": {},
     "output_type": "display_data"
    },
    {
     "data": {
      "application/vnd.jupyter.widget-view+json": {
       "model_id": "8149ba9d0b9945f2b96bdde28d0a038e",
       "version_major": 2,
       "version_minor": 0
      },
      "text/plain": [
       "Train 29:   0%|          | 0/85 [00:00<?, ?it/s]"
      ]
     },
     "metadata": {},
     "output_type": "display_data"
    },
    {
     "data": {
      "application/vnd.jupyter.widget-view+json": {
       "model_id": "b9ee7fcefa084aeba5fd2b598c600ce1",
       "version_major": 2,
       "version_minor": 0
      },
      "text/plain": [
       "Eval AUC:   0%|          | 0/3 [00:00<?, ?it/s]"
      ]
     },
     "metadata": {},
     "output_type": "display_data"
    },
    {
     "data": {
      "application/vnd.jupyter.widget-view+json": {
       "model_id": "33b7840830d943918a98a09fd131b4df",
       "version_major": 2,
       "version_minor": 0
      },
      "text/plain": [
       "Eval Hits:   0%|          | 0/3 [00:00<?, ?it/s]"
      ]
     },
     "metadata": {},
     "output_type": "display_data"
    },
    {
     "data": {
      "application/vnd.jupyter.widget-view+json": {
       "model_id": "4bcbe601f60b4080956dc2d502715e7e",
       "version_major": 2,
       "version_minor": 0
      },
      "text/plain": [
       "Train 30:   0%|          | 0/85 [00:00<?, ?it/s]"
      ]
     },
     "metadata": {},
     "output_type": "display_data"
    },
    {
     "data": {
      "application/vnd.jupyter.widget-view+json": {
       "model_id": "dda0ce2e505b453a9cd4e2c89ddaed2f",
       "version_major": 2,
       "version_minor": 0
      },
      "text/plain": [
       "Eval AUC:   0%|          | 0/3 [00:00<?, ?it/s]"
      ]
     },
     "metadata": {},
     "output_type": "display_data"
    },
    {
     "data": {
      "application/vnd.jupyter.widget-view+json": {
       "model_id": "72162f754e6a440f8c74a8e040e6236e",
       "version_major": 2,
       "version_minor": 0
      },
      "text/plain": [
       "Eval Hits:   0%|          | 0/3 [00:00<?, ?it/s]"
      ]
     },
     "metadata": {},
     "output_type": "display_data"
    },
    {
     "data": {
      "application/vnd.jupyter.widget-view+json": {
       "model_id": "c1bab36f485d4147a75b14abeb5a9e52",
       "version_major": 2,
       "version_minor": 0
      },
      "text/plain": [
       "Train 31:   0%|          | 0/85 [00:00<?, ?it/s]"
      ]
     },
     "metadata": {},
     "output_type": "display_data"
    },
    {
     "data": {
      "application/vnd.jupyter.widget-view+json": {
       "model_id": "5c0980b1832c4bf79193a58311db25bf",
       "version_major": 2,
       "version_minor": 0
      },
      "text/plain": [
       "Eval AUC:   0%|          | 0/3 [00:00<?, ?it/s]"
      ]
     },
     "metadata": {},
     "output_type": "display_data"
    },
    {
     "data": {
      "application/vnd.jupyter.widget-view+json": {
       "model_id": "99ca792767df4d33b38e143459bcd93a",
       "version_major": 2,
       "version_minor": 0
      },
      "text/plain": [
       "Eval Hits:   0%|          | 0/3 [00:00<?, ?it/s]"
      ]
     },
     "metadata": {},
     "output_type": "display_data"
    },
    {
     "data": {
      "application/vnd.jupyter.widget-view+json": {
       "model_id": "41566077e3fe4b4eb3e4324828a8d9c8",
       "version_major": 2,
       "version_minor": 0
      },
      "text/plain": [
       "Train 32:   0%|          | 0/85 [00:00<?, ?it/s]"
      ]
     },
     "metadata": {},
     "output_type": "display_data"
    },
    {
     "data": {
      "application/vnd.jupyter.widget-view+json": {
       "model_id": "0ae404c1df9d48e0984a869d09b98e60",
       "version_major": 2,
       "version_minor": 0
      },
      "text/plain": [
       "Eval AUC:   0%|          | 0/3 [00:00<?, ?it/s]"
      ]
     },
     "metadata": {},
     "output_type": "display_data"
    },
    {
     "data": {
      "application/vnd.jupyter.widget-view+json": {
       "model_id": "1d61797e405144f6bb72e702933ce727",
       "version_major": 2,
       "version_minor": 0
      },
      "text/plain": [
       "Eval Hits:   0%|          | 0/3 [00:00<?, ?it/s]"
      ]
     },
     "metadata": {},
     "output_type": "display_data"
    },
    {
     "data": {
      "application/vnd.jupyter.widget-view+json": {
       "model_id": "6b2d8996749a461594afc1d5d1f473ae",
       "version_major": 2,
       "version_minor": 0
      },
      "text/plain": [
       "Train 33:   0%|          | 0/85 [00:00<?, ?it/s]"
      ]
     },
     "metadata": {},
     "output_type": "display_data"
    },
    {
     "data": {
      "application/vnd.jupyter.widget-view+json": {
       "model_id": "b1896b909ed7438ba6127b07be412e67",
       "version_major": 2,
       "version_minor": 0
      },
      "text/plain": [
       "Eval AUC:   0%|          | 0/3 [00:00<?, ?it/s]"
      ]
     },
     "metadata": {},
     "output_type": "display_data"
    },
    {
     "data": {
      "application/vnd.jupyter.widget-view+json": {
       "model_id": "ee1779f1e2eb488ebf881bb2fc7642a7",
       "version_major": 2,
       "version_minor": 0
      },
      "text/plain": [
       "Eval Hits:   0%|          | 0/3 [00:00<?, ?it/s]"
      ]
     },
     "metadata": {},
     "output_type": "display_data"
    },
    {
     "data": {
      "application/vnd.jupyter.widget-view+json": {
       "model_id": "215e79d3a88444fb9508702950d7c098",
       "version_major": 2,
       "version_minor": 0
      },
      "text/plain": [
       "Train 34:   0%|          | 0/85 [00:00<?, ?it/s]"
      ]
     },
     "metadata": {},
     "output_type": "display_data"
    },
    {
     "data": {
      "application/vnd.jupyter.widget-view+json": {
       "model_id": "769bc2722ca54ff1899c60b3683917eb",
       "version_major": 2,
       "version_minor": 0
      },
      "text/plain": [
       "Eval AUC:   0%|          | 0/3 [00:00<?, ?it/s]"
      ]
     },
     "metadata": {},
     "output_type": "display_data"
    },
    {
     "data": {
      "application/vnd.jupyter.widget-view+json": {
       "model_id": "9c0525fb80c548ec93f9e0ff5da81e31",
       "version_major": 2,
       "version_minor": 0
      },
      "text/plain": [
       "Eval Hits:   0%|          | 0/3 [00:00<?, ?it/s]"
      ]
     },
     "metadata": {},
     "output_type": "display_data"
    },
    {
     "data": {
      "application/vnd.jupyter.widget-view+json": {
       "model_id": "59197447992c49898433177ae572ba0c",
       "version_major": 2,
       "version_minor": 0
      },
      "text/plain": [
       "Train 35:   0%|          | 0/85 [00:00<?, ?it/s]"
      ]
     },
     "metadata": {},
     "output_type": "display_data"
    },
    {
     "data": {
      "application/vnd.jupyter.widget-view+json": {
       "model_id": "9d65c9fc6db34eb98f99441acbffa17c",
       "version_major": 2,
       "version_minor": 0
      },
      "text/plain": [
       "Eval AUC:   0%|          | 0/3 [00:00<?, ?it/s]"
      ]
     },
     "metadata": {},
     "output_type": "display_data"
    },
    {
     "data": {
      "application/vnd.jupyter.widget-view+json": {
       "model_id": "294b1ec751214a70adf62bdb355fc706",
       "version_major": 2,
       "version_minor": 0
      },
      "text/plain": [
       "Eval Hits:   0%|          | 0/3 [00:00<?, ?it/s]"
      ]
     },
     "metadata": {},
     "output_type": "display_data"
    },
    {
     "data": {
      "application/vnd.jupyter.widget-view+json": {
       "model_id": "0afc361c305649248bd85ead3a1333eb",
       "version_major": 2,
       "version_minor": 0
      },
      "text/plain": [
       "Train 36:   0%|          | 0/85 [00:00<?, ?it/s]"
      ]
     },
     "metadata": {},
     "output_type": "display_data"
    },
    {
     "data": {
      "application/vnd.jupyter.widget-view+json": {
       "model_id": "2babf04ea6384b28b8b4ec87125cd828",
       "version_major": 2,
       "version_minor": 0
      },
      "text/plain": [
       "Eval AUC:   0%|          | 0/3 [00:00<?, ?it/s]"
      ]
     },
     "metadata": {},
     "output_type": "display_data"
    },
    {
     "data": {
      "application/vnd.jupyter.widget-view+json": {
       "model_id": "85c67515a7144267a8af5350f36a4e64",
       "version_major": 2,
       "version_minor": 0
      },
      "text/plain": [
       "Eval Hits:   0%|          | 0/3 [00:00<?, ?it/s]"
      ]
     },
     "metadata": {},
     "output_type": "display_data"
    },
    {
     "data": {
      "application/vnd.jupyter.widget-view+json": {
       "model_id": "2d0ac8c23f684676afba5dec4902b292",
       "version_major": 2,
       "version_minor": 0
      },
      "text/plain": [
       "Train 37:   0%|          | 0/85 [00:00<?, ?it/s]"
      ]
     },
     "metadata": {},
     "output_type": "display_data"
    },
    {
     "data": {
      "application/vnd.jupyter.widget-view+json": {
       "model_id": "952e2923e4e547b28a68354635349a7f",
       "version_major": 2,
       "version_minor": 0
      },
      "text/plain": [
       "Eval AUC:   0%|          | 0/3 [00:00<?, ?it/s]"
      ]
     },
     "metadata": {},
     "output_type": "display_data"
    },
    {
     "data": {
      "application/vnd.jupyter.widget-view+json": {
       "model_id": "edf4d472c7554af0b3879d9d260fa72b",
       "version_major": 2,
       "version_minor": 0
      },
      "text/plain": [
       "Eval Hits:   0%|          | 0/3 [00:00<?, ?it/s]"
      ]
     },
     "metadata": {},
     "output_type": "display_data"
    },
    {
     "data": {
      "application/vnd.jupyter.widget-view+json": {
       "model_id": "8f339f1d37df468389aa1f2bfc8b1685",
       "version_major": 2,
       "version_minor": 0
      },
      "text/plain": [
       "Train 38:   0%|          | 0/85 [00:00<?, ?it/s]"
      ]
     },
     "metadata": {},
     "output_type": "display_data"
    },
    {
     "data": {
      "application/vnd.jupyter.widget-view+json": {
       "model_id": "632e7731a5b6425a9a8bfae905335dd1",
       "version_major": 2,
       "version_minor": 0
      },
      "text/plain": [
       "Eval AUC:   0%|          | 0/3 [00:00<?, ?it/s]"
      ]
     },
     "metadata": {},
     "output_type": "display_data"
    },
    {
     "data": {
      "application/vnd.jupyter.widget-view+json": {
       "model_id": "4ba03f31334343b290e07535a5d78128",
       "version_major": 2,
       "version_minor": 0
      },
      "text/plain": [
       "Eval Hits:   0%|          | 0/3 [00:00<?, ?it/s]"
      ]
     },
     "metadata": {},
     "output_type": "display_data"
    },
    {
     "data": {
      "application/vnd.jupyter.widget-view+json": {
       "model_id": "8275e86934c9415887f636d92ed4500f",
       "version_major": 2,
       "version_minor": 0
      },
      "text/plain": [
       "Train 39:   0%|          | 0/85 [00:00<?, ?it/s]"
      ]
     },
     "metadata": {},
     "output_type": "display_data"
    },
    {
     "data": {
      "application/vnd.jupyter.widget-view+json": {
       "model_id": "2c15b839efaf4e5eb75d9f046352aafc",
       "version_major": 2,
       "version_minor": 0
      },
      "text/plain": [
       "Eval AUC:   0%|          | 0/3 [00:00<?, ?it/s]"
      ]
     },
     "metadata": {},
     "output_type": "display_data"
    },
    {
     "data": {
      "application/vnd.jupyter.widget-view+json": {
       "model_id": "1ad5c0e87d3c4b1ebb2d937b922be048",
       "version_major": 2,
       "version_minor": 0
      },
      "text/plain": [
       "Eval Hits:   0%|          | 0/3 [00:00<?, ?it/s]"
      ]
     },
     "metadata": {},
     "output_type": "display_data"
    },
    {
     "data": {
      "application/vnd.jupyter.widget-view+json": {
       "model_id": "4d64aa8d2524447c8825cf1eab19f603",
       "version_major": 2,
       "version_minor": 0
      },
      "text/plain": [
       "Train 40:   0%|          | 0/85 [00:00<?, ?it/s]"
      ]
     },
     "metadata": {},
     "output_type": "display_data"
    },
    {
     "data": {
      "application/vnd.jupyter.widget-view+json": {
       "model_id": "a6597626f8c04b1a9135bccd2de5d9fc",
       "version_major": 2,
       "version_minor": 0
      },
      "text/plain": [
       "Eval AUC:   0%|          | 0/3 [00:00<?, ?it/s]"
      ]
     },
     "metadata": {},
     "output_type": "display_data"
    },
    {
     "data": {
      "application/vnd.jupyter.widget-view+json": {
       "model_id": "7f919ce85d8f4308a9c9d61ef46b9fc7",
       "version_major": 2,
       "version_minor": 0
      },
      "text/plain": [
       "Eval Hits:   0%|          | 0/3 [00:00<?, ?it/s]"
      ]
     },
     "metadata": {},
     "output_type": "display_data"
    },
    {
     "data": {
      "application/vnd.jupyter.widget-view+json": {
       "model_id": "06ed27b9f7564192acc5dd220552b80d",
       "version_major": 2,
       "version_minor": 0
      },
      "text/plain": [
       "Train 41:   0%|          | 0/85 [00:00<?, ?it/s]"
      ]
     },
     "metadata": {},
     "output_type": "display_data"
    },
    {
     "data": {
      "application/vnd.jupyter.widget-view+json": {
       "model_id": "7cffbe8da94642c2afb6d83a4ef8b8d5",
       "version_major": 2,
       "version_minor": 0
      },
      "text/plain": [
       "Eval AUC:   0%|          | 0/3 [00:00<?, ?it/s]"
      ]
     },
     "metadata": {},
     "output_type": "display_data"
    },
    {
     "data": {
      "application/vnd.jupyter.widget-view+json": {
       "model_id": "4d29c34491ce4655b3159209237e9b2d",
       "version_major": 2,
       "version_minor": 0
      },
      "text/plain": [
       "Eval Hits:   0%|          | 0/3 [00:00<?, ?it/s]"
      ]
     },
     "metadata": {},
     "output_type": "display_data"
    },
    {
     "data": {
      "application/vnd.jupyter.widget-view+json": {
       "model_id": "733c12bfe29c4fb1bb4a914ac261a5a7",
       "version_major": 2,
       "version_minor": 0
      },
      "text/plain": [
       "Train 42:   0%|          | 0/85 [00:00<?, ?it/s]"
      ]
     },
     "metadata": {},
     "output_type": "display_data"
    },
    {
     "data": {
      "application/vnd.jupyter.widget-view+json": {
       "model_id": "be0f798f4d5846ceb0034adc41b99a26",
       "version_major": 2,
       "version_minor": 0
      },
      "text/plain": [
       "Eval AUC:   0%|          | 0/3 [00:00<?, ?it/s]"
      ]
     },
     "metadata": {},
     "output_type": "display_data"
    },
    {
     "data": {
      "application/vnd.jupyter.widget-view+json": {
       "model_id": "ab2fa2ac7a054f0ab8454300705f85f3",
       "version_major": 2,
       "version_minor": 0
      },
      "text/plain": [
       "Eval Hits:   0%|          | 0/3 [00:00<?, ?it/s]"
      ]
     },
     "metadata": {},
     "output_type": "display_data"
    },
    {
     "data": {
      "application/vnd.jupyter.widget-view+json": {
       "model_id": "bb53409b102f4c21a03792783e1fad99",
       "version_major": 2,
       "version_minor": 0
      },
      "text/plain": [
       "Train 43:   0%|          | 0/85 [00:00<?, ?it/s]"
      ]
     },
     "metadata": {},
     "output_type": "display_data"
    },
    {
     "data": {
      "application/vnd.jupyter.widget-view+json": {
       "model_id": "73e6ebaf04f84134bfd44d0131d3dab1",
       "version_major": 2,
       "version_minor": 0
      },
      "text/plain": [
       "Eval AUC:   0%|          | 0/3 [00:00<?, ?it/s]"
      ]
     },
     "metadata": {},
     "output_type": "display_data"
    },
    {
     "data": {
      "application/vnd.jupyter.widget-view+json": {
       "model_id": "3a7ce3ffeb5e4a28aa09dcdedb935505",
       "version_major": 2,
       "version_minor": 0
      },
      "text/plain": [
       "Eval Hits:   0%|          | 0/3 [00:00<?, ?it/s]"
      ]
     },
     "metadata": {},
     "output_type": "display_data"
    },
    {
     "data": {
      "application/vnd.jupyter.widget-view+json": {
       "model_id": "08f59a586b2b411b82590ee6e8bd6555",
       "version_major": 2,
       "version_minor": 0
      },
      "text/plain": [
       "Train 44:   0%|          | 0/85 [00:00<?, ?it/s]"
      ]
     },
     "metadata": {},
     "output_type": "display_data"
    },
    {
     "data": {
      "application/vnd.jupyter.widget-view+json": {
       "model_id": "ed1e854ca26f4131b97bea84d5caf38f",
       "version_major": 2,
       "version_minor": 0
      },
      "text/plain": [
       "Eval AUC:   0%|          | 0/3 [00:00<?, ?it/s]"
      ]
     },
     "metadata": {},
     "output_type": "display_data"
    },
    {
     "data": {
      "application/vnd.jupyter.widget-view+json": {
       "model_id": "fb474062ad8a425aaad138479e8abda4",
       "version_major": 2,
       "version_minor": 0
      },
      "text/plain": [
       "Eval Hits:   0%|          | 0/3 [00:00<?, ?it/s]"
      ]
     },
     "metadata": {},
     "output_type": "display_data"
    },
    {
     "data": {
      "application/vnd.jupyter.widget-view+json": {
       "model_id": "78117a8ab72048899a76ca404a576b8a",
       "version_major": 2,
       "version_minor": 0
      },
      "text/plain": [
       "Train 45:   0%|          | 0/85 [00:00<?, ?it/s]"
      ]
     },
     "metadata": {},
     "output_type": "display_data"
    },
    {
     "data": {
      "application/vnd.jupyter.widget-view+json": {
       "model_id": "8c7398a702c74b2abd2c032c7b42e8f1",
       "version_major": 2,
       "version_minor": 0
      },
      "text/plain": [
       "Eval AUC:   0%|          | 0/3 [00:00<?, ?it/s]"
      ]
     },
     "metadata": {},
     "output_type": "display_data"
    },
    {
     "data": {
      "application/vnd.jupyter.widget-view+json": {
       "model_id": "2f4d5a1f18ea49c68e18c02f1f6ca52f",
       "version_major": 2,
       "version_minor": 0
      },
      "text/plain": [
       "Eval Hits:   0%|          | 0/3 [00:00<?, ?it/s]"
      ]
     },
     "metadata": {},
     "output_type": "display_data"
    },
    {
     "data": {
      "application/vnd.jupyter.widget-view+json": {
       "model_id": "d3efc0f276704ac8800270048fa33af0",
       "version_major": 2,
       "version_minor": 0
      },
      "text/plain": [
       "Train 46:   0%|          | 0/85 [00:00<?, ?it/s]"
      ]
     },
     "metadata": {},
     "output_type": "display_data"
    },
    {
     "data": {
      "application/vnd.jupyter.widget-view+json": {
       "model_id": "028aaef453154bb3b1cd581f6d4e2622",
       "version_major": 2,
       "version_minor": 0
      },
      "text/plain": [
       "Eval AUC:   0%|          | 0/3 [00:00<?, ?it/s]"
      ]
     },
     "metadata": {},
     "output_type": "display_data"
    },
    {
     "data": {
      "application/vnd.jupyter.widget-view+json": {
       "model_id": "7cbc3c6f7a634475a9e3210359e6e498",
       "version_major": 2,
       "version_minor": 0
      },
      "text/plain": [
       "Eval Hits:   0%|          | 0/3 [00:00<?, ?it/s]"
      ]
     },
     "metadata": {},
     "output_type": "display_data"
    },
    {
     "data": {
      "application/vnd.jupyter.widget-view+json": {
       "model_id": "d43d8cd814a14070ba8e237bdbeb5a6b",
       "version_major": 2,
       "version_minor": 0
      },
      "text/plain": [
       "Train 47:   0%|          | 0/85 [00:00<?, ?it/s]"
      ]
     },
     "metadata": {},
     "output_type": "display_data"
    },
    {
     "data": {
      "application/vnd.jupyter.widget-view+json": {
       "model_id": "68ae280a394d4953976d2a659c21d576",
       "version_major": 2,
       "version_minor": 0
      },
      "text/plain": [
       "Eval AUC:   0%|          | 0/3 [00:00<?, ?it/s]"
      ]
     },
     "metadata": {},
     "output_type": "display_data"
    },
    {
     "data": {
      "application/vnd.jupyter.widget-view+json": {
       "model_id": "18893f3526d244de910f514d0ff7e272",
       "version_major": 2,
       "version_minor": 0
      },
      "text/plain": [
       "Eval Hits:   0%|          | 0/3 [00:00<?, ?it/s]"
      ]
     },
     "metadata": {},
     "output_type": "display_data"
    },
    {
     "data": {
      "application/vnd.jupyter.widget-view+json": {
       "model_id": "3c87dd8c8597403098b45ad8fa7fbceb",
       "version_major": 2,
       "version_minor": 0
      },
      "text/plain": [
       "Train 48:   0%|          | 0/85 [00:00<?, ?it/s]"
      ]
     },
     "metadata": {},
     "output_type": "display_data"
    },
    {
     "data": {
      "application/vnd.jupyter.widget-view+json": {
       "model_id": "d6561bfeb8df4cb18c4c741ee62aff10",
       "version_major": 2,
       "version_minor": 0
      },
      "text/plain": [
       "Eval AUC:   0%|          | 0/3 [00:00<?, ?it/s]"
      ]
     },
     "metadata": {},
     "output_type": "display_data"
    },
    {
     "data": {
      "application/vnd.jupyter.widget-view+json": {
       "model_id": "a73e58fd349242c9a4e09b83b8089d35",
       "version_major": 2,
       "version_minor": 0
      },
      "text/plain": [
       "Eval Hits:   0%|          | 0/3 [00:00<?, ?it/s]"
      ]
     },
     "metadata": {},
     "output_type": "display_data"
    },
    {
     "data": {
      "application/vnd.jupyter.widget-view+json": {
       "model_id": "618d78b7ce20463fbfaa4e8713bed794",
       "version_major": 2,
       "version_minor": 0
      },
      "text/plain": [
       "Train 49:   0%|          | 0/85 [00:00<?, ?it/s]"
      ]
     },
     "metadata": {},
     "output_type": "display_data"
    },
    {
     "data": {
      "application/vnd.jupyter.widget-view+json": {
       "model_id": "c1bcbdb8939341b09e5a42daae2ef122",
       "version_major": 2,
       "version_minor": 0
      },
      "text/plain": [
       "Eval AUC:   0%|          | 0/3 [00:00<?, ?it/s]"
      ]
     },
     "metadata": {},
     "output_type": "display_data"
    },
    {
     "data": {
      "application/vnd.jupyter.widget-view+json": {
       "model_id": "1d62d93ffd6b4d6a971cffdf82344d3e",
       "version_major": 2,
       "version_minor": 0
      },
      "text/plain": [
       "Eval Hits:   0%|          | 0/3 [00:00<?, ?it/s]"
      ]
     },
     "metadata": {},
     "output_type": "display_data"
    },
    {
     "data": {
      "application/vnd.jupyter.widget-view+json": {
       "model_id": "1f417d4ad2c645c3adc69909fa14bf28",
       "version_major": 2,
       "version_minor": 0
      },
      "text/plain": [
       "Train 50:   0%|          | 0/85 [00:00<?, ?it/s]"
      ]
     },
     "metadata": {},
     "output_type": "display_data"
    },
    {
     "data": {
      "application/vnd.jupyter.widget-view+json": {
       "model_id": "a7390e34f09d4dbb9598d7a4401aa5b2",
       "version_major": 2,
       "version_minor": 0
      },
      "text/plain": [
       "Eval AUC:   0%|          | 0/3 [00:00<?, ?it/s]"
      ]
     },
     "metadata": {},
     "output_type": "display_data"
    },
    {
     "data": {
      "application/vnd.jupyter.widget-view+json": {
       "model_id": "64501ac93b634990986c4afad4e9d1b9",
       "version_major": 2,
       "version_minor": 0
      },
      "text/plain": [
       "Eval Hits:   0%|          | 0/3 [00:00<?, ?it/s]"
      ]
     },
     "metadata": {},
     "output_type": "display_data"
    },
    {
     "data": {
      "application/vnd.jupyter.widget-view+json": {
       "model_id": "f7427e891b3648998bc85d0b75e3903e",
       "version_major": 2,
       "version_minor": 0
      },
      "text/plain": [
       "Train 51:   0%|          | 0/85 [00:00<?, ?it/s]"
      ]
     },
     "metadata": {},
     "output_type": "display_data"
    },
    {
     "data": {
      "application/vnd.jupyter.widget-view+json": {
       "model_id": "97acac4755db48be9d1c846c64499d3a",
       "version_major": 2,
       "version_minor": 0
      },
      "text/plain": [
       "Eval AUC:   0%|          | 0/3 [00:00<?, ?it/s]"
      ]
     },
     "metadata": {},
     "output_type": "display_data"
    },
    {
     "data": {
      "application/vnd.jupyter.widget-view+json": {
       "model_id": "5abbebf523274ea88a43ca30c670da30",
       "version_major": 2,
       "version_minor": 0
      },
      "text/plain": [
       "Eval Hits:   0%|          | 0/3 [00:00<?, ?it/s]"
      ]
     },
     "metadata": {},
     "output_type": "display_data"
    },
    {
     "data": {
      "application/vnd.jupyter.widget-view+json": {
       "model_id": "40193e04f05746f1b23b7f5084a476cc",
       "version_major": 2,
       "version_minor": 0
      },
      "text/plain": [
       "Train 52:   0%|          | 0/85 [00:00<?, ?it/s]"
      ]
     },
     "metadata": {},
     "output_type": "display_data"
    },
    {
     "data": {
      "application/vnd.jupyter.widget-view+json": {
       "model_id": "58b8bda7b9f545249bb3c8ce7e54efe5",
       "version_major": 2,
       "version_minor": 0
      },
      "text/plain": [
       "Eval AUC:   0%|          | 0/3 [00:00<?, ?it/s]"
      ]
     },
     "metadata": {},
     "output_type": "display_data"
    },
    {
     "data": {
      "application/vnd.jupyter.widget-view+json": {
       "model_id": "9cf2e8e841054daa8ab984d7e36171ac",
       "version_major": 2,
       "version_minor": 0
      },
      "text/plain": [
       "Eval Hits:   0%|          | 0/3 [00:00<?, ?it/s]"
      ]
     },
     "metadata": {},
     "output_type": "display_data"
    },
    {
     "data": {
      "application/vnd.jupyter.widget-view+json": {
       "model_id": "a1c2f4481c6741c0922523cb15b164bb",
       "version_major": 2,
       "version_minor": 0
      },
      "text/plain": [
       "Train 53:   0%|          | 0/85 [00:00<?, ?it/s]"
      ]
     },
     "metadata": {},
     "output_type": "display_data"
    },
    {
     "data": {
      "application/vnd.jupyter.widget-view+json": {
       "model_id": "8832effcac554900a88c9672ebfbf6e6",
       "version_major": 2,
       "version_minor": 0
      },
      "text/plain": [
       "Eval AUC:   0%|          | 0/3 [00:00<?, ?it/s]"
      ]
     },
     "metadata": {},
     "output_type": "display_data"
    },
    {
     "data": {
      "application/vnd.jupyter.widget-view+json": {
       "model_id": "29cbbf9572ca467dac1fbe4c96c0feac",
       "version_major": 2,
       "version_minor": 0
      },
      "text/plain": [
       "Eval Hits:   0%|          | 0/3 [00:00<?, ?it/s]"
      ]
     },
     "metadata": {},
     "output_type": "display_data"
    },
    {
     "data": {
      "application/vnd.jupyter.widget-view+json": {
       "model_id": "7ce4f172c8de452e9190e0ae66f33ef6",
       "version_major": 2,
       "version_minor": 0
      },
      "text/plain": [
       "Train 54:   0%|          | 0/85 [00:00<?, ?it/s]"
      ]
     },
     "metadata": {},
     "output_type": "display_data"
    },
    {
     "data": {
      "application/vnd.jupyter.widget-view+json": {
       "model_id": "4765f163a89246e1be99d7fc192df9a6",
       "version_major": 2,
       "version_minor": 0
      },
      "text/plain": [
       "Eval AUC:   0%|          | 0/3 [00:00<?, ?it/s]"
      ]
     },
     "metadata": {},
     "output_type": "display_data"
    },
    {
     "data": {
      "application/vnd.jupyter.widget-view+json": {
       "model_id": "0d5075e0d7974cc1896192e04e9e1cc1",
       "version_major": 2,
       "version_minor": 0
      },
      "text/plain": [
       "Eval Hits:   0%|          | 0/3 [00:00<?, ?it/s]"
      ]
     },
     "metadata": {},
     "output_type": "display_data"
    },
    {
     "data": {
      "application/vnd.jupyter.widget-view+json": {
       "model_id": "adababa0a8a546df91b41be013aa77c6",
       "version_major": 2,
       "version_minor": 0
      },
      "text/plain": [
       "Train 55:   0%|          | 0/85 [00:00<?, ?it/s]"
      ]
     },
     "metadata": {},
     "output_type": "display_data"
    },
    {
     "data": {
      "application/vnd.jupyter.widget-view+json": {
       "model_id": "57428291b4474449845753cd09e11522",
       "version_major": 2,
       "version_minor": 0
      },
      "text/plain": [
       "Eval AUC:   0%|          | 0/3 [00:00<?, ?it/s]"
      ]
     },
     "metadata": {},
     "output_type": "display_data"
    },
    {
     "data": {
      "application/vnd.jupyter.widget-view+json": {
       "model_id": "c67528bf69f94999a5ba77af934dc5ef",
       "version_major": 2,
       "version_minor": 0
      },
      "text/plain": [
       "Eval Hits:   0%|          | 0/3 [00:00<?, ?it/s]"
      ]
     },
     "metadata": {},
     "output_type": "display_data"
    },
    {
     "data": {
      "application/vnd.jupyter.widget-view+json": {
       "model_id": "3e8397339d084942ab5635102e330fc1",
       "version_major": 2,
       "version_minor": 0
      },
      "text/plain": [
       "Train 56:   0%|          | 0/85 [00:00<?, ?it/s]"
      ]
     },
     "metadata": {},
     "output_type": "display_data"
    },
    {
     "data": {
      "application/vnd.jupyter.widget-view+json": {
       "model_id": "ed6d4e6b78ea46ec82a95293e65a7020",
       "version_major": 2,
       "version_minor": 0
      },
      "text/plain": [
       "Eval AUC:   0%|          | 0/3 [00:00<?, ?it/s]"
      ]
     },
     "metadata": {},
     "output_type": "display_data"
    },
    {
     "data": {
      "application/vnd.jupyter.widget-view+json": {
       "model_id": "453d76ff3fb04b23bb53c47d28c4992d",
       "version_major": 2,
       "version_minor": 0
      },
      "text/plain": [
       "Eval Hits:   0%|          | 0/3 [00:00<?, ?it/s]"
      ]
     },
     "metadata": {},
     "output_type": "display_data"
    },
    {
     "data": {
      "application/vnd.jupyter.widget-view+json": {
       "model_id": "d872ba116d734839a2d7bb2d5d6b047a",
       "version_major": 2,
       "version_minor": 0
      },
      "text/plain": [
       "Train 57:   0%|          | 0/85 [00:00<?, ?it/s]"
      ]
     },
     "metadata": {},
     "output_type": "display_data"
    },
    {
     "data": {
      "application/vnd.jupyter.widget-view+json": {
       "model_id": "b7e09b8fcff943dea5bbd9c947dcd038",
       "version_major": 2,
       "version_minor": 0
      },
      "text/plain": [
       "Eval AUC:   0%|          | 0/3 [00:00<?, ?it/s]"
      ]
     },
     "metadata": {},
     "output_type": "display_data"
    },
    {
     "data": {
      "application/vnd.jupyter.widget-view+json": {
       "model_id": "03a08b3ef0904199880fb76e26ce2e22",
       "version_major": 2,
       "version_minor": 0
      },
      "text/plain": [
       "Eval Hits:   0%|          | 0/3 [00:00<?, ?it/s]"
      ]
     },
     "metadata": {},
     "output_type": "display_data"
    },
    {
     "data": {
      "application/vnd.jupyter.widget-view+json": {
       "model_id": "06cbf7afa97c4a7ea5fd3351412cda7f",
       "version_major": 2,
       "version_minor": 0
      },
      "text/plain": [
       "Train 58:   0%|          | 0/85 [00:00<?, ?it/s]"
      ]
     },
     "metadata": {},
     "output_type": "display_data"
    },
    {
     "data": {
      "application/vnd.jupyter.widget-view+json": {
       "model_id": "d718ee6e17e7459285ced198c71e085d",
       "version_major": 2,
       "version_minor": 0
      },
      "text/plain": [
       "Eval AUC:   0%|          | 0/3 [00:00<?, ?it/s]"
      ]
     },
     "metadata": {},
     "output_type": "display_data"
    },
    {
     "data": {
      "application/vnd.jupyter.widget-view+json": {
       "model_id": "6de01ab49ae544948b9b8e1c7a150cfe",
       "version_major": 2,
       "version_minor": 0
      },
      "text/plain": [
       "Eval Hits:   0%|          | 0/3 [00:00<?, ?it/s]"
      ]
     },
     "metadata": {},
     "output_type": "display_data"
    },
    {
     "data": {
      "application/vnd.jupyter.widget-view+json": {
       "model_id": "67664ccd8b4c452aa101b0402aa94931",
       "version_major": 2,
       "version_minor": 0
      },
      "text/plain": [
       "Train 59:   0%|          | 0/85 [00:00<?, ?it/s]"
      ]
     },
     "metadata": {},
     "output_type": "display_data"
    },
    {
     "data": {
      "application/vnd.jupyter.widget-view+json": {
       "model_id": "087bc1c53983408e9868a2850f135103",
       "version_major": 2,
       "version_minor": 0
      },
      "text/plain": [
       "Eval AUC:   0%|          | 0/3 [00:00<?, ?it/s]"
      ]
     },
     "metadata": {},
     "output_type": "display_data"
    },
    {
     "data": {
      "application/vnd.jupyter.widget-view+json": {
       "model_id": "4d51ea864d7441a4b3bbfd9e9329d6bc",
       "version_major": 2,
       "version_minor": 0
      },
      "text/plain": [
       "Eval Hits:   0%|          | 0/3 [00:00<?, ?it/s]"
      ]
     },
     "metadata": {},
     "output_type": "display_data"
    },
    {
     "data": {
      "application/vnd.jupyter.widget-view+json": {
       "model_id": "50b0e370e7f5427da0249554750bf99a",
       "version_major": 2,
       "version_minor": 0
      },
      "text/plain": [
       "Train 60:   0%|          | 0/85 [00:00<?, ?it/s]"
      ]
     },
     "metadata": {},
     "output_type": "display_data"
    },
    {
     "data": {
      "application/vnd.jupyter.widget-view+json": {
       "model_id": "4b29c21738d74114949f0377fd29281c",
       "version_major": 2,
       "version_minor": 0
      },
      "text/plain": [
       "Eval AUC:   0%|          | 0/3 [00:00<?, ?it/s]"
      ]
     },
     "metadata": {},
     "output_type": "display_data"
    },
    {
     "data": {
      "application/vnd.jupyter.widget-view+json": {
       "model_id": "f3b1c55526584d8184f1b904c1cf8ea9",
       "version_major": 2,
       "version_minor": 0
      },
      "text/plain": [
       "Eval Hits:   0%|          | 0/3 [00:00<?, ?it/s]"
      ]
     },
     "metadata": {},
     "output_type": "display_data"
    },
    {
     "data": {
      "application/vnd.jupyter.widget-view+json": {
       "model_id": "60d498db4b8b483d975b10e79547f30e",
       "version_major": 2,
       "version_minor": 0
      },
      "text/plain": [
       "Train 61:   0%|          | 0/85 [00:00<?, ?it/s]"
      ]
     },
     "metadata": {},
     "output_type": "display_data"
    },
    {
     "data": {
      "application/vnd.jupyter.widget-view+json": {
       "model_id": "c59f5410ca4147e795bef1d27ae3ae16",
       "version_major": 2,
       "version_minor": 0
      },
      "text/plain": [
       "Eval AUC:   0%|          | 0/3 [00:00<?, ?it/s]"
      ]
     },
     "metadata": {},
     "output_type": "display_data"
    },
    {
     "data": {
      "application/vnd.jupyter.widget-view+json": {
       "model_id": "25722c8e600a4488982240b78affef92",
       "version_major": 2,
       "version_minor": 0
      },
      "text/plain": [
       "Eval Hits:   0%|          | 0/3 [00:00<?, ?it/s]"
      ]
     },
     "metadata": {},
     "output_type": "display_data"
    },
    {
     "data": {
      "application/vnd.jupyter.widget-view+json": {
       "model_id": "97873dfb24c7463ca81620ab3bd1bcb5",
       "version_major": 2,
       "version_minor": 0
      },
      "text/plain": [
       "Train 62:   0%|          | 0/85 [00:00<?, ?it/s]"
      ]
     },
     "metadata": {},
     "output_type": "display_data"
    },
    {
     "data": {
      "application/vnd.jupyter.widget-view+json": {
       "model_id": "4fd372617f0e4b1086ac836a4830f6cc",
       "version_major": 2,
       "version_minor": 0
      },
      "text/plain": [
       "Eval AUC:   0%|          | 0/3 [00:00<?, ?it/s]"
      ]
     },
     "metadata": {},
     "output_type": "display_data"
    },
    {
     "data": {
      "application/vnd.jupyter.widget-view+json": {
       "model_id": "5706737fd8664e9a8dc0da7cef7634a9",
       "version_major": 2,
       "version_minor": 0
      },
      "text/plain": [
       "Eval Hits:   0%|          | 0/3 [00:00<?, ?it/s]"
      ]
     },
     "metadata": {},
     "output_type": "display_data"
    },
    {
     "data": {
      "application/vnd.jupyter.widget-view+json": {
       "model_id": "7a6c75ec048849db8d26637a871396fc",
       "version_major": 2,
       "version_minor": 0
      },
      "text/plain": [
       "Train 63:   0%|          | 0/85 [00:00<?, ?it/s]"
      ]
     },
     "metadata": {},
     "output_type": "display_data"
    },
    {
     "data": {
      "application/vnd.jupyter.widget-view+json": {
       "model_id": "32b4bd4ca9304c1687d4b9994addfbed",
       "version_major": 2,
       "version_minor": 0
      },
      "text/plain": [
       "Eval AUC:   0%|          | 0/3 [00:00<?, ?it/s]"
      ]
     },
     "metadata": {},
     "output_type": "display_data"
    },
    {
     "data": {
      "application/vnd.jupyter.widget-view+json": {
       "model_id": "f61f83c07f1b4a6d819bce06f1609e2b",
       "version_major": 2,
       "version_minor": 0
      },
      "text/plain": [
       "Eval Hits:   0%|          | 0/3 [00:00<?, ?it/s]"
      ]
     },
     "metadata": {},
     "output_type": "display_data"
    },
    {
     "data": {
      "application/vnd.jupyter.widget-view+json": {
       "model_id": "2ca6bcb41a5342119251464d4b01ba7e",
       "version_major": 2,
       "version_minor": 0
      },
      "text/plain": [
       "Train 64:   0%|          | 0/85 [00:00<?, ?it/s]"
      ]
     },
     "metadata": {},
     "output_type": "display_data"
    },
    {
     "data": {
      "application/vnd.jupyter.widget-view+json": {
       "model_id": "2318220e62834f9fbb7a601af54894eb",
       "version_major": 2,
       "version_minor": 0
      },
      "text/plain": [
       "Eval AUC:   0%|          | 0/3 [00:00<?, ?it/s]"
      ]
     },
     "metadata": {},
     "output_type": "display_data"
    },
    {
     "data": {
      "application/vnd.jupyter.widget-view+json": {
       "model_id": "d9294d07c1904ac99eaba0076e2dfc11",
       "version_major": 2,
       "version_minor": 0
      },
      "text/plain": [
       "Eval Hits:   0%|          | 0/3 [00:00<?, ?it/s]"
      ]
     },
     "metadata": {},
     "output_type": "display_data"
    },
    {
     "data": {
      "application/vnd.jupyter.widget-view+json": {
       "model_id": "0ac7819797094ad0b3c1ec6ed396582a",
       "version_major": 2,
       "version_minor": 0
      },
      "text/plain": [
       "Train 65:   0%|          | 0/85 [00:00<?, ?it/s]"
      ]
     },
     "metadata": {},
     "output_type": "display_data"
    },
    {
     "data": {
      "application/vnd.jupyter.widget-view+json": {
       "model_id": "f6a395fb47204c39ad0256570f274bda",
       "version_major": 2,
       "version_minor": 0
      },
      "text/plain": [
       "Eval AUC:   0%|          | 0/3 [00:00<?, ?it/s]"
      ]
     },
     "metadata": {},
     "output_type": "display_data"
    },
    {
     "data": {
      "application/vnd.jupyter.widget-view+json": {
       "model_id": "320c406b15cf46e6b6cbae39dff5bb34",
       "version_major": 2,
       "version_minor": 0
      },
      "text/plain": [
       "Eval Hits:   0%|          | 0/3 [00:00<?, ?it/s]"
      ]
     },
     "metadata": {},
     "output_type": "display_data"
    },
    {
     "data": {
      "application/vnd.jupyter.widget-view+json": {
       "model_id": "65e2eb4bfeb242ac96b16fa2d698b6a2",
       "version_major": 2,
       "version_minor": 0
      },
      "text/plain": [
       "Train 66:   0%|          | 0/85 [00:00<?, ?it/s]"
      ]
     },
     "metadata": {},
     "output_type": "display_data"
    },
    {
     "data": {
      "application/vnd.jupyter.widget-view+json": {
       "model_id": "c2438e25ed814e208fc211531ede974d",
       "version_major": 2,
       "version_minor": 0
      },
      "text/plain": [
       "Eval AUC:   0%|          | 0/3 [00:00<?, ?it/s]"
      ]
     },
     "metadata": {},
     "output_type": "display_data"
    },
    {
     "data": {
      "application/vnd.jupyter.widget-view+json": {
       "model_id": "23bf926447c24dd2bb361f339b20e293",
       "version_major": 2,
       "version_minor": 0
      },
      "text/plain": [
       "Eval Hits:   0%|          | 0/3 [00:00<?, ?it/s]"
      ]
     },
     "metadata": {},
     "output_type": "display_data"
    },
    {
     "data": {
      "application/vnd.jupyter.widget-view+json": {
       "model_id": "65e24210ecf84c5a86cbea1a76411794",
       "version_major": 2,
       "version_minor": 0
      },
      "text/plain": [
       "Train 67:   0%|          | 0/85 [00:00<?, ?it/s]"
      ]
     },
     "metadata": {},
     "output_type": "display_data"
    },
    {
     "data": {
      "application/vnd.jupyter.widget-view+json": {
       "model_id": "9de9c9ce25b248f99b98ca225360b394",
       "version_major": 2,
       "version_minor": 0
      },
      "text/plain": [
       "Eval AUC:   0%|          | 0/3 [00:00<?, ?it/s]"
      ]
     },
     "metadata": {},
     "output_type": "display_data"
    },
    {
     "data": {
      "application/vnd.jupyter.widget-view+json": {
       "model_id": "a5c80f5e1c6b455cab077d62a7f7ccb5",
       "version_major": 2,
       "version_minor": 0
      },
      "text/plain": [
       "Eval Hits:   0%|          | 0/3 [00:00<?, ?it/s]"
      ]
     },
     "metadata": {},
     "output_type": "display_data"
    },
    {
     "data": {
      "application/vnd.jupyter.widget-view+json": {
       "model_id": "41adb953a2c14a2aabb002ffa5d83752",
       "version_major": 2,
       "version_minor": 0
      },
      "text/plain": [
       "Train 68:   0%|          | 0/85 [00:00<?, ?it/s]"
      ]
     },
     "metadata": {},
     "output_type": "display_data"
    },
    {
     "data": {
      "application/vnd.jupyter.widget-view+json": {
       "model_id": "5aac92f067d54fe5a81384f08efe879c",
       "version_major": 2,
       "version_minor": 0
      },
      "text/plain": [
       "Eval AUC:   0%|          | 0/3 [00:00<?, ?it/s]"
      ]
     },
     "metadata": {},
     "output_type": "display_data"
    },
    {
     "data": {
      "application/vnd.jupyter.widget-view+json": {
       "model_id": "9460cf8c11bd4171aa3b5cf0f9dc3a13",
       "version_major": 2,
       "version_minor": 0
      },
      "text/plain": [
       "Eval Hits:   0%|          | 0/3 [00:00<?, ?it/s]"
      ]
     },
     "metadata": {},
     "output_type": "display_data"
    },
    {
     "data": {
      "application/vnd.jupyter.widget-view+json": {
       "model_id": "c708d0d5d8e8464288d2dc6c42d29a09",
       "version_major": 2,
       "version_minor": 0
      },
      "text/plain": [
       "Train 69:   0%|          | 0/85 [00:00<?, ?it/s]"
      ]
     },
     "metadata": {},
     "output_type": "display_data"
    },
    {
     "data": {
      "application/vnd.jupyter.widget-view+json": {
       "model_id": "49da3430015d4d54853bafb59ddca28b",
       "version_major": 2,
       "version_minor": 0
      },
      "text/plain": [
       "Eval AUC:   0%|          | 0/3 [00:00<?, ?it/s]"
      ]
     },
     "metadata": {},
     "output_type": "display_data"
    },
    {
     "data": {
      "application/vnd.jupyter.widget-view+json": {
       "model_id": "26b4de532609433e847756d11c9745d5",
       "version_major": 2,
       "version_minor": 0
      },
      "text/plain": [
       "Eval Hits:   0%|          | 0/3 [00:00<?, ?it/s]"
      ]
     },
     "metadata": {},
     "output_type": "display_data"
    },
    {
     "data": {
      "application/vnd.jupyter.widget-view+json": {
       "model_id": "885e940f0cc54cafa2dbb997c62d6dd8",
       "version_major": 2,
       "version_minor": 0
      },
      "text/plain": [
       "Train 70:   0%|          | 0/85 [00:00<?, ?it/s]"
      ]
     },
     "metadata": {},
     "output_type": "display_data"
    },
    {
     "data": {
      "application/vnd.jupyter.widget-view+json": {
       "model_id": "762ca7a3ddec47bd9f890c32ff87ca54",
       "version_major": 2,
       "version_minor": 0
      },
      "text/plain": [
       "Eval AUC:   0%|          | 0/3 [00:00<?, ?it/s]"
      ]
     },
     "metadata": {},
     "output_type": "display_data"
    },
    {
     "data": {
      "application/vnd.jupyter.widget-view+json": {
       "model_id": "cbd31d29eeb94a5cb37642822dd1ebbd",
       "version_major": 2,
       "version_minor": 0
      },
      "text/plain": [
       "Eval Hits:   0%|          | 0/3 [00:00<?, ?it/s]"
      ]
     },
     "metadata": {},
     "output_type": "display_data"
    },
    {
     "data": {
      "application/vnd.jupyter.widget-view+json": {
       "model_id": "0dc198342bb349b6b6f83cd7f5e9d361",
       "version_major": 2,
       "version_minor": 0
      },
      "text/plain": [
       "Train 71:   0%|          | 0/85 [00:00<?, ?it/s]"
      ]
     },
     "metadata": {},
     "output_type": "display_data"
    },
    {
     "data": {
      "application/vnd.jupyter.widget-view+json": {
       "model_id": "3f18123d45d3408a81d3fa3d7b098be9",
       "version_major": 2,
       "version_minor": 0
      },
      "text/plain": [
       "Eval AUC:   0%|          | 0/3 [00:00<?, ?it/s]"
      ]
     },
     "metadata": {},
     "output_type": "display_data"
    },
    {
     "data": {
      "application/vnd.jupyter.widget-view+json": {
       "model_id": "ff93a25c3d5e4d7dad93ee044cbb1340",
       "version_major": 2,
       "version_minor": 0
      },
      "text/plain": [
       "Eval Hits:   0%|          | 0/3 [00:00<?, ?it/s]"
      ]
     },
     "metadata": {},
     "output_type": "display_data"
    },
    {
     "name": "stdout",
     "output_type": "stream",
     "text": [
      "Early stopping at epoch 71 (patience=10).\n",
      "Restored best model from epoch 61 | AUC=0.8227 | Hits@10=0.6918\n",
      "Model Training Results - 2025-10-14 09:32:29\n",
      "================================================================================\n",
      "\n",
      "\n",
      "GIN Training History\n",
      "============================================================\n",
      "\n",
      "Best Validation AUC: 0.8227\n",
      "Total Epochs Trained: 71\n",
      "Early Stopping Best Score: 0.6918 (Hits@10 at epoch 61)\n",
      "\n",
      "------------------------------------------------------------\n",
      "Epoch    Train Loss      Val AUC         Val Hits@10    \n",
      "------------------------------------------------------------\n",
      "1        0.6169          0.6305          0.2810         \n",
      "5        0.4757          0.7628          0.4713         \n",
      "10       0.4440          0.7825          0.5478         \n",
      "15       0.4286          0.7982          0.5948         \n",
      "20       0.4222          0.7994          0.6243         \n",
      "25       0.4169          0.8184          0.6607         \n",
      "30       0.4141          0.8128          0.6475         \n",
      "35       0.4135          0.8085          0.6491         \n",
      "40       0.4108          0.8008          0.6557         \n",
      "45       0.4076          0.8107          0.6721         \n",
      "50       0.4061          0.8070          0.6724         \n",
      "55       0.4069          0.8203          0.6770         \n",
      "60       0.4039          0.8045          0.6696         \n",
      "65       0.4030          0.8046          0.6727         \n",
      "70       0.4039          0.8050          0.6656         \n",
      "\n",
      "\n",
      "✅ Report saved to: /Users/choonggi/Coding/jetbrains/sc4020-Project-1/GIN/results/gin_report_embed_dim=128|mlp_depth=3|aggre=5.txt\n"
     ]
    }
   ],
   "source": [
    "dm = KGDataModuleCollapsed(train_p, valid_p, test_p, add_reverse=True)\n",
    "hidden_layers,num_layers, emb_dim = 3, 5, 128\n",
    "encoder = GINEncoder(num_nodes=len(dm.ent2id), hidden_layers=hidden_layers, emb_dim=emb_dim, num_layers=num_layers, dropout=0.1)\n",
    "\n",
    "result = train_linkpred(\n",
    "    encoder, dm,\n",
    "    epochs=100, lr=1e-3, weight_decay=1e-4, patience=10,\n",
    "    show_tqdm=True,\n",
    "    save_best_path=f\"checkpoints/checkpoints_gin/{dataset}/gin_best_embed_dim={emb_dim}|mlp_depth={hidden_layers}|aggre={num_layers}.pt\",\n",
    "    save_on_improve=True                        # save every improvement\n",
    ")\n",
    "print_training_report(\"GIN\", result, save_path=f\"results/results_gin/{dataset}/gin_report_embed_dim={emb_dim}|mlp_depth={hidden_layers}|aggre={num_layers}.txt\")"
   ]
  },
  {
   "cell_type": "code",
   "execution_count": null,
   "id": "89b3164d1423b109",
   "metadata": {
    "ExecuteTime": {
     "end_time": "2025-10-14T14:39:40.755849Z",
     "start_time": "2025-10-14T14:39:40.752548Z"
    }
   },
   "outputs": [],
   "source": []
  },
  {
   "cell_type": "code",
   "execution_count": null,
   "id": "6c6b1e2c0bcf93a0",
   "metadata": {},
   "outputs": [],
   "source": []
  },
  {
   "metadata": {},
   "cell_type": "markdown",
   "source": "# FB15K-137 training",
   "id": "ae4d9fb40f6140c3"
  },
  {
   "metadata": {},
   "cell_type": "code",
   "outputs": [],
   "execution_count": null,
   "source": [
    "train_p = Path(\"../FB15K-237/train.txt\")\n",
    "valid_p = Path(\"../FB15K-237/valid.txt\")\n",
    "test_p  = Path(\"../FB15K-237/test.txt\")\n",
    "\n",
    "dm = KGDataModuleCollapsed(train_p, valid_p, test_p, add_reverse=True)\n",
    "hidden_layers,num_layers, emb_dim = 2, 4, 128\n",
    "encoder = GINEncoder(num_nodes=len(dm.ent2id), hidden_layers=hidden_layers, emb_dim=emb_dim, num_layers=num_layers, dropout=0.1)\n",
    "\n",
    "result = train_linkpred(\n",
    "    encoder, dm,\n",
    "    epochs=100, lr=1e-3, weight_decay=1e-4, patience=10,\n",
    "    show_tqdm=True,\n",
    "    save_best_path=f\"checkpoints/checkpoints_gin/{dataset}/gin_best_embed_dim={emb_dim}|mlp_depth={hidden_layers}|aggre={num_layers}.pt\",\n",
    "    save_on_improve=True                        # save every improvement\n",
    ")\n",
    "print_training_report(\"GIN\", result, save_path=f\"results/results_gin/{dataset}/gin_report_embed_dim={emb_dim}|mlp_depth={hidden_layers}|aggre={num_layers}.txt\")\n",
    "\n",
    "dm = KGDataModuleCollapsed(train_p, valid_p, test_p, add_reverse=True)\n",
    "hidden_layers,num_layers, emb_dim = 4, 4, 128\n",
    "encoder = GINEncoder(num_nodes=len(dm.ent2id), hidden_layers=hidden_layers, emb_dim=emb_dim, num_layers=num_layers, dropout=0.1)\n",
    "\n",
    "result = train_linkpred(\n",
    "    encoder, dm,\n",
    "    epochs=100, lr=1e-3, weight_decay=1e-4, patience=10,\n",
    "    show_tqdm=True,\n",
    "    save_best_path=f\"checkpoints/checkpoints_gin/{dataset}/gin_best_embed_dim={emb_dim}|mlp_depth={hidden_layers}|aggre={num_layers}.pt\",\n",
    "    save_on_improve=True                        # save every improvement\n",
    ")\n",
    "print_training_report(\"GIN\", result, save_path=f\"results/results_gin/{dataset}/gin_report_embed_dim={emb_dim}|mlp_depth={hidden_layers}|aggre={num_layers}.txt\")\n",
    "\n",
    "dm = KGDataModuleCollapsed(train_p, valid_p, test_p, add_reverse=True)\n",
    "hidden_layers,num_layers, emb_dim = 3, 3, 128\n",
    "encoder = GINEncoder(num_nodes=len(dm.ent2id), hidden_layers=hidden_layers, emb_dim=emb_dim, num_layers=num_layers, dropout=0.1)\n",
    "\n",
    "result = train_linkpred(\n",
    "    encoder, dm,\n",
    "    epochs=100, lr=1e-3, weight_decay=1e-4, patience=10,\n",
    "    show_tqdm=True,\n",
    "    save_best_path=f\"checkpoints/checkpoints_gin/{dataset}/gin_best_embed_dim={emb_dim}|mlp_depth={hidden_layers}|aggre={num_layers}.pt\",\n",
    "    save_on_improve=True                        # save every improvement\n",
    ")\n",
    "print_training_report(\"GIN\", result, save_path=f\"results/results_gin/{dataset}/gin_report_embed_dim={emb_dim}|mlp_depth={hidden_layers}|aggre={num_layers}.txt\")\n",
    "\n",
    "dm = KGDataModuleCollapsed(train_p, valid_p, test_p, add_reverse=True)\n",
    "hidden_layers,num_layers, emb_dim = 3, 5, 128\n",
    "encoder = GINEncoder(num_nodes=len(dm.ent2id), hidden_layers=hidden_layers, emb_dim=emb_dim, num_layers=num_layers, dropout=0.1)\n",
    "\n",
    "result = train_linkpred(\n",
    "    encoder, dm,\n",
    "    epochs=100, lr=1e-3, weight_decay=1e-4, patience=10,\n",
    "    show_tqdm=True,\n",
    "    save_best_path=f\"checkpoints/checkpoints_gin/{dataset}/gin_best_embed_dim={emb_dim}|mlp_depth={hidden_layers}|aggre={num_layers}.pt\",\n",
    "    save_on_improve=True                        # save every improvement\n",
    ")\n",
    "print_training_report(\"GIN\", result, save_path=f\"results/results_gin/{dataset}/gin_report_embed_dim={emb_dim}|mlp_depth={hidden_layers}|aggre={num_layers}.txt\")"
   ],
   "id": "1e30e0a628b9b375"
  }
 ],
 "metadata": {
  "kernelspec": {
   "display_name": "py311 WN18RR",
   "language": "python",
   "name": "py311"
  },
  "language_info": {
   "codemirror_mode": {
    "name": "ipython",
    "version": 3
   },
   "file_extension": ".py",
   "mimetype": "text/x-python",
   "name": "python",
   "nbconvert_exporter": "python",
   "pygments_lexer": "ipython3",
   "version": "3.11.13"
  }
 },
 "nbformat": 4,
 "nbformat_minor": 5
}
